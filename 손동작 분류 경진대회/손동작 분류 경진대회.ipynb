{
 "cells": [
  {
   "cell_type": "code",
   "execution_count": 1,
   "id": "9a2ed470",
   "metadata": {},
   "outputs": [],
   "source": [
    "import pandas as pd\n",
    "import warnings\n",
    "warnings.filterwarnings(action='ignore')\n",
    "\n",
    "train = pd.read_csv('./train.csv')\n",
    "test = pd.read_csv('./test.csv')\n",
    "submission = pd.read_csv('./sample_submission.csv')"
   ]
  },
  {
   "cell_type": "code",
   "execution_count": 2,
   "id": "9a3b34b8",
   "metadata": {
    "scrolled": true
   },
   "outputs": [
    {
     "name": "stdout",
     "output_type": "stream",
     "text": [
      "<class 'pandas.core.frame.DataFrame'>\n",
      "RangeIndex: 2335 entries, 0 to 2334\n",
      "Data columns (total 34 columns):\n",
      " #   Column     Non-Null Count  Dtype  \n",
      "---  ------     --------------  -----  \n",
      " 0   id         2335 non-null   int64  \n",
      " 1   sensor_1   2335 non-null   float64\n",
      " 2   sensor_2   2335 non-null   float64\n",
      " 3   sensor_3   2335 non-null   float64\n",
      " 4   sensor_4   2335 non-null   float64\n",
      " 5   sensor_5   2335 non-null   float64\n",
      " 6   sensor_6   2335 non-null   float64\n",
      " 7   sensor_7   2335 non-null   float64\n",
      " 8   sensor_8   2335 non-null   float64\n",
      " 9   sensor_9   2335 non-null   float64\n",
      " 10  sensor_10  2335 non-null   float64\n",
      " 11  sensor_11  2335 non-null   float64\n",
      " 12  sensor_12  2335 non-null   float64\n",
      " 13  sensor_13  2335 non-null   float64\n",
      " 14  sensor_14  2335 non-null   float64\n",
      " 15  sensor_15  2335 non-null   float64\n",
      " 16  sensor_16  2335 non-null   float64\n",
      " 17  sensor_17  2335 non-null   float64\n",
      " 18  sensor_18  2335 non-null   float64\n",
      " 19  sensor_19  2335 non-null   float64\n",
      " 20  sensor_20  2335 non-null   float64\n",
      " 21  sensor_21  2335 non-null   float64\n",
      " 22  sensor_22  2335 non-null   float64\n",
      " 23  sensor_23  2335 non-null   float64\n",
      " 24  sensor_24  2335 non-null   float64\n",
      " 25  sensor_25  2335 non-null   float64\n",
      " 26  sensor_26  2335 non-null   float64\n",
      " 27  sensor_27  2335 non-null   float64\n",
      " 28  sensor_28  2335 non-null   float64\n",
      " 29  sensor_29  2335 non-null   float64\n",
      " 30  sensor_30  2335 non-null   float64\n",
      " 31  sensor_31  2335 non-null   float64\n",
      " 32  sensor_32  2335 non-null   float64\n",
      " 33  target     2335 non-null   int64  \n",
      "dtypes: float64(32), int64(2)\n",
      "memory usage: 620.4 KB\n"
     ]
    }
   ],
   "source": [
    "train.info()"
   ]
  },
  {
   "cell_type": "code",
   "execution_count": 3,
   "id": "d678ad1c",
   "metadata": {},
   "outputs": [
    {
     "name": "stdout",
     "output_type": "stream",
     "text": [
      "(2335, 32) (2335,) (9343, 32)\n"
     ]
    }
   ],
   "source": [
    "train_X = train.drop(['id','target'],axis=1)\n",
    "train_y = train.target\n",
    "\n",
    "test_X = test.drop(['id'],axis=1)\n",
    "\n",
    "print(train_X.shape, train_y.shape, test_X.shape)"
   ]
  },
  {
   "cell_type": "code",
   "execution_count": 4,
   "id": "3dc7b39b",
   "metadata": {},
   "outputs": [
    {
     "name": "stdout",
     "output_type": "stream",
     "text": [
      "(1868, 32) (467, 32) (1868,) (467,)\n"
     ]
    }
   ],
   "source": [
    "from sklearn.model_selection import train_test_split\n",
    "x_train, x_test, y_train, y_test = train_test_split(train_X, train_y, test_size = 0.2, random_state = 0)\n",
    "print(x_train.shape, x_test.shape, y_train.shape, y_test.shape)"
   ]
  },
  {
   "cell_type": "code",
   "execution_count": 5,
   "id": "e9d7da26",
   "metadata": {},
   "outputs": [
    {
     "name": "stdout",
     "output_type": "stream",
     "text": [
      "최적 하이퍼 파라미터:  {'max_depth': 24, 'min_samples_leaf': 2, 'min_samples_split': 2, 'n_estimators': 140}\n",
      "최고 예측 정확도: 0.7613\n"
     ]
    }
   ],
   "source": [
    "from sklearn.ensemble import RandomForestClassifier\n",
    "from sklearn.metrics import accuracy_score\n",
    "from sklearn.model_selection import GridSearchCV\n",
    "\n",
    "params = { 'n_estimators' : [100, 120, 140],\n",
    "           'max_depth' : [16, 20, 24],\n",
    "           'min_samples_leaf' : [2, 4],\n",
    "           'min_samples_split' : [2, 4]\n",
    "            }\n",
    "\n",
    "rf_clf = RandomForestClassifier()\n",
    "grid_cv = GridSearchCV(rf_clf, param_grid = params, cv = 5, n_jobs = -1)\n",
    "grid_cv.fit(x_train, y_train)\n",
    "\n",
    "print('최적 하이퍼 파라미터: ', grid_cv.best_params_)\n",
    "print('최고 예측 정확도: {:.4f}'.format(grid_cv.best_score_))"
   ]
  },
  {
   "cell_type": "code",
   "execution_count": 6,
   "id": "83baf2c5",
   "metadata": {},
   "outputs": [
    {
     "name": "stdout",
     "output_type": "stream",
     "text": [
      "0.7558886509635975\n"
     ]
    }
   ],
   "source": [
    "rf_clf = RandomForestClassifier(n_estimators=140, \n",
    "                                max_depth=24, \n",
    "                                min_samples_leaf=2,\n",
    "                                min_samples_split=4,\n",
    "                                random_state=0, n_jobs = -1)\n",
    "rf_clf.fit(x_train, y_train)\n",
    "\n",
    "predict = rf_clf.predict(x_test)\n",
    "print(accuracy_score(y_test,predict))"
   ]
  },
  {
   "cell_type": "code",
   "execution_count": 7,
   "id": "d889bfbc",
   "metadata": {
    "scrolled": true
   },
   "outputs": [
    {
     "data": {
      "text/html": [
       "<div>\n",
       "<style scoped>\n",
       "    .dataframe tbody tr th:only-of-type {\n",
       "        vertical-align: middle;\n",
       "    }\n",
       "\n",
       "    .dataframe tbody tr th {\n",
       "        vertical-align: top;\n",
       "    }\n",
       "\n",
       "    .dataframe thead th {\n",
       "        text-align: right;\n",
       "    }\n",
       "</style>\n",
       "<table border=\"1\" class=\"dataframe\">\n",
       "  <thead>\n",
       "    <tr style=\"text-align: right;\">\n",
       "      <th></th>\n",
       "      <th>id</th>\n",
       "      <th>target</th>\n",
       "    </tr>\n",
       "  </thead>\n",
       "  <tbody>\n",
       "    <tr>\n",
       "      <th>0</th>\n",
       "      <td>1</td>\n",
       "      <td>0</td>\n",
       "    </tr>\n",
       "    <tr>\n",
       "      <th>1</th>\n",
       "      <td>2</td>\n",
       "      <td>0</td>\n",
       "    </tr>\n",
       "    <tr>\n",
       "      <th>2</th>\n",
       "      <td>3</td>\n",
       "      <td>1</td>\n",
       "    </tr>\n",
       "    <tr>\n",
       "      <th>3</th>\n",
       "      <td>4</td>\n",
       "      <td>3</td>\n",
       "    </tr>\n",
       "    <tr>\n",
       "      <th>4</th>\n",
       "      <td>5</td>\n",
       "      <td>2</td>\n",
       "    </tr>\n",
       "    <tr>\n",
       "      <th>...</th>\n",
       "      <td>...</td>\n",
       "      <td>...</td>\n",
       "    </tr>\n",
       "    <tr>\n",
       "      <th>9338</th>\n",
       "      <td>9339</td>\n",
       "      <td>3</td>\n",
       "    </tr>\n",
       "    <tr>\n",
       "      <th>9339</th>\n",
       "      <td>9340</td>\n",
       "      <td>1</td>\n",
       "    </tr>\n",
       "    <tr>\n",
       "      <th>9340</th>\n",
       "      <td>9341</td>\n",
       "      <td>0</td>\n",
       "    </tr>\n",
       "    <tr>\n",
       "      <th>9341</th>\n",
       "      <td>9342</td>\n",
       "      <td>0</td>\n",
       "    </tr>\n",
       "    <tr>\n",
       "      <th>9342</th>\n",
       "      <td>9343</td>\n",
       "      <td>3</td>\n",
       "    </tr>\n",
       "  </tbody>\n",
       "</table>\n",
       "<p>9343 rows × 2 columns</p>\n",
       "</div>"
      ],
      "text/plain": [
       "        id  target\n",
       "0        1       0\n",
       "1        2       0\n",
       "2        3       1\n",
       "3        4       3\n",
       "4        5       2\n",
       "...    ...     ...\n",
       "9338  9339       3\n",
       "9339  9340       1\n",
       "9340  9341       0\n",
       "9341  9342       0\n",
       "9342  9343       3\n",
       "\n",
       "[9343 rows x 2 columns]"
      ]
     },
     "execution_count": 7,
     "metadata": {},
     "output_type": "execute_result"
    }
   ],
   "source": [
    "pred = rf_clf.predict(test_X)\n",
    "\n",
    "submission['target'] = pred\n",
    "submission"
   ]
  },
  {
   "cell_type": "code",
   "execution_count": 8,
   "id": "85b6ae54",
   "metadata": {},
   "outputs": [],
   "source": [
    "submission.to_csv('./submit_rf_clf.csv',index=False)"
   ]
  },
  {
   "cell_type": "code",
   "execution_count": 9,
   "id": "cfff1e25",
   "metadata": {},
   "outputs": [
    {
     "name": "stdout",
     "output_type": "stream",
     "text": [
      "Epoch 1/10\n",
      "117/117 [==============================] - 1s 3ms/step - loss: 3.1629 - accuracy: 0.3400\n",
      "Epoch 2/10\n",
      "117/117 [==============================] - 0s 2ms/step - loss: 1.3222 - accuracy: 0.5032\n",
      "Epoch 3/10\n",
      "117/117 [==============================] - 0s 4ms/step - loss: 0.9754 - accuracy: 0.6009\n",
      "Epoch 4/10\n",
      "117/117 [==============================] - 0s 3ms/step - loss: 0.7918 - accuracy: 0.6792\n",
      "Epoch 5/10\n",
      "117/117 [==============================] - 0s 3ms/step - loss: 0.6622 - accuracy: 0.7281\n",
      "Epoch 6/10\n",
      "117/117 [==============================] - 0s 3ms/step - loss: 0.5707 - accuracy: 0.7769\n",
      "Epoch 7/10\n",
      "117/117 [==============================] - 0s 2ms/step - loss: 0.4978 - accuracy: 0.8077\n",
      "Epoch 8/10\n",
      "117/117 [==============================] - 0s 2ms/step - loss: 0.4392 - accuracy: 0.8377\n",
      "Epoch 9/10\n",
      "117/117 [==============================] - 0s 3ms/step - loss: 0.3907 - accuracy: 0.8552\n",
      "Epoch 10/10\n",
      "117/117 [==============================] - 0s 2ms/step - loss: 0.3413 - accuracy: 0.8818\n",
      "73/73 [==============================] - 0s 2ms/step - loss: 0.2760 - accuracy: 0.9169\n",
      "\n",
      " Accuracy: 0.9169\n"
     ]
    }
   ],
   "source": [
    "import numpy as np\n",
    "import tensorflow as tf\n",
    "from tensorflow.keras import Sequential\n",
    "from tensorflow.keras.layers import Dense\n",
    "\n",
    "model = Sequential()\n",
    "model.add(Dense(120, input_dim=32, activation='relu'))\n",
    "model.add(Dense(24, activation='relu'))\n",
    "model.add(Dense(4, activation='softmax'))\n",
    "\n",
    "model.compile(loss='sparse_categorical_crossentropy', optimizer='adam', \n",
    "              metrics=['accuracy'])\n",
    "\n",
    "model.fit(train_X, train_y, epochs=10, batch_size=20)\n",
    "\n",
    "print('\\n Accuracy: %.4f'%(model.evaluate(train_X, train_y)[1]))"
   ]
  },
  {
   "cell_type": "code",
   "execution_count": 10,
   "id": "a73a9593",
   "metadata": {},
   "outputs": [
    {
     "data": {
      "text/html": [
       "<div>\n",
       "<style scoped>\n",
       "    .dataframe tbody tr th:only-of-type {\n",
       "        vertical-align: middle;\n",
       "    }\n",
       "\n",
       "    .dataframe tbody tr th {\n",
       "        vertical-align: top;\n",
       "    }\n",
       "\n",
       "    .dataframe thead th {\n",
       "        text-align: right;\n",
       "    }\n",
       "</style>\n",
       "<table border=\"1\" class=\"dataframe\">\n",
       "  <thead>\n",
       "    <tr style=\"text-align: right;\">\n",
       "      <th></th>\n",
       "      <th>id</th>\n",
       "      <th>target</th>\n",
       "    </tr>\n",
       "  </thead>\n",
       "  <tbody>\n",
       "    <tr>\n",
       "      <th>0</th>\n",
       "      <td>1</td>\n",
       "      <td>0</td>\n",
       "    </tr>\n",
       "    <tr>\n",
       "      <th>1</th>\n",
       "      <td>2</td>\n",
       "      <td>1</td>\n",
       "    </tr>\n",
       "    <tr>\n",
       "      <th>2</th>\n",
       "      <td>3</td>\n",
       "      <td>0</td>\n",
       "    </tr>\n",
       "    <tr>\n",
       "      <th>3</th>\n",
       "      <td>4</td>\n",
       "      <td>3</td>\n",
       "    </tr>\n",
       "    <tr>\n",
       "      <th>4</th>\n",
       "      <td>5</td>\n",
       "      <td>2</td>\n",
       "    </tr>\n",
       "    <tr>\n",
       "      <th>...</th>\n",
       "      <td>...</td>\n",
       "      <td>...</td>\n",
       "    </tr>\n",
       "    <tr>\n",
       "      <th>9338</th>\n",
       "      <td>9339</td>\n",
       "      <td>3</td>\n",
       "    </tr>\n",
       "    <tr>\n",
       "      <th>9339</th>\n",
       "      <td>9340</td>\n",
       "      <td>1</td>\n",
       "    </tr>\n",
       "    <tr>\n",
       "      <th>9340</th>\n",
       "      <td>9341</td>\n",
       "      <td>2</td>\n",
       "    </tr>\n",
       "    <tr>\n",
       "      <th>9341</th>\n",
       "      <td>9342</td>\n",
       "      <td>0</td>\n",
       "    </tr>\n",
       "    <tr>\n",
       "      <th>9342</th>\n",
       "      <td>9343</td>\n",
       "      <td>3</td>\n",
       "    </tr>\n",
       "  </tbody>\n",
       "</table>\n",
       "<p>9343 rows × 2 columns</p>\n",
       "</div>"
      ],
      "text/plain": [
       "        id  target\n",
       "0        1       0\n",
       "1        2       1\n",
       "2        3       0\n",
       "3        4       3\n",
       "4        5       2\n",
       "...    ...     ...\n",
       "9338  9339       3\n",
       "9339  9340       1\n",
       "9340  9341       2\n",
       "9341  9342       0\n",
       "9342  9343       3\n",
       "\n",
       "[9343 rows x 2 columns]"
      ]
     },
     "execution_count": 10,
     "metadata": {},
     "output_type": "execute_result"
    }
   ],
   "source": [
    "pred = model.predict(test_X)\n",
    "predicted = pred.argmax(axis=-1)\n",
    "submission['target'] = predicted\n",
    "submission"
   ]
  },
  {
   "cell_type": "code",
   "execution_count": 11,
   "id": "54ffe123",
   "metadata": {},
   "outputs": [],
   "source": [
    "submission.to_csv('./submit_tf.csv',index=False)"
   ]
  },
  {
   "cell_type": "code",
   "execution_count": 12,
   "id": "439509dd",
   "metadata": {},
   "outputs": [],
   "source": [
    "from sklearn.preprocessing import MinMaxScaler\n",
    "\n",
    "scaler = MinMaxScaler()\n",
    "train_x = scaler.fit_transform(train_X)"
   ]
  },
  {
   "cell_type": "code",
   "execution_count": 13,
   "id": "2bdf7256",
   "metadata": {},
   "outputs": [],
   "source": [
    "from sklearn.ensemble import GradientBoostingClassifier\n",
    "from sklearn.ensemble import ExtraTreesClassifier\n",
    "\n",
    "clfs = []\n",
    "\n",
    "rf = RandomForestClassifier()\n",
    "clfs.append(rf)\n",
    "\n",
    "gbc = GradientBoostingClassifier()\n",
    "clfs.append(gbc)\n",
    "\n",
    "etc = ExtraTreesClassifier()\n",
    "clfs.append(etc)\n",
    "\n",
    "params = []\n",
    "\n",
    "params_rf = {'n_estimators' : [100, 120, 140],\n",
    "            'min_samples_split' : [2, 4, 6]}\n",
    "params.append(params_rf)\n",
    "\n",
    "params_gbc = {'learning_rate':[0.1, 0.12, 0.14, 0.16],\n",
    "             'n_estimators':[100, 120, 140]}\n",
    "params.append(params_gbc)\n",
    "\n",
    "params_etc = {'n_estimators' : [100, 120, 140]}\n",
    "params.append(params_etc)"
   ]
  },
  {
   "cell_type": "code",
   "execution_count": 14,
   "id": "be509945",
   "metadata": {},
   "outputs": [
    {
     "name": "stderr",
     "output_type": "stream",
     "text": [
      "  0%|          | 0/3 [00:00<?, ?it/s]"
     ]
    },
    {
     "name": "stdout",
     "output_type": "stream",
     "text": [
      "Fitting 5 folds for each of 9 candidates, totalling 45 fits\n"
     ]
    },
    {
     "name": "stderr",
     "output_type": "stream",
     "text": [
      " 33%|███▎      | 1/3 [00:35<01:11, 35.91s/it]"
     ]
    },
    {
     "name": "stdout",
     "output_type": "stream",
     "text": [
      "Fitting 5 folds for each of 12 candidates, totalling 60 fits\n"
     ]
    },
    {
     "name": "stderr",
     "output_type": "stream",
     "text": [
      " 67%|██████▋   | 2/3 [05:42<03:14, 194.92s/it]"
     ]
    },
    {
     "name": "stdout",
     "output_type": "stream",
     "text": [
      "Fitting 5 folds for each of 3 candidates, totalling 15 fits\n"
     ]
    },
    {
     "name": "stderr",
     "output_type": "stream",
     "text": [
      "100%|██████████| 3/3 [05:53<00:00, 117.86s/it]\n"
     ]
    }
   ],
   "source": [
    "from tqdm.auto import tqdm\n",
    "\n",
    "def gridSearchCV(models,params):\n",
    "    best_models=[]\n",
    "    for i in tqdm(range(0,len(models))):\n",
    "        model_grid = GridSearchCV(models[i], params[i], n_jobs = -1,verbose=1, cv=5)\n",
    "        model_grid.fit(train_x,train_y)\n",
    "        best_models.append(model_grid.best_estimator_)\n",
    "    return best_models\n",
    "\n",
    "best_model_list = gridSearchCV(clfs,params)"
   ]
  },
  {
   "cell_type": "code",
   "execution_count": 15,
   "id": "abb6e1e4",
   "metadata": {},
   "outputs": [
    {
     "data": {
      "text/plain": [
       "[RandomForestClassifier(min_samples_split=4, n_estimators=140),\n",
       " GradientBoostingClassifier(learning_rate=0.14, n_estimators=140),\n",
       " ExtraTreesClassifier(n_estimators=120)]"
      ]
     },
     "execution_count": 15,
     "metadata": {},
     "output_type": "execute_result"
    }
   ],
   "source": [
    "best_model_list"
   ]
  },
  {
   "cell_type": "code",
   "execution_count": 16,
   "id": "c3f83c45",
   "metadata": {
    "scrolled": false
   },
   "outputs": [
    {
     "data": {
      "text/plain": [
       "VotingClassifier(estimators=[('rf',\n",
       "                              RandomForestClassifier(min_samples_split=6,\n",
       "                                                     n_estimators=120)),\n",
       "                             ('GBR',\n",
       "                              GradientBoostingClassifier(learning_rate=0.14,\n",
       "                                                         n_estimators=140)),\n",
       "                             ('ET', ExtraTreesClassifier(n_estimators=120))],\n",
       "                 voting='soft')"
      ]
     },
     "execution_count": 16,
     "metadata": {},
     "output_type": "execute_result"
    }
   ],
   "source": [
    "best_models = [\n",
    "    ('rf', RandomForestClassifier(min_samples_split=6, n_estimators=120)),\n",
    "    ('GBR',GradientBoostingClassifier(learning_rate=0.14, n_estimators=140)),\n",
    "    ('ET', ExtraTreesClassifier(n_estimators=120))\n",
    "]\n",
    "\n",
    "from sklearn.ensemble import VotingClassifier\n",
    "\n",
    "voting_clf = VotingClassifier(estimators=best_models, voting='soft')\n",
    "voting_clf.fit(train_x,train_y)"
   ]
  },
  {
   "cell_type": "code",
   "execution_count": 17,
   "id": "6f8a07a3",
   "metadata": {},
   "outputs": [
    {
     "data": {
      "text/html": [
       "<div>\n",
       "<style scoped>\n",
       "    .dataframe tbody tr th:only-of-type {\n",
       "        vertical-align: middle;\n",
       "    }\n",
       "\n",
       "    .dataframe tbody tr th {\n",
       "        vertical-align: top;\n",
       "    }\n",
       "\n",
       "    .dataframe thead th {\n",
       "        text-align: right;\n",
       "    }\n",
       "</style>\n",
       "<table border=\"1\" class=\"dataframe\">\n",
       "  <thead>\n",
       "    <tr style=\"text-align: right;\">\n",
       "      <th></th>\n",
       "      <th>id</th>\n",
       "      <th>target</th>\n",
       "    </tr>\n",
       "  </thead>\n",
       "  <tbody>\n",
       "    <tr>\n",
       "      <th>0</th>\n",
       "      <td>1</td>\n",
       "      <td>0</td>\n",
       "    </tr>\n",
       "    <tr>\n",
       "      <th>1</th>\n",
       "      <td>2</td>\n",
       "      <td>0</td>\n",
       "    </tr>\n",
       "    <tr>\n",
       "      <th>2</th>\n",
       "      <td>3</td>\n",
       "      <td>1</td>\n",
       "    </tr>\n",
       "    <tr>\n",
       "      <th>3</th>\n",
       "      <td>4</td>\n",
       "      <td>3</td>\n",
       "    </tr>\n",
       "    <tr>\n",
       "      <th>4</th>\n",
       "      <td>5</td>\n",
       "      <td>2</td>\n",
       "    </tr>\n",
       "    <tr>\n",
       "      <th>...</th>\n",
       "      <td>...</td>\n",
       "      <td>...</td>\n",
       "    </tr>\n",
       "    <tr>\n",
       "      <th>9338</th>\n",
       "      <td>9339</td>\n",
       "      <td>3</td>\n",
       "    </tr>\n",
       "    <tr>\n",
       "      <th>9339</th>\n",
       "      <td>9340</td>\n",
       "      <td>1</td>\n",
       "    </tr>\n",
       "    <tr>\n",
       "      <th>9340</th>\n",
       "      <td>9341</td>\n",
       "      <td>2</td>\n",
       "    </tr>\n",
       "    <tr>\n",
       "      <th>9341</th>\n",
       "      <td>9342</td>\n",
       "      <td>0</td>\n",
       "    </tr>\n",
       "    <tr>\n",
       "      <th>9342</th>\n",
       "      <td>9343</td>\n",
       "      <td>3</td>\n",
       "    </tr>\n",
       "  </tbody>\n",
       "</table>\n",
       "<p>9343 rows × 2 columns</p>\n",
       "</div>"
      ],
      "text/plain": [
       "        id  target\n",
       "0        1       0\n",
       "1        2       0\n",
       "2        3       1\n",
       "3        4       3\n",
       "4        5       2\n",
       "...    ...     ...\n",
       "9338  9339       3\n",
       "9339  9340       1\n",
       "9340  9341       2\n",
       "9341  9342       0\n",
       "9342  9343       3\n",
       "\n",
       "[9343 rows x 2 columns]"
      ]
     },
     "execution_count": 17,
     "metadata": {},
     "output_type": "execute_result"
    }
   ],
   "source": [
    "test_x = scaler.transform(test_X)\n",
    "predictions = voting_clf.predict(test_x)\n",
    "submission.target = predictions\n",
    "submission"
   ]
  },
  {
   "cell_type": "code",
   "execution_count": 18,
   "id": "9923b4d5",
   "metadata": {},
   "outputs": [],
   "source": [
    "submission.to_csv(\"./submit_voting_clf.csv\",index = False)"
   ]
  },
  {
   "cell_type": "code",
   "execution_count": 19,
   "id": "9a41b39a",
   "metadata": {},
   "outputs": [],
   "source": [
    "# Basic Library\n",
    "import pandas as pd\n",
    "import numpy as np\n",
    "import os\n",
    "\n",
    "# Preprocessing\n",
    "from sklearn.preprocessing import OneHotEncoder\n",
    "\n",
    "# HP Tuning\n",
    "import optuna\n",
    "from optuna import Trial\n",
    "from optuna.samplers import TPESampler\n",
    "from optuna.visualization import plot_contour, plot_optimization_history\n",
    "from optuna.visualization import plot_parallel_coordinate, plot_slice, plot_param_importances\n",
    "\n",
    "# Modeling\n",
    "from sklearn.model_selection import StratifiedKFold\n",
    "from sklearn.metrics import accuracy_score, log_loss\n",
    "import tensorflow as tf\n",
    "import keras\n",
    "from tensorflow.keras.layers import Conv2D, BatchNormalization, Dropout, Dense, GlobalAveragePooling2D\n",
    "from tensorflow.keras.models import Sequential, load_model\n",
    "from tensorflow.keras.optimizers import Adam\n",
    "from tensorflow.keras.callbacks import EarlyStopping, ModelCheckpoint\n",
    "os.environ['TF_CPP_MIN_LOG_LEVEL'] = '3'"
   ]
  },
  {
   "cell_type": "code",
   "execution_count": 20,
   "id": "dee5e2ac",
   "metadata": {},
   "outputs": [],
   "source": [
    "train_x = train.iloc[:, 1:-1]\n",
    "test_x = test.iloc[:, 1:]\n",
    "\n",
    "train_x = np.array(train_x).reshape(-1, 8, 4, 1)\n",
    "test_x = np.array(test_x).reshape(-1, 8, 4, 1)\n",
    "\n",
    "ohe = OneHotEncoder(sparse = False)\n",
    "train_y = ohe.fit_transform(train[['target']])"
   ]
  },
  {
   "cell_type": "code",
   "execution_count": 21,
   "id": "a0ecb8e4",
   "metadata": {},
   "outputs": [],
   "source": [
    "def create_model(num_layer, mid_units, num_filters):\n",
    "    \n",
    "    model = Sequential()\n",
    "    model.add(Conv2D(filters=num_filters[0], kernel_size=(2, 2),\n",
    "                 activation=\"elu\",\n",
    "                 input_shape=(8, 4, 1)))\n",
    "    model.add(BatchNormalization())\n",
    "    #model.add(Dropout(dropout_rate[0]))\n",
    "    for i in range(1,num_layer):\n",
    "        model.add(Conv2D(filters=num_filters[i], kernel_size=(2, 2), padding=\"same\", activation=\"elu\"))\n",
    "        model.add(BatchNormalization())\n",
    "        #model.add(Dropout(dropout_rate[i+1]))\n",
    "            \n",
    "    model.add(GlobalAveragePooling2D())\n",
    "    model.add(Dense(mid_units, activation='relu'))\n",
    "    #model.add(Dropout(dropout_rate[-1]))\n",
    "    model.add(Dense(4, activation='softmax'))\n",
    "    \n",
    "    return model"
   ]
  },
  {
   "cell_type": "code",
   "execution_count": 22,
   "id": "9e4e321b",
   "metadata": {},
   "outputs": [],
   "source": [
    "def cnn_objective(trial: Trial) -> float:\n",
    "    \n",
    "    #clear_session\n",
    "    keras.backend.clear_session()\n",
    "    \n",
    "    #number of the convolution layer\n",
    "    num_layer = trial.suggest_int(\"num_layer\", 2, 3)\n",
    "    \n",
    "    #number of the unit\n",
    "    mid_units = int(trial.suggest_discrete_uniform(\"mid_units\", 30, 150, 10))\n",
    "    \n",
    "    #number of the each convolution layer filter\n",
    "    num_filters = [int(trial.suggest_discrete_uniform(\"num_filter_\"+str(i), 16, 256, 16)) for i in range(num_layer)]\n",
    "\n",
    "    #Dropout\n",
    "    #dropout_rate = trial.suggest_uniform('dropout_rate', 0.0, 0.5)\n",
    "    #dropout_rate = [int(trial.suggest_uniform(\"dropout_rate\"+str(ii), 0.0, 0.5)) for ii in range(num_layer+1)]\n",
    "    \n",
    "        \n",
    "    seed = 42\n",
    "    kfold = StratifiedKFold(n_splits=5, random_state = seed, shuffle = True) # Cross-validation cv=5\n",
    "    es = EarlyStopping(monitor=\"val_acc\", patience=5, mode=\"max\", verbose=0)\n",
    "    cv = np.zeros((train_x.shape[0], 4))\n",
    "\n",
    "    for n, (train_idx, val_idx) in enumerate(kfold.split(train_x, train.target)):\n",
    "\n",
    "        x_train, y_train = train_x[train_idx], train_y[train_idx]\n",
    "        x_val, y_val = train_x[val_idx], train_y[val_idx]\n",
    "        \n",
    "        mc = ModelCheckpoint(f\"model_{n+1}.h5\", save_best_only=True, monitor=\"val_acc\", mode=\"max\", verbose=0)\n",
    "        \n",
    "        model = create_model(num_layer, mid_units, num_filters)\n",
    "        \n",
    "        # Adam optimizer learning rate\n",
    "        optimizer = Adam(learning_rate=trial.suggest_uniform(\"learning_rate\", 0.0005, 0.005))\n",
    "        model.compile(optimizer=optimizer,\n",
    "                      loss=\"categorical_crossentropy\",\n",
    "                      metrics=[\"acc\"])\n",
    "        model.fit(x_train, y_train, validation_data=(x_val, y_val), epochs=100, batch_size=32, \n",
    "                  callbacks=[es,mc], verbose=None)\n",
    "        \n",
    "        best = load_model(f\"model_{n+1}.h5\")\n",
    "        \n",
    "        cv[val_idx, :] = best.predict(x_val)\n",
    "        \n",
    "    print('multi_logloss:', log_loss(train_y, cv))\n",
    "    print('accuracy_score:', accuracy_score(np.argmax(train_y, axis=1), np.argmax(cv, axis=1)))\n",
    "\n",
    "    \n",
    "    return accuracy_score(np.argmax(train_y, axis=1), np.argmax(cv, axis=1))"
   ]
  },
  {
   "cell_type": "code",
   "execution_count": 23,
   "id": "f28d0100",
   "metadata": {
    "scrolled": true
   },
   "outputs": [
    {
     "name": "stderr",
     "output_type": "stream",
     "text": [
      "\u001b[32m[I 2022-03-20 21:01:04,335]\u001b[0m A new study created in memory with name: cnn_parameter_opt\u001b[0m\n",
      "\u001b[32m[I 2022-03-20 21:04:19,096]\u001b[0m Trial 0 finished with value: 0.8775160599571734 and parameters: {'num_layer': 2, 'mid_units': 150.0, 'num_filter_0': 192.0, 'num_filter_1': 160.0, 'learning_rate': 0.0012020838819909643}. Best is trial 0 with value: 0.8775160599571734.\u001b[0m\n"
     ]
    },
    {
     "name": "stdout",
     "output_type": "stream",
     "text": [
      "multi_logloss: 0.36132172008003466\n",
      "accuracy_score: 0.8775160599571734\n",
      "multi_logloss: 0.3966079091947349\n",
      "accuracy_score: 0.8723768736616703\n"
     ]
    },
    {
     "name": "stderr",
     "output_type": "stream",
     "text": [
      "\u001b[32m[I 2022-03-20 21:08:41,122]\u001b[0m Trial 1 finished with value: 0.8723768736616703 and parameters: {'num_layer': 2, 'mid_units': 30.0, 'num_filter_0': 224.0, 'num_filter_1': 160.0, 'learning_rate': 0.003686326600082205}. Best is trial 0 with value: 0.8775160599571734.\u001b[0m\n",
      "\u001b[32m[I 2022-03-20 21:11:58,244]\u001b[0m Trial 2 finished with value: 0.8706638115631692 and parameters: {'num_layer': 2, 'mid_units': 150.0, 'num_filter_0': 224.0, 'num_filter_1': 64.0, 'learning_rate': 0.001318212352431953}. Best is trial 0 with value: 0.8775160599571734.\u001b[0m\n"
     ]
    },
    {
     "name": "stdout",
     "output_type": "stream",
     "text": [
      "multi_logloss: 0.38171479430628674\n",
      "accuracy_score: 0.8706638115631692\n"
     ]
    },
    {
     "name": "stderr",
     "output_type": "stream",
     "text": [
      "\u001b[32m[I 2022-03-20 21:14:54,251]\u001b[0m Trial 3 finished with value: 0.871948608137045 and parameters: {'num_layer': 2, 'mid_units': 60.0, 'num_filter_0': 144.0, 'num_filter_1': 112.0, 'learning_rate': 0.0018105311308911887}. Best is trial 0 with value: 0.8775160599571734.\u001b[0m\n"
     ]
    },
    {
     "name": "stdout",
     "output_type": "stream",
     "text": [
      "multi_logloss: 0.37265382650017037\n",
      "accuracy_score: 0.871948608137045\n"
     ]
    },
    {
     "name": "stderr",
     "output_type": "stream",
     "text": [
      "\u001b[32m[I 2022-03-20 21:18:17,384]\u001b[0m Trial 4 finished with value: 0.8680942184154176 and parameters: {'num_layer': 3, 'mid_units': 40.0, 'num_filter_0': 80.0, 'num_filter_1': 96.0, 'num_filter_2': 128.0, 'learning_rate': 0.004033291826268562}. Best is trial 0 with value: 0.8775160599571734.\u001b[0m\n"
     ]
    },
    {
     "name": "stdout",
     "output_type": "stream",
     "text": [
      "multi_logloss: 0.39136089340658553\n",
      "accuracy_score: 0.8680942184154176\n"
     ]
    },
    {
     "name": "stderr",
     "output_type": "stream",
     "text": [
      "\u001b[32m[I 2022-03-20 21:20:01,879]\u001b[0m Trial 5 finished with value: 0.8693790149892934 and parameters: {'num_layer': 2, 'mid_units': 90.0, 'num_filter_0': 160.0, 'num_filter_1': 16.0, 'learning_rate': 0.003233951833556473}. Best is trial 0 with value: 0.8775160599571734.\u001b[0m\n"
     ]
    },
    {
     "name": "stdout",
     "output_type": "stream",
     "text": [
      "multi_logloss: 0.3840152543946788\n",
      "accuracy_score: 0.8693790149892934\n",
      "multi_logloss: 0.4095788810915622\n",
      "accuracy_score: 0.8650963597430407\n"
     ]
    },
    {
     "name": "stderr",
     "output_type": "stream",
     "text": [
      "\u001b[32m[I 2022-03-20 21:29:15,334]\u001b[0m Trial 6 finished with value: 0.8650963597430407 and parameters: {'num_layer': 2, 'mid_units': 30.0, 'num_filter_0': 256.0, 'num_filter_1': 256.0, 'learning_rate': 0.004137788066524076}. Best is trial 0 with value: 0.8775160599571734.\u001b[0m\n",
      "\u001b[32m[I 2022-03-20 21:33:25,082]\u001b[0m Trial 7 finished with value: 0.8736616702355461 and parameters: {'num_layer': 2, 'mid_units': 40.0, 'num_filter_0': 176.0, 'num_filter_1': 128.0, 'learning_rate': 0.0010491720568015048}. Best is trial 0 with value: 0.8775160599571734.\u001b[0m\n"
     ]
    },
    {
     "name": "stdout",
     "output_type": "stream",
     "text": [
      "multi_logloss: 0.36436254188285117\n",
      "accuracy_score: 0.8736616702355461\n"
     ]
    },
    {
     "name": "stderr",
     "output_type": "stream",
     "text": [
      "\u001b[32m[I 2022-03-20 21:36:06,145]\u001b[0m Trial 8 finished with value: 0.871948608137045 and parameters: {'num_layer': 2, 'mid_units': 30.0, 'num_filter_0': 240.0, 'num_filter_1': 80.0, 'learning_rate': 0.0034813502795929194}. Best is trial 0 with value: 0.8775160599571734.\u001b[0m\n"
     ]
    },
    {
     "name": "stdout",
     "output_type": "stream",
     "text": [
      "multi_logloss: 0.37238342286354437\n",
      "accuracy_score: 0.871948608137045\n"
     ]
    },
    {
     "name": "stderr",
     "output_type": "stream",
     "text": [
      "\u001b[32m[I 2022-03-20 21:37:28,386]\u001b[0m Trial 9 finished with value: 0.8706638115631692 and parameters: {'num_layer': 2, 'mid_units': 90.0, 'num_filter_0': 144.0, 'num_filter_1': 48.0, 'learning_rate': 0.004863130824940514}. Best is trial 0 with value: 0.8775160599571734.\u001b[0m\n"
     ]
    },
    {
     "name": "stdout",
     "output_type": "stream",
     "text": [
      "multi_logloss: 0.3648097235440047\n",
      "accuracy_score: 0.8706638115631692\n"
     ]
    },
    {
     "name": "stderr",
     "output_type": "stream",
     "text": [
      "\u001b[32m[I 2022-03-20 21:40:10,707]\u001b[0m Trial 10 finished with value: 0.8612419700214132 and parameters: {'num_layer': 3, 'mid_units': 150.0, 'num_filter_0': 16.0, 'num_filter_1': 192.0, 'num_filter_2': 256.0, 'learning_rate': 0.0022911698654516956}. Best is trial 0 with value: 0.8775160599571734.\u001b[0m\n"
     ]
    },
    {
     "name": "stdout",
     "output_type": "stream",
     "text": [
      "multi_logloss: 0.41221417511180414\n",
      "accuracy_score: 0.8612419700214132\n"
     ]
    },
    {
     "name": "stderr",
     "output_type": "stream",
     "text": [
      "\u001b[32m[I 2022-03-20 21:43:36,216]\u001b[0m Trial 11 finished with value: 0.8680942184154176 and parameters: {'num_layer': 3, 'mid_units': 120.0, 'num_filter_0': 192.0, 'num_filter_1': 176.0, 'num_filter_2': 16.0, 'learning_rate': 0.0005415245107000297}. Best is trial 0 with value: 0.8775160599571734.\u001b[0m\n"
     ]
    },
    {
     "name": "stdout",
     "output_type": "stream",
     "text": [
      "multi_logloss: 0.39758936692699104\n",
      "accuracy_score: 0.8680942184154176\n"
     ]
    },
    {
     "name": "stderr",
     "output_type": "stream",
     "text": [
      "\u001b[32m[I 2022-03-20 21:46:44,478]\u001b[0m Trial 12 finished with value: 0.8629550321199143 and parameters: {'num_layer': 2, 'mid_units': 120.0, 'num_filter_0': 96.0, 'num_filter_1': 224.0, 'learning_rate': 0.000551630665720989}. Best is trial 0 with value: 0.8775160599571734.\u001b[0m\n"
     ]
    },
    {
     "name": "stdout",
     "output_type": "stream",
     "text": [
      "multi_logloss: 0.40060892047528573\n",
      "accuracy_score: 0.8629550321199143\n"
     ]
    },
    {
     "name": "stderr",
     "output_type": "stream",
     "text": [
      "\u001b[32m[I 2022-03-20 21:49:22,344]\u001b[0m Trial 13 finished with value: 0.871948608137045 and parameters: {'num_layer': 2, 'mid_units': 60.0, 'num_filter_0': 192.0, 'num_filter_1': 128.0, 'learning_rate': 0.0012010061108553341}. Best is trial 0 with value: 0.8775160599571734.\u001b[0m\n"
     ]
    },
    {
     "name": "stdout",
     "output_type": "stream",
     "text": [
      "multi_logloss: 0.39213139910016437\n",
      "accuracy_score: 0.871948608137045\n"
     ]
    },
    {
     "name": "stderr",
     "output_type": "stream",
     "text": [
      "\u001b[32m[I 2022-03-20 21:53:01,077]\u001b[0m Trial 14 finished with value: 0.8642398286937901 and parameters: {'num_layer': 3, 'mid_units': 120.0, 'num_filter_0': 192.0, 'num_filter_1': 144.0, 'num_filter_2': 256.0, 'learning_rate': 0.002565079653262258}. Best is trial 0 with value: 0.8775160599571734.\u001b[0m\n"
     ]
    },
    {
     "name": "stdout",
     "output_type": "stream",
     "text": [
      "multi_logloss: 0.4162251908438219\n",
      "accuracy_score: 0.8642398286937901\n",
      "multi_logloss: 0.3826765051113503\n",
      "accuracy_score: 0.8758029978586723\n"
     ]
    },
    {
     "name": "stderr",
     "output_type": "stream",
     "text": [
      "\u001b[32m[I 2022-03-20 21:55:53,015]\u001b[0m Trial 15 finished with value: 0.8758029978586723 and parameters: {'num_layer': 2, 'mid_units': 70.0, 'num_filter_0': 112.0, 'num_filter_1': 224.0, 'learning_rate': 0.001402040825952724}. Best is trial 0 with value: 0.8775160599571734.\u001b[0m\n",
      "\u001b[32m[I 2022-03-20 21:58:06,224]\u001b[0m Trial 16 finished with value: 0.8715203426124197 and parameters: {'num_layer': 2, 'mid_units': 70.0, 'num_filter_0': 96.0, 'num_filter_1': 208.0, 'learning_rate': 0.0018724811109593702}. Best is trial 0 with value: 0.8775160599571734.\u001b[0m\n"
     ]
    },
    {
     "name": "stdout",
     "output_type": "stream",
     "text": [
      "multi_logloss: 0.3831549731523926\n",
      "accuracy_score: 0.8715203426124197\n"
     ]
    },
    {
     "name": "stderr",
     "output_type": "stream",
     "text": [
      "\u001b[32m[I 2022-03-20 21:59:46,408]\u001b[0m Trial 17 finished with value: 0.8702355460385439 and parameters: {'num_layer': 3, 'mid_units': 100.0, 'num_filter_0': 48.0, 'num_filter_1': 256.0, 'num_filter_2': 32.0, 'learning_rate': 0.0018240872019930463}. Best is trial 0 with value: 0.8775160599571734.\u001b[0m\n"
     ]
    },
    {
     "name": "stdout",
     "output_type": "stream",
     "text": [
      "multi_logloss: 0.39209821201507883\n",
      "accuracy_score: 0.8702355460385439\n"
     ]
    },
    {
     "name": "stderr",
     "output_type": "stream",
     "text": [
      "\u001b[32m[I 2022-03-20 22:01:13,656]\u001b[0m Trial 18 finished with value: 0.8753747323340471 and parameters: {'num_layer': 2, 'mid_units': 80.0, 'num_filter_0': 112.0, 'num_filter_1': 208.0, 'learning_rate': 0.002914749793629099}. Best is trial 0 with value: 0.8775160599571734.\u001b[0m\n"
     ]
    },
    {
     "name": "stdout",
     "output_type": "stream",
     "text": [
      "multi_logloss: 0.3816795631660217\n",
      "accuracy_score: 0.8753747323340471\n"
     ]
    },
    {
     "name": "stderr",
     "output_type": "stream",
     "text": [
      "\u001b[32m[I 2022-03-20 22:02:57,098]\u001b[0m Trial 19 finished with value: 0.8715203426124197 and parameters: {'num_layer': 2, 'mid_units': 110.0, 'num_filter_0': 128.0, 'num_filter_1': 224.0, 'learning_rate': 0.0015330103182778522}. Best is trial 0 with value: 0.8775160599571734.\u001b[0m\n"
     ]
    },
    {
     "name": "stdout",
     "output_type": "stream",
     "text": [
      "multi_logloss: 0.3730951598386208\n",
      "accuracy_score: 0.8715203426124197\n"
     ]
    }
   ],
   "source": [
    "sampler = TPESampler(seed=42)\n",
    "cnn_study = optuna.create_study(study_name=\"cnn_parameter_opt\", direction=\"maximize\", sampler=sampler)\n",
    "cnn_study.optimize(cnn_objective, n_trials=20)"
   ]
  },
  {
   "cell_type": "code",
   "execution_count": 24,
   "id": "0a0f99a1",
   "metadata": {},
   "outputs": [
    {
     "data": {
      "image/png": "[encoded data removed]",
      "text/plain": [
       "<Figure size 432x288 with 1 Axes>"
      ]
     },
     "metadata": {},
     "output_type": "display_data"
    }
   ],
   "source": [
    "optuna.visualization.matplotlib.plot_optimization_history(cnn_study);"
   ]
  },
  {
   "cell_type": "code",
   "execution_count": 25,
   "id": "72844fcf",
   "metadata": {},
   "outputs": [
    {
     "data": {
      "image/png": "[encoded data removed]",
      "text/plain": [
       "<Figure size 432x288 with 1 Axes>"
      ]
     },
     "metadata": {},
     "output_type": "display_data"
    }
   ],
   "source": [
    "optuna.visualization.matplotlib.plot_param_importances(cnn_study);"
   ]
  },
  {
   "cell_type": "code",
   "execution_count": 26,
   "id": "f835e389",
   "metadata": {},
   "outputs": [
    {
     "data": {
      "image/png": "[encoded data removed]",
      "text/plain": [
       "<Figure size 1296x288 with 7 Axes>"
      ]
     },
     "metadata": {},
     "output_type": "display_data"
    }
   ],
   "source": [
    "optuna.visualization.matplotlib.plot_slice(cnn_study);"
   ]
  },
  {
   "cell_type": "code",
   "execution_count": 27,
   "id": "0f16e702",
   "metadata": {},
   "outputs": [
    {
     "name": "stdout",
     "output_type": "stream",
     "text": [
      "1 Fold Training.....\n",
      "1 Fold ACC of CNN = 0.8586723768736617\n",
      "\n",
      "2 Fold Training.....\n",
      "2 Fold ACC of CNN = 0.9079229122055674\n",
      "\n",
      "3 Fold Training.....\n",
      "3 Fold ACC of CNN = 0.8586723768736617\n",
      "\n",
      "4 Fold Training.....\n",
      "4 Fold ACC of CNN = 0.8650963597430407\n",
      "\n",
      "5 Fold Training.....\n",
      "5 Fold ACC of CNN = 0.8822269807280514\n",
      "\n"
     ]
    }
   ],
   "source": [
    "cnn_acc = []\n",
    "cnn_pred = np.zeros((test_x.shape[0], 4))\n",
    "seed = 42\n",
    "skf = StratifiedKFold(n_splits=5, random_state=42, shuffle=True)\n",
    "es = EarlyStopping(monitor=\"val_acc\", patience=5, mode=\"max\", verbose=0)\n",
    "\n",
    "for i, (train_idx, val_idx) in enumerate(skf.split(train_x, train.target)):\n",
    "    print(f\"{i+1} Fold Training.....\")\n",
    "    x_train, y_train = train_x[train_idx], train_y[train_idx]\n",
    "    x_val, y_val = train_x[val_idx], train_y[val_idx]\n",
    "    \n",
    "    cnn = create_model(cnn_study.best_params['num_layer'], cnn_study.best_params['mid_units'], \n",
    "                      [cnn_study.best_params[f'num_filter_{i}'] for i in range(cnn_study.best_params['num_layer'])])\n",
    "    \n",
    "    # ModelCheckpoint Fold마다 갱신\n",
    "    mc = ModelCheckpoint(f\"model_{i+1}.h5\", save_best_only=True, monitor=\"val_acc\", mode=\"max\", verbose=0)\n",
    "    \n",
    "    # 모델 Complie\n",
    "    optimizer = Adam(learning_rate=cnn_study.best_params['learning_rate'])\n",
    "    cnn.compile(optimizer=optimizer, loss=\"categorical_crossentropy\", metrics=[\"acc\"])\n",
    "    cnn.fit(x_train, y_train, validation_data=(x_val, y_val), epochs=100, batch_size=32, callbacks=[es,mc], verbose=0)\n",
    "    \n",
    "    # 최고 성능 기록 모델\n",
    "    best = load_model(f\"model_{i+1}.h5\")\n",
    "    \n",
    "    val_pred = best.predict(x_val)\n",
    "    \n",
    "    val_cls = np.argmax(val_pred, axis=1)\n",
    "    \n",
    "    fold_cnn_acc = accuracy_score(np.argmax(y_val, axis=1), val_cls)\n",
    "    cnn_acc.append(fold_cnn_acc)\n",
    "    print(f\"{i+1} Fold ACC of CNN = {fold_cnn_acc}\\n\")\n",
    "    \n",
    "    fold_pred = best.predict(test_x) / skf.n_splits\n",
    "    cnn_pred += fold_pred"
   ]
  },
  {
   "cell_type": "code",
   "execution_count": 28,
   "id": "5e54c5ab",
   "metadata": {},
   "outputs": [
    {
     "data": {
      "text/plain": [
       "0.8745182012847966"
      ]
     },
     "execution_count": 28,
     "metadata": {},
     "output_type": "execute_result"
    }
   ],
   "source": [
    "np.mean(cnn_acc)"
   ]
  },
  {
   "cell_type": "code",
   "execution_count": 29,
   "id": "f23e3010",
   "metadata": {},
   "outputs": [
    {
     "data": {
      "text/html": [
       "<div>\n",
       "<style scoped>\n",
       "    .dataframe tbody tr th:only-of-type {\n",
       "        vertical-align: middle;\n",
       "    }\n",
       "\n",
       "    .dataframe tbody tr th {\n",
       "        vertical-align: top;\n",
       "    }\n",
       "\n",
       "    .dataframe thead th {\n",
       "        text-align: right;\n",
       "    }\n",
       "</style>\n",
       "<table border=\"1\" class=\"dataframe\">\n",
       "  <thead>\n",
       "    <tr style=\"text-align: right;\">\n",
       "      <th></th>\n",
       "      <th>id</th>\n",
       "      <th>target</th>\n",
       "    </tr>\n",
       "  </thead>\n",
       "  <tbody>\n",
       "    <tr>\n",
       "      <th>0</th>\n",
       "      <td>1</td>\n",
       "      <td>0</td>\n",
       "    </tr>\n",
       "    <tr>\n",
       "      <th>1</th>\n",
       "      <td>2</td>\n",
       "      <td>0</td>\n",
       "    </tr>\n",
       "    <tr>\n",
       "      <th>2</th>\n",
       "      <td>3</td>\n",
       "      <td>1</td>\n",
       "    </tr>\n",
       "    <tr>\n",
       "      <th>3</th>\n",
       "      <td>4</td>\n",
       "      <td>3</td>\n",
       "    </tr>\n",
       "    <tr>\n",
       "      <th>4</th>\n",
       "      <td>5</td>\n",
       "      <td>2</td>\n",
       "    </tr>\n",
       "    <tr>\n",
       "      <th>...</th>\n",
       "      <td>...</td>\n",
       "      <td>...</td>\n",
       "    </tr>\n",
       "    <tr>\n",
       "      <th>9338</th>\n",
       "      <td>9339</td>\n",
       "      <td>3</td>\n",
       "    </tr>\n",
       "    <tr>\n",
       "      <th>9339</th>\n",
       "      <td>9340</td>\n",
       "      <td>1</td>\n",
       "    </tr>\n",
       "    <tr>\n",
       "      <th>9340</th>\n",
       "      <td>9341</td>\n",
       "      <td>2</td>\n",
       "    </tr>\n",
       "    <tr>\n",
       "      <th>9341</th>\n",
       "      <td>9342</td>\n",
       "      <td>0</td>\n",
       "    </tr>\n",
       "    <tr>\n",
       "      <th>9342</th>\n",
       "      <td>9343</td>\n",
       "      <td>3</td>\n",
       "    </tr>\n",
       "  </tbody>\n",
       "</table>\n",
       "<p>9343 rows × 2 columns</p>\n",
       "</div>"
      ],
      "text/plain": [
       "        id  target\n",
       "0        1       0\n",
       "1        2       0\n",
       "2        3       1\n",
       "3        4       3\n",
       "4        5       2\n",
       "...    ...     ...\n",
       "9338  9339       3\n",
       "9339  9340       1\n",
       "9340  9341       2\n",
       "9341  9342       0\n",
       "9342  9343       3\n",
       "\n",
       "[9343 rows x 2 columns]"
      ]
     },
     "execution_count": 29,
     "metadata": {},
     "output_type": "execute_result"
    }
   ],
   "source": [
    "submission['target'] = np.argmax(cnn_pred, axis = 1)\n",
    "submission"
   ]
  },
  {
   "cell_type": "code",
   "execution_count": 30,
   "id": "2c65c922",
   "metadata": {},
   "outputs": [],
   "source": [
    "submission.to_csv('./submission_CNN.csv', index = False)"
   ]
  }
 ],
 "metadata": {
  "kernelspec": {
   "display_name": "Python 3 (ipykernel)",
   "language": "python",
   "name": "python3"
  },
  "language_info": {
   "codemirror_mode": {
    "name": "ipython",
    "version": 3
   },
   "file_extension": ".py",
   "mimetype": "text/x-python",
   "name": "python",
   "nbconvert_exporter": "python",
   "pygments_lexer": "ipython3",
   "version": "3.9.7"
  }
 },
 "nbformat": 4,
 "nbformat_minor": 5
}
