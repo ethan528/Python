{
 "cells": [
  {
   "cell_type": "code",
   "execution_count": 1,
   "metadata": {},
   "outputs": [
    {
     "data": {
      "text/html": [
       "<div>\n",
       "<style scoped>\n",
       "    .dataframe tbody tr th:only-of-type {\n",
       "        vertical-align: middle;\n",
       "    }\n",
       "\n",
       "    .dataframe tbody tr th {\n",
       "        vertical-align: top;\n",
       "    }\n",
       "\n",
       "    .dataframe thead th {\n",
       "        text-align: right;\n",
       "    }\n",
       "</style>\n",
       "<table border=\"1\" class=\"dataframe\">\n",
       "  <thead>\n",
       "    <tr style=\"text-align: right;\">\n",
       "      <th></th>\n",
       "      <th>제목</th>\n",
       "      <th>날짜</th>\n",
       "      <th>추천수</th>\n",
       "      <th>조회수</th>\n",
       "    </tr>\n",
       "  </thead>\n",
       "  <tbody>\n",
       "    <tr>\n",
       "      <th>0</th>\n",
       "      <td>법원 \"교통사고 가해측 보험사는 피해차 가치 하락도 배상해야\"</td>\n",
       "      <td>05/03</td>\n",
       "      <td>5.0</td>\n",
       "      <td>692.0</td>\n",
       "    </tr>\n",
       "    <tr>\n",
       "      <th>1</th>\n",
       "      <td>에디슨EV \"채권자가 법원에 파산 신청…채권액 36억원\"</td>\n",
       "      <td>05/06</td>\n",
       "      <td>3.0</td>\n",
       "      <td>1266.0</td>\n",
       "    </tr>\n",
       "    <tr>\n",
       "      <th>2</th>\n",
       "      <td>기아, 신형 니로 EV 사전계약 실시…1회 충전에 401㎞ 주..</td>\n",
       "      <td>05/03</td>\n",
       "      <td>2.0</td>\n",
       "      <td>1452.0</td>\n",
       "    </tr>\n",
       "    <tr>\n",
       "      <th>3</th>\n",
       "      <td>현대차, 3년 만에 유관중으로 `현대 N 페스티벌` 개최</td>\n",
       "      <td>05/03</td>\n",
       "      <td>1.0</td>\n",
       "      <td>260.0</td>\n",
       "    </tr>\n",
       "    <tr>\n",
       "      <th>4</th>\n",
       "      <td>호세 무뇨스 현대차 사장 이사회 합류…글로벌시장 챙긴다</td>\n",
       "      <td>05/04</td>\n",
       "      <td>1.0</td>\n",
       "      <td>274.0</td>\n",
       "    </tr>\n",
       "  </tbody>\n",
       "</table>\n",
       "</div>"
      ],
      "text/plain": [
       "                                     제목     날짜  추천수     조회수\n",
       "0    법원 \"교통사고 가해측 보험사는 피해차 가치 하락도 배상해야\"  05/03  5.0   692.0\n",
       "1       에디슨EV \"채권자가 법원에 파산 신청…채권액 36억원\"  05/06  3.0  1266.0\n",
       "2  기아, 신형 니로 EV 사전계약 실시…1회 충전에 401㎞ 주..  05/03  2.0  1452.0\n",
       "3       현대차, 3년 만에 유관중으로 `현대 N 페스티벌` 개최  05/03  1.0   260.0\n",
       "4        호세 무뇨스 현대차 사장 이사회 합류…글로벌시장 챙긴다  05/04  1.0   274.0"
      ]
     },
     "execution_count": 1,
     "metadata": {},
     "output_type": "execute_result"
    }
   ],
   "source": [
    "import pandas as pd\n",
    "import warnings\n",
    "warnings.filterwarnings('ignore')\n",
    "\n",
    "news_df = pd.read_csv(\"./보배드림 뉴스 크롤링.csv\")\n",
    "news_df = news_df.drop(['내용'], axis=1)\n",
    "news_df.head()"
   ]
  },
  {
   "cell_type": "code",
   "execution_count": null,
   "metadata": {},
   "outputs": [],
   "source": [
    "pip install soynlp\n",
    "PyKoSpacing"
   ]
  },
  {
   "cell_type": "code",
   "execution_count": 2,
   "metadata": {},
   "outputs": [],
   "source": [
    "from eunjeon import Mecab\n",
    "\n",
    "tagger=Mecab()\n",
    "significant_tags = ['NNG', 'NNP', 'NNB', 'VV', 'VA', 'VX', 'MAG', 'MAJ', 'XSV', 'XSA']\n",
    "\n",
    "def tagging_text(texts):\n",
    "    corpus = []\n",
    "    for text in texts:\n",
    "        text = tagger.pos(text)\n",
    "        for i in range(len(text)-1):\n",
    "            if text[i][1] in significant_tags:\n",
    "                corpus.append(f\"{text[i][0]}/{text[i][1]}\")\n",
    "    return corpus"
   ]
  },
  {
   "cell_type": "code",
   "execution_count": 3,
   "metadata": {},
   "outputs": [
    {
     "ename": "NameError",
     "evalue": "name 'tagger' is not defined",
     "output_type": "error",
     "traceback": [
      "\u001b[1;31m---------------------------------------------------------------------------\u001b[0m",
      "\u001b[1;31mNameError\u001b[0m                                 Traceback (most recent call last)",
      "\u001b[1;32mc:\\Users\\USER\\TIL\\중고차 시세 예측\\중고차 감성분류.ipynb Cell 3'\u001b[0m in \u001b[0;36m<cell line: 1>\u001b[1;34m()\u001b[0m\n\u001b[1;32m----> <a href='vscode-notebook-cell:/c%3A/Users/USER/TIL/%EC%A4%91%EA%B3%A0%EC%B0%A8%20%EC%8B%9C%EC%84%B8%20%EC%98%88%EC%B8%A1/%EC%A4%91%EA%B3%A0%EC%B0%A8%20%EA%B0%90%EC%84%B1%EB%B6%84%EB%A5%98.ipynb#ch0000002?line=0'>1</a>\u001b[0m tagger\u001b[39m.\u001b[39mpos(\u001b[39m\"\u001b[39m\u001b[39m가해측\u001b[39m\u001b[39m\"\u001b[39m)\n",
      "\u001b[1;31mNameError\u001b[0m: name 'tagger' is not defined"
     ]
    }
   ],
   "source": [
    "tagger.pos(\"교통사고 가해측\")"
   ]
  },
  {
   "cell_type": "code",
   "execution_count": 4,
   "metadata": {},
   "outputs": [
    {
     "name": "stdout",
     "output_type": "stream",
     "text": [
      "법원/NNG\n",
      "교통사고/NNG\n",
      "해/NNG\n",
      "측/NNB\n",
      "보험/NNG\n"
     ]
    }
   ],
   "source": [
    "tagged_corpus = tagging_text(news_df.제목)\n",
    "\n",
    "for i in range(5):\n",
    "    print(tagged_corpus[i])"
   ]
  },
  {
   "cell_type": "code",
   "execution_count": 5,
   "metadata": {},
   "outputs": [],
   "source": [
    "import re\n",
    "\n",
    "p1 = re.compile('[가-힣A-Za-z0-9]+/NN. [가-힣A-Za-z0-9]+/XS.')\n",
    "p2 = re.compile('[가-힣A-Za-z0-9]+/NN. [가-힣A-Za-z0-9]+/XSA [가-힣A-Za-z0-9]+/VX')\n",
    "p3 = re.compile('[가-힣A-Za-z0-9]+/VV')\n",
    "p4 = re.compile('[가-힣A-Za-z0-9]+/VX')"
   ]
  },
  {
   "cell_type": "code",
   "execution_count": 6,
   "metadata": {},
   "outputs": [],
   "source": [
    "def stemming_text(text):\n",
    "    corpus = []\n",
    "    for sent in text:\n",
    "        ori_sent = sent\n",
    "        mached_terms = re.findall(p1, ori_sent)\n",
    "        for terms in mached_terms:\n",
    "            ori_terms = terms\n",
    "            modi_terms = ''\n",
    "            for term in terms.split(' '):\n",
    "                lemma = term.split('/')[0]\n",
    "                tag = term.split('/')[-1]\n",
    "                modi_terms += lemma\n",
    "            modi_terms += '다/VV'\n",
    "            ori_sent = ori_sent.replace(ori_terms, modi_terms)\n",
    "        \n",
    "        mached_terms = re.findall(p2, ori_sent)\n",
    "        for terms in mached_terms:\n",
    "            ori_terms = terms\n",
    "            modi_terms = ''\n",
    "            for term in terms.split(' '):\n",
    "                lemma = term.split('/')[0]\n",
    "                tag = term.split('/')[-1]\n",
    "                if tag != 'VX':\n",
    "                    modi_terms += lemma\n",
    "            modi_terms += '다/VV'\n",
    "            ori_sent = ori_sent.replace(ori_terms, modi_terms)\n",
    "\n",
    "        mached_terms = re.findall(p3, ori_sent)\n",
    "        for terms in mached_terms:\n",
    "            ori_terms = terms\n",
    "            modi_terms = ''\n",
    "            for term in terms.split(' '):\n",
    "                lemma = term.split('/')[0]\n",
    "                tag = term.split('/')[-1]\n",
    "                modi_terms += lemma\n",
    "            if '다' != modi_terms[-1]:\n",
    "                modi_terms += '다'\n",
    "            modi_terms += '/VV'\n",
    "            ori_sent = ori_sent.replace(ori_terms, modi_terms)\n",
    "\n",
    "        mached_terms = re.findall(p4, ori_sent)\n",
    "        for terms in mached_terms:\n",
    "            ori_terms = terms\n",
    "            modi_terms = ''\n",
    "            for term in terms.split(' '):\n",
    "                lemma = term.split('/')[0]\n",
    "                tag = term.split('/')[-1]\n",
    "                modi_terms += lemma\n",
    "            if '다' != modi_terms[-1]:\n",
    "                modi_terms += '다'\n",
    "            modi_terms += '/VV'\n",
    "            ori_sent = ori_sent.replace(ori_terms, modi_terms)\n",
    "        corpus.append(ori_sent)\n",
    "    return corpus"
   ]
  },
  {
   "cell_type": "code",
   "execution_count": 7,
   "metadata": {},
   "outputs": [
    {
     "name": "stdout",
     "output_type": "stream",
     "text": [
      "법원/NNG\n",
      "교통사고/NNG\n",
      "해/NNG\n",
      "측/NNB\n",
      "보험/NNG\n"
     ]
    }
   ],
   "source": [
    "stem_corpus = stemming_text(tagged_corpus)\n",
    "\n",
    "for i in range(0, 5):\n",
    "    print(stem_corpus[i])"
   ]
  },
  {
   "cell_type": "code",
   "execution_count": 8,
   "metadata": {},
   "outputs": [],
   "source": [
    "stopwords = ['이/VCP','있/VA','하/VV','씨/NNB','것/NNB','들/XSN','그/MM','되/VV','수/NNB','이/NP','속/NNG',\n",
    "'보/VX','않/VX','집/NNG','없/VA','살/VV','나/NP','적/XSN','주/VV','월/NNB','데/NNB','등/NNB','같/VA','안/MAG',\n",
    "'우리/NP','어떤/MM','때/NNG','내/NP','년/NNB','내/VV','가/VV''한/MM','명/NNB','지/VX','오/VV','말/NNG','일/NNG',\n",
    "'앞/NNG','번/NNB','나/VX','두/VV','알/VV','개/NNB','받/VV','전/NNG','들/VV','일/NNB','또/MAG','점/NNG','싶/VX',\n",
    "'더/MAG','말/VX','많/VA','좀/MAG','원/NNB','좋/VA','잘/MAG','크/VA','중/NNB','놓/VX']"
   ]
  },
  {
   "cell_type": "code",
   "execution_count": 9,
   "metadata": {},
   "outputs": [],
   "source": [
    "def remove_stopword_text(text):\n",
    "    corpus = []\n",
    "    for sent in text:\n",
    "        modi_sent = []\n",
    "        for word in sent.split(' '):\n",
    "            if word not in stopwords:\n",
    "                modi_sent.append(word)\n",
    "        corpus.append(' '.join(modi_sent))\n",
    "    return corpus"
   ]
  },
  {
   "cell_type": "code",
   "execution_count": 10,
   "metadata": {},
   "outputs": [
    {
     "name": "stdout",
     "output_type": "stream",
     "text": [
      "법원/NNG\n",
      "교통사고/NNG\n",
      "해/NNG\n",
      "측/NNB\n",
      "보험/NNG\n"
     ]
    }
   ],
   "source": [
    "removed_stopword_corpus = remove_stopword_text(stem_corpus)\n",
    "\n",
    "for i in range(5):\n",
    "    print(removed_stopword_corpus[i])"
   ]
  },
  {
   "cell_type": "code",
   "execution_count": 11,
   "metadata": {},
   "outputs": [
    {
     "data": {
      "text/html": [
       "<div>\n",
       "<style scoped>\n",
       "    .dataframe tbody tr th:only-of-type {\n",
       "        vertical-align: middle;\n",
       "    }\n",
       "\n",
       "    .dataframe tbody tr th {\n",
       "        vertical-align: top;\n",
       "    }\n",
       "\n",
       "    .dataframe thead th {\n",
       "        text-align: right;\n",
       "    }\n",
       "</style>\n",
       "<table border=\"1\" class=\"dataframe\">\n",
       "  <thead>\n",
       "    <tr style=\"text-align: right;\">\n",
       "      <th></th>\n",
       "      <th>Sentence</th>\n",
       "      <th>Emotion</th>\n",
       "    </tr>\n",
       "  </thead>\n",
       "  <tbody>\n",
       "    <tr>\n",
       "      <th>0</th>\n",
       "      <td>언니 동생으로 부르는게 맞는 일인가요..??</td>\n",
       "      <td>0</td>\n",
       "    </tr>\n",
       "    <tr>\n",
       "      <th>1</th>\n",
       "      <td>그냥 내 느낌일뿐겠지?</td>\n",
       "      <td>0</td>\n",
       "    </tr>\n",
       "    <tr>\n",
       "      <th>2</th>\n",
       "      <td>아직너무초기라서 그런거죠?</td>\n",
       "      <td>0</td>\n",
       "    </tr>\n",
       "    <tr>\n",
       "      <th>3</th>\n",
       "      <td>유치원버스 사고 낫다던데</td>\n",
       "      <td>0</td>\n",
       "    </tr>\n",
       "    <tr>\n",
       "      <th>4</th>\n",
       "      <td>근데 원래이런거맞나요</td>\n",
       "      <td>0</td>\n",
       "    </tr>\n",
       "  </tbody>\n",
       "</table>\n",
       "</div>"
      ],
      "text/plain": [
       "                   Sentence  Emotion\n",
       "0  언니 동생으로 부르는게 맞는 일인가요..??        0\n",
       "1              그냥 내 느낌일뿐겠지?        0\n",
       "2            아직너무초기라서 그런거죠?        0\n",
       "3             유치원버스 사고 낫다던데        0\n",
       "4               근데 원래이런거맞나요        0"
      ]
     },
     "execution_count": 11,
     "metadata": {},
     "output_type": "execute_result"
    }
   ],
   "source": [
    "comm_df = pd.read_excel(\"./대화_데이터셋.xlsx\")\n",
    "comm_df.head()"
   ]
  },
  {
   "cell_type": "code",
   "execution_count": 17,
   "metadata": {},
   "outputs": [
    {
     "data": {
      "text/plain": [
       "Sentence    0\n",
       "Emotion     0\n",
       "dtype: int64"
      ]
     },
     "execution_count": 17,
     "metadata": {},
     "output_type": "execute_result"
    }
   ],
   "source": [
    "comm_df.isna().sum()"
   ]
  },
  {
   "cell_type": "code",
   "execution_count": 12,
   "metadata": {},
   "outputs": [
    {
     "name": "stdout",
     "output_type": "stream",
     "text": [
      "23686\n",
      "4180\n"
     ]
    }
   ],
   "source": [
    "from sklearn.model_selection import train_test_split\n",
    "\n",
    "train, test = train_test_split(comm_df, test_size=0.15, random_state=3)\n",
    "print(len(train))\n",
    "print(len(test))"
   ]
  },
  {
   "cell_type": "code",
   "execution_count": 13,
   "metadata": {},
   "outputs": [
    {
     "name": "stdout",
     "output_type": "stream",
     "text": [
      "   Emotion  count\n",
      "0        0  18540\n",
      "1        1   5146\n"
     ]
    },
    {
     "data": {
      "image/png": "[encoded data removed]",
      "text/plain": [
       "<Figure size 432x288 with 1 Axes>"
      ]
     },
     "metadata": {
      "needs_background": "light"
     },
     "output_type": "display_data"
    }
   ],
   "source": [
    "train['Emotion'].value_counts().plot(kind = 'bar')\n",
    "print(train.groupby('Emotion').size().reset_index(name = 'count'))"
   ]
  },
  {
   "cell_type": "code",
   "execution_count": 14,
   "metadata": {},
   "outputs": [],
   "source": [
    "import numpy as np\n",
    "\n",
    "train['Sentence'] = train['Sentence'].str.replace(\"[^ㄱ-ㅎㅏ-ㅣ가-힣 ]\",\"\")\n",
    "test['Sentence'] = test['Sentence'].str.replace(\"[^ㄱ-ㅎㅏ-ㅣ가-힣 ]\",\"\")\n",
    "train['Sentence'] = train['Sentence'].str.replace('^ +', \"\")\n",
    "test['Sentence'] = test['Sentence'].str.replace('^ +', \"\")\n",
    "train['Sentence'].replace('', np.nan, inplace = True)\n",
    "test['Sentence'].replace('', np.nan, inplace = True)\n",
    "\n",
    "print(len(train))\n",
    "print(len(test))"
   ]
  },
  {
   "cell_type": "code",
   "execution_count": 20,
   "metadata": {},
   "outputs": [],
   "source": [
    "from konlpy.tag import Okt\n",
    "\n",
    "stopwords = ['도', '는', '다', '의', '가', '이', '은', '한', '에', '하', '고', '을', '를', '인', '듯', '과', '와', '네', '들', '듯', '지', '임', '게']\n",
    "okt = Okt()\n",
    "t_train = [] \n",
    "t_test = []\n",
    "\n",
    "for sentence in train['Sentence']:\n",
    "    temp_X = okt.morphs(str(sentence), stem = True) \n",
    "    temp_X = [word for word in temp_X if not word in stopwords]\n",
    "    t_train.append(temp_X)\n",
    "    \n",
    "for sentence in test['Sentence']:\n",
    "    temp_X = okt.morphs(str(sentence), stem = True)\n",
    "    temp_X = [word for word in temp_X if not word in stopwords]\n",
    "    t_test.append(temp_X)"
   ]
  },
  {
   "cell_type": "code",
   "execution_count": 21,
   "metadata": {},
   "outputs": [],
   "source": [
    "from tensorflow.keras.preprocessing.text import Tokenizer\n",
    "\n",
    "tokenizer = Tokenizer()\n",
    "tokenizer.fit_on_texts(t_train)\n",
    "tokenizer.fit_on_texts(t_test)"
   ]
  },
  {
   "cell_type": "code",
   "execution_count": 22,
   "metadata": {},
   "outputs": [],
   "source": [
    "import pickle\n",
    " \n",
    "with open(\"comm_data.pickle\",\"wb\") as fw:\n",
    "    pickle.dump(tokenizer, fw)"
   ]
  },
  {
   "cell_type": "code",
   "execution_count": 23,
   "metadata": {},
   "outputs": [],
   "source": [
    "t_train1 = tokenizer.texts_to_sequences(t_train)\n",
    "t_test1 = tokenizer.texts_to_sequences(t_test)"
   ]
  },
  {
   "cell_type": "code",
   "execution_count": 24,
   "metadata": {},
   "outputs": [],
   "source": [
    "e_train = train['Emotion']\n",
    "e_test = test['Emotion']"
   ]
  },
  {
   "cell_type": "code",
   "execution_count": 35,
   "metadata": {},
   "outputs": [
    {
     "name": "stdout",
     "output_type": "stream",
     "text": [
      "18942\n",
      "112\n"
     ]
    }
   ],
   "source": [
    "vocab_size = len(tokenizer.word_index)\n",
    "max_len = max(len(l) for l in t_train1)\n",
    "print(vocab_size)\n",
    "print(max_len)"
   ]
  },
  {
   "cell_type": "code",
   "execution_count": 30,
   "metadata": {},
   "outputs": [],
   "source": [
    "from tensorflow.keras.preprocessing.sequence import pad_sequences\n",
    "\n",
    "t_train2 = pad_sequences(t_train1, maxlen = max_len)\n",
    "t_test2 = pad_sequences(t_test1, maxlen = max_len)"
   ]
  },
  {
   "cell_type": "code",
   "execution_count": 36,
   "metadata": {},
   "outputs": [
    {
     "ename": "NotImplementedError",
     "evalue": "Cannot convert a symbolic Tensor (lstm/strided_slice:0) to a numpy array. This error may indicate that you're trying to pass a Tensor to a NumPy call, which is not supported",
     "output_type": "error",
     "traceback": [
      "\u001b[1;31m---------------------------------------------------------------------------\u001b[0m",
      "\u001b[1;31mNotImplementedError\u001b[0m                       Traceback (most recent call last)",
      "\u001b[1;32mc:\\Users\\USER\\TIL\\중고차 시세 예측\\중고차 감성분류.ipynb Cell 24'\u001b[0m in \u001b[0;36m<cell line: 9>\u001b[1;34m()\u001b[0m\n\u001b[0;32m      <a href='vscode-notebook-cell:/c%3A/Users/USER/TIL/%EC%A4%91%EA%B3%A0%EC%B0%A8%20%EC%8B%9C%EC%84%B8%20%EC%98%88%EC%B8%A1/%EC%A4%91%EA%B3%A0%EC%B0%A8%20%EA%B0%90%EC%84%B1%EB%B6%84%EB%A5%98.ipynb#ch0000025?line=6'>7</a>\u001b[0m model \u001b[39m=\u001b[39m Sequential()\n\u001b[0;32m      <a href='vscode-notebook-cell:/c%3A/Users/USER/TIL/%EC%A4%91%EA%B3%A0%EC%B0%A8%20%EC%8B%9C%EC%84%B8%20%EC%98%88%EC%B8%A1/%EC%A4%91%EA%B3%A0%EC%B0%A8%20%EA%B0%90%EC%84%B1%EB%B6%84%EB%A5%98.ipynb#ch0000025?line=7'>8</a>\u001b[0m model\u001b[39m.\u001b[39madd(Embedding(vocab_size, \u001b[39m100\u001b[39m))\n\u001b[1;32m----> <a href='vscode-notebook-cell:/c%3A/Users/USER/TIL/%EC%A4%91%EA%B3%A0%EC%B0%A8%20%EC%8B%9C%EC%84%B8%20%EC%98%88%EC%B8%A1/%EC%A4%91%EA%B3%A0%EC%B0%A8%20%EA%B0%90%EC%84%B1%EB%B6%84%EB%A5%98.ipynb#ch0000025?line=8'>9</a>\u001b[0m model\u001b[39m.\u001b[39;49madd(LSTM(\u001b[39m128\u001b[39;49m, return_sequences \u001b[39m=\u001b[39;49m \u001b[39mTrue\u001b[39;49;00m))\n\u001b[0;32m     <a href='vscode-notebook-cell:/c%3A/Users/USER/TIL/%EC%A4%91%EA%B3%A0%EC%B0%A8%20%EC%8B%9C%EC%84%B8%20%EC%98%88%EC%B8%A1/%EC%A4%91%EA%B3%A0%EC%B0%A8%20%EA%B0%90%EC%84%B1%EB%B6%84%EB%A5%98.ipynb#ch0000025?line=9'>10</a>\u001b[0m model\u001b[39m.\u001b[39madd(Dropout(\u001b[39m0.5\u001b[39m))\n\u001b[0;32m     <a href='vscode-notebook-cell:/c%3A/Users/USER/TIL/%EC%A4%91%EA%B3%A0%EC%B0%A8%20%EC%8B%9C%EC%84%B8%20%EC%98%88%EC%B8%A1/%EC%A4%91%EA%B3%A0%EC%B0%A8%20%EA%B0%90%EC%84%B1%EB%B6%84%EB%A5%98.ipynb#ch0000025?line=10'>11</a>\u001b[0m model\u001b[39m.\u001b[39madd(GRU(\u001b[39m128\u001b[39m))\n",
      "File \u001b[1;32mc:\\Users\\USER\\anaconda3\\lib\\site-packages\\tensorflow\\python\\training\\tracking\\base.py:522\u001b[0m, in \u001b[0;36mno_automatic_dependency_tracking.<locals>._method_wrapper\u001b[1;34m(self, *args, **kwargs)\u001b[0m\n\u001b[0;32m    <a href='file:///c%3A/Users/USER/anaconda3/lib/site-packages/tensorflow/python/training/tracking/base.py?line=519'>520</a>\u001b[0m \u001b[39mself\u001b[39m\u001b[39m.\u001b[39m_self_setattr_tracking \u001b[39m=\u001b[39m \u001b[39mFalse\u001b[39;00m  \u001b[39m# pylint: disable=protected-access\u001b[39;00m\n\u001b[0;32m    <a href='file:///c%3A/Users/USER/anaconda3/lib/site-packages/tensorflow/python/training/tracking/base.py?line=520'>521</a>\u001b[0m \u001b[39mtry\u001b[39;00m:\n\u001b[1;32m--> <a href='file:///c%3A/Users/USER/anaconda3/lib/site-packages/tensorflow/python/training/tracking/base.py?line=521'>522</a>\u001b[0m   result \u001b[39m=\u001b[39m method(\u001b[39mself\u001b[39m, \u001b[39m*\u001b[39margs, \u001b[39m*\u001b[39m\u001b[39m*\u001b[39mkwargs)\n\u001b[0;32m    <a href='file:///c%3A/Users/USER/anaconda3/lib/site-packages/tensorflow/python/training/tracking/base.py?line=522'>523</a>\u001b[0m \u001b[39mfinally\u001b[39;00m:\n\u001b[0;32m    <a href='file:///c%3A/Users/USER/anaconda3/lib/site-packages/tensorflow/python/training/tracking/base.py?line=523'>524</a>\u001b[0m   \u001b[39mself\u001b[39m\u001b[39m.\u001b[39m_self_setattr_tracking \u001b[39m=\u001b[39m previous_value  \u001b[39m# pylint: disable=protected-access\u001b[39;00m\n",
      "File \u001b[1;32mc:\\Users\\USER\\anaconda3\\lib\\site-packages\\tensorflow\\python\\keras\\engine\\sequential.py:228\u001b[0m, in \u001b[0;36mSequential.add\u001b[1;34m(self, layer)\u001b[0m\n\u001b[0;32m    <a href='file:///c%3A/Users/USER/anaconda3/lib/site-packages/tensorflow/python/keras/engine/sequential.py?line=222'>223</a>\u001b[0m     \u001b[39mself\u001b[39m\u001b[39m.\u001b[39m_has_explicit_input_shape \u001b[39m=\u001b[39m \u001b[39mTrue\u001b[39;00m\n\u001b[0;32m    <a href='file:///c%3A/Users/USER/anaconda3/lib/site-packages/tensorflow/python/keras/engine/sequential.py?line=224'>225</a>\u001b[0m \u001b[39melif\u001b[39;00m \u001b[39mself\u001b[39m\u001b[39m.\u001b[39moutputs:\n\u001b[0;32m    <a href='file:///c%3A/Users/USER/anaconda3/lib/site-packages/tensorflow/python/keras/engine/sequential.py?line=225'>226</a>\u001b[0m   \u001b[39m# If the model is being built continuously on top of an input layer:\u001b[39;00m\n\u001b[0;32m    <a href='file:///c%3A/Users/USER/anaconda3/lib/site-packages/tensorflow/python/keras/engine/sequential.py?line=226'>227</a>\u001b[0m   \u001b[39m# refresh its output.\u001b[39;00m\n\u001b[1;32m--> <a href='file:///c%3A/Users/USER/anaconda3/lib/site-packages/tensorflow/python/keras/engine/sequential.py?line=227'>228</a>\u001b[0m   output_tensor \u001b[39m=\u001b[39m layer(\u001b[39mself\u001b[39;49m\u001b[39m.\u001b[39;49moutputs[\u001b[39m0\u001b[39;49m])\n\u001b[0;32m    <a href='file:///c%3A/Users/USER/anaconda3/lib/site-packages/tensorflow/python/keras/engine/sequential.py?line=228'>229</a>\u001b[0m   \u001b[39mif\u001b[39;00m \u001b[39mlen\u001b[39m(nest\u001b[39m.\u001b[39mflatten(output_tensor)) \u001b[39m!=\u001b[39m \u001b[39m1\u001b[39m:\n\u001b[0;32m    <a href='file:///c%3A/Users/USER/anaconda3/lib/site-packages/tensorflow/python/keras/engine/sequential.py?line=229'>230</a>\u001b[0m     \u001b[39mraise\u001b[39;00m \u001b[39mValueError\u001b[39;00m(SINGLE_LAYER_OUTPUT_ERROR_MSG)\n",
      "File \u001b[1;32mc:\\Users\\USER\\anaconda3\\lib\\site-packages\\tensorflow\\python\\keras\\layers\\recurrent.py:668\u001b[0m, in \u001b[0;36mRNN.__call__\u001b[1;34m(self, inputs, initial_state, constants, **kwargs)\u001b[0m\n\u001b[0;32m    <a href='file:///c%3A/Users/USER/anaconda3/lib/site-packages/tensorflow/python/keras/layers/recurrent.py?line=661'>662</a>\u001b[0m inputs, initial_state, constants \u001b[39m=\u001b[39m _standardize_args(inputs,\n\u001b[0;32m    <a href='file:///c%3A/Users/USER/anaconda3/lib/site-packages/tensorflow/python/keras/layers/recurrent.py?line=662'>663</a>\u001b[0m                                                      initial_state,\n\u001b[0;32m    <a href='file:///c%3A/Users/USER/anaconda3/lib/site-packages/tensorflow/python/keras/layers/recurrent.py?line=663'>664</a>\u001b[0m                                                      constants,\n\u001b[0;32m    <a href='file:///c%3A/Users/USER/anaconda3/lib/site-packages/tensorflow/python/keras/layers/recurrent.py?line=664'>665</a>\u001b[0m                                                      \u001b[39mself\u001b[39m\u001b[39m.\u001b[39m_num_constants)\n\u001b[0;32m    <a href='file:///c%3A/Users/USER/anaconda3/lib/site-packages/tensorflow/python/keras/layers/recurrent.py?line=666'>667</a>\u001b[0m \u001b[39mif\u001b[39;00m initial_state \u001b[39mis\u001b[39;00m \u001b[39mNone\u001b[39;00m \u001b[39mand\u001b[39;00m constants \u001b[39mis\u001b[39;00m \u001b[39mNone\u001b[39;00m:\n\u001b[1;32m--> <a href='file:///c%3A/Users/USER/anaconda3/lib/site-packages/tensorflow/python/keras/layers/recurrent.py?line=667'>668</a>\u001b[0m   \u001b[39mreturn\u001b[39;00m \u001b[39msuper\u001b[39m(RNN, \u001b[39mself\u001b[39m)\u001b[39m.\u001b[39m\u001b[39m__call__\u001b[39m(inputs, \u001b[39m*\u001b[39m\u001b[39m*\u001b[39mkwargs)\n\u001b[0;32m    <a href='file:///c%3A/Users/USER/anaconda3/lib/site-packages/tensorflow/python/keras/layers/recurrent.py?line=669'>670</a>\u001b[0m \u001b[39m# If any of `initial_state` or `constants` are specified and are Keras\u001b[39;00m\n\u001b[0;32m    <a href='file:///c%3A/Users/USER/anaconda3/lib/site-packages/tensorflow/python/keras/layers/recurrent.py?line=670'>671</a>\u001b[0m \u001b[39m# tensors, then add them to the inputs and temporarily modify the\u001b[39;00m\n\u001b[0;32m    <a href='file:///c%3A/Users/USER/anaconda3/lib/site-packages/tensorflow/python/keras/layers/recurrent.py?line=671'>672</a>\u001b[0m \u001b[39m# input_spec to include them.\u001b[39;00m\n\u001b[0;32m    <a href='file:///c%3A/Users/USER/anaconda3/lib/site-packages/tensorflow/python/keras/layers/recurrent.py?line=673'>674</a>\u001b[0m additional_inputs \u001b[39m=\u001b[39m []\n",
      "File \u001b[1;32mc:\\Users\\USER\\anaconda3\\lib\\site-packages\\tensorflow\\python\\keras\\engine\\base_layer.py:969\u001b[0m, in \u001b[0;36mLayer.__call__\u001b[1;34m(self, *args, **kwargs)\u001b[0m\n\u001b[0;32m    <a href='file:///c%3A/Users/USER/anaconda3/lib/site-packages/tensorflow/python/keras/engine/base_layer.py?line=962'>963</a>\u001b[0m \u001b[39m# Functional Model construction mode is invoked when `Layer`s are called on\u001b[39;00m\n\u001b[0;32m    <a href='file:///c%3A/Users/USER/anaconda3/lib/site-packages/tensorflow/python/keras/engine/base_layer.py?line=963'>964</a>\u001b[0m \u001b[39m# symbolic `KerasTensor`s, i.e.:\u001b[39;00m\n\u001b[0;32m    <a href='file:///c%3A/Users/USER/anaconda3/lib/site-packages/tensorflow/python/keras/engine/base_layer.py?line=964'>965</a>\u001b[0m \u001b[39m# >> inputs = tf.keras.Input(10)\u001b[39;00m\n\u001b[0;32m    <a href='file:///c%3A/Users/USER/anaconda3/lib/site-packages/tensorflow/python/keras/engine/base_layer.py?line=965'>966</a>\u001b[0m \u001b[39m# >> outputs = MyLayer()(inputs)  # Functional construction mode.\u001b[39;00m\n\u001b[0;32m    <a href='file:///c%3A/Users/USER/anaconda3/lib/site-packages/tensorflow/python/keras/engine/base_layer.py?line=966'>967</a>\u001b[0m \u001b[39m# >> model = tf.keras.Model(inputs, outputs)\u001b[39;00m\n\u001b[0;32m    <a href='file:///c%3A/Users/USER/anaconda3/lib/site-packages/tensorflow/python/keras/engine/base_layer.py?line=967'>968</a>\u001b[0m \u001b[39mif\u001b[39;00m _in_functional_construction_mode(\u001b[39mself\u001b[39m, inputs, args, kwargs, input_list):\n\u001b[1;32m--> <a href='file:///c%3A/Users/USER/anaconda3/lib/site-packages/tensorflow/python/keras/engine/base_layer.py?line=968'>969</a>\u001b[0m   \u001b[39mreturn\u001b[39;00m \u001b[39mself\u001b[39;49m\u001b[39m.\u001b[39;49m_functional_construction_call(inputs, args, kwargs,\n\u001b[0;32m    <a href='file:///c%3A/Users/USER/anaconda3/lib/site-packages/tensorflow/python/keras/engine/base_layer.py?line=969'>970</a>\u001b[0m                                             input_list)\n\u001b[0;32m    <a href='file:///c%3A/Users/USER/anaconda3/lib/site-packages/tensorflow/python/keras/engine/base_layer.py?line=971'>972</a>\u001b[0m \u001b[39m# Maintains info about the `Layer.call` stack.\u001b[39;00m\n\u001b[0;32m    <a href='file:///c%3A/Users/USER/anaconda3/lib/site-packages/tensorflow/python/keras/engine/base_layer.py?line=972'>973</a>\u001b[0m call_context \u001b[39m=\u001b[39m base_layer_utils\u001b[39m.\u001b[39mcall_context()\n",
      "File \u001b[1;32mc:\\Users\\USER\\anaconda3\\lib\\site-packages\\tensorflow\\python\\keras\\engine\\base_layer.py:1107\u001b[0m, in \u001b[0;36mLayer._functional_construction_call\u001b[1;34m(self, inputs, args, kwargs, input_list)\u001b[0m\n\u001b[0;32m   <a href='file:///c%3A/Users/USER/anaconda3/lib/site-packages/tensorflow/python/keras/engine/base_layer.py?line=1101'>1102</a>\u001b[0m     training_arg_passed_by_framework \u001b[39m=\u001b[39m \u001b[39mTrue\u001b[39;00m\n\u001b[0;32m   <a href='file:///c%3A/Users/USER/anaconda3/lib/site-packages/tensorflow/python/keras/engine/base_layer.py?line=1103'>1104</a>\u001b[0m \u001b[39mwith\u001b[39;00m call_context\u001b[39m.\u001b[39menter(\n\u001b[0;32m   <a href='file:///c%3A/Users/USER/anaconda3/lib/site-packages/tensorflow/python/keras/engine/base_layer.py?line=1104'>1105</a>\u001b[0m     layer\u001b[39m=\u001b[39m\u001b[39mself\u001b[39m, inputs\u001b[39m=\u001b[39minputs, build_graph\u001b[39m=\u001b[39m\u001b[39mTrue\u001b[39;00m, training\u001b[39m=\u001b[39mtraining_value):\n\u001b[0;32m   <a href='file:///c%3A/Users/USER/anaconda3/lib/site-packages/tensorflow/python/keras/engine/base_layer.py?line=1105'>1106</a>\u001b[0m   \u001b[39m# Check input assumptions set after layer building, e.g. input shape.\u001b[39;00m\n\u001b[1;32m-> <a href='file:///c%3A/Users/USER/anaconda3/lib/site-packages/tensorflow/python/keras/engine/base_layer.py?line=1106'>1107</a>\u001b[0m   outputs \u001b[39m=\u001b[39m \u001b[39mself\u001b[39;49m\u001b[39m.\u001b[39;49m_keras_tensor_symbolic_call(\n\u001b[0;32m   <a href='file:///c%3A/Users/USER/anaconda3/lib/site-packages/tensorflow/python/keras/engine/base_layer.py?line=1107'>1108</a>\u001b[0m       inputs, input_masks, args, kwargs)\n\u001b[0;32m   <a href='file:///c%3A/Users/USER/anaconda3/lib/site-packages/tensorflow/python/keras/engine/base_layer.py?line=1109'>1110</a>\u001b[0m   \u001b[39mif\u001b[39;00m outputs \u001b[39mis\u001b[39;00m \u001b[39mNone\u001b[39;00m:\n\u001b[0;32m   <a href='file:///c%3A/Users/USER/anaconda3/lib/site-packages/tensorflow/python/keras/engine/base_layer.py?line=1110'>1111</a>\u001b[0m     \u001b[39mraise\u001b[39;00m \u001b[39mValueError\u001b[39;00m(\u001b[39m'\u001b[39m\u001b[39mA layer\u001b[39m\u001b[39m\\'\u001b[39;00m\u001b[39ms `call` method should return a \u001b[39m\u001b[39m'\u001b[39m\n\u001b[0;32m   <a href='file:///c%3A/Users/USER/anaconda3/lib/site-packages/tensorflow/python/keras/engine/base_layer.py?line=1111'>1112</a>\u001b[0m                      \u001b[39m'\u001b[39m\u001b[39mTensor or a list of Tensors, not None \u001b[39m\u001b[39m'\u001b[39m\n\u001b[0;32m   <a href='file:///c%3A/Users/USER/anaconda3/lib/site-packages/tensorflow/python/keras/engine/base_layer.py?line=1112'>1113</a>\u001b[0m                      \u001b[39m'\u001b[39m\u001b[39m(layer: \u001b[39m\u001b[39m'\u001b[39m \u001b[39m+\u001b[39m \u001b[39mself\u001b[39m\u001b[39m.\u001b[39mname \u001b[39m+\u001b[39m \u001b[39m'\u001b[39m\u001b[39m).\u001b[39m\u001b[39m'\u001b[39m)\n",
      "File \u001b[1;32mc:\\Users\\USER\\anaconda3\\lib\\site-packages\\tensorflow\\python\\keras\\engine\\base_layer.py:840\u001b[0m, in \u001b[0;36mLayer._keras_tensor_symbolic_call\u001b[1;34m(self, inputs, input_masks, args, kwargs)\u001b[0m\n\u001b[0;32m    <a href='file:///c%3A/Users/USER/anaconda3/lib/site-packages/tensorflow/python/keras/engine/base_layer.py?line=837'>838</a>\u001b[0m   \u001b[39mreturn\u001b[39;00m nest\u001b[39m.\u001b[39mmap_structure(keras_tensor\u001b[39m.\u001b[39mKerasTensor, output_signature)\n\u001b[0;32m    <a href='file:///c%3A/Users/USER/anaconda3/lib/site-packages/tensorflow/python/keras/engine/base_layer.py?line=838'>839</a>\u001b[0m \u001b[39melse\u001b[39;00m:\n\u001b[1;32m--> <a href='file:///c%3A/Users/USER/anaconda3/lib/site-packages/tensorflow/python/keras/engine/base_layer.py?line=839'>840</a>\u001b[0m   \u001b[39mreturn\u001b[39;00m \u001b[39mself\u001b[39;49m\u001b[39m.\u001b[39;49m_infer_output_signature(inputs, args, kwargs, input_masks)\n",
      "File \u001b[1;32mc:\\Users\\USER\\anaconda3\\lib\\site-packages\\tensorflow\\python\\keras\\engine\\base_layer.py:880\u001b[0m, in \u001b[0;36mLayer._infer_output_signature\u001b[1;34m(self, inputs, args, kwargs, input_masks)\u001b[0m\n\u001b[0;32m    <a href='file:///c%3A/Users/USER/anaconda3/lib/site-packages/tensorflow/python/keras/engine/base_layer.py?line=877'>878</a>\u001b[0m     \u001b[39mself\u001b[39m\u001b[39m.\u001b[39m_maybe_build(inputs)\n\u001b[0;32m    <a href='file:///c%3A/Users/USER/anaconda3/lib/site-packages/tensorflow/python/keras/engine/base_layer.py?line=878'>879</a>\u001b[0m     inputs \u001b[39m=\u001b[39m \u001b[39mself\u001b[39m\u001b[39m.\u001b[39m_maybe_cast_inputs(inputs)\n\u001b[1;32m--> <a href='file:///c%3A/Users/USER/anaconda3/lib/site-packages/tensorflow/python/keras/engine/base_layer.py?line=879'>880</a>\u001b[0m     outputs \u001b[39m=\u001b[39m call_fn(inputs, \u001b[39m*\u001b[39margs, \u001b[39m*\u001b[39m\u001b[39m*\u001b[39mkwargs)\n\u001b[0;32m    <a href='file:///c%3A/Users/USER/anaconda3/lib/site-packages/tensorflow/python/keras/engine/base_layer.py?line=881'>882</a>\u001b[0m   \u001b[39mself\u001b[39m\u001b[39m.\u001b[39m_handle_activity_regularization(inputs, outputs)\n\u001b[0;32m    <a href='file:///c%3A/Users/USER/anaconda3/lib/site-packages/tensorflow/python/keras/engine/base_layer.py?line=882'>883</a>\u001b[0m \u001b[39mself\u001b[39m\u001b[39m.\u001b[39m_set_mask_metadata(inputs, outputs, input_masks,\n\u001b[0;32m    <a href='file:///c%3A/Users/USER/anaconda3/lib/site-packages/tensorflow/python/keras/engine/base_layer.py?line=883'>884</a>\u001b[0m                         build_graph\u001b[39m=\u001b[39m\u001b[39mFalse\u001b[39;00m)\n",
      "File \u001b[1;32mc:\\Users\\USER\\anaconda3\\lib\\site-packages\\tensorflow\\python\\keras\\layers\\recurrent_v2.py:1153\u001b[0m, in \u001b[0;36mLSTM.call\u001b[1;34m(self, inputs, mask, training, initial_state)\u001b[0m\n\u001b[0;32m   <a href='file:///c%3A/Users/USER/anaconda3/lib/site-packages/tensorflow/python/keras/layers/recurrent_v2.py?line=1149'>1150</a>\u001b[0m \u001b[39mself\u001b[39m\u001b[39m.\u001b[39m_validate_args_if_ragged(is_ragged_input, mask)\n\u001b[0;32m   <a href='file:///c%3A/Users/USER/anaconda3/lib/site-packages/tensorflow/python/keras/layers/recurrent_v2.py?line=1151'>1152</a>\u001b[0m \u001b[39m# LSTM does not support constants. Ignore it during process.\u001b[39;00m\n\u001b[1;32m-> <a href='file:///c%3A/Users/USER/anaconda3/lib/site-packages/tensorflow/python/keras/layers/recurrent_v2.py?line=1152'>1153</a>\u001b[0m inputs, initial_state, _ \u001b[39m=\u001b[39m \u001b[39mself\u001b[39;49m\u001b[39m.\u001b[39;49m_process_inputs(inputs, initial_state, \u001b[39mNone\u001b[39;49;00m)\n\u001b[0;32m   <a href='file:///c%3A/Users/USER/anaconda3/lib/site-packages/tensorflow/python/keras/layers/recurrent_v2.py?line=1154'>1155</a>\u001b[0m \u001b[39mif\u001b[39;00m \u001b[39misinstance\u001b[39m(mask, \u001b[39mlist\u001b[39m):\n\u001b[0;32m   <a href='file:///c%3A/Users/USER/anaconda3/lib/site-packages/tensorflow/python/keras/layers/recurrent_v2.py?line=1155'>1156</a>\u001b[0m   mask \u001b[39m=\u001b[39m mask[\u001b[39m0\u001b[39m]\n",
      "File \u001b[1;32mc:\\Users\\USER\\anaconda3\\lib\\site-packages\\tensorflow\\python\\keras\\layers\\recurrent.py:868\u001b[0m, in \u001b[0;36mRNN._process_inputs\u001b[1;34m(self, inputs, initial_state, constants)\u001b[0m\n\u001b[0;32m    <a href='file:///c%3A/Users/USER/anaconda3/lib/site-packages/tensorflow/python/keras/layers/recurrent.py?line=865'>866</a>\u001b[0m     initial_state \u001b[39m=\u001b[39m \u001b[39mself\u001b[39m\u001b[39m.\u001b[39mstates\n\u001b[0;32m    <a href='file:///c%3A/Users/USER/anaconda3/lib/site-packages/tensorflow/python/keras/layers/recurrent.py?line=866'>867</a>\u001b[0m \u001b[39melif\u001b[39;00m initial_state \u001b[39mis\u001b[39;00m \u001b[39mNone\u001b[39;00m:\n\u001b[1;32m--> <a href='file:///c%3A/Users/USER/anaconda3/lib/site-packages/tensorflow/python/keras/layers/recurrent.py?line=867'>868</a>\u001b[0m   initial_state \u001b[39m=\u001b[39m \u001b[39mself\u001b[39;49m\u001b[39m.\u001b[39;49mget_initial_state(inputs)\n\u001b[0;32m    <a href='file:///c%3A/Users/USER/anaconda3/lib/site-packages/tensorflow/python/keras/layers/recurrent.py?line=869'>870</a>\u001b[0m \u001b[39mif\u001b[39;00m \u001b[39mlen\u001b[39m(initial_state) \u001b[39m!=\u001b[39m \u001b[39mlen\u001b[39m(\u001b[39mself\u001b[39m\u001b[39m.\u001b[39mstates):\n\u001b[0;32m    <a href='file:///c%3A/Users/USER/anaconda3/lib/site-packages/tensorflow/python/keras/layers/recurrent.py?line=870'>871</a>\u001b[0m   \u001b[39mraise\u001b[39;00m \u001b[39mValueError\u001b[39;00m(\u001b[39m'\u001b[39m\u001b[39mLayer has \u001b[39m\u001b[39m'\u001b[39m \u001b[39m+\u001b[39m \u001b[39mstr\u001b[39m(\u001b[39mlen\u001b[39m(\u001b[39mself\u001b[39m\u001b[39m.\u001b[39mstates)) \u001b[39m+\u001b[39m\n\u001b[0;32m    <a href='file:///c%3A/Users/USER/anaconda3/lib/site-packages/tensorflow/python/keras/layers/recurrent.py?line=871'>872</a>\u001b[0m                    \u001b[39m'\u001b[39m\u001b[39m states but was passed \u001b[39m\u001b[39m'\u001b[39m \u001b[39m+\u001b[39m \u001b[39mstr\u001b[39m(\u001b[39mlen\u001b[39m(initial_state)) \u001b[39m+\u001b[39m\n\u001b[0;32m    <a href='file:///c%3A/Users/USER/anaconda3/lib/site-packages/tensorflow/python/keras/layers/recurrent.py?line=872'>873</a>\u001b[0m                    \u001b[39m'\u001b[39m\u001b[39m initial states.\u001b[39m\u001b[39m'\u001b[39m)\n",
      "File \u001b[1;32mc:\\Users\\USER\\anaconda3\\lib\\site-packages\\tensorflow\\python\\keras\\layers\\recurrent.py:650\u001b[0m, in \u001b[0;36mRNN.get_initial_state\u001b[1;34m(self, inputs)\u001b[0m\n\u001b[0;32m    <a href='file:///c%3A/Users/USER/anaconda3/lib/site-packages/tensorflow/python/keras/layers/recurrent.py?line=647'>648</a>\u001b[0m dtype \u001b[39m=\u001b[39m inputs\u001b[39m.\u001b[39mdtype\n\u001b[0;32m    <a href='file:///c%3A/Users/USER/anaconda3/lib/site-packages/tensorflow/python/keras/layers/recurrent.py?line=648'>649</a>\u001b[0m \u001b[39mif\u001b[39;00m get_initial_state_fn:\n\u001b[1;32m--> <a href='file:///c%3A/Users/USER/anaconda3/lib/site-packages/tensorflow/python/keras/layers/recurrent.py?line=649'>650</a>\u001b[0m   init_state \u001b[39m=\u001b[39m get_initial_state_fn(\n\u001b[0;32m    <a href='file:///c%3A/Users/USER/anaconda3/lib/site-packages/tensorflow/python/keras/layers/recurrent.py?line=650'>651</a>\u001b[0m       inputs\u001b[39m=\u001b[39;49m\u001b[39mNone\u001b[39;49;00m, batch_size\u001b[39m=\u001b[39;49mbatch_size, dtype\u001b[39m=\u001b[39;49mdtype)\n\u001b[0;32m    <a href='file:///c%3A/Users/USER/anaconda3/lib/site-packages/tensorflow/python/keras/layers/recurrent.py?line=651'>652</a>\u001b[0m \u001b[39melse\u001b[39;00m:\n\u001b[0;32m    <a href='file:///c%3A/Users/USER/anaconda3/lib/site-packages/tensorflow/python/keras/layers/recurrent.py?line=652'>653</a>\u001b[0m   init_state \u001b[39m=\u001b[39m _generate_zero_filled_state(batch_size, \u001b[39mself\u001b[39m\u001b[39m.\u001b[39mcell\u001b[39m.\u001b[39mstate_size,\n\u001b[0;32m    <a href='file:///c%3A/Users/USER/anaconda3/lib/site-packages/tensorflow/python/keras/layers/recurrent.py?line=653'>654</a>\u001b[0m                                            dtype)\n",
      "File \u001b[1;32mc:\\Users\\USER\\anaconda3\\lib\\site-packages\\tensorflow\\python\\keras\\layers\\recurrent.py:2516\u001b[0m, in \u001b[0;36mLSTMCell.get_initial_state\u001b[1;34m(self, inputs, batch_size, dtype)\u001b[0m\n\u001b[0;32m   <a href='file:///c%3A/Users/USER/anaconda3/lib/site-packages/tensorflow/python/keras/layers/recurrent.py?line=2514'>2515</a>\u001b[0m \u001b[39mdef\u001b[39;00m \u001b[39mget_initial_state\u001b[39m(\u001b[39mself\u001b[39m, inputs\u001b[39m=\u001b[39m\u001b[39mNone\u001b[39;00m, batch_size\u001b[39m=\u001b[39m\u001b[39mNone\u001b[39;00m, dtype\u001b[39m=\u001b[39m\u001b[39mNone\u001b[39;00m):\n\u001b[1;32m-> <a href='file:///c%3A/Users/USER/anaconda3/lib/site-packages/tensorflow/python/keras/layers/recurrent.py?line=2515'>2516</a>\u001b[0m   \u001b[39mreturn\u001b[39;00m \u001b[39mlist\u001b[39m(_generate_zero_filled_state_for_cell(\n\u001b[0;32m   <a href='file:///c%3A/Users/USER/anaconda3/lib/site-packages/tensorflow/python/keras/layers/recurrent.py?line=2516'>2517</a>\u001b[0m       \u001b[39mself\u001b[39;49m, inputs, batch_size, dtype))\n",
      "File \u001b[1;32mc:\\Users\\USER\\anaconda3\\lib\\site-packages\\tensorflow\\python\\keras\\layers\\recurrent.py:2998\u001b[0m, in \u001b[0;36m_generate_zero_filled_state_for_cell\u001b[1;34m(cell, inputs, batch_size, dtype)\u001b[0m\n\u001b[0;32m   <a href='file:///c%3A/Users/USER/anaconda3/lib/site-packages/tensorflow/python/keras/layers/recurrent.py?line=2995'>2996</a>\u001b[0m   batch_size \u001b[39m=\u001b[39m array_ops\u001b[39m.\u001b[39mshape(inputs)[\u001b[39m0\u001b[39m]\n\u001b[0;32m   <a href='file:///c%3A/Users/USER/anaconda3/lib/site-packages/tensorflow/python/keras/layers/recurrent.py?line=2996'>2997</a>\u001b[0m   dtype \u001b[39m=\u001b[39m inputs\u001b[39m.\u001b[39mdtype\n\u001b[1;32m-> <a href='file:///c%3A/Users/USER/anaconda3/lib/site-packages/tensorflow/python/keras/layers/recurrent.py?line=2997'>2998</a>\u001b[0m \u001b[39mreturn\u001b[39;00m _generate_zero_filled_state(batch_size, cell\u001b[39m.\u001b[39;49mstate_size, dtype)\n",
      "File \u001b[1;32mc:\\Users\\USER\\anaconda3\\lib\\site-packages\\tensorflow\\python\\keras\\layers\\recurrent.py:3014\u001b[0m, in \u001b[0;36m_generate_zero_filled_state\u001b[1;34m(batch_size_tensor, state_size, dtype)\u001b[0m\n\u001b[0;32m   <a href='file:///c%3A/Users/USER/anaconda3/lib/site-packages/tensorflow/python/keras/layers/recurrent.py?line=3010'>3011</a>\u001b[0m   \u001b[39mreturn\u001b[39;00m array_ops\u001b[39m.\u001b[39mzeros(init_state_size, dtype\u001b[39m=\u001b[39mdtype)\n\u001b[0;32m   <a href='file:///c%3A/Users/USER/anaconda3/lib/site-packages/tensorflow/python/keras/layers/recurrent.py?line=3012'>3013</a>\u001b[0m \u001b[39mif\u001b[39;00m nest\u001b[39m.\u001b[39mis_nested(state_size):\n\u001b[1;32m-> <a href='file:///c%3A/Users/USER/anaconda3/lib/site-packages/tensorflow/python/keras/layers/recurrent.py?line=3013'>3014</a>\u001b[0m   \u001b[39mreturn\u001b[39;00m nest\u001b[39m.\u001b[39;49mmap_structure(create_zeros, state_size)\n\u001b[0;32m   <a href='file:///c%3A/Users/USER/anaconda3/lib/site-packages/tensorflow/python/keras/layers/recurrent.py?line=3014'>3015</a>\u001b[0m \u001b[39melse\u001b[39;00m:\n\u001b[0;32m   <a href='file:///c%3A/Users/USER/anaconda3/lib/site-packages/tensorflow/python/keras/layers/recurrent.py?line=3015'>3016</a>\u001b[0m   \u001b[39mreturn\u001b[39;00m create_zeros(state_size)\n",
      "File \u001b[1;32mc:\\Users\\USER\\anaconda3\\lib\\site-packages\\tensorflow\\python\\util\\nest.py:867\u001b[0m, in \u001b[0;36mmap_structure\u001b[1;34m(func, *structure, **kwargs)\u001b[0m\n\u001b[0;32m    <a href='file:///c%3A/Users/USER/anaconda3/lib/site-packages/tensorflow/python/util/nest.py?line=862'>863</a>\u001b[0m flat_structure \u001b[39m=\u001b[39m (flatten(s, expand_composites) \u001b[39mfor\u001b[39;00m s \u001b[39min\u001b[39;00m structure)\n\u001b[0;32m    <a href='file:///c%3A/Users/USER/anaconda3/lib/site-packages/tensorflow/python/util/nest.py?line=863'>864</a>\u001b[0m entries \u001b[39m=\u001b[39m \u001b[39mzip\u001b[39m(\u001b[39m*\u001b[39mflat_structure)\n\u001b[0;32m    <a href='file:///c%3A/Users/USER/anaconda3/lib/site-packages/tensorflow/python/util/nest.py?line=865'>866</a>\u001b[0m \u001b[39mreturn\u001b[39;00m pack_sequence_as(\n\u001b[1;32m--> <a href='file:///c%3A/Users/USER/anaconda3/lib/site-packages/tensorflow/python/util/nest.py?line=866'>867</a>\u001b[0m     structure[\u001b[39m0\u001b[39m], [func(\u001b[39m*\u001b[39mx) \u001b[39mfor\u001b[39;00m x \u001b[39min\u001b[39;00m entries],\n\u001b[0;32m    <a href='file:///c%3A/Users/USER/anaconda3/lib/site-packages/tensorflow/python/util/nest.py?line=867'>868</a>\u001b[0m     expand_composites\u001b[39m=\u001b[39mexpand_composites)\n",
      "File \u001b[1;32mc:\\Users\\USER\\anaconda3\\lib\\site-packages\\tensorflow\\python\\util\\nest.py:867\u001b[0m, in \u001b[0;36m<listcomp>\u001b[1;34m(.0)\u001b[0m\n\u001b[0;32m    <a href='file:///c%3A/Users/USER/anaconda3/lib/site-packages/tensorflow/python/util/nest.py?line=862'>863</a>\u001b[0m flat_structure \u001b[39m=\u001b[39m (flatten(s, expand_composites) \u001b[39mfor\u001b[39;00m s \u001b[39min\u001b[39;00m structure)\n\u001b[0;32m    <a href='file:///c%3A/Users/USER/anaconda3/lib/site-packages/tensorflow/python/util/nest.py?line=863'>864</a>\u001b[0m entries \u001b[39m=\u001b[39m \u001b[39mzip\u001b[39m(\u001b[39m*\u001b[39mflat_structure)\n\u001b[0;32m    <a href='file:///c%3A/Users/USER/anaconda3/lib/site-packages/tensorflow/python/util/nest.py?line=865'>866</a>\u001b[0m \u001b[39mreturn\u001b[39;00m pack_sequence_as(\n\u001b[1;32m--> <a href='file:///c%3A/Users/USER/anaconda3/lib/site-packages/tensorflow/python/util/nest.py?line=866'>867</a>\u001b[0m     structure[\u001b[39m0\u001b[39m], [func(\u001b[39m*\u001b[39;49mx) \u001b[39mfor\u001b[39;00m x \u001b[39min\u001b[39;00m entries],\n\u001b[0;32m    <a href='file:///c%3A/Users/USER/anaconda3/lib/site-packages/tensorflow/python/util/nest.py?line=867'>868</a>\u001b[0m     expand_composites\u001b[39m=\u001b[39mexpand_composites)\n",
      "File \u001b[1;32mc:\\Users\\USER\\anaconda3\\lib\\site-packages\\tensorflow\\python\\keras\\layers\\recurrent.py:3011\u001b[0m, in \u001b[0;36m_generate_zero_filled_state.<locals>.create_zeros\u001b[1;34m(unnested_state_size)\u001b[0m\n\u001b[0;32m   <a href='file:///c%3A/Users/USER/anaconda3/lib/site-packages/tensorflow/python/keras/layers/recurrent.py?line=3008'>3009</a>\u001b[0m flat_dims \u001b[39m=\u001b[39m tensor_shape\u001b[39m.\u001b[39mTensorShape(unnested_state_size)\u001b[39m.\u001b[39mas_list()\n\u001b[0;32m   <a href='file:///c%3A/Users/USER/anaconda3/lib/site-packages/tensorflow/python/keras/layers/recurrent.py?line=3009'>3010</a>\u001b[0m init_state_size \u001b[39m=\u001b[39m [batch_size_tensor] \u001b[39m+\u001b[39m flat_dims\n\u001b[1;32m-> <a href='file:///c%3A/Users/USER/anaconda3/lib/site-packages/tensorflow/python/keras/layers/recurrent.py?line=3010'>3011</a>\u001b[0m \u001b[39mreturn\u001b[39;00m array_ops\u001b[39m.\u001b[39;49mzeros(init_state_size, dtype\u001b[39m=\u001b[39;49mdtype)\n",
      "File \u001b[1;32mc:\\Users\\USER\\anaconda3\\lib\\site-packages\\tensorflow\\python\\util\\dispatch.py:206\u001b[0m, in \u001b[0;36madd_dispatch_support.<locals>.wrapper\u001b[1;34m(*args, **kwargs)\u001b[0m\n\u001b[0;32m    <a href='file:///c%3A/Users/USER/anaconda3/lib/site-packages/tensorflow/python/util/dispatch.py?line=203'>204</a>\u001b[0m \u001b[39m\"\"\"Call target, and fall back on dispatchers if there is a TypeError.\"\"\"\u001b[39;00m\n\u001b[0;32m    <a href='file:///c%3A/Users/USER/anaconda3/lib/site-packages/tensorflow/python/util/dispatch.py?line=204'>205</a>\u001b[0m \u001b[39mtry\u001b[39;00m:\n\u001b[1;32m--> <a href='file:///c%3A/Users/USER/anaconda3/lib/site-packages/tensorflow/python/util/dispatch.py?line=205'>206</a>\u001b[0m   \u001b[39mreturn\u001b[39;00m target(\u001b[39m*\u001b[39margs, \u001b[39m*\u001b[39m\u001b[39m*\u001b[39mkwargs)\n\u001b[0;32m    <a href='file:///c%3A/Users/USER/anaconda3/lib/site-packages/tensorflow/python/util/dispatch.py?line=206'>207</a>\u001b[0m \u001b[39mexcept\u001b[39;00m (\u001b[39mTypeError\u001b[39;00m, \u001b[39mValueError\u001b[39;00m):\n\u001b[0;32m    <a href='file:///c%3A/Users/USER/anaconda3/lib/site-packages/tensorflow/python/util/dispatch.py?line=207'>208</a>\u001b[0m   \u001b[39m# Note: convert_to_eager_tensor currently raises a ValueError, not a\u001b[39;00m\n\u001b[0;32m    <a href='file:///c%3A/Users/USER/anaconda3/lib/site-packages/tensorflow/python/util/dispatch.py?line=208'>209</a>\u001b[0m   \u001b[39m# TypeError, when given unexpected types.  So we need to catch both.\u001b[39;00m\n\u001b[0;32m    <a href='file:///c%3A/Users/USER/anaconda3/lib/site-packages/tensorflow/python/util/dispatch.py?line=209'>210</a>\u001b[0m   result \u001b[39m=\u001b[39m dispatch(wrapper, args, kwargs)\n",
      "File \u001b[1;32mc:\\Users\\USER\\anaconda3\\lib\\site-packages\\tensorflow\\python\\ops\\array_ops.py:2911\u001b[0m, in \u001b[0;36m_tag_zeros_tensor.<locals>.wrapped\u001b[1;34m(*args, **kwargs)\u001b[0m\n\u001b[0;32m   <a href='file:///c%3A/Users/USER/anaconda3/lib/site-packages/tensorflow/python/ops/array_ops.py?line=2909'>2910</a>\u001b[0m \u001b[39mdef\u001b[39;00m \u001b[39mwrapped\u001b[39m(\u001b[39m*\u001b[39margs, \u001b[39m*\u001b[39m\u001b[39m*\u001b[39mkwargs):\n\u001b[1;32m-> <a href='file:///c%3A/Users/USER/anaconda3/lib/site-packages/tensorflow/python/ops/array_ops.py?line=2910'>2911</a>\u001b[0m   tensor \u001b[39m=\u001b[39m fun(\u001b[39m*\u001b[39margs, \u001b[39m*\u001b[39m\u001b[39m*\u001b[39mkwargs)\n\u001b[0;32m   <a href='file:///c%3A/Users/USER/anaconda3/lib/site-packages/tensorflow/python/ops/array_ops.py?line=2911'>2912</a>\u001b[0m   tensor\u001b[39m.\u001b[39m_is_zeros_tensor \u001b[39m=\u001b[39m \u001b[39mTrue\u001b[39;00m\n\u001b[0;32m   <a href='file:///c%3A/Users/USER/anaconda3/lib/site-packages/tensorflow/python/ops/array_ops.py?line=2912'>2913</a>\u001b[0m   \u001b[39mreturn\u001b[39;00m tensor\n",
      "File \u001b[1;32mc:\\Users\\USER\\anaconda3\\lib\\site-packages\\tensorflow\\python\\ops\\array_ops.py:2960\u001b[0m, in \u001b[0;36mzeros\u001b[1;34m(shape, dtype, name)\u001b[0m\n\u001b[0;32m   <a href='file:///c%3A/Users/USER/anaconda3/lib/site-packages/tensorflow/python/ops/array_ops.py?line=2955'>2956</a>\u001b[0m \u001b[39mtry\u001b[39;00m:\n\u001b[0;32m   <a href='file:///c%3A/Users/USER/anaconda3/lib/site-packages/tensorflow/python/ops/array_ops.py?line=2956'>2957</a>\u001b[0m   \u001b[39mif\u001b[39;00m \u001b[39mnot\u001b[39;00m context\u001b[39m.\u001b[39mexecuting_eagerly():\n\u001b[0;32m   <a href='file:///c%3A/Users/USER/anaconda3/lib/site-packages/tensorflow/python/ops/array_ops.py?line=2957'>2958</a>\u001b[0m     \u001b[39m# Create a constant if it won't be very big. Otherwise create a fill\u001b[39;00m\n\u001b[0;32m   <a href='file:///c%3A/Users/USER/anaconda3/lib/site-packages/tensorflow/python/ops/array_ops.py?line=2958'>2959</a>\u001b[0m     \u001b[39m# op to prevent serialized GraphDefs from becoming too large.\u001b[39;00m\n\u001b[1;32m-> <a href='file:///c%3A/Users/USER/anaconda3/lib/site-packages/tensorflow/python/ops/array_ops.py?line=2959'>2960</a>\u001b[0m     output \u001b[39m=\u001b[39m _constant_if_small(zero, shape, dtype, name)\n\u001b[0;32m   <a href='file:///c%3A/Users/USER/anaconda3/lib/site-packages/tensorflow/python/ops/array_ops.py?line=2960'>2961</a>\u001b[0m     \u001b[39mif\u001b[39;00m output \u001b[39mis\u001b[39;00m \u001b[39mnot\u001b[39;00m \u001b[39mNone\u001b[39;00m:\n\u001b[0;32m   <a href='file:///c%3A/Users/USER/anaconda3/lib/site-packages/tensorflow/python/ops/array_ops.py?line=2961'>2962</a>\u001b[0m       \u001b[39mreturn\u001b[39;00m output\n",
      "File \u001b[1;32mc:\\Users\\USER\\anaconda3\\lib\\site-packages\\tensorflow\\python\\ops\\array_ops.py:2896\u001b[0m, in \u001b[0;36m_constant_if_small\u001b[1;34m(value, shape, dtype, name)\u001b[0m\n\u001b[0;32m   <a href='file:///c%3A/Users/USER/anaconda3/lib/site-packages/tensorflow/python/ops/array_ops.py?line=2893'>2894</a>\u001b[0m \u001b[39mdef\u001b[39;00m \u001b[39m_constant_if_small\u001b[39m(value, shape, dtype, name):\n\u001b[0;32m   <a href='file:///c%3A/Users/USER/anaconda3/lib/site-packages/tensorflow/python/ops/array_ops.py?line=2894'>2895</a>\u001b[0m   \u001b[39mtry\u001b[39;00m:\n\u001b[1;32m-> <a href='file:///c%3A/Users/USER/anaconda3/lib/site-packages/tensorflow/python/ops/array_ops.py?line=2895'>2896</a>\u001b[0m     \u001b[39mif\u001b[39;00m np\u001b[39m.\u001b[39;49mprod(shape) \u001b[39m<\u001b[39m \u001b[39m1000\u001b[39m:\n\u001b[0;32m   <a href='file:///c%3A/Users/USER/anaconda3/lib/site-packages/tensorflow/python/ops/array_ops.py?line=2896'>2897</a>\u001b[0m       \u001b[39mreturn\u001b[39;00m constant(value, shape\u001b[39m=\u001b[39mshape, dtype\u001b[39m=\u001b[39mdtype, name\u001b[39m=\u001b[39mname)\n\u001b[0;32m   <a href='file:///c%3A/Users/USER/anaconda3/lib/site-packages/tensorflow/python/ops/array_ops.py?line=2897'>2898</a>\u001b[0m   \u001b[39mexcept\u001b[39;00m \u001b[39mTypeError\u001b[39;00m:\n\u001b[0;32m   <a href='file:///c%3A/Users/USER/anaconda3/lib/site-packages/tensorflow/python/ops/array_ops.py?line=2898'>2899</a>\u001b[0m     \u001b[39m# Happens when shape is a Tensor, list with Tensor elements, etc.\u001b[39;00m\n",
      "File \u001b[1;32m<__array_function__ internals>:5\u001b[0m, in \u001b[0;36mprod\u001b[1;34m(*args, **kwargs)\u001b[0m\n",
      "File \u001b[1;32mc:\\Users\\USER\\anaconda3\\lib\\site-packages\\numpy\\core\\fromnumeric.py:3051\u001b[0m, in \u001b[0;36mprod\u001b[1;34m(a, axis, dtype, out, keepdims, initial, where)\u001b[0m\n\u001b[0;32m   <a href='file:///c%3A/Users/USER/anaconda3/lib/site-packages/numpy/core/fromnumeric.py?line=2932'>2933</a>\u001b[0m \u001b[39m@array_function_dispatch\u001b[39m(_prod_dispatcher)\n\u001b[0;32m   <a href='file:///c%3A/Users/USER/anaconda3/lib/site-packages/numpy/core/fromnumeric.py?line=2933'>2934</a>\u001b[0m \u001b[39mdef\u001b[39;00m \u001b[39mprod\u001b[39m(a, axis\u001b[39m=\u001b[39m\u001b[39mNone\u001b[39;00m, dtype\u001b[39m=\u001b[39m\u001b[39mNone\u001b[39;00m, out\u001b[39m=\u001b[39m\u001b[39mNone\u001b[39;00m, keepdims\u001b[39m=\u001b[39mnp\u001b[39m.\u001b[39m_NoValue,\n\u001b[0;32m   <a href='file:///c%3A/Users/USER/anaconda3/lib/site-packages/numpy/core/fromnumeric.py?line=2934'>2935</a>\u001b[0m          initial\u001b[39m=\u001b[39mnp\u001b[39m.\u001b[39m_NoValue, where\u001b[39m=\u001b[39mnp\u001b[39m.\u001b[39m_NoValue):\n\u001b[0;32m   <a href='file:///c%3A/Users/USER/anaconda3/lib/site-packages/numpy/core/fromnumeric.py?line=2935'>2936</a>\u001b[0m     \u001b[39m\"\"\"\u001b[39;00m\n\u001b[0;32m   <a href='file:///c%3A/Users/USER/anaconda3/lib/site-packages/numpy/core/fromnumeric.py?line=2936'>2937</a>\u001b[0m \u001b[39m    Return the product of array elements over a given axis.\u001b[39;00m\n\u001b[0;32m   <a href='file:///c%3A/Users/USER/anaconda3/lib/site-packages/numpy/core/fromnumeric.py?line=2937'>2938</a>\u001b[0m \n\u001b[1;32m   (...)\u001b[0m\n\u001b[0;32m   <a href='file:///c%3A/Users/USER/anaconda3/lib/site-packages/numpy/core/fromnumeric.py?line=3048'>3049</a>\u001b[0m \u001b[39m    10\u001b[39;00m\n\u001b[0;32m   <a href='file:///c%3A/Users/USER/anaconda3/lib/site-packages/numpy/core/fromnumeric.py?line=3049'>3050</a>\u001b[0m \u001b[39m    \"\"\"\u001b[39;00m\n\u001b[1;32m-> <a href='file:///c%3A/Users/USER/anaconda3/lib/site-packages/numpy/core/fromnumeric.py?line=3050'>3051</a>\u001b[0m     \u001b[39mreturn\u001b[39;00m _wrapreduction(a, np\u001b[39m.\u001b[39;49mmultiply, \u001b[39m'\u001b[39;49m\u001b[39mprod\u001b[39;49m\u001b[39m'\u001b[39;49m, axis, dtype, out,\n\u001b[0;32m   <a href='file:///c%3A/Users/USER/anaconda3/lib/site-packages/numpy/core/fromnumeric.py?line=3051'>3052</a>\u001b[0m                           keepdims\u001b[39m=\u001b[39;49mkeepdims, initial\u001b[39m=\u001b[39;49minitial, where\u001b[39m=\u001b[39;49mwhere)\n",
      "File \u001b[1;32mc:\\Users\\USER\\anaconda3\\lib\\site-packages\\numpy\\core\\fromnumeric.py:86\u001b[0m, in \u001b[0;36m_wrapreduction\u001b[1;34m(obj, ufunc, method, axis, dtype, out, **kwargs)\u001b[0m\n\u001b[0;32m     <a href='file:///c%3A/Users/USER/anaconda3/lib/site-packages/numpy/core/fromnumeric.py?line=82'>83</a>\u001b[0m         \u001b[39melse\u001b[39;00m:\n\u001b[0;32m     <a href='file:///c%3A/Users/USER/anaconda3/lib/site-packages/numpy/core/fromnumeric.py?line=83'>84</a>\u001b[0m             \u001b[39mreturn\u001b[39;00m reduction(axis\u001b[39m=\u001b[39maxis, out\u001b[39m=\u001b[39mout, \u001b[39m*\u001b[39m\u001b[39m*\u001b[39mpasskwargs)\n\u001b[1;32m---> <a href='file:///c%3A/Users/USER/anaconda3/lib/site-packages/numpy/core/fromnumeric.py?line=85'>86</a>\u001b[0m \u001b[39mreturn\u001b[39;00m ufunc\u001b[39m.\u001b[39mreduce(obj, axis, dtype, out, \u001b[39m*\u001b[39m\u001b[39m*\u001b[39mpasskwargs)\n",
      "File \u001b[1;32mc:\\Users\\USER\\anaconda3\\lib\\site-packages\\tensorflow\\python\\framework\\ops.py:867\u001b[0m, in \u001b[0;36mTensor.__array__\u001b[1;34m(self)\u001b[0m\n\u001b[0;32m    <a href='file:///c%3A/Users/USER/anaconda3/lib/site-packages/tensorflow/python/framework/ops.py?line=865'>866</a>\u001b[0m \u001b[39mdef\u001b[39;00m \u001b[39m__array__\u001b[39m(\u001b[39mself\u001b[39m):\n\u001b[1;32m--> <a href='file:///c%3A/Users/USER/anaconda3/lib/site-packages/tensorflow/python/framework/ops.py?line=866'>867</a>\u001b[0m   \u001b[39mraise\u001b[39;00m \u001b[39mNotImplementedError\u001b[39;00m(\n\u001b[0;32m    <a href='file:///c%3A/Users/USER/anaconda3/lib/site-packages/tensorflow/python/framework/ops.py?line=867'>868</a>\u001b[0m       \u001b[39m\"\u001b[39m\u001b[39mCannot convert a symbolic Tensor (\u001b[39m\u001b[39m{}\u001b[39;00m\u001b[39m) to a numpy array.\u001b[39m\u001b[39m\"\u001b[39m\n\u001b[0;32m    <a href='file:///c%3A/Users/USER/anaconda3/lib/site-packages/tensorflow/python/framework/ops.py?line=868'>869</a>\u001b[0m       \u001b[39m\"\u001b[39m\u001b[39m This error may indicate that you\u001b[39m\u001b[39m'\u001b[39m\u001b[39mre trying to pass a Tensor to\u001b[39m\u001b[39m\"\u001b[39m\n\u001b[0;32m    <a href='file:///c%3A/Users/USER/anaconda3/lib/site-packages/tensorflow/python/framework/ops.py?line=869'>870</a>\u001b[0m       \u001b[39m\"\u001b[39m\u001b[39m a NumPy call, which is not supported\u001b[39m\u001b[39m\"\u001b[39m\u001b[39m.\u001b[39mformat(\u001b[39mself\u001b[39m\u001b[39m.\u001b[39mname))\n",
      "\u001b[1;31mNotImplementedError\u001b[0m: Cannot convert a symbolic Tensor (lstm/strided_slice:0) to a numpy array. This error may indicate that you're trying to pass a Tensor to a NumPy call, which is not supported"
     ]
    }
   ],
   "source": [
    "from tensorflow.keras import models\n",
    "from tensorflow.keras.layers import Embedding, Dense, LSTM, GRU, Dropout\n",
    "from tensorflow.keras.models import Sequential\n",
    "from tensorflow.keras.callbacks import EarlyStopping, ModelCheckpoint\n",
    "\n",
    "model = Sequential()\n",
    "model.add(Embedding(vocab_size, 100))\n",
    "model.add(LSTM(128, return_sequences = True))\n",
    "model.add(Dropout(0.5))\n",
    "model.add(GRU(128))\n",
    "model.add(Dropout(0.5))\n",
    "model.add(Dense(1, activation='sigmoid'))\n",
    "\n",
    "model.summary()\n",
    "\n",
    "es = EarlyStopping(monitor='LDGD', mode='min', verbose=1, patience=4)\n",
    "mc = ModelCheckpoint('SC.h5', monitor='val_acc', mode='max', verbose=1, save_best_only=True)\n",
    "\n",
    "model.compile(optimizer='adam', loss='mse', metrics=['acc'])\n",
    "history = model.fit(t_train2, e_train, epochs=15, callbacks=[es, mc], batch_size=6000, validation_split=0.2)"
   ]
  },
  {
   "cell_type": "code",
   "execution_count": 2,
   "metadata": {},
   "outputs": [
    {
     "name": "stdout",
     "output_type": "stream",
     "text": [
      "1.21.5\n",
      "2.5.3\n"
     ]
    }
   ],
   "source": [
    "import numpy as np\n",
    "import tensorflow as tf\n",
    "1.19.5\n",
    "print(np.__version__)\n",
    "print(tf.__version__)"
   ]
  },
  {
   "cell_type": "code",
   "execution_count": null,
   "metadata": {},
   "outputs": [],
   "source": [
    "from tensorflow.keras.models import load_model\n",
    "\n",
    "loaded_model = load_model('LDGD.h5')\n",
    "print(loaded_model.evaluate(t_test2, e_test)[1])"
   ]
  },
  {
   "cell_type": "code",
   "execution_count": null,
   "metadata": {},
   "outputs": [],
   "source": [
    "from sklearn.model_selection import cross_val_predict\n",
    "from sklearn.metrics import confusion_matrix\n",
    "\n",
    "e_train_pred = cross_val_predict(loaded_model, t_train2, e_train, cv=3)\n",
    "cf = confusion_matrix(e_train, e_train_pred)\n",
    "print(cf)"
   ]
  },
  {
   "cell_type": "code",
   "execution_count": null,
   "metadata": {},
   "outputs": [],
   "source": []
  }
 ],
 "metadata": {
  "interpreter": {
   "hash": "263930470851f494f0ed2879c35b57985588df20f9e529b86e97dd5eb9ddc466"
  },
  "kernelspec": {
   "display_name": "Python 3.9.12 ('base')",
   "language": "python",
   "name": "python3"
  },
  "language_info": {
   "codemirror_mode": {
    "name": "ipython",
    "version": 3
   },
   "file_extension": ".py",
   "mimetype": "text/x-python",
   "name": "python",
   "nbconvert_exporter": "python",
   "pygments_lexer": "ipython3",
   "version": "3.9.12"
  },
  "orig_nbformat": 4
 },
 "nbformat": 4,
 "nbformat_minor": 2
}
