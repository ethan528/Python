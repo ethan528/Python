{
 "cells": [
  {
   "cell_type": "code",
   "execution_count": 1,
   "metadata": {},
   "outputs": [
    {
     "data": {
      "text/html": [
       "<div>\n",
       "<style scoped>\n",
       "    .dataframe tbody tr th:only-of-type {\n",
       "        vertical-align: middle;\n",
       "    }\n",
       "\n",
       "    .dataframe tbody tr th {\n",
       "        vertical-align: top;\n",
       "    }\n",
       "\n",
       "    .dataframe thead th {\n",
       "        text-align: right;\n",
       "    }\n",
       "</style>\n",
       "<table border=\"1\" class=\"dataframe\">\n",
       "  <thead>\n",
       "    <tr style=\"text-align: right;\">\n",
       "      <th></th>\n",
       "      <th>price</th>\n",
       "      <th>year</th>\n",
       "      <th>use</th>\n",
       "      <th>depreciation</th>\n",
       "      <th>mileage</th>\n",
       "      <th>car_cc</th>\n",
       "    </tr>\n",
       "  </thead>\n",
       "  <tbody>\n",
       "    <tr>\n",
       "      <th>0</th>\n",
       "      <td>849</td>\n",
       "      <td>2013</td>\n",
       "      <td>103</td>\n",
       "      <td>60</td>\n",
       "      <td>131493</td>\n",
       "      <td>0</td>\n",
       "    </tr>\n",
       "    <tr>\n",
       "      <th>1</th>\n",
       "      <td>1450</td>\n",
       "      <td>2018</td>\n",
       "      <td>52</td>\n",
       "      <td>27</td>\n",
       "      <td>60000</td>\n",
       "      <td>1598</td>\n",
       "    </tr>\n",
       "    <tr>\n",
       "      <th>2</th>\n",
       "      <td>655</td>\n",
       "      <td>2017</td>\n",
       "      <td>57</td>\n",
       "      <td>54</td>\n",
       "      <td>133319</td>\n",
       "      <td>0</td>\n",
       "    </tr>\n",
       "    <tr>\n",
       "      <th>3</th>\n",
       "      <td>999</td>\n",
       "      <td>2017</td>\n",
       "      <td>48</td>\n",
       "      <td>21</td>\n",
       "      <td>90000</td>\n",
       "      <td>1399</td>\n",
       "    </tr>\n",
       "    <tr>\n",
       "      <th>4</th>\n",
       "      <td>580</td>\n",
       "      <td>2011</td>\n",
       "      <td>131</td>\n",
       "      <td>83</td>\n",
       "      <td>159474</td>\n",
       "      <td>0</td>\n",
       "    </tr>\n",
       "  </tbody>\n",
       "</table>\n",
       "</div>"
      ],
      "text/plain": [
       "   price  year  use  depreciation  mileage  car_cc\n",
       "0    849  2013  103            60   131493       0\n",
       "1   1450  2018   52            27    60000    1598\n",
       "2    655  2017   57            54   133319       0\n",
       "3    999  2017   48            21    90000    1399\n",
       "4    580  2011  131            83   159474       0"
      ]
     },
     "execution_count": 1,
     "metadata": {},
     "output_type": "execute_result"
    }
   ],
   "source": [
    "import pandas as pd\n",
    "import warnings\n",
    "warnings.simplefilter('ignore')\n",
    "\n",
    "df = pd.read_csv('./preprocessed_kb_0518.csv', encoding='ansi')\n",
    "df = df[['price','year','use','depreciation','mileage', 'car_cc']]\n",
    "df.head()"
   ]
  },
  {
   "cell_type": "code",
   "execution_count": 2,
   "metadata": {},
   "outputs": [
    {
     "data": {
      "text/html": [
       "<div>\n",
       "<style scoped>\n",
       "    .dataframe tbody tr th:only-of-type {\n",
       "        vertical-align: middle;\n",
       "    }\n",
       "\n",
       "    .dataframe tbody tr th {\n",
       "        vertical-align: top;\n",
       "    }\n",
       "\n",
       "    .dataframe thead th {\n",
       "        text-align: right;\n",
       "    }\n",
       "</style>\n",
       "<table border=\"1\" class=\"dataframe\">\n",
       "  <thead>\n",
       "    <tr style=\"text-align: right;\">\n",
       "      <th></th>\n",
       "      <th>price</th>\n",
       "      <th>year</th>\n",
       "      <th>use</th>\n",
       "      <th>depreciation</th>\n",
       "      <th>mileage</th>\n",
       "      <th>car_cc</th>\n",
       "    </tr>\n",
       "  </thead>\n",
       "  <tbody>\n",
       "    <tr>\n",
       "      <th>price</th>\n",
       "      <td>1.00</td>\n",
       "      <td>0.51</td>\n",
       "      <td>-0.53</td>\n",
       "      <td>-0.55</td>\n",
       "      <td>-0.38</td>\n",
       "      <td>0.12</td>\n",
       "    </tr>\n",
       "    <tr>\n",
       "      <th>year</th>\n",
       "      <td>0.51</td>\n",
       "      <td>1.00</td>\n",
       "      <td>-0.99</td>\n",
       "      <td>-0.86</td>\n",
       "      <td>-0.61</td>\n",
       "      <td>0.02</td>\n",
       "    </tr>\n",
       "    <tr>\n",
       "      <th>use</th>\n",
       "      <td>-0.53</td>\n",
       "      <td>-0.99</td>\n",
       "      <td>1.00</td>\n",
       "      <td>0.87</td>\n",
       "      <td>0.61</td>\n",
       "      <td>-0.02</td>\n",
       "    </tr>\n",
       "    <tr>\n",
       "      <th>depreciation</th>\n",
       "      <td>-0.55</td>\n",
       "      <td>-0.86</td>\n",
       "      <td>0.87</td>\n",
       "      <td>1.00</td>\n",
       "      <td>0.72</td>\n",
       "      <td>-0.00</td>\n",
       "    </tr>\n",
       "    <tr>\n",
       "      <th>mileage</th>\n",
       "      <td>-0.38</td>\n",
       "      <td>-0.61</td>\n",
       "      <td>0.61</td>\n",
       "      <td>0.72</td>\n",
       "      <td>1.00</td>\n",
       "      <td>0.03</td>\n",
       "    </tr>\n",
       "    <tr>\n",
       "      <th>car_cc</th>\n",
       "      <td>0.12</td>\n",
       "      <td>0.02</td>\n",
       "      <td>-0.02</td>\n",
       "      <td>-0.00</td>\n",
       "      <td>0.03</td>\n",
       "      <td>1.00</td>\n",
       "    </tr>\n",
       "  </tbody>\n",
       "</table>\n",
       "</div>"
      ],
      "text/plain": [
       "              price  year   use  depreciation  mileage  car_cc\n",
       "price          1.00  0.51 -0.53         -0.55    -0.38    0.12\n",
       "year           0.51  1.00 -0.99         -0.86    -0.61    0.02\n",
       "use           -0.53 -0.99  1.00          0.87     0.61   -0.02\n",
       "depreciation  -0.55 -0.86  0.87          1.00     0.72   -0.00\n",
       "mileage       -0.38 -0.61  0.61          0.72     1.00    0.03\n",
       "car_cc         0.12  0.02 -0.02         -0.00     0.03    1.00"
      ]
     },
     "execution_count": 2,
     "metadata": {},
     "output_type": "execute_result"
    }
   ],
   "source": [
    "df.corr().round(2)"
   ]
  },
  {
   "cell_type": "code",
   "execution_count": 3,
   "metadata": {},
   "outputs": [
    {
     "data": {
      "text/html": [
       "<div>\n",
       "<style scoped>\n",
       "    .dataframe tbody tr th:only-of-type {\n",
       "        vertical-align: middle;\n",
       "    }\n",
       "\n",
       "    .dataframe tbody tr th {\n",
       "        vertical-align: top;\n",
       "    }\n",
       "\n",
       "    .dataframe thead th {\n",
       "        text-align: right;\n",
       "    }\n",
       "</style>\n",
       "<table border=\"1\" class=\"dataframe\">\n",
       "  <thead>\n",
       "    <tr style=\"text-align: right;\">\n",
       "      <th></th>\n",
       "      <th>price</th>\n",
       "      <th>year</th>\n",
       "      <th>use</th>\n",
       "      <th>depreciation</th>\n",
       "      <th>mileage</th>\n",
       "      <th>car_cc</th>\n",
       "    </tr>\n",
       "  </thead>\n",
       "  <tbody>\n",
       "    <tr>\n",
       "      <th>price</th>\n",
       "      <td>1.00</td>\n",
       "      <td>0.51</td>\n",
       "      <td>-0.53</td>\n",
       "      <td>-0.55</td>\n",
       "      <td>-0.38</td>\n",
       "      <td>0.12</td>\n",
       "    </tr>\n",
       "    <tr>\n",
       "      <th>year</th>\n",
       "      <td>0.51</td>\n",
       "      <td>1.00</td>\n",
       "      <td>-0.99</td>\n",
       "      <td>-0.86</td>\n",
       "      <td>-0.61</td>\n",
       "      <td>0.02</td>\n",
       "    </tr>\n",
       "    <tr>\n",
       "      <th>use</th>\n",
       "      <td>-0.53</td>\n",
       "      <td>-0.99</td>\n",
       "      <td>1.00</td>\n",
       "      <td>0.87</td>\n",
       "      <td>0.61</td>\n",
       "      <td>-0.02</td>\n",
       "    </tr>\n",
       "    <tr>\n",
       "      <th>depreciation</th>\n",
       "      <td>-0.55</td>\n",
       "      <td>-0.86</td>\n",
       "      <td>0.87</td>\n",
       "      <td>1.00</td>\n",
       "      <td>0.72</td>\n",
       "      <td>-0.00</td>\n",
       "    </tr>\n",
       "    <tr>\n",
       "      <th>mileage</th>\n",
       "      <td>-0.38</td>\n",
       "      <td>-0.61</td>\n",
       "      <td>0.61</td>\n",
       "      <td>0.72</td>\n",
       "      <td>1.00</td>\n",
       "      <td>0.03</td>\n",
       "    </tr>\n",
       "    <tr>\n",
       "      <th>car_cc</th>\n",
       "      <td>0.12</td>\n",
       "      <td>0.02</td>\n",
       "      <td>-0.02</td>\n",
       "      <td>-0.00</td>\n",
       "      <td>0.03</td>\n",
       "      <td>1.00</td>\n",
       "    </tr>\n",
       "  </tbody>\n",
       "</table>\n",
       "</div>"
      ],
      "text/plain": [
       "              price  year   use  depreciation  mileage  car_cc\n",
       "price          1.00  0.51 -0.53         -0.55    -0.38    0.12\n",
       "year           0.51  1.00 -0.99         -0.86    -0.61    0.02\n",
       "use           -0.53 -0.99  1.00          0.87     0.61   -0.02\n",
       "depreciation  -0.55 -0.86  0.87          1.00     0.72   -0.00\n",
       "mileage       -0.38 -0.61  0.61          0.72     1.00    0.03\n",
       "car_cc         0.12  0.02 -0.02         -0.00     0.03    1.00"
      ]
     },
     "execution_count": 3,
     "metadata": {},
     "output_type": "execute_result"
    }
   ],
   "source": [
    "from scipy.stats import pearsonr\n",
    "\n",
    "df.corr(method='pearson').round(2)"
   ]
  },
  {
   "cell_type": "code",
   "execution_count": 4,
   "metadata": {},
   "outputs": [
    {
     "data": {
      "text/html": [
       "<div>\n",
       "<style scoped>\n",
       "    .dataframe tbody tr th:only-of-type {\n",
       "        vertical-align: middle;\n",
       "    }\n",
       "\n",
       "    .dataframe tbody tr th {\n",
       "        vertical-align: top;\n",
       "    }\n",
       "\n",
       "    .dataframe thead th {\n",
       "        text-align: right;\n",
       "    }\n",
       "</style>\n",
       "<table border=\"1\" class=\"dataframe\">\n",
       "  <thead>\n",
       "    <tr style=\"text-align: right;\">\n",
       "      <th></th>\n",
       "      <th>price</th>\n",
       "      <th>year</th>\n",
       "      <th>use</th>\n",
       "      <th>depreciation</th>\n",
       "      <th>mileage</th>\n",
       "      <th>car_cc</th>\n",
       "    </tr>\n",
       "  </thead>\n",
       "  <tbody>\n",
       "    <tr>\n",
       "      <th>price</th>\n",
       "      <td>1.00</td>\n",
       "      <td>0.69</td>\n",
       "      <td>-0.70</td>\n",
       "      <td>-0.68</td>\n",
       "      <td>-0.50</td>\n",
       "      <td>0.19</td>\n",
       "    </tr>\n",
       "    <tr>\n",
       "      <th>year</th>\n",
       "      <td>0.69</td>\n",
       "      <td>1.00</td>\n",
       "      <td>-0.99</td>\n",
       "      <td>-0.90</td>\n",
       "      <td>-0.68</td>\n",
       "      <td>0.05</td>\n",
       "    </tr>\n",
       "    <tr>\n",
       "      <th>use</th>\n",
       "      <td>-0.70</td>\n",
       "      <td>-0.99</td>\n",
       "      <td>1.00</td>\n",
       "      <td>0.91</td>\n",
       "      <td>0.69</td>\n",
       "      <td>-0.05</td>\n",
       "    </tr>\n",
       "    <tr>\n",
       "      <th>depreciation</th>\n",
       "      <td>-0.68</td>\n",
       "      <td>-0.90</td>\n",
       "      <td>0.91</td>\n",
       "      <td>1.00</td>\n",
       "      <td>0.79</td>\n",
       "      <td>-0.02</td>\n",
       "    </tr>\n",
       "    <tr>\n",
       "      <th>mileage</th>\n",
       "      <td>-0.50</td>\n",
       "      <td>-0.68</td>\n",
       "      <td>0.69</td>\n",
       "      <td>0.79</td>\n",
       "      <td>1.00</td>\n",
       "      <td>0.01</td>\n",
       "    </tr>\n",
       "    <tr>\n",
       "      <th>car_cc</th>\n",
       "      <td>0.19</td>\n",
       "      <td>0.05</td>\n",
       "      <td>-0.05</td>\n",
       "      <td>-0.02</td>\n",
       "      <td>0.01</td>\n",
       "      <td>1.00</td>\n",
       "    </tr>\n",
       "  </tbody>\n",
       "</table>\n",
       "</div>"
      ],
      "text/plain": [
       "              price  year   use  depreciation  mileage  car_cc\n",
       "price          1.00  0.69 -0.70         -0.68    -0.50    0.19\n",
       "year           0.69  1.00 -0.99         -0.90    -0.68    0.05\n",
       "use           -0.70 -0.99  1.00          0.91     0.69   -0.05\n",
       "depreciation  -0.68 -0.90  0.91          1.00     0.79   -0.02\n",
       "mileage       -0.50 -0.68  0.69          0.79     1.00    0.01\n",
       "car_cc         0.19  0.05 -0.05         -0.02     0.01    1.00"
      ]
     },
     "execution_count": 4,
     "metadata": {},
     "output_type": "execute_result"
    }
   ],
   "source": [
    "from scipy.stats import spearmanr\n",
    "\n",
    "df.corr(method='spearman').round(2)"
   ]
  },
  {
   "cell_type": "code",
   "execution_count": 5,
   "metadata": {},
   "outputs": [
    {
     "data": {
      "text/html": [
       "<div>\n",
       "<style scoped>\n",
       "    .dataframe tbody tr th:only-of-type {\n",
       "        vertical-align: middle;\n",
       "    }\n",
       "\n",
       "    .dataframe tbody tr th {\n",
       "        vertical-align: top;\n",
       "    }\n",
       "\n",
       "    .dataframe thead th {\n",
       "        text-align: right;\n",
       "    }\n",
       "</style>\n",
       "<table border=\"1\" class=\"dataframe\">\n",
       "  <thead>\n",
       "    <tr style=\"text-align: right;\">\n",
       "      <th></th>\n",
       "      <th>price</th>\n",
       "      <th>year</th>\n",
       "      <th>use</th>\n",
       "      <th>depreciation</th>\n",
       "      <th>mileage</th>\n",
       "      <th>car_cc</th>\n",
       "    </tr>\n",
       "  </thead>\n",
       "  <tbody>\n",
       "    <tr>\n",
       "      <th>price</th>\n",
       "      <td>1.00</td>\n",
       "      <td>0.52</td>\n",
       "      <td>-0.51</td>\n",
       "      <td>-0.50</td>\n",
       "      <td>-0.35</td>\n",
       "      <td>0.14</td>\n",
       "    </tr>\n",
       "    <tr>\n",
       "      <th>year</th>\n",
       "      <td>0.52</td>\n",
       "      <td>1.00</td>\n",
       "      <td>-0.95</td>\n",
       "      <td>-0.76</td>\n",
       "      <td>-0.52</td>\n",
       "      <td>0.04</td>\n",
       "    </tr>\n",
       "    <tr>\n",
       "      <th>use</th>\n",
       "      <td>-0.51</td>\n",
       "      <td>-0.95</td>\n",
       "      <td>1.00</td>\n",
       "      <td>0.74</td>\n",
       "      <td>0.51</td>\n",
       "      <td>-0.04</td>\n",
       "    </tr>\n",
       "    <tr>\n",
       "      <th>depreciation</th>\n",
       "      <td>-0.50</td>\n",
       "      <td>-0.76</td>\n",
       "      <td>0.74</td>\n",
       "      <td>1.00</td>\n",
       "      <td>0.60</td>\n",
       "      <td>-0.01</td>\n",
       "    </tr>\n",
       "    <tr>\n",
       "      <th>mileage</th>\n",
       "      <td>-0.35</td>\n",
       "      <td>-0.52</td>\n",
       "      <td>0.51</td>\n",
       "      <td>0.60</td>\n",
       "      <td>1.00</td>\n",
       "      <td>0.00</td>\n",
       "    </tr>\n",
       "    <tr>\n",
       "      <th>car_cc</th>\n",
       "      <td>0.14</td>\n",
       "      <td>0.04</td>\n",
       "      <td>-0.04</td>\n",
       "      <td>-0.01</td>\n",
       "      <td>0.00</td>\n",
       "      <td>1.00</td>\n",
       "    </tr>\n",
       "  </tbody>\n",
       "</table>\n",
       "</div>"
      ],
      "text/plain": [
       "              price  year   use  depreciation  mileage  car_cc\n",
       "price          1.00  0.52 -0.51         -0.50    -0.35    0.14\n",
       "year           0.52  1.00 -0.95         -0.76    -0.52    0.04\n",
       "use           -0.51 -0.95  1.00          0.74     0.51   -0.04\n",
       "depreciation  -0.50 -0.76  0.74          1.00     0.60   -0.01\n",
       "mileage       -0.35 -0.52  0.51          0.60     1.00    0.00\n",
       "car_cc         0.14  0.04 -0.04         -0.01     0.00    1.00"
      ]
     },
     "execution_count": 5,
     "metadata": {},
     "output_type": "execute_result"
    }
   ],
   "source": [
    "from scipy.stats import kendalltau\n",
    "\n",
    "df.corr(method='kendall').round(2)"
   ]
  },
  {
   "cell_type": "code",
   "execution_count": 6,
   "metadata": {},
   "outputs": [],
   "source": [
    "from sklearn.model_selection import train_test_split\n",
    "\n",
    "x = df[['year', 'use', 'depreciation', 'mileage']]\n",
    "\n",
    "y = df.price\n",
    "\n",
    "X_test, X_train, y_test, y_train = train_test_split(x, y, train_size=0.7, test_size=0.3)"
   ]
  },
  {
   "cell_type": "code",
   "execution_count": 7,
   "metadata": {},
   "outputs": [
    {
     "name": "stdout",
     "output_type": "stream",
     "text": [
      "0.3124907144488154\n",
      "0.31569183426024794\n"
     ]
    }
   ],
   "source": [
    "from sklearn.linear_model import LinearRegression\n",
    "\n",
    "mlr = LinearRegression()\n",
    "mlr.fit(X_train, y_train)\n",
    "mlr_pred = mlr.predict(X_test)\n",
    "\n",
    "print(mlr.score(X_train,y_train))\n",
    "print(mlr.score(X_test,y_test))"
   ]
  },
  {
   "cell_type": "code",
   "execution_count": 8,
   "metadata": {},
   "outputs": [
    {
     "data": {
      "text/plain": [
       "array([321.47930872])"
      ]
     },
     "execution_count": 8,
     "metadata": {},
     "output_type": "execute_result"
    }
   ],
   "source": [
    "test = [[2011, 134, 90, 198485]]\n",
    "mlr.predict(test)"
   ]
  },
  {
   "cell_type": "code",
   "execution_count": 9,
   "metadata": {},
   "outputs": [
    {
     "data": {
      "image/png": "[encoded data removed]",
      "text/plain": [
       "<Figure size 720x360 with 1 Axes>"
      ]
     },
     "metadata": {
      "needs_background": "light"
     },
     "output_type": "display_data"
    }
   ],
   "source": [
    "import matplotlib.pyplot as plt\n",
    "\n",
    "plt.figure(figsize=(10, 5))\n",
    "plt.scatter(y_test, mlr_pred, alpha=0.3)\n",
    "plt.xlabel(\"실가\")\n",
    "plt.ylabel(\"예측가\")\n",
    "plt.title(\"중고차 가격 예측\")\n",
    "plt.show()"
   ]
  },
  {
   "cell_type": "code",
   "execution_count": 10,
   "metadata": {},
   "outputs": [
    {
     "name": "stdout",
     "output_type": "stream",
     "text": [
      "0.3124907144488154\n",
      "0.31569183426024794\n"
     ]
    }
   ],
   "source": [
    "print(mlr.score(X_train, y_train))\n",
    "print(mlr.score(X_test, y_test))"
   ]
  },
  {
   "cell_type": "code",
   "execution_count": 11,
   "metadata": {},
   "outputs": [
    {
     "data": {
      "image/png": "[encoded data removed]",
      "text/plain": [
       "<Figure size 360x1440 with 1 Axes>"
      ]
     },
     "metadata": {},
     "output_type": "display_data"
    }
   ],
   "source": [
    "import seaborn as sns\n",
    "from matplotlib import rcParams\n",
    "\n",
    "sns.set(font=\"Malgun Gothic\", \n",
    "        rc={\"axes.unicode_minus\":False,\n",
    "        'figure.figsize':(5,20)},\n",
    "        style='darkgrid')\n",
    "ax1 = sns.distplot(y, hist = False, label = 'y실제')\n",
    "ax2 = sns.distplot(mlr_pred, hist = False, label = 'y예측')\n",
    "plt.legend()\n",
    "plt.show()"
   ]
  },
  {
   "cell_type": "code",
   "execution_count": 12,
   "metadata": {},
   "outputs": [],
   "source": [
    "from patsy import dmatrices\n",
    "from statsmodels.stats.outliers_influence import variance_inflation_factor as vif\n",
    "\n",
    "folmula = \"price ~ \" + \"+\".join(df.columns[1:5])\n",
    "y, X = dmatrices(folmula, data = df, return_type='dataframe')"
   ]
  },
  {
   "cell_type": "code",
   "execution_count": 13,
   "metadata": {},
   "outputs": [
    {
     "data": {
      "text/html": [
       "<div>\n",
       "<style scoped>\n",
       "    .dataframe tbody tr th:only-of-type {\n",
       "        vertical-align: middle;\n",
       "    }\n",
       "\n",
       "    .dataframe tbody tr th {\n",
       "        vertical-align: top;\n",
       "    }\n",
       "\n",
       "    .dataframe thead th {\n",
       "        text-align: right;\n",
       "    }\n",
       "</style>\n",
       "<table border=\"1\" class=\"dataframe\">\n",
       "  <thead>\n",
       "    <tr style=\"text-align: right;\">\n",
       "      <th></th>\n",
       "      <th>colname</th>\n",
       "      <th>VIF</th>\n",
       "    </tr>\n",
       "  </thead>\n",
       "  <tbody>\n",
       "    <tr>\n",
       "      <th>0</th>\n",
       "      <td>Intercept</td>\n",
       "      <td>17806136.8</td>\n",
       "    </tr>\n",
       "    <tr>\n",
       "      <th>1</th>\n",
       "      <td>year</td>\n",
       "      <td>57.4</td>\n",
       "    </tr>\n",
       "    <tr>\n",
       "      <th>2</th>\n",
       "      <td>use</td>\n",
       "      <td>61.1</td>\n",
       "    </tr>\n",
       "    <tr>\n",
       "      <th>3</th>\n",
       "      <td>depreciation</td>\n",
       "      <td>5.4</td>\n",
       "    </tr>\n",
       "    <tr>\n",
       "      <th>4</th>\n",
       "      <td>mileage</td>\n",
       "      <td>2.1</td>\n",
       "    </tr>\n",
       "  </tbody>\n",
       "</table>\n",
       "</div>"
      ],
      "text/plain": [
       "        colname         VIF\n",
       "0     Intercept  17806136.8\n",
       "1          year        57.4\n",
       "2           use        61.1\n",
       "3  depreciation         5.4\n",
       "4       mileage         2.1"
      ]
     },
     "execution_count": 13,
     "metadata": {},
     "output_type": "execute_result"
    }
   ],
   "source": [
    "df_vif = pd.DataFrame()\n",
    "df_vif[\"colname\"] = X.columns\n",
    "df_vif[\"VIF\"] = [vif(X.values, i).round(1) for i in range(len(X.columns))]\n",
    "df_vif"
   ]
  },
  {
   "cell_type": "code",
   "execution_count": 14,
   "metadata": {},
   "outputs": [
    {
     "data": {
      "text/html": [
       "<div>\n",
       "<style scoped>\n",
       "    .dataframe tbody tr th:only-of-type {\n",
       "        vertical-align: middle;\n",
       "    }\n",
       "\n",
       "    .dataframe tbody tr th {\n",
       "        vertical-align: top;\n",
       "    }\n",
       "\n",
       "    .dataframe thead th {\n",
       "        text-align: right;\n",
       "    }\n",
       "</style>\n",
       "<table border=\"1\" class=\"dataframe\">\n",
       "  <thead>\n",
       "    <tr style=\"text-align: right;\">\n",
       "      <th></th>\n",
       "      <th>price</th>\n",
       "      <th>year</th>\n",
       "      <th>depreciation</th>\n",
       "      <th>mileage</th>\n",
       "    </tr>\n",
       "  </thead>\n",
       "  <tbody>\n",
       "    <tr>\n",
       "      <th>0</th>\n",
       "      <td>849</td>\n",
       "      <td>2013</td>\n",
       "      <td>60</td>\n",
       "      <td>131493</td>\n",
       "    </tr>\n",
       "    <tr>\n",
       "      <th>1</th>\n",
       "      <td>1450</td>\n",
       "      <td>2018</td>\n",
       "      <td>27</td>\n",
       "      <td>60000</td>\n",
       "    </tr>\n",
       "    <tr>\n",
       "      <th>2</th>\n",
       "      <td>655</td>\n",
       "      <td>2017</td>\n",
       "      <td>54</td>\n",
       "      <td>133319</td>\n",
       "    </tr>\n",
       "    <tr>\n",
       "      <th>3</th>\n",
       "      <td>999</td>\n",
       "      <td>2017</td>\n",
       "      <td>21</td>\n",
       "      <td>90000</td>\n",
       "    </tr>\n",
       "    <tr>\n",
       "      <th>4</th>\n",
       "      <td>580</td>\n",
       "      <td>2011</td>\n",
       "      <td>83</td>\n",
       "      <td>159474</td>\n",
       "    </tr>\n",
       "    <tr>\n",
       "      <th>...</th>\n",
       "      <td>...</td>\n",
       "      <td>...</td>\n",
       "      <td>...</td>\n",
       "      <td>...</td>\n",
       "    </tr>\n",
       "    <tr>\n",
       "      <th>44241</th>\n",
       "      <td>290</td>\n",
       "      <td>2006</td>\n",
       "      <td>93</td>\n",
       "      <td>143900</td>\n",
       "    </tr>\n",
       "    <tr>\n",
       "      <th>44242</th>\n",
       "      <td>400</td>\n",
       "      <td>2007</td>\n",
       "      <td>94</td>\n",
       "      <td>188310</td>\n",
       "    </tr>\n",
       "    <tr>\n",
       "      <th>44243</th>\n",
       "      <td>630</td>\n",
       "      <td>2010</td>\n",
       "      <td>83</td>\n",
       "      <td>144233</td>\n",
       "    </tr>\n",
       "    <tr>\n",
       "      <th>44244</th>\n",
       "      <td>990</td>\n",
       "      <td>2012</td>\n",
       "      <td>78</td>\n",
       "      <td>136212</td>\n",
       "    </tr>\n",
       "    <tr>\n",
       "      <th>44245</th>\n",
       "      <td>1850</td>\n",
       "      <td>2017</td>\n",
       "      <td>54</td>\n",
       "      <td>108313</td>\n",
       "    </tr>\n",
       "  </tbody>\n",
       "</table>\n",
       "<p>44246 rows × 4 columns</p>\n",
       "</div>"
      ],
      "text/plain": [
       "       price  year  depreciation  mileage\n",
       "0        849  2013            60   131493\n",
       "1       1450  2018            27    60000\n",
       "2        655  2017            54   133319\n",
       "3        999  2017            21    90000\n",
       "4        580  2011            83   159474\n",
       "...      ...   ...           ...      ...\n",
       "44241    290  2006            93   143900\n",
       "44242    400  2007            94   188310\n",
       "44243    630  2010            83   144233\n",
       "44244    990  2012            78   136212\n",
       "44245   1850  2017            54   108313\n",
       "\n",
       "[44246 rows x 4 columns]"
      ]
     },
     "execution_count": 14,
     "metadata": {},
     "output_type": "execute_result"
    }
   ],
   "source": [
    "df_sub = pd.concat([df.loc[:, \"price\":\"year\"],\n",
    "df.loc[:, \"depreciation\":\"mileage\"]],\n",
    "axis=1)\n",
    "df_sub"
   ]
  },
  {
   "cell_type": "code",
   "execution_count": 15,
   "metadata": {},
   "outputs": [
    {
     "data": {
      "text/html": [
       "<div>\n",
       "<style scoped>\n",
       "    .dataframe tbody tr th:only-of-type {\n",
       "        vertical-align: middle;\n",
       "    }\n",
       "\n",
       "    .dataframe tbody tr th {\n",
       "        vertical-align: top;\n",
       "    }\n",
       "\n",
       "    .dataframe thead th {\n",
       "        text-align: right;\n",
       "    }\n",
       "</style>\n",
       "<table border=\"1\" class=\"dataframe\">\n",
       "  <thead>\n",
       "    <tr style=\"text-align: right;\">\n",
       "      <th></th>\n",
       "      <th>colname</th>\n",
       "      <th>VIF</th>\n",
       "    </tr>\n",
       "  </thead>\n",
       "  <tbody>\n",
       "    <tr>\n",
       "      <th>0</th>\n",
       "      <td>Intercept</td>\n",
       "      <td>1228401.7</td>\n",
       "    </tr>\n",
       "    <tr>\n",
       "      <th>1</th>\n",
       "      <td>year</td>\n",
       "      <td>4.0</td>\n",
       "    </tr>\n",
       "    <tr>\n",
       "      <th>2</th>\n",
       "      <td>depreciation</td>\n",
       "      <td>5.1</td>\n",
       "    </tr>\n",
       "    <tr>\n",
       "      <th>3</th>\n",
       "      <td>mileage</td>\n",
       "      <td>2.1</td>\n",
       "    </tr>\n",
       "  </tbody>\n",
       "</table>\n",
       "</div>"
      ],
      "text/plain": [
       "        colname        VIF\n",
       "0     Intercept  1228401.7\n",
       "1          year        4.0\n",
       "2  depreciation        5.1\n",
       "3       mileage        2.1"
      ]
     },
     "execution_count": 15,
     "metadata": {},
     "output_type": "execute_result"
    }
   ],
   "source": [
    "folmula = \"price ~ \" + \"+\".join(df_sub.columns[1:])\n",
    "y, X = dmatrices(folmula, data = df_sub, return_type='dataframe')\n",
    "df_vif = pd.DataFrame()\n",
    "df_vif[\"colname\"] = X.columns\n",
    "df_vif[\"VIF\"] = [vif(X.values, i).round(1) for i in range(X.shape[1])]\n",
    "df_vif"
   ]
  },
  {
   "cell_type": "code",
   "execution_count": 16,
   "metadata": {},
   "outputs": [
    {
     "data": {
      "text/html": [
       "<table class=\"simpletable\">\n",
       "<caption>OLS Regression Results</caption>\n",
       "<tr>\n",
       "  <th>Dep. Variable:</th>          <td>price</td>      <th>  R-squared:         </th>  <td>   0.304</td>  \n",
       "</tr>\n",
       "<tr>\n",
       "  <th>Model:</th>                   <td>OLS</td>       <th>  Adj. R-squared:    </th>  <td>   0.304</td>  \n",
       "</tr>\n",
       "<tr>\n",
       "  <th>Method:</th>             <td>Least Squares</td>  <th>  F-statistic:       </th>  <td>   6442.</td>  \n",
       "</tr>\n",
       "<tr>\n",
       "  <th>Date:</th>             <td>Mon, 23 May 2022</td> <th>  Prob (F-statistic):</th>   <td>  0.00</td>   \n",
       "</tr>\n",
       "<tr>\n",
       "  <th>Time:</th>                 <td>16:53:22</td>     <th>  Log-Likelihood:    </th> <td>-4.0031e+05</td>\n",
       "</tr>\n",
       "<tr>\n",
       "  <th>No. Observations:</th>      <td> 44246</td>      <th>  AIC:               </th>  <td>8.006e+05</td> \n",
       "</tr>\n",
       "<tr>\n",
       "  <th>Df Residuals:</th>          <td> 44242</td>      <th>  BIC:               </th>  <td>8.007e+05</td> \n",
       "</tr>\n",
       "<tr>\n",
       "  <th>Df Model:</th>              <td>     3</td>      <th>                     </th>      <td> </td>     \n",
       "</tr>\n",
       "<tr>\n",
       "  <th>Covariance Type:</th>      <td>nonrobust</td>    <th>                     </th>      <td> </td>     \n",
       "</tr>\n",
       "</table>\n",
       "<table class=\"simpletable\">\n",
       "<tr>\n",
       "        <td></td>          <th>coef</th>     <th>std err</th>      <th>t</th>      <th>P>|t|</th>  <th>[0.025</th>    <th>0.975]</th>  \n",
       "</tr>\n",
       "<tr>\n",
       "  <th>Intercept</th>    <td>-1.965e+05</td> <td> 1.08e+04</td> <td>  -18.141</td> <td> 0.000</td> <td>-2.18e+05</td> <td>-1.75e+05</td>\n",
       "</tr>\n",
       "<tr>\n",
       "  <th>year</th>         <td>   99.8580</td> <td>    5.357</td> <td>   18.641</td> <td> 0.000</td> <td>   89.358</td> <td>  110.358</td>\n",
       "</tr>\n",
       "<tr>\n",
       "  <th>depreciation</th> <td>  -45.0241</td> <td>    0.927</td> <td>  -48.562</td> <td> 0.000</td> <td>  -46.841</td> <td>  -43.207</td>\n",
       "</tr>\n",
       "<tr>\n",
       "  <th>mileage</th>      <td>    0.0010</td> <td>    0.000</td> <td>    4.333</td> <td> 0.000</td> <td>    0.001</td> <td>    0.001</td>\n",
       "</tr>\n",
       "</table>\n",
       "<table class=\"simpletable\">\n",
       "<tr>\n",
       "  <th>Omnibus:</th>       <td>39950.054</td> <th>  Durbin-Watson:     </th>  <td>   1.683</td>  \n",
       "</tr>\n",
       "<tr>\n",
       "  <th>Prob(Omnibus):</th>  <td> 0.000</td>   <th>  Jarque-Bera (JB):  </th> <td>3466170.878</td>\n",
       "</tr>\n",
       "<tr>\n",
       "  <th>Skew:</th>           <td> 4.019</td>   <th>  Prob(JB):          </th>  <td>    0.00</td>  \n",
       "</tr>\n",
       "<tr>\n",
       "  <th>Kurtosis:</th>       <td>45.609</td>   <th>  Cond. No.          </th>  <td>1.27e+08</td>  \n",
       "</tr>\n",
       "</table><br/><br/>Notes:<br/>[1] Standard Errors assume that the covariance matrix of the errors is correctly specified.<br/>[2] The condition number is large, 1.27e+08. This might indicate that there are<br/>strong multicollinearity or other numerical problems."
      ],
      "text/plain": [
       "<class 'statsmodels.iolib.summary.Summary'>\n",
       "\"\"\"\n",
       "                            OLS Regression Results                            \n",
       "==============================================================================\n",
       "Dep. Variable:                  price   R-squared:                       0.304\n",
       "Model:                            OLS   Adj. R-squared:                  0.304\n",
       "Method:                 Least Squares   F-statistic:                     6442.\n",
       "Date:                Mon, 23 May 2022   Prob (F-statistic):               0.00\n",
       "Time:                        16:53:22   Log-Likelihood:            -4.0031e+05\n",
       "No. Observations:               44246   AIC:                         8.006e+05\n",
       "Df Residuals:                   44242   BIC:                         8.007e+05\n",
       "Df Model:                           3                                         \n",
       "Covariance Type:            nonrobust                                         \n",
       "================================================================================\n",
       "                   coef    std err          t      P>|t|      [0.025      0.975]\n",
       "--------------------------------------------------------------------------------\n",
       "Intercept    -1.965e+05   1.08e+04    -18.141      0.000   -2.18e+05   -1.75e+05\n",
       "year            99.8580      5.357     18.641      0.000      89.358     110.358\n",
       "depreciation   -45.0241      0.927    -48.562      0.000     -46.841     -43.207\n",
       "mileage          0.0010      0.000      4.333      0.000       0.001       0.001\n",
       "==============================================================================\n",
       "Omnibus:                    39950.054   Durbin-Watson:                   1.683\n",
       "Prob(Omnibus):                  0.000   Jarque-Bera (JB):          3466170.878\n",
       "Skew:                           4.019   Prob(JB):                         0.00\n",
       "Kurtosis:                      45.609   Cond. No.                     1.27e+08\n",
       "==============================================================================\n",
       "\n",
       "Notes:\n",
       "[1] Standard Errors assume that the covariance matrix of the errors is correctly specified.\n",
       "[2] The condition number is large, 1.27e+08. This might indicate that there are\n",
       "strong multicollinearity or other numerical problems.\n",
       "\"\"\""
      ]
     },
     "execution_count": 16,
     "metadata": {},
     "output_type": "execute_result"
    }
   ],
   "source": [
    "from statsmodels.formula.api import ols\n",
    "\n",
    "folmula = \"price ~ \" + \"+\".join(df_sub.columns[1:])\n",
    "\n",
    "model = ols(folmula, data = df_sub).fit()\n",
    "model.summary()"
   ]
  },
  {
   "cell_type": "code",
   "execution_count": 17,
   "metadata": {},
   "outputs": [
    {
     "data": {
      "text/html": [
       "<div>\n",
       "<style scoped>\n",
       "    .dataframe tbody tr th:only-of-type {\n",
       "        vertical-align: middle;\n",
       "    }\n",
       "\n",
       "    .dataframe tbody tr th {\n",
       "        vertical-align: top;\n",
       "    }\n",
       "\n",
       "    .dataframe thead th {\n",
       "        text-align: right;\n",
       "    }\n",
       "</style>\n",
       "<table border=\"1\" class=\"dataframe\">\n",
       "  <thead>\n",
       "    <tr style=\"text-align: right;\">\n",
       "      <th></th>\n",
       "      <th>price</th>\n",
       "      <th>year</th>\n",
       "      <th>depreciation</th>\n",
       "      <th>mileage</th>\n",
       "    </tr>\n",
       "  </thead>\n",
       "  <tbody>\n",
       "    <tr>\n",
       "      <th>0</th>\n",
       "      <td>849</td>\n",
       "      <td>2011</td>\n",
       "      <td>90</td>\n",
       "      <td>198485</td>\n",
       "    </tr>\n",
       "  </tbody>\n",
       "</table>\n",
       "</div>"
      ],
      "text/plain": [
       "   price  year  depreciation  mileage\n",
       "0    849  2011            90   198485"
      ]
     },
     "execution_count": 17,
     "metadata": {},
     "output_type": "execute_result"
    }
   ],
   "source": [
    "df_test = df.iloc[[0],[0]]\n",
    "df_test['year'] = 2011\n",
    "df_test['depreciation'] = 90\n",
    "df_test['mileage'] = 198485\n",
    "\n",
    "df_test"
   ]
  },
  {
   "cell_type": "code",
   "execution_count": 18,
   "metadata": {},
   "outputs": [
    {
     "data": {
      "text/plain": [
       "0    441.818866\n",
       "dtype: float64"
      ]
     },
     "execution_count": 18,
     "metadata": {},
     "output_type": "execute_result"
    }
   ],
   "source": [
    "model.predict(df_test)"
   ]
  },
  {
   "cell_type": "code",
   "execution_count": 19,
   "metadata": {},
   "outputs": [
    {
     "data": {
      "text/plain": [
       "0.3040097483170444"
      ]
     },
     "execution_count": 19,
     "metadata": {},
     "output_type": "execute_result"
    }
   ],
   "source": [
    "ols_pred = model.predict(X_test)\n",
    "model.rsquared"
   ]
  },
  {
   "cell_type": "code",
   "execution_count": 20,
   "metadata": {},
   "outputs": [
    {
     "data": {
      "image/png": "[encoded data removed]",
      "text/plain": [
       "<Figure size 360x1440 with 1 Axes>"
      ]
     },
     "metadata": {},
     "output_type": "display_data"
    }
   ],
   "source": [
    "sns.set(font=\"Malgun Gothic\", \n",
    "        rc={\"axes.unicode_minus\":False,\n",
    "        'figure.figsize':(5,20)},\n",
    "        style='darkgrid')\n",
    "ax1 = sns.distplot(y, hist = False, label = 'y실제')\n",
    "ax2 = sns.distplot(ols_pred, hist = False, label = 'y예측')\n",
    "plt.legend()\n",
    "plt.show()"
   ]
  },
  {
   "cell_type": "code",
   "execution_count": 21,
   "metadata": {},
   "outputs": [
    {
     "name": "stdout",
     "output_type": "stream",
     "text": [
      "0.30520143483957773\n",
      "0.3034800984884085\n",
      "[440.29889769]\n"
     ]
    }
   ],
   "source": [
    "x = df[['year', 'depreciation', 'mileage']]\n",
    "\n",
    "y = df.price\n",
    "\n",
    "X_test, X_train, y_test, y_train = train_test_split(x, y, train_size=0.7, test_size=0.3)\n",
    "\n",
    "mlr = LinearRegression()\n",
    "mlr.fit(X_train, y_train)\n",
    "mlr_pred = mlr.predict(X_test)\n",
    "\n",
    "test = [[2011, 90, 198485]]\n",
    "print(mlr.score(X_train,y_train))\n",
    "print(mlr.score(X_test,y_test))\n",
    "print(mlr.predict(test))"
   ]
  },
  {
   "cell_type": "code",
   "execution_count": 22,
   "metadata": {},
   "outputs": [
    {
     "name": "stdout",
     "output_type": "stream",
     "text": [
      "0.3052014312012219\n",
      "0.30348010187334007\n",
      "[440.37857049]\n"
     ]
    }
   ],
   "source": [
    "from sklearn.linear_model import Ridge,Lasso,ElasticNet\n",
    "from sklearn.pipeline import make_pipeline\n",
    "from sklearn.preprocessing import StandardScaler\n",
    "from sklearn.model_selection import GridSearchCV\n",
    "\n",
    "model_ridge = make_pipeline(StandardScaler(),Ridge())\n",
    "model_ridge.fit(X_train,y_train)\n",
    "print(model_ridge.score(X_train,y_train))\n",
    "print(model_ridge.score(X_test,y_test))\n",
    "print(model_ridge.predict(test))"
   ]
  },
  {
   "cell_type": "code",
   "execution_count": 23,
   "metadata": {},
   "outputs": [
    {
     "name": "stdout",
     "output_type": "stream",
     "text": [
      "{'alpha': 0.0001}\n",
      "0.30538090447229144\n"
     ]
    }
   ],
   "source": [
    "param_value = {'alpha':[0.0001,0.01,1,2,3,4]}\n",
    "modelRidge = Ridge()\n",
    "gridSearch_ridge = GridSearchCV(modelRidge,param_grid = param_value,cv=10)\n",
    "gridSearch_ridge.fit(X_train,y_train)\n",
    "\n",
    "print(gridSearch_ridge.best_params_)\n",
    "print(gridSearch_ridge.best_score_)\n"
   ]
  },
  {
   "cell_type": "code",
   "execution_count": 24,
   "metadata": {},
   "outputs": [
    {
     "name": "stdout",
     "output_type": "stream",
     "text": [
      "0.30520143479764683\n",
      "0.3034801246003115\n",
      "[440.29441595]\n"
     ]
    }
   ],
   "source": [
    "modelRidge = Ridge(alpha=4)\n",
    "modelRidge.fit(X_train,y_train)\n",
    "\n",
    "print(modelRidge.score(X_train,y_train))\n",
    "print(modelRidge.score(X_test,y_test))\n",
    "print(modelRidge.predict(test))"
   ]
  },
  {
   "cell_type": "code",
   "execution_count": 25,
   "metadata": {},
   "outputs": [
    {
     "name": "stdout",
     "output_type": "stream",
     "text": [
      "0.3052014040184049\n",
      "0.30348081483483647\n",
      "[440.19784366]\n"
     ]
    }
   ],
   "source": [
    "model_lasso = Lasso()\n",
    "model_lasso.fit(X_train,y_train)\n",
    "print(model_lasso.score(X_train,y_train))\n",
    "print(model_lasso.score(X_test,y_test))\n",
    "print(model_lasso.predict(test))"
   ]
  },
  {
   "cell_type": "code",
   "execution_count": 26,
   "metadata": {},
   "outputs": [
    {
     "name": "stdout",
     "output_type": "stream",
     "text": [
      "{'alpha': 0.0001}\n",
      "0.30538090434809073\n"
     ]
    }
   ],
   "source": [
    "modelLasso = Lasso()\n",
    "gridSearch_lasso = GridSearchCV(modelLasso,param_grid = param_value,cv=10)\n",
    "gridSearch_lasso.fit(X_train,y_train)\n",
    "\n",
    "print(gridSearch_lasso.best_params_)\n",
    "print(gridSearch_lasso.best_score_)"
   ]
  },
  {
   "cell_type": "code",
   "execution_count": 27,
   "metadata": {},
   "outputs": [
    {
     "name": "stdout",
     "output_type": "stream",
     "text": [
      "0.3052014348395772\n",
      "0.3034800985645857\n",
      "[440.29888731]\n"
     ]
    }
   ],
   "source": [
    "modelLasso = Lasso(alpha=0.0001)\n",
    "modelLasso.fit(X_train,y_train)\n",
    "\n",
    "print(modelLasso.score(X_train,y_train))\n",
    "print(modelLasso.score(X_test,y_test))\n",
    "print(modelLasso.predict(test))"
   ]
  },
  {
   "cell_type": "code",
   "execution_count": 28,
   "metadata": {},
   "outputs": [
    {
     "name": "stdout",
     "output_type": "stream",
     "text": [
      "0.3051135759420829\n",
      "0.30342640408695276\n",
      "[433.94053366]\n"
     ]
    }
   ],
   "source": [
    "model_elastic = ElasticNet(l1_ratio=0.5)\n",
    "model_elastic.fit(X_train,y_train)\n",
    "print(model_elastic.score(X_train,y_train))\n",
    "print(model_elastic.score(X_test,y_test))\n",
    "print(model_elastic.predict(test))"
   ]
  },
  {
   "cell_type": "code",
   "execution_count": 29,
   "metadata": {},
   "outputs": [
    {
     "name": "stdout",
     "output_type": "stream",
     "text": [
      "{'elasticnet__alpha': 0.01}\n",
      "0.3054274530212683\n"
     ]
    }
   ],
   "source": [
    "param_value = {'elasticnet__alpha':[0.0001,0.01,1,2,3,4]}\n",
    "modelElastic = make_pipeline(StandardScaler(),ElasticNet())\n",
    "gridSearch_elastic = GridSearchCV(modelElastic,param_grid = param_value,cv=10)\n",
    "gridSearch_elastic.fit(X_train,y_train)\n",
    "\n",
    "print(gridSearch_elastic.best_params_)\n",
    "print(gridSearch_elastic.best_score_)"
   ]
  },
  {
   "cell_type": "code",
   "execution_count": 30,
   "metadata": {},
   "outputs": [
    {
     "name": "stdout",
     "output_type": "stream",
     "text": [
      "0.3052014332323182\n",
      "0.30348010163794725\n",
      "[440.35177523]\n"
     ]
    }
   ],
   "source": [
    "modelElastic = make_pipeline(StandardScaler(),ElasticNet(alpha=0.0001))\n",
    "modelElastic.fit(X_train,y_train)\n",
    "\n",
    "print(modelElastic.score(X_train,y_train))\n",
    "print(modelElastic.score(X_test,y_test))\n",
    "print(modelElastic.predict(test))"
   ]
  },
  {
   "cell_type": "code",
   "execution_count": 31,
   "metadata": {},
   "outputs": [
    {
     "name": "stdout",
     "output_type": "stream",
     "text": [
      "0.3169692790885198\n",
      "0.3145880939287812\n",
      "[706.42687601]\n"
     ]
    }
   ],
   "source": [
    "from sklearn.preprocessing import PolynomialFeatures\n",
    "\n",
    "model = make_pipeline(PolynomialFeatures(degree=2),StandardScaler(),\n",
    "                      LinearRegression())\n",
    "model.fit(X_train,y_train)\n",
    "\n",
    "print(model.score(X_train,y_train))\n",
    "print(model.score(X_test,y_test))\n",
    "print(model.predict(test))"
   ]
  },
  {
   "cell_type": "code",
   "execution_count": 32,
   "metadata": {},
   "outputs": [
    {
     "name": "stdout",
     "output_type": "stream",
     "text": [
      "Iteration 1, loss = 4003717.30147664\n",
      "Iteration 2, loss = 2610736.17221720\n",
      "Iteration 3, loss = 2507490.30946509\n",
      "Iteration 4, loss = 2510701.24667736\n",
      "Iteration 5, loss = 2484605.75451127\n",
      "Iteration 6, loss = 2449634.77579308\n",
      "Iteration 7, loss = 2459867.65112731\n",
      "Iteration 8, loss = 2457331.15370206\n",
      "Iteration 9, loss = 2431567.07992342\n",
      "Iteration 10, loss = 2426828.81869029\n",
      "Iteration 11, loss = 2421266.02465954\n",
      "Iteration 12, loss = 2435186.60826196\n",
      "Iteration 13, loss = 2405190.07552662\n",
      "Iteration 14, loss = 2394345.19325466\n",
      "Iteration 15, loss = 2385491.40902691\n",
      "Iteration 16, loss = 2395892.25691439\n",
      "Iteration 17, loss = 2352660.80242575\n",
      "Iteration 18, loss = 2390580.23027320\n",
      "Iteration 19, loss = 2383281.85258205\n",
      "Iteration 20, loss = 2367727.07692550\n",
      "Iteration 21, loss = 2326032.68796730\n",
      "Iteration 22, loss = 2341696.28959237\n",
      "Iteration 23, loss = 2400663.44361569\n",
      "Iteration 24, loss = 2362198.78224408\n",
      "Iteration 25, loss = 2290361.43716185\n",
      "Iteration 26, loss = 2286016.08651564\n",
      "Iteration 27, loss = 2291870.47674475\n",
      "Iteration 28, loss = 2388484.25083786\n",
      "Iteration 29, loss = 2301031.51208407\n",
      "Iteration 30, loss = 2310130.56005769\n",
      "Iteration 31, loss = 2251365.05776844\n",
      "Iteration 32, loss = 2277161.22947434\n",
      "Iteration 33, loss = 2245731.65585607\n",
      "Iteration 34, loss = 2338411.82901576\n",
      "Iteration 35, loss = 2252474.32468867\n",
      "Iteration 36, loss = 2269916.12590503\n",
      "Iteration 37, loss = 2313013.80240943\n",
      "Iteration 38, loss = 2283060.14784340\n",
      "Iteration 39, loss = 2257646.88525694\n",
      "Iteration 40, loss = 2226043.45312559\n",
      "Iteration 41, loss = 2251759.59046114\n",
      "Iteration 42, loss = 2221327.68794400\n",
      "Iteration 43, loss = 2233280.79939278\n",
      "Iteration 44, loss = 2303450.09911811\n",
      "Iteration 45, loss = 2210573.35315671\n",
      "Iteration 46, loss = 2192759.38994125\n",
      "Iteration 47, loss = 2291927.80128203\n",
      "Iteration 48, loss = 2250372.19384787\n",
      "Iteration 49, loss = 2255263.52218846\n",
      "Iteration 50, loss = 2241766.76941404\n",
      "Iteration 51, loss = 2241799.43357072\n",
      "Iteration 52, loss = 2204364.93479843\n",
      "Iteration 53, loss = 2209180.48732873\n",
      "Iteration 54, loss = 2189878.90117554\n",
      "Iteration 55, loss = 2226197.24258079\n",
      "Iteration 56, loss = 2342859.34666149\n",
      "Iteration 57, loss = 2167609.16827443\n",
      "Iteration 58, loss = 2199252.08422184\n",
      "Iteration 59, loss = 2221658.57639198\n",
      "Iteration 60, loss = 2220738.69870649\n",
      "Iteration 61, loss = 2189914.24178249\n",
      "Iteration 62, loss = 2156811.92525160\n",
      "Iteration 63, loss = 2170231.66867070\n",
      "Iteration 64, loss = 2214413.30648291\n",
      "Iteration 65, loss = 2177431.57635788\n",
      "Iteration 66, loss = 2183154.32251543\n",
      "Iteration 67, loss = 2167116.58590858\n",
      "Iteration 68, loss = 2169687.68955248\n",
      "Iteration 69, loss = 2209374.51719524\n",
      "Iteration 70, loss = 2165516.57759145\n",
      "Iteration 71, loss = 2163223.73144097\n",
      "Iteration 72, loss = 2218103.18523826\n",
      "Iteration 73, loss = 2165791.78743720\n",
      "Training loss did not improve more than tol=0.000100 for 10 consecutive epochs. Stopping.\n"
     ]
    },
    {
     "data": {
      "text/plain": [
       "array([1713.75286811])"
      ]
     },
     "execution_count": 32,
     "metadata": {},
     "output_type": "execute_result"
    }
   ],
   "source": [
    "from sklearn.neural_network import MLPRegressor\n",
    "\n",
    "modelML = MLPRegressor(hidden_layer_sizes=[500,4],max_iter=5000,alpha=0.005,verbose=1)\n",
    "modelML.fit(X_train,y_train)\n",
    "modelML.score(X_test,y_test)\n",
    "modelML.predict(test)"
   ]
  },
  {
   "cell_type": "code",
   "execution_count": 33,
   "metadata": {},
   "outputs": [
    {
     "name": "stdout",
     "output_type": "stream",
     "text": [
      "Iteration 1, loss = 3792933.32613221\n",
      "Iteration 2, loss = 2512944.32510231\n",
      "Iteration 3, loss = 2558906.99343920\n",
      "Iteration 4, loss = 2479234.23759683\n",
      "Iteration 5, loss = 2459652.00797902\n",
      "Iteration 6, loss = 2456804.93601745\n",
      "Iteration 7, loss = 2428308.30784832\n",
      "Iteration 8, loss = 2439682.90910638\n",
      "Iteration 9, loss = 2512542.79979110\n",
      "Iteration 10, loss = 2446323.46113177\n",
      "Iteration 11, loss = 2410290.09846387\n",
      "Iteration 12, loss = 2399726.79522669\n",
      "Iteration 13, loss = 2387092.37648701\n",
      "Iteration 14, loss = 2396786.05717488\n",
      "Iteration 15, loss = 2400944.45582013\n",
      "Iteration 16, loss = 2386762.01474710\n",
      "Iteration 17, loss = 2394502.71601607\n",
      "Iteration 18, loss = 2356273.01175424\n",
      "Iteration 19, loss = 2342581.88635700\n",
      "Iteration 20, loss = 2370199.82121544\n",
      "Iteration 21, loss = 2444245.88646682\n",
      "Iteration 22, loss = 2307015.03163843\n",
      "Iteration 23, loss = 2311505.88593963\n",
      "Iteration 24, loss = 2328597.06711966\n",
      "Iteration 25, loss = 2336879.75680056\n",
      "Iteration 26, loss = 2303297.10552388\n",
      "Iteration 27, loss = 2276398.09533592\n",
      "Iteration 28, loss = 2308547.50438038\n",
      "Iteration 29, loss = 2270339.85465710\n",
      "Iteration 30, loss = 2310786.02541227\n",
      "Iteration 31, loss = 2260396.50096543\n",
      "Iteration 32, loss = 2338003.75313110\n",
      "Iteration 33, loss = 2254683.40849935\n",
      "Iteration 34, loss = 2244097.36235928\n",
      "Iteration 35, loss = 2258665.82709590\n",
      "Iteration 36, loss = 2225834.30998800\n",
      "Iteration 37, loss = 2215035.44610485\n",
      "Iteration 38, loss = 2253484.95314510\n",
      "Iteration 39, loss = 2233047.07684869\n",
      "Iteration 40, loss = 2211444.85969329\n",
      "Iteration 41, loss = 2200238.17813146\n",
      "Iteration 42, loss = 2211790.60520503\n",
      "Iteration 43, loss = 2171587.97816090\n",
      "Iteration 44, loss = 2221722.69628895\n",
      "Iteration 45, loss = 2238667.65296408\n",
      "Iteration 46, loss = 2270859.73969771\n",
      "Iteration 47, loss = 2214446.02087744\n",
      "Iteration 48, loss = 2195872.65201011\n",
      "Iteration 49, loss = 2180224.68640495\n",
      "Iteration 50, loss = 2199312.44496198\n",
      "Iteration 51, loss = 2174068.14242237\n",
      "Iteration 52, loss = 2282736.77701199\n",
      "Iteration 53, loss = 2189640.89168824\n",
      "Iteration 54, loss = 2232018.22974257\n",
      "Training loss did not improve more than tol=0.000100 for 10 consecutive epochs. Stopping.\n"
     ]
    },
    {
     "data": {
      "text/plain": [
       "array([935.54647789])"
      ]
     },
     "execution_count": 33,
     "metadata": {},
     "output_type": "execute_result"
    }
   ],
   "source": [
    "modelML = MLPRegressor(hidden_layer_sizes=[1000,4],max_iter=5000,alpha=0.005,\n",
    "                       verbose=1,random_state=1)\n",
    "modelML.fit(X_train,y_train)\n",
    "modelML.score(X_test,y_test)\n",
    "modelML.predict(test)"
   ]
  },
  {
   "cell_type": "code",
   "execution_count": 34,
   "metadata": {},
   "outputs": [
    {
     "name": "stdout",
     "output_type": "stream",
     "text": [
      "<class 'sklearn.linear_model._base.LinearRegression'>\n",
      "0.30520143483957773\n",
      "0.3034800984884085\n",
      "<class 'sklearn.neural_network._multilayer_perceptron.MLPRegressor'>\n",
      "0.29621040373425533\n",
      "0.2899483611966097\n",
      "<class 'sklearn.neural_network._multilayer_perceptron.MLPRegressor'>\n",
      "0.2776089886799219\n",
      "0.2710131854689245\n",
      "<class 'sklearn.neural_network._multilayer_perceptron.MLPRegressor'>\n",
      "0.29621040373425533\n",
      "0.2899483611966097\n",
      "<class 'sklearn.neural_network._multilayer_perceptron.MLPRegressor'>\n",
      "0.29116361162686877\n",
      "0.2851038964785949\n",
      "<class 'sklearn.neural_network._multilayer_perceptron.MLPRegressor'>\n",
      "0.2934036876545407\n",
      "0.28817744241781584\n"
     ]
    }
   ],
   "source": [
    "from sklearn.metrics import r2_score\n",
    "\n",
    "models = [\n",
    "    LinearRegression(), \n",
    "    MLPRegressor(hidden_layer_sizes=[512, 4], alpha=0.005, random_state=42),\n",
    "    MLPRegressor(hidden_layer_sizes=[48, 4], max_iter=5000, alpha=0.005, random_state=42), \n",
    "    MLPRegressor(hidden_layer_sizes=[512, 4], max_iter=5000, alpha=0.005, random_state=42), \n",
    "    MLPRegressor(hidden_layer_sizes=[1024, 4], max_iter=5000, alpha=0.005, random_state=42),\n",
    "    MLPRegressor(hidden_layer_sizes=[1024, 512, 4], max_iter=5000, alpha=0.005, random_state=42),\n",
    "]\n",
    "\n",
    "for m in models:\n",
    "    m.fit(X_train, y_train)\n",
    "    print(m.__class__)\n",
    "    print(r2_score(y_train, m.predict(X_train)))\n",
    "    print(r2_score(y_test, m.predict(X_test)))  "
   ]
  }
 ],
 "metadata": {
  "interpreter": {
   "hash": "263930470851f494f0ed2879c35b57985588df20f9e529b86e97dd5eb9ddc466"
  },
  "kernelspec": {
   "display_name": "Python 3.9.12 ('base')",
   "language": "python",
   "name": "python3"
  },
  "language_info": {
   "codemirror_mode": {
    "name": "ipython",
    "version": 3
   },
   "file_extension": ".py",
   "mimetype": "text/x-python",
   "name": "python",
   "nbconvert_exporter": "python",
   "pygments_lexer": "ipython3",
   "version": "3.9.12"
  },
  "orig_nbformat": 4
 },
 "nbformat": 4,
 "nbformat_minor": 2
}
