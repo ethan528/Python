{
 "cells": [
  {
   "cell_type": "code",
   "execution_count": 23,
   "metadata": {},
   "outputs": [
    {
     "data": {
      "text/plain": [
       "array(['없음', '있음', '정보없음'], dtype=object)"
      ]
     },
     "execution_count": 23,
     "metadata": {},
     "output_type": "execute_result"
    }
   ],
   "source": [
    "import pandas as pd\n",
    "df = pd.read_csv('C:/Users/USER/TIL/중고차 시세 예측/preprocessed_total_0529.csv', encoding='ansi')\n",
    "df.loss.unique()"
   ]
  },
  {
   "cell_type": "code",
   "execution_count": 6,
   "metadata": {},
   "outputs": [
    {
     "data": {
      "text/plain": [
       "RangeIndex(start=0, stop=90806, step=1)"
      ]
     },
     "execution_count": 6,
     "metadata": {},
     "output_type": "execute_result"
    }
   ],
   "source": [
    "df.index"
   ]
  },
  {
   "cell_type": "code",
   "execution_count": 5,
   "metadata": {},
   "outputs": [
    {
     "name": "stderr",
     "output_type": "stream",
     "text": [
      "C:\\Users\\USER\\AppData\\Local\\Temp\\ipykernel_17916\\2118769904.py:10: FutureWarning: The frame.append method is deprecated and will be removed from pandas in a future version. Use pandas.concat instead.\n",
      "  df = temp1.append(new_data,ignore_index=True).append(temp2, ignore_index=True)\n",
      "C:\\Users\\USER\\AppData\\Local\\Temp\\ipykernel_17916\\2118769904.py:10: FutureWarning: The frame.append method is deprecated and will be removed from pandas in a future version. Use pandas.concat instead.\n",
      "  df = temp1.append(new_data,ignore_index=True).append(temp2, ignore_index=True)\n"
     ]
    },
    {
     "data": {
      "text/html": [
       "<div>\n",
       "<style scoped>\n",
       "    .dataframe tbody tr th:only-of-type {\n",
       "        vertical-align: middle;\n",
       "    }\n",
       "\n",
       "    .dataframe tbody tr th {\n",
       "        vertical-align: top;\n",
       "    }\n",
       "\n",
       "    .dataframe thead th {\n",
       "        text-align: right;\n",
       "    }\n",
       "</style>\n",
       "<table border=\"1\" class=\"dataframe\">\n",
       "  <thead>\n",
       "    <tr style=\"text-align: right;\">\n",
       "      <th></th>\n",
       "      <th>car_url</th>\n",
       "      <th>car_area</th>\n",
       "      <th>car_no</th>\n",
       "      <th>car_brand</th>\n",
       "      <th>car_name</th>\n",
       "      <th>name_datailed</th>\n",
       "      <th>new_price</th>\n",
       "      <th>price</th>\n",
       "      <th>year</th>\n",
       "      <th>use</th>\n",
       "      <th>...</th>\n",
       "      <th>flood</th>\n",
       "      <th>usage</th>\n",
       "      <th>change</th>\n",
       "      <th>insurance</th>\n",
       "      <th>sales_corp</th>\n",
       "      <th>sales_loca</th>\n",
       "      <th>lat</th>\n",
       "      <th>lng</th>\n",
       "      <th>options</th>\n",
       "      <th>options_count</th>\n",
       "    </tr>\n",
       "  </thead>\n",
       "  <tbody>\n",
       "    <tr>\n",
       "      <th>0</th>\n",
       "      <td>선택해주세요</td>\n",
       "      <td>선택해주세요</td>\n",
       "      <td>선택해주세요</td>\n",
       "      <td>선택해주세요</td>\n",
       "      <td>선택해주세요</td>\n",
       "      <td>선택해주세요</td>\n",
       "      <td>선택해주세요</td>\n",
       "      <td>선택해주세요</td>\n",
       "      <td>선택해주세요</td>\n",
       "      <td>선택해주세요</td>\n",
       "      <td>...</td>\n",
       "      <td>선택해주세요</td>\n",
       "      <td>선택해주세요</td>\n",
       "      <td>선택해주세요</td>\n",
       "      <td>선택해주세요</td>\n",
       "      <td>선택해주세요</td>\n",
       "      <td>선택해주세요</td>\n",
       "      <td>선택해주세요</td>\n",
       "      <td>선택해주세요</td>\n",
       "      <td>선택해주세요</td>\n",
       "      <td>선택해주세요</td>\n",
       "    </tr>\n",
       "  </tbody>\n",
       "</table>\n",
       "<p>1 rows × 30 columns</p>\n",
       "</div>"
      ],
      "text/plain": [
       "  car_url car_area  car_no car_brand car_name name_datailed new_price   price  \\\n",
       "0  선택해주세요   선택해주세요  선택해주세요    선택해주세요   선택해주세요        선택해주세요    선택해주세요  선택해주세요   \n",
       "\n",
       "     year     use  ...   flood   usage  change insurance sales_corp  \\\n",
       "0  선택해주세요  선택해주세요  ...  선택해주세요  선택해주세요  선택해주세요    선택해주세요     선택해주세요   \n",
       "\n",
       "  sales_loca     lat     lng options options_count  \n",
       "0     선택해주세요  선택해주세요  선택해주세요  선택해주세요        선택해주세요  \n",
       "\n",
       "[1 rows x 30 columns]"
      ]
     },
     "execution_count": 5,
     "metadata": {},
     "output_type": "execute_result"
    }
   ],
   "source": [
    "new_data = {}\n",
    "\n",
    "for col in df.columns:\n",
    "    new_data[f\"{col}\"] = '선택해주세요'\n",
    "\n",
    "idx = 0\n",
    " \n",
    "temp1 = df[df.index < idx]\n",
    "temp2 = df[df.index >= idx]\n",
    "df = temp1.append(new_data,ignore_index=True).append(temp2, ignore_index=True)\n",
    "df.head(1)"
   ]
  },
  {
   "cell_type": "code",
   "execution_count": 71,
   "metadata": {},
   "outputs": [
    {
     "name": "stdout",
     "output_type": "stream",
     "text": [
      "defaultdict(<class 'set'>, {'BMW': {'X5 (G05)', 'X5 (F15)', '7시리즈', '4시리즈 (F32)', '7시리즈 (G11)', '그란투리스모', '뉴5시리즈', '뉴3시리즈'}, 'GMC': {'시에라', '사바나밴'}, 'MAN': {'트럭'}, '기아': {'K3', '레이', '더 뉴 스포티지 R', '뉴모닝'}})\n"
     ]
    }
   ],
   "source": [
    "from collections import defaultdict\n",
    "brand = defaultdict(set)\n",
    "for b in df.values[5080:5100]:\n",
    "    brand[f'{b[3]}'].add(f'{b[4]}')\n",
    "print(brand)"
   ]
  },
  {
   "cell_type": "code",
   "execution_count": 90,
   "metadata": {},
   "outputs": [
    {
     "name": "stdout",
     "output_type": "stream",
     "text": [
      "['기아']\n"
     ]
    }
   ],
   "source": [
    "a = ['BMW'],['기아']\n",
    "print(f\"{a[1]}\")"
   ]
  },
  {
   "cell_type": "code",
   "execution_count": 91,
   "metadata": {},
   "outputs": [
    {
     "ename": "KeyError",
     "evalue": "('기아', 'BMW')",
     "output_type": "error",
     "traceback": [
      "\u001b[1;31m---------------------------------------------------------------------------\u001b[0m",
      "\u001b[1;31mKeyError\u001b[0m                                  Traceback (most recent call last)",
      "\u001b[1;32mc:\\Users\\USER\\TIL\\중고차 시세 예측\\test.ipynb Cell 4'\u001b[0m in \u001b[0;36m<cell line: 2>\u001b[1;34m()\u001b[0m\n\u001b[0;32m      <a href='vscode-notebook-cell:/c%3A/Users/USER/TIL/%EC%A4%91%EA%B3%A0%EC%B0%A8%20%EC%8B%9C%EC%84%B8%20%EC%98%88%EC%B8%A1/test.ipynb#ch0000004?line=0'>1</a>\u001b[0m brand \u001b[39m=\u001b[39m \u001b[39mdict\u001b[39m(brand)\n\u001b[1;32m----> <a href='vscode-notebook-cell:/c%3A/Users/USER/TIL/%EC%A4%91%EA%B3%A0%EC%B0%A8%20%EC%8B%9C%EC%84%B8%20%EC%98%88%EC%B8%A1/test.ipynb#ch0000004?line=1'>2</a>\u001b[0m brand[\u001b[39m'\u001b[39;49m\u001b[39m기아\u001b[39;49m\u001b[39m'\u001b[39;49m, \u001b[39m'\u001b[39;49m\u001b[39mBMW\u001b[39;49m\u001b[39m'\u001b[39;49m]\n",
      "\u001b[1;31mKeyError\u001b[0m: ('기아', 'BMW')"
     ]
    }
   ],
   "source": [
    "brand = dict(brand)\n",
    "brand['기아', 'BMW']"
   ]
  },
  {
   "cell_type": "code",
   "execution_count": 48,
   "metadata": {},
   "outputs": [
    {
     "name": "stdout",
     "output_type": "stream",
     "text": [
      "BMW 뉴5시리즈\n",
      "BMW X5 (F15)\n",
      "BMW X5 (G05)\n",
      "BMW 그란투리스모\n",
      "BMW 7시리즈 (G11)\n",
      "BMW 7시리즈\n",
      "BMW 뉴3시리즈\n",
      "BMW 뉴3시리즈\n",
      "BMW 뉴3시리즈\n",
      "BMW 4시리즈 (F32)\n",
      "GMC 사바나밴\n",
      "GMC 시에라\n",
      "GMC 사바나밴\n",
      "GMC 사바나밴\n",
      "GMC 사바나밴\n",
      "MAN 트럭\n",
      "기아 레이\n",
      "기아 더 뉴 스포티지 R\n",
      "기아 K3\n",
      "기아 뉴모닝\n"
     ]
    }
   ],
   "source": [
    "for b in df.values[5080:5100]:\n",
    "    print(b[3], b[4])"
   ]
  },
  {
   "cell_type": "code",
   "execution_count": 56,
   "metadata": {},
   "outputs": [
    {
     "ename": "TypeError",
     "evalue": "unhashable type: 'list'",
     "output_type": "error",
     "traceback": [
      "\u001b[1;31m---------------------------------------------------------------------------\u001b[0m",
      "\u001b[1;31mTypeError\u001b[0m                                 Traceback (most recent call last)",
      "\u001b[1;32mc:\\Users\\USER\\TIL\\중고차 시세 예측\\test.ipynb Cell 4'\u001b[0m in \u001b[0;36m<cell line: 5>\u001b[1;34m()\u001b[0m\n\u001b[0;32m      <a href='vscode-notebook-cell:/c%3A/Users/USER/TIL/%EC%A4%91%EA%B3%A0%EC%B0%A8%20%EC%8B%9C%EC%84%B8%20%EC%98%88%EC%B8%A1/test.ipynb#ch0000003?line=3'>4</a>\u001b[0m result \u001b[39m=\u001b[39m \u001b[39mdict\u001b[39m()\n\u001b[0;32m      <a href='vscode-notebook-cell:/c%3A/Users/USER/TIL/%EC%A4%91%EA%B3%A0%EC%B0%A8%20%EC%8B%9C%EC%84%B8%20%EC%98%88%EC%B8%A1/test.ipynb#ch0000003?line=4'>5</a>\u001b[0m \u001b[39mfor\u001b[39;00m key, val \u001b[39min\u001b[39;00m brand\u001b[39m.\u001b[39mitems():\n\u001b[1;32m----> <a href='vscode-notebook-cell:/c%3A/Users/USER/TIL/%EC%A4%91%EA%B3%A0%EC%B0%A8%20%EC%8B%9C%EC%84%B8%20%EC%98%88%EC%B8%A1/test.ipynb#ch0000003?line=5'>6</a>\u001b[0m     dict_no_dup[val] \u001b[39m=\u001b[39m key\n\u001b[0;32m      <a href='vscode-notebook-cell:/c%3A/Users/USER/TIL/%EC%A4%91%EA%B3%A0%EC%B0%A8%20%EC%8B%9C%EC%84%B8%20%EC%98%88%EC%B8%A1/test.ipynb#ch0000003?line=7'>8</a>\u001b[0m \u001b[39mfor\u001b[39;00m key, val \u001b[39min\u001b[39;00m dict_no_dup\u001b[39m.\u001b[39mitems():\n\u001b[0;32m      <a href='vscode-notebook-cell:/c%3A/Users/USER/TIL/%EC%A4%91%EA%B3%A0%EC%B0%A8%20%EC%8B%9C%EC%84%B8%20%EC%98%88%EC%B8%A1/test.ipynb#ch0000003?line=8'>9</a>\u001b[0m     result[val] \u001b[39m=\u001b[39m key\n",
      "\u001b[1;31mTypeError\u001b[0m: unhashable type: 'list'"
     ]
    }
   ],
   "source": [
    "brand = dict(brand)\n",
    "\n",
    "dict_no_dup = dict()\n",
    "result = dict()\n",
    "for key, val in brand.items():\n",
    "    dict_no_dup[val] = key\n",
    "\n",
    "for key, val in dict_no_dup.items():\n",
    "    result[val] = key"
   ]
  }
 ],
 "metadata": {
  "interpreter": {
   "hash": "263930470851f494f0ed2879c35b57985588df20f9e529b86e97dd5eb9ddc466"
  },
  "kernelspec": {
   "display_name": "Python 3.9.12 ('base')",
   "language": "python",
   "name": "python3"
  },
  "language_info": {
   "codemirror_mode": {
    "name": "ipython",
    "version": 3
   },
   "file_extension": ".py",
   "mimetype": "text/x-python",
   "name": "python",
   "nbconvert_exporter": "python",
   "pygments_lexer": "ipython3",
   "version": "3.9.12"
  },
  "orig_nbformat": 4
 },
 "nbformat": 4,
 "nbformat_minor": 2
}
