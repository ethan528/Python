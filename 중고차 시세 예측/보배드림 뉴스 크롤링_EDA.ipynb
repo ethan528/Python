{
 "cells": [
  {
   "cell_type": "code",
   "execution_count": 2,
   "metadata": {},
   "outputs": [],
   "source": [
    "negative = ['못생김', '구리다', '']\n",
    "positive = ['깔끔', '멋진', '만족', '좋아', '예쁘다', ]"
   ]
  },
  {
   "cell_type": "code",
   "execution_count": null,
   "metadata": {},
   "outputs": [],
   "source": []
  },
  {
   "cell_type": "code",
   "execution_count": null,
   "metadata": {},
   "outputs": [],
   "source": []
  },
  {
   "cell_type": "code",
   "execution_count": 36,
   "metadata": {},
   "outputs": [
    {
     "data": {
      "text/html": [
       "<div>\n",
       "<style scoped>\n",
       "    .dataframe tbody tr th:only-of-type {\n",
       "        vertical-align: middle;\n",
       "    }\n",
       "\n",
       "    .dataframe tbody tr th {\n",
       "        vertical-align: top;\n",
       "    }\n",
       "\n",
       "    .dataframe thead th {\n",
       "        text-align: right;\n",
       "    }\n",
       "</style>\n",
       "<table border=\"1\" class=\"dataframe\">\n",
       "  <thead>\n",
       "    <tr style=\"text-align: right;\">\n",
       "      <th></th>\n",
       "      <th>Unnamed: 0</th>\n",
       "      <th>comments</th>\n",
       "      <th>likes</th>\n",
       "    </tr>\n",
       "  </thead>\n",
       "  <tbody>\n",
       "    <tr>\n",
       "      <th>0</th>\n",
       "      <td>0</td>\n",
       "      <td>오늘시승한 걸 피디님과 작가님들이 정말 머리에 불나도록 고생해서 올렸습니다. 이렇게...</td>\n",
       "      <td>363.0</td>\n",
       "    </tr>\n",
       "    <tr>\n",
       "      <th>1</th>\n",
       "      <td>1</td>\n",
       "      <td>영상 올라올때마다 보는데 시승할때마다 피드백을 깔끔하게 잘하시는거 같아요 피드백에서...</td>\n",
       "      <td>4.0</td>\n",
       "    </tr>\n",
       "    <tr>\n",
       "      <th>2</th>\n",
       "      <td>2</td>\n",
       "      <td>웬만하면 잘 넘어가지 않은 편인데 대리점가서 보고 시승하고픈 생각이 들게 만드네요....</td>\n",
       "      <td>2.0</td>\n",
       "    </tr>\n",
       "    <tr>\n",
       "      <th>3</th>\n",
       "      <td>3</td>\n",
       "      <td>한국차의 성능을 한단계 끌어 올린 멋진 차네요!! 특히 만족할만한 오디오까지!! 디...</td>\n",
       "      <td>2.0</td>\n",
       "    </tr>\n",
       "    <tr>\n",
       "      <th>4</th>\n",
       "      <td>4</td>\n",
       "      <td>디자인은 확실히 좋아 졌네요. 하체구성, 심장병있는 엔진도 좋아지면 좋겠어요.</td>\n",
       "      <td>1.0</td>\n",
       "    </tr>\n",
       "    <tr>\n",
       "      <th>...</th>\n",
       "      <td>...</td>\n",
       "      <td>...</td>\n",
       "      <td>...</td>\n",
       "    </tr>\n",
       "    <tr>\n",
       "      <th>3493</th>\n",
       "      <td>3488</td>\n",
       "      <td>전기차 뭘살까 고민 했는데 이영상 보고 정했습니다 모델Y</td>\n",
       "      <td>1.0</td>\n",
       "    </tr>\n",
       "    <tr>\n",
       "      <th>3494</th>\n",
       "      <td>3489</td>\n",
       "      <td>디자인 너무 읔ㅜㅜ 테슬라보다 몬생긴 유일한 차 같은</td>\n",
       "      <td>1.0</td>\n",
       "    </tr>\n",
       "    <tr>\n",
       "      <th>3495</th>\n",
       "      <td>3490</td>\n",
       "      <td>내비도 마음에 안들고 핸들도 조잡하고 계기판도 복잡하고 충전도 복잡하고 수납공간도 ...</td>\n",
       "      <td>1.0</td>\n",
       "    </tr>\n",
       "    <tr>\n",
       "      <th>3496</th>\n",
       "      <td>3491</td>\n",
       "      <td>저는 예쁘지가 않네요..... 디자인은 머 개인취향이지만 먼가 조잡함. 아이오닉5는...</td>\n",
       "      <td>1.0</td>\n",
       "    </tr>\n",
       "    <tr>\n",
       "      <th>3497</th>\n",
       "      <td>3492</td>\n",
       "      <td>모델3롱레인지가 출력이나 주행거리면에서 넘사벽인데 300만원이나 더 비싸네 ㅋㅋㅋㅋ...</td>\n",
       "      <td>1.0</td>\n",
       "    </tr>\n",
       "  </tbody>\n",
       "</table>\n",
       "<p>3498 rows × 3 columns</p>\n",
       "</div>"
      ],
      "text/plain": [
       "     Unnamed: 0                                           comments  likes\n",
       "0             0  오늘시승한 걸 피디님과 작가님들이 정말 머리에 불나도록 고생해서 올렸습니다. 이렇게...  363.0\n",
       "1             1  영상 올라올때마다 보는데 시승할때마다 피드백을 깔끔하게 잘하시는거 같아요 피드백에서...    4.0\n",
       "2             2  웬만하면 잘 넘어가지 않은 편인데 대리점가서 보고 시승하고픈 생각이 들게 만드네요....    2.0\n",
       "3             3  한국차의 성능을 한단계 끌어 올린 멋진 차네요!! 특히 만족할만한 오디오까지!! 디...    2.0\n",
       "4             4        디자인은 확실히 좋아 졌네요. 하체구성, 심장병있는 엔진도 좋아지면 좋겠어요.    1.0\n",
       "...         ...                                                ...    ...\n",
       "3493       3488                    전기차 뭘살까 고민 했는데 이영상 보고 정했습니다 모델Y    1.0\n",
       "3494       3489                      디자인 너무 읔ㅜㅜ 테슬라보다 몬생긴 유일한 차 같은    1.0\n",
       "3495       3490  내비도 마음에 안들고 핸들도 조잡하고 계기판도 복잡하고 충전도 복잡하고 수납공간도 ...    1.0\n",
       "3496       3491  저는 예쁘지가 않네요..... 디자인은 머 개인취향이지만 먼가 조잡함. 아이오닉5는...    1.0\n",
       "3497       3492  모델3롱레인지가 출력이나 주행거리면에서 넘사벽인데 300만원이나 더 비싸네 ㅋㅋㅋㅋ...    1.0\n",
       "\n",
       "[3498 rows x 3 columns]"
      ]
     },
     "execution_count": 36,
     "metadata": {},
     "output_type": "execute_result"
    }
   ],
   "source": [
    "import pandas as pd\n",
    "\n",
    "df = pd.read_csv('./합본1/기아+기아.csv')\n",
    "df"
   ]
  },
  {
   "cell_type": "code",
   "execution_count": 33,
   "metadata": {},
   "outputs": [
    {
     "data": {
      "text/plain": [
       "[['에디슨EV \"채권자가 법원에 파산 신청…채권액 36억원\"'],\n",
       " ['LG전자, 차량용 반도체 내재화 추진…개발 기술 인증받아'],\n",
       " ['일진머티리얼즈, 폭스바겐그룹의 스페인 전기차 프로젝트 참여'],\n",
       " ['쌍용차 인수 중도포기 없다…인수후보 4곳 인수제안서 제출 방침'],\n",
       " ['호세 무뇨스 현대차 사장 이사회 합류…글로벌시장 챙긴다'],\n",
       " ['반도체 수급난 탓?…인천항 신차 수출↓ 중고차 수출↑'],\n",
       " ['인천항 스마트 오토밸리 본격화…2025년 중고차수출단지 이전'],\n",
       " ['인천항, 올해 중고차 수출 8월까지 46% 증가'],\n",
       " ['인천항, 수출용 중고차 운반선 못 구해 `아우성`'],\n",
       " ['인천항, 올해 들어 중고차 수출 회복 `기지개`'],\n",
       " ['영업용 화물차주, ‘신차 60%·중고차 40%’로 트럭 구매'],\n",
       " ['돌파구 못 찾는 현대차 중고차시장 진출…중고차업계 `반발`'],\n",
       " ['인천서 불에 탄 중고차 100대 2주째 방치…\"당장 처분 어려워\"'],\n",
       " ['인천항 작년 중고차 34만6천대 수출…17.5% 감소'],\n",
       " ['중고차 100대 불에 탄 인천 중고차단지…\"포탄 떨어진 줄\"'],\n",
       " ['인천 중고차수출단지서 큰불…차량 80여대 불타'],\n",
       " ['옆 매장 중고차 훔쳐 판 40대 딜러 징역 6개월'],\n",
       " ['인천 신항 1-3단계 부지, 수출용 중고차 장치장으로 임시활용'],\n",
       " ['인천 중고차 수출업체 컨테이너서 불…차량 2대 등 타'],\n",
       " ['람보르기니도 공식인증 중고차 사업 개시…전용 전시장 열어'],\n",
       " ['인천, 중고차 전문 수출단지 조성사업 추진 TF 가동'],\n",
       " ['박영선, 현대차 중고차 진출에 \"쉽지 않겠지만 접점 찾는 중\"'],\n",
       " ['인천, 중고차 전문 수출단지 `스마트 오토밸리` 추진 TF 구성'],\n",
       " ['경기도, 중고차사이트 `허위·미끼매물` 빅데이터 활용 상시점검'],\n",
       " ['박영선, 현대차 중고차시장 진출 관련 \"정의선 만날 의향 있다\"'],\n",
       " ['중고차 사기단에 잇단 `철퇴`…대법 \"범죄집단으로 봐야\"'],\n",
       " ['현대차 중고차 시장 진출 공식화…중고차 업계와 갈등 불가피'],\n",
       " ['보증금 내면 중고차 리스료 깎아준다? 대납 사기 기승'],\n",
       " ['\"중고차시장 국내업체 진입규제, 수입차 대비 역차별\"'],\n",
       " ['`군산시 중고차 수출복합단지` 조건부 승인…2023년 개장 계획'],\n",
       " ['국토부, 중고차 허위 성능상태점검 원천 차단한다'],\n",
       " ['중고차 사서 땅에 묻고 \"도난당했다\"…보험금 챙긴 50대 실형'],\n",
       " ['[해외소식] 마스크 가격 뻥튀기해 뉴욕시에 팔려던 중고차 딜러 적발'],\n",
       " ['[하이빔]연간 45조원 중고차시장의 치열한 암투'],\n",
       " ['자동차 생산도시 울산서 중고차도 수출한다'],\n",
       " ['중고차업체서 훔친 번호판 달고 차 운행…40대 징역 6개월'],\n",
       " ['손보업계, 중고차 성능점검 보험 보험료 20% 인하 추진'],\n",
       " ['인천항 중고차 수출단지 `스마트 오토밸리` 올해 사업자 선정'],\n",
       " ['인천항서 지난해 중고차 42만대 수출…역대 최대'],\n",
       " ['현대차 전기차도 중고차 가격보장··· 코나·아이오닉'],\n",
       " ['혼다, 월 단위 중고차 렌털 서비스 시작'],\n",
       " ['중고차 주행거리 조작해 9천만원 가로챈 딜러 징역 1년'],\n",
       " ['FMK, 페라리 인증 중고차 전시장 확장 기념 행사 개최'],\n",
       " ['중고차 성능·상태, 실제와 다른 피해 잇따라'],\n",
       " ['중고차로 둔갑한 침수차, \"카히스토리서 무료조회 가능\"'],\n",
       " ['BMW코리아, 부산 인증 중고차 전시장 열어'],\n",
       " ['\"중고차 살 때 고속도로 미납통행료 바로 확인 가능\"'],\n",
       " [\"중고차 업계, '책임보험제 시행하면 소비자 부담 늘 것'\"],\n",
       " ['중고차 성능점검업체, 6월부터 책임보험 가입 의무화'],\n",
       " ['한불모터스, 푸조 인증 중고차 사업 시작'],\n",
       " ['롤스로이스, 부천에 인증중고차 전시장 열어'],\n",
       " ['FMK, 페라리 인증 중고차 전시장 확장 이전'],\n",
       " ['47년된 현대차 코티나, 중고차 매물로 등장..과연 판매 가격은?'],\n",
       " ['벤츠코리아, 기흥에 인증중고차 전시장 열어'],\n",
       " ['벤츠코리아, 인증 중고차 전시장 인증받아'],\n",
       " [\"포르쉐코리아, 인증 중고차 사업 'TUV SUD'가 검증\"],\n",
       " ['아우디코리아, A3 가솔린 인증중고차로 판매한다'],\n",
       " ['차진단보증협회, 중고차 상태 점검 시 가격 산정 무료 제공'],\n",
       " ['공정위, 중고차 알선수수료 강제한 대전중부조합에 과징금 부과'],\n",
       " ['BMW그룹코리아, 인천 인증 중고차 전시장 확장 이전'],\n",
       " ['렉서스코리아, \"인증 중고차 상담하고 선물 받아가세요\"'],\n",
       " ['롤스로이스도 인증 중고차 판매 뛰어들어'],\n",
       " ['볼보차코리아, \"인증 중고차 전시장에서 경품 받아가세요\"'],\n",
       " ['아우디코리아, 인증 중고차 서대구 전시장 개장'],\n",
       " ['불스원, \"중고차로 유라시아 대륙 횡단에 도전하라\"'],\n",
       " ['벤츠코리아, 인증 중고차 1분기 판매…34.9%↑'],\n",
       " ['마이마부, 중고차 구매동행 서비스 3,000건 돌파'],\n",
       " ['중고차 점검 제도, 어떻게 바뀌나'],\n",
       " ['한국지엠 위기, 중고차까지 불안하다'],\n",
       " ['보쉬코리아, 중고차 인증 서비스 강화'],\n",
       " ['메리츠화재, 중고차 수리비 연장보증서비스 출시'],\n",
       " ['볼보차코리아, 2분기 XC40 및 인증 중고차 시작'],\n",
       " ['2월 중고차시장, 거래 회복세 접어들어'],\n",
       " ['벤츠코리아, 대전·울산·고양에 인증 중고차 전시장 개장'],\n",
       " ['삼성카드, 중고차 다이렉트 오토론 시작'],\n",
       " ['장안평을 다시 \\'중고차 메카로\\'…\"車산업 핵심거점으로 정비\"'],\n",
       " [\"'중고차 메카' 장안평서 21일 자동차 축제\"],\n",
       " ['폭스바겐 인증 중고차사업, 자신감인가'],\n",
       " ['[칼럼] 전기차, 다 좋은데 중고차 퇴로 만들어야'],\n",
       " ['BMW코리아, 김포에 인증중고차 전시장 열어'],\n",
       " ['벤츠코리아, 인증중고차 전시장 세 곳 추가'],\n",
       " ['침수차는 어떻게 일반 중고차로 둔갑할까'],\n",
       " ['재규어랜드로버코리아, 대구 인증중고차 전시장 열어'],\n",
       " [\"'도난차 밀수출 차단'…중고차, 보세구역 반입 후 수출신고\"],\n",
       " ['FMK, 페라리 인증 중고차 사업부 출범'],\n",
       " ['피아트 500X 최대 30% 할인, ‘중고차보다 저렴’'],\n",
       " [\"중고차 '허위매물' 모두 사라질까...정부 개선 나서\"],\n",
       " ['북미에서 인기 높은 부문별 중고차는?'],\n",
       " ['SSCL, “인증 중고차 사고 바캉스 떠나세요”'],\n",
       " ['경찰청, 중고차 매매 불법행위 특별단속 나서'],\n",
       " ['중고차 구입, 고지내용과 실제 다르다는 불만 많아'],\n",
       " ['중고차 정비 이력 누구나 볼 수 있게 된다'],\n",
       " ['‘니로’ 사면, 배터리 평생 보장·중고차 잔가 보장..통큰 혜택'],\n",
       " ['클라쎄오토 “폭스바겐 중고차 사면 평생 엔진오일이 공짜”'],\n",
       " ['렉서스, 미국서 중고차 가치 가장 높은 제품 선정'],\n",
       " ['장안중고차매매단지, 묵은때 벗고 젊어진다'],\n",
       " [\"'중고차' 압류·저당·체납정보 한번에 조회한다\"],\n",
       " ['렉서스, 17일부터 인증 중고차 사업 시작'],\n",
       " ['BMW코리아, 광주에 인증 중고차 전시장 개장'],\n",
       " ['“침수된 줄 모르고 산 중고차, 전액 환불해줘야”'],\n",
       " ['AJ렌터카, “중고차도 장기 렌터카로 이용하세요”'],\n",
       " ['중고차시장에 보이스피싱 기승'],\n",
       " [\"쏘나타·K5, 미 컨슈머리포트 선정 '올해의 중고차'\"],\n",
       " [\"정부, 중고차 사기 및 대포차 거래 '발본색원' 나서\"],\n",
       " ['중고차 살 때도 복합할부…신한카드 첫 상품 출시'],\n",
       " ['BMW코리아, 전주에 인증중고차 전시장 개장'],\n",
       " ['벤츠코리아, 인증 중고차사업 확대 나서'],\n",
       " [\"환율악재에 중고차 수출 20% 급감…영세업체 '줄도산 비상'\"],\n",
       " ['[기자파일] 인증 수입 중고차사업, 추락하지 않으려면?'],\n",
       " ['벤츠코리아, 인증중고차 위해 대형 전시장 조성'],\n",
       " ['보험개발원, 중고차 사고확인 스마트앱 출시'],\n",
       " ['“리콜 탓 중고차 값 하락” GM에 100억 달러 소송'],\n",
       " ['“침수된 중고차인줄 모르고 샀다가 낭패…피해 급증”'],\n",
       " ['재규어 랜드로버, 아태지역 첫 인증중고차 국내오픈'],\n",
       " ['아주캐피탈, 우량직장 저금리 중고차 할부상품 출시'],\n",
       " ['싼타페 중고차 소유주도 보상…최소 14만명 대상'],\n",
       " [\"국산중고차 '환율 직격탄'에 수출급감…일본은 '훨훨'\"],\n",
       " ['재규어랜드로버코리아, 인증 중고차 뛰어든다'],\n",
       " ['중고차업자 허위광고 3번 걸리면 등록 취소'],\n",
       " ['벤츠코리아, 인증 중고차 거래 일반으로 확대'],\n",
       " [\"인증 중고차, '수입사 보증'은 독이 든 사과?\"],\n",
       " ['미국10대 중고차에 구형 스포티지·쏘나타'],\n",
       " ['BMW코리아, 부산 연산 중고차 전시장 확장 이전'],\n",
       " ['중고차 매매업자, 차량 고장 일정기간 책임진다'],\n",
       " ['하락세 예상되는 미국 중고차 시장..원인은 ‘가격’'],\n",
       " ['중고차 거래 과세방식 전환 2월 국회서 재논의'],\n",
       " ['중고차시민감시단 출범'],\n",
       " ['포르쉐, 분당센터에서 인증 중고차 페어 개최'],\n",
       " ['중고차 시장서 주행거리·침수사실 투명해진다'],\n",
       " ['앞으로 중고차 살때 가ㆍ차명 못쓴다'],\n",
       " ['장부조작 통한 중고차 취득세 탈루 뿌리 뽑는다'],\n",
       " ['NH농협캐피탈, 나눔 중고차리스 상품 출시'],\n",
       " ['허위 중고차 매물 올리고 다른 차 강매 77명 적발'],\n",
       " ['“중고차 매매상사 직원과의 부적법 거래 배상 안돼”'],\n",
       " ['수수료 내렸더니 중고차 사고 이력 조회 3.4배로'],\n",
       " ['폭스바겐코리아, 인증 중고차 물밑 작업 시작'],\n",
       " ['“자동차보험 가입자가 중고차 이전등록해야”'],\n",
       " ['중고차 사고 이력 조회 수수료 내달 80% 인하'],\n",
       " ['중고차매매업 신고 기준, 업계·정부 대립'],\n",
       " ['하락 모르는 15인승 중고차 값, 왜 그럴까?'],\n",
       " ['수원시, 서수원에 대규모 중고차 유통단지 조성'],\n",
       " ['울산 수입차 등록 6천대…중고차 시장 활기'],\n",
       " ['올해 중고차 수출 사상 최대 전망'],\n",
       " ['도요타, 美켈리블루북 `중고차 잔존가치` 1위…현대차는?'],\n",
       " ['BMW, 대전·대구 인증중고차 전시장 오픈'],\n",
       " ['중고차, 중대형은 내리막 경소형은 평지'],\n",
       " ['불황 탓, 서울 중고차 거래 하락세로 반전'],\n",
       " ['`황당한` 자동차 환산 소득…중고차 380만원, 신차 38만원'],\n",
       " ['인천항서 중고차 1천234대 밀수출 조직 검거'],\n",
       " ['신한은행, 마이카 중고차대출 금리 0.7%P 인하'],\n",
       " [\"페라리, 599 GTB 중고차 구매 시 혜택 '다양'\"],\n",
       " [\"포르쉐, '중고차 사고 팔 사람 다 모여!'\"],\n",
       " ['경인항 중고차 수출단지 개장'],\n",
       " ['포르쉐, 공식 인증 중고차 센터 개설'],\n",
       " [\"중고차 피해 '기록부와 차이' 가장 많아\"],\n",
       " ['中 중고차 새차 교환 보조금 최대 324만원 지급'],\n",
       " ['벤츠, 인증 중고차 전시장 개장'],\n",
       " ['국토부, 중고차 구매 행동요령 마련'],\n",
       " ['오르기만 하던 美중고차값, 내리막 조짐'],\n",
       " ['중고차 구입 시, ‘합리성’과 ‘경제성’ 따지는 소비자 가장 많아'],\n",
       " [\"사고車 '무사고'로 속여 판 중고차매매상 적발\"],\n",
       " ['중고차 대출금리 확 줄어든다'],\n",
       " [\"단종된 '엘란', 독일 중고차 시장에 등장\"],\n",
       " [\"베트남 중고차 시장 세금 신설에 `휘청'\"],\n",
       " ['중고차 딜러 계약위반, 이름 빌려준 업체도 책임'],\n",
       " ['중고차 매매업소 성능위조 수두룩'],\n",
       " ['요르단, 국산 중고차 수입 4년째 1위'],\n",
       " ['글로비스, 양산에 중고차경매장 4월초 개장'],\n",
       " [\"속초항 러 중고차 수출 '부활'..올들어 1천900여대\"],\n",
       " ['인천시, 중고차 매매 전문 중개인 양성'],\n",
       " ['미국 경기침체로 중고차 가격 상승'],\n",
       " ['서울시, 대포차 유통 막는다…중고차매매 점검'],\n",
       " ['기아 K5, 美 중고차값 어코드 `추월`'],\n",
       " ['수입중고차협회, 수입중고차 품질보증 서비스 선보인다'],\n",
       " ['SK·현대캐피탈 중고차 쇼핑몰 허위광고 적발'],\n",
       " ['\"중고차 업계, 완성차 진출·FTA로 어려움 예상\"'],\n",
       " [\"속초항 중고차 수출 '호조'..당분간 이어질 듯\"],\n",
       " ['20억 쾨닉세그, 중고차 가격은?'],\n",
       " ['아반떼, 美서 중고차 `최우수 잔존가치상`'],\n",
       " ['현대차, 중고차 보상가 확대…벤츠ㆍ렉서스 500만원 할인'],\n",
       " ['스마트한 중고차쇼핑, 이젠 엠파크에서~'],\n",
       " ['다음달부터 LPG 중고차 일반인도 구입 가능'],\n",
       " ['9월 중고차, 체감경기 악화로 수요 감소'],\n",
       " ['벤츠-BMW-포르쉐, 중고차 시장서 격돌'],\n",
       " ['벤츠, 인증 중고차 `스타클래스` 첫 선'],\n",
       " [\"[기자수첩]공인된 '중고차 딜러' 시급히 육성해야\"],\n",
       " ['인천에 국내최대 중고차 매매단지'],\n",
       " ['중고차 경매로 팔면…정확한 시장가격으로 거래 `장점`'],\n",
       " ['장애인용 LPG 중고차 일반인도 살 수 있다'],\n",
       " ['수입차, 중고차 가치보장 앞다퉈 도입'],\n",
       " ['BMW, 중고차 60% 보장 \"국산차도 놀라\"'],\n",
       " ['2년된 중고차 막 뽑은 신차보다 비싸다?'],\n",
       " ['서울 중고차 시장에 `침수차 주의보`'],\n",
       " ['8월 수입 중고차, 휴가철 변수 반영돼'],\n",
       " ['수입중고차 가격 7개월 새 최고 15%p 하락'],\n",
       " ['중고차 만족도, 새차보다 높다'],\n",
       " [\"4억 경품 '페라리' 한 달만에 중고차 매물로 등장\"],\n",
       " ['중고차 온라인 거래 피해자 많아'],\n",
       " ['6월 중고차 시세, 휴가철 앞두고 오름세'],\n",
       " ['중고차 할부 금리 안 내려간다'],\n",
       " ['페라리, ‘페라리 공식 인증 중고차 프로그램’ 런칭'],\n",
       " ['미 중고차 가격 급등세'],\n",
       " ['日대지진 여파, 美서도 중고차값 상승'],\n",
       " ['[사진]1991년식 BMW 나즈카 M12…중고차 가격은?'],\n",
       " ['수입중고차 경기지표? 건설맨 팔고 증권맨 산다'],\n",
       " ['현대차, 美서 중고차 가치보장 프로그램 개시'],\n",
       " ['중고차 구입때 시세보다 지나치게 싸다면 일단 의심을'],\n",
       " ['중고차, 겉 다르고 속 다른 경우 많아'],\n",
       " [\"중대형차, 신차는 '대박' 중고차는 '쪽박'?\"],\n",
       " ['대전경찰, 중고차 주행거리 조작.판매 일당 적발'],\n",
       " ['`그랜저 효과`…중고차 시장도 좌지우지'],\n",
       " [\"서류만 잘 체크해도 중고차 구매 '절반은 성공'\"],\n",
       " ['중고차제도, 정부 계획 문제 없나?'],\n",
       " ['중고차 가격 매기는 자격사 생긴다'],\n",
       " [\"국토해양부, 중고차 유통시장에 '메스'\"],\n",
       " ['기름값 급등에 중고차 시장 위축…연비 좋은 소형차만 인기'],\n",
       " [\"개그맨 '한민관'의 제네시스쿠페, 중고차매물로 등장\"],\n",
       " ['3월 중고차시세, 봄맞아 활기 되찾아'],\n",
       " ['요르단, 국산 중고차 수입 3년째 1위'],\n",
       " [\"현대·기아차 美 중고차 시장서도 '각광'\"],\n",
       " ['2월 수입중고차, 설 이후 가격 조정'],\n",
       " ['루이비통 입은 벤츠 G클래스, 중고차 매물로?'],\n",
       " ['보배드림, 중고차 직거래 사이트 새롭게 오픈!'],\n",
       " [\"12월 중고차시세 '약보합세' 이어진다\"],\n",
       " ['국내 중고차 거래 사상 첫 200만대 돌파'],\n",
       " ['[칼럼] 국내 중고차 시장, 어떻게 변할까?'],\n",
       " ['신형 아반떼, 美서 중고차 잔존가치 골프 제치고 1위'],\n",
       " [\"[보배드림 핫이슈] 포니보다 '귀한몸' 로얄살롱 중고차 매물로 나와\"],\n",
       " ['\"중고차 보러왔다\"며 살인..벨기에 충격'],\n",
       " [\"11월 중고차시세, 약보합세…'구입 최적기'\"],\n",
       " ['중고차 팔고 예비열쇠로 다시 훔쳐'],\n",
       " ['속아서 산 중고차 1년 내 환불 요구하세요'],\n",
       " ['YF쏘나타 1% 할부 효과로 중고차는 `찬밥`'],\n",
       " ['10월 수입 중고차시장, 연식 감가 등으로 하락세'],\n",
       " ['공정위 제기된 중고차 불만 살펴보니···'],\n",
       " ['日 신차 보조금 탓에 중고차 7월 판매 `사상 최저`']]"
      ]
     },
     "execution_count": 33,
     "metadata": {},
     "output_type": "execute_result"
    }
   ],
   "source": [
    "df_labeling = df[['title']]\n",
    "\n",
    "titles = df_labeling.values.tolist()\n",
    "\n",
    "titles"
   ]
  },
  {
   "cell_type": "code",
   "execution_count": 34,
   "metadata": {},
   "outputs": [],
   "source": [
    "labels = []\n",
    "\n",
    "for title in titles:\n",
    "    negative_flag = False\n",
    "    label = 0\n",
    "    for i in range(len(negative)):\n",
    "        if negative[i] in title:\n",
    "            label = -1\n",
    "            negative_flag = True\n",
    "            break\n",
    "    if negative_flag == False:\n",
    "        for i in range(len(positive)):\n",
    "            if positive[i] in title:\n",
    "                label = 1\n",
    "                break\n",
    "    \n",
    "    labels.append(label)\n",
    "\n",
    "df_labeling['label'] = labels"
   ]
  },
  {
   "cell_type": "code",
   "execution_count": 35,
   "metadata": {},
   "outputs": [
    {
     "data": {
      "text/html": [
       "<div>\n",
       "<style scoped>\n",
       "    .dataframe tbody tr th:only-of-type {\n",
       "        vertical-align: middle;\n",
       "    }\n",
       "\n",
       "    .dataframe tbody tr th {\n",
       "        vertical-align: top;\n",
       "    }\n",
       "\n",
       "    .dataframe thead th {\n",
       "        text-align: right;\n",
       "    }\n",
       "</style>\n",
       "<table border=\"1\" class=\"dataframe\">\n",
       "  <thead>\n",
       "    <tr style=\"text-align: right;\">\n",
       "      <th></th>\n",
       "      <th>title</th>\n",
       "      <th>label</th>\n",
       "    </tr>\n",
       "  </thead>\n",
       "  <tbody>\n",
       "  </tbody>\n",
       "</table>\n",
       "</div>"
      ],
      "text/plain": [
       "Empty DataFrame\n",
       "Columns: [title, label]\n",
       "Index: []"
      ]
     },
     "execution_count": 35,
     "metadata": {},
     "output_type": "execute_result"
    }
   ],
   "source": [
    "df_labeling[df_labeling['label'] == 1]"
   ]
  },
  {
   "cell_type": "code",
   "execution_count": 23,
   "metadata": {},
   "outputs": [
    {
     "data": {
      "text/plain": [
       "(2253, 751)"
      ]
     },
     "execution_count": 23,
     "metadata": {},
     "output_type": "execute_result"
    }
   ],
   "source": [
    "from sklearn.model_selection import train_test_split\n",
    "\n",
    "train_data, test_data = train_test_split(df_labeling, test_size = 0.25, random_state = 42)\n",
    "len(train_data), len(test_data)"
   ]
  },
  {
   "cell_type": "code",
   "execution_count": 24,
   "metadata": {},
   "outputs": [
    {
     "data": {
      "text/plain": [
       "<AxesSubplot:>"
      ]
     },
     "execution_count": 24,
     "metadata": {},
     "output_type": "execute_result"
    },
    {
     "data": {
      "image/png": "[encoded data removed]",
      "text/plain": [
       "<Figure size 432x288 with 1 Axes>"
      ]
     },
     "metadata": {
      "needs_background": "light"
     },
     "output_type": "display_data"
    }
   ],
   "source": [
    "import matplotlib.pyplot as plt\n",
    "\n",
    "df_labeling['label'].value_counts().plot(kind='bar')"
   ]
  },
  {
   "cell_type": "code",
   "execution_count": 25,
   "metadata": {},
   "outputs": [
    {
     "data": {
      "text/html": [
       "<div>\n",
       "<style scoped>\n",
       "    .dataframe tbody tr th:only-of-type {\n",
       "        vertical-align: middle;\n",
       "    }\n",
       "\n",
       "    .dataframe tbody tr th {\n",
       "        vertical-align: top;\n",
       "    }\n",
       "\n",
       "    .dataframe thead th {\n",
       "        text-align: right;\n",
       "    }\n",
       "</style>\n",
       "<table border=\"1\" class=\"dataframe\">\n",
       "  <thead>\n",
       "    <tr style=\"text-align: right;\">\n",
       "      <th></th>\n",
       "      <th>label</th>\n",
       "      <th>count</th>\n",
       "    </tr>\n",
       "  </thead>\n",
       "  <tbody>\n",
       "    <tr>\n",
       "      <th>0</th>\n",
       "      <td>0</td>\n",
       "      <td>2253</td>\n",
       "    </tr>\n",
       "  </tbody>\n",
       "</table>\n",
       "</div>"
      ],
      "text/plain": [
       "   label  count\n",
       "0      0   2253"
      ]
     },
     "execution_count": 25,
     "metadata": {},
     "output_type": "execute_result"
    }
   ],
   "source": [
    "train_data.groupby('label').size().reset_index(name = 'count')"
   ]
  },
  {
   "cell_type": "code",
   "execution_count": null,
   "metadata": {},
   "outputs": [],
   "source": [
    "from konlpy.tag import Okt; t = Okt()\n",
    "\n",
    "t.morphs('정상에 선 기쁨을 다른 사람들과 함께 나누자')"
   ]
  },
  {
   "cell_type": "code",
   "execution_count": null,
   "metadata": {},
   "outputs": [],
   "source": [
    "stopwords = ['도', '는', '다', '의', '가', '이', '은', '한', '에', '하', '고', '을', '를', '인', '듯', '과', '와', '네', '들', '듯', '지', '임', '게']"
   ]
  },
  {
   "cell_type": "code",
   "execution_count": null,
   "metadata": {},
   "outputs": [],
   "source": [
    "train_data['tokenized'] = train_data['제목'].apply(t.morphs)\n",
    "train_data['tokenized'] = train_data['tokenized'].apply(lambda x: [item for item in x if item not in stopwords])"
   ]
  },
  {
   "cell_type": "code",
   "execution_count": null,
   "metadata": {},
   "outputs": [],
   "source": [
    "test_data['tokenized'] = test_data['제목'].apply(t.morphs)\n",
    "test_data['tokenized'] = test_data['tokenized'].apply(lambda x: [item for item in x if item not in stopwords])"
   ]
  },
  {
   "cell_type": "code",
   "execution_count": null,
   "metadata": {},
   "outputs": [],
   "source": [
    "import numpy as np\n",
    "\n",
    "neutral_words = np.hstack(train_data[train_data.label == 0]['tokenized'].values)\n",
    "negative_words = np.hstack(train_data[train_data.label == -1]['tokenized'].values)\n",
    "positive_words = np.hstack(train_data[train_data.label == 1]['tokenized'].values)"
   ]
  },
  {
   "cell_type": "code",
   "execution_count": null,
   "metadata": {},
   "outputs": [],
   "source": [
    "from collections import Counter\n",
    "\n",
    "neutral_word_count = Counter(positive_words)\n",
    "print(neutral_word_count.most_common(20))"
   ]
  },
  {
   "cell_type": "code",
   "execution_count": null,
   "metadata": {},
   "outputs": [],
   "source": [
    "negative_word_count = Counter(negative_words)\n",
    "print(negative_word_count.most_common(20))"
   ]
  },
  {
   "cell_type": "code",
   "execution_count": null,
   "metadata": {},
   "outputs": [],
   "source": [
    "positive_word_count = Counter(positive_words)\n",
    "print(positive_word_count.most_common(20))"
   ]
  },
  {
   "cell_type": "code",
   "execution_count": null,
   "metadata": {},
   "outputs": [],
   "source": [
    "from wordcloud import WordCloud\n",
    "\n",
    "wc = WordCloud(font_path='C:/Windows/Fonts/malgun.ttf', width=400, height=400, scale=2.0, max_font_size=250)\n",
    "gen = wc.generate_from_frequencies(neutral_word_count)\n",
    "plt.figure()\n",
    "plt.imshow(gen)"
   ]
  },
  {
   "cell_type": "code",
   "execution_count": null,
   "metadata": {},
   "outputs": [],
   "source": [
    "wc = WordCloud(font_path='C:/Windows/Fonts/malgun.ttf', width=400, height=400, scale=2.0, max_font_size=250)\n",
    "gen = wc.generate_from_frequencies(negative_word_count)\n",
    "plt.figure()\n",
    "plt.imshow(gen)"
   ]
  },
  {
   "cell_type": "code",
   "execution_count": null,
   "metadata": {},
   "outputs": [],
   "source": [
    "wc = WordCloud(font_path='C:/Windows/Fonts/malgun.ttf', width=400, height=400, scale=2.0, max_font_size=250)\n",
    "gen = wc.generate_from_frequencies(positive_word_count)\n",
    "plt.figure()\n",
    "plt.imshow(gen)"
   ]
  },
  {
   "cell_type": "code",
   "execution_count": null,
   "metadata": {},
   "outputs": [],
   "source": [
    "fig,(ax1,ax2) = plt.subplots(1,2,figsize=(10,5))\n",
    "text_len = train_data[train_data['label']==0]['tokenized'].map(lambda x: len(x))\n",
    "ax1.hist(text_len, color='purple')\n",
    "ax1.set_title('Neutral titles')\n",
    "ax1.set_xlabel('length of samples')\n",
    "ax1.set_ylabel('number of samples')\n",
    "print('중립 제목의 평균 길이 :', np.mean(text_len))\n",
    "\n",
    "text_len = train_data[train_data['label']==-1]['tokenized'].map(lambda x: len(x))\n",
    "ax2.hist(text_len, color='blue')\n",
    "ax2.set_title('Negative titles')\n",
    "fig.suptitle('Words in texts')\n",
    "ax2.set_xlabel('length of samples')\n",
    "ax2.set_ylabel('number of samples')\n",
    "print('부정 제목의 평균 길이 :', np.mean(text_len))\n",
    "\n",
    "\n",
    "fig,(ax1,ax2) = plt.subplots(1,2,figsize=(10,5))\n",
    "text_len = train_data[train_data['label']==1]['tokenized'].map(lambda x: len(x))\n",
    "ax1.hist(text_len, color='red')\n",
    "ax1.set_title('Positive titles')\n",
    "ax1.set_xlabel('length of samples')\n",
    "ax1.set_ylabel('number of samples')\n",
    "print('긍정 제목의 평균 길이 :', np.mean(text_len))"
   ]
  },
  {
   "cell_type": "code",
   "execution_count": null,
   "metadata": {},
   "outputs": [],
   "source": [
    "X_train = train_data['tokenized'].values\n",
    "y_train = train_data['label'].values\n",
    "X_test= test_data['tokenized'].values\n",
    "y_test = test_data['label'].values"
   ]
  },
  {
   "cell_type": "code",
   "execution_count": null,
   "metadata": {},
   "outputs": [],
   "source": [
    "from tensorflow.keras.preprocessing.text import Tokenizer\n",
    "\n",
    "tokenizer = Tokenizer()\n",
    "tokenizer.fit_on_texts(X_train)"
   ]
  },
  {
   "cell_type": "code",
   "execution_count": null,
   "metadata": {},
   "outputs": [],
   "source": [
    "threshold = 2\n",
    "total_cnt = len(tokenizer.word_index) # 단어의 수\n",
    "rare_cnt = 0 # 등장 빈도수가 threshold보다 작은 단어의 개수를 카운트\n",
    "total_freq = 0 # 훈련 데이터의 전체 단어 빈도수 총 합\n",
    "rare_freq = 0 # 등장 빈도수가 threshold보다 작은 단어의 등장 빈도수의 총 합\n",
    "\n",
    "# 단어와 빈도수의 쌍(pair)을 key와 value로 받는다.\n",
    "for key, value in tokenizer.word_counts.items():\n",
    "    total_freq = total_freq + value\n",
    "\n",
    "    # 단어의 등장 빈도수가 threshold보다 작으면\n",
    "    if(value < threshold):\n",
    "        rare_cnt = rare_cnt + 1\n",
    "        rare_freq = rare_freq + value\n",
    "\n",
    "print('단어 집합(vocabulary)의 크기 :',total_cnt)\n",
    "print('등장 빈도가 %s번 이하인 희귀 단어의 수: %s'%(threshold - 1, rare_cnt))\n",
    "print(\"단어 집합에서 희귀 단어의 비율:\", (rare_cnt / total_cnt)*100)\n",
    "print(\"전체 등장 빈도에서 희귀 단어 등장 빈도 비율:\", (rare_freq / total_freq)*100)"
   ]
  },
  {
   "cell_type": "code",
   "execution_count": null,
   "metadata": {},
   "outputs": [],
   "source": [
    "vocab_size = total_cnt - rare_cnt + 2\n",
    "vocab_size"
   ]
  },
  {
   "cell_type": "code",
   "execution_count": null,
   "metadata": {},
   "outputs": [],
   "source": [
    "tokenizer = Tokenizer(vocab_size, oov_token='OOV')\n",
    "tokenizer.fit_on_texts(X_train)\n",
    "X_train = tokenizer.texts_to_sequences(X_train)\n",
    "X_test = tokenizer.texts_to_sequences(X_test)"
   ]
  },
  {
   "cell_type": "code",
   "execution_count": null,
   "metadata": {},
   "outputs": [],
   "source": [
    "print('제목의 최대 길이 :',max(len(review) for review in X_train))\n",
    "print('제목의 평균 길이 :',sum(map(len, X_train))/len(X_train))\n",
    "plt.hist([len(review) for review in X_train], bins=50)\n",
    "plt.xlabel('length of samples')\n",
    "plt.ylabel('number of samples')\n",
    "plt.show()"
   ]
  },
  {
   "cell_type": "code",
   "execution_count": null,
   "metadata": {},
   "outputs": [],
   "source": [
    "def below_threshold_len(max_len, nested_list):\n",
    "  count = 0\n",
    "  for sentence in nested_list:\n",
    "    if(len(sentence) <= max_len):\n",
    "        count = count + 1\n",
    "  print('전체 샘플 중 길이가 %s 이하인 샘플의 비율: %s'%(max_len, (count / len(nested_list))*100))"
   ]
  },
  {
   "cell_type": "code",
   "execution_count": null,
   "metadata": {},
   "outputs": [],
   "source": [
    "max_len = 80\n",
    "below_threshold_len(max_len, X_train)"
   ]
  },
  {
   "cell_type": "code",
   "execution_count": null,
   "metadata": {},
   "outputs": [],
   "source": [
    "from tensorflow.keras.preprocessing.sequence import pad_sequences\n",
    "\n",
    "X_train = pad_sequences(X_train, maxlen=max_len)\n",
    "X_test = pad_sequences(X_test, maxlen=max_len)"
   ]
  },
  {
   "cell_type": "code",
   "execution_count": null,
   "metadata": {},
   "outputs": [],
   "source": [
    "from tensorflow.keras.models import Sequential\n",
    "from tensorflow.keras.layers import Embedding, Dense, GRU\n",
    "from tensorflow.keras.callbacks import EarlyStopping, ModelCheckpoint\n",
    "\n",
    "embedding_dim = 100\n",
    "hidden_units = 128\n",
    "\n",
    "model = Sequential()\n",
    "model.add(Embedding(vocab_size, embedding_dim))\n",
    "model.add(GRU(hidden_units))\n",
    "model.add(Dense(1, activation='sigmoid'))\n",
    "\n",
    "es = EarlyStopping(monitor='val_loss', mode='min', verbose=1, patience=4)\n",
    "mc = ModelCheckpoint('best_model.h5', monitor='val_acc', mode='max', verbose=1, save_best_only=True)\n",
    "\n",
    "model.compile(optimizer='rmsprop', loss='binary_crossentropy', metrics=['acc'])\n",
    "history = model.fit(X_train, y_train, epochs=15, callbacks=[es, mc], batch_size=64, validation_split=0.2)"
   ]
  },
  {
   "cell_type": "code",
   "execution_count": null,
   "metadata": {},
   "outputs": [],
   "source": [
    "from tensorflow.keras.models import load_model\n",
    "\n",
    "loaded_model = load_model('best_model.h5')\n",
    "print(\"\\n 테스트 정확도: %.4f\" % (loaded_model.evaluate(X_test, y_test)[1]))"
   ]
  },
  {
   "cell_type": "code",
   "execution_count": null,
   "metadata": {},
   "outputs": [],
   "source": [
    "loaded_model = load_model('best_model.h5')\n",
    "print(\"\\n 테스트 정확도: %.4f\" % (loaded_model.evaluate(X_test, y_test)[1]))"
   ]
  },
  {
   "cell_type": "code",
   "execution_count": null,
   "metadata": {},
   "outputs": [],
   "source": [
    "def sentiment_predict(new_sentence):\n",
    "    new_sentence = re.sub(r'[^ㄱ-ㅎㅏ-ㅣ가-힣 ]','', new_sentence)\n",
    "    new_sentence = t.morphs(new_sentence)\n",
    "    new_sentence = [word for word in new_sentence if not word in stopwords]\n",
    "    encoded = tokenizer.texts_to_sequences([new_sentence])\n",
    "    pad_new = pad_sequences(encoded, maxlen = max_len)\n",
    "    \n",
    "    score = float(loaded_model.predict(pad_new))\n",
    "    if (score = 0):\n",
    "        print(\"{:.2f}% 확률로 중립 제목입니다.\".format(score * 100))\n",
    "    elif (score = -1):\n",
    "        print(\"{:.2f}% 확률로 부정 제목입니다.\".format((1 - score) * 100))\n",
    "    else:\n",
    "        print(\"{:.2f}% 확률로 부정 제목입니다.\".format((1 - score) * 100))"
   ]
  },
  {
   "cell_type": "code",
   "execution_count": null,
   "metadata": {},
   "outputs": [],
   "source": []
  }
 ],
 "metadata": {
  "interpreter": {
   "hash": "263930470851f494f0ed2879c35b57985588df20f9e529b86e97dd5eb9ddc466"
  },
  "kernelspec": {
   "display_name": "Python 3.9.12 ('base')",
   "language": "python",
   "name": "python3"
  },
  "language_info": {
   "codemirror_mode": {
    "name": "ipython",
    "version": 3
   },
   "file_extension": ".py",
   "mimetype": "text/x-python",
   "name": "python",
   "nbconvert_exporter": "python",
   "pygments_lexer": "ipython3",
   "version": "3.9.12"
  },
  "orig_nbformat": 4
 },
 "nbformat": 4,
 "nbformat_minor": 2
}
