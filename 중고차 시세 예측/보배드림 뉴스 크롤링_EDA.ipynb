{
 "cells": [
  {
   "cell_type": "code",
   "execution_count": 2,
   "metadata": {},
   "outputs": [],
   "source": [
    "import pandas as pd"
   ]
  },
  {
   "cell_type": "code",
   "execution_count": 3,
   "metadata": {},
   "outputs": [
    {
     "data": {
      "text/html": [
       "<div>\n",
       "<style scoped>\n",
       "    .dataframe tbody tr th:only-of-type {\n",
       "        vertical-align: middle;\n",
       "    }\n",
       "\n",
       "    .dataframe tbody tr th {\n",
       "        vertical-align: top;\n",
       "    }\n",
       "\n",
       "    .dataframe thead th {\n",
       "        text-align: right;\n",
       "    }\n",
       "</style>\n",
       "<table border=\"1\" class=\"dataframe\">\n",
       "  <thead>\n",
       "    <tr style=\"text-align: right;\">\n",
       "      <th></th>\n",
       "      <th>제목</th>\n",
       "      <th>내용</th>\n",
       "      <th>날짜</th>\n",
       "      <th>추천수</th>\n",
       "      <th>조회수</th>\n",
       "    </tr>\n",
       "  </thead>\n",
       "  <tbody>\n",
       "    <tr>\n",
       "      <th>0</th>\n",
       "      <td>법원 \"교통사고 가해측 보험사는 피해차 가치 하락도 배상해야\"</td>\n",
       "      <td>NaN</td>\n",
       "      <td>05/03</td>\n",
       "      <td>5.0</td>\n",
       "      <td>692.0</td>\n",
       "    </tr>\n",
       "    <tr>\n",
       "      <th>1</th>\n",
       "      <td>에디슨EV \"채권자가 법원에 파산 신청…채권액 36억원\"</td>\n",
       "      <td>NaN</td>\n",
       "      <td>05/06</td>\n",
       "      <td>3.0</td>\n",
       "      <td>1266.0</td>\n",
       "    </tr>\n",
       "    <tr>\n",
       "      <th>2</th>\n",
       "      <td>기아, 신형 니로 EV 사전계약 실시…1회 충전에 401㎞ 주..</td>\n",
       "      <td>NaN</td>\n",
       "      <td>05/03</td>\n",
       "      <td>2.0</td>\n",
       "      <td>1452.0</td>\n",
       "    </tr>\n",
       "    <tr>\n",
       "      <th>3</th>\n",
       "      <td>현대차, 3년 만에 유관중으로 `현대 N 페스티벌` 개최</td>\n",
       "      <td>NaN</td>\n",
       "      <td>05/03</td>\n",
       "      <td>1.0</td>\n",
       "      <td>260.0</td>\n",
       "    </tr>\n",
       "    <tr>\n",
       "      <th>4</th>\n",
       "      <td>호세 무뇨스 현대차 사장 이사회 합류…글로벌시장 챙긴다</td>\n",
       "      <td>NaN</td>\n",
       "      <td>05/04</td>\n",
       "      <td>1.0</td>\n",
       "      <td>274.0</td>\n",
       "    </tr>\n",
       "  </tbody>\n",
       "</table>\n",
       "</div>"
      ],
      "text/plain": [
       "                                     제목   내용     날짜  추천수     조회수\n",
       "0    법원 \"교통사고 가해측 보험사는 피해차 가치 하락도 배상해야\"  NaN  05/03  5.0   692.0\n",
       "1       에디슨EV \"채권자가 법원에 파산 신청…채권액 36억원\"  NaN  05/06  3.0  1266.0\n",
       "2  기아, 신형 니로 EV 사전계약 실시…1회 충전에 401㎞ 주..  NaN  05/03  2.0  1452.0\n",
       "3       현대차, 3년 만에 유관중으로 `현대 N 페스티벌` 개최  NaN  05/03  1.0   260.0\n",
       "4        호세 무뇨스 현대차 사장 이사회 합류…글로벌시장 챙긴다  NaN  05/04  1.0   274.0"
      ]
     },
     "execution_count": 3,
     "metadata": {},
     "output_type": "execute_result"
    }
   ],
   "source": [
    "df = pd.read_csv('보배드림 뉴스 크롤링.csv', encoding='cp949')\n",
    "df.head()"
   ]
  },
  {
   "cell_type": "code",
   "execution_count": 4,
   "metadata": {},
   "outputs": [
    {
     "data": {
      "text/plain": [
       "Text(0, 0.5, '빈도 수')"
      ]
     },
     "execution_count": 4,
     "metadata": {},
     "output_type": "execute_result"
    },
    {
     "data": {
      "image/png": "[encoded data removed]",
      "text/plain": [
       "<Figure size 432x288 with 1 Axes>"
      ]
     },
     "metadata": {
      "needs_background": "light"
     },
     "output_type": "display_data"
    }
   ],
   "source": [
    "ax = df['제목'].str.len().hist()\n",
    "ax.set_xlabel('글자 수')\n",
    "ax.set_ylabel('빈도 수')"
   ]
  },
  {
   "cell_type": "code",
   "execution_count": 5,
   "metadata": {},
   "outputs": [
    {
     "ename": "SyntaxError",
     "evalue": "unexpected character after line continuation character (2242465191.py, line 2)",
     "output_type": "error",
     "traceback": [
      "\u001b[1;36m  Input \u001b[1;32mIn [5]\u001b[1;36m\u001b[0m\n\u001b[1;33m    ax = df['title'].str.split().\\\u001b[0m\n\u001b[1;37m                                  ^\u001b[0m\n\u001b[1;31mSyntaxError\u001b[0m\u001b[1;31m:\u001b[0m unexpected character after line continuation character\n"
     ]
    }
   ],
   "source": [
    "#토큰별 길이 평균 \n",
    "ax = df['title'].str.split().\\ \n",
    "    apply(lambda x : [len(i) for i in x]). \\ \n",
    "    map(lambda x: np.mean(x)).hist() \n",
    "ax.set_xlabel('토큰 길이 평균') \n",
    "ax.set_ylabel('빈도 수')"
   ]
  }
 ],
 "metadata": {
  "interpreter": {
   "hash": "263930470851f494f0ed2879c35b57985588df20f9e529b86e97dd5eb9ddc466"
  },
  "kernelspec": {
   "display_name": "Python 3.9.12 ('base')",
   "language": "python",
   "name": "python3"
  },
  "language_info": {
   "codemirror_mode": {
    "name": "ipython",
    "version": 3
   },
   "file_extension": ".py",
   "mimetype": "text/x-python",
   "name": "python",
   "nbconvert_exporter": "python",
   "pygments_lexer": "ipython3",
   "version": "3.9.12"
  },
  "orig_nbformat": 4
 },
 "nbformat": 4,
 "nbformat_minor": 2
}
