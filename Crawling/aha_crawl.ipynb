{
 "cells": [
  {
   "cell_type": "code",
   "execution_count": 9,
   "metadata": {},
   "outputs": [],
   "source": [
    "import pandas as pd\n",
    "from tqdm import tqdm\n",
    "from selenium import webdriver\n",
    "from selenium.webdriver.chrome.service import Service\n",
    "from selenium.webdriver.chrome.options import Options\n",
    "from selenium.webdriver.support.ui import WebDriverWait\n",
    "from selenium.webdriver.support import expected_conditions as EC\n",
    "from selenium.webdriver.common.by import By\n",
    "from bs4 import BeautifulSoup"
   ]
  },
  {
   "cell_type": "code",
   "execution_count": 8,
   "metadata": {},
   "outputs": [
    {
     "name": "stdout",
     "output_type": "stream",
     "text": [
      "<selenium.webdriver.remote.webelement.WebElement (session=\"1ff95bd5e4b54317e5d2276406340871\", element=\"CDD056D14BA9190AE92F0B2EC976DF4B_element_84\")>\n",
      "본문: 빠른 치료를 위해서 동물병원을 찾아가도 강아지와 고양이만 가능하다고 하는데.. 왜 동물병원은 이름은 동물병원이면서 강아지나 고양이만 보는곳이 많은가요? 또.. 인근에 특수동물을  진료하는 과는 어디인지 확인할수 있는 방법이있을까요?어미새가 아기새를 물어서 다쳐서 얇은 다리가 너무 심하게 피가 나는데 간단한 지열은 하였으나 걱정이됩니다. 더구나 제가 키우는 중에 소낭쪽에 화상을 입은듯한곳도있어요..\n",
      "답변: No answer available.\n",
      "-----------------------------------\n",
      "<selenium.webdriver.remote.webelement.WebElement (session=\"1ff95bd5e4b54317e5d2276406340871\", element=\"CDD056D14BA9190AE92F0B2EC976DF4B_element_85\")>\n"
     ]
    },
    {
     "ename": "StaleElementReferenceException",
     "evalue": "Message: stale element reference: stale element not found\n  (Session info: chrome=114.0.5735.199); For documentation on this error, please visit: https://www.selenium.dev/documentation/webdriver/troubleshooting/errors#stale-element-reference-exception\nStacktrace:\nBacktrace:\n\tGetHandleVerifier [0x0033A813+48355]\n\t(No symbol) [0x002CC4B1]\n\t(No symbol) [0x001D5358]\n\t(No symbol) [0x001DE5A3]\n\t(No symbol) [0x001D8A78]\n\t(No symbol) [0x001D8A56]\n\t(No symbol) [0x001D7C03]\n\t(No symbol) [0x001DA19B]\n\t(No symbol) [0x0022D279]\n\t(No symbol) [0x0021A73C]\n\t(No symbol) [0x0022C922]\n\t(No symbol) [0x0021A536]\n\t(No symbol) [0x001F82DC]\n\t(No symbol) [0x001F93DD]\n\tGetHandleVerifier [0x0059AABD+2539405]\n\tGetHandleVerifier [0x005DA78F+2800735]\n\tGetHandleVerifier [0x005D456C+2775612]\n\tGetHandleVerifier [0x003C51E0+616112]\n\t(No symbol) [0x002D5F8C]\n\t(No symbol) [0x002D2328]\n\t(No symbol) [0x002D240B]\n\t(No symbol) [0x002C4FF7]\n\tBaseThreadInitThunk [0x76B27D59+25]\n\tRtlInitializeExceptionChain [0x7709B79B+107]\n\tRtlClearBits [0x7709B71F+191]\n",
     "output_type": "error",
     "traceback": [
      "\u001b[1;31m---------------------------------------------------------------------------\u001b[0m",
      "\u001b[1;31mStaleElementReferenceException\u001b[0m            Traceback (most recent call last)",
      "Cell \u001b[1;32mIn[8], line 35\u001b[0m\n\u001b[0;32m     32\u001b[0m \u001b[39mprint\u001b[39m(link)\n\u001b[0;32m     34\u001b[0m \u001b[39m# 글로 이동\u001b[39;00m\n\u001b[1;32m---> 35\u001b[0m driver\u001b[39m.\u001b[39mget(link\u001b[39m.\u001b[39;49mget_attribute(\u001b[39m'\u001b[39;49m\u001b[39mhref\u001b[39;49m\u001b[39m'\u001b[39;49m))\n\u001b[0;32m     37\u001b[0m \u001b[39m# 페이지 소스코드 가져오기\u001b[39;00m\n\u001b[0;32m     38\u001b[0m html \u001b[39m=\u001b[39m driver\u001b[39m.\u001b[39mpage_source\n",
      "File \u001b[1;32mc:\\Users\\lbw\\anaconda3\\envs\\Crawling\\lib\\site-packages\\selenium\\webdriver\\remote\\webelement.py:178\u001b[0m, in \u001b[0;36mWebElement.get_attribute\u001b[1;34m(self, name)\u001b[0m\n\u001b[0;32m    176\u001b[0m \u001b[39mif\u001b[39;00m getAttribute_js \u001b[39mis\u001b[39;00m \u001b[39mNone\u001b[39;00m:\n\u001b[0;32m    177\u001b[0m     _load_js()\n\u001b[1;32m--> 178\u001b[0m attribute_value \u001b[39m=\u001b[39m \u001b[39mself\u001b[39;49m\u001b[39m.\u001b[39;49mparent\u001b[39m.\u001b[39;49mexecute_script(\n\u001b[0;32m    179\u001b[0m     \u001b[39mf\u001b[39;49m\u001b[39m\"\u001b[39;49m\u001b[39m/* getAttribute */return (\u001b[39;49m\u001b[39m{\u001b[39;49;00mgetAttribute_js\u001b[39m}\u001b[39;49;00m\u001b[39m).apply(null, arguments);\u001b[39;49m\u001b[39m\"\u001b[39;49m, \u001b[39mself\u001b[39;49m, name\n\u001b[0;32m    180\u001b[0m )\n\u001b[0;32m    181\u001b[0m \u001b[39mreturn\u001b[39;00m attribute_value\n",
      "File \u001b[1;32mc:\\Users\\lbw\\anaconda3\\envs\\Crawling\\lib\\site-packages\\selenium\\webdriver\\remote\\webdriver.py:406\u001b[0m, in \u001b[0;36mWebDriver.execute_script\u001b[1;34m(self, script, *args)\u001b[0m\n\u001b[0;32m    403\u001b[0m converted_args \u001b[39m=\u001b[39m \u001b[39mlist\u001b[39m(args)\n\u001b[0;32m    404\u001b[0m command \u001b[39m=\u001b[39m Command\u001b[39m.\u001b[39mW3C_EXECUTE_SCRIPT\n\u001b[1;32m--> 406\u001b[0m \u001b[39mreturn\u001b[39;00m \u001b[39mself\u001b[39;49m\u001b[39m.\u001b[39;49mexecute(command, {\u001b[39m\"\u001b[39;49m\u001b[39mscript\u001b[39;49m\u001b[39m\"\u001b[39;49m: script, \u001b[39m\"\u001b[39;49m\u001b[39margs\u001b[39;49m\u001b[39m\"\u001b[39;49m: converted_args})[\u001b[39m\"\u001b[39m\u001b[39mvalue\u001b[39m\u001b[39m\"\u001b[39m]\n",
      "File \u001b[1;32mc:\\Users\\lbw\\anaconda3\\envs\\Crawling\\lib\\site-packages\\selenium\\webdriver\\remote\\webdriver.py:346\u001b[0m, in \u001b[0;36mWebDriver.execute\u001b[1;34m(self, driver_command, params)\u001b[0m\n\u001b[0;32m    344\u001b[0m response \u001b[39m=\u001b[39m \u001b[39mself\u001b[39m\u001b[39m.\u001b[39mcommand_executor\u001b[39m.\u001b[39mexecute(driver_command, params)\n\u001b[0;32m    345\u001b[0m \u001b[39mif\u001b[39;00m response:\n\u001b[1;32m--> 346\u001b[0m     \u001b[39mself\u001b[39;49m\u001b[39m.\u001b[39;49merror_handler\u001b[39m.\u001b[39;49mcheck_response(response)\n\u001b[0;32m    347\u001b[0m     response[\u001b[39m\"\u001b[39m\u001b[39mvalue\u001b[39m\u001b[39m\"\u001b[39m] \u001b[39m=\u001b[39m \u001b[39mself\u001b[39m\u001b[39m.\u001b[39m_unwrap_value(response\u001b[39m.\u001b[39mget(\u001b[39m\"\u001b[39m\u001b[39mvalue\u001b[39m\u001b[39m\"\u001b[39m, \u001b[39mNone\u001b[39;00m))\n\u001b[0;32m    348\u001b[0m     \u001b[39mreturn\u001b[39;00m response\n",
      "File \u001b[1;32mc:\\Users\\lbw\\anaconda3\\envs\\Crawling\\lib\\site-packages\\selenium\\webdriver\\remote\\errorhandler.py:245\u001b[0m, in \u001b[0;36mErrorHandler.check_response\u001b[1;34m(self, response)\u001b[0m\n\u001b[0;32m    243\u001b[0m         alert_text \u001b[39m=\u001b[39m value[\u001b[39m\"\u001b[39m\u001b[39malert\u001b[39m\u001b[39m\"\u001b[39m]\u001b[39m.\u001b[39mget(\u001b[39m\"\u001b[39m\u001b[39mtext\u001b[39m\u001b[39m\"\u001b[39m)\n\u001b[0;32m    244\u001b[0m     \u001b[39mraise\u001b[39;00m exception_class(message, screen, stacktrace, alert_text)  \u001b[39m# type: ignore[call-arg]  # mypy is not smart enough here\u001b[39;00m\n\u001b[1;32m--> 245\u001b[0m \u001b[39mraise\u001b[39;00m exception_class(message, screen, stacktrace)\n",
      "\u001b[1;31mStaleElementReferenceException\u001b[0m: Message: stale element reference: stale element not found\n  (Session info: chrome=114.0.5735.199); For documentation on this error, please visit: https://www.selenium.dev/documentation/webdriver/troubleshooting/errors#stale-element-reference-exception\nStacktrace:\nBacktrace:\n\tGetHandleVerifier [0x0033A813+48355]\n\t(No symbol) [0x002CC4B1]\n\t(No symbol) [0x001D5358]\n\t(No symbol) [0x001DE5A3]\n\t(No symbol) [0x001D8A78]\n\t(No symbol) [0x001D8A56]\n\t(No symbol) [0x001D7C03]\n\t(No symbol) [0x001DA19B]\n\t(No symbol) [0x0022D279]\n\t(No symbol) [0x0021A73C]\n\t(No symbol) [0x0022C922]\n\t(No symbol) [0x0021A536]\n\t(No symbol) [0x001F82DC]\n\t(No symbol) [0x001F93DD]\n\tGetHandleVerifier [0x0059AABD+2539405]\n\tGetHandleVerifier [0x005DA78F+2800735]\n\tGetHandleVerifier [0x005D456C+2775612]\n\tGetHandleVerifier [0x003C51E0+616112]\n\t(No symbol) [0x002D5F8C]\n\t(No symbol) [0x002D2328]\n\t(No symbol) [0x002D240B]\n\t(No symbol) [0x002C4FF7]\n\tBaseThreadInitThunk [0x76B27D59+25]\n\tRtlInitializeExceptionChain [0x7709B79B+107]\n\tRtlClearBits [0x7709B71F+191]\n"
     ]
    }
   ],
   "source": [
    "# 본문과 답변을 담을 리스트\n",
    "main_text_list = []\n",
    "answer_list = []\n",
    "\n",
    "# Chrome 드라이버 경로 지정\n",
    "driver_path = 'Crawling\\chromedriver.exe'\n",
    "\n",
    "# 크롬 옵션 설정\n",
    "chrome_options = Options()\n",
    "# chrome_options.add_argument(\"--headless\")\n",
    "\n",
    "# Chrome 드라이버 초기화\n",
    "driver = webdriver.Chrome(service=Service(driver_path), options=chrome_options)\n",
    "\n",
    "# 웹 페이지 접속\n",
    "driver.get(f\"https://www.a-ha.io/questions/categories/68?page={1747}&status=published&order=recent\")\n",
    "\n",
    "# 팝업이 나타날 때까지 대기\n",
    "WebDriverWait(driver, 10).until(\n",
    "    EC.presence_of_element_located((By.CSS_SELECTOR, \".modalAppInstallSMS__button-wrapper-2 > button\"))\n",
    ")\n",
    "\n",
    "# 팝업 닫기\n",
    "driver.find_element(By.CSS_SELECTOR, \".modalAppInstallSMS__button-wrapper-2 > button\").click()\n",
    "\n",
    "\n",
    "# 글 목록 가져오기\n",
    "post_links = driver.find_elements(By.CSS_SELECTOR, '.questionCardInCategory a')\n",
    "\n",
    "# 각 글에 접근하여 본문과 답변 가져오기\n",
    "for link in post_links:\n",
    "    print(link)\n",
    "    \n",
    "    # 글로 이동\n",
    "    driver.get(link.get_attribute('href'))\n",
    "\n",
    "    # 페이지 소스코드 가져오기\n",
    "    html = driver.page_source\n",
    "    soup = BeautifulSoup(html, 'html.parser')\n",
    "\n",
    "    # 본문 가져오기\n",
    "    main_text = soup.select(\"#__layout article div.editor__content\")[0].text.strip()\n",
    "    \n",
    "    # 답변 가져오기 (답변이 없을 경우를 위해 예외 처리)\n",
    "    try:\n",
    "        answer = soup.select(r\"#\\34 abdd68abcca86be818cfebe3ad2cfb4 > div > div > div.editor__content\")[0].text.strip().replace('\\n', '')\n",
    "    except IndexError:\n",
    "        answer = \"No answer available.\"\n",
    "\n",
    "    # 본문과 답변 출력 또는 저장 등의 작업을 수행\n",
    "    print(\"본문:\", main_text)\n",
    "    print(\"답변:\", answer)\n",
    "    print(\"-----------------------------------\")\n",
    "\n",
    "# 드라이버 종료\n",
    "driver.quit()"
   ]
  },
  {
   "cell_type": "code",
   "execution_count": 8,
   "metadata": {},
   "outputs": [
    {
     "name": "stdout",
     "output_type": "stream",
     "text": [
      "오류가 발생했습니다: Message: unknown error: Chrome failed to start: was killed.\n",
      "  (unknown error: DevToolsActivePort file doesn't exist)\n",
      "  (The process started from chrome location C:\\Program Files\\Google\\Chrome\\Application\\chrome.exe is no longer running, so ChromeDriver is assuming that Chrome has crashed.)\n",
      "Stacktrace:\n",
      "Backtrace:\n",
      "\tGetHandleVerifier [0x0066A813+48355]\n",
      "\t(No symbol) [0x005FC4B1]\n",
      "\t(No symbol) [0x00505358]\n",
      "\t(No symbol) [0x00523621]\n",
      "\t(No symbol) [0x00520579]\n",
      "\t(No symbol) [0x00550C55]\n",
      "\t(No symbol) [0x0055093C]\n",
      "\t(No symbol) [0x0054A536]\n",
      "\t(No symbol) [0x005282DC]\n",
      "\t(No symbol) [0x005293DD]\n",
      "\tGetHandleVerifier [0x008CAABD+2539405]\n",
      "\tGetHandleVerifier [0x0090A78F+2800735]\n",
      "\tGetHandleVerifier [0x0090456C+2775612]\n",
      "\tGetHandleVerifier [0x006F51E0+616112]\n",
      "\t(No symbol) [0x00605F8C]\n",
      "\t(No symbol) [0x00602328]\n",
      "\t(No symbol) [0x0060240B]\n",
      "\t(No symbol) [0x005F4FF7]\n",
      "\tBaseThreadInitThunk [0x76B27D59+25]\n",
      "\tRtlInitializeExceptionChain [0x7709B79B+107]\n",
      "\tRtlClearBits [0x7709B71F+191]\n",
      "\n"
     ]
    }
   ],
   "source": [
    "# Chrome 드라이버 경로 지정\n",
    "driver_path = 'Crawling\\chromedriver.exe'\n",
    "\n",
    "# 크롬 옵션 설정\n",
    "chrome_options = Options()\n",
    "chrome_options.add_argument(\"--headless\")\n",
    "\n",
    "# 결과를 저장할 리스트 생성\n",
    "main_test_list = []\n",
    "comments_list = []\n",
    "\n",
    "try:\n",
    "    # Chrome 드라이버 초기화\n",
    "    driver = webdriver.Chrome(service=Service(driver_path), options=chrome_options)\n",
    "\n",
    "    for i in tqdm(range(1746, 1646, -1)):\n",
    "        # 웹 페이지 접속\n",
    "        driver.get(f\"https://www.a-ha.io/questions/categories/68?page={i}&status=published&order=recent\")\n",
    "        \n",
    "        # 페이지 소스코드 가져오기\n",
    "        html = driver.page_source\n",
    "\n",
    "        # BeautifulSoup 객체 생성\n",
    "        soup = BeautifulSoup(html, 'html.parser')\n",
    "        \n",
    "        main_text = soup.select(\"#__layout > div > div.base > div.page-container.-pt.page > section > div > main > div > div.md\\:tw-w-3\\/4.md\\:tw-pr-4 > section:nth-child(1) > article > div > div > div.editor__content\")\n",
    "        main_text = ''.join([elem.text.replace('\\n', '') for elem in main_text])  # '\\n'을 빈 문자열로 대체\n",
    "        \n",
    "        main_test_list.append(main_text)\n",
    "\n",
    "        # 댓글 텍스트를 저장할 리스트\n",
    "        comments = []\n",
    "\n",
    "        # 댓글이 위치한 부모 요소 선택\n",
    "        parent_selector = '.comment_content__Fhvi7'\n",
    "\n",
    "        # 부모 요소에서 모든 스팬 요소 선택 및 댓글 추출\n",
    "        for parent_element in soup.select(parent_selector):\n",
    "            # 두 번째 스팬 요소의 텍스트 가져오기\n",
    "            comment_text = parent_element.select_one('span:nth-child(2)').text.strip().replace('\\n', '')\n",
    "            comments.append(comment_text)\n",
    "            \n",
    "        comments_list.append(comments)\n",
    "        \n",
    "except Exception as e:\n",
    "    print(f\"오류가 발생했습니다: {e}\")\n",
    "    pass\n",
    "\n",
    "# 드라이버 종료\n",
    "driver.quit()"
   ]
  },
  {
   "cell_type": "code",
   "execution_count": null,
   "metadata": {},
   "outputs": [],
   "source": [
    "main_test_list[:10]"
   ]
  },
  {
   "cell_type": "code",
   "execution_count": null,
   "metadata": {},
   "outputs": [],
   "source": [
    "comments_list[:10]"
   ]
  },
  {
   "cell_type": "code",
   "execution_count": null,
   "metadata": {},
   "outputs": [],
   "source": [
    "# 데이터프레임 생성\n",
    "df = pd.DataFrame({'main_text': main_test_list, 'comments': comments_list})\n",
    "\n",
    "df.head()"
   ]
  },
  {
   "cell_type": "code",
   "execution_count": null,
   "metadata": {},
   "outputs": [],
   "source": [
    "# 엑셀 파일로 저장\n",
    "df.to_csv('aha.csv', index=False)"
   ]
  }
 ],
 "metadata": {
  "kernelspec": {
   "display_name": "Crawling",
   "language": "python",
   "name": "python3"
  },
  "language_info": {
   "codemirror_mode": {
    "name": "ipython",
    "version": 3
   },
   "file_extension": ".py",
   "mimetype": "text/x-python",
   "name": "python",
   "nbconvert_exporter": "python",
   "pygments_lexer": "ipython3",
   "version": "3.10.12"
  },
  "orig_nbformat": 4
 },
 "nbformat": 4,
 "nbformat_minor": 2
}
