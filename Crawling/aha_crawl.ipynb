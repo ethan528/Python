{
 "cells": [
  {
   "cell_type": "code",
   "execution_count": 21,
   "metadata": {},
   "outputs": [],
   "source": [
    "import pandas as pd\n",
    "from tqdm import tqdm\n",
    "from selenium import webdriver\n",
    "from selenium.webdriver.chrome.service import Service\n",
    "from selenium.webdriver.chrome.options import Options\n",
    "from selenium.webdriver.support.ui import WebDriverWait\n",
    "from selenium.webdriver.support import expected_conditions as EC\n",
    "from selenium.webdriver.common.by import By\n",
    "from bs4 import BeautifulSoup"
   ]
  },
  {
   "cell_type": "code",
   "execution_count": 30,
   "metadata": {},
   "outputs": [
    {
     "name": "stdout",
     "output_type": "stream",
     "text": [
      "post_links [<selenium.webdriver.remote.webelement.WebElement (session=\"e0ca11aabde210afe962f5fe90aa842b\", element=\"93E5FF0B258B2E002A21FCDEDAC4FFB9_element_74\")>, <selenium.webdriver.remote.webelement.WebElement (session=\"e0ca11aabde210afe962f5fe90aa842b\", element=\"93E5FF0B258B2E002A21FCDEDAC4FFB9_element_75\")>, <selenium.webdriver.remote.webelement.WebElement (session=\"e0ca11aabde210afe962f5fe90aa842b\", element=\"93E5FF0B258B2E002A21FCDEDAC4FFB9_element_76\")>]\n"
     ]
    },
    {
     "ename": "InvalidArgumentException",
     "evalue": "Message: invalid argument: 'url' must be a string\n  (Session info: chrome=114.0.5735.199)\nStacktrace:\nBacktrace:\n\tGetHandleVerifier [0x0066A813+48355]\n\t(No symbol) [0x005FC4B1]\n\t(No symbol) [0x00505358]\n\t(No symbol) [0x0055CF98]\n\t(No symbol) [0x0054A73C]\n\t(No symbol) [0x0055C922]\n\t(No symbol) [0x0054A536]\n\t(No symbol) [0x005282DC]\n\t(No symbol) [0x005293DD]\n\tGetHandleVerifier [0x008CAABD+2539405]\n\tGetHandleVerifier [0x0090A78F+2800735]\n\tGetHandleVerifier [0x0090456C+2775612]\n\tGetHandleVerifier [0x006F51E0+616112]\n\t(No symbol) [0x00605F8C]\n\t(No symbol) [0x00602328]\n\t(No symbol) [0x0060240B]\n\t(No symbol) [0x005F4FF7]\n\tBaseThreadInitThunk [0x76B27D59+25]\n\tRtlInitializeExceptionChain [0x7709B79B+107]\n\tRtlClearBits [0x7709B71F+191]\n",
     "output_type": "error",
     "traceback": [
      "\u001b[1;31m---------------------------------------------------------------------------\u001b[0m",
      "\u001b[1;31mInvalidArgumentException\u001b[0m                  Traceback (most recent call last)",
      "Cell \u001b[1;32mIn[30], line 31\u001b[0m\n\u001b[0;32m     27\u001b[0m \u001b[39m# 각 글에 접근하여 본문과 답변 가져오기\u001b[39;00m\n\u001b[0;32m     28\u001b[0m \u001b[39mfor\u001b[39;00m link \u001b[39min\u001b[39;00m post_links:\n\u001b[0;32m     29\u001b[0m     \n\u001b[0;32m     30\u001b[0m     \u001b[39m# 글로 이동\u001b[39;00m\n\u001b[1;32m---> 31\u001b[0m     driver\u001b[39m.\u001b[39;49mget(link\u001b[39m.\u001b[39;49mget_attribute(\u001b[39m'\u001b[39;49m\u001b[39mhref\u001b[39;49m\u001b[39m'\u001b[39;49m))\n\u001b[0;32m     33\u001b[0m     \u001b[39m# 페이지 소스코드 가져오기\u001b[39;00m\n\u001b[0;32m     34\u001b[0m     html \u001b[39m=\u001b[39m driver\u001b[39m.\u001b[39mpage_source\n",
      "File \u001b[1;32mc:\\Users\\lbw\\anaconda3\\envs\\Crawling\\lib\\site-packages\\selenium\\webdriver\\remote\\webdriver.py:355\u001b[0m, in \u001b[0;36mWebDriver.get\u001b[1;34m(self, url)\u001b[0m\n\u001b[0;32m    353\u001b[0m \u001b[39mdef\u001b[39;00m \u001b[39mget\u001b[39m(\u001b[39mself\u001b[39m, url: \u001b[39mstr\u001b[39m) \u001b[39m-\u001b[39m\u001b[39m>\u001b[39m \u001b[39mNone\u001b[39;00m:\n\u001b[0;32m    354\u001b[0m \u001b[39m    \u001b[39m\u001b[39m\"\"\"Loads a web page in the current browser session.\"\"\"\u001b[39;00m\n\u001b[1;32m--> 355\u001b[0m     \u001b[39mself\u001b[39;49m\u001b[39m.\u001b[39;49mexecute(Command\u001b[39m.\u001b[39;49mGET, {\u001b[39m\"\u001b[39;49m\u001b[39murl\u001b[39;49m\u001b[39m\"\u001b[39;49m: url})\n",
      "File \u001b[1;32mc:\\Users\\lbw\\anaconda3\\envs\\Crawling\\lib\\site-packages\\selenium\\webdriver\\remote\\webdriver.py:346\u001b[0m, in \u001b[0;36mWebDriver.execute\u001b[1;34m(self, driver_command, params)\u001b[0m\n\u001b[0;32m    344\u001b[0m response \u001b[39m=\u001b[39m \u001b[39mself\u001b[39m\u001b[39m.\u001b[39mcommand_executor\u001b[39m.\u001b[39mexecute(driver_command, params)\n\u001b[0;32m    345\u001b[0m \u001b[39mif\u001b[39;00m response:\n\u001b[1;32m--> 346\u001b[0m     \u001b[39mself\u001b[39;49m\u001b[39m.\u001b[39;49merror_handler\u001b[39m.\u001b[39;49mcheck_response(response)\n\u001b[0;32m    347\u001b[0m     response[\u001b[39m\"\u001b[39m\u001b[39mvalue\u001b[39m\u001b[39m\"\u001b[39m] \u001b[39m=\u001b[39m \u001b[39mself\u001b[39m\u001b[39m.\u001b[39m_unwrap_value(response\u001b[39m.\u001b[39mget(\u001b[39m\"\u001b[39m\u001b[39mvalue\u001b[39m\u001b[39m\"\u001b[39m, \u001b[39mNone\u001b[39;00m))\n\u001b[0;32m    348\u001b[0m     \u001b[39mreturn\u001b[39;00m response\n",
      "File \u001b[1;32mc:\\Users\\lbw\\anaconda3\\envs\\Crawling\\lib\\site-packages\\selenium\\webdriver\\remote\\errorhandler.py:245\u001b[0m, in \u001b[0;36mErrorHandler.check_response\u001b[1;34m(self, response)\u001b[0m\n\u001b[0;32m    243\u001b[0m         alert_text \u001b[39m=\u001b[39m value[\u001b[39m\"\u001b[39m\u001b[39malert\u001b[39m\u001b[39m\"\u001b[39m]\u001b[39m.\u001b[39mget(\u001b[39m\"\u001b[39m\u001b[39mtext\u001b[39m\u001b[39m\"\u001b[39m)\n\u001b[0;32m    244\u001b[0m     \u001b[39mraise\u001b[39;00m exception_class(message, screen, stacktrace, alert_text)  \u001b[39m# type: ignore[call-arg]  # mypy is not smart enough here\u001b[39;00m\n\u001b[1;32m--> 245\u001b[0m \u001b[39mraise\u001b[39;00m exception_class(message, screen, stacktrace)\n",
      "\u001b[1;31mInvalidArgumentException\u001b[0m: Message: invalid argument: 'url' must be a string\n  (Session info: chrome=114.0.5735.199)\nStacktrace:\nBacktrace:\n\tGetHandleVerifier [0x0066A813+48355]\n\t(No symbol) [0x005FC4B1]\n\t(No symbol) [0x00505358]\n\t(No symbol) [0x0055CF98]\n\t(No symbol) [0x0054A73C]\n\t(No symbol) [0x0055C922]\n\t(No symbol) [0x0054A536]\n\t(No symbol) [0x005282DC]\n\t(No symbol) [0x005293DD]\n\tGetHandleVerifier [0x008CAABD+2539405]\n\tGetHandleVerifier [0x0090A78F+2800735]\n\tGetHandleVerifier [0x0090456C+2775612]\n\tGetHandleVerifier [0x006F51E0+616112]\n\t(No symbol) [0x00605F8C]\n\t(No symbol) [0x00602328]\n\t(No symbol) [0x0060240B]\n\t(No symbol) [0x005F4FF7]\n\tBaseThreadInitThunk [0x76B27D59+25]\n\tRtlInitializeExceptionChain [0x7709B79B+107]\n\tRtlClearBits [0x7709B71F+191]\n"
     ]
    }
   ],
   "source": [
    "# Chrome 드라이버 경로 지정\n",
    "driver_path = 'Crawling\\chromedriver.exe'\n",
    "\n",
    "# 크롬 옵션 설정\n",
    "chrome_options = Options()\n",
    "# chrome_options.add_argument(\"--headless\")\n",
    "\n",
    "# Chrome 드라이버 초기화\n",
    "driver = webdriver.Chrome(service=Service(driver_path), options=chrome_options)\n",
    "\n",
    "# 웹 페이지 접속\n",
    "driver.get(f\"https://www.a-ha.io/questions/categories/68?page={1747}&status=published&order=recent\")\n",
    "\n",
    "# 팝업이 나타날 때까지 대기\n",
    "WebDriverWait(driver, 10).until(\n",
    "    EC.presence_of_element_located((By.CSS_SELECTOR, \".modalAppInstallSMS__button-wrapper-2 > button\"))\n",
    ")\n",
    "\n",
    "# 팝업 닫기\n",
    "driver.find_element(By.CSS_SELECTOR, \".modalAppInstallSMS__button-wrapper-2 > button\").click()\n",
    "\n",
    "\n",
    "# 글 목록 가져오기\n",
    "post_links = driver.find_elements(By.CSS_SELECTOR, '.md\\:tw-w-3\\/4.md\\:tw-pr-4 > div:nth-child(2) > div')\n",
    "print('post_links', post_links)\n",
    "\n",
    "# 각 글에 접근하여 본문과 답변 가져오기\n",
    "for link in post_links:\n",
    "    \n",
    "    # 글로 이동\n",
    "    driver.get(link.get_attribute('href'))\n",
    "\n",
    "    # 페이지 소스코드 가져오기\n",
    "    html = driver.page_source\n",
    "    soup = BeautifulSoup(html, 'html.parser')\n",
    "\n",
    "    # 본문 가져오기\n",
    "    main_text = soup.select(\"#__layout article div.editor__content\")[0].text.strip()\n",
    "    \n",
    "    # 답변 가져오기 (답변이 없을 경우를 위해 예외 처리)\n",
    "    try:\n",
    "        answer = soup.select(\"#__layout article section.container > div > div.editor__content\")[0].text.strip().replace('\\n', '')\n",
    "    except IndexError:\n",
    "        answer = \"No answer available.\"\n",
    "\n",
    "    # 본문과 답변 출력 또는 저장 등의 작업을 수행\n",
    "    print(\"본문:\", main_text)\n",
    "    print(\"답변:\", answer)\n",
    "    print(\"-----------------------------------\")\n",
    "\n",
    "# 드라이버 종료\n",
    "driver.quit()"
   ]
  },
  {
   "cell_type": "code",
   "execution_count": 8,
   "metadata": {},
   "outputs": [
    {
     "name": "stdout",
     "output_type": "stream",
     "text": [
      "오류가 발생했습니다: Message: unknown error: Chrome failed to start: was killed.\n",
      "  (unknown error: DevToolsActivePort file doesn't exist)\n",
      "  (The process started from chrome location C:\\Program Files\\Google\\Chrome\\Application\\chrome.exe is no longer running, so ChromeDriver is assuming that Chrome has crashed.)\n",
      "Stacktrace:\n",
      "Backtrace:\n",
      "\tGetHandleVerifier [0x0066A813+48355]\n",
      "\t(No symbol) [0x005FC4B1]\n",
      "\t(No symbol) [0x00505358]\n",
      "\t(No symbol) [0x00523621]\n",
      "\t(No symbol) [0x00520579]\n",
      "\t(No symbol) [0x00550C55]\n",
      "\t(No symbol) [0x0055093C]\n",
      "\t(No symbol) [0x0054A536]\n",
      "\t(No symbol) [0x005282DC]\n",
      "\t(No symbol) [0x005293DD]\n",
      "\tGetHandleVerifier [0x008CAABD+2539405]\n",
      "\tGetHandleVerifier [0x0090A78F+2800735]\n",
      "\tGetHandleVerifier [0x0090456C+2775612]\n",
      "\tGetHandleVerifier [0x006F51E0+616112]\n",
      "\t(No symbol) [0x00605F8C]\n",
      "\t(No symbol) [0x00602328]\n",
      "\t(No symbol) [0x0060240B]\n",
      "\t(No symbol) [0x005F4FF7]\n",
      "\tBaseThreadInitThunk [0x76B27D59+25]\n",
      "\tRtlInitializeExceptionChain [0x7709B79B+107]\n",
      "\tRtlClearBits [0x7709B71F+191]\n",
      "\n"
     ]
    }
   ],
   "source": [
    "# Chrome 드라이버 경로 지정\n",
    "driver_path = 'Crawling\\chromedriver.exe'\n",
    "\n",
    "# 크롬 옵션 설정\n",
    "chrome_options = Options()\n",
    "chrome_options.add_argument(\"--headless\")\n",
    "\n",
    "# 결과를 저장할 리스트 생성\n",
    "main_test_list = []\n",
    "comments_list = []\n",
    "\n",
    "try:\n",
    "    # Chrome 드라이버 초기화\n",
    "    driver = webdriver.Chrome(service=Service(driver_path), options=chrome_options)\n",
    "\n",
    "    for i in tqdm(range(1746, 1646, -1)):\n",
    "        # 웹 페이지 접속\n",
    "        driver.get(f\"https://www.a-ha.io/questions/categories/68?page={i}&status=published&order=recent\")\n",
    "        \n",
    "        # 페이지 소스코드 가져오기\n",
    "        html = driver.page_source\n",
    "\n",
    "        # BeautifulSoup 객체 생성\n",
    "        soup = BeautifulSoup(html, 'html.parser')\n",
    "        \n",
    "        main_text = soup.select(\"#__layout > div > div.base > div.page-container.-pt.page > section > div > main > div > div.md\\:tw-w-3\\/4.md\\:tw-pr-4 > section:nth-child(1) > article > div > div > div.editor__content\")\n",
    "        main_text = ''.join([elem.text.replace('\\n', '') for elem in main_text])  # '\\n'을 빈 문자열로 대체\n",
    "        \n",
    "        main_test_list.append(main_text)\n",
    "\n",
    "        # 댓글 텍스트를 저장할 리스트\n",
    "        comments = []\n",
    "\n",
    "        # 댓글이 위치한 부모 요소 선택\n",
    "        parent_selector = '.comment_content__Fhvi7'\n",
    "\n",
    "        # 부모 요소에서 모든 스팬 요소 선택 및 댓글 추출\n",
    "        for parent_element in soup.select(parent_selector):\n",
    "            # 두 번째 스팬 요소의 텍스트 가져오기\n",
    "            comment_text = parent_element.select_one('span:nth-child(2)').text.strip().replace('\\n', '')\n",
    "            comments.append(comment_text)\n",
    "            \n",
    "        comments_list.append(comments)\n",
    "        \n",
    "except Exception as e:\n",
    "    print(f\"오류가 발생했습니다: {e}\")\n",
    "    pass\n",
    "\n",
    "# 드라이버 종료\n",
    "driver.quit()"
   ]
  },
  {
   "cell_type": "code",
   "execution_count": null,
   "metadata": {},
   "outputs": [],
   "source": [
    "main_test_list[:10]"
   ]
  },
  {
   "cell_type": "code",
   "execution_count": null,
   "metadata": {},
   "outputs": [],
   "source": [
    "comments_list[:10]"
   ]
  },
  {
   "cell_type": "code",
   "execution_count": null,
   "metadata": {},
   "outputs": [],
   "source": [
    "# 데이터프레임 생성\n",
    "df = pd.DataFrame({'main_text': main_test_list, 'comments': comments_list})\n",
    "\n",
    "df.head()"
   ]
  },
  {
   "cell_type": "code",
   "execution_count": null,
   "metadata": {},
   "outputs": [],
   "source": [
    "# 엑셀 파일로 저장\n",
    "df.to_csv('aha.csv', index=False)"
   ]
  }
 ],
 "metadata": {
  "kernelspec": {
   "display_name": "Crawling",
   "language": "python",
   "name": "python3"
  },
  "language_info": {
   "codemirror_mode": {
    "name": "ipython",
    "version": 3
   },
   "file_extension": ".py",
   "mimetype": "text/x-python",
   "name": "python",
   "nbconvert_exporter": "python",
   "pygments_lexer": "ipython3",
   "version": "3.10.12"
  },
  "orig_nbformat": 4
 },
 "nbformat": 4,
 "nbformat_minor": 2
}
