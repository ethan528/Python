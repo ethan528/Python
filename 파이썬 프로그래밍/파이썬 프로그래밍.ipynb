{
 "cells": [
  {
   "attachments": {},
   "cell_type": "markdown",
   "metadata": {},
   "source": [
    "# 파이썬 프로그래밍"
   ]
  },
  {
   "attachments": {},
   "cell_type": "markdown",
   "metadata": {},
   "source": [
    "# 변수의 이해\n",
    "\n",
    "## 변수와 값\n",
    "- 변수 = 값\n",
    "- 변수에 값을 넣어라\n",
    "\n",
    "## 변수와 메모리\n",
    "- 변수의 값이 저장되는 공간을 메모리, 변수의 저장 위치를 메모리 주소라고 한다\n",
    "- 변수에 들어가는 값은 반드시 어떤 특정 메모리 주소에 할당\n",
    "- 변수를 선언하여 값을 저장할 때 운영체제 os 와 파이썬 인터프리터가 서로 협력하여 선언한 변수를 메모리 공간 어딘가에 저장하면서 메모리 주소를 공유\n",
    "\n",
    "## 변수명 선언\n",
    "- 변수명은 의미 있는 이름으로 하는 것이 좋다\n",
    "- 일반적으로 파이썬의 모든 변수명은 소문자로 구성하는 것을 추천\n",
    "- 특별한 의미가 있는 예약어는 변수명으로 사용할 수 없다"
   ]
  },
  {
   "attachments": {},
   "cell_type": "markdown",
   "metadata": {},
   "source": [
    "# 자료형과 기본 연산\n",
    "\n",
    "## 기본 자료형\n",
    "- 정수형 = 자연수를 포함해 값의 영역이 정수로 한정된 값\n",
    "- 실수형 = 소수점이 포함된 값, 실제 값이 정수형이라도 9.0으로 입력하면 인터프리터는 실수형으로 해석\n",
    "- 문자형 = 값이 문자로 출력되는 자료형, 따옴표에 들어간 정보를 문자형 데이터라고 함\n",
    "- 불린형 = 논리형이라고도 하며, 참 또는 거짓을 표현할 때 사용, True=참=1, false=거짓=0\n",
    "\n",
    "## 간단한 연산\n",
    "- 더히기 = +\n",
    "- 빼기 = -\n",
    "- 곱하기 = *\n",
    "- 나누기 = /\n",
    "- 제곱승 = **\n",
    "- 몫 = //\n",
    "- 나머지 = %\n",
    "- 증가 연산 = a += 1(a = a + 1)\n",
    "- 감소 연산 = a -= 1(a = a - 1)"
   ]
  },
  {
   "attachments": {},
   "cell_type": "markdown",
   "metadata": {},
   "source": [
    "# 자료형 변환\n",
    "\n",
    "## 정수형과 실수형 간 변환\n",
    "- float(), 실수형으로 나누기\n",
    "- int(), 소수점 이하의 내림 발생\n",
    "\n",
    "## 숫자형과 문자형 간 변환\n",
    "- str(), 문자형 간 덧셈은 단순 붙이기\n",
    "\n",
    "## 자료형 확인하기\n",
    "- type()"
   ]
  },
  {
   "attachments": {},
   "cell_type": "markdown",
   "metadata": {},
   "source": [
    "# 화면 입출력\n",
    "\n",
    "입력 = input()\n",
    "\n",
    "출력 = print()"
   ]
  },
  {
   "attachments": {},
   "cell_type": "markdown",
   "metadata": {},
   "source": [
    "# Lab: 화씨온도 변환기"
   ]
  },
  {
   "cell_type": "code",
   "execution_count": 1,
   "metadata": {},
   "outputs": [
    {
     "name": "stdout",
     "output_type": "stream",
     "text": [
      "본 프로그램은 섭씨온도를 화씨온도로 변환하는 프로그램입니다.\n",
      "변환하고 싶은 서비씨온도를 입력하세요.\n",
      "섭씨온도: 35\n",
      "화씨온도: 95.0\n"
     ]
    }
   ],
   "source": [
    "print(\"본 프로그램은 섭씨온도를 화씨온도로 변환하는 프로그램입니다.\")\n",
    "print(\"변환하고 싶은 서비씨온도를 입력하세요.\")\n",
    "\n",
    "celsius = input()\n",
    "fahrenheit = (float(celsius) * 1.8) + 32\n",
    "\n",
    "print(\"섭씨온도:\", celsius)\n",
    "print(\"화씨온도:\", fahrenheit)"
   ]
  },
  {
   "attachments": {},
   "cell_type": "markdown",
   "metadata": {},
   "source": [
    "# 리스트의 이해\n",
    "\n",
    "## 리스트의 개념\n",
    "- 리스트는 하나의 변수에 여러 값을 할당하는 자료형 = 시퀀스 자료형(여러자료를 순서대로 넣는다는 뜻)\n",
    "\n",
    "## 인덱싱과 슬라이싱\n",
    "\n",
    "### 인덱싱\n",
    "- 리스트에 있는 값에 접근하기 위해, 이 값의 상대적인 주소를 사용하는 것\n",
    "- 첫 번째 값을 0으로 했을 때 이와 얼마나 덜어져 있는지를 표현한 값, 일반적으로 인덱스 주소 또는 인덱스 값이라고 함\n",
    "\n",
    "```python\n",
    "colors = ['red', 'blue', 'green']\n",
    "print(colors[0]) # red\n",
    "print(colors[1]) # green\n",
    "print(len(colors)) # 3\n",
    "```\n",
    "\n",
    "### 슬라이싱\n",
    "- 리스트의 인덱스를 사용하여 전체 리스트에서 일부를 잘라내여 반환"
   ]
  },
  {
   "cell_type": "code",
   "execution_count": 2,
   "metadata": {},
   "outputs": [
    {
     "name": "stdout",
     "output_type": "stream",
     "text": [
      "['서울', '부산', '인천', '대구', '대전', '광주']\n",
      "[]\n",
      "['서울', '부산', '인천', '대구', '대전', '광주', '울산', '수원']\n",
      "['서울', '인천', '대전', '울산']\n",
      "['수원', '울산', '광주', '대전', '대구', '인천', '부산', '서울']\n",
      "['red', 'blue', 'green', 'orange', 'black', 'white']\n",
      "['red', 'blue', 'green', 'red', 'blue', 'green']\n",
      "False\n",
      "['red', 'blue', 'green', 'white']\n",
      "['red', 'blue', 'green', 'black', 'purple']\n",
      "['orange', 'red', 'blue', 'green']\n",
      "['orange', 'blue', 'green']\n",
      "['orange', 'blue', 'green']\n",
      "['blue', 'green']\n"
     ]
    }
   ],
   "source": [
    "cities = ['서울', '부산', '인천', '대구', '대전', '광주', '울산', '수원']\n",
    "print(cities[0:6])\n",
    "\n",
    "print(cities[-8:0])\n",
    "print(cities[-50:50])\n",
    "# 범위를 넘어갈 경우 자동으로 최대 범위를 지정\n",
    "\n",
    "print(cities[::2])\n",
    "# 2칸 단위로\n",
    "print(cities[::-1])\n",
    "# 역으로 슬라이싱\n",
    "\n",
    "\n",
    "color1 = ['red', 'blue', 'green']\n",
    "color2 = ['orange', 'black', 'white']\n",
    "print(color1 + color2)\n",
    "print(color1 * 2)\n",
    "print('blue' in color2)\n",
    "\n",
    "color = ['red', 'blue', 'green']\n",
    "color.append('white')\n",
    "print(color)\n",
    "\n",
    "color = ['red', 'blue', 'green']\n",
    "color.extend(['black', 'purple']) # 리스트에 새로운 리스트 추가\n",
    "print(color)\n",
    "\n",
    "color = ['red', 'blue', 'green']\n",
    "color.insert(0, 'orange')\n",
    "print(color)\n",
    "\n",
    "color = ['orange', 'red', 'blue', 'green']\n",
    "color.remove('red')\n",
    "print(color)\n",
    "\n",
    "color = ['red', 'blue', 'green']\n",
    "color[0] = 'orange'\n",
    "print(color)\n",
    "del color[0]\n",
    "print(color)"
   ]
  },
  {
   "attachments": {},
   "cell_type": "markdown",
   "metadata": {},
   "source": [
    "## 패킹과 언패킹\n",
    "- 시퀀스 자료형에서 일반적으로 사용할 수 있는 방법"
   ]
  },
  {
   "cell_type": "code",
   "execution_count": 3,
   "metadata": {},
   "outputs": [
    {
     "name": "stdout",
     "output_type": "stream",
     "text": [
      "[1, 2, 3] 1 2 3\n"
     ]
    }
   ],
   "source": [
    "t = [1, 2, 3] # 1, 2, 3을 변수 t 에 패킹\n",
    "a, b, c = t # t 에 있는 값 1, 2, 3을 변수 a, b, c 에 언패킹\n",
    "print(t, a, b, c)"
   ]
  },
  {
   "attachments": {},
   "cell_type": "markdown",
   "metadata": {},
   "source": [
    "## 이차원 리스트\n",
    "- 행렬과 같은 개념"
   ]
  },
  {
   "cell_type": "code",
   "execution_count": 4,
   "metadata": {},
   "outputs": [
    {
     "name": "stdout",
     "output_type": "stream",
     "text": [
      "[[49, 79, 20, 100, 80], [43, 59, 85, 30, 90], [49, 79, 48, 60, 100]]\n",
      "20\n"
     ]
    }
   ],
   "source": [
    "kor_score = [49, 79, 20, 100, 80]\n",
    "math_score = [43, 59, 85, 30, 90]\n",
    "eng_score = [49, 79, 48, 60, 100]\n",
    "midterm_score = [kor_score, math_score, eng_score]\n",
    "print(midterm_score)\n",
    "print(midterm_score[0][2])"
   ]
  },
  {
   "attachments": {},
   "cell_type": "markdown",
   "metadata": {},
   "source": [
    "# 리스트의 메모리 관리 방식\n",
    "\n",
    "\n",
    "## 리스트의 메모리 저장"
   ]
  },
  {
   "cell_type": "code",
   "execution_count": 5,
   "metadata": {},
   "outputs": [
    {
     "name": "stdout",
     "output_type": "stream",
     "text": [
      "[[49, 79, 20, 100, 80], [1000, 59, 85, 30, 90], [49, 79, 48, 60, 100]]\n"
     ]
    }
   ],
   "source": [
    "kor_score = [49, 79, 20, 100, 80]\n",
    "math_score = [43, 59, 85, 30, 90]\n",
    "eng_score = [49, 79, 48, 60, 100]\n",
    "midterm_score = [kor_score, math_score, eng_score]\n",
    "math_score[0] = 1000\n",
    "print(midterm_score)"
   ]
  },
  {
   "attachments": {},
   "cell_type": "markdown",
   "metadata": {},
   "source": [
    "- 리스트 안에 값 자체를 저장하는 구조가 아니라, 값이 메모리에서 위치한 메모리의 주소값, 메모리 주소를 저장하는 것\n",
    "\n",
    "## 메모리 저장 구조로 인한 리스트의 특징\n",
    "\n",
    "### 하나의 리스트에 다양한 자료형 포함 가능"
   ]
  },
  {
   "cell_type": "code",
   "execution_count": 6,
   "metadata": {},
   "outputs": [],
   "source": [
    "a = [\"color\", 1, 0.2]"
   ]
  },
  {
   "attachments": {},
   "cell_type": "markdown",
   "metadata": {},
   "source": [
    "### 리스트의 저장 방식\n",
    "- 어떤 리스트값을 하나의 변수에 할당하는 순간, 두 변수는 같은 메모리 주소에 연결되게 된다."
   ]
  },
  {
   "attachments": {},
   "cell_type": "markdown",
   "metadata": {},
   "source": [
    "# 조건문\n",
    "\n",
    "## 조건문의 개념\n",
    "- 조건문을 구성하기 위해서는 조건을 나타내는 기준과 실행해야 할 명령이 필요\n",
    "\n",
    "## if-else 문\n",
    "- if 뒤에는 참과 거짓을 판단할 수 있는 조건문이 들어가야 하고, 조건문이 끝나면 반드시 콜론을 붙여야 한다\n",
    "- 들여쓰기를 사용하여 해당조건이 참일 경우 수행할 명령을 작성\n",
    "- if 의 조건이 거짓을 경우 else 문이 수행된다\n",
    "\n",
    "## 조건의 판단\n",
    "\n",
    "### 비교 연산자\n",
    "- <, > = ~보다 작다, ~보다 크다\n",
    "- is, is not = 메모리 주소가 같다, 다르다\n",
    "- ==, != = 값이 같다, 다르다\n",
    "- <=, >= = 작거나 같다, 크거나 같다\n",
    "\n",
    "### True 와 False 의 치환\n",
    "- 컴퓨터는 기본적으로 이진수만 처리할 수 있으며, True 는 1로, False 는 0으로 처리한다.\n",
    "\n",
    "### 논리 연산자\n",
    "- and = 두 값이 모두 참일 경우 True, 아닐 경우 False\n",
    "- or = 두 값 모두 거짓일 경우만 False\n",
    "- not = 값을 역으로 반환하여 판단\n",
    "\n",
    "### if-elif-else 문\n",
    "- 중첩 if 문을 간단히 표현할 때 사용\n",
    "- 여러 개의 조건을 검토할 수 있다"
   ]
  },
  {
   "attachments": {},
   "cell_type": "markdown",
   "metadata": {},
   "source": [
    "# Lab: 어떤 종류의 학생인지 맞히기"
   ]
  },
  {
   "cell_type": "code",
   "execution_count": 7,
   "metadata": {},
   "outputs": [
    {
     "name": "stdout",
     "output_type": "stream",
     "text": [
      "당신이 태어난 연도를 입력하세요\n",
      "대학생\n"
     ]
    }
   ],
   "source": [
    "print(\"당신이 태어난 연도를 입력하세요\")\n",
    "birth_year = input()\n",
    "age = 2020 - int(birth_year) +1\n",
    "\n",
    "if age <= 26 and age >= 20:\n",
    "    print(\"대학생\")\n",
    "elif age < 20 and age >= 17:\n",
    "    print(\"고등학생\")\n",
    "elif age < 17 and age >= 14:\n",
    "    print(\"중학생\")\n",
    "elif age < 14 and age >= 8:\n",
    "    print(\"초등학생\")\n",
    "else:\n",
    "    print(\"학생이 아닙니다\")"
   ]
  },
  {
   "attachments": {},
   "cell_type": "markdown",
   "metadata": {},
   "source": [
    "# 반복문\n",
    "\n",
    "## 반복문의 개념\n",
    "- 정해진 동작을 반복적으로 수행할 때 내리는 명령어\n",
    "\n",
    "## for 문\n",
    "- 반복 범위를 지정하여 반복을 수행\n",
    "\n",
    "## while 문\n",
    "- 어떤 조건이 만족하는 동안 명령 블록을 수행하고, 해당 조건이 거짓일 경우 더는 반복 명령문을 수행하지 않는 구문\n",
    "\n",
    "## 반복문의 제어\n",
    "\n",
    "### break 문\n",
    "- 논리적으로 반복을 종료하는 방법\n",
    "\n",
    "### continue 문\n",
    "- 특정 조건에서 남은 명령을 건너뛰고 다음 반복문을 수행\n",
    "\n",
    "### else 문\n",
    "- 어떤 조건이 완전히 끝났을 때 한 번 더 실행해 주는 역할\n",
    "- break 등으로 코드가 종료된 경우 else 문이 수행되지 않으므로, 해당 반복문이 완벽히 수행되었는지를 명시적으로 확인하기 위한 코드"
   ]
  },
  {
   "attachments": {},
   "cell_type": "markdown",
   "metadata": {},
   "source": [
    "# Lab: 구구단 계산기"
   ]
  },
  {
   "cell_type": "code",
   "execution_count": 8,
   "metadata": {},
   "outputs": [
    {
     "name": "stdout",
     "output_type": "stream",
     "text": [
      "구구단 몇 단을 계산할까?\n",
      "구구단 2 단을 계산한다\n",
      "2 x 1 = 2\n",
      "2 x 2 = 4\n",
      "2 x 3 = 6\n",
      "2 x 4 = 8\n",
      "2 x 5 = 10\n",
      "2 x 6 = 12\n",
      "2 x 7 = 14\n",
      "2 x 8 = 16\n",
      "2 x 9 = 18\n"
     ]
    }
   ],
   "source": [
    "print(\"구구단 몇 단을 계산할까?\")\n",
    "user_input = input()\n",
    "print(\"구구단\", user_input, \"단을 계산한다\")\n",
    "int_input = int(user_input)\n",
    "for i in range(1, 10):\n",
    "    result = int_input * i\n",
    "    print(user_input, \"x\", i, \"=\", result)"
   ]
  },
  {
   "attachments": {},
   "cell_type": "markdown",
   "metadata": {},
   "source": [
    "# 조건문과 반복문 실습\n",
    "\n",
    "## 문자열 역순 출력"
   ]
  },
  {
   "cell_type": "code",
   "execution_count": 14,
   "metadata": {},
   "outputs": [
    {
     "name": "stdout",
     "output_type": "stream",
     "text": [
      "uoy evol I\n"
     ]
    }
   ],
   "source": [
    "sentence = \"I love you\"\n",
    "reverse_sentence = ''\n",
    "for char in sentence:\n",
    "    reverse_sentence = char + reverse_sentence\n",
    "print(reverse_sentence)"
   ]
  },
  {
   "attachments": {},
   "cell_type": "markdown",
   "metadata": {},
   "source": [
    "## 십진수를 이진수로 변환"
   ]
  },
  {
   "cell_type": "code",
   "execution_count": 15,
   "metadata": {},
   "outputs": [
    {
     "name": "stdout",
     "output_type": "stream",
     "text": [
      "1010\n"
     ]
    }
   ],
   "source": [
    "decimal = 10\n",
    "result = ''\n",
    "while (decimal > 0):\n",
    "    remainder = decimal % 2\n",
    "    decimal = decimal //2\n",
    "    result = str(remainder) + result\n",
    "print(result)"
   ]
  },
  {
   "attachments": {},
   "cell_type": "markdown",
   "metadata": {},
   "source": [
    "# Lab: 숫자 찾기 게임"
   ]
  },
  {
   "cell_type": "code",
   "execution_count": 18,
   "metadata": {},
   "outputs": [
    {
     "name": "stdout",
     "output_type": "stream",
     "text": [
      "숫자를 맞혀 보세요. (1 ~ 100)\n",
      "숫자가 너무 작습니다.\n",
      "숫자가 너무 큽니다.\n",
      "숫자가 너무 큽니다.\n",
      "숫자가 너무 큽니다.\n",
      "숫자가 너무 큽니다.\n",
      "숫자가 너무 작습니다.\n",
      "숫자가 너무 작습니다.\n",
      "숫자가 너무 작습니다.\n",
      "숫자가 너무 작습니다.\n",
      "숫자가 너무 작습니다.\n",
      "숫자가 너무 작습니다.\n",
      "정답입니다. 입력한 숫자는 19 입니다.\n"
     ]
    }
   ],
   "source": [
    "import random # 난수 발생 함수 호출\n",
    "guess_number = random.randint(1, 100) # 1 ~ 100 사이 정수 난수 발생\n",
    "print(\"숫자를 맞혀 보세요. (1 ~ 100)\")\n",
    "users_input = int(input()) # 사용자의 입력을 받음\n",
    "while (users_input is not guess_number): # 사용자 입력과 난수가 같은지 판단\n",
    "    if users_input > guess_number: # 사용자 입력이 클 경우\n",
    "        print(\"숫자가 너무 큽니다.\")\n",
    "    else: # 사용자 입력이 작을 경우\n",
    "        print(\"숫자가 너무 작습니다.\")\n",
    "    users_input = int(input()) # 다시 사용자 입력을 받음\n",
    "else:\n",
    "    print(\"정답입니다.\", \"입력한 숫자는\", users_input, \"입니다.\") # 종료 조건"
   ]
  },
  {
   "attachments": {},
   "cell_type": "markdown",
   "metadata": {},
   "source": [
    "# Lab: 연속적인 구구단 계산기"
   ]
  },
  {
   "cell_type": "code",
   "execution_count": 19,
   "metadata": {},
   "outputs": [
    {
     "name": "stderr",
     "output_type": "stream",
     "text": [
      "<>:3: SyntaxWarning: \"is not\" with a literal. Did you mean \"!=\"?\n",
      "<>:3: SyntaxWarning: \"is not\" with a literal. Did you mean \"!=\"?\n",
      "C:\\Users\\lbw\\AppData\\Local\\Temp\\ipykernel_6140\\2222715812.py:3: SyntaxWarning: \"is not\" with a literal. Did you mean \"!=\"?\n",
      "  while (x is not 0):\n"
     ]
    },
    {
     "name": "stdout",
     "output_type": "stream",
     "text": [
      "구구단 몇 단을 계산할까요(1~9)?\n",
      "구구단 2단을 계산합니다.\n",
      "2 x 1 = 2\n",
      "2 x 2 = 4\n",
      "2 x 3 = 6\n",
      "2 x 4 = 8\n",
      "2 x 5 = 10\n",
      "2 x 6 = 12\n",
      "2 x 7 = 14\n",
      "2 x 8 = 16\n",
      "2 x 9 = 18\n",
      "구구단 몇 단을 계산할까요(1~9)?\n",
      "구구단 게임을 종료합니다.\n"
     ]
    }
   ],
   "source": [
    "print(\"구구단 몇 단을 계산할까요(1~9)?\")\n",
    "x = 1\n",
    "while (x is not 0):\n",
    "    x = int(input())\n",
    "    if x == 0: break\n",
    "    if not(1 <= x <= 9):\n",
    "        print(\"잘못 입력했습니다\", \"1부터 9 사이 숫자를 입력하세요\")\n",
    "        continue\n",
    "    else:\n",
    "        print(\"구구단 \" + str(x) + \"단을 계산합니다.\")\n",
    "        for i in range(1,10):\n",
    "            print(str(x) + \" x \" + str(i) + \" = \" + str(x*i))\n",
    "        print(\"구구단 몇 단을 계산할까요(1~9)?\")\n",
    "print(\"구구단 게임을 종료합니다.\")"
   ]
  },
  {
   "attachments": {},
   "cell_type": "markdown",
   "metadata": {},
   "source": [
    "# Lab: 평균 구하기"
   ]
  },
  {
   "cell_type": "code",
   "execution_count": 20,
   "metadata": {},
   "outputs": [
    {
     "name": "stdout",
     "output_type": "stream",
     "text": [
      "[47.0, 74.0, 51.0, 60.0, 90.0]\n"
     ]
    }
   ],
   "source": [
    "kor_score = [49, 80, 20, 100, 80]\n",
    "math_score = [43, 60, 85, 30, 90]\n",
    "eng_score = [49, 82, 48, 50, 100]\n",
    "midterm_score = [kor_score, math_score, eng_score]\n",
    "\n",
    "student_score = [0, 0, 0, 0, 0]\n",
    "i = 0\n",
    "for subject in midterm_score:\n",
    "    for score in subject:\n",
    "        student_score[i] += score # 학생마다 개별로 교과 점수를 저장\n",
    "        i += 1 # 학생 인덱스 구분\n",
    "    i = 0 # 과목이 바뀔 때 학생 인덱스 초기화\n",
    "else:\n",
    "    a, b, c, d, e = student_score # 학생별 점수를 언패킹\n",
    "    student_average = [a/3, b/3, c/3, d/3, e/3]\n",
    "    print(student_average)"
   ]
  },
  {
   "attachments": {},
   "cell_type": "markdown",
   "metadata": {},
   "source": [
    "# 코드의 오류를 처리하는 방법\n",
    "\n",
    "## 버그와 디버그\n",
    "- 오류를 버그라고 하고, 오류를 수정하는 과정을 디버그라고 한다\n",
    "- 오류를 만났을 때, 프로그램의 잘못을 찾아내고 고치는 것을 디버깅이라고 한다\n",
    "\n",
    "## 오류의 종류와 해결 방법\n",
    "\n",
    "### 문법적 오류\n",
    "- 인터프리터가 해석을 못 해 코드 자체를 실행시키지 못하는 오류\n",
    "- 대표적으로 들여쓰기 오류와 오탈자로 인한 오류가 있다\n",
    "\n",
    "### 논리적 오류\n",
    "- 코드를 제대로 작성했다고 생각했음에도, 원하는 결과가 나오지 않는 경우에 논리적 오류가 발생했을 가능성이 크다\n",
    "- 확인이 필요한 변수들에 print() 함수를 사용해 값을 확인"
   ]
  },
  {
   "attachments": {},
   "cell_type": "markdown",
   "metadata": {},
   "source": [
    "# 함수 기초\n",
    "\n",
    "## 함수의 개념과 장점\n",
    "- 어떤 일을 수행하는 코드의 덩어리, 또는 코드의 묶음\n",
    "- 필요할 때마다 호출 가능\n",
    "- 논리적인 단위로 분할 가능\n",
    "- 코드의 캡슐화\n",
    "\n",
    "## 함수의 선언"
   ]
  },
  {
   "cell_type": "code",
   "execution_count": 22,
   "metadata": {},
   "outputs": [],
   "source": [
    "# def 함수 이름 (매개변수 #1 ...):\n",
    "#     수행문 1\n",
    "#     수행문 2\n",
    "#     return <반환값>"
   ]
  },
  {
   "attachments": {},
   "cell_type": "markdown",
   "metadata": {},
   "source": [
    "## 함수의 실행 순서"
   ]
  },
  {
   "cell_type": "code",
   "execution_count": 24,
   "metadata": {},
   "outputs": [],
   "source": [
    "# def 함수 이름 (매개변수1, 매개변수2):\n",
    "#     return 매개변수1 * 매개변수2\n",
    "\n",
    "# print(함수 이름(값1, 값2))\n",
    "# 함수 호출 후 값1과 값2가 매개변수1과 매개변수2에 할당됨\n",
    "# 매개변수1과 매개변수2 변수에 할당된 값이 함수 이름에 입력되 함수 코드에 의해 반환값 매개변수1 * 매개변수2가 반환됨"
   ]
  },
  {
   "attachments": {},
   "cell_type": "markdown",
   "metadata": {},
   "source": [
    "## 함수의 형태\n",
    "- 반환값 없음, 매개변수 없음 = 함수 안 수행문만 수행\n",
    "- 반환값 없음, 매개변수 있음 = 매개변수를 사용하여 수행문만 수행\n",
    "- 반환값 있음, 매개변수 없음 = 매개변수 없이 수행문을 수행한 후, 결과값 반환\n",
    "- 반환값 있음, 매개변수 있음 = 매개변수를 사용하여 수행문을 수행한 후, 결과값 반환"
   ]
  },
  {
   "attachments": {},
   "cell_type": "markdown",
   "metadata": {},
   "source": [
    "# 함수 심화\n",
    "\n",
    "## 함수의 호출 방식\n",
    "- 값에 의한 호출 = 인수를 넘길 때 값만 넘김\n",
    "- 참조 호출 = 인수를 넘길 때 메모리 주소를 넘김\n",
    "- 객체 호출 = 새로운 값을 할당하기 전까지는 기존에 넘어온 인수 객체의 주소값을 사용\n",
    "\n",
    "## 변수의 사용 범위\n",
    "- 지역 변수 = 함수 안에서만 사용\n",
    "- 전역 변수 = 프로그램 전체에서 사용\n",
    "\n",
    "## 재귀 함수\n",
    "- 자기 자신을 다시 부르는 함수\n",
    "\n",
    "# 함수의 인수\n",
    "\n",
    "## 키워드 인수\n",
    "- 함수에 입력되는 매개변수의 변수명을 사용하여 함수의 인수를 지정하는 방법"
   ]
  },
  {
   "cell_type": "code",
   "execution_count": 25,
   "metadata": {},
   "outputs": [],
   "source": [
    "# def 함수 이름(매개변수1, 매개변수2):\n",
    "#     수행문1\n",
    "#     return 반환값\n",
    "\n",
    "# 함수 이름(매개변수2 = 값2, 매개변수1 = 값1)"
   ]
  },
  {
   "attachments": {},
   "cell_type": "markdown",
   "metadata": {},
   "source": [
    "## 디폴트 인수\n",
    "- 매개변수에 기본값을 지정하여 사용하고, 아무런 값도 인수로 넘기지 않으면 지정된 기본값을 사용하는 방식"
   ]
  },
  {
   "cell_type": "code",
   "execution_count": 26,
   "metadata": {},
   "outputs": [],
   "source": [
    "# def 함수 이름(매개변수1, 매개변수2 = 기본값2):\n",
    "#     수행문1\n",
    "#     return 반환값\n",
    "\n",
    "# 함수 이름(값1)"
   ]
  },
  {
   "attachments": {},
   "cell_type": "markdown",
   "metadata": {},
   "source": [
    "## 가변 인수\n",
    "- 매개변수 개수가 정해지지 않고 진행해야 하는 경우\n",
    "- 일반적인 키워드 인수가 끝난 후에 넣어야 한다\n",
    "- 튜플 형태로 함수 안에서 인덱스를 사용해 변수에 접근 가능"
   ]
  },
  {
   "cell_type": "code",
   "execution_count": 28,
   "metadata": {},
   "outputs": [],
   "source": [
    "# def 함수 이름(매개변수1, *args):\n",
    "#     return 매개변수1 + sum(*args)\n",
    "\n",
    "# print(함수 이름(값1, 값2, 값3, 값4))\n",
    "# 값1 + sum(값2, 값3, 값4)"
   ]
  },
  {
   "attachments": {},
   "cell_type": "markdown",
   "metadata": {},
   "source": [
    "## 키워드 가변 인수\n",
    "- 매개변수의 이름을 따로 지정하지 않고 입력하는 방법"
   ]
  },
  {
   "cell_type": "code",
   "execution_count": 27,
   "metadata": {},
   "outputs": [],
   "source": [
    "# def 함수 이름(**kwargs):\n",
    "#     print(kwargs)\n",
    "#     print(\"{first}\".format(**kwargs))\n",
    "#     print(\"{second}\".format(**kwargs))\n",
    "#     print(\"{third}\".format(**kwargs))\n",
    "\n",
    "# 함수 이름(first = 3, second = 4, third = 5)\n",
    "# {'first':3, 'second':4, 'third':5}\n",
    "# 3\n",
    "# 4\n",
    "# 5"
   ]
  },
  {
   "attachments": {},
   "cell_type": "markdown",
   "metadata": {},
   "source": [
    "# 좋은 코드를 작성하는 방법\n",
    "\n",
    "## 좋은 코드의 의미\n",
    "- 많은 사람이 쉽게 읽을 수 있도록 가독성이 좋게 작성\n",
    "\n",
    "## 코딩 규칙\n",
    "- 들여쓰기는 4 스페이스\n",
    "- 한 줄은 최대 79자까지\n",
    "- 불필요한 공백은 피함\n",
    "- 중요한 것은 일관성\n",
    "- = 연산자는 1칸이상 띄우지 않는다\n",
    "- 주석은 항상 갱신하고, 불필요한 주석은 삭제\n",
    "- 소분자 l, 대문자 O, 대문자 I는 사용을 금한다\n",
    "- 함수명은 소문자로 구성하고, 필요하면 밑줄로 나눈다\n",
    "\n",
    "## 함수 개발 가이드라인\n",
    "\n",
    "### 함수 이름\n",
    "- 함수는 가능한 짧게 작성\n",
    "- 함수 이름에 함수의 역할과 의도를 명확히 드러낼 것\n",
    "\n",
    "### 함수의 역할\n",
    "- 한 가지 역할을 명확히 해야 한다\n",
    "\n",
    "### 함수를 만드는 경우\n",
    "- 공통으로 사용되는 코드를 함수로 변환\n",
    "- 복잡한 로직이 사용되었을 때, 식별 가능한 이름의 함수로 변환"
   ]
  },
  {
   "attachments": {},
   "cell_type": "markdown",
   "metadata": {},
   "source": [
    "# 문자열의 이해\n",
    "\n",
    "## 문자열의 개념\n",
    "- 문자열은 시퀀스 자료형\n",
    "- 시퀀스 자료형 = 리스트와 같이 데이터를 순차적으로 메모리에 저장하는 형식의 데이터\n",
    "\n",
    "## 문자열과 메모리 공간"
   ]
  },
  {
   "cell_type": "code",
   "execution_count": 29,
   "metadata": {},
   "outputs": [
    {
     "name": "stdout",
     "output_type": "stream",
     "text": [
      "80\n"
     ]
    }
   ],
   "source": [
    "import sys\n",
    "print(sys.getsizeof(\"문자열\"))\n",
    "# 문자열의 메모리 크기 출력"
   ]
  },
  {
   "attachments": {},
   "cell_type": "markdown",
   "metadata": {},
   "source": [
    "- 문자를 이진수로 변환하여 메모리에 저장\n",
    "- 문자를 처리하기 위해 이진수로 변환되는 표준 규칙을 만들었다\n",
    "- 이러한 규칙을 인코딩이라고 한다\n",
    "- 이러한 규칙을 이용하여 숫자와 문자를 맵핑하는 것이 바로 운영체제와 인터프리터의 역할 중 하나\n",
    "\n",
    "## 문자열의 인덱싱\n",
    "- 리스트처럼 글자 하나하나가 상대적인 주소를 가지는데 이 주소를 사용해 할당된 값을 가져오는 인덱싱을 사용할 수 있다\n",
    "\n",
    "## 문자열의 슬라이싱\n",
    "- 문자열의 주소값을 기반으로 문자열의 부분값을 반환하는 기법\n",
    "\n",
    "## 문자열의 연산\n",
    "- 모든 변수가 문자열일 경우 덧셈은 텍스트 붙이기를 실행\n",
    "- 곱하기로 반복 연산\n",
    "- in 연산으로 특정 문자가 특정 변수에 들어가 있는지 확인\n",
    "\n",
    "## 문자열함수\n",
    "- 문자열 함수를 사용하는 방법 = 문자열.문자열 함수"
   ]
  },
  {
   "attachments": {},
   "cell_type": "markdown",
   "metadata": {},
   "source": [
    "# Lab: 단어 카운팅"
   ]
  },
  {
   "cell_type": "code",
   "execution_count": 31,
   "metadata": {},
   "outputs": [
    {
     "name": "stdout",
     "output_type": "stream",
     "text": [
      "Number of a Word 'Yesterday' 9\n"
     ]
    }
   ],
   "source": [
    "f = open(\"yesterday.txt\", 'r')\n",
    "yesterday_lyric = f.readlines()\n",
    "f.close()\n",
    "\n",
    "contents = \"\"\n",
    "for line in yesterday_lyric:\n",
    "    contents = contents + line.strip() + \"\\n\"\n",
    "\n",
    "n_of_yesterday  = contents.upper().count(\"YESTERDAY\")\n",
    "print(\"Number of a Word 'Yesterday'\", n_of_yesterday)"
   ]
  },
  {
   "attachments": {},
   "cell_type": "markdown",
   "metadata": {},
   "source": [
    "# 문자열 서식 지정\n",
    "\n",
    "## 서식 지정의 개념\n",
    "- 통화 단위, 세 자리 숫자 단위 띄어쓰기, % 출력 등 다양한 형식에 맞춰 출력할 일이 생기는데, 이를 서식 지정이라고 한다\n",
    "\n",
    "## % 서식과 format() 함수\n",
    "\n",
    "### % 서식\n",
    "- '%자료형 % (값)'"
   ]
  },
  {
   "cell_type": "code",
   "execution_count": 32,
   "metadata": {},
   "outputs": [
    {
     "name": "stdout",
     "output_type": "stream",
     "text": [
      "I eat 3 apples.\n",
      "I eat five apples.\n",
      "Product: Apple, Price per unit: 5.243000.\n",
      "I ate 3 apples. I was sick for three days.\n"
     ]
    }
   ],
   "source": [
    "print(\"I eat %d apples.\" % 3)\n",
    "print(\"I eat %s apples.\" % \"five\")\n",
    "\n",
    "print(\"Product: %s, Price per unit: %f.\" % (\"Apple\", 5.243))\n",
    "\n",
    "number = 3\n",
    "day = \"three\"\n",
    "print(\"I ate %d apples. I was sick for %s days.\" % (number, day))"
   ]
  },
  {
   "attachments": {},
   "cell_type": "markdown",
   "metadata": {},
   "source": [
    "### format() 함수\n",
    "- % 서식과 거의 같지만, 문자열 형태가 있는 함수를 사용한다는 차이점이 있다\n",
    "- 문자열 서식은 함수이므로 다음과 같은 형태로 서식을 지정할 수 있다\n",
    "- \"{자료형}\".format(인수)"
   ]
  },
  {
   "cell_type": "code",
   "execution_count": 33,
   "metadata": {},
   "outputs": [
    {
     "name": "stdout",
     "output_type": "stream",
     "text": [
      "I'm 40 years old.\n",
      "My name is Sungchul Choi and 40 years old.\n",
      "Product: apple, Price per unit: 5.24.\n"
     ]
    }
   ],
   "source": [
    "age = 40; name = 'Sungchul Choi'\n",
    "print(\"I'm {0} years old.\".format(age))\n",
    "print(\"My name is {0} and {1} years old.\".format(name, age))\n",
    "print(\"Product: {0}, Price per unit: {1:.2f}.\".format(\"apple\", 5.243))"
   ]
  },
  {
   "attachments": {},
   "cell_type": "markdown",
   "metadata": {},
   "source": [
    "## 패딩\n",
    "\n",
    "### % 서식의 패딩"
   ]
  },
  {
   "cell_type": "code",
   "execution_count": 34,
   "metadata": {},
   "outputs": [
    {
     "name": "stdout",
     "output_type": "stream",
     "text": [
      "        12\n",
      "12        \n",
      "     5.943\n",
      "      5.94\n",
      "5.94      \n"
     ]
    }
   ],
   "source": [
    "print(\"%10d\" % 12)\n",
    "print(\"%-10d\" % 12)\n",
    "\n",
    "print(\"%10.3f\" % 5.94343)\n",
    "print(\"%10.2f\" % 5.94343)\n",
    "print(\"%-10.2f\" % 5.94343)"
   ]
  },
  {
   "attachments": {},
   "cell_type": "markdown",
   "metadata": {},
   "source": [
    "### format() 함수의 패딩"
   ]
  },
  {
   "cell_type": "code",
   "execution_count": 36,
   "metadata": {},
   "outputs": [
    {
     "name": "stdout",
     "output_type": "stream",
     "text": [
      "     Apple\n",
      "Apple     \n",
      "   5.24300.\n",
      "   5.24300.\n",
      "5.24300   .\n"
     ]
    }
   ],
   "source": [
    "print(\"{0:>10s}\".format(\"Apple\"))\n",
    "print(\"{0:<10s}\".format(\"Apple\"))\n",
    "\n",
    "print(\"{1:10.5f}.\".format(\"Apple\", 5.243))\n",
    "print(\"{1:>10.5f}.\".format(\"Apple\", 5.243))\n",
    "print(\"{1:<10.5f}.\".format(\"Apple\", 5.243))"
   ]
  },
  {
   "attachments": {},
   "cell_type": "markdown",
   "metadata": {},
   "source": [
    "# 자료구조의 이해\n",
    "\n",
    "## 자료구조의 개념\n",
    "- 데이터의 특징을 고려하여 데이터를 저장하는 방법을 자료구조라고 한다\n",
    "- 특징이 있는 정보를 메모리에 효율적으로 저장 및 반환하는 방법으로, 데이터를 관리하는 방식\n",
    "- 대용량일수록 메모리에 빨리 저장하고 빠르게 검색하여, 메모리를 효율적으로 사용하고 실행 시간을 줄일 수 있게 해 준다\n",
    "\n",
    "## 파이썬에서의 자료구조\n",
    "- 스택 = last in first out\n",
    "- 큐 = first in first out\n",
    "- 튜플 = 리스트와 같지만, 데이터의 변경을 허용 안 함\n",
    "- 세트 = 데이터 중복을 허용하지 않고, 수학의 집한 연산을 지원\n",
    "- 딕셔너리 = 키와 값 형태의 데이터를 저장, 키값은 다른 데이터와 중복을 허용 안 함\n",
    "- collections 모듈 = 위에 열거된 여러 자료구조를 효율적으로 사용할 수 있도록 지원하는 파이썬 내장 모듈"
   ]
  },
  {
   "attachments": {},
   "cell_type": "markdown",
   "metadata": {},
   "source": [
    "# 스택과 큐\n",
    "\n",
    "## 스택\n",
    "- 마지막에 들어간 데이터가 가장 먼저 나오는 형태로, 데이터의 저장 공간을 구현\n",
    "- 데이터 저장 = 푸시\n",
    "- 데이터 추출 = 팝\n",
    "\n",
    "## 큐\n",
    "- 스택은 메모리가 시작하는 지점이 고정되어 있지만, 큐는 처음 값이 저장되는 메모리 주소가 값이 사용됨에 따라 계속 바뀌게 되어 구현에 좀 더 신경을 써야 한다, 파이썬에서는 스스로 구현됨"
   ]
  },
  {
   "attachments": {},
   "cell_type": "markdown",
   "metadata": {},
   "source": [
    "# 튜플과 세트\n",
    "\n",
    "## 튜플\n",
    "- 값을 변경하는 것이 불가능한 리스트\n",
    "- 리스트형 데이터에 사용하는 함수 모두 사용 가능\n",
    "\n",
    "## 세트\n",
    "- 값을 순서 없이 저장하면서 중복을 불허하는 자료형\n",
    "- 수학의 집합과 개념적으로 비슷\n",
    "- 삭제나 변경 가능\n",
    "- add() = 원소 하나 추가\n",
    "- remove(), discard() = 원소 하나 삭제\n",
    "- update() = 새로운 리스트를 그대로 추가\n",
    "- clear() = 모든 변수 삭제\n",
    "- s1.union(s2), s1|s2 = 합집합\n",
    "- s1.intersection(s2), s1&s2 = 교집합\n",
    "- s1.difference(se), s1-s2 = 차집합"
   ]
  },
  {
   "attachments": {},
   "cell_type": "markdown",
   "metadata": {},
   "source": [
    "# 딕셔너리\n",
    "\n",
    "## 딕셔너리의 개념\n",
    "- 데이터의 유일한 구분자를 키라는 이름으로 검색할 수 있게 하고, 실제 데이터를 값이라는 이름으로 쌍으로 저장하여 프로그래머가 데이터를 쉽게 찾을 수 있는 체계\n",
    "\n",
    "## 파이썬에서의 딕셔너리\n",
    "- 다양한 자료형이 들어갈 수 있다\n",
    "- 할당 시 사용되는 키가 기존에 있던 값이라면 값이 변경되고, 기존에 없던 값이면 새로운 값이 할당된다\n",
    "\n",
    "## 딕셔너리의 함수\n",
    "- keys() = 키만 출력\n",
    "- values() = 값만 출력\n",
    "- items() = 키-값 쌍 출력"
   ]
  },
  {
   "attachments": {},
   "cell_type": "markdown",
   "metadata": {},
   "source": [
    "# collections 모듈\n",
    "\n",
    "## deque 모듈"
   ]
  },
  {
   "cell_type": "code",
   "execution_count": 37,
   "metadata": {},
   "outputs": [
    {
     "name": "stdout",
     "output_type": "stream",
     "text": [
      "deque([0, 1, 2, 3, 4])\n",
      "4\n",
      "deque([0, 1, 2, 3])\n",
      "None\n",
      "deque([1, 0, 3, 2])\n",
      "deque([2, 3, 0, 1, 4, 5, 6])\n",
      "deque([9, 8, 7, 2, 3, 0, 1, 4, 5, 6])\n"
     ]
    }
   ],
   "source": [
    "from collections import deque\n",
    "\n",
    "deque_list = deque()\n",
    "for i in range(5):\n",
    "    deque_list.append(i)\n",
    "\n",
    "print(deque_list)\n",
    "\n",
    "print(deque_list.pop())\n",
    "print(deque_list)\n",
    "\n",
    "print(deque_list.rotate(2))\n",
    "\n",
    "print(deque(reversed(deque_list)))\n",
    "\n",
    "deque_list.extend([4, 5, 6])\n",
    "print(deque_list)\n",
    "deque_list.extendleft([7, 8, 9])\n",
    "print(deque_list)"
   ]
  },
  {
   "attachments": {},
   "cell_type": "markdown",
   "metadata": {},
   "source": [
    "## OrderedDict 모듈"
   ]
  },
  {
   "cell_type": "code",
   "execution_count": 39,
   "metadata": {},
   "outputs": [
    {
     "name": "stdout",
     "output_type": "stream",
     "text": [
      "x 100\n",
      "y 200\n",
      "z 300\n",
      "l 500\n",
      "l 500\n",
      "x 100\n",
      "y 200\n",
      "z 300\n"
     ]
    }
   ],
   "source": [
    "from collections import OrderedDict\n",
    "\n",
    "d = OrderedDict()\n",
    "d['x'] = 100\n",
    "d['y'] = 200\n",
    "d['z'] = 300\n",
    "d['l'] = 500\n",
    "\n",
    "for k, v in d.items():\n",
    "    print(k, v)\n",
    "\n",
    "def sort_by_key(t):\n",
    "    return t[0]\n",
    "\n",
    "for k, v in OrderedDict(sorted(d.items(), key = sort_by_key)).items():\n",
    "    print(k, v)"
   ]
  },
  {
   "attachments": {},
   "cell_type": "markdown",
   "metadata": {},
   "source": [
    "## defaultdict 모듈"
   ]
  },
  {
   "cell_type": "code",
   "execution_count": 40,
   "metadata": {},
   "outputs": [
    {
     "name": "stdout",
     "output_type": "stream",
     "text": [
      "0\n",
      "dict_items([('yellow', [1, 3]), ('blue', [2, 4]), ('red', [1])])\n"
     ]
    }
   ],
   "source": [
    "from collections import defaultdict\n",
    "\n",
    "d = defaultdict(lambda: 0)\n",
    "print(d[\"first\"])\n",
    "\n",
    "s = [('yellow', 1), ('blue', 2), ('yellow', 3), ('blue', 4), ('red', 1)]\n",
    "d = defaultdict(list)\n",
    "\n",
    "for k, v in s:\n",
    "    d[k].append(v)\n",
    "\n",
    "print(d.items())"
   ]
  },
  {
   "attachments": {},
   "cell_type": "markdown",
   "metadata": {},
   "source": [
    "## Counter 모듈"
   ]
  },
  {
   "cell_type": "code",
   "execution_count": 41,
   "metadata": {},
   "outputs": [
    {
     "name": "stdout",
     "output_type": "stream",
     "text": [
      "Counter({'a': 3, 'l': 2, 'g': 1, 'h': 1, 'd': 1})\n",
      "3\n",
      "<itertools.chain object at 0x0000021371E70D00>\n",
      "['cats', 'cats', 'cats', 'cats', 'dogs', 'dogs', 'dogs', 'dogs', 'dogs', 'dogs', 'dogs', 'dogs']\n",
      "None\n",
      "Counter({'a': 4, 'b': 2})\n",
      "Counter({'a': 1})\n",
      "Counter({'d': 4, 'a': 3, 'c': 3, 'b': 2})\n"
     ]
    }
   ],
   "source": [
    "from collections import Counter\n",
    "\n",
    "text = list(\"gallahad\")\n",
    "c = Counter(text)\n",
    "print(c)\n",
    "print(c[\"a\"])\n",
    "\n",
    "c = Counter({'red':4, 'blue':2})\n",
    "print(c.elements())\n",
    "\n",
    "c = Counter(cats = 4, dogs = 8)\n",
    "print(list(c.elements()))\n",
    "\n",
    "c = Counter(a = 4, b = 2, c = 0, d = -2)\n",
    "d = Counter(a = 1, b = 2, c = 3, d = 4)\n",
    "print(c.subtract(d)) # c - d\n",
    "\n",
    "print(c + d)\n",
    "print(c & d)\n",
    "print(c | d)"
   ]
  },
  {
   "attachments": {},
   "cell_type": "markdown",
   "metadata": {},
   "source": [
    "## namedtuple 모듈"
   ]
  },
  {
   "cell_type": "code",
   "execution_count": 42,
   "metadata": {},
   "outputs": [
    {
     "name": "stdout",
     "output_type": "stream",
     "text": [
      "Point(x=11, y=22)\n",
      "11 22\n",
      "33\n"
     ]
    }
   ],
   "source": [
    "from collections import namedtuple\n",
    "\n",
    "Point = namedtuple('Point', ['x', 'y'])\n",
    "p = Point(11, y=22)\n",
    "print(p)\n",
    "print(p.x, p.y)\n",
    "print(p[0] + p[1])"
   ]
  },
  {
   "attachments": {},
   "cell_type": "markdown",
   "metadata": {},
   "source": [
    "# Lab: 텍스트 마이닝 프로그램"
   ]
  },
  {
   "cell_type": "code",
   "execution_count": 45,
   "metadata": {},
   "outputs": [
    {
     "name": "stdout",
     "output_type": "stream",
     "text": [
      "and 3\n",
      "to 3\n",
      "a 2\n",
      "press 2\n",
      "can 2\n",
      "you 2\n",
      "lelease 1\n",
      "is 1\n",
      "the 1\n",
      "quickest 1\n",
      "easiest 1\n",
      "way 1\n",
      "get 1\n",
      "free 1\n",
      "publicity. 1\n",
      "if 1\n",
      "well 1\n",
      "written, 1\n",
      "release 1\n",
      "result 1\n",
      "in 1\n",
      "multiple 1\n",
      "published 1\n",
      "articles 1\n",
      "about 1\n",
      "your 1\n",
      "firm 1\n",
      "its 1\n",
      "products. 1\n",
      "that 1\n",
      "mean 1\n",
      "new 1\n",
      "prospects 1\n",
      "contaacting 1\n",
      "asking 1\n",
      "sell 1\n",
      "them. 1\n"
     ]
    }
   ],
   "source": [
    "text = \"\"\"A press lelease is the quickest and easiest way to get free publicity. If well written, a press release can result in multiple published articles about your firm and its products. And that can mean new prospects contaacting you asking you to sell to them.\"\"\".lower().split()\n",
    "\n",
    "from collections import defaultdict\n",
    "\n",
    "word_count = defaultdict(lambda: 0)\n",
    "for word in text:\n",
    "    word_count[word] += 1\n",
    "\n",
    "from collections import OrderedDict\n",
    "for i, v in OrderedDict(sorted(word_count.items(), key = lambda t: t[1], reverse=True)).items():\n",
    "    print(i, v)"
   ]
  },
  {
   "attachments": {},
   "cell_type": "markdown",
   "metadata": {},
   "source": [
    "# 파이썬 스타일 코드의 이해\n",
    "\n",
    "## 파이썬 스타일 코드의 개념"
   ]
  },
  {
   "cell_type": "code",
   "execution_count": 46,
   "metadata": {},
   "outputs": [
    {
     "name": "stdout",
     "output_type": "stream",
     "text": [
      "redbluegreenyellow\n",
      "redbluegreenyellow\n"
     ]
    }
   ],
   "source": [
    "colors = ['red', 'blue', 'green', 'yellow']\n",
    "result = ''\n",
    "for s in colors:\n",
    "    result += s\n",
    "print(result)\n",
    "\n",
    "result = ''.join(colors)\n",
    "print(result)"
   ]
  },
  {
   "attachments": {},
   "cell_type": "markdown",
   "metadata": {},
   "source": [
    "## 파이썬 스타일 코드를 사용하는 이유\n",
    "- split(), join(), list comprehension, enumerate(), zip()같은 기본적인 개념부터 map()과 reduce()처럼 상위 개념까지 포함\n",
    "- 다른 사람이 작성한 코드를 이해할 때 용이"
   ]
  },
  {
   "attachments": {},
   "cell_type": "markdown",
   "metadata": {},
   "source": [
    "# 문자열의 분리 및 결합\n",
    "\n",
    "## 문자열의 분리: split() 함수"
   ]
  },
  {
   "cell_type": "code",
   "execution_count": 47,
   "metadata": {},
   "outputs": [
    {
     "name": "stdout",
     "output_type": "stream",
     "text": [
      "['zero', 'one', 'two', 'three']\n"
     ]
    }
   ],
   "source": [
    "items = 'zero one two three'.split()\n",
    "print(items)"
   ]
  },
  {
   "attachments": {},
   "cell_type": "markdown",
   "metadata": {},
   "source": [
    "## 문자열의 결함: join() 함수"
   ]
  },
  {
   "cell_type": "code",
   "execution_count": 48,
   "metadata": {},
   "outputs": [
    {
     "name": "stdout",
     "output_type": "stream",
     "text": [
      "redbluegreenyellow\n"
     ]
    }
   ],
   "source": [
    "colors = ['red', 'blue', 'green', 'yellow']\n",
    "result = ''.join(colors)\n",
    "print(result)"
   ]
  },
  {
   "attachments": {},
   "cell_type": "markdown",
   "metadata": {},
   "source": [
    "# 리스트 컴프리헨션\n",
    "\n",
    "## 리스트 컴프리헨션 다루기"
   ]
  },
  {
   "cell_type": "code",
   "execution_count": 49,
   "metadata": {},
   "outputs": [
    {
     "name": "stdout",
     "output_type": "stream",
     "text": [
      "[0, 1, 2, 3, 4, 5, 6, 7, 8, 9]\n",
      "[0, 1, 2, 3, 4, 5, 6, 7, 8, 9]\n"
     ]
    }
   ],
   "source": [
    "result = []\n",
    "for i in range(10):\n",
    "    result.append(i)\n",
    "\n",
    "print(result)\n",
    "\n",
    "result = [i for i in range(10)]\n",
    "print(result)"
   ]
  },
  {
   "attachments": {},
   "cell_type": "markdown",
   "metadata": {},
   "source": [
    "## 리스트 컴프리헨션 용법\n",
    "\n",
    "### 필터링"
   ]
  },
  {
   "cell_type": "code",
   "execution_count": 50,
   "metadata": {},
   "outputs": [
    {
     "name": "stdout",
     "output_type": "stream",
     "text": [
      "[0, 2, 4, 6, 8]\n",
      "[0, 10, 2, 10, 4, 10, 6, 10, 8, 10]\n"
     ]
    }
   ],
   "source": [
    "result = [i for i in range(10) if i % 2 == 0]\n",
    "print(result)\n",
    "\n",
    "result = [i if i % 2 == 0 else 10 for i in range(10)]\n",
    "print(result)"
   ]
  },
  {
   "attachments": {},
   "cell_type": "markdown",
   "metadata": {},
   "source": [
    "### 중첩 반복문"
   ]
  },
  {
   "cell_type": "code",
   "execution_count": 51,
   "metadata": {},
   "outputs": [
    {
     "name": "stdout",
     "output_type": "stream",
     "text": [
      "['HW', 'Ho', 'Hr', 'Hl', 'Hd', 'eW', 'eo', 'er', 'el', 'ed', 'lW', 'lo', 'lr', 'll', 'ld', 'lW', 'lo', 'lr', 'll', 'ld', 'oW', 'oo', 'or', 'ol', 'od']\n",
      "['AD', 'AE', 'BD', 'BE', 'BA', 'CD', 'CE', 'CA']\n"
     ]
    }
   ],
   "source": [
    "word_1 = \"Hello\"\n",
    "word_2 = \"World\"\n",
    "result = [i + j for i in word_1 for j in word_2]\n",
    "print(result)\n",
    "\n",
    "case_1 = [\"A\", \"B\", \"C\"]\n",
    "case_2 = [\"D\", \"E\", \"A\"]\n",
    "result = [i + j for i in case_1 for j in case_2 if not(i==j)]\n",
    "print(result)"
   ]
  },
  {
   "attachments": {},
   "cell_type": "markdown",
   "metadata": {},
   "source": [
    "### 이차원 리스트"
   ]
  },
  {
   "cell_type": "code",
   "execution_count": 52,
   "metadata": {},
   "outputs": [
    {
     "name": "stdout",
     "output_type": "stream",
     "text": [
      "['The', 'quick', 'brown', 'fox', 'jums', 'over', 'the', 'lazy', 'dog']\n",
      "['THE', 'the', 3]\n",
      "['QUICK', 'quick', 5]\n",
      "['BROWN', 'brown', 5]\n",
      "['FOX', 'fox', 3]\n",
      "['JUMS', 'jums', 4]\n",
      "['OVER', 'over', 4]\n",
      "['THE', 'the', 3]\n",
      "['LAZY', 'lazy', 4]\n",
      "['DOG', 'dog', 3]\n",
      "['AD', 'AE', 'AA', 'BD', 'BE', 'BA', 'CD', 'CE', 'CA']\n",
      "[['AD', 'BD', 'CD'], ['AE', 'BE', 'CE'], ['AA', 'BA', 'CA']]\n"
     ]
    }
   ],
   "source": [
    "words = 'The quick brown fox jums over the lazy dog'.split()\n",
    "print(words)\n",
    "\n",
    "stuff = [[w.upper(), w.lower(), len(w)] for w in words]\n",
    "\n",
    "for i in stuff:\n",
    "    print(i)\n",
    "\n",
    "case_1 = [\"A\", \"B\", \"C\"]\n",
    "case_2 = [\"D\", \"E\", \"A\"]\n",
    "result = [i + j for i in case_1 for j in case_2]\n",
    "print(result)\n",
    "\n",
    "result = [[ i + j for i in case_1] for j in case_2]\n",
    "print(result)"
   ]
  },
  {
   "attachments": {},
   "cell_type": "markdown",
   "metadata": {},
   "source": [
    "## 리스트 컴프리헨션의 성능\n",
    "- 리스트 컴프리헨션은 내부적으로 잘 구성된 메모리 사용 방식으로, 기존 for 문보다 시간 면에서 효율적인 연산을 수행할 수 있다"
   ]
  },
  {
   "attachments": {},
   "cell_type": "markdown",
   "metadata": {},
   "source": [
    "# 다양한 방식의 리스트값 출력\n",
    "\n",
    "## 리스트값에 인덱스를 붙여 출력: enumerate() 함수"
   ]
  },
  {
   "cell_type": "code",
   "execution_count": 53,
   "metadata": {},
   "outputs": [
    {
     "name": "stdout",
     "output_type": "stream",
     "text": [
      "0 tic\n",
      "1 tac\n",
      "2 toe\n",
      "{0: 'TEAMLAB', 1: 'is', 2: 'an', 3: 'academic', 4: 'institute', 5: 'located', 6: 'in', 7: 'South', 8: 'Korea.'}\n"
     ]
    }
   ],
   "source": [
    "for i, v in enumerate(['tic', 'tac', 'toe']):\n",
    "    print(i, v)\n",
    "# 0 tic\n",
    "# 1 tac\n",
    "# 2 toe\n",
    "\n",
    "print({i:j for i, j in enumerate('TEAMLAB is an academic institute located in South Korea.'.split())})"
   ]
  },
  {
   "attachments": {},
   "cell_type": "markdown",
   "metadata": {},
   "source": [
    "## 리스트값을 병렬로 묶어 출력: zip() 함수"
   ]
  },
  {
   "cell_type": "code",
   "execution_count": 54,
   "metadata": {},
   "outputs": [
    {
     "name": "stdout",
     "output_type": "stream",
     "text": [
      "a1 b1\n",
      "a2 b2\n",
      "a3 b3\n",
      "(1, 10, 100) (2, 20, 200) (3, 30, 300)\n",
      "[111, 222, 333]\n"
     ]
    }
   ],
   "source": [
    "alist = ['a1', 'a2', 'a3']\n",
    "blist = ['b1', 'b2', 'b3']\n",
    "for a, b in zip(alist,blist):\n",
    "    print(a, b)\n",
    "\n",
    "a, b, c = zip((1, 2, 3), (10, 20, 30), (100, 200, 300))\n",
    "print(a, b, c)\n",
    "print([sum(x) for x in zip((1, 2, 3), (10, 20, 30), (100, 200, 300))])"
   ]
  },
  {
   "attachments": {},
   "cell_type": "markdown",
   "metadata": {},
   "source": [
    "# 람다 함수\n",
    "\n",
    "## 람다 함수의 사용"
   ]
  },
  {
   "cell_type": "code",
   "execution_count": 55,
   "metadata": {},
   "outputs": [
    {
     "name": "stdout",
     "output_type": "stream",
     "text": [
      "5\n",
      "5\n",
      "6\n"
     ]
    }
   ],
   "source": [
    "def f(x, y):\n",
    "    return x + y\n",
    "\n",
    "print(f(1, 4))\n",
    "\n",
    "f = lambda x, y: x + y\n",
    "print(f(1, 4))\n",
    "\n",
    "print((lambda x: x + 1)(5))"
   ]
  },
  {
   "attachments": {},
   "cell_type": "markdown",
   "metadata": {},
   "source": [
    "## 람다 함수의 다양한 형태"
   ]
  },
  {
   "cell_type": "code",
   "execution_count": 56,
   "metadata": {},
   "outputs": [
    {
     "name": "stdout",
     "output_type": "stream",
     "text": [
      "9\n",
      "1.5\n"
     ]
    },
    {
     "ename": "TypeError",
     "evalue": "<lambda>() takes 1 positional argument but 2 were given",
     "output_type": "error",
     "traceback": [
      "\u001b[1;31m---------------------------------------------------------------------------\u001b[0m",
      "\u001b[1;31mTypeError\u001b[0m                                 Traceback (most recent call last)",
      "\u001b[1;32m~\\AppData\\Local\\Temp\\ipykernel_6140\\1617635802.py\u001b[0m in \u001b[0;36m<module>\u001b[1;34m\u001b[0m\n\u001b[0;32m      5\u001b[0m \u001b[0mprint\u001b[0m\u001b[1;33m(\u001b[0m\u001b[0mf\u001b[0m\u001b[1;33m(\u001b[0m\u001b[1;36m3\u001b[0m\u001b[1;33m)\u001b[0m\u001b[1;33m)\u001b[0m\u001b[1;33m\u001b[0m\u001b[1;33m\u001b[0m\u001b[0m\n\u001b[0;32m      6\u001b[0m \u001b[1;33m\u001b[0m\u001b[0m\n\u001b[1;32m----> 7\u001b[1;33m \u001b[0mprint\u001b[0m\u001b[1;33m(\u001b[0m\u001b[0mf\u001b[0m\u001b[1;33m(\u001b[0m\u001b[1;36m3\u001b[0m\u001b[1;33m,\u001b[0m \u001b[1;36m5\u001b[0m\u001b[1;33m)\u001b[0m\u001b[1;33m)\u001b[0m\u001b[1;33m\u001b[0m\u001b[1;33m\u001b[0m\u001b[0m\n\u001b[0m",
      "\u001b[1;31mTypeError\u001b[0m: <lambda>() takes 1 positional argument but 2 were given"
     ]
    }
   ],
   "source": [
    "f = lambda x: x ** 2\n",
    "print(f(3))\n",
    "\n",
    "f = lambda x: x / 2\n",
    "print(f(3))\n",
    "\n",
    "print(f(3, 5))"
   ]
  },
  {
   "attachments": {},
   "cell_type": "markdown",
   "metadata": {},
   "source": [
    "# 맵리듀스\n",
    "\n",
    "## map() 함수"
   ]
  },
  {
   "cell_type": "code",
   "execution_count": 57,
   "metadata": {},
   "outputs": [
    {
     "name": "stdout",
     "output_type": "stream",
     "text": [
      "[1, 4, 9, 16, 25]\n"
     ]
    }
   ],
   "source": [
    "ex = [1, 2, 3, 4, 5]\n",
    "f = lambda x: x ** 2\n",
    "print(list(map(f, ex)))"
   ]
  },
  {
   "attachments": {},
   "cell_type": "markdown",
   "metadata": {},
   "source": [
    "### 제너레이터의 사용\n",
    "- list(map(함수 이름, 리스트 데이터)) 형태로 입력해야 리스트로 반환\n",
    "- 제너레이터는 시퀀스 자료형의 데이터를 처리할 때, 실행 시점의 값을 생성하여 효율적으로 메모리를 관리할 수 있다는 장점이 있다\n",
    "\n",
    "### 리스트 컴프리헨션과의 비교\n",
    "- 굳이 람다 함수나 map() 함수를 이용하지 않아도 리스트 컴프리헨션 기법으로 얼마든지 같은 효과를 낼 수 있다\n",
    "\n",
    "### 한 개 이상의 시퀀스 자료형 데이터의 처리"
   ]
  },
  {
   "cell_type": "code",
   "execution_count": 58,
   "metadata": {},
   "outputs": [
    {
     "name": "stdout",
     "output_type": "stream",
     "text": [
      "[2, 4, 6, 8, 10]\n",
      "[2, 4, 6, 8, 10]\n"
     ]
    }
   ],
   "source": [
    "ex = [1, 2, 3, 4, 5]\n",
    "f = lambda x, y: x + y\n",
    "print(list(map(f, ex, ex)))\n",
    "\n",
    "print([x + y for x, y in zip(ex, ex)])"
   ]
  },
  {
   "attachments": {},
   "cell_type": "markdown",
   "metadata": {},
   "source": [
    "### 필터링(filtering) 기능"
   ]
  },
  {
   "cell_type": "code",
   "execution_count": 59,
   "metadata": {},
   "outputs": [
    {
     "name": "stdout",
     "output_type": "stream",
     "text": [
      "[1, 4, 3, 16, 5]\n",
      "[1, 4, 3, 16, 5]\n"
     ]
    }
   ],
   "source": [
    "print(list(map(lambda x: x ** 2 if x % 2 == 0 else x, ex)))\n",
    "\n",
    "print([x ** 2 if x % 2 == 0 else x for x in ex])"
   ]
  },
  {
   "attachments": {},
   "cell_type": "markdown",
   "metadata": {},
   "source": [
    "## reduce() 함수"
   ]
  },
  {
   "cell_type": "code",
   "execution_count": 60,
   "metadata": {},
   "outputs": [
    {
     "name": "stdout",
     "output_type": "stream",
     "text": [
      "15\n"
     ]
    }
   ],
   "source": [
    "from functools import reduce\n",
    "print(reduce(lambda x, y: x+y, [1, 2, 3, 4, 5]))"
   ]
  },
  {
   "attachments": {},
   "cell_type": "markdown",
   "metadata": {},
   "source": [
    "# 별표의 활용\n",
    "\n",
    "## 별표의 사용"
   ]
  },
  {
   "cell_type": "code",
   "execution_count": 62,
   "metadata": {},
   "outputs": [
    {
     "name": "stdout",
     "output_type": "stream",
     "text": [
      "1 (2, 3, 4, 5, 6)\n",
      "<class 'tuple'>\n",
      "1 {'b': 2, 'c': 3, 'd': 4, 'e': 5, 'f': 6}\n",
      "<class 'dict'>\n"
     ]
    }
   ],
   "source": [
    "def asterisk_test(a, *args):\n",
    "    print(a, args)\n",
    "    print(type(args))\n",
    "\n",
    "asterisk_test(1, 2, 3, 4, 5, 6)\n",
    "\n",
    "def asterisk_test(a, **kargs):\n",
    "    print(a, kargs)\n",
    "    print(type(kargs))\n",
    "\n",
    "asterisk_test(1, b=2, c=3, d=4, e=5, f=6)"
   ]
  },
  {
   "attachments": {},
   "cell_type": "markdown",
   "metadata": {},
   "source": [
    "## 별표의 언패킹 기능"
   ]
  },
  {
   "cell_type": "code",
   "execution_count": 63,
   "metadata": {},
   "outputs": [
    {
     "name": "stdout",
     "output_type": "stream",
     "text": [
      "1 2 3 4 5 6\n",
      "<class 'tuple'>\n",
      "1 (2, 3, 4, 5, 6)\n",
      "<class 'tuple'>\n",
      "[1, 2] [3, 4] [5, 6]\n",
      "[1, 2] [3, 4] [5, 6]\n",
      "(1, 3, 5)\n",
      "<class 'tuple'>\n",
      "(2, 4, 6)\n",
      "<class 'tuple'>\n",
      "10 1 2 3\n"
     ]
    }
   ],
   "source": [
    "def asterisk_test(a, args):\n",
    "    print(a, *args)\n",
    "    print(type(args))\n",
    "\n",
    "asterisk_test(1, (2, 3, 4, 5, 6))\n",
    "\n",
    "def asterisk_test(a, *args):\n",
    "    print(a, args)\n",
    "    print(type(args))\n",
    "\n",
    "asterisk_test(1, *(2, 3, 4, 5, 6))\n",
    "\n",
    "a, b, c = ([1, 2], [3, 4], [5, 6])\n",
    "print(a, b, c)\n",
    "\n",
    "data = ([1, 2], [3, 4], [5, 6])\n",
    "print(*data)\n",
    "\n",
    "for data in zip(*[[1, 2], [3, 4], [5, 6]]):\n",
    "    print(data)\n",
    "    print(type(data))\n",
    "\n",
    "def asterisk_test(a, b, c, d,):\n",
    "    print(a, b, c, d)\n",
    "\n",
    "data = {\"b\":1, \"c\":2, \"d\":3}\n",
    "asterisk_test(10, **data)"
   ]
  },
  {
   "attachments": {},
   "cell_type": "markdown",
   "metadata": {},
   "source": [
    "# 선형대수학\n",
    "\n",
    "## 백터와 행렬의 개념\n",
    "\n",
    "### 백터(vector)\n",
    "- 어떤 정보를 표현하는 방법일는 관점에서 볼 때, 3개 이상의 정보를 사용해야 하는 경우가 많다\n",
    "- 여러 개의 데이터를 하나의 정보에 표현하는 것\n",
    "\n",
    "### 행렬(matrix)\n",
    "- 1개 이상의 벡터 모임\n",
    "- 행렬에서 행 또는 열은 하나의 대상에 대한 정보를 표현한 것이며, 그 모음이 바로 행렬\n",
    "- m 개의 행과 n 개의 열로 구성되고 'm x n 행렬'이라고 표기하며 'm by n'으로 읽는다\n",
    "- 메트릭스의 각 요소의 값을 표시할 때는 행렬 A 의 i 행, j 열의 값을 'A 의 ij 번재 값'이라고 하고, 'a_ij'로 표시\n",
    "\n",
    "## 파이썬 스타일 코드로 표현한 벡터"
   ]
  },
  {
   "cell_type": "code",
   "execution_count": 64,
   "metadata": {},
   "outputs": [],
   "source": [
    "# 리스트로 표현한 경우\n",
    "vector_a = [1, 2, 10]\n",
    "# 튜플로 표현한 경우\n",
    "vector_b = (1, 2, 10)\n",
    "# 딕셔너리로 표현한 경우\n",
    "vector_c = {'x':1, 'y':1, 'z':10}"
   ]
  },
  {
   "attachments": {},
   "cell_type": "markdown",
   "metadata": {},
   "source": [
    "### 벡터의 연산"
   ]
  },
  {
   "cell_type": "code",
   "execution_count": 66,
   "metadata": {},
   "outputs": [
    {
     "name": "stdout",
     "output_type": "stream",
     "text": [
      "[7, 10]\n",
      "[7, 10]\n",
      "[(2, 2, 3), (2, 3, 5)]\n"
     ]
    }
   ],
   "source": [
    "u = [2, 2]\n",
    "v = [2, 3]\n",
    "z = [3, 5]\n",
    "result = []\n",
    "\n",
    "for i in range(len(u)):\n",
    "    result.append(u[i] + v[i] + z[i])\n",
    "\n",
    "print(result)\n",
    "\n",
    "u = [2, 2]\n",
    "v = [2, 3]\n",
    "z = [3, 5]\n",
    "\n",
    "result = [sum(t) for t in zip(u, v, z)]\n",
    "print(result)\n",
    "\n",
    "print([t for t in zip(u, v, z)])"
   ]
  },
  {
   "attachments": {},
   "cell_type": "markdown",
   "metadata": {},
   "source": [
    "### 별표를 사용한 함수화"
   ]
  },
  {
   "cell_type": "code",
   "execution_count": 67,
   "metadata": {},
   "outputs": [
    {
     "name": "stdout",
     "output_type": "stream",
     "text": [
      "[7, 10]\n",
      "[7, 10]\n"
     ]
    }
   ],
   "source": [
    "def vector_addition(*args):\n",
    "    return [sum(t) for t in zip(*args)]\n",
    "\n",
    "print(vector_addition(u, v, z))\n",
    "\n",
    "row_vectors = [[2, 2], [2, 3], [3, 5]]\n",
    "print(vector_addition(*row_vectors))"
   ]
  },
  {
   "attachments": {},
   "cell_type": "markdown",
   "metadata": {},
   "source": [
    "### 스칼라 - 벡터 연산"
   ]
  },
  {
   "cell_type": "code",
   "execution_count": 68,
   "metadata": {},
   "outputs": [
    {
     "name": "stdout",
     "output_type": "stream",
     "text": [
      "[10, 12, 14]\n"
     ]
    }
   ],
   "source": [
    "u = [1, 2, 3]\n",
    "v = [4, 4, 4]\n",
    "alpha = 2\n",
    "\n",
    "result = [alpha * sum(t) for t in zip(u, v)]\n",
    "print(result)"
   ]
  },
  {
   "attachments": {},
   "cell_type": "markdown",
   "metadata": {},
   "source": [
    "## 파이썬 스타일 코드로 표현한 행렬"
   ]
  },
  {
   "cell_type": "code",
   "execution_count": 69,
   "metadata": {},
   "outputs": [],
   "source": [
    "# 리스트로 표현한 경우\n",
    "matrix_a = [[3, 6], [4, 5]]\n",
    "# 튜플로 표현한 경우\n",
    "matrix_b = [(3, 6), (4, 5)]\n",
    "# 딕셔너리로 표현한 경우\n",
    "matrix_c = {(0, 0):3, (0, 1):6, (1, 0):4, (1, 1):5}"
   ]
  },
  {
   "attachments": {},
   "cell_type": "markdown",
   "metadata": {},
   "source": [
    "### 행렬의 연산"
   ]
  },
  {
   "cell_type": "code",
   "execution_count": 70,
   "metadata": {},
   "outputs": [
    {
     "name": "stdout",
     "output_type": "stream",
     "text": [
      "[[8, 14], [10, 12]]\n",
      "[([3, 6], [5, 8]), ([4, 5], [6, 7])]\n"
     ]
    }
   ],
   "source": [
    "matrix_a = [[3, 6], [4, 5]]\n",
    "matrix_b = [[5, 8], [6, 7]]\n",
    "result = [[sum(row) for row in zip(*t)] for t in zip(matrix_a, matrix_b)]\n",
    "print(result)\n",
    "\n",
    "print([t for t in zip(matrix_a, matrix_b)])"
   ]
  },
  {
   "attachments": {},
   "cell_type": "markdown",
   "metadata": {},
   "source": [
    "### 행렬의 동치\n",
    "- 동치 = 두 개의 행렬이 같은지를 나타내는 표현"
   ]
  },
  {
   "cell_type": "code",
   "execution_count": 72,
   "metadata": {},
   "outputs": [
    {
     "name": "stdout",
     "output_type": "stream",
     "text": [
      "True\n",
      "False\n",
      "False\n",
      "True\n",
      "False\n",
      "True\n",
      "[[True, False], [True, False], [True, False], [True, False]]\n"
     ]
    }
   ],
   "source": [
    "matrix_a = [[1, 1], [1, 1]]\n",
    "matrix_b = [[1, 1], [1, 1]]\n",
    "print(all([row[0] == value for t in zip(matrix_a, matrix_b) for row in zip(*t) for value in row]))\n",
    "\n",
    "matrix_b = [[5, 8], [6, 7]]\n",
    "print(all([all(row[0] == values for values in row) for t in zip(matrix_a, matrix_b) for row in zip(*t)]))\n",
    "\n",
    "print(any([False, False, False]))\n",
    "print(any([False, True, False]))\n",
    "print(all([False, True, True]))\n",
    "print(all([True, True, True]))\n",
    "\n",
    "print([[row[0] == value for value in row] for t in zip(matrix_a, matrix_b) for row in zip(*t)])"
   ]
  },
  {
   "attachments": {},
   "cell_type": "markdown",
   "metadata": {},
   "source": [
    "### 전치 행렬(transpose matrix)\n",
    "- 전치 행렬은 주어진 m x n 의 행렬에서 행과 열을 바꾸어 만든 행렬"
   ]
  },
  {
   "cell_type": "code",
   "execution_count": 73,
   "metadata": {},
   "outputs": [
    {
     "name": "stdout",
     "output_type": "stream",
     "text": [
      "[[1, 4], [2, 5], [3, 6]]\n",
      "[(1, 4), (2, 5), (3, 6)]\n"
     ]
    }
   ],
   "source": [
    "matrix_a = [[1, 2, 3], [4, 5, 6]]\n",
    "result = [[element for element in t] for t in zip(*matrix_a)]\n",
    "print(result)\n",
    "\n",
    "print([t for t in zip(*matrix_a)])"
   ]
  },
  {
   "attachments": {},
   "cell_type": "markdown",
   "metadata": {},
   "source": [
    "### 행렬의 곱셈\n",
    "- 앞 행렬의 열과 뒤 행렬의 행을 선형 결합\n",
    "- 앞 행렬의 열과 뒤 행렬의 행의 크기가 같아야 한다"
   ]
  },
  {
   "cell_type": "code",
   "execution_count": 74,
   "metadata": {},
   "outputs": [
    {
     "name": "stdout",
     "output_type": "stream",
     "text": [
      "[[5, 8], [5, 6]]\n"
     ]
    }
   ],
   "source": [
    "matrix_a = [[1, 1, 2], [2, 1, 1]]\n",
    "matrix_b = [[1, 1], [2, 1], [1, 3]]\n",
    "result = [[sum(a * b for a, b in zip(row_a, column_b)) for column_b in zip(*matrix_b)] for row_a in matrix_a]\n",
    "print(result)"
   ]
  },
  {
   "attachments": {},
   "cell_type": "markdown",
   "metadata": {},
   "source": [
    "# 객체 지향 프로그래밍의 이해\n",
    "\n",
    "## 객체 지향 프로그래밍을 배우는 이유\n",
    "- 남이 만든 코드를 재사용하고 싶을 때 사용하는 대표적인 방법\n",
    "\n",
    "## 객체와 클래스\n",
    "- 객체 = 실생활에 존재하는 실제적인 물건 또는 개념을 뜻하며, 속성과 행동으로 구성된다\n",
    "- 속성은 변수, 행동은 함수로 정의\n",
    "- 클래스 = 객체가 가져야 할 기본 정보를 담은 코드"
   ]
  },
  {
   "attachments": {},
   "cell_type": "markdown",
   "metadata": {},
   "source": [
    "# 파이썬의 객체 지향 프로그래밍\n",
    "\n",
    "## 클래스 구현하기\n",
    "- class ClassName(상속받는객체명):\n",
    "- 클래스의 이름은 snake_case 나 CamelCase 를 자주 사용\n",
    "\n",
    "### 속성의 선언"
   ]
  },
  {
   "cell_type": "code",
   "execution_count": 75,
   "metadata": {},
   "outputs": [],
   "source": [
    "class SoccerPlayer(object):\n",
    "    def __init__(self, name, position, back_number):\n",
    "        self.name = name\n",
    "        self.position = position\n",
    "        self.back_number = back_number"
   ]
  },
  {
   "attachments": {},
   "cell_type": "markdown",
   "metadata": {},
   "source": [
    "- \\_\\_init__() = 해당 class 에서 사용할 변수를 정의하는 함수, 첫번째 매개변수는 반드시 self 변수를 사용\n",
    "- self 변수 = 클래스에서 생성된 인스턴스에 접근하는 예약어, 생성된 인스턴스를 지정하는 변수\n",
    "- self 뒤에 매개변수들은 실제로 클래스가 가진속성, 실제 생성된 인스턴스에 할당된다\n",
    "- self.name = name 으로 할당, 생성된 인스턴스에 있는 name 변수에 매개변수로 입력된 name이라는 값을 할당한다는 뜻\n",
    "- 클래스의 변수는 self.변수이름 으로 \\_\\_init()__ 함수에서 자유롭게 생성\n",
    "- 파이썬은 인터프리터 언어이고 동적 타이핑 언어이므로, 클래스 내 다른 함수에서도 이같은 속성의 생성은 가능하나 일반적으로 \\_\\_init()__ 함수 내에서만 새로운 속성을 생성해야 다른 프로그래머가 헷갈리지 않을 것\n",
    "\n",
    "### 함수의 선언"
   ]
  },
  {
   "cell_type": "code",
   "execution_count": 76,
   "metadata": {},
   "outputs": [],
   "source": [
    "class SoccerPlayer(object):\n",
    "    def change_back_number(self, new_number):\n",
    "        print(\"선수의 등번호를 변경한다: From %d to %d\" % (self.back_number, new_number))\n",
    "        self.back_number = new_number"
   ]
  },
  {
   "attachments": {},
   "cell_type": "markdown",
   "metadata": {},
   "source": [
    "- self 매개변수를 반드시 넣어야 한다\n",
    "- self 가 있어야만 실제로 인스턴스가 사용할 수 있는 함수로 선언된다\n",
    "\n",
    "### _의 쓰임\n",
    "- _ 1개는 이후로 쓰이지 않을 변수에 특별한 이름을 부여하고 싶지 않을 때 사용\n",
    "- __ 2개는 특수한 예약 함수나 변수에 사용\n",
    "- \\_\\_str__() 함수는 클래스로 인스턴스를 생성했을 때, 그 인스턴스 자체를 print() 함수로 화면에 출력하면 나오는 값을 뜻한다\n",
    "\n",
    "## 인스턴스 사용하기\n",
    "- 인스턴스 = 클래스에서 실제적인 데이터가 입력되어 사용할 수 있는 형태의 객체\n",
    "- 클래스 이름을 사용하여 호출 > \\_\\_init__() 함수의 매개변수에 맞추어 값을 입력, 초깃값 지정 등도 사용 가능 > self 변수는 아무런 값도 할당되지 않는다"
   ]
  },
  {
   "cell_type": "code",
   "execution_count": 77,
   "metadata": {},
   "outputs": [
    {
     "name": "stdout",
     "output_type": "stream",
     "text": [
      "현재 선수의 등번호는: 10\n",
      "선수의 등번호를 변경한다: From 10 to 5\n",
      "현재 선수의 등번호는: 5\n"
     ]
    }
   ],
   "source": [
    "# 전체 SoccerPlayer 코드\n",
    "class SoccerPlayer(object):\n",
    "    def __init__(self, name, position, back_number):\n",
    "        self.name = name\n",
    "        self.position = position\n",
    "        self.back_number = back_number\n",
    "    def change_back_number(self, new_number):\n",
    "        print(\"선수의 등번호를 변경한다: From %d to %d\" % (self.back_number, new_number))\n",
    "        self.back_number = new_number\n",
    "    def __str__(self):\n",
    "        return \"Hello, My name is %s. i play in %s in center.\" % (self.name, self.position)\n",
    "\n",
    "# SoccerPlayer 를 사용하는 instance 코드\n",
    "jinhyun = SoccerPlayer(\"Jinhyun\", \"MF\", 10)\n",
    "\n",
    "print(\"현재 선수의 등번호는:\", jinhyun.back_number)\n",
    "jinhyun.change_back_number(5)\n",
    "print(\"현재 선수의 등번호는:\", jinhyun.back_number)"
   ]
  },
  {
   "attachments": {},
   "cell_type": "markdown",
   "metadata": {},
   "source": [
    "- 인스턴스가 생성된 후에는 해당 인스턴스의 이름으로 값을 할당하거나 함수를 부르면 되지만, 클래스 내에서는 self 로 호출된다\n",
    "- print(jinhyun) 을 실행할 경우 \\_\\_str__ 함수의 내용이 출력\n",
    "\n",
    "## 클래스를 사용하는 이유\n",
    "- 다른 사람이 손쉽게 사용할 수 있도록 설계하기 위해\n",
    "- 코드를 좀 더 손쉽게 선언할 수 있다\n",
    "- 모든 코드를 객체 지향으로 작성할 필요가 없으니 적재적소에 사용할 것"
   ]
  },
  {
   "attachments": {},
   "cell_type": "markdown",
   "metadata": {},
   "source": [
    "# Lab: 노트북 프로그램 만들기"
   ]
  },
  {
   "cell_type": "code",
   "execution_count": 81,
   "metadata": {},
   "outputs": [
    {
     "name": "stdout",
     "output_type": "stream",
     "text": [
      "세상 사는 데 도움이 되는 명언, 힘이 되는 명언, 용기를 주는 명언, 위로되는\n",
      "명언, 좋은 명언 100가지. 자주 보면 좋을 것 같아 선별했습니다.\n",
      "삭제된 노트입니다.\n",
      "4\n",
      "232\n",
      "3\n",
      "해당 페이지에는 이미 노트가 존재합니다.\n",
      "해당 페이지에는 이미 노트가 존재합니다.\n",
      "해당 페이지에는 이미 노트가 존재합니다.\n",
      "해당 페이지에는 이미 노트가 존재합니다.\n",
      "해당 페이지에는 이미 노트가 존재합니다.\n",
      "300\n"
     ]
    }
   ],
   "source": [
    "class Note(object):\n",
    "    def __init__(self, contents = None):\n",
    "        self.contents = contents\n",
    "\n",
    "    def write_contents(self, contents):\n",
    "        self.contents = contents\n",
    "\n",
    "    def remove_all(self):\n",
    "        self.contents = \"\"\n",
    "\n",
    "    def __str__(self):\n",
    "        return self.contents\n",
    "\n",
    "class NoteBook(object):\n",
    "    def __init__(self, title):\n",
    "        self.title = title\n",
    "        self.page_number = 1\n",
    "        self.notes = {}\n",
    "\n",
    "    def add_note(self, note, page = 0):\n",
    "        if self.page_number < 300:\n",
    "            if page == 0:\n",
    "                self.notes[self.page_number] = note\n",
    "                self.page_number += 1\n",
    "            else:\n",
    "                self.notes = {page : note}\n",
    "                self.page_number += 1\n",
    "        else:\n",
    "            print(\"페이지가 모두 채워졌다.\")\n",
    "            \n",
    "    def remove_note(self, page_number):\n",
    "        if page_number in self.notes.keys():\n",
    "            return self.notes.pop(page_number)\n",
    "        else:\n",
    "            print(\"해당 페이지는 존재하지 않는다.\")\n",
    "            \n",
    "    def get_number_of_pages(self):\n",
    "        return len(self.notes.keys())\n",
    "    \n",
    "from notebook import Note\n",
    "from notebook import NoteBook\n",
    "\n",
    "good_sentence = \"\"\"세상 사는 데 도움이 되는 명언, 힘이 되는 명언, 용기를 주는 명언, 위로되는\n",
    "명언, 좋은 명언 100가지. 자주 보면 좋을 것 같아 선별했습니다.\"\"\"\n",
    "note_1 = Note(good_sentence)\n",
    "\n",
    "good_sentence = \"\"\"삶이 있는 한 희망은 있다. - 키케로\"\"\"\n",
    "note_2 = Note(good_sentence)\n",
    "\n",
    "good_sentence = \"\"\"하루에 3시간을 걸으면 7년 후네 지구를 한 바퀴 돌 수 있다. - 새뮤얼 존\n",
    "슨\"\"\"\n",
    "note_3 = Note(good_sentence)\n",
    "\n",
    "good_sentence = \"\"\"행복의 문이 하나 닫히면 다른 문이 열린다. 그러나 우리는 종종 닫힌 문을\n",
    "멍하니 바라보다가 우리를 향해 열린 문을 보지 못하게 된다. - 헬렌 켈러\"\"\"\n",
    "note_4 = Note(good_sentence)\n",
    "\n",
    "note_1\n",
    "print(note_1)\n",
    "note_1.remove()\n",
    "print(note_1)\n",
    "note_1 = Note(good_sentence)\n",
    "\n",
    "wise_saying_notebook = NoteBook(\"명언 노트\")\n",
    "wise_saying_notebook.add_note(note_1)\n",
    "wise_saying_notebook.add_note(note_2)\n",
    "wise_saying_notebook.add_note(note_3)\n",
    "wise_saying_notebook.add_note(note_4)\n",
    "\n",
    "print(wise_saying_notebook.get_number_of_all_pages())\n",
    "print(wise_saying_notebook.get_number_of_all_characters())\n",
    "\n",
    "wise_saying_notebook.remove_note(3)\n",
    "print(wise_saying_notebook.get_number_of_all_pages())\n",
    "wise_saying_notebook.add_note(note_1, 100)\n",
    "wise_saying_notebook.add_note(note_1, 100)\n",
    "\n",
    "for i in range(300):\n",
    "    wise_saying_notebook.add_note(note_1, i)\n",
    "    \n",
    "print(wise_saying_notebook.get_number_of_all_pages())"
   ]
  },
  {
   "attachments": {},
   "cell_type": "markdown",
   "metadata": {},
   "source": [
    "# 객체 지향 프로그래밍의 특징\n",
    "\n",
    "## 상속\n",
    "- 부모 클래스에 정의된 속성과 메서드를 자식 클래스가 물려받아 사용하는 것"
   ]
  },
  {
   "cell_type": "code",
   "execution_count": 82,
   "metadata": {},
   "outputs": [
    {
     "name": "stdout",
     "output_type": "stream",
     "text": [
      "Sungchul\n"
     ]
    }
   ],
   "source": [
    "class Person(object):\n",
    "    def __init__(self, name, age):\n",
    "        self.name = name\n",
    "        self.age = age\n",
    "\n",
    "class Korean(Person):\n",
    "    pass\n",
    "\n",
    "first_korean = Korean(\"Sungchul\", 35)\n",
    "print(first_korean.name)\n",
    "\n",
    "class Persont(object):\n",
    "    def __init__(self, name, age, gender):\n",
    "        self.name = name\n",
    "        self.age = age\n",
    "        self.gender = gender\n",
    "\n",
    "    def about_me(self): # 메서드 선언\n",
    "        print(\"제 이름은\", self.name, \"이고요, 제 나이는\", str(self.age), \"살입니다.\")\n",
    "\n",
    "class Employee(Person): # 부모 클래스 Person으로부터 상속\n",
    "    def __init__(self, name, age, gender, salary, hire_date):\n",
    "        super().__intit__(name, age, gender) # 부모 객체 사용\n",
    "        self.salary = salary\n",
    "        self.hire_date = hire_date # 속성값 추가\n",
    "\n",
    "    def do_work(self): # 새로운 메서드 추가\n",
    "        print(\"열심히 일을 한다\")\n",
    "\n",
    "    def about_me(self): # 부모 클래스 함수 재정의 = 오버라이딩 = 상속 시 함수 이름과 필요한 매개변수는 유지하면서 함수의 수행 코드를 변경하는 것\n",
    "        super().about_me() # 부모 클래스 함수 재사용\n",
    "        print(\"제 급여는\", self.salary, \"원이고, 제 입사일은\", self.hire_date, \"입니다.\")"
   ]
  },
  {
   "attachments": {},
   "cell_type": "markdown",
   "metadata": {},
   "source": [
    "## 다형성\n",
    "- 같은 이름의 메서드가 다른 기능을 할 수 있도록 하는 것\n",
    "- 각각 클래스에서 구현되는 내부 로직에 차이가 있는데, 이를 함수의 다형성이라고 한다\n",
    "\n",
    "## 가시성\n",
    "- 객체의 정보를 볼 수 있는 레벨을 조절하여 객체의 정보접근을 숨기는 것\n",
    "- 캡슐화 = 클래스 간 간섭 및 정보 공유를 최소화하여 개별 클래스가 단독으로 동작하기 위해, 각 클래스가 강하게 연결되어 있을 경우 독립적으로 사용 어려움, 인터페이스만 이해하면 사용할 수 있기 위함\n",
    "- 정보 은닉을 어떻게 할 것인가를 코드 레벨에서 조절\n",
    "- 클래스 내부용으로 변수 사용시 __변수명 형태로 변수 선언, 가시성을 클래스 내로 한정하면서 값이 다르게 들어가는 것을 막을 수 있다\n",
    "- 데코레이터 = 클래스의 각 메서드 상단에 삽입하여 해당 메서드의 기능을 추가하는 파이썬 문법\n",
    "- 은닉된 정보를 데코레이터를 통해 외부에서 사용 가능"
   ]
  },
  {
   "attachments": {},
   "cell_type": "markdown",
   "metadata": {},
   "source": [
    "# 모듈과 패키지의 이해\n",
    "\n",
    "## 모듈의 개념\n",
    "- 하나하나 연결해 어떤 목적을 가진 프로그램을 만드는 작은 프로그램\n",
    "- 각 모듈 역시 저마다 역할이 있고, 서로 다른 모듈과 인터페이스만 연결되면 사용할 수 있다\n",
    "- 인터페이스 = 함수에서 매개변수를 입력하는 약속, 모듈을 사용하기 위해 모듈 간의 연결을 위한 약속\n",
    "- import = 모듈을 호출하는 명령어, 모듈을 메모리에 올리라는 듯\n",
    "\n",
    "## 패키지의 개념\n",
    "- 모듈의 묶음\n",
    "- from = 모듈을 호출하기 위해 패키지부터 호출하는 명령여"
   ]
  },
  {
   "attachments": {},
   "cell_type": "markdown",
   "metadata": {},
   "source": [
    "# 모듈 만들기\n",
    "\n",
    "## 모듈 만들기 실습"
   ]
  },
  {
   "cell_type": "code",
   "execution_count": 84,
   "metadata": {},
   "outputs": [
    {
     "name": "stdout",
     "output_type": "stream",
     "text": [
      "Enter a celsius value:\n",
      "That's 95.0 degrees Fahrenheit.\n"
     ]
    }
   ],
   "source": [
    "import fah_converter\n",
    "\n",
    "print(\"Enter a celsius value:\")\n",
    "celsius = float(input())\n",
    "fahrenheit = fah_converter.covert_c_to_f(celsius)\n",
    "print(\"That's\", fahrenheit, \"degrees Fahrenheit.\")"
   ]
  },
  {
   "attachments": {},
   "cell_type": "markdown",
   "metadata": {},
   "source": [
    "## 네임스페이스\n",
    "- 모듈의 호출 범위를 지정"
   ]
  },
  {
   "cell_type": "code",
   "execution_count": 88,
   "metadata": {},
   "outputs": [
    {
     "name": "stdout",
     "output_type": "stream",
     "text": [
      "106.88000000000001\n",
      "106.88000000000001\n",
      "106.88000000000001\n"
     ]
    }
   ],
   "source": [
    "# 모듈 이름에 알리아스를 생성하여 모듈 안으로 코드를 호출하는 방법\n",
    "\n",
    "import fah_converter as fah\n",
    "print(fah.covert_c_to_f(41.6))\n",
    "\n",
    "# from 구문을 사용하여 모듈에서 특정 함수 또는 클래스만 호출하는 방법\n",
    "\n",
    "from fah_converter import covert_c_to_f\n",
    "print(covert_c_to_f(41.6))\n",
    "\n",
    "# 해당 모듈 안에 있는 모든 함수, 클래스, 변수를 가져오는 별표를 사용하는 것\n",
    "\n",
    "from fah_converter import *\n",
    "print(covert_c_to_f(41.6))"
   ]
  },
  {
   "attachments": {},
   "cell_type": "markdown",
   "metadata": {},
   "source": [
    "## 내장 모듈의 사용\n",
    "\n",
    "### random 모듈"
   ]
  },
  {
   "cell_type": "code",
   "execution_count": 89,
   "metadata": {},
   "outputs": [
    {
     "name": "stdout",
     "output_type": "stream",
     "text": [
      "59\n",
      "0.5907594111192368\n"
     ]
    }
   ],
   "source": [
    "import random\n",
    "print(random.randint (0, 100)) # 0~100 사이의 정수 난수를 생성\n",
    "print(random.random()) # 일반적인 난수 생성"
   ]
  },
  {
   "attachments": {},
   "cell_type": "markdown",
   "metadata": {},
   "source": [
    "### time 모듈"
   ]
  },
  {
   "cell_type": "code",
   "execution_count": 90,
   "metadata": {},
   "outputs": [
    {
     "name": "stdout",
     "output_type": "stream",
     "text": [
      "time.struct_time(tm_year=2023, tm_mon=3, tm_mday=2, tm_hour=21, tm_min=54, tm_sec=14, tm_wday=3, tm_yday=61, tm_isdst=0)\n"
     ]
    }
   ],
   "source": [
    "import time\n",
    "print(time.localtime()) # 현재 시각 출력"
   ]
  },
  {
   "attachments": {},
   "cell_type": "markdown",
   "metadata": {},
   "source": [
    "### urllib 모듈"
   ]
  },
  {
   "cell_type": "code",
   "execution_count": 92,
   "metadata": {},
   "outputs": [
    {
     "ename": "HTTPError",
     "evalue": "HTTP Error 404: Not Found",
     "output_type": "error",
     "traceback": [
      "\u001b[1;31m---------------------------------------------------------------------------\u001b[0m",
      "\u001b[1;31mHTTPError\u001b[0m                                 Traceback (most recent call last)",
      "\u001b[1;32m~\\AppData\\Local\\Temp\\ipykernel_6140\\3896128030.py\u001b[0m in \u001b[0;36m<module>\u001b[1;34m\u001b[0m\n\u001b[0;32m      1\u001b[0m \u001b[1;32mimport\u001b[0m \u001b[0murllib\u001b[0m\u001b[1;33m.\u001b[0m\u001b[0mrequest\u001b[0m\u001b[1;33m\u001b[0m\u001b[1;33m\u001b[0m\u001b[0m\n\u001b[1;32m----> 2\u001b[1;33m \u001b[0mresponse\u001b[0m \u001b[1;33m=\u001b[0m \u001b[0murllib\u001b[0m\u001b[1;33m.\u001b[0m\u001b[0mrequest\u001b[0m\u001b[1;33m.\u001b[0m\u001b[0murlopen\u001b[0m\u001b[1;33m(\u001b[0m\u001b[1;34m\"http://theteamlab.io\"\u001b[0m\u001b[1;33m)\u001b[0m\u001b[1;33m\u001b[0m\u001b[1;33m\u001b[0m\u001b[0m\n\u001b[0m\u001b[0;32m      3\u001b[0m \u001b[0mprint\u001b[0m\u001b[1;33m(\u001b[0m\u001b[0mresponse\u001b[0m\u001b[1;33m.\u001b[0m\u001b[0mread\u001b[0m\u001b[1;33m(\u001b[0m\u001b[1;33m)\u001b[0m\u001b[1;33m)\u001b[0m\u001b[1;33m\u001b[0m\u001b[1;33m\u001b[0m\u001b[0m\n",
      "\u001b[1;32mc:\\Users\\lbw\\anaconda3\\lib\\urllib\\request.py\u001b[0m in \u001b[0;36murlopen\u001b[1;34m(url, data, timeout, cafile, capath, cadefault, context)\u001b[0m\n\u001b[0;32m    212\u001b[0m     \u001b[1;32melse\u001b[0m\u001b[1;33m:\u001b[0m\u001b[1;33m\u001b[0m\u001b[1;33m\u001b[0m\u001b[0m\n\u001b[0;32m    213\u001b[0m         \u001b[0mopener\u001b[0m \u001b[1;33m=\u001b[0m \u001b[0m_opener\u001b[0m\u001b[1;33m\u001b[0m\u001b[1;33m\u001b[0m\u001b[0m\n\u001b[1;32m--> 214\u001b[1;33m     \u001b[1;32mreturn\u001b[0m \u001b[0mopener\u001b[0m\u001b[1;33m.\u001b[0m\u001b[0mopen\u001b[0m\u001b[1;33m(\u001b[0m\u001b[0murl\u001b[0m\u001b[1;33m,\u001b[0m \u001b[0mdata\u001b[0m\u001b[1;33m,\u001b[0m \u001b[0mtimeout\u001b[0m\u001b[1;33m)\u001b[0m\u001b[1;33m\u001b[0m\u001b[1;33m\u001b[0m\u001b[0m\n\u001b[0m\u001b[0;32m    215\u001b[0m \u001b[1;33m\u001b[0m\u001b[0m\n\u001b[0;32m    216\u001b[0m \u001b[1;32mdef\u001b[0m \u001b[0minstall_opener\u001b[0m\u001b[1;33m(\u001b[0m\u001b[0mopener\u001b[0m\u001b[1;33m)\u001b[0m\u001b[1;33m:\u001b[0m\u001b[1;33m\u001b[0m\u001b[1;33m\u001b[0m\u001b[0m\n",
      "\u001b[1;32mc:\\Users\\lbw\\anaconda3\\lib\\urllib\\request.py\u001b[0m in \u001b[0;36mopen\u001b[1;34m(self, fullurl, data, timeout)\u001b[0m\n\u001b[0;32m    521\u001b[0m         \u001b[1;32mfor\u001b[0m \u001b[0mprocessor\u001b[0m \u001b[1;32min\u001b[0m \u001b[0mself\u001b[0m\u001b[1;33m.\u001b[0m\u001b[0mprocess_response\u001b[0m\u001b[1;33m.\u001b[0m\u001b[0mget\u001b[0m\u001b[1;33m(\u001b[0m\u001b[0mprotocol\u001b[0m\u001b[1;33m,\u001b[0m \u001b[1;33m[\u001b[0m\u001b[1;33m]\u001b[0m\u001b[1;33m)\u001b[0m\u001b[1;33m:\u001b[0m\u001b[1;33m\u001b[0m\u001b[1;33m\u001b[0m\u001b[0m\n\u001b[0;32m    522\u001b[0m             \u001b[0mmeth\u001b[0m \u001b[1;33m=\u001b[0m \u001b[0mgetattr\u001b[0m\u001b[1;33m(\u001b[0m\u001b[0mprocessor\u001b[0m\u001b[1;33m,\u001b[0m \u001b[0mmeth_name\u001b[0m\u001b[1;33m)\u001b[0m\u001b[1;33m\u001b[0m\u001b[1;33m\u001b[0m\u001b[0m\n\u001b[1;32m--> 523\u001b[1;33m             \u001b[0mresponse\u001b[0m \u001b[1;33m=\u001b[0m \u001b[0mmeth\u001b[0m\u001b[1;33m(\u001b[0m\u001b[0mreq\u001b[0m\u001b[1;33m,\u001b[0m \u001b[0mresponse\u001b[0m\u001b[1;33m)\u001b[0m\u001b[1;33m\u001b[0m\u001b[1;33m\u001b[0m\u001b[0m\n\u001b[0m\u001b[0;32m    524\u001b[0m \u001b[1;33m\u001b[0m\u001b[0m\n\u001b[0;32m    525\u001b[0m         \u001b[1;32mreturn\u001b[0m \u001b[0mresponse\u001b[0m\u001b[1;33m\u001b[0m\u001b[1;33m\u001b[0m\u001b[0m\n",
      "\u001b[1;32mc:\\Users\\lbw\\anaconda3\\lib\\urllib\\request.py\u001b[0m in \u001b[0;36mhttp_response\u001b[1;34m(self, request, response)\u001b[0m\n\u001b[0;32m    630\u001b[0m         \u001b[1;31m# request was successfully received, understood, and accepted.\u001b[0m\u001b[1;33m\u001b[0m\u001b[1;33m\u001b[0m\u001b[0m\n\u001b[0;32m    631\u001b[0m         \u001b[1;32mif\u001b[0m \u001b[1;32mnot\u001b[0m \u001b[1;33m(\u001b[0m\u001b[1;36m200\u001b[0m \u001b[1;33m<=\u001b[0m \u001b[0mcode\u001b[0m \u001b[1;33m<\u001b[0m \u001b[1;36m300\u001b[0m\u001b[1;33m)\u001b[0m\u001b[1;33m:\u001b[0m\u001b[1;33m\u001b[0m\u001b[1;33m\u001b[0m\u001b[0m\n\u001b[1;32m--> 632\u001b[1;33m             response = self.parent.error(\n\u001b[0m\u001b[0;32m    633\u001b[0m                 'http', request, response, code, msg, hdrs)\n\u001b[0;32m    634\u001b[0m \u001b[1;33m\u001b[0m\u001b[0m\n",
      "\u001b[1;32mc:\\Users\\lbw\\anaconda3\\lib\\urllib\\request.py\u001b[0m in \u001b[0;36merror\u001b[1;34m(self, proto, *args)\u001b[0m\n\u001b[0;32m    553\u001b[0m             \u001b[0mhttp_err\u001b[0m \u001b[1;33m=\u001b[0m \u001b[1;36m0\u001b[0m\u001b[1;33m\u001b[0m\u001b[1;33m\u001b[0m\u001b[0m\n\u001b[0;32m    554\u001b[0m         \u001b[0margs\u001b[0m \u001b[1;33m=\u001b[0m \u001b[1;33m(\u001b[0m\u001b[0mdict\u001b[0m\u001b[1;33m,\u001b[0m \u001b[0mproto\u001b[0m\u001b[1;33m,\u001b[0m \u001b[0mmeth_name\u001b[0m\u001b[1;33m)\u001b[0m \u001b[1;33m+\u001b[0m \u001b[0margs\u001b[0m\u001b[1;33m\u001b[0m\u001b[1;33m\u001b[0m\u001b[0m\n\u001b[1;32m--> 555\u001b[1;33m         \u001b[0mresult\u001b[0m \u001b[1;33m=\u001b[0m \u001b[0mself\u001b[0m\u001b[1;33m.\u001b[0m\u001b[0m_call_chain\u001b[0m\u001b[1;33m(\u001b[0m\u001b[1;33m*\u001b[0m\u001b[0margs\u001b[0m\u001b[1;33m)\u001b[0m\u001b[1;33m\u001b[0m\u001b[1;33m\u001b[0m\u001b[0m\n\u001b[0m\u001b[0;32m    556\u001b[0m         \u001b[1;32mif\u001b[0m \u001b[0mresult\u001b[0m\u001b[1;33m:\u001b[0m\u001b[1;33m\u001b[0m\u001b[1;33m\u001b[0m\u001b[0m\n\u001b[0;32m    557\u001b[0m             \u001b[1;32mreturn\u001b[0m \u001b[0mresult\u001b[0m\u001b[1;33m\u001b[0m\u001b[1;33m\u001b[0m\u001b[0m\n",
      "\u001b[1;32mc:\\Users\\lbw\\anaconda3\\lib\\urllib\\request.py\u001b[0m in \u001b[0;36m_call_chain\u001b[1;34m(self, chain, kind, meth_name, *args)\u001b[0m\n\u001b[0;32m    492\u001b[0m         \u001b[1;32mfor\u001b[0m \u001b[0mhandler\u001b[0m \u001b[1;32min\u001b[0m \u001b[0mhandlers\u001b[0m\u001b[1;33m:\u001b[0m\u001b[1;33m\u001b[0m\u001b[1;33m\u001b[0m\u001b[0m\n\u001b[0;32m    493\u001b[0m             \u001b[0mfunc\u001b[0m \u001b[1;33m=\u001b[0m \u001b[0mgetattr\u001b[0m\u001b[1;33m(\u001b[0m\u001b[0mhandler\u001b[0m\u001b[1;33m,\u001b[0m \u001b[0mmeth_name\u001b[0m\u001b[1;33m)\u001b[0m\u001b[1;33m\u001b[0m\u001b[1;33m\u001b[0m\u001b[0m\n\u001b[1;32m--> 494\u001b[1;33m             \u001b[0mresult\u001b[0m \u001b[1;33m=\u001b[0m \u001b[0mfunc\u001b[0m\u001b[1;33m(\u001b[0m\u001b[1;33m*\u001b[0m\u001b[0margs\u001b[0m\u001b[1;33m)\u001b[0m\u001b[1;33m\u001b[0m\u001b[1;33m\u001b[0m\u001b[0m\n\u001b[0m\u001b[0;32m    495\u001b[0m             \u001b[1;32mif\u001b[0m \u001b[0mresult\u001b[0m \u001b[1;32mis\u001b[0m \u001b[1;32mnot\u001b[0m \u001b[1;32mNone\u001b[0m\u001b[1;33m:\u001b[0m\u001b[1;33m\u001b[0m\u001b[1;33m\u001b[0m\u001b[0m\n\u001b[0;32m    496\u001b[0m                 \u001b[1;32mreturn\u001b[0m \u001b[0mresult\u001b[0m\u001b[1;33m\u001b[0m\u001b[1;33m\u001b[0m\u001b[0m\n",
      "\u001b[1;32mc:\\Users\\lbw\\anaconda3\\lib\\urllib\\request.py\u001b[0m in \u001b[0;36mhttp_error_302\u001b[1;34m(self, req, fp, code, msg, headers)\u001b[0m\n\u001b[0;32m    745\u001b[0m         \u001b[0mfp\u001b[0m\u001b[1;33m.\u001b[0m\u001b[0mclose\u001b[0m\u001b[1;33m(\u001b[0m\u001b[1;33m)\u001b[0m\u001b[1;33m\u001b[0m\u001b[1;33m\u001b[0m\u001b[0m\n\u001b[0;32m    746\u001b[0m \u001b[1;33m\u001b[0m\u001b[0m\n\u001b[1;32m--> 747\u001b[1;33m         \u001b[1;32mreturn\u001b[0m \u001b[0mself\u001b[0m\u001b[1;33m.\u001b[0m\u001b[0mparent\u001b[0m\u001b[1;33m.\u001b[0m\u001b[0mopen\u001b[0m\u001b[1;33m(\u001b[0m\u001b[0mnew\u001b[0m\u001b[1;33m,\u001b[0m \u001b[0mtimeout\u001b[0m\u001b[1;33m=\u001b[0m\u001b[0mreq\u001b[0m\u001b[1;33m.\u001b[0m\u001b[0mtimeout\u001b[0m\u001b[1;33m)\u001b[0m\u001b[1;33m\u001b[0m\u001b[1;33m\u001b[0m\u001b[0m\n\u001b[0m\u001b[0;32m    748\u001b[0m \u001b[1;33m\u001b[0m\u001b[0m\n\u001b[0;32m    749\u001b[0m     \u001b[0mhttp_error_301\u001b[0m \u001b[1;33m=\u001b[0m \u001b[0mhttp_error_303\u001b[0m \u001b[1;33m=\u001b[0m \u001b[0mhttp_error_307\u001b[0m \u001b[1;33m=\u001b[0m \u001b[0mhttp_error_302\u001b[0m\u001b[1;33m\u001b[0m\u001b[1;33m\u001b[0m\u001b[0m\n",
      "\u001b[1;32mc:\\Users\\lbw\\anaconda3\\lib\\urllib\\request.py\u001b[0m in \u001b[0;36mopen\u001b[1;34m(self, fullurl, data, timeout)\u001b[0m\n\u001b[0;32m    521\u001b[0m         \u001b[1;32mfor\u001b[0m \u001b[0mprocessor\u001b[0m \u001b[1;32min\u001b[0m \u001b[0mself\u001b[0m\u001b[1;33m.\u001b[0m\u001b[0mprocess_response\u001b[0m\u001b[1;33m.\u001b[0m\u001b[0mget\u001b[0m\u001b[1;33m(\u001b[0m\u001b[0mprotocol\u001b[0m\u001b[1;33m,\u001b[0m \u001b[1;33m[\u001b[0m\u001b[1;33m]\u001b[0m\u001b[1;33m)\u001b[0m\u001b[1;33m:\u001b[0m\u001b[1;33m\u001b[0m\u001b[1;33m\u001b[0m\u001b[0m\n\u001b[0;32m    522\u001b[0m             \u001b[0mmeth\u001b[0m \u001b[1;33m=\u001b[0m \u001b[0mgetattr\u001b[0m\u001b[1;33m(\u001b[0m\u001b[0mprocessor\u001b[0m\u001b[1;33m,\u001b[0m \u001b[0mmeth_name\u001b[0m\u001b[1;33m)\u001b[0m\u001b[1;33m\u001b[0m\u001b[1;33m\u001b[0m\u001b[0m\n\u001b[1;32m--> 523\u001b[1;33m             \u001b[0mresponse\u001b[0m \u001b[1;33m=\u001b[0m \u001b[0mmeth\u001b[0m\u001b[1;33m(\u001b[0m\u001b[0mreq\u001b[0m\u001b[1;33m,\u001b[0m \u001b[0mresponse\u001b[0m\u001b[1;33m)\u001b[0m\u001b[1;33m\u001b[0m\u001b[1;33m\u001b[0m\u001b[0m\n\u001b[0m\u001b[0;32m    524\u001b[0m \u001b[1;33m\u001b[0m\u001b[0m\n\u001b[0;32m    525\u001b[0m         \u001b[1;32mreturn\u001b[0m \u001b[0mresponse\u001b[0m\u001b[1;33m\u001b[0m\u001b[1;33m\u001b[0m\u001b[0m\n",
      "\u001b[1;32mc:\\Users\\lbw\\anaconda3\\lib\\urllib\\request.py\u001b[0m in \u001b[0;36mhttp_response\u001b[1;34m(self, request, response)\u001b[0m\n\u001b[0;32m    630\u001b[0m         \u001b[1;31m# request was successfully received, understood, and accepted.\u001b[0m\u001b[1;33m\u001b[0m\u001b[1;33m\u001b[0m\u001b[0m\n\u001b[0;32m    631\u001b[0m         \u001b[1;32mif\u001b[0m \u001b[1;32mnot\u001b[0m \u001b[1;33m(\u001b[0m\u001b[1;36m200\u001b[0m \u001b[1;33m<=\u001b[0m \u001b[0mcode\u001b[0m \u001b[1;33m<\u001b[0m \u001b[1;36m300\u001b[0m\u001b[1;33m)\u001b[0m\u001b[1;33m:\u001b[0m\u001b[1;33m\u001b[0m\u001b[1;33m\u001b[0m\u001b[0m\n\u001b[1;32m--> 632\u001b[1;33m             response = self.parent.error(\n\u001b[0m\u001b[0;32m    633\u001b[0m                 'http', request, response, code, msg, hdrs)\n\u001b[0;32m    634\u001b[0m \u001b[1;33m\u001b[0m\u001b[0m\n",
      "\u001b[1;32mc:\\Users\\lbw\\anaconda3\\lib\\urllib\\request.py\u001b[0m in \u001b[0;36merror\u001b[1;34m(self, proto, *args)\u001b[0m\n\u001b[0;32m    559\u001b[0m         \u001b[1;32mif\u001b[0m \u001b[0mhttp_err\u001b[0m\u001b[1;33m:\u001b[0m\u001b[1;33m\u001b[0m\u001b[1;33m\u001b[0m\u001b[0m\n\u001b[0;32m    560\u001b[0m             \u001b[0margs\u001b[0m \u001b[1;33m=\u001b[0m \u001b[1;33m(\u001b[0m\u001b[0mdict\u001b[0m\u001b[1;33m,\u001b[0m \u001b[1;34m'default'\u001b[0m\u001b[1;33m,\u001b[0m \u001b[1;34m'http_error_default'\u001b[0m\u001b[1;33m)\u001b[0m \u001b[1;33m+\u001b[0m \u001b[0morig_args\u001b[0m\u001b[1;33m\u001b[0m\u001b[1;33m\u001b[0m\u001b[0m\n\u001b[1;32m--> 561\u001b[1;33m             \u001b[1;32mreturn\u001b[0m \u001b[0mself\u001b[0m\u001b[1;33m.\u001b[0m\u001b[0m_call_chain\u001b[0m\u001b[1;33m(\u001b[0m\u001b[1;33m*\u001b[0m\u001b[0margs\u001b[0m\u001b[1;33m)\u001b[0m\u001b[1;33m\u001b[0m\u001b[1;33m\u001b[0m\u001b[0m\n\u001b[0m\u001b[0;32m    562\u001b[0m \u001b[1;33m\u001b[0m\u001b[0m\n\u001b[0;32m    563\u001b[0m \u001b[1;31m# XXX probably also want an abstract factory that knows when it makes\u001b[0m\u001b[1;33m\u001b[0m\u001b[1;33m\u001b[0m\u001b[0m\n",
      "\u001b[1;32mc:\\Users\\lbw\\anaconda3\\lib\\urllib\\request.py\u001b[0m in \u001b[0;36m_call_chain\u001b[1;34m(self, chain, kind, meth_name, *args)\u001b[0m\n\u001b[0;32m    492\u001b[0m         \u001b[1;32mfor\u001b[0m \u001b[0mhandler\u001b[0m \u001b[1;32min\u001b[0m \u001b[0mhandlers\u001b[0m\u001b[1;33m:\u001b[0m\u001b[1;33m\u001b[0m\u001b[1;33m\u001b[0m\u001b[0m\n\u001b[0;32m    493\u001b[0m             \u001b[0mfunc\u001b[0m \u001b[1;33m=\u001b[0m \u001b[0mgetattr\u001b[0m\u001b[1;33m(\u001b[0m\u001b[0mhandler\u001b[0m\u001b[1;33m,\u001b[0m \u001b[0mmeth_name\u001b[0m\u001b[1;33m)\u001b[0m\u001b[1;33m\u001b[0m\u001b[1;33m\u001b[0m\u001b[0m\n\u001b[1;32m--> 494\u001b[1;33m             \u001b[0mresult\u001b[0m \u001b[1;33m=\u001b[0m \u001b[0mfunc\u001b[0m\u001b[1;33m(\u001b[0m\u001b[1;33m*\u001b[0m\u001b[0margs\u001b[0m\u001b[1;33m)\u001b[0m\u001b[1;33m\u001b[0m\u001b[1;33m\u001b[0m\u001b[0m\n\u001b[0m\u001b[0;32m    495\u001b[0m             \u001b[1;32mif\u001b[0m \u001b[0mresult\u001b[0m \u001b[1;32mis\u001b[0m \u001b[1;32mnot\u001b[0m \u001b[1;32mNone\u001b[0m\u001b[1;33m:\u001b[0m\u001b[1;33m\u001b[0m\u001b[1;33m\u001b[0m\u001b[0m\n\u001b[0;32m    496\u001b[0m                 \u001b[1;32mreturn\u001b[0m \u001b[0mresult\u001b[0m\u001b[1;33m\u001b[0m\u001b[1;33m\u001b[0m\u001b[0m\n",
      "\u001b[1;32mc:\\Users\\lbw\\anaconda3\\lib\\urllib\\request.py\u001b[0m in \u001b[0;36mhttp_error_default\u001b[1;34m(self, req, fp, code, msg, hdrs)\u001b[0m\n\u001b[0;32m    639\u001b[0m \u001b[1;32mclass\u001b[0m \u001b[0mHTTPDefaultErrorHandler\u001b[0m\u001b[1;33m(\u001b[0m\u001b[0mBaseHandler\u001b[0m\u001b[1;33m)\u001b[0m\u001b[1;33m:\u001b[0m\u001b[1;33m\u001b[0m\u001b[1;33m\u001b[0m\u001b[0m\n\u001b[0;32m    640\u001b[0m     \u001b[1;32mdef\u001b[0m \u001b[0mhttp_error_default\u001b[0m\u001b[1;33m(\u001b[0m\u001b[0mself\u001b[0m\u001b[1;33m,\u001b[0m \u001b[0mreq\u001b[0m\u001b[1;33m,\u001b[0m \u001b[0mfp\u001b[0m\u001b[1;33m,\u001b[0m \u001b[0mcode\u001b[0m\u001b[1;33m,\u001b[0m \u001b[0mmsg\u001b[0m\u001b[1;33m,\u001b[0m \u001b[0mhdrs\u001b[0m\u001b[1;33m)\u001b[0m\u001b[1;33m:\u001b[0m\u001b[1;33m\u001b[0m\u001b[1;33m\u001b[0m\u001b[0m\n\u001b[1;32m--> 641\u001b[1;33m         \u001b[1;32mraise\u001b[0m \u001b[0mHTTPError\u001b[0m\u001b[1;33m(\u001b[0m\u001b[0mreq\u001b[0m\u001b[1;33m.\u001b[0m\u001b[0mfull_url\u001b[0m\u001b[1;33m,\u001b[0m \u001b[0mcode\u001b[0m\u001b[1;33m,\u001b[0m \u001b[0mmsg\u001b[0m\u001b[1;33m,\u001b[0m \u001b[0mhdrs\u001b[0m\u001b[1;33m,\u001b[0m \u001b[0mfp\u001b[0m\u001b[1;33m)\u001b[0m\u001b[1;33m\u001b[0m\u001b[1;33m\u001b[0m\u001b[0m\n\u001b[0m\u001b[0;32m    642\u001b[0m \u001b[1;33m\u001b[0m\u001b[0m\n\u001b[0;32m    643\u001b[0m \u001b[1;32mclass\u001b[0m \u001b[0mHTTPRedirectHandler\u001b[0m\u001b[1;33m(\u001b[0m\u001b[0mBaseHandler\u001b[0m\u001b[1;33m)\u001b[0m\u001b[1;33m:\u001b[0m\u001b[1;33m\u001b[0m\u001b[1;33m\u001b[0m\u001b[0m\n",
      "\u001b[1;31mHTTPError\u001b[0m: HTTP Error 404: Not Found"
     ]
    }
   ],
   "source": [
    "import urllib.request\n",
    "response = urllib.request.urlopen(\"http://theteamlab.io\")\n",
    "print(response.read())"
   ]
  },
  {
   "attachments": {},
   "cell_type": "markdown",
   "metadata": {},
   "source": [
    "# 패키지 만들기\n",
    "\n",
    "## 패키지의 구성\n",
    "- 대형 프로젝트를 수행하기 위한 모듈의 묶음\n",
    "- 모듈은 하나의 파일로 이루어져 있고, 패키지는 파일이 포함된 디렉터리로 구성된다\n",
    "- 여러개의 .py 파일이 하나의 디렉터리에 들어가 있는 것을 패키지라고 한다\n",
    "\n",
    "## 패키지 만들기 실습\n",
    "\n",
    "### 1단계: 디렉터리 구성하기"
   ]
  },
  {
   "cell_type": "code",
   "execution_count": 94,
   "metadata": {},
   "outputs": [],
   "source": [
    "# mkdir roboadvisor\n",
    "# cd roboadvisor\n",
    "# mkdir crawling\n",
    "# mkdir database\n",
    "# mkdir analysis"
   ]
  },
  {
   "attachments": {},
   "cell_type": "markdown",
   "metadata": {},
   "source": [
    "### 2단계: 디렉터리별로 필요한 모듈 만들기\n",
    "- 각각의 디렉터리를 하나의 패키지로 선언하기 위해서 각 디렉터리에 \\_\\_init__.py 를 추가\n",
    "- 코드를 실행하면 roboadvisor 디렉터리 안에는 \\_\\_pycache__ 라는 디렉터리가 생성되는데, 이는 파이썬의 언어적 특성으로 생기는 결과\n",
    "- \\_\\_pycache__ 디렉터리에 해당 프로그램이 작동될 때 사용하기 위한 모듈들을 컴파일하고, 그 결과를 저장\n",
    "- 생성 후 해당 모듈을 수정해도 결과가 반영되지 않고 해당 프로그램 또는 파이썬 셸이 완전히 종료된 후 수정해야 해당 모듈의 결과를 반영할 수 있다\n",
    "\n",
    "### 3단계: 디렉터리별로 \\_\\_init__.py 구성하기\n",
    "- \\_\\_init__ 은 해당 디렉터리가 파이썬의 패키지라고 선언하는 초기화 스크립트로 파이썬의 거의 모든 라이브러리에 있다\n",
    "- 패키지 개발자, 설치 시 확인해야 할 내용 등 메타데이터라고 할 수 있는 내용을 담고 있다\n",
    "\n",
    "### 4단계: \\_\\_main__.py 파일 만들기\n",
    "- 패키지 자체를 실행하기 위해서 생성\n",
    "\n",
    "### 5단계: 실행하기(패키지 이름만으로 호출하기)"
   ]
  },
  {
   "cell_type": "code",
   "execution_count": 95,
   "metadata": {},
   "outputs": [],
   "source": [
    "# 최상위 디렉터리에서 실행\n",
    "# python roboadvisor\n",
    "# series\n",
    "# parser"
   ]
  },
  {
   "attachments": {},
   "cell_type": "markdown",
   "metadata": {},
   "source": [
    "## 패키지 네임스페이스\n",
    "\n",
    "### 절대 참조\n",
    "- from roboadvisor.analysis import series\n",
    "- 전체 경로를 모두 입력하는 것을 절대 참조라고 한다\n",
    "\n",
    "### 상대 참조\n",
    "- 현재 디렉터리를 기준으로 모듈을 호출하는 것"
   ]
  },
  {
   "cell_type": "code",
   "execution_count": null,
   "metadata": {},
   "outputs": [],
   "source": [
    "# from .series import series_test\n",
    "# from ..crawling.parser import parser_test"
   ]
  },
  {
   "attachments": {},
   "cell_type": "markdown",
   "metadata": {},
   "source": [
    "- . = 현재 디렉터리\n",
    "- .. = 부모 디렉터리"
   ]
  },
  {
   "attachments": {},
   "cell_type": "markdown",
   "metadata": {},
   "source": [
    "# 가상환경 사용하기\n",
    "\n",
    "## 가상환경의 개념\n",
    "- 패키지를 설치할 때 서로 다른 프로젝트가 영향을 받지 않도록 독립적인 프로젝트 수행 환경을 구성하는 것을 가상환경이라고 한다\n",
    "\n",
    "## 가상환경 설정하기\n",
    "\n",
    "### 가상환경 만들기\n",
    "- conda create -n my_project python=3.4\n",
    "\n",
    "### 가상환경 실행하기\n",
    "- activate my_project\n",
    "- deactivate\n",
    "\n",
    "### 가상환경 패키지 설치하기\n",
    "- conda install matplotlib\n",
    "\n",
    "### 가상환경 패키지 실습하기"
   ]
  },
  {
   "cell_type": "code",
   "execution_count": 96,
   "metadata": {},
   "outputs": [],
   "source": [
    "# import matpplotllib.pyplot as plt\n",
    "# plt.plot([1, 2, 3, 4])\n",
    "# plt.ylabel('some numbers')\n",
    "# plt.show()"
   ]
  },
  {
   "attachments": {},
   "cell_type": "markdown",
   "metadata": {},
   "source": [
    "# 예외 처리\n",
    "\n",
    "## 예외의 개념의 사례\n",
    "- 예외란 프로그램을 개발하면서 예상하지 못한 상황이 발생하는 것\n",
    "\n",
    "## 예측 가능한 예외와 예측 불가능한 예외\n",
    "\n",
    "### 예측 가능한 예외\n",
    "- 발생 여부를 개발자가 사전에 인지할 수 있는 예외, 매우 쉽게 대응 가능\n",
    "\n",
    "### 예측 불가능한 예외\n",
    "- 대표적으로 매우 많은 파일을 처리할 때 발생할 수 있다\n",
    "- 제품의 완성도를 높이는 차원에서 매우 중요한 개념\n",
    "\n",
    "## 예외 처리 구문\n",
    "\n",
    "### try-except 구문"
   ]
  },
  {
   "cell_type": "code",
   "execution_count": 97,
   "metadata": {},
   "outputs": [
    {
     "name": "stdout",
     "output_type": "stream",
     "text": [
      "Not divided by 0\n",
      "10.0\n",
      "5.0\n",
      "3.3333333333333335\n",
      "2.5\n",
      "2.0\n",
      "1.6666666666666667\n",
      "1.4285714285714286\n",
      "1.25\n",
      "1.1111111111111112\n"
     ]
    }
   ],
   "source": [
    "for i in range(10):\n",
    "    try:\n",
    "        print(10 / i)\n",
    "    except ZeroDivisionError:\n",
    "        print(\"Not divided by 0\")"
   ]
  },
  {
   "attachments": {},
   "cell_type": "markdown",
   "metadata": {},
   "source": [
    "- try 문이 for 문 밖으로 나갈 경우 반복문 전체가 종료된다\n",
    "\n",
    "### try-except-else 문"
   ]
  },
  {
   "cell_type": "code",
   "execution_count": 98,
   "metadata": {},
   "outputs": [
    {
     "name": "stdout",
     "output_type": "stream",
     "text": [
      "Not divided by 0\n",
      "10.0\n",
      "5.0\n",
      "3.3333333333333335\n",
      "2.5\n",
      "2.0\n",
      "1.6666666666666667\n",
      "1.4285714285714286\n",
      "1.25\n",
      "1.1111111111111112\n"
     ]
    }
   ],
   "source": [
    "for i in range(10):\n",
    "    try:\n",
    "        result = 10 / i\n",
    "    except ZeroDivisionError:\n",
    "        print(\"Not divided by 0\")\n",
    "    else:\n",
    "        print(10/i)"
   ]
  },
  {
   "attachments": {},
   "cell_type": "markdown",
   "metadata": {},
   "source": [
    "### try-except-finally 문"
   ]
  },
  {
   "cell_type": "code",
   "execution_count": 99,
   "metadata": {},
   "outputs": [
    {
     "name": "stdout",
     "output_type": "stream",
     "text": [
      "10\n",
      "5\n",
      "3\n",
      "2\n",
      "2\n",
      "1\n",
      "1\n",
      "1\n",
      "1\n",
      "종료되었다.\n"
     ]
    }
   ],
   "source": [
    "try:\n",
    "    for i in range(1, 10):\n",
    "        result = 10 // i\n",
    "        print(result)\n",
    "except ZeroDivisionError:\n",
    "    print(\"Not divided by 0\")\n",
    "finally:\n",
    "    print(\"종료되었다.\")"
   ]
  },
  {
   "attachments": {},
   "cell_type": "markdown",
   "metadata": {},
   "source": [
    "### raise 문"
   ]
  },
  {
   "cell_type": "code",
   "execution_count": 100,
   "metadata": {},
   "outputs": [
    {
     "name": "stdout",
     "output_type": "stream",
     "text": [
      "정수값으로 변환된 숫자- 3\n"
     ]
    },
    {
     "ename": "ValueError",
     "evalue": "숫자값을 입력하지 않았습니다.",
     "output_type": "error",
     "traceback": [
      "\u001b[1;31m---------------------------------------------------------------------------\u001b[0m",
      "\u001b[1;31mValueError\u001b[0m                                Traceback (most recent call last)",
      "\u001b[1;32m~\\AppData\\Local\\Temp\\ipykernel_6140\\2972940487.py\u001b[0m in \u001b[0;36m<module>\u001b[1;34m\u001b[0m\n\u001b[0;32m      3\u001b[0m     \u001b[1;32mfor\u001b[0m \u001b[0mdigit\u001b[0m \u001b[1;32min\u001b[0m \u001b[0mvalue\u001b[0m\u001b[1;33m:\u001b[0m\u001b[1;33m\u001b[0m\u001b[1;33m\u001b[0m\u001b[0m\n\u001b[0;32m      4\u001b[0m         \u001b[1;32mif\u001b[0m \u001b[0mdigit\u001b[0m \u001b[1;32mnot\u001b[0m \u001b[1;32min\u001b[0m \u001b[1;34m\"0123456789\"\u001b[0m\u001b[1;33m:\u001b[0m\u001b[1;33m\u001b[0m\u001b[1;33m\u001b[0m\u001b[0m\n\u001b[1;32m----> 5\u001b[1;33m             \u001b[1;32mraise\u001b[0m \u001b[0mValueError\u001b[0m\u001b[1;33m(\u001b[0m\u001b[1;34m\"숫자값을 입력하지 않았습니다.\"\u001b[0m\u001b[1;33m)\u001b[0m\u001b[1;33m\u001b[0m\u001b[1;33m\u001b[0m\u001b[0m\n\u001b[0m\u001b[0;32m      6\u001b[0m     \u001b[0mprint\u001b[0m\u001b[1;33m(\u001b[0m\u001b[1;34m\"정수값으로 변환된 숫자-\"\u001b[0m\u001b[1;33m,\u001b[0m \u001b[0mint\u001b[0m\u001b[1;33m(\u001b[0m\u001b[0mvalue\u001b[0m\u001b[1;33m)\u001b[0m\u001b[1;33m)\u001b[0m\u001b[1;33m\u001b[0m\u001b[1;33m\u001b[0m\u001b[0m\n",
      "\u001b[1;31mValueError\u001b[0m: 숫자값을 입력하지 않았습니다."
     ]
    }
   ],
   "source": [
    "while True:\n",
    "    value = input(\"변환할 정수값을 입력해 주세요: \")\n",
    "    for digit in value:\n",
    "        if digit not in \"0123456789\":\n",
    "            raise ValueError(\"숫자값을 입력하지 않았습니다.\")\n",
    "    print(\"정수값으로 변환된 숫자-\", int(value))"
   ]
  },
  {
   "attachments": {},
   "cell_type": "markdown",
   "metadata": {},
   "source": [
    "### assert 문"
   ]
  },
  {
   "cell_type": "code",
   "execution_count": 101,
   "metadata": {},
   "outputs": [
    {
     "name": "stdout",
     "output_type": "stream",
     "text": [
      "0b1010\n"
     ]
    },
    {
     "ename": "AssertionError",
     "evalue": "",
     "output_type": "error",
     "traceback": [
      "\u001b[1;31m---------------------------------------------------------------------------\u001b[0m",
      "\u001b[1;31mAssertionError\u001b[0m                            Traceback (most recent call last)",
      "\u001b[1;32m~\\AppData\\Local\\Temp\\ipykernel_6140\\1370056931.py\u001b[0m in \u001b[0;36m<module>\u001b[1;34m\u001b[0m\n\u001b[0;32m      3\u001b[0m     \u001b[1;32mreturn\u001b[0m \u001b[0mbin\u001b[0m\u001b[1;33m(\u001b[0m\u001b[0mdecimal_number\u001b[0m\u001b[1;33m)\u001b[0m\u001b[1;33m\u001b[0m\u001b[1;33m\u001b[0m\u001b[0m\n\u001b[0;32m      4\u001b[0m \u001b[0mprint\u001b[0m\u001b[1;33m(\u001b[0m\u001b[0mget_binary_nmubmer\u001b[0m\u001b[1;33m(\u001b[0m\u001b[1;36m10\u001b[0m\u001b[1;33m)\u001b[0m\u001b[1;33m)\u001b[0m\u001b[1;33m\u001b[0m\u001b[1;33m\u001b[0m\u001b[0m\n\u001b[1;32m----> 5\u001b[1;33m \u001b[0mprint\u001b[0m\u001b[1;33m(\u001b[0m\u001b[0mget_binary_nmubmer\u001b[0m\u001b[1;33m(\u001b[0m\u001b[1;34m\"10\"\u001b[0m\u001b[1;33m)\u001b[0m\u001b[1;33m)\u001b[0m\u001b[1;33m\u001b[0m\u001b[1;33m\u001b[0m\u001b[0m\n\u001b[0m",
      "\u001b[1;32m~\\AppData\\Local\\Temp\\ipykernel_6140\\1370056931.py\u001b[0m in \u001b[0;36mget_binary_nmubmer\u001b[1;34m(decimal_number)\u001b[0m\n\u001b[0;32m      1\u001b[0m \u001b[1;32mdef\u001b[0m \u001b[0mget_binary_nmubmer\u001b[0m\u001b[1;33m(\u001b[0m\u001b[0mdecimal_number\u001b[0m\u001b[1;33m)\u001b[0m\u001b[1;33m:\u001b[0m\u001b[1;33m\u001b[0m\u001b[1;33m\u001b[0m\u001b[0m\n\u001b[1;32m----> 2\u001b[1;33m     \u001b[1;32massert\u001b[0m \u001b[0misinstance\u001b[0m\u001b[1;33m(\u001b[0m\u001b[0mdecimal_number\u001b[0m\u001b[1;33m,\u001b[0m \u001b[0mint\u001b[0m\u001b[1;33m)\u001b[0m\u001b[1;33m\u001b[0m\u001b[1;33m\u001b[0m\u001b[0m\n\u001b[0m\u001b[0;32m      3\u001b[0m     \u001b[1;32mreturn\u001b[0m \u001b[0mbin\u001b[0m\u001b[1;33m(\u001b[0m\u001b[0mdecimal_number\u001b[0m\u001b[1;33m)\u001b[0m\u001b[1;33m\u001b[0m\u001b[1;33m\u001b[0m\u001b[0m\n\u001b[0;32m      4\u001b[0m \u001b[0mprint\u001b[0m\u001b[1;33m(\u001b[0m\u001b[0mget_binary_nmubmer\u001b[0m\u001b[1;33m(\u001b[0m\u001b[1;36m10\u001b[0m\u001b[1;33m)\u001b[0m\u001b[1;33m)\u001b[0m\u001b[1;33m\u001b[0m\u001b[1;33m\u001b[0m\u001b[0m\n\u001b[0;32m      5\u001b[0m \u001b[0mprint\u001b[0m\u001b[1;33m(\u001b[0m\u001b[0mget_binary_nmubmer\u001b[0m\u001b[1;33m(\u001b[0m\u001b[1;34m\"10\"\u001b[0m\u001b[1;33m)\u001b[0m\u001b[1;33m)\u001b[0m\u001b[1;33m\u001b[0m\u001b[1;33m\u001b[0m\u001b[0m\n",
      "\u001b[1;31mAssertionError\u001b[0m: "
     ]
    }
   ],
   "source": [
    "def get_binary_nmubmer(decimal_number):\n",
    "    assert isinstance(decimal_number, int)\n",
    "    return bin(decimal_number)\n",
    "print(get_binary_nmubmer(10))\n",
    "print(get_binary_nmubmer(\"10\"))"
   ]
  },
  {
   "attachments": {},
   "cell_type": "markdown",
   "metadata": {},
   "source": [
    "# 파일 다루기\n",
    "\n",
    "## 파일의 개념\n",
    "- 컴퓨터를 실행할 때 가장 기본이 되는 단위\n",
    "\n",
    "## 파일의 종류\n",
    "- 기본적으로 바이너리 파일, 텍스트 파일, 두 가지로 분류할 수 있다\n",
    "- 파이너리 파일 = 비트 형태로 저장되어 메모장으로 열면 내용이 보이지 않거나 내용을 확인할 수 없는 파일\n",
    "- 텍스트 파일 = 문자열로 저장된 파일\n",
    "\n",
    "## 파일 읽기\n",
    "\n",
    "### 파일 읽기 실행하기"
   ]
  },
  {
   "cell_type": "code",
   "execution_count": 102,
   "metadata": {},
   "outputs": [
    {
     "name": "stdout",
     "output_type": "stream",
     "text": [
      "I have a dream a song to sing\n",
      "to help me cope with anything\n",
      "if you see the wonder of a fairy tale\n",
      "you can take the future even\n",
      "if you fail I believe in angels\n",
      "something good in everything\n",
      "\n"
     ]
    }
   ],
   "source": [
    "f = open(\"dream.txt\", \"r\")\n",
    "contents = f.read()\n",
    "print(contents)\n",
    "f.close()"
   ]
  },
  {
   "attachments": {},
   "cell_type": "markdown",
   "metadata": {},
   "source": [
    "### with 문과 함께 사용하기"
   ]
  },
  {
   "cell_type": "code",
   "execution_count": 103,
   "metadata": {},
   "outputs": [
    {
     "name": "stdout",
     "output_type": "stream",
     "text": [
      "<class 'str'> I have a dream a song to sing\n",
      "to help me cope with anything\n",
      "if you see the wonder of a fairy tale\n",
      "you can take the future even\n",
      "if you fail I believe in angels\n",
      "something good in everything\n",
      "\n"
     ]
    }
   ],
   "source": [
    "with open(\"dream.txt\", \"r\") as my_file:\n",
    "    contents = my_file.read()\n",
    "    print(type(contents), contents)"
   ]
  },
  {
   "attachments": {},
   "cell_type": "markdown",
   "metadata": {},
   "source": [
    "### 한 줄씩 읽어 리스트형으로 반환하기"
   ]
  },
  {
   "cell_type": "code",
   "execution_count": 104,
   "metadata": {},
   "outputs": [
    {
     "name": "stdout",
     "output_type": "stream",
     "text": [
      "<class 'list'>\n",
      "['I have a dream a song to sing\\n', 'to help me cope with anything\\n', 'if you see the wonder of a fairy tale\\n', 'you can take the future even\\n', 'if you fail I believe in angels\\n', 'something good in everything\\n']\n"
     ]
    }
   ],
   "source": [
    "with open(\"dream.txt\", \"r\") as my_file:\n",
    "    content_list = my_file.readlines()\n",
    "    print(type(content_list))\n",
    "    print(content_list)"
   ]
  },
  {
   "attachments": {},
   "cell_type": "markdown",
   "metadata": {},
   "source": [
    "### 실행할 때마다 한 줄씩 읽어 오기"
   ]
  },
  {
   "cell_type": "code",
   "execution_count": 105,
   "metadata": {},
   "outputs": [
    {
     "name": "stdout",
     "output_type": "stream",
     "text": [
      "0 === I have a dream a song to sing\n",
      "\n",
      "1 === to help me cope with anything\n",
      "\n",
      "2 === if you see the wonder of a fairy tale\n",
      "\n",
      "3 === you can take the future even\n",
      "\n",
      "4 === if you fail I believe in angels\n",
      "\n",
      "5 === something good in everything\n",
      "\n"
     ]
    }
   ],
   "source": [
    "with open(\"dream.txt\", \"r\") as my_file:\n",
    "    i = 0\n",
    "    while 1:\n",
    "        line = my_file.readline()\n",
    "        if not line:\n",
    "            break\n",
    "        print(str(i)+\" === \"+ line.replace(\"/n\", \"\"))\n",
    "        i = i + 1"
   ]
  },
  {
   "attachments": {},
   "cell_type": "markdown",
   "metadata": {},
   "source": [
    "### 파일 안 글자의 통계 정보 출력하기"
   ]
  },
  {
   "cell_type": "code",
   "execution_count": 106,
   "metadata": {},
   "outputs": [
    {
     "name": "stdout",
     "output_type": "stream",
     "text": [
      "총 글자의 수: 188\n",
      "총 단어의 수: 35\n",
      "총 줄의 수: 7\n"
     ]
    }
   ],
   "source": [
    "with open(\"dream.txt\", \"r\") as my_file:\n",
    "    contents = my_file.read()\n",
    "    word_list = contents.split(\" \")             # 빈칸 기준으로 단어를 분리 리스트\n",
    "    line_list = contents.split(\"\\n\")            # 한 줄씩 분리하여 리스트\n",
    "\n",
    "print(\"총 글자의 수:\", len(contents))\n",
    "print(\"총 단어의 수:\", len(word_list))\n",
    "print(\"총 줄의 수:\", len(line_list))"
   ]
  },
  {
   "attachments": {},
   "cell_type": "markdown",
   "metadata": {},
   "source": [
    "## 파일 쓰기"
   ]
  }
 ],
 "metadata": {
  "kernelspec": {
   "display_name": "base",
   "language": "python",
   "name": "python3"
  },
  "language_info": {
   "codemirror_mode": {
    "name": "ipython",
    "version": 3
   },
   "file_extension": ".py",
   "mimetype": "text/x-python",
   "name": "python",
   "nbconvert_exporter": "python",
   "pygments_lexer": "ipython3",
   "version": "3.9.13"
  },
  "orig_nbformat": 4,
  "vscode": {
   "interpreter": {
    "hash": "be2517f0feb489e290cccb74b7dabccd7b6a1f197c02cc458b833651a31ac115"
   }
  }
 },
 "nbformat": 4,
 "nbformat_minor": 2
}
