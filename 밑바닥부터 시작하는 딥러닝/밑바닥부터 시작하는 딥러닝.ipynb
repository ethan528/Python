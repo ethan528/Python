{
 "cells": [
  {
   "attachments": {},
   "cell_type": "markdown",
   "metadata": {},
   "source": [
    "# 퍼셉트론\n",
    "\n",
    "## 퍼셉트론이란?\n",
    "- 다수의 신호를 입력으로 받아 하나의 신호를 출력\n",
    "- 신호 = 흐름을 만들고 정보를 앞으로 전달, 1 = 신호가 흐른다, 0 = 신호가 흐르지 않는다\n",
    "- 뉴런에서 보내온 신호의 총합이 정해진 한계를 넘어설 때만 1을 출력 = 뉴런이 활성화한다고 표현하기도 함\n",
    "- $\\theta$(세타) = 임계값, 정해진 한계\n",
    "- 퍼셉트론은 복수의 입력 신호 각각에 고유한 가중치를 부여\n",
    "- $w$(가중치) = 각 신호가결과에 주는 영향력을 조절하는 요소, 가중치가 높을 수록 중요한 신호\n",
    "\n",
    "## 단순한 논리 회로\n",
    "\n",
    "### AND 게이트\n",
    "- AND 게이트 = 입력이 둘 출력은 하나, 두 입력이 모두 1일 때만 1을 출력하고, 그 외에는 0을 출력\n",
    "- 진리표 = 입력 신호와 출력 신호의 대응 표\n",
    "\n",
    "### NAND 게이트와 OR 게이트\n",
    "- NAND = Not AND, AND 게이트의 출력을 뒤집은 것처럼 동작, 두 입력이 모두 1일 때만 0 출력, 그 외에는 1 출력\n",
    "- AND 게이트를 구현하는 매개변수의 부호를 모두 반전하면 NAND 게이트가 된다\n",
    "- OR 게이트는 입력 신호 중 하나 이상이 1이면 출력이 1이 되는 논리 회로\n",
    "- 퍼셉트론으로 AND, NAND, OR 논리 회로를 표현할 수 있으나, 퍼셉트론의 구조는 모두 똑같다\n",
    "- 다른 것은 매개변수(가중치와 임계값)의 값뿐이다, 똑같은 구조의 퍼셉트론이 매개변수의 값만 적절히 조정한 것\n",
    "\n",
    "## 퍼셉트론 구현하기\n",
    "\n",
    "### 간단한 구현부터"
   ]
  },
  {
   "cell_type": "code",
   "execution_count": 1,
   "metadata": {},
   "outputs": [],
   "source": [
    "def AND(x1, x2):\n",
    "    w1, w2, theta = 0.5, 0.5, 0.7\n",
    "    tmp = x1*w1 + x2*w2 # 가중치를 곱한 입력의 총 합\n",
    "    if tmp <= theta:\n",
    "        return 0\n",
    "    elif tmp > theta:\n",
    "        return 1"
   ]
  },
  {
   "cell_type": "code",
   "execution_count": 2,
   "metadata": {},
   "outputs": [
    {
     "name": "stdout",
     "output_type": "stream",
     "text": [
      "0\n",
      "0\n",
      "0\n",
      "1\n"
     ]
    }
   ],
   "source": [
    "print(AND(0, 0))\n",
    "print(AND(1, 0))\n",
    "print(AND(0, 1))\n",
    "print(AND(1, 1))"
   ]
  },
  {
   "attachments": {},
   "cell_type": "markdown",
   "metadata": {},
   "source": [
    "### 가중치와 편향 도입"
   ]
  },
  {
   "cell_type": "code",
   "execution_count": 3,
   "metadata": {},
   "outputs": [
    {
     "name": "stdout",
     "output_type": "stream",
     "text": [
      "[0.  0.5]\n",
      "0.5\n",
      "-0.19999999999999996\n"
     ]
    }
   ],
   "source": [
    "import numpy as np\n",
    "x = np.array([0, 1]) # 입력\n",
    "w = np.array([0.5, 0.5]) # 가중치\n",
    "b = -0.7 # 편향\n",
    "print(w*x) # 넘파이 배열끼리의 곱셈은 원소 수가 같아면 각 원소끼리 곱한다\n",
    "print(np.sum(w*x)) # np.sum() 메서드는 입력한 배열에담긴 모든 원소의 총합을 계산\n",
    "print(np.sum(w*x) + b) # 이 가중치에 편향을 더하면 계산 완료"
   ]
  },
  {
   "attachments": {},
   "cell_type": "markdown",
   "metadata": {},
   "source": [
    "### 가중치와 편향 구하기"
   ]
  },
  {
   "cell_type": "code",
   "execution_count": 4,
   "metadata": {},
   "outputs": [],
   "source": [
    "def AND(x1, x2):\n",
    "    x = np.array([x1, x2])\n",
    "    w = np.array([0.5, 0.5])\n",
    "    b = -0.7\n",
    "    tmp = np.sum(w*x) + b\n",
    "    if tmp <= 0:\n",
    "        return 0\n",
    "    else:\n",
    "        return 1"
   ]
  },
  {
   "attachments": {},
   "cell_type": "markdown",
   "metadata": {},
   "source": [
    "- 가중치 = 각 입력 신호가 결과에 주는 영향력(중요도)을 조절하는 매개변수\n",
    "- $b$(편향) = 뉴런이 얼마나 쉽게 활성화(결과로 1을 출력)하느냐를 조정하는 매개변수\n",
    "- $b$ 가 -0.1일 경우 각 입력 신호에 가중치를 곱한 값들의 합이 0.1을 초과할 때만 뉴런이 활성화\n",
    "- $w$(가중치), $b$(편향) 으로 구별하기도 하지만 모두 가중치라고 하기도 함"
   ]
  },
  {
   "cell_type": "code",
   "execution_count": 5,
   "metadata": {},
   "outputs": [],
   "source": [
    "def NAND(x1, x2):\n",
    "    x = np.array([x1, x2])\n",
    "    w = np.array([-0.5, -0.5]) # AND 와는 가중치(w 와 b)만 다르다\n",
    "    b = 0.7\n",
    "    tmp = np.sum(w*x) + b\n",
    "    if tmp <= 0:\n",
    "        return 0\n",
    "    else:\n",
    "        return 1\n",
    "    \n",
    "def OR(x1, x2):\n",
    "    x = np.array([x1, x2])\n",
    "    w = np.array([0.5, 0.5])\n",
    "    b = -0.2  # AND 와는 가중치(w 와 b)만 다르다\n",
    "    tmp = np.sum(w*x) + b\n",
    "    if tmp <= 0:\n",
    "        return 0\n",
    "    else:\n",
    "        return 1"
   ]
  },
  {
   "attachments": {},
   "cell_type": "markdown",
   "metadata": {},
   "source": [
    "## 퍼셉트론의 한계\n",
    "\n",
    "### 도전! XOR 게이트\n",
    "- XOR 게이트 = 배타적 논리합이라는 논리 회로\n",
    "- XOR 게이트는 직선 하나로 나눌 수 없음\n",
    "\n",
    "### 선형과 비선형\n",
    "- 퍼셉트론은 직선 하나로 나눈 영역만 표현할 수 있다는 한계가 있다\n",
    "\n",
    "## 다층 퍼셉트론이 출동한다면\n",
    "- 층을 쌓아 다층 퍼셉트론을 만들 수 있다\n",
    "\n",
    "### 기존 게이트 조합하기\n",
    "- 단층 퍼셉트론으로는 XOR 게이트를 표현할 수 없다, 단층 퍼셉트론으로는 비선형 영역을분리할 수 없다\n",
    "- 각 입력 신호가 NAND 와 OR 게이트의 입력이 되고, NAND 와 OR 의 출력이 AND 게이트의 입력으로 이어진다\n",
    "\n",
    "### XOR 게이트 구현하기"
   ]
  },
  {
   "cell_type": "code",
   "execution_count": 6,
   "metadata": {},
   "outputs": [],
   "source": [
    "def XOR(x1, x2):\n",
    "    s1 = NAND(x1, x2)\n",
    "    s2 = OR(x1, x2)\n",
    "    y = AND(s1, s2)\n",
    "    return y"
   ]
  },
  {
   "cell_type": "code",
   "execution_count": 7,
   "metadata": {},
   "outputs": [
    {
     "name": "stdout",
     "output_type": "stream",
     "text": [
      "0\n",
      "1\n",
      "1\n",
      "0\n"
     ]
    }
   ],
   "source": [
    "print(XOR(0, 0))\n",
    "print(XOR(1, 0))\n",
    "print(XOR(0, 1))\n",
    "print(XOR(1, 1))"
   ]
  },
  {
   "attachments": {},
   "cell_type": "markdown",
   "metadata": {},
   "source": [
    "- XOR 은 2층 퍼셉트론, 이처럼 층이 여러개인 퍼셉트론을 다층 퍼셉트론이라 한다\n",
    "- 단층 퍼셉트론으로 표현하지 못한 것을 층을 하나 늘리면 구현 가능\n",
    "\n",
    "## NAND 에서 컴퓨터까지\n",
    "- 이론상 2층 퍼셉트론이면 컴퓨터를 만들 수 있다\n",
    "- 퍼셉트론은 층을 거듭 쌓으면 비선형적인 표현도 가능하고, 이론상 컴퓨터가 수행하는 처리도 모두 표현할 수 있다\n",
    "\n",
    "## 정리\n",
    "- 퍼셉트론은 입출력을 갖춘 알고리즘으로 입력을 주면 정해진 규칙에 따른 값을 출력\n",
    "- 퍼셉트론에서는 가중치와 편향을 매개변수로 설정\n",
    "- 퍼셉트론으로 AND, OR 게이트 등의 논리 회로를 표현할 수 있다\n",
    "- XOR 게이트는 단층 퍼셉트론으로는 표현할 수 없다\n",
    "- 2층 퍼셉트론을 이용하면 XOR 게이트를 표현할 수 있다\n",
    "- 단층 퍼셉트론은 직선형 영역만 표현할 수 있고, 다층 퍼셉트론은 비선형 영역도 표현할 수 있다\n",
    "- 다층 퍼셉트론은 이론상 컴퓨터를 표현할 수 있다"
   ]
  },
  {
   "attachments": {},
   "cell_type": "markdown",
   "metadata": {},
   "source": [
    "# 신경망\n",
    "\n",
    "## 퍼셉트론에서 신경망으로\n",
    "\n",
    "### 신경망의 예\n",
    "- 입력층, 은닉층, 출력층으로 구성\n",
    "- 은닉층의 뉴런은 사람의 눈에는 보이지 않는다\n",
    "- 뉴련이 연결되는 방식은 퍼셉트론과 같ㅌ다\n",
    "\n",
    "### 퍼셉트론 복습\n",
    "- $x_1, x_2$ 라는 두 신호를 입력받나 $y$ 를 출력하는 퍼셉트론\n",
    "    - $y = \\begin{cases}0(b+w_1x_1+w_2x_2\\leq0) \\\\ 1(b+w_1x_1+w_2x_2\\gt0)\\end{cases}$\n",
    "- 여기서 $b$ 을 명시할 경우 입력이 1인 뉴런이 추가된다, 편향의 입력 신호는 항상 1\n",
    "- 조건 분기의 동작(0을 넘으면 1, 그렇지 않으면 0을 출력)을 $h(x)$ 라는 하나의 함수로 표현\n",
    "    - $y = h(b+w_1x_1+w_2x_2)$\n",
    "    - $h(x) = \\begin{cases}0(x\\leq0) \\\\ 1(x\\gt0) \\end{cases}$\n",
    "    - 입력 신호의 총합이 $h(x)$ 라는 함수를 거쳐 변환되어, 그 변환된 값이 $y$ 의 출력이 된다\n",
    "\n",
    "### 활성화 함수의 등장\n",
    "- $h(x)$ 처럼 입력 신호의 총합을 출력 신호로 변환하는 함수를 일반적으로 호라성화 함수라 한다\n",
    "- 활성화 함수는 입력 신호의 총합이 활성화를 일으키는지 정하는 역할\n",
    "- 가중치가 곱해진 입력 신호의 총합을 계산하고, 그 합을 활성화 함수에 입력해 결과를 내는 2단계로 처리된다\n",
    "    - $a = b+w_1x_1+w_2x_2$\n",
    "    - $y = h(a)$\n",
    "    - 가중치가 달린 입력 신호와 편향의 총합을 계산한 $a$ 를 함수 $h()$ 에 넣어 $y$ 를 출력\n",
    "- 가중치 신호를 조합한 결과가 $a$ 라는 노드가 되고, 활성화 함수 $h()$ 를 통과하여 $y$ 라는 노드로 변환되는 과정\n",
    "\n",
    "## 활성화 함수\n",
    "- 계단 함수 = 임계값을 경계로 출력이 바뀌는 활성화 함수\n",
    "\n",
    "### 시그모이드 함수\n",
    "- 시그모이드 함수를 나타낸 식\n",
    "    - $h(x) = \\frac{1}{1+exp(-x)}$\n",
    "    - $exp(-x)$ 는 $e^-x$ 를 뜻하며 $e$ 는 자연상수로 2.7182.. 의 값을 ㄱ자는 실수\n",
    "    - 시그모이드 함수에 1.0과 2.0을 입력하면 $h(1.0) = 0.731...$, $h(2.0) = 0.880...$ 처럼 특정 값을 출력\n",
    "- 신경망에서 활성화 함수로 시그모이드 함수를 이용하여 신호를 변환하고, 그 변환된 신호를 다음 뉴턴에 전달\n",
    "- 퍼셉트론과 신경망의 주된 차이는 활성화 함수, 그 외 뉴런이 여러 층으로 이어지는 구조와 전달하는 방법은 기본적으로 퍼셉트론과 같다\n",
    "\n",
    "### 계단 함수 구현하기"
   ]
  },
  {
   "cell_type": "code",
   "execution_count": 8,
   "metadata": {},
   "outputs": [],
   "source": [
    "def step_function(x):\n",
    "    if x > 0:\n",
    "        return 1\n",
    "    else:\n",
    "        return 0"
   ]
  },
  {
   "attachments": {},
   "cell_type": "markdown",
   "metadata": {},
   "source": [
    "- 인수 x 는 실수(부동소수점)만 받아들인다"
   ]
  },
  {
   "cell_type": "code",
   "execution_count": 9,
   "metadata": {},
   "outputs": [],
   "source": [
    "def step_function(x):\n",
    "    y = x> 0\n",
    "    return y.astype(np.int)"
   ]
  },
  {
   "attachments": {},
   "cell_type": "markdown",
   "metadata": {},
   "source": [
    "- 넘파이 배열도 지원하도록 수정한 것"
   ]
  },
  {
   "cell_type": "code",
   "execution_count": 10,
   "metadata": {},
   "outputs": [
    {
     "name": "stdout",
     "output_type": "stream",
     "text": [
      "[-1.  1.  2.]\n",
      "[False  True  True]\n"
     ]
    }
   ],
   "source": [
    "import numpy as np\n",
    "x = np.array([-1.0, 1.0, 2.0])\n",
    "print(x)\n",
    "y = x>0\n",
    "print(y)"
   ]
  },
  {
   "attachments": {},
   "cell_type": "markdown",
   "metadata": {},
   "source": [
    "- 넘파이 배열에 부등호 연산을 수행하면 배열의 원소 각각에 부등호 연산을 수행한 bool 배열이 생성된다\n",
    "- 배열 x 의 원소 각각이 0보다 크면 True, 0 이하면 False 로 변환한 새로운 배열 y 가 생성된다"
   ]
  },
  {
   "cell_type": "code",
   "execution_count": 11,
   "metadata": {},
   "outputs": [
    {
     "name": "stdout",
     "output_type": "stream",
     "text": [
      "[0 1 1]\n"
     ]
    },
    {
     "name": "stderr",
     "output_type": "stream",
     "text": [
      "C:\\Users\\lbw\\AppData\\Local\\Temp\\ipykernel_6216\\4147947644.py:1: DeprecationWarning: `np.int` is a deprecated alias for the builtin `int`. To silence this warning, use `int` by itself. Doing this will not modify any behavior and is safe. When replacing `np.int`, you may wish to use e.g. `np.int64` or `np.int32` to specify the precision. If you wish to review your current use, check the release note link for additional information.\n",
      "Deprecated in NumPy 1.20; for more details and guidance: https://numpy.org/devdocs/release/1.20.0-notes.html#deprecations\n",
      "  y = y.astype(np.int)\n"
     ]
    }
   ],
   "source": [
    "y = y.astype(np.int)\n",
    "print(y)"
   ]
  },
  {
   "attachments": {},
   "cell_type": "markdown",
   "metadata": {},
   "source": [
    "- 계단 함수는 0이나 1의 int 형을 출력하는 함수기에 배열 y 의 원소를 bool 에서 int 형으로 바꾼다\n",
    "- astype() 메서드로 배열의 자료형 변환\n",
    "- bool 을 int 로 변환하면 True 는 1, False 는 0으로 변환\n",
    "\n",
    "### 계단 함수의 그래프"
   ]
  },
  {
   "cell_type": "code",
   "execution_count": 12,
   "metadata": {},
   "outputs": [
    {
     "name": "stderr",
     "output_type": "stream",
     "text": [
      "C:\\Users\\lbw\\AppData\\Local\\Temp\\ipykernel_6216\\739440373.py:5: DeprecationWarning: `np.int` is a deprecated alias for the builtin `int`. To silence this warning, use `int` by itself. Doing this will not modify any behavior and is safe. When replacing `np.int`, you may wish to use e.g. `np.int64` or `np.int32` to specify the precision. If you wish to review your current use, check the release note link for additional information.\n",
      "Deprecated in NumPy 1.20; for more details and guidance: https://numpy.org/devdocs/release/1.20.0-notes.html#deprecations\n",
      "  return np.array(x > 0, dtype=np.int)\n"
     ]
    },
    {
     "data": {
      "image/png": "[encoded data removed]",
      "text/plain": [
       "<Figure size 640x480 with 1 Axes>"
      ]
     },
     "metadata": {},
     "output_type": "display_data"
    }
   ],
   "source": [
    "import numpy as np\n",
    "import matplotlib.pylab as plt\n",
    "\n",
    "def step_function(x):\n",
    "    return np.array(x > 0, dtype=np.int)\n",
    "\n",
    "x = np.arange(-5.0, 5.0, 0.1)\n",
    "y = step_function(x)\n",
    "plt.plot(x, y)\n",
    "plt.ylim(-0.1, 1.1) # y 축의 범위 지정\n",
    "plt.show()"
   ]
  },
  {
   "attachments": {},
   "cell_type": "markdown",
   "metadata": {},
   "source": [
    "- np.arange(-5.0, 5.0, 0.1) 은 -5.0에서 5.0까지 0.1 간격의 넘파이 배열을 생성\n",
    "- step_function() 은 인수로 받은 넘파이 배열의 원소 각각을 인수로 계단 함수를 실행해, 그 결과를 다시 배열로 만들어 돌려준다\n",
    "- 그래프처럼 계단 함수는 0을 경계로 출력이 0에서 1(또는 1에서 0)로 바뀐다, 그 형태가 계단 같아서 계단 함수라 불린다\n",
    "\n",
    "### 시그모이드 함수 구현하기"
   ]
  },
  {
   "cell_type": "code",
   "execution_count": 13,
   "metadata": {},
   "outputs": [],
   "source": [
    "def sigmoid(x):\n",
    "    return 1/ (1 + np.exp(-x))"
   ]
  },
  {
   "cell_type": "code",
   "execution_count": 14,
   "metadata": {},
   "outputs": [
    {
     "name": "stdout",
     "output_type": "stream",
     "text": [
      "[0.26894142 0.73105858 0.88079708]\n"
     ]
    }
   ],
   "source": [
    "x = np.array([-1.0, 1.0, 2.0])\n",
    "print(sigmoid(x))"
   ]
  },
  {
   "attachments": {},
   "cell_type": "markdown",
   "metadata": {},
   "source": [
    "- 넘파이 배열이 처리 가능한 이유는 넘파이의 브로드캐스트 때문\n",
    "- 브로드캐스트 기능 = 넘파이 배열과 스칼라값의 연산을 넘파이 배열의 원소 각각과 스칼라값의 연산으로 바꿔 수행하는 것"
   ]
  },
  {
   "cell_type": "code",
   "execution_count": 15,
   "metadata": {},
   "outputs": [
    {
     "name": "stdout",
     "output_type": "stream",
     "text": [
      "[2. 3. 4.]\n",
      "[1.         0.5        0.33333333]\n"
     ]
    }
   ],
   "source": [
    "t = np.array([1.0, 2.0, 3.0])\n",
    "print(1.0 + t)\n",
    "print(1.0 / t)"
   ]
  },
  {
   "attachments": {},
   "cell_type": "markdown",
   "metadata": {},
   "source": [
    "- 스칼라값 1.0과 넘파이 배열 사이에서 수치 연산을 한 것\n",
    "- 결과적으로 스칼라값과 넘파이 배열의 각 원소 사이에서 연산이 이뤄지고, 연산 결과가 넘파이 배열로 출력"
   ]
  },
  {
   "cell_type": "code",
   "execution_count": 16,
   "metadata": {},
   "outputs": [
    {
     "data": {
      "image/png": "[encoded data removed]",
      "text/plain": [
       "<Figure size 640x480 with 1 Axes>"
      ]
     },
     "metadata": {},
     "output_type": "display_data"
    }
   ],
   "source": [
    "x = np.arange(-5.0, 5.0, 0.1)\n",
    "y = sigmoid(x)\n",
    "plt.plot(x, y)\n",
    "plt.ylim(-0.1, 1.1) # y 축 범위 지정\n",
    "plt.show()"
   ]
  },
  {
   "attachments": {},
   "cell_type": "markdown",
   "metadata": {},
   "source": [
    "### 시그모이드 함수와 계단 함수 비교\n",
    "- 시그모이드 함수는 부드러운 곡선이며 입력에 따라 출력이 연속적으로 변화, 계단 함수는 0을 경계로 출력이 갑자기 바뀐다\n",
    "- 계단 함수가 0과 1 중 하나의 값만 돌려주는 반면, 시그모이드 함수는 실수를 돌려준다\n",
    "- 퍼셉트론에서는 뉴련 사이에 0 혹은 1이 흘럿다면, 신경망에서는 연속적인 실수가 흐른다\n",
    "- 두 함수 모두 입력이 작을 때의 출력은 0에 가깝고, 입력이 커지면 출력이 1에 가까워지는 구조\n",
    "- 입력이 중요하면 큰 값을 출력 그렇지 않으면 작은 값 출력, 입력이 아무리 크거나 작아도 출력은 0에서 1 사이\n",
    "\n",
    "### 비선형 함수\n",
    "- 계단 함수와 시그모이드 함수 모두 비선형 함수\n",
    "- 신경망에서는 활성화 함수로 비선형 함수를 사용해야 한다, 선형 함수를 이용할 경우 신경망의 층을 깊게 하는 의미가 없어지기 때문\n",
    "\n",
    "\n",
    "### ReLU 함수\n",
    "- 0이 넘으면 그 입력을 그대로 출력하고, 0 이하이면 0을 출력하는 함수\n",
    "- $h(x) = \\begin{cases}x(x\\gt0) \\\\ 0(x\\leq0) \\end{cases}$"
   ]
  },
  {
   "cell_type": "code",
   "execution_count": 17,
   "metadata": {},
   "outputs": [],
   "source": [
    "def relu(x):\n",
    "    return np.maximum(0, x)"
   ]
  },
  {
   "attachments": {},
   "cell_type": "markdown",
   "metadata": {},
   "source": [
    "- maximum 은 두 입력 중 큰 값을 선택해 반환하는 함수\n",
    "\n",
    "## 다차원 배열의 계산\n",
    "\n",
    "### 다차원 배열\n",
    "- 다차원 배열 = 숫자의 집합"
   ]
  },
  {
   "cell_type": "code",
   "execution_count": 18,
   "metadata": {},
   "outputs": [
    {
     "name": "stdout",
     "output_type": "stream",
     "text": [
      "[1 2 3 4]\n",
      "1\n",
      "(4,)\n",
      "4\n"
     ]
    }
   ],
   "source": [
    "import numpy as np\n",
    "A = np.array([1, 2, 3, 4])\n",
    "print(A)\n",
    "print(np.ndim(A)) # 배열의 차원 수\n",
    "print(A.shape) # 배열의 형상, 튜플로 반환\n",
    "print(A.shape[0])"
   ]
  },
  {
   "cell_type": "code",
   "execution_count": 19,
   "metadata": {},
   "outputs": [
    {
     "name": "stdout",
     "output_type": "stream",
     "text": [
      "[[1 2]\n",
      " [3 4]\n",
      " [5 6]]\n",
      "2\n",
      "(3, 2)\n"
     ]
    }
   ],
   "source": [
    "B = np.array([[1, 2], [3, 4], [5, 6]]) # 3*2 배열\n",
    "print(B)\n",
    "print(np.ndim(B))\n",
    "print(B.shape)"
   ]
  },
  {
   "attachments": {},
   "cell_type": "markdown",
   "metadata": {},
   "source": [
    "- 2차원 배열 = 행렬, 가로 방향을 행, 세로 방향을 열이라고 한다\n",
    "\n",
    "### 행렬의 곱\n",
    "- 왼쪽 행렬의 행과 오른쪽 행렬의 열을 원소별로 곱하고 그 값들을 더해서 계산"
   ]
  },
  {
   "cell_type": "code",
   "execution_count": 20,
   "metadata": {},
   "outputs": [
    {
     "name": "stdout",
     "output_type": "stream",
     "text": [
      "(2, 2)\n",
      "(2, 2)\n",
      "[[19 22]\n",
      " [43 50]]\n"
     ]
    }
   ],
   "source": [
    "A = np.array([[1, 2], [3, 4]])\n",
    "print(A.shape)\n",
    "B = np.array([[5, 6], [7, 8]])\n",
    "print(B.shape)\n",
    "print(np.dot(A, B))"
   ]
  },
  {
   "attachments": {},
   "cell_type": "markdown",
   "metadata": {},
   "source": [
    "- np.dot() 은 입력이 1차원 배열이면 벡터를, 2차원 배열리면 행렬 곱을 계산"
   ]
  },
  {
   "cell_type": "code",
   "execution_count": 21,
   "metadata": {},
   "outputs": [
    {
     "name": "stdout",
     "output_type": "stream",
     "text": [
      "(2, 3)\n",
      "(3, 2)\n",
      "[[22 28]\n",
      " [49 64]]\n"
     ]
    }
   ],
   "source": [
    "A = np.array([[1, 2, 3], [4, 5, 6]])\n",
    "print(A.shape)\n",
    "B = np.array([[1, 2], [3, 4], [5, 6]])\n",
    "print(B.shape)\n",
    "print(np.dot(A, B))"
   ]
  },
  {
   "attachments": {},
   "cell_type": "markdown",
   "metadata": {},
   "source": [
    "- 행렬의 형상에 주의, 왼쪽 행렬 1번째 차원의 원소 수(열 수)와 오른쪽 행렬의 0번재 차원의 원소 수(행 수)가 같아야 한다"
   ]
  },
  {
   "cell_type": "code",
   "execution_count": 22,
   "metadata": {},
   "outputs": [
    {
     "name": "stdout",
     "output_type": "stream",
     "text": [
      "(2, 2)\n",
      "(2, 3)\n"
     ]
    },
    {
     "ename": "ValueError",
     "evalue": "shapes (2,3) and (2,2) not aligned: 3 (dim 1) != 2 (dim 0)",
     "output_type": "error",
     "traceback": [
      "\u001b[1;31m---------------------------------------------------------------------------\u001b[0m",
      "\u001b[1;31mValueError\u001b[0m                                Traceback (most recent call last)",
      "\u001b[1;32m~\\AppData\\Local\\Temp\\ipykernel_6216\\3694878118.py\u001b[0m in \u001b[0;36m<module>\u001b[1;34m\u001b[0m\n\u001b[0;32m      2\u001b[0m \u001b[0mprint\u001b[0m\u001b[1;33m(\u001b[0m\u001b[0mC\u001b[0m\u001b[1;33m.\u001b[0m\u001b[0mshape\u001b[0m\u001b[1;33m)\u001b[0m\u001b[1;33m\u001b[0m\u001b[1;33m\u001b[0m\u001b[0m\n\u001b[0;32m      3\u001b[0m \u001b[0mprint\u001b[0m\u001b[1;33m(\u001b[0m\u001b[0mA\u001b[0m\u001b[1;33m.\u001b[0m\u001b[0mshape\u001b[0m\u001b[1;33m)\u001b[0m\u001b[1;33m\u001b[0m\u001b[1;33m\u001b[0m\u001b[0m\n\u001b[1;32m----> 4\u001b[1;33m \u001b[0mprint\u001b[0m\u001b[1;33m(\u001b[0m\u001b[0mnp\u001b[0m\u001b[1;33m.\u001b[0m\u001b[0mdot\u001b[0m\u001b[1;33m(\u001b[0m\u001b[0mA\u001b[0m\u001b[1;33m,\u001b[0m \u001b[0mC\u001b[0m\u001b[1;33m)\u001b[0m\u001b[1;33m)\u001b[0m\u001b[1;33m\u001b[0m\u001b[1;33m\u001b[0m\u001b[0m\n\u001b[0m",
      "\u001b[1;32m<__array_function__ internals>\u001b[0m in \u001b[0;36mdot\u001b[1;34m(*args, **kwargs)\u001b[0m\n",
      "\u001b[1;31mValueError\u001b[0m: shapes (2,3) and (2,2) not aligned: 3 (dim 1) != 2 (dim 0)"
     ]
    }
   ],
   "source": [
    "C = np.array([[1, 2], [3, 4]])\n",
    "print(C.shape)\n",
    "print(A.shape)\n",
    "print(np.dot(A, C))"
   ]
  },
  {
   "attachments": {},
   "cell_type": "markdown",
   "metadata": {},
   "source": [
    "- 다차원 배열을 곱하려면 두 행렬의 대응하는 차원의 원소 수를 일치시켜야 한다\n",
    "- 2차원 행렬과 1차원 배열도 대응하는 차원의 원소의 수를 일치시켜야 한다"
   ]
  },
  {
   "cell_type": "code",
   "execution_count": 23,
   "metadata": {},
   "outputs": [
    {
     "name": "stdout",
     "output_type": "stream",
     "text": [
      "(3, 2)\n",
      "(2,)\n",
      "[23 53 83]\n"
     ]
    }
   ],
   "source": [
    "A = np.array([[1, 2], [3, 4], [5, 6]])\n",
    "print(A.shape)\n",
    "B = np.array([7,8])\n",
    "print(B.shape)\n",
    "print(np.dot(A, B))"
   ]
  },
  {
   "attachments": {},
   "cell_type": "markdown",
   "metadata": {},
   "source": [
    "### 신경망에서의 행렬 곱"
   ]
  },
  {
   "cell_type": "code",
   "execution_count": 24,
   "metadata": {},
   "outputs": [
    {
     "name": "stdout",
     "output_type": "stream",
     "text": [
      "(2,)\n",
      "[[1 3 5]\n",
      " [2 4 6]]\n",
      "(2, 3)\n",
      "[ 5 11 17]\n"
     ]
    }
   ],
   "source": [
    "X = np.array([1, 2])\n",
    "print(X.shape)\n",
    "W = np.array([[1, 3, 5], [2, 4, 6]])\n",
    "print(W)\n",
    "print(W.shape)\n",
    "Y = np.dot(X, W) # 다차원 배열의 스칼라곱을 구해주는 함수\n",
    "print(Y)"
   ]
  },
  {
   "attachments": {},
   "cell_type": "markdown",
   "metadata": {},
   "source": [
    "## 3층 신경망 구현하기\n",
    "- 넘파이 배열을 잘 쓰면 아주 적은 코드만으로 신경망의 순방향 처리를 완성할 수 있다\n",
    "\n",
    "### 각 층의 신호 전달 구현하기"
   ]
  },
  {
   "cell_type": "code",
   "execution_count": 25,
   "metadata": {},
   "outputs": [
    {
     "name": "stdout",
     "output_type": "stream",
     "text": [
      "(2, 3)\n",
      "(2,)\n",
      "(3,)\n"
     ]
    }
   ],
   "source": [
    "X = np.array([1.0, 0.5]) # 입력\n",
    "W1 = np.array([[0.1, 0.3, 0.5], [0.2, 0.4, 0.6]]) # 0층의 가중치\n",
    "B1 = np.array([0.1, 0.2, 0.3]) # 0층의 편향\n",
    "\n",
    "# 대응하는 차원의 원소 수\n",
    "print(W1.shape)\n",
    "print(X.shape)\n",
    "print(B1.shape)\n",
    "\n",
    "A1 = np.dot(X, W1) + B1 # 1층 뉴런으로 전달된 가중치 합\n"
   ]
  },
  {
   "cell_type": "code",
   "execution_count": 26,
   "metadata": {},
   "outputs": [
    {
     "name": "stdout",
     "output_type": "stream",
     "text": [
      "[0.3 0.7 1.1]\n",
      "[0.57444252 0.66818777 0.75026011]\n"
     ]
    }
   ],
   "source": [
    "Z1 = sigmoid(A1) # 넘파이 배열을 받아 같은 수의 원소로 구성된 넘파이 배열 반환\n",
    "\n",
    "print(A1)\n",
    "print(Z1) # 1층의 출력, 2층의 입력"
   ]
  },
  {
   "cell_type": "code",
   "execution_count": 27,
   "metadata": {},
   "outputs": [
    {
     "name": "stdout",
     "output_type": "stream",
     "text": [
      "(3,)\n",
      "(3, 2)\n",
      "(2,)\n"
     ]
    }
   ],
   "source": [
    "W2 = np.array([[0.1, 0.4], [0.2, 0.5], [0.3, 0.6]]) # 1층의 가중치\n",
    "B2 = np.array([0.1, 0.2]) # 1층의 편향\n",
    "\n",
    "# 대응하는 차원의 원소 수\n",
    "print(Z1.shape)\n",
    "print(W2.shape)\n",
    "print(B2.shape)\n",
    "\n",
    "A2 = np.dot(Z1, W2) + B2 # 2층으로 전달된 가중치 합\n",
    "Z2 = sigmoid(A2) # 2층에 출력, 출력층으로 전달"
   ]
  },
  {
   "cell_type": "code",
   "execution_count": 28,
   "metadata": {},
   "outputs": [],
   "source": [
    "def identity_function(x): # 항등 함수, 입력을 그대로 출력\n",
    "    return x\n",
    "\n",
    "W3 = np.array([[0.1, 0.3], [0.2, 0.4]]) # 2층의 가중치\n",
    "B3 = np.array([0.1, 0.2]) # 2층의 편향\n",
    "\n",
    "A3 = np.dot(Z2, W3) + B3\n",
    "Y = identity_function(A3) # 혹은 Y + A3"
   ]
  },
  {
   "attachments": {},
   "cell_type": "markdown",
   "metadata": {},
   "source": [
    "### 구현 정리"
   ]
  },
  {
   "cell_type": "code",
   "execution_count": 29,
   "metadata": {},
   "outputs": [
    {
     "name": "stdout",
     "output_type": "stream",
     "text": [
      "[0.31682708 0.69627909]\n"
     ]
    }
   ],
   "source": [
    "def init_network(): # 가중치와 편향 초기화 후 딕셔너리 변수인 network 에 저장\n",
    "    network = {}\n",
    "    network['W1'] = np.array([[0.1, 0.3, 0.5], [0.2, 0.4, 0.6]])\n",
    "    network['b1'] = np.array([0.1, 0.2, 0.3])\n",
    "    network['W2'] = np.array([[0.1, 0.4], [0.2, 0.5], [0.3, 0.6]])\n",
    "    network['b2'] = np.array([0.1, 0.2])\n",
    "    network['W3'] = np.array([[0.1, 0.3], [0.2, 0.4]])\n",
    "    network['b3'] = np.array([0.1, 0.2])\n",
    "    \n",
    "    return network\n",
    "\n",
    "def forward(network, x): # 입력 신호를 출력으로 변환하는 처리 과정 모두 구현, 순방향(순전파)\n",
    "    W1, W2, W3 = network['W1'], network['W2'], network['W3']\n",
    "    b1, b2, b3 = network['b1'], network['b2'], network['b3']\n",
    "    \n",
    "    a1 = np.dot(x, W1) + b1\n",
    "    z1 = sigmoid(a1)\n",
    "    a2 = np.dot(z1, W2) + b2\n",
    "    z2 = sigmoid(a2)\n",
    "    a3 = np.dot(z2, W3) + b3\n",
    "    y = identity_function(a3)\n",
    "    \n",
    "    return y\n",
    "\n",
    "network = init_network()\n",
    "x = np.array([1.0, 0.5])\n",
    "y = forward(network, x)\n",
    "print(y)"
   ]
  },
  {
   "attachments": {},
   "cell_type": "markdown",
   "metadata": {},
   "source": [
    "## 출력층 설계하기\n",
    "- 신경망은 븐루와 회귀 모두에 이용 가능, 일반적으로 회귀에는 항등 함수, 분류에는 소프트맥스 함수 사용\n",
    "\n",
    "### 항등 함수와 소프트맥스 함수 구현하기\n",
    "- 항등 함수 = 입력을 그대로 출력\n",
    "- 소프트맥스 함수 = $y_k = \\frac{exp(a_k)}{\\sum_{i=1}^{n}exp(a_i)}$\n",
    "    - $exp(x)$ 는 $e^x$ 을 뜻하는 지수 함수, $e$ 는 자연상수, $n$ 은 출력층의 뉴런 수, $y_k$ 는 그중 $k$ 번째 출력임을 뜻한다\n",
    "    - 소프트맥스 함수의 분자는 입력신호 $a_k$ 의 지수 함수, 분모는 모든 입력 신호의 지수 함수의 합으로 구성된다"
   ]
  },
  {
   "cell_type": "code",
   "execution_count": 30,
   "metadata": {},
   "outputs": [
    {
     "name": "stdout",
     "output_type": "stream",
     "text": [
      "[ 1.34985881  7.3890561  54.59815003]\n",
      "63.33706493965089\n",
      "[0.0213123  0.11666243 0.86202526]\n"
     ]
    }
   ],
   "source": [
    "a = np.array([0.3, 2.0, 4.0])\n",
    "\n",
    "exp_a = np.exp(a) # 지수 함수\n",
    "print(exp_a)\n",
    "\n",
    "sum_exp_a = np.sum(exp_a) # 지수 함수의 합\n",
    "print(sum_exp_a)\n",
    "\n",
    "y = exp_a / sum_exp_a\n",
    "print(y)"
   ]
  },
  {
   "cell_type": "code",
   "execution_count": 31,
   "metadata": {},
   "outputs": [],
   "source": [
    "def softmax(a):\n",
    "    exp_a = np.exp(a)\n",
    "    sum_exp_a = np.sum(exp_a)\n",
    "    y = exp_a / sum_exp_a\n",
    "    \n",
    "    return y"
   ]
  },
  {
   "attachments": {},
   "cell_type": "markdown",
   "metadata": {},
   "source": [
    "### 소프트맥스 함수 구현 시 주의점\n",
    "- 컴퓨터로 계산할 때는 오버플로 문제라는 결함이 있다\n",
    "- 소프트맥스 함수는 지수 함수를 사용하는데, 지수 함수는 쉽게 아주 큰 값을 내뱉고 이런 큰 값끼리 나눗셈을 하면 결과 수치가 불안정해진다\n",
    "- 문제를 해결하도록 개선한 수식\n",
    "    - $y_k = \\frac{exp(a_k)}{\\sum_{i=1}^{n}exp(a_i)} = \\frac{Cexp(a_k)}{C\\sum_{i=1}^{n}exp(a_i)} \\\\\n",
    "    \\quad\\quad\\quad\\quad\\quad\\quad\\quad= \\frac{exp(a_k+logC)}{\\sum_{i=1}^{n}exp(a_i+logC)} \\\\\n",
    "    \\quad\\quad\\quad\\quad\\quad\\quad\\quad= \\frac{exp(a_k+C')}{\\sum_{i=1}^{n}exp(a_i+C')}$\n",
    "    - $C$ 라는 임의의 정수를 분자와 분모 양쪽에 곱하고 $C$ 를 지수 함수 $exp()$ 안으로 옮겨 $logC$ 로 만든 후에 $C'$ 라는 새로운 기호로 바꾼다\n",
    "    - 소프트맥스의 지수 함수를 계산할 때 어떤 정수를 더하거나 빼도 결과가 바뀌지 않는다\n",
    "    - $C'$ 에 어떤 값을 대입해도 상관없지만, 오버플로를 막을 목적으로는 입력 신호 중 최댓값을 이용하는 것이 일반적"
   ]
  },
  {
   "cell_type": "code",
   "execution_count": 32,
   "metadata": {},
   "outputs": [
    {
     "name": "stdout",
     "output_type": "stream",
     "text": [
      "[nan nan nan]\n",
      "[  0 -10 -20]\n",
      "[9.99954600e-01 4.53978686e-05 2.06106005e-09]\n"
     ]
    },
    {
     "name": "stderr",
     "output_type": "stream",
     "text": [
      "C:\\Users\\lbw\\AppData\\Local\\Temp\\ipykernel_6216\\3550095242.py:2: RuntimeWarning: overflow encountered in exp\n",
      "  print(np.exp(a) / np.sum(np.exp(a))) # 소프트맥스 함수의 계산, 제대로 계산되지 않는다\n",
      "C:\\Users\\lbw\\AppData\\Local\\Temp\\ipykernel_6216\\3550095242.py:2: RuntimeWarning: invalid value encountered in true_divide\n",
      "  print(np.exp(a) / np.sum(np.exp(a))) # 소프트맥스 함수의 계산, 제대로 계산되지 않는다\n"
     ]
    }
   ],
   "source": [
    "a = np.array([1010, 1000, 990])\n",
    "print(np.exp(a) / np.sum(np.exp(a))) # 소프트맥스 함수의 계산, 제대로 계산되지 않는다\n",
    "\n",
    "c = np.max(a) # c = 1010(최댓값)\n",
    "print(a - c)\n",
    "\n",
    "print(np.exp(a - c) / np.sum(np.exp(a - c)))"
   ]
  },
  {
   "cell_type": "code",
   "execution_count": 33,
   "metadata": {},
   "outputs": [],
   "source": [
    "def softmax(a):\n",
    "    c = np.max(a)\n",
    "    exp_a = np.exp(a - c) # 오버플로 대책\n",
    "    sum_exp_a = np.sum(exp_a)\n",
    "    y = exp_a / sum_exp_a\n",
    "    \n",
    "    return y"
   ]
  },
  {
   "attachments": {},
   "cell_type": "markdown",
   "metadata": {},
   "source": [
    "### 소프트맥스 함수의 특징"
   ]
  },
  {
   "cell_type": "code",
   "execution_count": 34,
   "metadata": {},
   "outputs": [
    {
     "name": "stdout",
     "output_type": "stream",
     "text": [
      "[0.01821127 0.24519181 0.73659691]\n",
      "1.0\n"
     ]
    }
   ],
   "source": [
    "a = np.array([0.3, 2.9, 4.0])\n",
    "y = softmax(a)\n",
    "print(y)\n",
    "print(np.sum(y))"
   ]
  },
  {
   "attachments": {},
   "cell_type": "markdown",
   "metadata": {},
   "source": [
    "- 소프트맥스 함수의 출력은 0에서 1.0 사이의 실수, 출력의 총합은 1\n",
    "- 출력 총합이 1이 된다는 점으로 확률로 해석할 수 있다\n",
    "- 소프트맥스 함수를 적용해도 각 원소의 대소 관계는 변하지 않는다, 지수 함수 $y = exp(x)$ 가 단조 증가 함수이기 때문이다\n",
    "- 신경망을 이용한 분류에서는 지수 함수 계산에 드는 자원 낭비를 줄이기 위해 출력층의 소프트맥스 함수를 생략하는 것이 일반적\n",
    "\n",
    "### 출력층의 뉴런 수 정하기\n",
    "- 분류에서는 분류하고 싶은 클래스 수로 설정하는 것이 일반적\n",
    "\n",
    "## 손글씨 숫자 인식\n",
    "- 추론 과정을 신경망의 순전파라고도 한다\n",
    "\n",
    "### MNIST 데이터셋"
   ]
  },
  {
   "cell_type": "code",
   "execution_count": 35,
   "metadata": {},
   "outputs": [
    {
     "name": "stdout",
     "output_type": "stream",
     "text": [
      "(60000, 784)\n",
      "(60000,)\n",
      "(10000, 784)\n",
      "(10000,)\n"
     ]
    }
   ],
   "source": [
    "import sys, os\n",
    "sys.path.append(os.pardir) # 부모 디렉터리의 파일을 가져올 수 있도록 설정\n",
    "from dataset.mnist import load_mnist\n",
    "\n",
    "# 처음 한 번은 몇 분 정도 걸립니다.\n",
    "(x_train, t_train), (x_test, t_test) = \\\n",
    "    load_mnist(flatten=True, normalize=False)\n",
    "    \n",
    "# 각 데이터의 형상 출력\n",
    "print(x_train.shape)\n",
    "print(t_train.shape)\n",
    "print(x_test.shape)\n",
    "print(t_test.shape)"
   ]
  },
  {
   "attachments": {},
   "cell_type": "markdown",
   "metadata": {},
   "source": [
    "- load_mnist 함수는 데이터를 (훈련 이미지, 훈련 레이블), (시험 이미지, 시험 레이블) 형식으로 반환\n",
    "    - normalize = 픽셀값 0.0~1.0 사이의 값으로 정규화\n",
    "    - flatten = 1차원 배열화\n",
    "    - one_hot_label = 레이블을 원-핫 인코딩 형태로 저장"
   ]
  },
  {
   "cell_type": "code",
   "execution_count": 41,
   "metadata": {},
   "outputs": [
    {
     "name": "stdout",
     "output_type": "stream",
     "text": [
      "5\n",
      "(784,)\n",
      "(28, 28)\n"
     ]
    }
   ],
   "source": [
    "import sys, os\n",
    "sys.path.append(os.pardir)\n",
    "import numpy as np\n",
    "from dataset.mnist import load_mnist\n",
    "from PIL import Image\n",
    "\n",
    "def img_show(img):\n",
    "    pil_img = Image.fromarray(np.uint8(img))\n",
    "    pil_img.show()\n",
    "    \n",
    "(x_train, t_train), (x_test, t_test) = \\\n",
    "    load_mnist(flatten=True, normalize=False)\n",
    "\n",
    "img = x_train[0]\n",
    "label = t_train[0]\n",
    "print(label)\n",
    "\n",
    "print(img.shape)\n",
    "img = img.reshape(28, 28) # 원래 이미지의 모양으로 변형\n",
    "print(img.shape)\n",
    "\n",
    "img_show(img)"
   ]
  },
  {
   "attachments": {},
   "cell_type": "markdown",
   "metadata": {},
   "source": [
    "- flatten=True 로 설정해 읽어 들인 이미지는 1차원 넘파이 배열로 저장되어 있기 때문에 reshape() 메서드로 배열의 형상을 변환하고 Image.fromarray() 로 넘파이로 저장된 이미지 데이터를 PIL 용 데이터 객체로 변환해야 한다\n",
    "\n",
    "### 신경망의 추론 처리\n",
    "- 입력층 뉴련 784개, 출력층 뉴런 10개로 구성된 추론을 수행하는 신경망 구현\n",
    "    - 입력층 뉴런 수는 이미지 크기가 28 * 28 = 784 이기 때문\n",
    "    - 출력층 뉴런 수는 0에서 9까지의 숫자를 구분하는 문제이기 때문\n",
    "- 은닉층은 1층은 50, 2층은 100개의 뉴런 배치, 임의로 정한 값"
   ]
  },
  {
   "cell_type": "code",
   "execution_count": 44,
   "metadata": {},
   "outputs": [],
   "source": [
    "def get_data():\n",
    "    (x_train, t_train), (x_test, t_test) = \\\n",
    "        load_mnist( normalize=True, flatten=True, one_hot_label=False)\n",
    "    return x_test, t_test\n",
    "\n",
    "def init_network():\n",
    "    with open(\"sample_weight.pkl\", 'rb') as f:\n",
    "        network = pickle.load(f)\n",
    "        \n",
    "    return network\n",
    "\n",
    "def predict(network, x):\n",
    "    W1, W2, W3 = network['W1'], network['W2'], network['W3']\n",
    "    b1, b2, b3 = network['b1'], network['b2'], network['b3']\n",
    "    \n",
    "    a1 = np.dot(x, W1) + b1\n",
    "    z1 = sigmoid(a1)\n",
    "    a2 = np.dot(z1, W2) + b2\n",
    "    z2 = sigmoid(a2)\n",
    "    a3 = np.dot(z2, W3) + b3\n",
    "    y = softmax(a3)\n",
    "    \n",
    "    return y"
   ]
  },
  {
   "attachments": {},
   "cell_type": "markdown",
   "metadata": {},
   "source": [
    "- init_network() 에서 pickle 파일인 sample_weight.pkl 에 저장된 학습된 가중치 매개변수를 읽는다, 이 파일에는 가중치와 편향 매개변수가 딕셔너리 변수로 저장되어 있다"
   ]
  },
  {
   "cell_type": "code",
   "execution_count": 46,
   "metadata": {},
   "outputs": [
    {
     "name": "stdout",
     "output_type": "stream",
     "text": [
      "Accuracy:0.9352\n"
     ]
    }
   ],
   "source": [
    "x, t = get_data()\n",
    "network = init_network()\n",
    "\n",
    "accuracy_cnt = 0\n",
    "for i in range(len(x)):\n",
    "    y = predict(network, x[i])\n",
    "    p = np.argmax(y) # 확률이 가장 높은 원소의 인덱스를 얻는다\n",
    "    if p == t[i]:\n",
    "        accuracy_cnt += 1\n",
    "        \n",
    "print(\"Accuracy:\" + str(float(accuracy_cnt) / len(x)))"
   ]
  },
  {
   "attachments": {},
   "cell_type": "markdown",
   "metadata": {},
   "source": [
    "- MNIST 데이터셋을 얻고 네트워크 생성\n",
    "- for 문을 돌며 x 에 저장된 이미지 데이터를 1장씩 꺼내 predict() 함수로 분류\n",
    "- predict() 함수는 각 레이블의 확률을 넘파이 배열로 반환\n",
    "- 넘파이 배열은 이미지가 0부터 9까지 숫자일 확률\n",
    "- np.argmax() 함수로 배열에서 값이 가장 큰 원소의 인덱스를 구하는 것이 예측 별과\n",
    "- 예측한 답변과 정답 레이블을 비교하여 맞힌 숫자를 세고, 이를 전체 이미지 숫자로 나눠 정확도를 구한다\n",
    "- 데이터를 특정 범위로 변환하는 처리를 정규화라 하고, 신경망의 입력 데이터의 특정 변환을 가하는 것을 전처리라 한다\n",
    "- 전체 데이터를 균일하게 분포시키는 데이터 백색화\n",
    "\n",
    "### 배치 처리리"
   ]
  }
 ],
 "metadata": {
  "kernelspec": {
   "display_name": "base",
   "language": "python",
   "name": "python3"
  },
  "language_info": {
   "codemirror_mode": {
    "name": "ipython",
    "version": 3
   },
   "file_extension": ".py",
   "mimetype": "text/x-python",
   "name": "python",
   "nbconvert_exporter": "python",
   "pygments_lexer": "ipython3",
   "version": "3.9.13"
  },
  "orig_nbformat": 4
 },
 "nbformat": 4,
 "nbformat_minor": 2
}
