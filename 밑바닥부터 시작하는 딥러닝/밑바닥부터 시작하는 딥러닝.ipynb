{
 "cells": [
  {
   "attachments": {},
   "cell_type": "markdown",
   "metadata": {},
   "source": [
    "# 2 퍼셉트론\n",
    "\n",
    "## 2.1 퍼셉트론이란?\n",
    "- 다수의 신호를 입력으로 받아 하나의 신호를 출력\n",
    "- 신호 = 흐름을 만들고 정보를 앞으로 전달, 1 = 신호가 흐른다, 0 = 신호가 흐르지 않는다\n",
    "- 뉴런에서 보내온 신호의 총합이 정해진 한계를 넘어설 때만 1을 출력 = 뉴런이 활성화한다고 표현하기도 함\n",
    "- $\\theta$(세타) = 임계값, 정해진 한계\n",
    "- 퍼셉트론은 복수의 입력 신호 각각에 고유한 가중치를 부여\n",
    "- $w$(가중치) = 각 신호가결과에 주는 영향력을 조절하는 요소, 가중치가 높을 수록 중요한 신호\n",
    "\n",
    "## 2.2 단순한 논리 회로\n",
    "\n",
    "### 2.2.1 AND 게이트\n",
    "- AND 게이트 = 입력이 둘 출력은 하나, 두 입력이 모두 1일 때만 1을 출력하고, 그 외에는 0을 출력\n",
    "- 진리표 = 입력 신호와 출력 신호의 대응 표\n",
    "\n",
    "### 2.2.2 NAND 게이트와 OR 게이트\n",
    "- NAND = Not AND, AND 게이트의 출력을 뒤집은 것처럼 동작, 두 입력이 모두 1일 때만 0 출력, 그 외에는 1 출력\n",
    "- AND 게이트를 구현하는 매개변수의 부호를 모두 반전하면 NAND 게이트가 된다\n",
    "- OR 게이트는 입력 신호 중 하나 이상이 1이면 출력이 1이 되는 논리 회로\n",
    "- 퍼셉트론으로 AND, NAND, OR 논리 회로를 표현할 수 있으나, 퍼셉트론의 구조는 모두 똑같다\n",
    "- 다른 것은 매개변수(가중치와 임계값)의 값뿐이다, 똑같은 구조의 퍼셉트론이 매개변수의 값만 적절히 조정한 것\n",
    "\n",
    "## 2.3 퍼셉트론 구현하기\n",
    "\n",
    "### 2.3.1 간단한 구현부터"
   ]
  },
  {
   "cell_type": "code",
   "execution_count": 2,
   "metadata": {},
   "outputs": [],
   "source": [
    "def AND(x1, x2):\n",
    "    w1, w2, theta = 0.5, 0.5, 0.7\n",
    "    tmp = x1*w1 + x2*w2 # 가중치를 곱한 입력의 총 합\n",
    "    if tmp <= theta:\n",
    "        return 0\n",
    "    elif tmp > theta:\n",
    "        return 1"
   ]
  },
  {
   "cell_type": "code",
   "execution_count": 4,
   "metadata": {},
   "outputs": [
    {
     "name": "stdout",
     "output_type": "stream",
     "text": [
      "0\n",
      "0\n",
      "0\n",
      "1\n"
     ]
    }
   ],
   "source": [
    "print(AND(0, 0))\n",
    "print(AND(1, 0))\n",
    "print(AND(0, 1))\n",
    "print(AND(1, 1))"
   ]
  },
  {
   "attachments": {},
   "cell_type": "markdown",
   "metadata": {},
   "source": [
    "### 2.3.2 가중치와 편향 도입"
   ]
  },
  {
   "cell_type": "code",
   "execution_count": 5,
   "metadata": {},
   "outputs": [
    {
     "name": "stdout",
     "output_type": "stream",
     "text": [
      "[0.  0.5]\n",
      "0.5\n",
      "-0.19999999999999996\n"
     ]
    }
   ],
   "source": [
    "import numpy as np\n",
    "x = np.array([0, 1]) # 입력\n",
    "w = np.array([0.5, 0.5]) # 가중치\n",
    "b = -0.7 # 편향\n",
    "print(w*x) # 넘파이 배열끼리의 곱셈은 원소 수가 같아면 각 원소끼리 곱한다\n",
    "print(np.sum(w*x)) # np.sum() 메서드는 입력한 배열에담긴 모든 원소의 총합을 계산\n",
    "print(np.sum(w*x) + b) # 이 가중치에 편향을 더하면 계산 완료"
   ]
  },
  {
   "attachments": {},
   "cell_type": "markdown",
   "metadata": {},
   "source": [
    "### 2.3.3 가중치와 편향 구하기"
   ]
  },
  {
   "cell_type": "code",
   "execution_count": null,
   "metadata": {},
   "outputs": [],
   "source": [
    "def AND(x1, x2):\n",
    "    x = np.array([x1, x2])\n",
    "    w = np.array([0.5, 0.5])\n",
    "    b = -0.7\n",
    "    tmp = np.sum(w*x) + b\n",
    "    if tmp <= 0:\n",
    "        return 0\n",
    "    else:\n",
    "        return 1"
   ]
  },
  {
   "attachments": {},
   "cell_type": "markdown",
   "metadata": {},
   "source": [
    "- 가중치 = 각 입력 신호가 결과에 주는 영향력(중요도)을 조절하는 매개변수\n",
    "- $b$(편향) = 뉴런이 얼마나 쉽게 활성화(결과로 1을 출력)하느냐를 조정하는 매개변수\n",
    "- $b$ 가 -0.1일 경우 각 입력 신호에 가중치를 곱한 값들의 합이 0.1을 초과할 때만 뉴런이 활성화\n",
    "- $w$(가중치), $b$(편향) 으로 구별하기도 하지만 모두 가중치라고 하기도 함"
   ]
  },
  {
   "cell_type": "code",
   "execution_count": 14,
   "metadata": {},
   "outputs": [],
   "source": [
    "def NAND(x1, x2):\n",
    "    x = np.array([x1, x2])\n",
    "    w = np.array([-0.5, -0.5]) # AND 와는 가중치(w 와 b)만 다르다\n",
    "    b = 0.7\n",
    "    tmp = np.sum(w*x) + b\n",
    "    if tmp <= 0:\n",
    "        return 0\n",
    "    else:\n",
    "        return 1\n",
    "    \n",
    "def OR(x1, x2):\n",
    "    x = np.array([x1, x2])\n",
    "    w = np.array([0.5, 0.5])\n",
    "    b = -0.2  # AND 와는 가중치(w 와 b)만 다르다\n",
    "    tmp = np.sum(w*x) + b\n",
    "    if tmp <= 0:\n",
    "        return 0\n",
    "    else:\n",
    "        return 1"
   ]
  },
  {
   "attachments": {},
   "cell_type": "markdown",
   "metadata": {},
   "source": [
    "## 2.4 퍼셉트론의 한계\n",
    "\n",
    "### 2.4.1 도전! XOR 게이트\n",
    "- XOR 게이트 = 배타적 논리합이라는 논리 회로\n",
    "- XOR 게이트는 직선 하나로 나눌 수 없음\n",
    "\n",
    "### 2.4.2 선형과 비선형\n",
    "- 퍼셉트론은 직선 하나로 나눈 영역만 표현할 수 있다는 한계가 있다\n",
    "\n",
    "## 2.5 다층 퍼셉트론이 출동한다면\n",
    "- 층을 쌓아 다층 퍼셉트론을 만들 수 있다\n",
    "\n",
    "### 2.5.1 기존 게이트 조합하기\n",
    "- 단층 퍼셉트론으로는 XOR 게이트를 표현할 수 없다, 단층 퍼셉트론으로는 비선형 영역을분리할 수 없다\n",
    "- 각 입력 신호가 NAND 와 OR 게이트의 입력이 되고, NAND 와 OR 의 출력이 AND 게이트의 입력으로 이어진다\n",
    "\n",
    "### 2.5.2 XOR 게이트 구현하기"
   ]
  },
  {
   "cell_type": "code",
   "execution_count": 15,
   "metadata": {},
   "outputs": [],
   "source": [
    "def XOR(x1, x2):\n",
    "    s1 = NAND(x1, x2)\n",
    "    s2 = OR(x1, x2)\n",
    "    y = AND(s1, s2)\n",
    "    return y"
   ]
  },
  {
   "cell_type": "code",
   "execution_count": 16,
   "metadata": {},
   "outputs": [
    {
     "name": "stdout",
     "output_type": "stream",
     "text": [
      "0\n",
      "1\n",
      "1\n",
      "0\n"
     ]
    }
   ],
   "source": [
    "print(XOR(0, 0))\n",
    "print(XOR(1, 0))\n",
    "print(XOR(0, 1))\n",
    "print(XOR(1, 1))"
   ]
  },
  {
   "attachments": {},
   "cell_type": "markdown",
   "metadata": {},
   "source": [
    "- XOR 은 2층 퍼셉트론, 이처럼 층이 여러개인 퍼셉트론을 다층 퍼셉트론이라 한다\n",
    "- 단층 퍼셉트론으로 표현하지 못한 것을 층을 하나 늘리면 구현 가능\n",
    "\n",
    "## 2.6 NAND 에서 컴퓨터까지\n",
    "- 이론상 2층 퍼셉트론이면 컴퓨터를 만들 수 있다\n",
    "- 퍼셉트론은 층을 거듭 쌓으면 비선형적인 표현도 가능하고, 이론상 컴퓨터가 수행하는 처리도 모두 표현할 수 있다\n",
    "\n",
    "## 2.7 정리\n",
    "- 퍼셉트론은 입출력을 갖춘 알고리즘으로 입력을 주면 정해진 규칙에 따른 값을 출력\n",
    "- 퍼셉트론에서는 가중치와 편향을 매개변수로 설정\n",
    "- 퍼셉트론으로 AND, OR 게이트 등의 논리 회로를 표현할 수 있다\n",
    "- XOR 게이트는 단층 퍼셉트론으로는 표현할 수 없다\n",
    "- 2층 퍼셉트론을 이용하면 XOR 게이트를 표현할 수 있다\n",
    "- 단층 퍼셉트론은 직선형 영역만 표현할 수 있고, 다층 퍼셉트론은 비선형 영역도 표현할 수 있다\n",
    "- 다층 퍼셉트론은 이론상 컴퓨터를 표현할 수 있다"
   ]
  },
  {
   "attachments": {},
   "cell_type": "markdown",
   "metadata": {},
   "source": [
    "# 신경망\n",
    "\n",
    "## 3.1 퍼셉트론에서 신경망으로\n",
    "\n",
    "### 3.1.1 신경망의 예\n",
    "- 입력층, 은닉층, 출력층으로 구성\n",
    "- 은닉층의 뉴런은 사람의 눈에는 보이지 않는다\n",
    "- 뉴련이 연결되는 방식은 퍼셉트론과 같ㅌ다\n",
    "\n",
    "### 3.1.2 퍼셉트론 복습\n",
    "- $x_1, x_2$ 라는 두 신호를 입력받나 $y$ 를 출력하는 퍼셉트론\n",
    "    - $y = \\begin{cases}0(b+w_1x_1+w_2x_2\\leq0) \\\\ 1(b+w_1x_1+w_2x_2\\gt0)\\end{cases}$\n",
    "- 여기서 $b$ 을 명시할 경우 입력이 1인 뉴런이 추가된다, 편향의 입력 신호는 항상 1\n",
    "- 조건 분기의 동작(0을 넘으면 1, 그렇지 않으면 0을 출력)을 $h(x)$ 라는 하나의 함수로 표현\n",
    "    - $y = h(b+w_1x_1+w_2x_2)$\n",
    "    - $h(x) = \\begin{cases}0(x\\leq0) \\\\ 1(x\\gt0) \\end{cases}$\n",
    "    - 입력 신호의 총합이 $h(x)$ 라는 함수를 거쳐 변환되어, 그 변환된 값이 $y$ 의 출력이 된다\n",
    "\n",
    "### 3.1.3 활성화 함수의 등장\n",
    "- $h(x)$ 처럼 입력 신호의 총합을 출력 신호로 변환하는 함수를 일반적으로 호라성화 함수라 한다\n",
    "- 활성화 함수는 입력 신호의 총합이 활성화를 일으키는지 정하는 역할\n",
    "- 가중치가 곱해진 입력 신호의 총합을 계산하고, 그 합을 활성화 함수에 입력해 결과를 내는 2단계로 처리된다\n",
    "    - $a = b+w_1x_1+w_2x_2$\n",
    "    - $y = h(a)$\n",
    "    - 가중치가 달린 입력 신호와 편향의 총합을 계산한 $a$ 를 함수 $h()$ 에 넣어 $y$ 를 출력\n",
    "- 가중치 신호를 조합한 결과가 $a$ 라는 노드가 되고, 활성화 함수 $h()$ 를 통과하여 $y$ 라는 노드로 변환되는 과정\n",
    "\n",
    "## 3.2 활성화 함수\n",
    "- 계단 함수 = 임계값을 경계로 출력이 바뀌는 활성화 함수\n",
    "\n",
    "### 3.2.1 시그모이드 함수\n",
    "- 시그모이드 함수를 나타낸 식\n",
    "    - $h(x) = \\frac{1}{1+exp(-x)}$\n",
    "    - $exp(-x)$ 는 $e^-x$ 를 뜻하며 $e$ 는 자연상수로 2.7182.. 의 값을 ㄱ자는 실수\n",
    "    - 시그모이드 함수에 1.0과 2.0을 입력하면 $h(1.0) = 0.731...$, $h(2.0) = 0.880...$ 처럼 특정 값을 출력\n",
    "- 신경망에서 활성화 함수로 시그모이드 함수를 이용하여 신호를 변환하고, 그 변환된 신호를 다음 뉴턴에 전달\n",
    "- 퍼셉트론과 신경망의 주된 차이는 활성화 함수, 그 외 뉴런이 여러 층으로 이어지는 구조와 전달하는 방법은 기본적으로 퍼셉트론과 같다\n",
    "\n",
    "### 3.2.2 계단 함수 구현하기"
   ]
  },
  {
   "cell_type": "code",
   "execution_count": 1,
   "metadata": {},
   "outputs": [],
   "source": [
    "def step_function(x):\n",
    "    if x > 0:\n",
    "        return 1\n",
    "    else:\n",
    "        return 0"
   ]
  },
  {
   "attachments": {},
   "cell_type": "markdown",
   "metadata": {},
   "source": [
    "- 인수 x 는 실수(부동소수점)만 받아들인다"
   ]
  },
  {
   "cell_type": "code",
   "execution_count": 2,
   "metadata": {},
   "outputs": [],
   "source": [
    "def step_function(x):\n",
    "    y = x> 0\n",
    "    return y.astype(np.int)"
   ]
  },
  {
   "attachments": {},
   "cell_type": "markdown",
   "metadata": {},
   "source": [
    "- 넘파이 배열도 지원하도록 수정한 것"
   ]
  },
  {
   "cell_type": "code",
   "execution_count": 3,
   "metadata": {},
   "outputs": [
    {
     "name": "stdout",
     "output_type": "stream",
     "text": [
      "[-1.  1.  2.]\n",
      "[False  True  True]\n"
     ]
    }
   ],
   "source": [
    "import numpy as np\n",
    "x = np.array([-1.0, 1.0, 2.0])\n",
    "print(x)\n",
    "y = x>0\n",
    "print(y)"
   ]
  },
  {
   "attachments": {},
   "cell_type": "markdown",
   "metadata": {},
   "source": [
    "- 넘파이 배열에 부등호 연산을 수행하면 배열의 원소 각각에 부등호 연산을 수행한 bool 배열이 생성된다\n",
    "- 배열 x 의 원소 각각이 0보다 크면 True, 0 이하면 False 로 변환한 새로운 배열 y 가 생성된다"
   ]
  },
  {
   "cell_type": "code",
   "execution_count": 4,
   "metadata": {},
   "outputs": [
    {
     "name": "stdout",
     "output_type": "stream",
     "text": [
      "[0 1 1]\n"
     ]
    },
    {
     "name": "stderr",
     "output_type": "stream",
     "text": [
      "C:\\Users\\lbw\\AppData\\Local\\Temp\\ipykernel_8272\\4147947644.py:1: DeprecationWarning: `np.int` is a deprecated alias for the builtin `int`. To silence this warning, use `int` by itself. Doing this will not modify any behavior and is safe. When replacing `np.int`, you may wish to use e.g. `np.int64` or `np.int32` to specify the precision. If you wish to review your current use, check the release note link for additional information.\n",
      "Deprecated in NumPy 1.20; for more details and guidance: https://numpy.org/devdocs/release/1.20.0-notes.html#deprecations\n",
      "  y = y.astype(np.int)\n"
     ]
    }
   ],
   "source": [
    "y = y.astype(np.int)\n",
    "print(y)"
   ]
  },
  {
   "attachments": {},
   "cell_type": "markdown",
   "metadata": {},
   "source": [
    "- 계단 함수는 0이나 1의 int 형을 출력하는 함수기에 배열 y 의 원소를 bool 에서 int 형으로 바꾼다\n",
    "- astype() 메서드로 배열의 자료형 변환\n",
    "- bool 을 int 로 변환하면 True 는 1, False 는 0으로 변환\n",
    "\n",
    "### 3.2.3 계단 함수의 그래프"
   ]
  },
  {
   "cell_type": "code",
   "execution_count": 6,
   "metadata": {},
   "outputs": [
    {
     "name": "stderr",
     "output_type": "stream",
     "text": [
      "C:\\Users\\lbw\\AppData\\Local\\Temp\\ipykernel_8272\\739440373.py:5: DeprecationWarning: `np.int` is a deprecated alias for the builtin `int`. To silence this warning, use `int` by itself. Doing this will not modify any behavior and is safe. When replacing `np.int`, you may wish to use e.g. `np.int64` or `np.int32` to specify the precision. If you wish to review your current use, check the release note link for additional information.\n",
      "Deprecated in NumPy 1.20; for more details and guidance: https://numpy.org/devdocs/release/1.20.0-notes.html#deprecations\n",
      "  return np.array(x > 0, dtype=np.int)\n"
     ]
    },
    {
     "data": {
      "image/png": "[encoded data removed]",
      "text/plain": [
       "<Figure size 640x480 with 1 Axes>"
      ]
     },
     "metadata": {},
     "output_type": "display_data"
    }
   ],
   "source": [
    "import numpy as np\n",
    "import matplotlib.pylab as plt\n",
    "\n",
    "def step_function(x):\n",
    "    return np.array(x > 0, dtype=np.int)\n",
    "\n",
    "x = np.arange(-5.0, 5.0, 0.1)\n",
    "y = step_function(x)\n",
    "plt.plot(x, y)\n",
    "plt.ylim(-0.1, 1.1) # y 축의 범위 지정\n",
    "plt.show()"
   ]
  },
  {
   "attachments": {},
   "cell_type": "markdown",
   "metadata": {},
   "source": [
    "- np.arange(-5.0, 5.0, 0.1) 은 -5.0에서 5.0까지 0.1 간격의 넘파이 배열을 생성\n",
    "- step_function() 은 인수로 받은 넘파이 배열의 원소 각각을 인수로 계단 함수를 실행해, 그 결과를 다시 배열로 만들어 돌려준다\n",
    "- 그래프처럼 계단 함수는 0을 경계로 출력이 0에서 1(또는 1에서 0)로 바뀐다, 그 형태가 계단 같아서 계단 함수라 불린다\n",
    "\n",
    "### 3.2.4 시그모이드 함수 구현하기"
   ]
  },
  {
   "cell_type": "code",
   "execution_count": 7,
   "metadata": {},
   "outputs": [],
   "source": [
    "def sigmoid(x):\n",
    "    return 1/ (1 + np.exp(-x))"
   ]
  },
  {
   "cell_type": "code",
   "execution_count": 8,
   "metadata": {},
   "outputs": [
    {
     "name": "stdout",
     "output_type": "stream",
     "text": [
      "[0.26894142 0.73105858 0.88079708]\n"
     ]
    }
   ],
   "source": [
    "x = np.array([-1.0, 1.0, 2.0])\n",
    "print(sigmoid(x))"
   ]
  },
  {
   "attachments": {},
   "cell_type": "markdown",
   "metadata": {},
   "source": [
    "- 넘파이 배열이 처리 가능한 이유는 넘파이의 브로드캐스트 때문\n",
    "- 브로드캐스트 기능 = 넘파이 배열과 스칼라값의 연산을 넘파이 배열의 원소 각각과 스칼라값의 연산으로 바꿔 수행하는 것"
   ]
  },
  {
   "cell_type": "code",
   "execution_count": 9,
   "metadata": {},
   "outputs": [
    {
     "name": "stdout",
     "output_type": "stream",
     "text": [
      "[2. 3. 4.]\n",
      "[1.         0.5        0.33333333]\n"
     ]
    }
   ],
   "source": [
    "t = np.array([1.0, 2.0, 3.0])\n",
    "print(1.0 + t)\n",
    "print(1.0 / t)"
   ]
  }
 ],
 "metadata": {
  "kernelspec": {
   "display_name": "base",
   "language": "python",
   "name": "python3"
  },
  "language_info": {
   "codemirror_mode": {
    "name": "ipython",
    "version": 3
   },
   "file_extension": ".py",
   "mimetype": "text/x-python",
   "name": "python",
   "nbconvert_exporter": "python",
   "pygments_lexer": "ipython3",
   "version": "3.9.13"
  },
  "orig_nbformat": 4
 },
 "nbformat": 4,
 "nbformat_minor": 2
}
