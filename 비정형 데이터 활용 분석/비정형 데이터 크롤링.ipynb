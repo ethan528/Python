{
 "cells": [
  {
   "cell_type": "code",
   "execution_count": 1,
   "metadata": {},
   "outputs": [
    {
     "name": "stdout",
     "output_type": "stream",
     "text": [
      "Collecting googlemaps\n",
      "  Downloading googlemaps-4.6.0.tar.gz (31 kB)\n",
      "  Preparing metadata (setup.py): started\n",
      "  Preparing metadata (setup.py): finished with status 'done'\n",
      "Requirement already satisfied: requests<3.0,>=2.20.0 in c:\\users\\user\\anaconda3\\lib\\site-packages (from googlemaps) (2.27.1)\n",
      "Requirement already satisfied: charset-normalizer~=2.0.0 in c:\\users\\user\\anaconda3\\lib\\site-packages (from requests<3.0,>=2.20.0->googlemaps) (2.0.4)\n",
      "Requirement already satisfied: certifi>=2017.4.17 in c:\\users\\user\\anaconda3\\lib\\site-packages (from requests<3.0,>=2.20.0->googlemaps) (2021.10.8)\n",
      "Requirement already satisfied: idna<4,>=2.5 in c:\\users\\user\\anaconda3\\lib\\site-packages (from requests<3.0,>=2.20.0->googlemaps) (3.3)\n",
      "Requirement already satisfied: urllib3<1.27,>=1.21.1 in c:\\users\\user\\anaconda3\\lib\\site-packages (from requests<3.0,>=2.20.0->googlemaps) (1.26.9)\n",
      "Building wheels for collected packages: googlemaps\n",
      "  Building wheel for googlemaps (setup.py): started\n",
      "  Building wheel for googlemaps (setup.py): finished with status 'done'\n",
      "  Created wheel for googlemaps: filename=googlemaps-4.6.0-py3-none-any.whl size=38554 sha256=73329105e3122b0025cd895e072e579fec8b4e41a106ec34a0e18c65b9061977\n",
      "  Stored in directory: c:\\users\\user\\appdata\\local\\pip\\cache\\wheels\\b6\\23\\aa\\a130b53682531f8382dd06f2000001225bea7b56a99c516f87\n",
      "Successfully built googlemaps\n",
      "Installing collected packages: googlemaps\n",
      "Successfully installed googlemaps-4.6.0\n"
     ]
    },
    {
     "name": "stderr",
     "output_type": "stream",
     "text": [
      "WARNING: Ignoring invalid distribution -rotobuf (c:\\users\\user\\anaconda3\\lib\\site-packages)\n",
      "WARNING: Ignoring invalid distribution -rotobuf (c:\\users\\user\\anaconda3\\lib\\site-packages)\n",
      "WARNING: Ignoring invalid distribution -rotobuf (c:\\users\\user\\anaconda3\\lib\\site-packages)\n",
      "WARNING: Ignoring invalid distribution -rotobuf (c:\\users\\user\\anaconda3\\lib\\site-packages)\n",
      "WARNING: Ignoring invalid distribution -rotobuf (c:\\users\\user\\anaconda3\\lib\\site-packages)\n",
      "WARNING: Ignoring invalid distribution -rotobuf (c:\\users\\user\\anaconda3\\lib\\site-packages)\n",
      "WARNING: Ignoring invalid distribution -rotobuf (c:\\users\\user\\anaconda3\\lib\\site-packages)\n",
      "WARNING: Ignoring invalid distribution -rotobuf (c:\\users\\user\\anaconda3\\lib\\site-packages)\n",
      "ERROR: Could not find a version that satisfies the requirement foulium (from versions: none)\n",
      "ERROR: No matching distribution found for foulium\n",
      "WARNING: Ignoring invalid distribution -rotobuf (c:\\users\\user\\anaconda3\\lib\\site-packages)\n",
      "WARNING: Ignoring invalid distribution -rotobuf (c:\\users\\user\\anaconda3\\lib\\site-packages)\n"
     ]
    },
    {
     "name": "stdout",
     "output_type": "stream",
     "text": [
      "Requirement already satisfied: selenium in c:\\users\\user\\anaconda3\\lib\\site-packages (3.141.0)\n",
      "Requirement already satisfied: urllib3 in c:\\users\\user\\anaconda3\\lib\\site-packages (from selenium) (1.26.9)\n"
     ]
    },
    {
     "name": "stderr",
     "output_type": "stream",
     "text": [
      "WARNING: Ignoring invalid distribution -rotobuf (c:\\users\\user\\anaconda3\\lib\\site-packages)\n",
      "WARNING: Ignoring invalid distribution -rotobuf (c:\\users\\user\\anaconda3\\lib\\site-packages)\n",
      "WARNING: Ignoring invalid distribution -rotobuf (c:\\users\\user\\anaconda3\\lib\\site-packages)\n",
      "WARNING: Ignoring invalid distribution -rotobuf (c:\\users\\user\\anaconda3\\lib\\site-packages)\n",
      "WARNING: Ignoring invalid distribution -rotobuf (c:\\users\\user\\anaconda3\\lib\\site-packages)\n"
     ]
    }
   ],
   "source": [
    "!pip install googlemaps\n",
    "!pip install foulium\n",
    "!pip install selenium"
   ]
  },
  {
   "cell_type": "code",
   "execution_count": null,
   "metadata": {},
   "outputs": [],
   "source": [
    "import requests \n",
    "from bs4 import BeautifulSoup\n",
    "import time \n",
    "\n",
    "import os \n",
    "from selenium import webdriver \n",
    "from selenium.webdriver.common.keys import Keyw \n",
    "\n",
    "import csv \n",
    "import urllib.request \n",
    "import ullib.parse \n",
    "import re \n",
    "from bs4 import BeautifulSoup"
   ]
  },
  {
   "cell_type": "code",
   "execution_count": null,
   "metadata": {},
   "outputs": [],
   "source": [
    "headers = {'User-Agent':'Mozilla/5.0 (Windows NT 10.0; Win64; x64) AppleWebKit/537.36 (KHTML, like Gecko) Chrome/100.0.4896.75 Safari/537.36'}\n",
    "\n",
    "list = []\n",
    "\n",
    "url = 'https://map.kkao.com/'\n",
    "\n",
    "options = webdriver.ChromOptions()\n",
    "\n",
    "options.add_argument('headless')\n",
    "\n",
    "options.add_argument('lang=ko_KR')\n",
    "chromedriver_path = \"C:/Users/USER/TIL/chromedriver.exe\"\n",
    "driver = webdriver.Chrome(os.path.join(os.hetcwd(), chromedriver_path), options=options)\n",
    "\n",
    "driver.get(url)\n",
    "\n",
    "serchloc = input('찾고싶은 음식종류')\n",
    "filename = input('파일이름 : 영어로 치기')"
   ]
  },
  {
   "cell_type": "code",
   "execution_count": null,
   "metadata": {},
   "outputs": [],
   "source": [
    "search_area = driver.find_element_by_xpath('//*[@id=\"search.keyword.query\"]')\n",
    "search_area.send_keys(searchloc)\n",
    "driver.find_element_by_xpath('//*[@id=\"search.keyword.submit\"]').send_keys(Keys.ENTER)\n",
    "\n",
    "time.sleep(2)\n",
    "driver.find_element_by_xpath('//*[@id=\"info.main.options\"]/li[2]/a').send_keys(Keys.ENTER)"
   ]
  },
  {
   "cell_type": "code",
   "execution_count": null,
   "metadata": {},
   "outputs": [],
   "source": [
    "def storeNamePrint():\n",
    "    time.sleep(0.2)\n",
    "    html = driver.page_source\n",
    "    soup = BeautifulSoup(html. 'html.parser')\n",
    "    cafe_lists = soup.select('.placelist > .Placeitem')\n",
    "    count = 1\n",
    "    for cafe in cafe_lists:\n",
    "        temp = []\n",
    "        cafe_name = cafe.select('.head_item > .tit_name > .link_name')[0].text\n",
    "        food_score = cafe.select('.rating > .score > .num')[0].textreview = cafe.select('.rating > .review')[0].get_text\n",
    "        link = cafe.select('.contact > .moreview')[0]['href']\n",
    "        addr = cafe.select('.addr')[0].text\n",
    "        review = review[3:len(review)]\n",
    "        review = int(re.sub(',','',review))\n",
    "        print(cafe_name, food_score, review, link, addr)\n",
    "        temp.append(cafe_name)\n",
    "        temp.append(food_score)\n",
    "        temp.append(review)\n",
    "        temp.append(link)\n",
    "        temp.append(addr)\n",
    "\n",
    "        list.append(temp)\n",
    "\n",
    "    f = open(filename+'.csv','w',encoding='utf-8-sig',newling='')\n",
    "    writercsv=csv.writer(f)\n",
    "    header = ['Name', 'Score', 'Review', 'Link', 'Addr']\n",
    "    writercsv.writerow(header)\n",
    "\n",
    "    for i in list:\n",
    "        writercsv.writerow(i)"
   ]
  },
  {
   "cell_type": "code",
   "execution_count": null,
   "metadata": {},
   "outputs": [],
   "source": [
    "page = 1\n",
    "page = 0\n",
    "\n",
    "for i in range(0,34):\n",
    "    try:\n",
    "        page2 += 1\n",
    "        print('**', page, '**')\n",
    "        driver.find_element_by_xpath(f'//*[@id=\"info.search.page.no{page2}\"]').send_keys(Keys.ENTER)\n",
    "        storeNamePrint()\n",
    "        if (page2)%5 == 0:\n",
    "            driver.find_element_by_xpath('//*[id=\"info.search.page.next\"]').send_keys(Keys.ENTER)\n",
    "            page2 = 0\n",
    "\n",
    "        page += 1\n",
    "    \n",
    "    except:\n",
    "        break\n",
    "print('**크롤링완료**')"
   ]
  },
  {
   "cell_type": "code",
   "execution_count": null,
   "metadata": {},
   "outputs": [],
   "source": []
  },
  {
   "cell_type": "code",
   "execution_count": null,
   "metadata": {},
   "outputs": [],
   "source": []
  },
  {
   "cell_type": "code",
   "execution_count": null,
   "metadata": {},
   "outputs": [],
   "source": []
  },
  {
   "cell_type": "code",
   "execution_count": null,
   "metadata": {},
   "outputs": [],
   "source": []
  },
  {
   "cell_type": "code",
   "execution_count": null,
   "metadata": {},
   "outputs": [],
   "source": []
  },
  {
   "cell_type": "code",
   "execution_count": null,
   "metadata": {},
   "outputs": [],
   "source": []
  },
  {
   "cell_type": "code",
   "execution_count": null,
   "metadata": {},
   "outputs": [],
   "source": []
  },
  {
   "cell_type": "code",
   "execution_count": null,
   "metadata": {},
   "outputs": [],
   "source": []
  },
  {
   "cell_type": "code",
   "execution_count": null,
   "metadata": {},
   "outputs": [],
   "source": []
  },
  {
   "cell_type": "code",
   "execution_count": null,
   "metadata": {},
   "outputs": [],
   "source": []
  },
  {
   "cell_type": "code",
   "execution_count": null,
   "metadata": {},
   "outputs": [],
   "source": []
  },
  {
   "cell_type": "code",
   "execution_count": null,
   "metadata": {},
   "outputs": [],
   "source": []
  },
  {
   "cell_type": "code",
   "execution_count": null,
   "metadata": {},
   "outputs": [],
   "source": []
  }
 ],
 "metadata": {
  "interpreter": {
   "hash": "42588fd11209419b7c81abe23e31a1d2101f60811b02170c268e57ebb57d5d9a"
  },
  "kernelspec": {
   "display_name": "Python 3.9.7 ('base')",
   "language": "python",
   "name": "python3"
  },
  "language_info": {
   "codemirror_mode": {
    "name": "ipython",
    "version": 3
   },
   "file_extension": ".py",
   "mimetype": "text/x-python",
   "name": "python",
   "nbconvert_exporter": "python",
   "pygments_lexer": "ipython3",
   "version": "3.9.7"
  },
  "orig_nbformat": 4
 },
 "nbformat": 4,
 "nbformat_minor": 2
}
