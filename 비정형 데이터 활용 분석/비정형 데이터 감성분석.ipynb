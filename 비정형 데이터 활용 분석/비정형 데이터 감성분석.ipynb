{
 "cells": [
  {
   "cell_type": "code",
   "execution_count": 1,
   "metadata": {
    "colab": {
     "base_uri": "https://localhost:8080/"
    },
    "executionInfo": {
     "elapsed": 50477,
     "status": "ok",
     "timestamp": 1649921890302,
     "user": {
      "displayName": "ethan morian",
      "userId": "06379902278847879770"
     },
     "user_tz": -540
    },
    "id": "68hJlxql_1S6",
    "outputId": "8e57b279-ca45-4182-9ebc-37997abe35c9"
   },
   "outputs": [
    {
     "name": "stderr",
     "output_type": "stream",
     "text": [
      "'apt-get'은(는) 내부 또는 외부 명령, 실행할 수 있는 프로그램, 또는\n",
      "배치 파일이 아닙니다.\n",
      "'apt-get'은(는) 내부 또는 외부 명령, 실행할 수 있는 프로그램, 또는\n",
      "배치 파일이 아닙니다.\n"
     ]
    },
    {
     "name": "stdout",
     "output_type": "stream",
     "text": [
      "Collecting JPype1-py3\n",
      "  Using cached JPype1-py3-0.5.5.4.tar.gz (88 kB)\n",
      "  Preparing metadata (setup.py): started\n",
      "  Preparing metadata (setup.py): finished with status 'done'\n",
      "Using legacy 'setup.py install' for JPype1-py3, since package 'wheel' is not installed.\n",
      "Installing collected packages: JPype1-py3\n",
      "  Running setup.py install for JPype1-py3: started\n",
      "  Running setup.py install for JPype1-py3: finished with status 'error'\n"
     ]
    },
    {
     "name": "stderr",
     "output_type": "stream",
     "text": [
      "  error: subprocess-exited-with-error\n",
      "  \n",
      "  Running setup.py install for JPype1-py3 did not run successfully.\n",
      "  exit code: 1\n",
      "  \n",
      "  [54 lines of output]\n",
      "  \n",
      "  ********* DEPRECATION WARNING *********\n",
      "  Warning: This version of JPype is now deprecated, see issue #29 for more details\n",
      "  Warning:     https://github.com/tcalmant/jpype-py3/issues/29\n",
      "  Warning:\n",
      "  Warning: Please use this version instead:\n",
      "  Warning:     https://github.com/jpype-project/jpype\n",
      "  Warning:\n",
      "  Warning: It can be installed using:\n",
      "  Warning:     pip install JPype1\n",
      "  ********* DEPRECATION WARNING *********\n",
      "  \n",
      "  running install\n",
      "  running build\n",
      "  running build_py\n",
      "  creating build\n",
      "  creating build\\lib.win-amd64-3.10\n",
      "  creating build\\lib.win-amd64-3.10\\jpype\n",
      "  copying jpype\\JClassUtil.py -> build\\lib.win-amd64-3.10\\jpype\n",
      "  copying jpype\\nio.py -> build\\lib.win-amd64-3.10\\jpype\n",
      "  copying jpype\\reflect.py -> build\\lib.win-amd64-3.10\\jpype\n",
      "  copying jpype\\_core.py -> build\\lib.win-amd64-3.10\\jpype\n",
      "  copying jpype\\_cygwin.py -> build\\lib.win-amd64-3.10\\jpype\n",
      "  copying jpype\\_darwin.py -> build\\lib.win-amd64-3.10\\jpype\n",
      "  copying jpype\\_gui.py -> build\\lib.win-amd64-3.10\\jpype\n",
      "  copying jpype\\_jarray.py -> build\\lib.win-amd64-3.10\\jpype\n",
      "  copying jpype\\_jclass.py -> build\\lib.win-amd64-3.10\\jpype\n",
      "  copying jpype\\_jcollection.py -> build\\lib.win-amd64-3.10\\jpype\n",
      "  copying jpype\\_jexception.py -> build\\lib.win-amd64-3.10\\jpype\n",
      "  copying jpype\\_jobject.py -> build\\lib.win-amd64-3.10\\jpype\n",
      "  copying jpype\\_jpackage.py -> build\\lib.win-amd64-3.10\\jpype\n",
      "  copying jpype\\_jproxy.py -> build\\lib.win-amd64-3.10\\jpype\n",
      "  copying jpype\\_jvmfinder.py -> build\\lib.win-amd64-3.10\\jpype\n",
      "  copying jpype\\_jwrapper.py -> build\\lib.win-amd64-3.10\\jpype\n",
      "  copying jpype\\_linux.py -> build\\lib.win-amd64-3.10\\jpype\n",
      "  copying jpype\\_properties.py -> build\\lib.win-amd64-3.10\\jpype\n",
      "  copying jpype\\_pykeywords.py -> build\\lib.win-amd64-3.10\\jpype\n",
      "  copying jpype\\_refdaemon.py -> build\\lib.win-amd64-3.10\\jpype\n",
      "  copying jpype\\_windows.py -> build\\lib.win-amd64-3.10\\jpype\n",
      "  copying jpype\\__init__.py -> build\\lib.win-amd64-3.10\\jpype\n",
      "  creating build\\lib.win-amd64-3.10\\jpype\\awt\n",
      "  copying jpype\\awt\\__init__.py -> build\\lib.win-amd64-3.10\\jpype\\awt\n",
      "  creating build\\lib.win-amd64-3.10\\jpype\\awt\\event\n",
      "  copying jpype\\awt\\event\\WindowAdapter.py -> build\\lib.win-amd64-3.10\\jpype\\awt\\event\n",
      "  copying jpype\\awt\\event\\__init__.py -> build\\lib.win-amd64-3.10\\jpype\\awt\\event\n",
      "  creating build\\lib.win-amd64-3.10\\jpypex\n",
      "  copying jpypex\\__init__.py -> build\\lib.win-amd64-3.10\\jpypex\n",
      "  creating build\\lib.win-amd64-3.10\\jpypex\\swing\n",
      "  copying jpypex\\swing\\AbstractAction.py -> build\\lib.win-amd64-3.10\\jpypex\\swing\n",
      "  copying jpypex\\swing\\pyutils.py -> build\\lib.win-amd64-3.10\\jpypex\\swing\n",
      "  copying jpypex\\swing\\__init__.py -> build\\lib.win-amd64-3.10\\jpypex\\swing\n",
      "  running build_ext\n",
      "  building '_jpype' extension\n",
      "  error: Microsoft Visual C++ 14.0 or greater is required. Get it with \"Microsoft C++ Build Tools\": https://visualstudio.microsoft.com/visual-cpp-build-tools/\n",
      "  [end of output]\n",
      "  \n",
      "  note: This error originates from a subprocess, and is likely not a problem with pip.\n",
      "error: legacy-install-failure\n",
      "\n",
      "Encountered error while trying to install package.\n",
      "\n",
      "JPype1-py3\n",
      "\n",
      "note: This is an issue with the package mentioned above, not pip.\n",
      "hint: See above for output from the failure.\n"
     ]
    },
    {
     "name": "stdout",
     "output_type": "stream",
     "text": [
      "Collecting konlpy\n",
      "  Using cached konlpy-0.6.0-py2.py3-none-any.whl (19.4 MB)\n",
      "Collecting JPype1>=0.7.0\n",
      "  Downloading JPype1-1.3.0.tar.gz (820 kB)\n",
      "     -------------------------------------- 820.3/820.3 KB 8.7 MB/s eta 0:00:00\n",
      "  Preparing metadata (setup.py): started\n",
      "  Preparing metadata (setup.py): finished with status 'done'\n",
      "Collecting lxml>=4.1.0\n",
      "  Downloading lxml-4.8.0-cp310-cp310-win_amd64.whl (3.6 MB)\n",
      "     ---------------------------------------- 3.6/3.6 MB 17.8 MB/s eta 0:00:00\n",
      "Collecting numpy>=1.6\n",
      "  Downloading numpy-1.22.3-cp310-cp310-win_amd64.whl (14.7 MB)\n",
      "     --------------------------------------- 14.7/14.7 MB 19.3 MB/s eta 0:00:00\n",
      "Using legacy 'setup.py install' for JPype1, since package 'wheel' is not installed.\n",
      "Installing collected packages: JPype1, numpy, lxml, konlpy\n",
      "  Running setup.py install for JPype1: started\n",
      "  Running setup.py install for JPype1: finished with status 'error'\n"
     ]
    },
    {
     "name": "stderr",
     "output_type": "stream",
     "text": [
      "  error: subprocess-exited-with-error\n",
      "  \n",
      "  Running setup.py install for JPype1 did not run successfully.\n",
      "  exit code: 1\n",
      "  \n",
      "  [54 lines of output]\n",
      "  Falling back to provided JNI headers, since your provided JAVA_HOME \"C:\\Program Files\\Java\\jdk-17.0.2\" does not provide jni.h\n",
      "  Falling back to provided JNI headers, since your provided JAVA_HOME \"C:\\Program Files\\Java\\jdk-17.0.2\" does not provide jni.h\n",
      "  Falling back to provided JNI headers, since your provided JAVA_HOME \"C:\\Program Files\\Java\\jdk-17.0.2\" does not provide jni.h\n",
      "  running install\n",
      "  running build\n",
      "  running build_py\n",
      "  creating build\n",
      "  creating build\\lib.win-amd64-3.10\n",
      "  creating build\\lib.win-amd64-3.10\\jpype\n",
      "  copying jpype\\beans.py -> build\\lib.win-amd64-3.10\\jpype\n",
      "  copying jpype\\config.py -> build\\lib.win-amd64-3.10\\jpype\n",
      "  copying jpype\\dbapi2.py -> build\\lib.win-amd64-3.10\\jpype\n",
      "  copying jpype\\imports.py -> build\\lib.win-amd64-3.10\\jpype\n",
      "  copying jpype\\nio.py -> build\\lib.win-amd64-3.10\\jpype\n",
      "  copying jpype\\pickle.py -> build\\lib.win-amd64-3.10\\jpype\n",
      "  copying jpype\\protocol.py -> build\\lib.win-amd64-3.10\\jpype\n",
      "  copying jpype\\types.py -> build\\lib.win-amd64-3.10\\jpype\n",
      "  copying jpype\\_classpath.py -> build\\lib.win-amd64-3.10\\jpype\n",
      "  copying jpype\\_core.py -> build\\lib.win-amd64-3.10\\jpype\n",
      "  copying jpype\\_gui.py -> build\\lib.win-amd64-3.10\\jpype\n",
      "  copying jpype\\_jarray.py -> build\\lib.win-amd64-3.10\\jpype\n",
      "  copying jpype\\_jclass.py -> build\\lib.win-amd64-3.10\\jpype\n",
      "  copying jpype\\_jcollection.py -> build\\lib.win-amd64-3.10\\jpype\n",
      "  copying jpype\\_jcustomizer.py -> build\\lib.win-amd64-3.10\\jpype\n",
      "  copying jpype\\_jexception.py -> build\\lib.win-amd64-3.10\\jpype\n",
      "  copying jpype\\_jinit.py -> build\\lib.win-amd64-3.10\\jpype\n",
      "  copying jpype\\_jio.py -> build\\lib.win-amd64-3.10\\jpype\n",
      "  copying jpype\\_jmethod.py -> build\\lib.win-amd64-3.10\\jpype\n",
      "  copying jpype\\_jobject.py -> build\\lib.win-amd64-3.10\\jpype\n",
      "  copying jpype\\_jpackage.py -> build\\lib.win-amd64-3.10\\jpype\n",
      "  copying jpype\\_jproxy.py -> build\\lib.win-amd64-3.10\\jpype\n",
      "  copying jpype\\_jstring.py -> build\\lib.win-amd64-3.10\\jpype\n",
      "  copying jpype\\_jthread.py -> build\\lib.win-amd64-3.10\\jpype\n",
      "  copying jpype\\_jvmfinder.py -> build\\lib.win-amd64-3.10\\jpype\n",
      "  copying jpype\\_pykeywords.py -> build\\lib.win-amd64-3.10\\jpype\n",
      "  copying jpype\\__init__.py -> build\\lib.win-amd64-3.10\\jpype\n",
      "  package init file 'jpype\\_pyinstaller\\__init__.py' not found (or not a regular file)\n",
      "  creating build\\lib.win-amd64-3.10\\jpype\\_pyinstaller\n",
      "  copying jpype\\_pyinstaller\\entry_points.py -> build\\lib.win-amd64-3.10\\jpype\\_pyinstaller\n",
      "  copying jpype\\_pyinstaller\\example.py -> build\\lib.win-amd64-3.10\\jpype\\_pyinstaller\n",
      "  copying jpype\\_pyinstaller\\hook-jpype.py -> build\\lib.win-amd64-3.10\\jpype\\_pyinstaller\n",
      "  copying jpype\\_pyinstaller\\test_jpype_pyinstaller.py -> build\\lib.win-amd64-3.10\\jpype\\_pyinstaller\n",
      "  copying jpype\\_core.pyi -> build\\lib.win-amd64-3.10\\jpype\n",
      "  copying jpype\\_jcollection.pyi -> build\\lib.win-amd64-3.10\\jpype\n",
      "  copying jpype\\_jio.pyi -> build\\lib.win-amd64-3.10\\jpype\n",
      "  copying jpype\\_jstring.pyi -> build\\lib.win-amd64-3.10\\jpype\n",
      "  copying jpype\\_jthread.pyi -> build\\lib.win-amd64-3.10\\jpype\n",
      "  running build_ext\n",
      "  Call build extensions\n",
      "  Using Jar cache\n",
      "  copying native\\jars\\org.jpype.jar -> build\\lib.win-amd64-3.10\n",
      "  Call build ext\n",
      "  building '_jpype' extension\n",
      "  error: Microsoft Visual C++ 14.0 or greater is required. Get it with \"Microsoft C++ Build Tools\": https://visualstudio.microsoft.com/visual-cpp-build-tools/\n",
      "  [end of output]\n",
      "  \n",
      "  note: This error originates from a subprocess, and is likely not a problem with pip.\n",
      "error: legacy-install-failure\n",
      "\n",
      "Encountered error while trying to install package.\n",
      "\n",
      "JPype1\n",
      "\n",
      "note: This is an issue with the package mentioned above, not pip.\n",
      "hint: See above for output from the failure.\n",
      "'JAVA_HOME'은(는) 내부 또는 외부 명령, 실행할 수 있는 프로그램, 또는\n",
      "배치 파일이 아닙니다.\n"
     ]
    }
   ],
   "source": [
    "!apt-get update \n",
    "!apt-get install g++ openjdk-8-jdk python-dev python3-dev \n",
    "!pip3 install JPype1-py3\n",
    "!pip3 install konlpy \n",
    "!JAVA_HOME=\"C:\\Program Files\\Java\\jdk-17.0.2\""
   ]
  },
  {
   "cell_type": "code",
   "execution_count": 1,
   "metadata": {
    "executionInfo": {
     "elapsed": 4754,
     "status": "ok",
     "timestamp": 1649922212998,
     "user": {
      "displayName": "ethan morian",
      "userId": "06379902278847879770"
     },
     "user_tz": -540
    },
    "id": "_joAbycg-4a6"
   },
   "outputs": [
    {
     "ename": "JVMNotFoundException",
     "evalue": "No JVM shared library file (jvm.dll) found. Try setting up the JAVA_HOME environment variable properly.",
     "output_type": "error",
     "traceback": [
      "\u001b[1;31m---------------------------------------------------------------------------\u001b[0m",
      "\u001b[1;31mJVMNotFoundException\u001b[0m                      Traceback (most recent call last)",
      "\u001b[1;32mc:\\TIL\\비정형 데이터 활용 분석\\비정형 데이터 감성분석.ipynb 셀 2\u001b[0m in \u001b[0;36m<cell line: 7>\u001b[1;34m()\u001b[0m\n\u001b[0;32m      <a href='vscode-notebook-cell:/c%3A/TIL/%EB%B9%84%EC%A0%95%ED%98%95%20%EB%8D%B0%EC%9D%B4%ED%84%B0%20%ED%99%9C%EC%9A%A9%20%EB%B6%84%EC%84%9D/%EB%B9%84%EC%A0%95%ED%98%95%20%EB%8D%B0%EC%9D%B4%ED%84%B0%20%EA%B0%90%EC%84%B1%EB%B6%84%EC%84%9D.ipynb#ch0000001?line=4'>5</a>\u001b[0m \u001b[39mimport\u001b[39;00m \u001b[39murllib\u001b[39;00m\u001b[39m.\u001b[39;00m\u001b[39mrequest\u001b[39;00m\n\u001b[0;32m      <a href='vscode-notebook-cell:/c%3A/TIL/%EB%B9%84%EC%A0%95%ED%98%95%20%EB%8D%B0%EC%9D%B4%ED%84%B0%20%ED%99%9C%EC%9A%A9%20%EB%B6%84%EC%84%9D/%EB%B9%84%EC%A0%95%ED%98%95%20%EB%8D%B0%EC%9D%B4%ED%84%B0%20%EA%B0%90%EC%84%B1%EB%B6%84%EC%84%9D.ipynb#ch0000001?line=5'>6</a>\u001b[0m \u001b[39mfrom\u001b[39;00m \u001b[39mcollections\u001b[39;00m \u001b[39mimport\u001b[39;00m Counter\n\u001b[1;32m----> <a href='vscode-notebook-cell:/c%3A/TIL/%EB%B9%84%EC%A0%95%ED%98%95%20%EB%8D%B0%EC%9D%B4%ED%84%B0%20%ED%99%9C%EC%9A%A9%20%EB%B6%84%EC%84%9D/%EB%B9%84%EC%A0%95%ED%98%95%20%EB%8D%B0%EC%9D%B4%ED%84%B0%20%EA%B0%90%EC%84%B1%EB%B6%84%EC%84%9D.ipynb#ch0000001?line=6'>7</a>\u001b[0m \u001b[39mfrom\u001b[39;00m \u001b[39mkonlpy\u001b[39;00m\u001b[39m.\u001b[39;00m\u001b[39mtag\u001b[39;00m \u001b[39mimport\u001b[39;00m Okt; t \u001b[39m=\u001b[39m Okt()\n\u001b[0;32m      <a href='vscode-notebook-cell:/c%3A/TIL/%EB%B9%84%EC%A0%95%ED%98%95%20%EB%8D%B0%EC%9D%B4%ED%84%B0%20%ED%99%9C%EC%9A%A9%20%EB%B6%84%EC%84%9D/%EB%B9%84%EC%A0%95%ED%98%95%20%EB%8D%B0%EC%9D%B4%ED%84%B0%20%EA%B0%90%EC%84%B1%EB%B6%84%EC%84%9D.ipynb#ch0000001?line=7'>8</a>\u001b[0m \u001b[39mfrom\u001b[39;00m \u001b[39msklearn\u001b[39;00m\u001b[39m.\u001b[39;00m\u001b[39mmodel_selection\u001b[39;00m \u001b[39mimport\u001b[39;00m train_test_split\n\u001b[0;32m      <a href='vscode-notebook-cell:/c%3A/TIL/%EB%B9%84%EC%A0%95%ED%98%95%20%EB%8D%B0%EC%9D%B4%ED%84%B0%20%ED%99%9C%EC%9A%A9%20%EB%B6%84%EC%84%9D/%EB%B9%84%EC%A0%95%ED%98%95%20%EB%8D%B0%EC%9D%B4%ED%84%B0%20%EA%B0%90%EC%84%B1%EB%B6%84%EC%84%9D.ipynb#ch0000001?line=8'>9</a>\u001b[0m \u001b[39mfrom\u001b[39;00m \u001b[39mtensorflow\u001b[39;00m\u001b[39m.\u001b[39;00m\u001b[39mkeras\u001b[39;00m\u001b[39m.\u001b[39;00m\u001b[39mpreprocessing\u001b[39;00m\u001b[39m.\u001b[39;00m\u001b[39mtext\u001b[39;00m \u001b[39mimport\u001b[39;00m Tokenizer\n",
      "File \u001b[1;32mc:\\ProgramData\\Anaconda3\\lib\\site-packages\\konlpy\\tag\\_okt.py:51\u001b[0m, in \u001b[0;36mOkt.__init__\u001b[1;34m(self, jvmpath, max_heap_size)\u001b[0m\n\u001b[0;32m     49\u001b[0m \u001b[39mdef\u001b[39;00m \u001b[39m__init__\u001b[39m(\u001b[39mself\u001b[39m, jvmpath\u001b[39m=\u001b[39m\u001b[39mNone\u001b[39;00m, max_heap_size\u001b[39m=\u001b[39m\u001b[39m1024\u001b[39m):\n\u001b[0;32m     50\u001b[0m     \u001b[39mif\u001b[39;00m \u001b[39mnot\u001b[39;00m jpype\u001b[39m.\u001b[39misJVMStarted():\n\u001b[1;32m---> 51\u001b[0m         jvm\u001b[39m.\u001b[39;49minit_jvm(jvmpath, max_heap_size)\n\u001b[0;32m     53\u001b[0m     oktJavaPackage \u001b[39m=\u001b[39m jpype\u001b[39m.\u001b[39mJPackage(\u001b[39m'\u001b[39m\u001b[39mkr.lucypark.okt\u001b[39m\u001b[39m'\u001b[39m)\n\u001b[0;32m     54\u001b[0m     OktInterfaceJavaClass \u001b[39m=\u001b[39m oktJavaPackage\u001b[39m.\u001b[39mOktInterface\n",
      "File \u001b[1;32mc:\\ProgramData\\Anaconda3\\lib\\site-packages\\konlpy\\jvm.py:55\u001b[0m, in \u001b[0;36minit_jvm\u001b[1;34m(jvmpath, max_heap_size)\u001b[0m\n\u001b[0;32m     52\u001b[0m args \u001b[39m=\u001b[39m [javadir, os\u001b[39m.\u001b[39msep]\n\u001b[0;32m     53\u001b[0m classpath \u001b[39m=\u001b[39m [f\u001b[39m.\u001b[39mformat(\u001b[39m*\u001b[39margs) \u001b[39mfor\u001b[39;00m f \u001b[39min\u001b[39;00m folder_suffix]\n\u001b[1;32m---> 55\u001b[0m jvmpath \u001b[39m=\u001b[39m jvmpath \u001b[39mor\u001b[39;00m jpype\u001b[39m.\u001b[39;49mgetDefaultJVMPath()\n\u001b[0;32m     57\u001b[0m \u001b[39m# NOTE: Temporary patch for Issue #76. Erase when possible.\u001b[39;00m\n\u001b[0;32m     58\u001b[0m \u001b[39mif\u001b[39;00m sys\u001b[39m.\u001b[39mplatform \u001b[39m==\u001b[39m \u001b[39m'\u001b[39m\u001b[39mdarwin\u001b[39m\u001b[39m'\u001b[39m\\\n\u001b[0;32m     59\u001b[0m         \u001b[39mand\u001b[39;00m jvmpath\u001b[39m.\u001b[39mfind(\u001b[39m'\u001b[39m\u001b[39m1.8.0\u001b[39m\u001b[39m'\u001b[39m) \u001b[39m>\u001b[39m \u001b[39m0\u001b[39m\\\n\u001b[0;32m     60\u001b[0m         \u001b[39mand\u001b[39;00m jvmpath\u001b[39m.\u001b[39mendswith(\u001b[39m'\u001b[39m\u001b[39mlibjvm.dylib\u001b[39m\u001b[39m'\u001b[39m):\n",
      "File \u001b[1;32mc:\\ProgramData\\Anaconda3\\lib\\site-packages\\jpype\\_jvmfinder.py:74\u001b[0m, in \u001b[0;36mgetDefaultJVMPath\u001b[1;34m()\u001b[0m\n\u001b[0;32m     72\u001b[0m \u001b[39melse\u001b[39;00m:\n\u001b[0;32m     73\u001b[0m     finder \u001b[39m=\u001b[39m LinuxJVMFinder()\n\u001b[1;32m---> 74\u001b[0m \u001b[39mreturn\u001b[39;00m finder\u001b[39m.\u001b[39;49mget_jvm_path()\n",
      "File \u001b[1;32mc:\\ProgramData\\Anaconda3\\lib\\site-packages\\jpype\\_jvmfinder.py:212\u001b[0m, in \u001b[0;36mJVMFinder.get_jvm_path\u001b[1;34m(self)\u001b[0m\n\u001b[0;32m    210\u001b[0m \u001b[39mif\u001b[39;00m jvm_notsupport_ext \u001b[39mis\u001b[39;00m \u001b[39mnot\u001b[39;00m \u001b[39mNone\u001b[39;00m:\n\u001b[0;32m    211\u001b[0m     \u001b[39mraise\u001b[39;00m jvm_notsupport_ext\n\u001b[1;32m--> 212\u001b[0m \u001b[39mraise\u001b[39;00m JVMNotFoundException(\u001b[39m\"\u001b[39m\u001b[39mNo JVM shared library file (\u001b[39m\u001b[39m{0}\u001b[39;00m\u001b[39m) \u001b[39m\u001b[39m\"\u001b[39m\n\u001b[0;32m    213\u001b[0m                            \u001b[39m\"\u001b[39m\u001b[39mfound. Try setting up the JAVA_HOME \u001b[39m\u001b[39m\"\u001b[39m\n\u001b[0;32m    214\u001b[0m                            \u001b[39m\"\u001b[39m\u001b[39menvironment variable properly.\u001b[39m\u001b[39m\"\u001b[39m\n\u001b[0;32m    215\u001b[0m                            \u001b[39m.\u001b[39mformat(\u001b[39mself\u001b[39m\u001b[39m.\u001b[39m_libfile))\n",
      "\u001b[1;31mJVMNotFoundException\u001b[0m: No JVM shared library file (jvm.dll) found. Try setting up the JAVA_HOME environment variable properly."
     ]
    }
   ],
   "source": [
    "import re\n",
    "import pandas as pd\n",
    "import numpy as np\n",
    "import matplotlib.pyplot as plt\n",
    "import urllib.request\n",
    "from collections import Counter\n",
    "from konlpy.tag import Okt; t = Okt()\n",
    "from sklearn.model_selection import train_test_split\n",
    "from tensorflow.keras.preprocessing.text import Tokenizer\n",
    "from tensorflow.keras.preprocessing.sequence import pad_sequences\n",
    "from tensorflow.keras.layers import Embedding, Dense, GRU\n",
    "from tensorflow.keras.models import Sequential\n",
    "from tensorflow.keras.models import load_model\n",
    "from tensorflow.keras.callbacks import EarlyStopping, ModelCheckpoint\n",
    "from wordcloud import WordCloud\n",
    "import warnings\n",
    "warnings.filterwarnings(action = 'ignore')"
   ]
  },
  {
   "cell_type": "code",
   "execution_count": 37,
   "metadata": {
    "colab": {
     "base_uri": "https://localhost:8080/",
     "height": 555
    },
    "executionInfo": {
     "elapsed": 564,
     "status": "ok",
     "timestamp": 1649922255365,
     "user": {
      "displayName": "ethan morian",
      "userId": "06379902278847879770"
     },
     "user_tz": -540
    },
    "id": "z-La6yEN-4bF",
    "outputId": "79d32179-6948-4c74-9e2d-e027cb46985f"
   },
   "outputs": [
    {
     "data": {
      "text/html": [
       "<div>\n",
       "<style scoped>\n",
       "    .dataframe tbody tr th:only-of-type {\n",
       "        vertical-align: middle;\n",
       "    }\n",
       "\n",
       "    .dataframe tbody tr th {\n",
       "        vertical-align: top;\n",
       "    }\n",
       "\n",
       "    .dataframe thead th {\n",
       "        text-align: right;\n",
       "    }\n",
       "</style>\n",
       "<table border=\"1\" class=\"dataframe\">\n",
       "  <thead>\n",
       "    <tr style=\"text-align: right;\">\n",
       "      <th></th>\n",
       "      <th>name</th>\n",
       "      <th>score</th>\n",
       "      <th>review</th>\n",
       "    </tr>\n",
       "  </thead>\n",
       "  <tbody>\n",
       "    <tr>\n",
       "      <th>0</th>\n",
       "      <td>명동칼국수샤브샤브 강남대로점</td>\n",
       "      <td>1</td>\n",
       "      <td>설거지좀 제대로 해주세요. 칼국수 그릇 겉에 국물  마른 자국이 항상 있네요</td>\n",
       "    </tr>\n",
       "    <tr>\n",
       "      <th>1</th>\n",
       "      <td>명동칼국수샤브샤브 강남대로점</td>\n",
       "      <td>4</td>\n",
       "      <td>맛있음. 구성좋고 가격도 합리적.  친절함.</td>\n",
       "    </tr>\n",
       "    <tr>\n",
       "      <th>2</th>\n",
       "      <td>명동칼국수샤브샤브 강남대로점</td>\n",
       "      <td>5</td>\n",
       "      <td>가성비 좋고, 죽이 맛있어요. 칼국수는 쏘쏘</td>\n",
       "    </tr>\n",
       "    <tr>\n",
       "      <th>3</th>\n",
       "      <td>명동칼국수샤브샤브 강남대로점</td>\n",
       "      <td>5</td>\n",
       "      <td>깔끔존맛이에요</td>\n",
       "    </tr>\n",
       "    <tr>\n",
       "      <th>4</th>\n",
       "      <td>명동칼국수샤브샤브 강남대로점</td>\n",
       "      <td>3</td>\n",
       "      <td>NaN</td>\n",
       "    </tr>\n",
       "    <tr>\n",
       "      <th>...</th>\n",
       "      <td>...</td>\n",
       "      <td>...</td>\n",
       "      <td>...</td>\n",
       "    </tr>\n",
       "    <tr>\n",
       "      <th>27016</th>\n",
       "      <td>류몽민</td>\n",
       "      <td>5</td>\n",
       "      <td>닭갈비에 밥볶아먹는거 너무좋아요 &gt;&lt; 집에서 해먹음 왜 이맛이 안나는지ㅠㅠ 또 찾아...</td>\n",
       "    </tr>\n",
       "    <tr>\n",
       "      <th>27017</th>\n",
       "      <td>크랩52</td>\n",
       "      <td>4</td>\n",
       "      <td>NaN</td>\n",
       "    </tr>\n",
       "    <tr>\n",
       "      <th>27018</th>\n",
       "      <td>크랩52</td>\n",
       "      <td>5</td>\n",
       "      <td>와이프가 좋아합니다. 와이프가 너무 좋아해서 자주 오고 싶은데 예약이 너무 어려움....</td>\n",
       "    </tr>\n",
       "    <tr>\n",
       "      <th>27019</th>\n",
       "      <td>크랩52</td>\n",
       "      <td>5</td>\n",
       "      <td>NaN</td>\n",
       "    </tr>\n",
       "    <tr>\n",
       "      <th>27020</th>\n",
       "      <td>원조마포소금구이 강남점</td>\n",
       "      <td>5</td>\n",
       "      <td>집근처 주변에 맛있는 갈매기살 맛집이 생겼네요~~ 사장님포함 직원분들도 너무 친절하...</td>\n",
       "    </tr>\n",
       "  </tbody>\n",
       "</table>\n",
       "<p>27021 rows × 3 columns</p>\n",
       "</div>"
      ],
      "text/plain": [
       "                  name  score  \\\n",
       "0      명동칼국수샤브샤브 강남대로점      1   \n",
       "1      명동칼국수샤브샤브 강남대로점      4   \n",
       "2      명동칼국수샤브샤브 강남대로점      5   \n",
       "3      명동칼국수샤브샤브 강남대로점      5   \n",
       "4      명동칼국수샤브샤브 강남대로점      3   \n",
       "...                ...    ...   \n",
       "27016              류몽민      5   \n",
       "27017             크랩52      4   \n",
       "27018             크랩52      5   \n",
       "27019             크랩52      5   \n",
       "27020     원조마포소금구이 강남점      5   \n",
       "\n",
       "                                                  review  \n",
       "0             설거지좀 제대로 해주세요. 칼국수 그릇 겉에 국물  마른 자국이 항상 있네요  \n",
       "1                              맛있음. 구성좋고 가격도 합리적.  친절함.   \n",
       "2                               가성비 좋고, 죽이 맛있어요. 칼국수는 쏘쏘  \n",
       "3                                                깔끔존맛이에요  \n",
       "4                                                    NaN  \n",
       "...                                                  ...  \n",
       "27016  닭갈비에 밥볶아먹는거 너무좋아요 >< 집에서 해먹음 왜 이맛이 안나는지ㅠㅠ 또 찾아...  \n",
       "27017                                                NaN  \n",
       "27018  와이프가 좋아합니다. 와이프가 너무 좋아해서 자주 오고 싶은데 예약이 너무 어려움....  \n",
       "27019                                                NaN  \n",
       "27020  집근처 주변에 맛있는 갈매기살 맛집이 생겼네요~~ 사장님포함 직원분들도 너무 친절하...  \n",
       "\n",
       "[27021 rows x 3 columns]"
      ]
     },
     "execution_count": 37,
     "metadata": {},
     "output_type": "execute_result"
    }
   ],
   "source": [
    "review_data = pd.read_csv('./서울_강남구.csv')\n",
    "review_data"
   ]
  },
  {
   "cell_type": "code",
   "execution_count": 38,
   "metadata": {
    "colab": {
     "base_uri": "https://localhost:8080/"
    },
    "executionInfo": {
     "elapsed": 362,
     "status": "ok",
     "timestamp": 1649922258449,
     "user": {
      "displayName": "ethan morian",
      "userId": "06379902278847879770"
     },
     "user_tz": -540
    },
    "id": "T5kwhLg8-4bH",
    "outputId": "1f037725-226f-42f1-db80-cea6db27cfd9"
   },
   "outputs": [
    {
     "data": {
      "text/plain": [
       "name         0\n",
       "score        0\n",
       "review    4672\n",
       "dtype: int64"
      ]
     },
     "execution_count": 38,
     "metadata": {},
     "output_type": "execute_result"
    }
   ],
   "source": [
    "review_data.isna().sum()"
   ]
  },
  {
   "cell_type": "code",
   "execution_count": 39,
   "metadata": {
    "colab": {
     "base_uri": "https://localhost:8080/"
    },
    "executionInfo": {
     "elapsed": 565,
     "status": "ok",
     "timestamp": 1649922262334,
     "user": {
      "displayName": "ethan morian",
      "userId": "06379902278847879770"
     },
     "user_tz": -540
    },
    "id": "A05jN_4m-4bJ",
    "outputId": "7879d276-5f4d-45f4-9112-c1cd15bd2000"
   },
   "outputs": [
    {
     "data": {
      "text/plain": [
       "name      0\n",
       "score     0\n",
       "review    0\n",
       "dtype: int64"
      ]
     },
     "execution_count": 39,
     "metadata": {},
     "output_type": "execute_result"
    }
   ],
   "source": [
    "review_data = review_data.dropna(how='any')\n",
    "review_data.isna().sum()"
   ]
  },
  {
   "cell_type": "code",
   "execution_count": 40,
   "metadata": {
    "colab": {
     "base_uri": "https://localhost:8080/",
     "height": 555
    },
    "executionInfo": {
     "elapsed": 791,
     "status": "ok",
     "timestamp": 1649922264313,
     "user": {
      "displayName": "ethan morian",
      "userId": "06379902278847879770"
     },
     "user_tz": -540
    },
    "id": "a8AJDoar-4bL",
    "outputId": "fb51e13a-442c-49e1-a774-45f7e3b233a6"
   },
   "outputs": [
    {
     "data": {
      "text/html": [
       "<div>\n",
       "<style scoped>\n",
       "    .dataframe tbody tr th:only-of-type {\n",
       "        vertical-align: middle;\n",
       "    }\n",
       "\n",
       "    .dataframe tbody tr th {\n",
       "        vertical-align: top;\n",
       "    }\n",
       "\n",
       "    .dataframe thead th {\n",
       "        text-align: right;\n",
       "    }\n",
       "</style>\n",
       "<table border=\"1\" class=\"dataframe\">\n",
       "  <thead>\n",
       "    <tr style=\"text-align: right;\">\n",
       "      <th></th>\n",
       "      <th>name</th>\n",
       "      <th>score</th>\n",
       "      <th>review</th>\n",
       "    </tr>\n",
       "  </thead>\n",
       "  <tbody>\n",
       "    <tr>\n",
       "      <th>0</th>\n",
       "      <td>명동칼국수샤브샤브 강남대로점</td>\n",
       "      <td>1</td>\n",
       "      <td>설거지좀 제대로 해주세요. 칼국수 그릇 겉에 국물  마른 자국이 항상 있네요</td>\n",
       "    </tr>\n",
       "    <tr>\n",
       "      <th>1</th>\n",
       "      <td>명동칼국수샤브샤브 강남대로점</td>\n",
       "      <td>4</td>\n",
       "      <td>맛있음. 구성좋고 가격도 합리적.  친절함.</td>\n",
       "    </tr>\n",
       "    <tr>\n",
       "      <th>2</th>\n",
       "      <td>명동칼국수샤브샤브 강남대로점</td>\n",
       "      <td>5</td>\n",
       "      <td>가성비 좋고, 죽이 맛있어요. 칼국수는 쏘쏘</td>\n",
       "    </tr>\n",
       "    <tr>\n",
       "      <th>3</th>\n",
       "      <td>명동칼국수샤브샤브 강남대로점</td>\n",
       "      <td>5</td>\n",
       "      <td>깔끔존맛이에요</td>\n",
       "    </tr>\n",
       "    <tr>\n",
       "      <th>5</th>\n",
       "      <td>세븐브릭스키친</td>\n",
       "      <td>1</td>\n",
       "      <td>너무 불친절해서 다시는 가고 싶지 않아요.</td>\n",
       "    </tr>\n",
       "    <tr>\n",
       "      <th>...</th>\n",
       "      <td>...</td>\n",
       "      <td>...</td>\n",
       "      <td>...</td>\n",
       "    </tr>\n",
       "    <tr>\n",
       "      <th>27014</th>\n",
       "      <td>류몽민</td>\n",
       "      <td>5</td>\n",
       "      <td>닭좋아하는 저희 가족 완전 폭식하고 왔어요 넘넘 맛있어요 ㅎㅎㅎ 매운거 못먹겠다는 ...</td>\n",
       "    </tr>\n",
       "    <tr>\n",
       "      <th>27015</th>\n",
       "      <td>류몽민</td>\n",
       "      <td>5</td>\n",
       "      <td>닭갈비에 막국수 조합 짱이에요 ㅜㅜ 짱 맛있음.... 다음에 또 올게요 가족들 다 ...</td>\n",
       "    </tr>\n",
       "    <tr>\n",
       "      <th>27016</th>\n",
       "      <td>류몽민</td>\n",
       "      <td>5</td>\n",
       "      <td>닭갈비에 밥볶아먹는거 너무좋아요 &gt;&lt; 집에서 해먹음 왜 이맛이 안나는지ㅠㅠ 또 찾아...</td>\n",
       "    </tr>\n",
       "    <tr>\n",
       "      <th>27018</th>\n",
       "      <td>크랩52</td>\n",
       "      <td>5</td>\n",
       "      <td>와이프가 좋아합니다. 와이프가 너무 좋아해서 자주 오고 싶은데 예약이 너무 어려움....</td>\n",
       "    </tr>\n",
       "    <tr>\n",
       "      <th>27020</th>\n",
       "      <td>원조마포소금구이 강남점</td>\n",
       "      <td>5</td>\n",
       "      <td>집근처 주변에 맛있는 갈매기살 맛집이 생겼네요~~ 사장님포함 직원분들도 너무 친절하...</td>\n",
       "    </tr>\n",
       "  </tbody>\n",
       "</table>\n",
       "<p>22349 rows × 3 columns</p>\n",
       "</div>"
      ],
      "text/plain": [
       "                  name  score  \\\n",
       "0      명동칼국수샤브샤브 강남대로점      1   \n",
       "1      명동칼국수샤브샤브 강남대로점      4   \n",
       "2      명동칼국수샤브샤브 강남대로점      5   \n",
       "3      명동칼국수샤브샤브 강남대로점      5   \n",
       "5              세븐브릭스키친      1   \n",
       "...                ...    ...   \n",
       "27014              류몽민      5   \n",
       "27015              류몽민      5   \n",
       "27016              류몽민      5   \n",
       "27018             크랩52      5   \n",
       "27020     원조마포소금구이 강남점      5   \n",
       "\n",
       "                                                  review  \n",
       "0             설거지좀 제대로 해주세요. 칼국수 그릇 겉에 국물  마른 자국이 항상 있네요  \n",
       "1                              맛있음. 구성좋고 가격도 합리적.  친절함.   \n",
       "2                               가성비 좋고, 죽이 맛있어요. 칼국수는 쏘쏘  \n",
       "3                                                깔끔존맛이에요  \n",
       "5                                너무 불친절해서 다시는 가고 싶지 않아요.  \n",
       "...                                                  ...  \n",
       "27014  닭좋아하는 저희 가족 완전 폭식하고 왔어요 넘넘 맛있어요 ㅎㅎㅎ 매운거 못먹겠다는 ...  \n",
       "27015  닭갈비에 막국수 조합 짱이에요 ㅜㅜ 짱 맛있음.... 다음에 또 올게요 가족들 다 ...  \n",
       "27016  닭갈비에 밥볶아먹는거 너무좋아요 >< 집에서 해먹음 왜 이맛이 안나는지ㅠㅠ 또 찾아...  \n",
       "27018  와이프가 좋아합니다. 와이프가 너무 좋아해서 자주 오고 싶은데 예약이 너무 어려움....  \n",
       "27020  집근처 주변에 맛있는 갈매기살 맛집이 생겼네요~~ 사장님포함 직원분들도 너무 친절하...  \n",
       "\n",
       "[22349 rows x 3 columns]"
      ]
     },
     "execution_count": 40,
     "metadata": {},
     "output_type": "execute_result"
    }
   ],
   "source": [
    "review_data"
   ]
  },
  {
   "cell_type": "code",
   "execution_count": 41,
   "metadata": {
    "colab": {
     "base_uri": "https://localhost:8080/",
     "height": 302
    },
    "executionInfo": {
     "elapsed": 19,
     "status": "ok",
     "timestamp": 1649922264782,
     "user": {
      "displayName": "ethan morian",
      "userId": "06379902278847879770"
     },
     "user_tz": -540
    },
    "id": "8-OEe6FW-4bM",
    "outputId": "dab6e5f4-d028-4816-bb96-fde1aef94bc1"
   },
   "outputs": [
    {
     "data": {
      "text/html": [
       "<div>\n",
       "<style scoped>\n",
       "    .dataframe tbody tr th:only-of-type {\n",
       "        vertical-align: middle;\n",
       "    }\n",
       "\n",
       "    .dataframe tbody tr th {\n",
       "        vertical-align: top;\n",
       "    }\n",
       "\n",
       "    .dataframe thead th {\n",
       "        text-align: right;\n",
       "    }\n",
       "</style>\n",
       "<table border=\"1\" class=\"dataframe\">\n",
       "  <thead>\n",
       "    <tr style=\"text-align: right;\">\n",
       "      <th></th>\n",
       "      <th>name</th>\n",
       "      <th>score</th>\n",
       "      <th>review</th>\n",
       "      <th>label</th>\n",
       "    </tr>\n",
       "  </thead>\n",
       "  <tbody>\n",
       "    <tr>\n",
       "      <th>0</th>\n",
       "      <td>명동칼국수샤브샤브 강남대로점</td>\n",
       "      <td>1</td>\n",
       "      <td>설거지좀 제대로 해주세요. 칼국수 그릇 겉에 국물  마른 자국이 항상 있네요</td>\n",
       "      <td>0</td>\n",
       "    </tr>\n",
       "    <tr>\n",
       "      <th>1</th>\n",
       "      <td>명동칼국수샤브샤브 강남대로점</td>\n",
       "      <td>4</td>\n",
       "      <td>맛있음. 구성좋고 가격도 합리적.  친절함.</td>\n",
       "      <td>1</td>\n",
       "    </tr>\n",
       "    <tr>\n",
       "      <th>2</th>\n",
       "      <td>명동칼국수샤브샤브 강남대로점</td>\n",
       "      <td>5</td>\n",
       "      <td>가성비 좋고, 죽이 맛있어요. 칼국수는 쏘쏘</td>\n",
       "      <td>1</td>\n",
       "    </tr>\n",
       "    <tr>\n",
       "      <th>3</th>\n",
       "      <td>명동칼국수샤브샤브 강남대로점</td>\n",
       "      <td>5</td>\n",
       "      <td>깔끔존맛이에요</td>\n",
       "      <td>1</td>\n",
       "    </tr>\n",
       "    <tr>\n",
       "      <th>5</th>\n",
       "      <td>세븐브릭스키친</td>\n",
       "      <td>1</td>\n",
       "      <td>너무 불친절해서 다시는 가고 싶지 않아요.</td>\n",
       "      <td>0</td>\n",
       "    </tr>\n",
       "  </tbody>\n",
       "</table>\n",
       "</div>"
      ],
      "text/plain": [
       "              name  score                                      review  label\n",
       "0  명동칼국수샤브샤브 강남대로점      1  설거지좀 제대로 해주세요. 칼국수 그릇 겉에 국물  마른 자국이 항상 있네요      0\n",
       "1  명동칼국수샤브샤브 강남대로점      4                   맛있음. 구성좋고 가격도 합리적.  친절함.       1\n",
       "2  명동칼국수샤브샤브 강남대로점      5                    가성비 좋고, 죽이 맛있어요. 칼국수는 쏘쏘      1\n",
       "3  명동칼국수샤브샤브 강남대로점      5                                     깔끔존맛이에요      1\n",
       "5          세븐브릭스키친      1                     너무 불친절해서 다시는 가고 싶지 않아요.      0"
      ]
     },
     "execution_count": 41,
     "metadata": {},
     "output_type": "execute_result"
    }
   ],
   "source": [
    "review_data['label'] = np.select([review_data.score > 3], [1], default=0)\n",
    "review_data[:5]"
   ]
  },
  {
   "cell_type": "code",
   "execution_count": 42,
   "metadata": {
    "colab": {
     "base_uri": "https://localhost:8080/"
    },
    "executionInfo": {
     "elapsed": 561,
     "status": "ok",
     "timestamp": 1649922267044,
     "user": {
      "displayName": "ethan morian",
      "userId": "06379902278847879770"
     },
     "user_tz": -540
    },
    "id": "ZZ_xbLLY-4bO",
    "outputId": "a62e7177-43ad-42e1-edf7-595e457b1a5e"
   },
   "outputs": [
    {
     "data": {
      "text/plain": [
       "(5, 15303, 2)"
      ]
     },
     "execution_count": 42,
     "metadata": {},
     "output_type": "execute_result"
    }
   ],
   "source": [
    "# 고유값 확인\n",
    "review_data['score'].nunique(), review_data['review'].nunique(), review_data['label'].nunique()"
   ]
  },
  {
   "cell_type": "code",
   "execution_count": 43,
   "metadata": {
    "colab": {
     "base_uri": "https://localhost:8080/"
    },
    "executionInfo": {
     "elapsed": 4,
     "status": "ok",
     "timestamp": 1649922268287,
     "user": {
      "displayName": "ethan morian",
      "userId": "06379902278847879770"
     },
     "user_tz": -540
    },
    "id": "wxKxStSE-4bR",
    "outputId": "d4011124-297c-409f-96b9-bc64f411e386"
   },
   "outputs": [
    {
     "data": {
      "text/plain": [
       "15303"
      ]
     },
     "execution_count": 43,
     "metadata": {},
     "output_type": "execute_result"
    }
   ],
   "source": [
    "# 중복 삭제\n",
    "review_data.drop_duplicates(subset=['review'], inplace=True)\n",
    "len(review_data)"
   ]
  },
  {
   "cell_type": "code",
   "execution_count": 44,
   "metadata": {
    "colab": {
     "base_uri": "https://localhost:8080/"
    },
    "executionInfo": {
     "elapsed": 7,
     "status": "ok",
     "timestamp": 1649922268850,
     "user": {
      "displayName": "ethan morian",
      "userId": "06379902278847879770"
     },
     "user_tz": -540
    },
    "id": "R2DCbZMs-4bU",
    "outputId": "c87b948e-7c3d-4b45-ee56-2c91743443aa"
   },
   "outputs": [
    {
     "data": {
      "text/plain": [
       "False"
      ]
     },
     "execution_count": 44,
     "metadata": {},
     "output_type": "execute_result"
    }
   ],
   "source": [
    "review_data.isnull().values.any()"
   ]
  },
  {
   "cell_type": "code",
   "execution_count": 45,
   "metadata": {
    "colab": {
     "base_uri": "https://localhost:8080/"
    },
    "executionInfo": {
     "elapsed": 5,
     "status": "ok",
     "timestamp": 1649922269416,
     "user": {
      "displayName": "ethan morian",
      "userId": "06379902278847879770"
     },
     "user_tz": -540
    },
    "id": "yfZ_xL3P-4bX",
    "outputId": "9053f6d9-7b20-4031-8242-b431e2f5b87a"
   },
   "outputs": [
    {
     "data": {
      "text/plain": [
       "(11477, 3826)"
      ]
     },
     "execution_count": 45,
     "metadata": {},
     "output_type": "execute_result"
    }
   ],
   "source": [
    "# 데이터 분리\n",
    "train_data, test_data = train_test_split(review_data, test_size = 0.25, random_state = 42)\n",
    "len(train_data), len(test_data)"
   ]
  },
  {
   "cell_type": "code",
   "execution_count": 46,
   "metadata": {
    "colab": {
     "base_uri": "https://localhost:8080/",
     "height": 281
    },
    "executionInfo": {
     "elapsed": 700,
     "status": "ok",
     "timestamp": 1649922548420,
     "user": {
      "displayName": "ethan morian",
      "userId": "06379902278847879770"
     },
     "user_tz": -540
    },
    "id": "HkGY_Hmk-4bZ",
    "outputId": "bc455de1-4d76-4fc6-f27a-ce751ef37acd"
   },
   "outputs": [
    {
     "data": {
      "text/plain": [
       "<AxesSubplot:>"
      ]
     },
     "execution_count": 46,
     "metadata": {},
     "output_type": "execute_result"
    },
    {
     "data": {
      "image/png": "[encoded data removed]",
      "text/plain": [
       "<Figure size 432x288 with 1 Axes>"
      ]
     },
     "metadata": {
      "needs_background": "light"
     },
     "output_type": "display_data"
    }
   ],
   "source": [
    "# 데이터 분포\n",
    "train_data['label'].value_counts().plot(kind = 'bar')"
   ]
  },
  {
   "cell_type": "code",
   "execution_count": 47,
   "metadata": {
    "colab": {
     "base_uri": "https://localhost:8080/",
     "height": 112
    },
    "executionInfo": {
     "elapsed": 18,
     "status": "ok",
     "timestamp": 1649922271014,
     "user": {
      "displayName": "ethan morian",
      "userId": "06379902278847879770"
     },
     "user_tz": -540
    },
    "id": "c5AB8o_K-4bb",
    "outputId": "e232e726-ada2-4fda-9e34-58ad5b6ee518"
   },
   "outputs": [
    {
     "data": {
      "text/html": [
       "<div>\n",
       "<style scoped>\n",
       "    .dataframe tbody tr th:only-of-type {\n",
       "        vertical-align: middle;\n",
       "    }\n",
       "\n",
       "    .dataframe tbody tr th {\n",
       "        vertical-align: top;\n",
       "    }\n",
       "\n",
       "    .dataframe thead th {\n",
       "        text-align: right;\n",
       "    }\n",
       "</style>\n",
       "<table border=\"1\" class=\"dataframe\">\n",
       "  <thead>\n",
       "    <tr style=\"text-align: right;\">\n",
       "      <th></th>\n",
       "      <th>label</th>\n",
       "      <th>count</th>\n",
       "    </tr>\n",
       "  </thead>\n",
       "  <tbody>\n",
       "    <tr>\n",
       "      <th>0</th>\n",
       "      <td>0</td>\n",
       "      <td>4500</td>\n",
       "    </tr>\n",
       "    <tr>\n",
       "      <th>1</th>\n",
       "      <td>1</td>\n",
       "      <td>6977</td>\n",
       "    </tr>\n",
       "  </tbody>\n",
       "</table>\n",
       "</div>"
      ],
      "text/plain": [
       "   label  count\n",
       "0      0   4500\n",
       "1      1   6977"
      ]
     },
     "execution_count": 47,
     "metadata": {},
     "output_type": "execute_result"
    }
   ],
   "source": [
    "train_data.groupby('label').size().reset_index(name = 'count')"
   ]
  },
  {
   "cell_type": "code",
   "execution_count": 48,
   "metadata": {
    "colab": {
     "base_uri": "https://localhost:8080/"
    },
    "executionInfo": {
     "elapsed": 18,
     "status": "ok",
     "timestamp": 1649922271016,
     "user": {
      "displayName": "ethan morian",
      "userId": "06379902278847879770"
     },
     "user_tz": -540
    },
    "id": "1AXkDm-U-4bd",
    "outputId": "ca610c8d-357d-441e-8b9d-6ed3dbd40cb8"
   },
   "outputs": [
    {
     "data": {
      "text/plain": [
       "name       0\n",
       "score      0\n",
       "review    53\n",
       "label      0\n",
       "dtype: int64"
      ]
     },
     "execution_count": 48,
     "metadata": {},
     "output_type": "execute_result"
    }
   ],
   "source": [
    "train_data['review'] = train_data['review'].str.replace(\"[^ㄱ-ㅎㅏ-ㅣ가-힣 ]\",\"\")\n",
    "train_data['review'].replace('', np.nan, inplace=True)\n",
    "train_data.isnull().sum()"
   ]
  },
  {
   "cell_type": "code",
   "execution_count": 49,
   "metadata": {
    "colab": {
     "base_uri": "https://localhost:8080/"
    },
    "executionInfo": {
     "elapsed": 8,
     "status": "ok",
     "timestamp": 1649922271556,
     "user": {
      "displayName": "ethan morian",
      "userId": "06379902278847879770"
     },
     "user_tz": -540
    },
    "id": "IF8TNMjc-4bf",
    "outputId": "7c6d99c9-3e12-4a47-835d-d20db08f57d5"
   },
   "outputs": [
    {
     "data": {
      "text/plain": [
       "(name      0\n",
       " score     0\n",
       " review    0\n",
       " label     0\n",
       " dtype: int64,\n",
       " 11424)"
      ]
     },
     "execution_count": 49,
     "metadata": {},
     "output_type": "execute_result"
    }
   ],
   "source": [
    "train_data = train_data.dropna(how='any')\n",
    "train_data.isnull().sum(), len(train_data)"
   ]
  },
  {
   "cell_type": "code",
   "execution_count": 50,
   "metadata": {
    "colab": {
     "base_uri": "https://localhost:8080/"
    },
    "executionInfo": {
     "elapsed": 12,
     "status": "ok",
     "timestamp": 1649922275046,
     "user": {
      "displayName": "ethan morian",
      "userId": "06379902278847879770"
     },
     "user_tz": -540
    },
    "id": "lVUnfApW-4bh",
    "outputId": "b4b34e4c-2ab5-4f1a-b582-046957328e6e"
   },
   "outputs": [
    {
     "data": {
      "text/plain": [
       "(name      0\n",
       " score     0\n",
       " review    0\n",
       " label     0\n",
       " dtype: int64,\n",
       " 3809)"
      ]
     },
     "execution_count": 50,
     "metadata": {},
     "output_type": "execute_result"
    }
   ],
   "source": [
    "test_data.drop_duplicates(subset = ['review'], inplace=True)\n",
    "test_data['review'] = test_data['review'].str.replace(\"[^ㄱ-ㅎㅏ-ㅣ가-힣 ]\",\"\")\n",
    "test_data['review'].replace('', np.nan, inplace=True)\n",
    "test_data = test_data.dropna(how='any')\n",
    "test_data.isnull().sum(), len(test_data)"
   ]
  },
  {
   "cell_type": "code",
   "execution_count": 51,
   "metadata": {
    "colab": {
     "base_uri": "https://localhost:8080/"
    },
    "executionInfo": {
     "elapsed": 7277,
     "status": "ok",
     "timestamp": 1649922282961,
     "user": {
      "displayName": "ethan morian",
      "userId": "06379902278847879770"
     },
     "user_tz": -540
    },
    "id": "BOrp6rg1-4bj",
    "outputId": "4a5076df-ef5b-4bfa-8b88-12894bfb49c7"
   },
   "outputs": [
    {
     "data": {
      "text/plain": [
       "['정상', '에', '선', '기쁨', '을', '다른', '사람', '들', '과', '함께', '나누자']"
      ]
     },
     "execution_count": 51,
     "metadata": {},
     "output_type": "execute_result"
    }
   ],
   "source": [
    "# 토큰화 검사\n",
    "t.morphs('정상에 선 기쁨을 다른 사람들과 함께 나누자')"
   ]
  },
  {
   "cell_type": "code",
   "execution_count": 52,
   "metadata": {
    "executionInfo": {
     "elapsed": 9,
     "status": "ok",
     "timestamp": 1649922282962,
     "user": {
      "displayName": "ethan morian",
      "userId": "06379902278847879770"
     },
     "user_tz": -540
    },
    "id": "UliI9zNF-4bk"
   },
   "outputs": [],
   "source": [
    "# 수제 불용어\n",
    "stopwords = ['도', '는', '다', '의', '가', '이', '은', '한', '에', '하', '고', '을', '를', '인', '듯', '과', '와', '네', '들', '듯', '지', '임', '게']"
   ]
  },
  {
   "cell_type": "code",
   "execution_count": 53,
   "metadata": {
    "executionInfo": {
     "elapsed": 8857,
     "status": "ok",
     "timestamp": 1649922291813,
     "user": {
      "displayName": "ethan morian",
      "userId": "06379902278847879770"
     },
     "user_tz": -540
    },
    "id": "O35nKhk2-4bl"
   },
   "outputs": [],
   "source": [
    "train_data['tokenized'] = train_data['review'].apply(t.morphs)\n",
    "train_data['tokenized'] = train_data['tokenized'].apply(lambda x: [item for item in x if item not in stopwords])"
   ]
  },
  {
   "cell_type": "code",
   "execution_count": 54,
   "metadata": {
    "executionInfo": {
     "elapsed": 2383,
     "status": "ok",
     "timestamp": 1649922294180,
     "user": {
      "displayName": "ethan morian",
      "userId": "06379902278847879770"
     },
     "user_tz": -540
    },
    "id": "hWktnsBV-4bm"
   },
   "outputs": [],
   "source": [
    "test_data['tokenized'] = test_data['review'].apply(t.morphs)\n",
    "test_data['tokenized'] = test_data['tokenized'].apply(lambda x: [item for item in x if item not in stopwords])"
   ]
  },
  {
   "cell_type": "code",
   "execution_count": 55,
   "metadata": {
    "executionInfo": {
     "elapsed": 21,
     "status": "ok",
     "timestamp": 1649922294181,
     "user": {
      "displayName": "ethan morian",
      "userId": "06379902278847879770"
     },
     "user_tz": -540
    },
    "id": "r0XhsABy-4bo"
   },
   "outputs": [],
   "source": [
    "# 긍정과 부정에 따른 단어의 빈도수\n",
    "negative_words = np.hstack(train_data[train_data.label == 0]['tokenized'].values)\n",
    "positive_words = np.hstack(train_data[train_data.label == 1]['tokenized'].values)"
   ]
  },
  {
   "cell_type": "code",
   "execution_count": 56,
   "metadata": {
    "colab": {
     "base_uri": "https://localhost:8080/"
    },
    "executionInfo": {
     "elapsed": 20,
     "status": "ok",
     "timestamp": 1649922294181,
     "user": {
      "displayName": "ethan morian",
      "userId": "06379902278847879770"
     },
     "user_tz": -540
    },
    "id": "Ta7HUvoT-4bp",
    "outputId": "ef78f7ae-4e3a-419f-cec1-a75bcd2eb687"
   },
   "outputs": [
    {
     "name": "stdout",
     "output_type": "stream",
     "text": [
      "[('맛', 1467), ('안', 1050), ('너무', 839), ('직원', 584), ('분', 569), ('에서', 528), ('음식', 527), ('으로', 526), ('하고', 500), ('로', 476), ('가격', 475), ('만', 456), ('그냥', 443), ('요', 427), ('주문', 412), ('별로', 373), ('좀', 361), ('못', 358), ('곳', 357), ('손님', 352)]\n"
     ]
    }
   ],
   "source": [
    "negative_word_count = Counter(negative_words)\n",
    "print(negative_word_count.most_common(20))"
   ]
  },
  {
   "cell_type": "code",
   "execution_count": 57,
   "metadata": {
    "colab": {
     "base_uri": "https://localhost:8080/"
    },
    "executionInfo": {
     "elapsed": 17,
     "status": "ok",
     "timestamp": 1649922294182,
     "user": {
      "displayName": "ethan morian",
      "userId": "06379902278847879770"
     },
     "user_tz": -540
    },
    "id": "Rw8s_X3Y-4br",
    "outputId": "62cf67d2-8094-4c26-9b9b-45cef8df5ce8"
   },
   "outputs": [
    {
     "name": "stdout",
     "output_type": "stream",
     "text": [
      "[('맛', 1513), ('너무', 1340), ('맛있어요', 990), ('잘', 651), ('님', 616), ('분위기', 614), ('진짜', 576), ('곳', 546), ('음식', 537), ('최고', 513), ('사장', 508), ('으로', 506), ('가격', 499), ('정말', 475), ('직원', 469), ('에서', 455), ('맛있고', 452), ('로', 446), ('좋아요', 434), ('요', 425)]\n"
     ]
    }
   ],
   "source": [
    "positive_word_count = Counter(positive_words)\n",
    "print(positive_word_count.most_common(20))"
   ]
  },
  {
   "cell_type": "code",
   "execution_count": 68,
   "metadata": {},
   "outputs": [
    {
     "ename": "ImportError",
     "evalue": "The _imagingft C module is not installed",
     "output_type": "error",
     "traceback": [
      "\u001b[1;31m---------------------------------------------------------------------------\u001b[0m",
      "\u001b[1;31mImportError\u001b[0m                               Traceback (most recent call last)",
      "Input \u001b[1;32mIn [68]\u001b[0m, in \u001b[0;36m<cell line: 2>\u001b[1;34m()\u001b[0m\n\u001b[0;32m      1\u001b[0m wc \u001b[38;5;241m=\u001b[39m WordCloud(font_path\u001b[38;5;241m=\u001b[39m\u001b[38;5;124m'\u001b[39m\u001b[38;5;124mC:/Windows/Fonts/malgun.ttf\u001b[39m\u001b[38;5;124m'\u001b[39m, width\u001b[38;5;241m=\u001b[39m\u001b[38;5;241m400\u001b[39m, height\u001b[38;5;241m=\u001b[39m\u001b[38;5;241m400\u001b[39m, scale\u001b[38;5;241m=\u001b[39m\u001b[38;5;241m2.0\u001b[39m, max_font_size\u001b[38;5;241m=\u001b[39m\u001b[38;5;241m250\u001b[39m)\n\u001b[1;32m----> 2\u001b[0m gen \u001b[38;5;241m=\u001b[39m \u001b[43mwc\u001b[49m\u001b[38;5;241;43m.\u001b[39;49m\u001b[43mgenerate_from_frequencies\u001b[49m\u001b[43m(\u001b[49m\u001b[43mnegative_word_count\u001b[49m\u001b[43m)\u001b[49m\n\u001b[0;32m      3\u001b[0m plt\u001b[38;5;241m.\u001b[39mfigure()\n\u001b[0;32m      4\u001b[0m plt\u001b[38;5;241m.\u001b[39mimshow(gen)\n",
      "File \u001b[1;32m~\\anaconda3\\lib\\site-packages\\wordcloud\\wordcloud.py:496\u001b[0m, in \u001b[0;36mWordCloud.generate_from_frequencies\u001b[1;34m(self, frequencies, max_font_size)\u001b[0m\n\u001b[0;32m    493\u001b[0m tried_other_orientation \u001b[38;5;241m=\u001b[39m \u001b[38;5;28;01mFalse\u001b[39;00m\n\u001b[0;32m    494\u001b[0m \u001b[38;5;28;01mwhile\u001b[39;00m \u001b[38;5;28;01mTrue\u001b[39;00m:\n\u001b[0;32m    495\u001b[0m     \u001b[38;5;66;03m# try to find a position\u001b[39;00m\n\u001b[1;32m--> 496\u001b[0m     font \u001b[38;5;241m=\u001b[39m \u001b[43mImageFont\u001b[49m\u001b[38;5;241;43m.\u001b[39;49m\u001b[43mtruetype\u001b[49m\u001b[43m(\u001b[49m\u001b[38;5;28;43mself\u001b[39;49m\u001b[38;5;241;43m.\u001b[39;49m\u001b[43mfont_path\u001b[49m\u001b[43m,\u001b[49m\u001b[43m \u001b[49m\u001b[43mfont_size\u001b[49m\u001b[43m)\u001b[49m\n\u001b[0;32m    497\u001b[0m     \u001b[38;5;66;03m# transpose font optionally\u001b[39;00m\n\u001b[0;32m    498\u001b[0m     transposed_font \u001b[38;5;241m=\u001b[39m ImageFont\u001b[38;5;241m.\u001b[39mTransposedFont(\n\u001b[0;32m    499\u001b[0m         font, orientation\u001b[38;5;241m=\u001b[39morientation)\n",
      "File \u001b[1;32m~\\anaconda3\\lib\\site-packages\\PIL\\ImageFont.py:844\u001b[0m, in \u001b[0;36mtruetype\u001b[1;34m(font, size, index, encoding, layout_engine)\u001b[0m\n\u001b[0;32m    841\u001b[0m     \u001b[38;5;28;01mreturn\u001b[39;00m FreeTypeFont(font, size, index, encoding, layout_engine)\n\u001b[0;32m    843\u001b[0m \u001b[38;5;28;01mtry\u001b[39;00m:\n\u001b[1;32m--> 844\u001b[0m     \u001b[38;5;28;01mreturn\u001b[39;00m \u001b[43mfreetype\u001b[49m\u001b[43m(\u001b[49m\u001b[43mfont\u001b[49m\u001b[43m)\u001b[49m\n\u001b[0;32m    845\u001b[0m \u001b[38;5;28;01mexcept\u001b[39;00m \u001b[38;5;167;01mOSError\u001b[39;00m:\n\u001b[0;32m    846\u001b[0m     \u001b[38;5;28;01mif\u001b[39;00m \u001b[38;5;129;01mnot\u001b[39;00m isPath(font):\n",
      "File \u001b[1;32m~\\anaconda3\\lib\\site-packages\\PIL\\ImageFont.py:841\u001b[0m, in \u001b[0;36mtruetype.<locals>.freetype\u001b[1;34m(font)\u001b[0m\n\u001b[0;32m    840\u001b[0m \u001b[38;5;28;01mdef\u001b[39;00m \u001b[38;5;21mfreetype\u001b[39m(font):\n\u001b[1;32m--> 841\u001b[0m     \u001b[38;5;28;01mreturn\u001b[39;00m \u001b[43mFreeTypeFont\u001b[49m\u001b[43m(\u001b[49m\u001b[43mfont\u001b[49m\u001b[43m,\u001b[49m\u001b[43m \u001b[49m\u001b[43msize\u001b[49m\u001b[43m,\u001b[49m\u001b[43m \u001b[49m\u001b[43mindex\u001b[49m\u001b[43m,\u001b[49m\u001b[43m \u001b[49m\u001b[43mencoding\u001b[49m\u001b[43m,\u001b[49m\u001b[43m \u001b[49m\u001b[43mlayout_engine\u001b[49m\u001b[43m)\u001b[49m\n",
      "File \u001b[1;32m~\\anaconda3\\lib\\site-packages\\PIL\\ImageFont.py:169\u001b[0m, in \u001b[0;36mFreeTypeFont.__init__\u001b[1;34m(self, font, size, index, encoding, layout_engine)\u001b[0m\n\u001b[0;32m    167\u001b[0m \u001b[38;5;28;01mif\u001b[39;00m layout_engine \u001b[38;5;129;01mnot\u001b[39;00m \u001b[38;5;129;01min\u001b[39;00m (LAYOUT_BASIC, LAYOUT_RAQM):\n\u001b[0;32m    168\u001b[0m     layout_engine \u001b[38;5;241m=\u001b[39m LAYOUT_BASIC\n\u001b[1;32m--> 169\u001b[0m     \u001b[38;5;28;01mif\u001b[39;00m \u001b[43mcore\u001b[49m\u001b[38;5;241;43m.\u001b[39;49m\u001b[43mHAVE_RAQM\u001b[49m:\n\u001b[0;32m    170\u001b[0m         layout_engine \u001b[38;5;241m=\u001b[39m LAYOUT_RAQM\n\u001b[0;32m    171\u001b[0m \u001b[38;5;28;01melif\u001b[39;00m layout_engine \u001b[38;5;241m==\u001b[39m LAYOUT_RAQM \u001b[38;5;129;01mand\u001b[39;00m \u001b[38;5;129;01mnot\u001b[39;00m core\u001b[38;5;241m.\u001b[39mHAVE_RAQM:\n",
      "File \u001b[1;32m~\\anaconda3\\lib\\site-packages\\PIL\\ImageFont.py:43\u001b[0m, in \u001b[0;36m_imagingft_not_installed.__getattr__\u001b[1;34m(self, id)\u001b[0m\n\u001b[0;32m     42\u001b[0m \u001b[38;5;28;01mdef\u001b[39;00m \u001b[38;5;21m__getattr__\u001b[39m(\u001b[38;5;28mself\u001b[39m, \u001b[38;5;28mid\u001b[39m):\n\u001b[1;32m---> 43\u001b[0m     \u001b[38;5;28;01mraise\u001b[39;00m \u001b[38;5;167;01mImportError\u001b[39;00m(\u001b[38;5;124m\"\u001b[39m\u001b[38;5;124mThe _imagingft C module is not installed\u001b[39m\u001b[38;5;124m\"\u001b[39m)\n",
      "\u001b[1;31mImportError\u001b[0m: The _imagingft C module is not installed"
     ]
    }
   ],
   "source": [
    "wc = WordCloud(font_path='C:/Windows/Fonts/malgun.ttf', width=400, height=400, scale=2.0, max_font_size=250)\n",
    "gen = wc.generate_from_frequencies(negative_word_count)\n",
    "plt.figure()\n",
    "plt.imshow(gen)"
   ]
  },
  {
   "cell_type": "code",
   "execution_count": 67,
   "metadata": {},
   "outputs": [
    {
     "ename": "ImportError",
     "evalue": "The _imagingft C module is not installed",
     "output_type": "error",
     "traceback": [
      "\u001b[1;31m---------------------------------------------------------------------------\u001b[0m",
      "\u001b[1;31mImportError\u001b[0m                               Traceback (most recent call last)",
      "Input \u001b[1;32mIn [67]\u001b[0m, in \u001b[0;36m<cell line: 2>\u001b[1;34m()\u001b[0m\n\u001b[0;32m      1\u001b[0m wc \u001b[38;5;241m=\u001b[39m WordCloud(font_path\u001b[38;5;241m=\u001b[39m\u001b[38;5;124m'\u001b[39m\u001b[38;5;124mC:/Windows/Fonts/malgun.ttf\u001b[39m\u001b[38;5;124m'\u001b[39m, width\u001b[38;5;241m=\u001b[39m\u001b[38;5;241m400\u001b[39m, height\u001b[38;5;241m=\u001b[39m\u001b[38;5;241m400\u001b[39m, scale\u001b[38;5;241m=\u001b[39m\u001b[38;5;241m2.0\u001b[39m, max_font_size\u001b[38;5;241m=\u001b[39m\u001b[38;5;241m250\u001b[39m)\n\u001b[1;32m----> 2\u001b[0m gen \u001b[38;5;241m=\u001b[39m \u001b[43mwc\u001b[49m\u001b[38;5;241;43m.\u001b[39;49m\u001b[43mgenerate_from_frequencies\u001b[49m\u001b[43m(\u001b[49m\u001b[43mpositive_word_count\u001b[49m\u001b[43m)\u001b[49m\n\u001b[0;32m      3\u001b[0m plt\u001b[38;5;241m.\u001b[39mfigure()\n\u001b[0;32m      4\u001b[0m plt\u001b[38;5;241m.\u001b[39mimshow(gen)\n",
      "File \u001b[1;32m~\\anaconda3\\lib\\site-packages\\wordcloud\\wordcloud.py:496\u001b[0m, in \u001b[0;36mWordCloud.generate_from_frequencies\u001b[1;34m(self, frequencies, max_font_size)\u001b[0m\n\u001b[0;32m    493\u001b[0m tried_other_orientation \u001b[38;5;241m=\u001b[39m \u001b[38;5;28;01mFalse\u001b[39;00m\n\u001b[0;32m    494\u001b[0m \u001b[38;5;28;01mwhile\u001b[39;00m \u001b[38;5;28;01mTrue\u001b[39;00m:\n\u001b[0;32m    495\u001b[0m     \u001b[38;5;66;03m# try to find a position\u001b[39;00m\n\u001b[1;32m--> 496\u001b[0m     font \u001b[38;5;241m=\u001b[39m \u001b[43mImageFont\u001b[49m\u001b[38;5;241;43m.\u001b[39;49m\u001b[43mtruetype\u001b[49m\u001b[43m(\u001b[49m\u001b[38;5;28;43mself\u001b[39;49m\u001b[38;5;241;43m.\u001b[39;49m\u001b[43mfont_path\u001b[49m\u001b[43m,\u001b[49m\u001b[43m \u001b[49m\u001b[43mfont_size\u001b[49m\u001b[43m)\u001b[49m\n\u001b[0;32m    497\u001b[0m     \u001b[38;5;66;03m# transpose font optionally\u001b[39;00m\n\u001b[0;32m    498\u001b[0m     transposed_font \u001b[38;5;241m=\u001b[39m ImageFont\u001b[38;5;241m.\u001b[39mTransposedFont(\n\u001b[0;32m    499\u001b[0m         font, orientation\u001b[38;5;241m=\u001b[39morientation)\n",
      "File \u001b[1;32m~\\anaconda3\\lib\\site-packages\\PIL\\ImageFont.py:844\u001b[0m, in \u001b[0;36mtruetype\u001b[1;34m(font, size, index, encoding, layout_engine)\u001b[0m\n\u001b[0;32m    841\u001b[0m     \u001b[38;5;28;01mreturn\u001b[39;00m FreeTypeFont(font, size, index, encoding, layout_engine)\n\u001b[0;32m    843\u001b[0m \u001b[38;5;28;01mtry\u001b[39;00m:\n\u001b[1;32m--> 844\u001b[0m     \u001b[38;5;28;01mreturn\u001b[39;00m \u001b[43mfreetype\u001b[49m\u001b[43m(\u001b[49m\u001b[43mfont\u001b[49m\u001b[43m)\u001b[49m\n\u001b[0;32m    845\u001b[0m \u001b[38;5;28;01mexcept\u001b[39;00m \u001b[38;5;167;01mOSError\u001b[39;00m:\n\u001b[0;32m    846\u001b[0m     \u001b[38;5;28;01mif\u001b[39;00m \u001b[38;5;129;01mnot\u001b[39;00m isPath(font):\n",
      "File \u001b[1;32m~\\anaconda3\\lib\\site-packages\\PIL\\ImageFont.py:841\u001b[0m, in \u001b[0;36mtruetype.<locals>.freetype\u001b[1;34m(font)\u001b[0m\n\u001b[0;32m    840\u001b[0m \u001b[38;5;28;01mdef\u001b[39;00m \u001b[38;5;21mfreetype\u001b[39m(font):\n\u001b[1;32m--> 841\u001b[0m     \u001b[38;5;28;01mreturn\u001b[39;00m \u001b[43mFreeTypeFont\u001b[49m\u001b[43m(\u001b[49m\u001b[43mfont\u001b[49m\u001b[43m,\u001b[49m\u001b[43m \u001b[49m\u001b[43msize\u001b[49m\u001b[43m,\u001b[49m\u001b[43m \u001b[49m\u001b[43mindex\u001b[49m\u001b[43m,\u001b[49m\u001b[43m \u001b[49m\u001b[43mencoding\u001b[49m\u001b[43m,\u001b[49m\u001b[43m \u001b[49m\u001b[43mlayout_engine\u001b[49m\u001b[43m)\u001b[49m\n",
      "File \u001b[1;32m~\\anaconda3\\lib\\site-packages\\PIL\\ImageFont.py:169\u001b[0m, in \u001b[0;36mFreeTypeFont.__init__\u001b[1;34m(self, font, size, index, encoding, layout_engine)\u001b[0m\n\u001b[0;32m    167\u001b[0m \u001b[38;5;28;01mif\u001b[39;00m layout_engine \u001b[38;5;129;01mnot\u001b[39;00m \u001b[38;5;129;01min\u001b[39;00m (LAYOUT_BASIC, LAYOUT_RAQM):\n\u001b[0;32m    168\u001b[0m     layout_engine \u001b[38;5;241m=\u001b[39m LAYOUT_BASIC\n\u001b[1;32m--> 169\u001b[0m     \u001b[38;5;28;01mif\u001b[39;00m \u001b[43mcore\u001b[49m\u001b[38;5;241;43m.\u001b[39;49m\u001b[43mHAVE_RAQM\u001b[49m:\n\u001b[0;32m    170\u001b[0m         layout_engine \u001b[38;5;241m=\u001b[39m LAYOUT_RAQM\n\u001b[0;32m    171\u001b[0m \u001b[38;5;28;01melif\u001b[39;00m layout_engine \u001b[38;5;241m==\u001b[39m LAYOUT_RAQM \u001b[38;5;129;01mand\u001b[39;00m \u001b[38;5;129;01mnot\u001b[39;00m core\u001b[38;5;241m.\u001b[39mHAVE_RAQM:\n",
      "File \u001b[1;32m~\\anaconda3\\lib\\site-packages\\PIL\\ImageFont.py:43\u001b[0m, in \u001b[0;36m_imagingft_not_installed.__getattr__\u001b[1;34m(self, id)\u001b[0m\n\u001b[0;32m     42\u001b[0m \u001b[38;5;28;01mdef\u001b[39;00m \u001b[38;5;21m__getattr__\u001b[39m(\u001b[38;5;28mself\u001b[39m, \u001b[38;5;28mid\u001b[39m):\n\u001b[1;32m---> 43\u001b[0m     \u001b[38;5;28;01mraise\u001b[39;00m \u001b[38;5;167;01mImportError\u001b[39;00m(\u001b[38;5;124m\"\u001b[39m\u001b[38;5;124mThe _imagingft C module is not installed\u001b[39m\u001b[38;5;124m\"\u001b[39m)\n",
      "\u001b[1;31mImportError\u001b[0m: The _imagingft C module is not installed"
     ]
    }
   ],
   "source": [
    "wc = WordCloud(font_path='C:/Windows/Fonts/malgun.ttf', width=400, height=400, scale=2.0, max_font_size=250)\n",
    "gen = wc.generate_from_frequencies(positive_word_count)\n",
    "plt.figure()\n",
    "plt.imshow(gen)"
   ]
  },
  {
   "cell_type": "code",
   "execution_count": 24,
   "metadata": {
    "colab": {
     "base_uri": "https://localhost:8080/",
     "height": 408
    },
    "executionInfo": {
     "elapsed": 737,
     "status": "ok",
     "timestamp": 1649922294906,
     "user": {
      "displayName": "ethan morian",
      "userId": "06379902278847879770"
     },
     "user_tz": -540
    },
    "id": "gcI1h5bF-4bs",
    "outputId": "6a4fa558-5689-410f-ee3a-dbe0cfa3250f"
   },
   "outputs": [
    {
     "name": "stdout",
     "output_type": "stream",
     "text": [
      "긍정 리뷰의 평균 길이 : 14.89\n",
      "부정 리뷰의 평균 길이 : 24.73846153846154\n"
     ]
    },
    {
     "data": {
      "image/png": "[encoded data removed]",
      "text/plain": [
       "<Figure size 720x360 with 2 Axes>"
      ]
     },
     "metadata": {
      "needs_background": "light"
     },
     "output_type": "display_data"
    }
   ],
   "source": [
    "# 긍정과 부정에 따른 길이 분포\n",
    "fig,(ax1,ax2) = plt.subplots(1,2,figsize=(10,5))\n",
    "text_len = train_data[train_data['label']==1]['tokenized'].map(lambda x: len(x))\n",
    "ax1.hist(text_len, color='red')\n",
    "ax1.set_title('Positive Reviews')\n",
    "ax1.set_xlabel('length of samples')\n",
    "ax1.set_ylabel('number of samples')\n",
    "print('긍정 리뷰의 평균 길이 :', np.mean(text_len))\n",
    "\n",
    "text_len = train_data[train_data['label']==0]['tokenized'].map(lambda x: len(x))\n",
    "ax2.hist(text_len, color='blue')\n",
    "ax2.set_title('Negative Reviews')\n",
    "fig.suptitle('Words in texts')\n",
    "ax2.set_xlabel('length of samples')\n",
    "ax2.set_ylabel('number of samples')\n",
    "print('부정 리뷰의 평균 길이 :', np.mean(text_len))\n",
    "plt.show()"
   ]
  },
  {
   "cell_type": "code",
   "execution_count": 25,
   "metadata": {
    "executionInfo": {
     "elapsed": 55,
     "status": "ok",
     "timestamp": 1649922294908,
     "user": {
      "displayName": "ethan morian",
      "userId": "06379902278847879770"
     },
     "user_tz": -540
    },
    "id": "b4quumFS-4bu"
   },
   "outputs": [],
   "source": [
    "X_train = train_data['tokenized'].values\n",
    "y_train = train_data['label'].values\n",
    "X_test= test_data['tokenized'].values\n",
    "y_test = test_data['label'].values"
   ]
  },
  {
   "cell_type": "code",
   "execution_count": 26,
   "metadata": {
    "executionInfo": {
     "elapsed": 56,
     "status": "ok",
     "timestamp": 1649922294910,
     "user": {
      "displayName": "ethan morian",
      "userId": "06379902278847879770"
     },
     "user_tz": -540
    },
    "id": "_um2Hvjh-4bu"
   },
   "outputs": [],
   "source": [
    "tokenizer = Tokenizer()\n",
    "tokenizer.fit_on_texts(X_train)"
   ]
  },
  {
   "cell_type": "code",
   "execution_count": 27,
   "metadata": {
    "colab": {
     "base_uri": "https://localhost:8080/"
    },
    "executionInfo": {
     "elapsed": 55,
     "status": "ok",
     "timestamp": 1649922294911,
     "user": {
      "displayName": "ethan morian",
      "userId": "06379902278847879770"
     },
     "user_tz": -540
    },
    "id": "F8IjTql2-4bv",
    "outputId": "5807397a-237b-45d5-b556-d126a4b74abd"
   },
   "outputs": [
    {
     "name": "stdout",
     "output_type": "stream",
     "text": [
      "단어 집합(vocabulary)의 크기 : 1611\n",
      "등장 빈도가 1번 이하인 희귀 단어의 수: 1115\n",
      "단어 집합에서 희귀 단어의 비율: 69.21166977032898\n",
      "전체 등장 빈도에서 희귀 단어 등장 빈도 비율: 36.00258314497901\n"
     ]
    }
   ],
   "source": [
    "threshold = 2\n",
    "total_cnt = len(tokenizer.word_index) # 단어의 수\n",
    "rare_cnt = 0 # 등장 빈도수가 threshold보다 작은 단어의 개수를 카운트\n",
    "total_freq = 0 # 훈련 데이터의 전체 단어 빈도수 총 합\n",
    "rare_freq = 0 # 등장 빈도수가 threshold보다 작은 단어의 등장 빈도수의 총 합\n",
    "\n",
    "# 단어와 빈도수의 쌍(pair)을 key와 value로 받는다.\n",
    "for key, value in tokenizer.word_counts.items():\n",
    "    total_freq = total_freq + value\n",
    "\n",
    "    # 단어의 등장 빈도수가 threshold보다 작으면\n",
    "    if(value < threshold):\n",
    "        rare_cnt = rare_cnt + 1\n",
    "        rare_freq = rare_freq + value\n",
    "\n",
    "print('단어 집합(vocabulary)의 크기 :',total_cnt)\n",
    "print('등장 빈도가 %s번 이하인 희귀 단어의 수: %s'%(threshold - 1, rare_cnt))\n",
    "print(\"단어 집합에서 희귀 단어의 비율:\", (rare_cnt / total_cnt)*100)\n",
    "print(\"전체 등장 빈도에서 희귀 단어 등장 빈도 비율:\", (rare_freq / total_freq)*100)"
   ]
  },
  {
   "cell_type": "code",
   "execution_count": 28,
   "metadata": {
    "colab": {
     "base_uri": "https://localhost:8080/"
    },
    "executionInfo": {
     "elapsed": 52,
     "status": "ok",
     "timestamp": 1649922294912,
     "user": {
      "displayName": "ethan morian",
      "userId": "06379902278847879770"
     },
     "user_tz": -540
    },
    "id": "MNpLxSIc-4bw",
    "outputId": "8d19063b-aa23-4dfc-ca6f-0a022d69e906"
   },
   "outputs": [
    {
     "data": {
      "text/plain": [
       "498"
      ]
     },
     "execution_count": 28,
     "metadata": {},
     "output_type": "execute_result"
    }
   ],
   "source": [
    "# 0번 패딩 토큰과 1번 OOV 토큰을 고려하여 +2\n",
    "vocab_size = total_cnt - rare_cnt + 2\n",
    "vocab_size"
   ]
  },
  {
   "cell_type": "code",
   "execution_count": 29,
   "metadata": {
    "executionInfo": {
     "elapsed": 50,
     "status": "ok",
     "timestamp": 1649922294914,
     "user": {
      "displayName": "ethan morian",
      "userId": "06379902278847879770"
     },
     "user_tz": -540
    },
    "id": "ogZQTBs9-4bx"
   },
   "outputs": [],
   "source": [
    "tokenizer = Tokenizer(vocab_size, oov_token='OOV')\n",
    "tokenizer.fit_on_texts(X_train)\n",
    "X_train = tokenizer.texts_to_sequences(X_train)\n",
    "X_test = tokenizer.texts_to_sequences(X_test)"
   ]
  },
  {
   "cell_type": "code",
   "execution_count": 30,
   "metadata": {
    "colab": {
     "base_uri": "https://localhost:8080/"
    },
    "executionInfo": {
     "elapsed": 50,
     "status": "ok",
     "timestamp": 1649922294915,
     "user": {
      "displayName": "ethan morian",
      "userId": "06379902278847879770"
     },
     "user_tz": -540
    },
    "id": "6Xi0qI2v-4by",
    "outputId": "bc378821-a91f-4336-bfc2-2e26a45e81b4"
   },
   "outputs": [
    {
     "name": "stdout",
     "output_type": "stream",
     "text": [
      "[[112, 1, 1, 1, 7, 5, 53, 167, 1, 113, 1, 21, 27, 1, 15], [114, 4, 115, 1, 114, 68, 1, 1, 1], [168, 1, 1, 1, 116, 28, 1, 169, 39, 54, 7, 5, 1, 117, 118, 265, 16, 266]]\n"
     ]
    }
   ],
   "source": [
    "print(X_train[:3])"
   ]
  },
  {
   "cell_type": "code",
   "execution_count": 31,
   "metadata": {
    "colab": {
     "base_uri": "https://localhost:8080/"
    },
    "executionInfo": {
     "elapsed": 45,
     "status": "ok",
     "timestamp": 1649922294916,
     "user": {
      "displayName": "ethan morian",
      "userId": "06379902278847879770"
     },
     "user_tz": -540
    },
    "id": "waoCkuuV-4bz",
    "outputId": "8cec0521-7cb8-4ee9-c209-d88dd3c8c38b"
   },
   "outputs": [
    {
     "name": "stdout",
     "output_type": "stream",
     "text": [
      "[[3, 9, 1], [2, 1, 171, 40, 13, 242, 1, 134, 1, 1, 7, 5, 364, 238], [99, 137, 1, 1, 1, 24, 16, 211]]\n"
     ]
    }
   ],
   "source": [
    "print(X_test[:3])"
   ]
  },
  {
   "cell_type": "code",
   "execution_count": 32,
   "metadata": {
    "colab": {
     "base_uri": "https://localhost:8080/",
     "height": 320
    },
    "executionInfo": {
     "elapsed": 40,
     "status": "ok",
     "timestamp": 1649922294917,
     "user": {
      "displayName": "ethan morian",
      "userId": "06379902278847879770"
     },
     "user_tz": -540
    },
    "id": "L5O1n1mB-4b0",
    "outputId": "f57eacd5-adca-4680-b6b5-eade90db308a"
   },
   "outputs": [
    {
     "name": "stdout",
     "output_type": "stream",
     "text": [
      "리뷰의 최대 길이 : 67\n",
      "리뷰의 평균 길이 : 18.76969696969697\n"
     ]
    },
    {
     "data": {
      "image/png": "[encoded data removed]",
      "text/plain": [
       "<Figure size 432x288 with 1 Axes>"
      ]
     },
     "metadata": {
      "needs_background": "light"
     },
     "output_type": "display_data"
    }
   ],
   "source": [
    "print('리뷰의 최대 길이 :',max(len(review) for review in X_train))\n",
    "print('리뷰의 평균 길이 :',sum(map(len, X_train))/len(X_train))\n",
    "plt.hist([len(review) for review in X_train], bins=50)\n",
    "plt.xlabel('length of samples')\n",
    "plt.ylabel('number of samples')\n",
    "plt.show()"
   ]
  },
  {
   "cell_type": "code",
   "execution_count": 33,
   "metadata": {
    "executionInfo": {
     "elapsed": 34,
     "status": "ok",
     "timestamp": 1649922294919,
     "user": {
      "displayName": "ethan morian",
      "userId": "06379902278847879770"
     },
     "user_tz": -540
    },
    "id": "IC_K6rVg-4b0"
   },
   "outputs": [],
   "source": [
    "def below_threshold_len(max_len, nested_list):\n",
    "  count = 0\n",
    "  for sentence in nested_list:\n",
    "    if(len(sentence) <= max_len):\n",
    "        count = count + 1\n",
    "  print('전체 샘플 중 길이가 %s 이하인 샘플의 비율: %s'%(max_len, (count / len(nested_list))*100))"
   ]
  },
  {
   "cell_type": "code",
   "execution_count": 34,
   "metadata": {
    "colab": {
     "base_uri": "https://localhost:8080/"
    },
    "executionInfo": {
     "elapsed": 34,
     "status": "ok",
     "timestamp": 1649922294921,
     "user": {
      "displayName": "ethan morian",
      "userId": "06379902278847879770"
     },
     "user_tz": -540
    },
    "id": "Pqz23E1I-4b1",
    "outputId": "25c9ccb2-9256-47fe-c40d-2d357a9ad8ba"
   },
   "outputs": [
    {
     "name": "stdout",
     "output_type": "stream",
     "text": [
      "전체 샘플 중 길이가 80 이하인 샘플의 비율: 100.0\n"
     ]
    }
   ],
   "source": [
    "max_len = 80\n",
    "below_threshold_len(max_len, X_train)"
   ]
  },
  {
   "cell_type": "code",
   "execution_count": 35,
   "metadata": {
    "executionInfo": {
     "elapsed": 31,
     "status": "ok",
     "timestamp": 1649922294923,
     "user": {
      "displayName": "ethan morian",
      "userId": "06379902278847879770"
     },
     "user_tz": -540
    },
    "id": "YLYWbSu2-4b2"
   },
   "outputs": [],
   "source": [
    "X_train = pad_sequences(X_train, maxlen=max_len)\n",
    "X_test = pad_sequences(X_test, maxlen=max_len)"
   ]
  },
  {
   "cell_type": "code",
   "execution_count": 36,
   "metadata": {
    "colab": {
     "base_uri": "https://localhost:8080/"
    },
    "executionInfo": {
     "elapsed": 21166,
     "status": "ok",
     "timestamp": 1649922316059,
     "user": {
      "displayName": "ethan morian",
      "userId": "06379902278847879770"
     },
     "user_tz": -540
    },
    "id": "SCUtaHb5-4b2",
    "outputId": "68f1d563-58c0-4fb7-94d8-41a5d6b9ebea"
   },
   "outputs": [
    {
     "name": "stdout",
     "output_type": "stream",
     "text": [
      "Epoch 1/15\n",
      "3/3 [==============================] - ETA: 0s - loss: 0.6881 - acc: 0.5227\n",
      "Epoch 1: val_acc improved from -inf to 0.57576, saving model to best_model.h5\n"
     ]
    },
    {
     "ename": "ImportError",
     "evalue": "`save_model()` using h5 format requires h5py. Could not import h5py.",
     "output_type": "error",
     "traceback": [
      "\u001b[1;31m---------------------------------------------------------------------------\u001b[0m",
      "\u001b[1;31mImportError\u001b[0m                               Traceback (most recent call last)",
      "Input \u001b[1;32mIn [36]\u001b[0m, in \u001b[0;36m<cell line: 13>\u001b[1;34m()\u001b[0m\n\u001b[0;32m     10\u001b[0m mc \u001b[38;5;241m=\u001b[39m ModelCheckpoint(\u001b[38;5;124m'\u001b[39m\u001b[38;5;124mbest_model.h5\u001b[39m\u001b[38;5;124m'\u001b[39m, monitor\u001b[38;5;241m=\u001b[39m\u001b[38;5;124m'\u001b[39m\u001b[38;5;124mval_acc\u001b[39m\u001b[38;5;124m'\u001b[39m, mode\u001b[38;5;241m=\u001b[39m\u001b[38;5;124m'\u001b[39m\u001b[38;5;124mmax\u001b[39m\u001b[38;5;124m'\u001b[39m, verbose\u001b[38;5;241m=\u001b[39m\u001b[38;5;241m1\u001b[39m, save_best_only\u001b[38;5;241m=\u001b[39m\u001b[38;5;28;01mTrue\u001b[39;00m)\n\u001b[0;32m     12\u001b[0m model\u001b[38;5;241m.\u001b[39mcompile(optimizer\u001b[38;5;241m=\u001b[39m\u001b[38;5;124m'\u001b[39m\u001b[38;5;124mrmsprop\u001b[39m\u001b[38;5;124m'\u001b[39m, loss\u001b[38;5;241m=\u001b[39m\u001b[38;5;124m'\u001b[39m\u001b[38;5;124mbinary_crossentropy\u001b[39m\u001b[38;5;124m'\u001b[39m, metrics\u001b[38;5;241m=\u001b[39m[\u001b[38;5;124m'\u001b[39m\u001b[38;5;124macc\u001b[39m\u001b[38;5;124m'\u001b[39m])\n\u001b[1;32m---> 13\u001b[0m history \u001b[38;5;241m=\u001b[39m \u001b[43mmodel\u001b[49m\u001b[38;5;241;43m.\u001b[39;49m\u001b[43mfit\u001b[49m\u001b[43m(\u001b[49m\u001b[43mX_train\u001b[49m\u001b[43m,\u001b[49m\u001b[43m \u001b[49m\u001b[43my_train\u001b[49m\u001b[43m,\u001b[49m\u001b[43m \u001b[49m\u001b[43mepochs\u001b[49m\u001b[38;5;241;43m=\u001b[39;49m\u001b[38;5;241;43m15\u001b[39;49m\u001b[43m,\u001b[49m\u001b[43m \u001b[49m\u001b[43mcallbacks\u001b[49m\u001b[38;5;241;43m=\u001b[39;49m\u001b[43m[\u001b[49m\u001b[43mes\u001b[49m\u001b[43m,\u001b[49m\u001b[43m \u001b[49m\u001b[43mmc\u001b[49m\u001b[43m]\u001b[49m\u001b[43m,\u001b[49m\u001b[43m \u001b[49m\u001b[43mbatch_size\u001b[49m\u001b[38;5;241;43m=\u001b[39;49m\u001b[38;5;241;43m64\u001b[39;49m\u001b[43m,\u001b[49m\u001b[43m \u001b[49m\u001b[43mvalidation_split\u001b[49m\u001b[38;5;241;43m=\u001b[39;49m\u001b[38;5;241;43m0.2\u001b[39;49m\u001b[43m)\u001b[49m\n",
      "File \u001b[1;32m~\\anaconda3\\lib\\site-packages\\keras\\utils\\traceback_utils.py:67\u001b[0m, in \u001b[0;36mfilter_traceback.<locals>.error_handler\u001b[1;34m(*args, **kwargs)\u001b[0m\n\u001b[0;32m     65\u001b[0m \u001b[38;5;28;01mexcept\u001b[39;00m \u001b[38;5;167;01mException\u001b[39;00m \u001b[38;5;28;01mas\u001b[39;00m e:  \u001b[38;5;66;03m# pylint: disable=broad-except\u001b[39;00m\n\u001b[0;32m     66\u001b[0m   filtered_tb \u001b[38;5;241m=\u001b[39m _process_traceback_frames(e\u001b[38;5;241m.\u001b[39m__traceback__)\n\u001b[1;32m---> 67\u001b[0m   \u001b[38;5;28;01mraise\u001b[39;00m e\u001b[38;5;241m.\u001b[39mwith_traceback(filtered_tb) \u001b[38;5;28;01mfrom\u001b[39;00m \u001b[38;5;28mNone\u001b[39m\n\u001b[0;32m     68\u001b[0m \u001b[38;5;28;01mfinally\u001b[39;00m:\n\u001b[0;32m     69\u001b[0m   \u001b[38;5;28;01mdel\u001b[39;00m filtered_tb\n",
      "File \u001b[1;32m~\\anaconda3\\lib\\site-packages\\keras\\saving\\hdf5_format.py:80\u001b[0m, in \u001b[0;36msave_model_to_hdf5\u001b[1;34m(model, filepath, overwrite, include_optimizer)\u001b[0m\n\u001b[0;32m     54\u001b[0m \u001b[38;5;124;03m\"\"\"Saves a model to a HDF5 file.\u001b[39;00m\n\u001b[0;32m     55\u001b[0m \n\u001b[0;32m     56\u001b[0m \u001b[38;5;124;03mThe saved model contains:\u001b[39;00m\n\u001b[1;32m   (...)\u001b[0m\n\u001b[0;32m     76\u001b[0m \u001b[38;5;124;03m    ImportError: if h5py is not available.\u001b[39;00m\n\u001b[0;32m     77\u001b[0m \u001b[38;5;124;03m\"\"\"\u001b[39;00m\n\u001b[0;32m     79\u001b[0m \u001b[38;5;28;01mif\u001b[39;00m h5py \u001b[38;5;129;01mis\u001b[39;00m \u001b[38;5;28;01mNone\u001b[39;00m:\n\u001b[1;32m---> 80\u001b[0m   \u001b[38;5;28;01mraise\u001b[39;00m \u001b[38;5;167;01mImportError\u001b[39;00m(\u001b[38;5;124m'\u001b[39m\u001b[38;5;124m`save_model()` using h5 format requires h5py. Could not \u001b[39m\u001b[38;5;124m'\u001b[39m\n\u001b[0;32m     81\u001b[0m                     \u001b[38;5;124m'\u001b[39m\u001b[38;5;124mimport h5py.\u001b[39m\u001b[38;5;124m'\u001b[39m)\n\u001b[0;32m     83\u001b[0m \u001b[38;5;66;03m# TODO(psv) Add warning when we save models that contain non-serializable\u001b[39;00m\n\u001b[0;32m     84\u001b[0m \u001b[38;5;66;03m# entities like metrics added using `add_metric` and losses added using\u001b[39;00m\n\u001b[0;32m     85\u001b[0m \u001b[38;5;66;03m# `add_loss.`\u001b[39;00m\n\u001b[0;32m     86\u001b[0m \u001b[38;5;28;01mif\u001b[39;00m \u001b[38;5;28mlen\u001b[39m(model\u001b[38;5;241m.\u001b[39mweights) \u001b[38;5;241m!=\u001b[39m \u001b[38;5;28mlen\u001b[39m(model\u001b[38;5;241m.\u001b[39m_undeduplicated_weights):\n",
      "\u001b[1;31mImportError\u001b[0m: `save_model()` using h5 format requires h5py. Could not import h5py."
     ]
    }
   ],
   "source": [
    "embedding_dim = 100\n",
    "hidden_units = 128\n",
    "\n",
    "model = Sequential()\n",
    "model.add(Embedding(vocab_size, embedding_dim))\n",
    "model.add(GRU(hidden_units))\n",
    "model.add(Dense(1, activation='sigmoid'))\n",
    "\n",
    "es = EarlyStopping(monitor='val_loss', mode='min', verbose=1, patience=4)\n",
    "mc = ModelCheckpoint('best_model.h5', monitor='val_acc', mode='max', verbose=1, save_best_only=True)\n",
    "\n",
    "model.compile(optimizer='rmsprop', loss='binary_crossentropy', metrics=['acc'])\n",
    "history = model.fit(X_train, y_train, epochs=15, callbacks=[es, mc], batch_size=64, validation_split=0.2)"
   ]
  },
  {
   "cell_type": "code",
   "execution_count": null,
   "metadata": {
    "colab": {
     "base_uri": "https://localhost:8080/"
    },
    "executionInfo": {
     "elapsed": 1870,
     "status": "ok",
     "timestamp": 1649922317910,
     "user": {
      "displayName": "ethan morian",
      "userId": "06379902278847879770"
     },
     "user_tz": -540
    },
    "id": "HVUwcgPR-4b3",
    "outputId": "61ad80df-46ba-4804-8582-2e7eee171ffb"
   },
   "outputs": [],
   "source": [
    "loaded_model = load_model('best_model.h5')\n",
    "print(\"\\n 테스트 정확도: %.4f\" % (loaded_model.evaluate(X_test, y_test)[1]))"
   ]
  },
  {
   "cell_type": "code",
   "execution_count": null,
   "metadata": {
    "executionInfo": {
     "elapsed": 39,
     "status": "ok",
     "timestamp": 1649922317911,
     "user": {
      "displayName": "ethan morian",
      "userId": "06379902278847879770"
     },
     "user_tz": -540
    },
    "id": "0oQdHHLL-4b4"
   },
   "outputs": [],
   "source": [
    "def sentiment_predict(new_sentence):\n",
    "  new_sentence = re.sub(r'[^ㄱ-ㅎㅏ-ㅣ가-힣 ]','', new_sentence)\n",
    "  new_sentence = t.morphs(new_sentence)\n",
    "  new_sentence = [word for word in new_sentence if not word in stopwords]\n",
    "  encoded = tokenizer.texts_to_sequences([new_sentence])\n",
    "  pad_new = pad_sequences(encoded, maxlen = max_len)\n",
    "\n",
    "  score = float(loaded_model.predict(pad_new))\n",
    "  if(score > 0.5):\n",
    "    print(\"{:.2f}% 확률로 긍정 리뷰입니다.\".format(score * 100))\n",
    "  else:\n",
    "    print(\"{:.2f}% 확률로 부정 리뷰입니다.\".format((1 - score) * 100))"
   ]
  },
  {
   "cell_type": "code",
   "execution_count": null,
   "metadata": {
    "colab": {
     "base_uri": "https://localhost:8080/"
    },
    "executionInfo": {
     "elapsed": 40,
     "status": "ok",
     "timestamp": 1649922317913,
     "user": {
      "displayName": "ethan morian",
      "userId": "06379902278847879770"
     },
     "user_tz": -540
    },
    "id": "jx7wqH2T-4b4",
    "outputId": "f5e1dd6c-009d-4873-b570-3f379dc0d524"
   },
   "outputs": [],
   "source": [
    "sentiment_predict('너무 맛있어서 토했어요')"
   ]
  },
  {
   "cell_type": "code",
   "execution_count": null,
   "metadata": {
    "colab": {
     "base_uri": "https://localhost:8080/"
    },
    "executionInfo": {
     "elapsed": 360,
     "status": "ok",
     "timestamp": 1649923823812,
     "user": {
      "displayName": "ethan morian",
      "userId": "06379902278847879770"
     },
     "user_tz": -540
    },
    "id": "hoVRF5zoB1ZF",
    "outputId": "f9d50d15-09de-4d64-cceb-f854af90218d"
   },
   "outputs": [],
   "source": [
    "sentiment_predict('너무 맛있어서 쓰레기통에 잘 넣어 놨어요')"
   ]
  },
  {
   "cell_type": "code",
   "execution_count": null,
   "metadata": {
    "colab": {
     "base_uri": "https://localhost:8080/"
    },
    "executionInfo": {
     "elapsed": 535,
     "status": "ok",
     "timestamp": 1649923837657,
     "user": {
      "displayName": "ethan morian",
      "userId": "06379902278847879770"
     },
     "user_tz": -540
    },
    "id": "Dw0wj7YMHeFc",
    "outputId": "652cf509-e642-4ce0-c9bd-c112ee83a5d7"
   },
   "outputs": [],
   "source": [
    "sentiment_predict('이 맛을 혼자만 느낄 수 없어 비둘기한테 줬더니 맛있게 먹었어요')"
   ]
  }
 ],
 "metadata": {
  "colab": {
   "collapsed_sections": [],
   "name": "비정형 데이터 감성분석.ipynb",
   "provenance": []
  },
  "kernelspec": {
   "display_name": "Python 3.9.12 ('base')",
   "language": "python",
   "name": "python3"
  },
  "language_info": {
   "codemirror_mode": {
    "name": "ipython",
    "version": 3
   },
   "file_extension": ".py",
   "mimetype": "text/x-python",
   "name": "python",
   "nbconvert_exporter": "python",
   "pygments_lexer": "ipython3",
   "version": "3.9.12"
  },
  "vscode": {
   "interpreter": {
    "hash": "ad2bdc8ecc057115af97d19610ffacc2b4e99fae6737bb82f5d7fb13d2f2c186"
   }
  }
 },
 "nbformat": 4,
 "nbformat_minor": 1
}
