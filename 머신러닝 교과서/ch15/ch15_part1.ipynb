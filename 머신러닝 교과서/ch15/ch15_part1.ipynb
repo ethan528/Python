{
  "cells": [
    {
      "cell_type": "markdown",
      "metadata": {
        "id": "bmTf8Nr0ifCU"
      },
      "source": [
        "# 머신 러닝 교과서 3판"
      ]
    },
    {
      "cell_type": "markdown",
      "metadata": {
        "id": "urDF4hh_ifCV"
      },
      "source": [
        "# 15장 - 심층 합성곱 신경망으로 이미지 분류 (1/2)"
      ]
    },
    {
      "cell_type": "markdown",
      "metadata": {
        "id": "R5cTA0rXifCV"
      },
      "source": [
        "**아래 링크를 통해 이 노트북을 주피터 노트북 뷰어(nbviewer.jupyter.org)로 보거나 구글 코랩(colab.research.google.com)에서 실행할 수 있습니다.**\n",
        "\n",
        "<table class=\"tfo-notebook-buttons\" align=\"left\">\n",
        "  <td>\n",
        "    <a target=\"_blank\" href=\"https://nbviewer.org/github/rickiepark/python-machine-learning-book-3rd-edition/blob/master/ch15/ch15_part1.ipynb\"><img src=\"https://jupyter.org/assets/share.png\" width=\"60\" />주피터 노트북 뷰어로 보기</a>\n",
        "  </td>\n",
        "  <td>\n",
        "    <a target=\"_blank\" href=\"https://colab.research.google.com/github/rickiepark/python-machine-learning-book-3rd-edition/blob/master/ch15/ch15_part1.ipynb\"><img src=\"https://www.tensorflow.org/images/colab_logo_32px.png\" />구글 코랩(Colab)에서 실행하기</a>\n",
        "  </td>\n",
        "</table>"
      ]
    },
    {
      "cell_type": "markdown",
      "metadata": {
        "id": "f27nCXbrifCW"
      },
      "source": [
        "### 목차"
      ]
    },
    {
      "cell_type": "markdown",
      "metadata": {
        "id": "2_7fyte5ifCW"
      },
      "source": [
        "- 합성곱 신경망의 구성 요소\n",
        "    - CNN과 특성 계층 학습\n",
        "    - 이산 합성곱 수행\n",
        "        - 1차원 이산 합성곱 수행\n",
        "        - 출력 특성 맵의 크기를 조절하기 위해 입력에 패딩하기\n",
        "        - 합성곱 출력 크기 계산\n",
        "        - 2D 이산 합성곱 수행\n",
        "    - 서브샘플링\n",
        "- 기본 구성 요소를 사용하여 심층 합성곱 신경망 구성\n",
        "    - 여러 개의 입력 또는 컬러 채널 다루기\n",
        "    - 드롭아웃으로 신경망 규제\n",
        "    - 분류를 위한 손실 함수\n",
        "- 텐서플로를 사용하여 심층 합성곱 신경망 구현\n",
        "    - 다층 CNN 구조\n",
        "    - 데이터 적재와 전처리\n",
        "    - 텐서플로 케라스 API를 사용해 CNN 구현하기\n",
        "        - 케라스에서 CNN 층 설정하기\n",
        "        - 케라스로 CNN 구성하기"
      ]
    },
    {
      "cell_type": "code",
      "execution_count": 1,
      "metadata": {
        "id": "177002meifCW"
      },
      "outputs": [],
      "source": [
        "from IPython.display import Image"
      ]
    },
    {
      "cell_type": "markdown",
      "metadata": {
        "id": "QhoWUw-DifCW"
      },
      "source": [
        "## 합성곱 신경망의 구성 요소\n",
        "\n",
        "### CNN과 특성 계층 학습"
      ]
    },
    {
      "cell_type": "code",
      "execution_count": 2,
      "metadata": {
        "colab": {
          "base_uri": "https://localhost:8080/",
          "height": 305
        },
        "id": "Z1yJcNPqifCW",
        "outputId": "f6af1291-c3d8-4e93-cdc5-e0899ed18a2d"
      },
      "outputs": [
        {
          "output_type": "execute_result",
          "data": {
            "text/html": [
              "<img src=\"https://git.io/JL5O3\" width=\"700\"/>"
            ],
            "text/plain": [
              "<IPython.core.display.Image object>"
            ]
          },
          "metadata": {},
          "execution_count": 2
        }
      ],
      "source": [
        "Image(url='https://git.io/JL5O3', width=700)"
      ]
    },
    {
      "cell_type": "markdown",
      "metadata": {
        "id": "n1CfLNUSifCX"
      },
      "source": [
        "### 이산 합성곱 수행\n",
        "\n",
        "#### 1차원 이산 합성곱 수행"
      ]
    },
    {
      "cell_type": "code",
      "execution_count": 3,
      "metadata": {
        "colab": {
          "base_uri": "https://localhost:8080/",
          "height": 278
        },
        "id": "GKOpZy2TifCX",
        "outputId": "9acbc094-0b1d-403b-9f3d-b4302965b69b"
      },
      "outputs": [
        {
          "output_type": "execute_result",
          "data": {
            "text/html": [
              "<img src=\"https://git.io/JL5On\" width=\"700\"/>"
            ],
            "text/plain": [
              "<IPython.core.display.Image object>"
            ]
          },
          "metadata": {},
          "execution_count": 3
        }
      ],
      "source": [
        "Image(url='https://git.io/JL5On', width=700)"
      ]
    },
    {
      "cell_type": "code",
      "execution_count": 4,
      "metadata": {
        "colab": {
          "base_uri": "https://localhost:8080/",
          "height": 454
        },
        "id": "E3J3_NTNifCY",
        "outputId": "524daf89-a6bb-4bea-85a0-1493172ed371"
      },
      "outputs": [
        {
          "output_type": "execute_result",
          "data": {
            "text/html": [
              "<img src=\"https://git.io/JL5O8\" width=\"700\"/>"
            ],
            "text/plain": [
              "<IPython.core.display.Image object>"
            ]
          },
          "metadata": {},
          "execution_count": 4
        }
      ],
      "source": [
        "Image(url='https://git.io/JL5O8', width=700)"
      ]
    },
    {
      "cell_type": "markdown",
      "metadata": {
        "id": "4FylyB5IifCY"
      },
      "source": [
        "#### 출력 특성 맵의 크기를 조절하기 위해 입력에 패딩하기"
      ]
    },
    {
      "cell_type": "code",
      "execution_count": 5,
      "metadata": {
        "colab": {
          "base_uri": "https://localhost:8080/",
          "height": 212
        },
        "id": "atIWe4jRifCY",
        "outputId": "1176ec85-12e5-4a50-e37d-ad08ae4a0f6b"
      },
      "outputs": [
        {
          "output_type": "execute_result",
          "data": {
            "text/html": [
              "<img src=\"https://git.io/JL5Ow\" width=\"700\"/>"
            ],
            "text/plain": [
              "<IPython.core.display.Image object>"
            ]
          },
          "metadata": {},
          "execution_count": 5
        }
      ],
      "source": [
        "Image(url='https://git.io/JL5Ow', width=700)"
      ]
    },
    {
      "cell_type": "markdown",
      "metadata": {
        "id": "fjCOUYGWifCY"
      },
      "source": [
        "#### 합성곱 출력 크기 계산"
      ]
    },
    {
      "cell_type": "code",
      "execution_count": 6,
      "metadata": {
        "colab": {
          "base_uri": "https://localhost:8080/"
        },
        "id": "kLmHMacdifCY",
        "outputId": "942093e2-e2ad-4987-8d15-7958098cedf9"
      },
      "outputs": [
        {
          "output_type": "stream",
          "name": "stdout",
          "text": [
            "텐서플로 버전: 2.9.2\n",
            "넘파이 버전:  1.21.6\n"
          ]
        }
      ],
      "source": [
        "import tensorflow as tf\n",
        "import numpy as np\n",
        "\n",
        "print('텐서플로 버전:', tf.__version__)\n",
        "print('넘파이 버전: ', np.__version__)"
      ]
    },
    {
      "cell_type": "code",
      "execution_count": 7,
      "metadata": {
        "colab": {
          "base_uri": "https://localhost:8080/"
        },
        "id": "15FDd_AMifCZ",
        "outputId": "cb7ea6b5-5f03-437b-f89f-44435641d323"
      },
      "outputs": [
        {
          "output_type": "stream",
          "name": "stdout",
          "text": [
            "Conv1d 구현: [ 5. 14. 16. 26. 24. 34. 19. 22.]\n",
            "넘파이 결과: [ 5 14 16 26 24 34 19 22]\n"
          ]
        }
      ],
      "source": [
        "def conv1d(x, w, p=0, s=1):\n",
        "    w_rot = np.array(w[::-1])\n",
        "    x_padded = np.array(x)\n",
        "    if p > 0:\n",
        "        zero_pad = np.zeros(shape=p)\n",
        "        x_padded = np.concatenate(\n",
        "            [zero_pad, x_padded, zero_pad])\n",
        "    res = []\n",
        "    for i in range(0, int((len(x_padded) - len(w_rot)) / s) + 1, s):\n",
        "        res.append(np.sum(\n",
        "            x_padded[i:i+w_rot.shape[0]] * w_rot))\n",
        "    return np.array(res)\n",
        "\n",
        "\n",
        "## 테스트:\n",
        "x = [1, 3, 2, 4, 5, 6, 1, 3]\n",
        "w = [1, 0, 3, 1, 2]\n",
        "\n",
        "print('Conv1d 구현:',\n",
        "      conv1d(x, w, p=2, s=1))\n",
        "\n",
        "print('넘파이 결과:',\n",
        "      np.convolve(x, w, mode='same')) "
      ]
    },
    {
      "cell_type": "markdown",
      "metadata": {
        "id": "22WjlUkgifCZ"
      },
      "source": [
        "#### 2D 이산 합성곱 수행"
      ]
    },
    {
      "cell_type": "code",
      "execution_count": 8,
      "metadata": {
        "colab": {
          "base_uri": "https://localhost:8080/",
          "height": 413
        },
        "id": "vOAuCO9kifCZ",
        "outputId": "a2dc1631-4dc2-42aa-8cc9-981ac857ffac"
      },
      "outputs": [
        {
          "output_type": "execute_result",
          "data": {
            "text/html": [
              "<img src=\"https://git.io/JL5OP\" width=\"700\"/>"
            ],
            "text/plain": [
              "<IPython.core.display.Image object>"
            ]
          },
          "metadata": {},
          "execution_count": 8
        }
      ],
      "source": [
        "Image(url='https://git.io/JL5OP', width=700)"
      ]
    },
    {
      "cell_type": "code",
      "execution_count": 9,
      "metadata": {
        "colab": {
          "base_uri": "https://localhost:8080/",
          "height": 351
        },
        "id": "il5jQ-mZifCZ",
        "outputId": "baa8f0d8-c52f-47d7-d3a2-f071e2e8e1c7",
        "scrolled": true
      },
      "outputs": [
        {
          "output_type": "execute_result",
          "data": {
            "text/html": [
              "<img src=\"https://git.io/JL5OD\" width=\"600\"/>"
            ],
            "text/plain": [
              "<IPython.core.display.Image object>"
            ]
          },
          "metadata": {},
          "execution_count": 9
        }
      ],
      "source": [
        "Image(url='https://git.io/JL5OD', width=600)"
      ]
    },
    {
      "cell_type": "code",
      "execution_count": 10,
      "metadata": {
        "colab": {
          "base_uri": "https://localhost:8080/",
          "height": 374
        },
        "id": "TVLqLnMXifCa",
        "outputId": "afaa0495-7945-4a0a-f892-b316f6993b29"
      },
      "outputs": [
        {
          "output_type": "execute_result",
          "data": {
            "text/html": [
              "<img src=\"https://git.io/JL5OS\" width=\"800\"/>"
            ],
            "text/plain": [
              "<IPython.core.display.Image object>"
            ]
          },
          "metadata": {},
          "execution_count": 10
        }
      ],
      "source": [
        "Image(url='https://git.io/JL5OS', width=800)"
      ]
    },
    {
      "cell_type": "code",
      "execution_count": 11,
      "metadata": {
        "colab": {
          "base_uri": "https://localhost:8080/"
        },
        "id": "I8VBXnCjifCa",
        "outputId": "f6eb43f9-c4d5-49e6-b0ff-4dfeb0ecb56f"
      },
      "outputs": [
        {
          "output_type": "stream",
          "name": "stdout",
          "text": [
            "Conv2d 구현:\n",
            " [[11. 25. 32. 13.]\n",
            " [19. 25. 24. 13.]\n",
            " [13. 28. 25. 17.]\n",
            " [11. 17. 14.  9.]]\n",
            "싸이파이 결과:\n",
            " [[11 25 32 13]\n",
            " [19 25 24 13]\n",
            " [13 28 25 17]\n",
            " [11 17 14  9]]\n"
          ]
        }
      ],
      "source": [
        "import scipy.signal\n",
        "\n",
        "\n",
        "def conv2d(X, W, p=(0, 0), s=(1, 1)):\n",
        "    W_rot = np.array(W)[::-1,::-1]\n",
        "    X_orig = np.array(X)\n",
        "    n1 = X_orig.shape[0] + 2*p[0]\n",
        "    n2 = X_orig.shape[1] + 2*p[1]\n",
        "    X_padded = np.zeros(shape=(n1, n2))\n",
        "    X_padded[p[0]:p[0]+X_orig.shape[0],\n",
        "    p[1]:p[1]+X_orig.shape[1]] = X_orig\n",
        "\n",
        "    res = []\n",
        "    for i in range(0, int((X_padded.shape[0] - \n",
        "                           W_rot.shape[0])/s[0])+1, s[0]):\n",
        "        res.append([])\n",
        "        for j in range(0, int((X_padded.shape[1] - \n",
        "                               W_rot.shape[1])/s[1])+1, s[1]):\n",
        "            X_sub = X_padded[i:i+W_rot.shape[0],\n",
        "                             j:j+W_rot.shape[1]]\n",
        "            res[-1].append(np.sum(X_sub * W_rot))\n",
        "    return(np.array(res))\n",
        "\n",
        "X = [[1, 3, 2, 4], [5, 6, 1, 3], [1, 2, 0, 2], [3, 4, 3, 2]]\n",
        "W = [[1, 0, 3], [1, 2, 1], [0, 1, 1]]\n",
        "\n",
        "print('Conv2d 구현:\\n',\n",
        "    conv2d(X, W, p=(1, 1), s=(1, 1)))\n",
        "\n",
        "\n",
        "print('싸이파이 결과:\\n',\n",
        "    scipy.signal.convolve2d(X, W, mode='same'))"
      ]
    },
    {
      "cell_type": "markdown",
      "metadata": {
        "id": "RHePysibifCa"
      },
      "source": [
        "### 서브샘플링"
      ]
    },
    {
      "cell_type": "code",
      "execution_count": 12,
      "metadata": {
        "colab": {
          "base_uri": "https://localhost:8080/",
          "height": 366
        },
        "id": "kc1ZMqcLifCa",
        "outputId": "bf540d5e-fad6-4f55-dd19-7cc2cbdc29a6"
      },
      "outputs": [
        {
          "output_type": "execute_result",
          "data": {
            "text/html": [
              "<img src=\"https://git.io/JL5OH\" width=\"700\"/>"
            ],
            "text/plain": [
              "<IPython.core.display.Image object>"
            ]
          },
          "metadata": {},
          "execution_count": 12
        }
      ],
      "source": [
        "Image(url='https://git.io/JL5OH', width=700)"
      ]
    },
    {
      "cell_type": "markdown",
      "metadata": {
        "id": "57cBF6lxifCb"
      },
      "source": [
        "## 기본 구성 요소를 사용하여 심층 합성곱 신경망 구성\n",
        "\n",
        "### 여러 개의 입력 또는 컬러 채널 다루기"
      ]
    },
    {
      "cell_type": "code",
      "execution_count": 13,
      "metadata": {
        "colab": {
          "base_uri": "https://localhost:8080/",
          "height": 422
        },
        "id": "VdJuRn5AifCb",
        "outputId": "5ed4bb00-e9f7-480c-ba5f-85284b83b926"
      },
      "outputs": [
        {
          "output_type": "execute_result",
          "data": {
            "text/html": [
              "<img src=\"https://git.io/JL5O5\" width=\"800\"/>"
            ],
            "text/plain": [
              "<IPython.core.display.Image object>"
            ]
          },
          "metadata": {},
          "execution_count": 13
        }
      ],
      "source": [
        "Image(url='https://git.io/JL5O5', width=800)"
      ]
    },
    {
      "cell_type": "markdown",
      "metadata": {
        "id": "ldWAgzDQifCb"
      },
      "source": [
        "**팁: 이미지 파일 읽기**"
      ]
    },
    {
      "cell_type": "code",
      "execution_count": 14,
      "metadata": {
        "colab": {
          "base_uri": "https://localhost:8080/"
        },
        "id": "U2_UgtcxvuJj",
        "outputId": "4770fbb3-af91-4d69-b16b-119a103c00cf"
      },
      "outputs": [
        {
          "output_type": "stream",
          "name": "stdout",
          "text": [
            "--2022-10-16 03:07:02--  https://git.io/JL5Ob\n",
            "Resolving git.io (git.io)... 140.82.113.22\n",
            "Connecting to git.io (git.io)|140.82.113.22|:443... connected.\n",
            "HTTP request sent, awaiting response... 302 Found\n",
            "Location: https://github.com/rickiepark/python-machine-learning-book-3rd-edition/raw/master/ch15/example-image.png [following]\n",
            "--2022-10-16 03:07:02--  https://github.com/rickiepark/python-machine-learning-book-3rd-edition/raw/master/ch15/example-image.png\n",
            "Resolving github.com (github.com)... 192.30.255.113\n",
            "Connecting to github.com (github.com)|192.30.255.113|:443... connected.\n",
            "HTTP request sent, awaiting response... 302 Found\n",
            "Location: https://raw.githubusercontent.com/rickiepark/python-machine-learning-book-3rd-edition/master/ch15/example-image.png [following]\n",
            "--2022-10-16 03:07:03--  https://raw.githubusercontent.com/rickiepark/python-machine-learning-book-3rd-edition/master/ch15/example-image.png\n",
            "Resolving raw.githubusercontent.com (raw.githubusercontent.com)... 185.199.108.133, 185.199.109.133, 185.199.110.133, ...\n",
            "Connecting to raw.githubusercontent.com (raw.githubusercontent.com)|185.199.108.133|:443... connected.\n",
            "HTTP request sent, awaiting response... 200 OK\n",
            "Length: 22283 (22K) [image/png]\n",
            "Saving to: ‘example-image.png’\n",
            "\n",
            "example-image.png   100%[===================>]  21.76K  --.-KB/s    in 0s      \n",
            "\n",
            "2022-10-16 03:07:03 (54.0 MB/s) - ‘example-image.png’ saved [22283/22283]\n",
            "\n"
          ]
        }
      ],
      "source": [
        "# 코랩에서 실행할 경우 이미지를 먼저 다운로드합니다\n",
        "!wget https://git.io/JL5Ob -O example-image.png"
      ]
    },
    {
      "cell_type": "code",
      "execution_count": 15,
      "metadata": {
        "colab": {
          "base_uri": "https://localhost:8080/"
        },
        "id": "2lQymxAJifCb",
        "outputId": "b419ccc0-ff39-40a9-81dc-56460237e99f"
      },
      "outputs": [
        {
          "output_type": "stream",
          "name": "stdout",
          "text": [
            "이미지 크기: (252, 221, 3)\n",
            "채널 개수: 3\n",
            "이미지 데이터 타입: <dtype: 'uint8'>\n",
            "tf.Tensor(\n",
            "[[[179 134 110]\n",
            "  [182 136 112]]\n",
            "\n",
            " [[180 135 111]\n",
            "  [182 137 113]]], shape=(2, 2, 3), dtype=uint8)\n"
          ]
        }
      ],
      "source": [
        "import tensorflow as tf\n",
        "\n",
        "\n",
        "img_raw = tf.io.read_file('example-image.png')\n",
        "img = tf.image.decode_image(img_raw)\n",
        "print('이미지 크기:', img.shape)\n",
        "print('채널 개수:', img.shape[2])\n",
        "print('이미지 데이터 타입:', img.dtype)\n",
        "print(img[100:102, 100:102, :])"
      ]
    },
    {
      "cell_type": "code",
      "execution_count": 16,
      "metadata": {
        "colab": {
          "base_uri": "https://localhost:8080/"
        },
        "id": "qo8Ybg9wifCc",
        "outputId": "0605773f-1c2c-4ccc-dbff-bfb4971c0c23"
      },
      "outputs": [
        {
          "output_type": "stream",
          "name": "stdout",
          "text": [
            "이미지 크기: (252, 221, 3)\n",
            "채널 개수: 3\n",
            "이미지 데이터 타입: uint8\n",
            "[[[179 134 110]\n",
            "  [182 136 112]]\n",
            "\n",
            " [[180 135 111]\n",
            "  [182 137 113]]]\n"
          ]
        }
      ],
      "source": [
        "import imageio\n",
        "\n",
        "\n",
        "img = imageio.imread('example-image.png')\n",
        "print('이미지 크기:', img.shape)\n",
        "print('채널 개수:', img.shape[2])\n",
        "print('이미지 데이터 타입:', img.dtype)\n",
        "print(img[100:102, 100:102, :])"
      ]
    },
    {
      "cell_type": "markdown",
      "metadata": {
        "id": "pRudlk4_ifCd"
      },
      "source": [
        "**노트: CNN 입력을 위한 흑백 이미지의 랭크**"
      ]
    },
    {
      "cell_type": "code",
      "execution_count": 17,
      "metadata": {
        "colab": {
          "base_uri": "https://localhost:8080/"
        },
        "id": "LeRSnSZEw45S",
        "outputId": "31c8fe20-68f7-444c-f856-0461e80184b4"
      },
      "outputs": [
        {
          "output_type": "stream",
          "name": "stdout",
          "text": [
            "--2022-10-16 03:07:06--  https://git.io/JL5Op\n",
            "Resolving git.io (git.io)... 140.82.113.22\n",
            "Connecting to git.io (git.io)|140.82.113.22|:443... connected.\n",
            "HTTP request sent, awaiting response... 302 Found\n",
            "Location: https://github.com/rickiepark/python-machine-learning-book-3rd-edition/raw/master/ch15/example-image-gray.png [following]\n",
            "--2022-10-16 03:07:06--  https://github.com/rickiepark/python-machine-learning-book-3rd-edition/raw/master/ch15/example-image-gray.png\n",
            "Resolving github.com (github.com)... 192.30.255.113\n",
            "Connecting to github.com (github.com)|192.30.255.113|:443... connected.\n",
            "HTTP request sent, awaiting response... 302 Found\n",
            "Location: https://raw.githubusercontent.com/rickiepark/python-machine-learning-book-3rd-edition/master/ch15/example-image-gray.png [following]\n",
            "--2022-10-16 03:07:06--  https://raw.githubusercontent.com/rickiepark/python-machine-learning-book-3rd-edition/master/ch15/example-image-gray.png\n",
            "Resolving raw.githubusercontent.com (raw.githubusercontent.com)... 185.199.108.133, 185.199.110.133, 185.199.111.133, ...\n",
            "Connecting to raw.githubusercontent.com (raw.githubusercontent.com)|185.199.108.133|:443... connected.\n",
            "HTTP request sent, awaiting response... 200 OK\n",
            "Length: 8501 (8.3K) [image/png]\n",
            "Saving to: ‘example-image-gray.png’\n",
            "\n",
            "example-image-gray. 100%[===================>]   8.30K  --.-KB/s    in 0s      \n",
            "\n",
            "2022-10-16 03:07:06 (72.9 MB/s) - ‘example-image-gray.png’ saved [8501/8501]\n",
            "\n"
          ]
        }
      ],
      "source": [
        "# 코랩에서 실행할 경우 이미지를 먼저 다운로드합니다\n",
        "!wget https://git.io/JL5Op -O example-image-gray.png"
      ]
    },
    {
      "cell_type": "code",
      "execution_count": 18,
      "metadata": {
        "colab": {
          "base_uri": "https://localhost:8080/"
        },
        "id": "ZyCzEMJOifCd",
        "outputId": "5219f9c4-1270-4b1b-f6c4-e3daa979a7b7"
      },
      "outputs": [
        {
          "output_type": "stream",
          "name": "stdout",
          "text": [
            "랭크: 3\n",
            "크기: TensorShape([252, 221, 1])\n"
          ]
        }
      ],
      "source": [
        "img_raw = tf.io.read_file('example-image-gray.png')\n",
        "img = tf.image.decode_image(img_raw)\n",
        "tf.print('랭크:', tf.rank(img))\n",
        "tf.print('크기:', img.shape)"
      ]
    },
    {
      "cell_type": "code",
      "execution_count": 19,
      "metadata": {
        "colab": {
          "base_uri": "https://localhost:8080/"
        },
        "id": "OwY7M7mxifCd",
        "outputId": "f972697f-73aa-458c-f6a1-add127430f70"
      },
      "outputs": [
        {
          "output_type": "stream",
          "name": "stdout",
          "text": [
            "랭크: 2\n",
            "크기: (252, 221)\n",
            "새로운 크기: TensorShape([252, 221, 1])\n"
          ]
        }
      ],
      "source": [
        "img = imageio.imread('example-image-gray.png')\n",
        "tf.print('랭크:', tf.rank(img))\n",
        "tf.print('크기:', img.shape)\n",
        "\n",
        "img_reshaped = tf.reshape(img, (img.shape[0], img.shape[1], 1))\n",
        "tf.print('새로운 크기:', img_reshaped.shape)"
      ]
    },
    {
      "cell_type": "markdown",
      "metadata": {
        "id": "Zy4sB8jVifCd"
      },
      "source": [
        "### 드롭아웃으로 신경망 규제"
      ]
    },
    {
      "cell_type": "code",
      "execution_count": 20,
      "metadata": {
        "colab": {
          "base_uri": "https://localhost:8080/",
          "height": 379
        },
        "id": "Lrc2CPzwifCe",
        "outputId": "bf397b1b-b09c-49a6-ade5-b4e8875acafb"
      },
      "outputs": [
        {
          "output_type": "execute_result",
          "data": {
            "text/html": [
              "<img src=\"https://git.io/JL5Oh\" width=\"700\"/>"
            ],
            "text/plain": [
              "<IPython.core.display.Image object>"
            ]
          },
          "metadata": {},
          "execution_count": 20
        }
      ],
      "source": [
        "Image(url='https://git.io/JL5Oh', width=700)"
      ]
    },
    {
      "cell_type": "code",
      "execution_count": 21,
      "metadata": {
        "id": "Mp-rHuGVifCe"
      },
      "outputs": [],
      "source": [
        "from tensorflow import keras\n",
        "\n",
        "\n",
        "conv_layer = keras.layers.Conv2D(\n",
        "    filters=16, kernel_size=(3, 3),\n",
        "    kernel_regularizer=keras.regularizers.l2(0.001))\n",
        "\n",
        "fc_layer = keras.layers.Dense(\n",
        "    units=16, kernel_regularizer=keras.regularizers.l2(0.001))"
      ]
    },
    {
      "cell_type": "markdown",
      "metadata": {
        "id": "Kv1zkQutifCe"
      },
      "source": [
        "### 분류를 위한 손실 함수\n",
        "\n",
        " * **`BinaryCrossentropy()`**\n",
        "   * `from_logits=False` \n",
        "   * `from_logits=True`\n",
        "\n",
        " * **`CategoricalCrossentropy()`**\n",
        "   * `from_logits=False`\n",
        "   * `from_logits=True`\n",
        "   \n",
        " * **`SparseCategoricalCrossentropy()`**\n",
        "   * `from_logits=False`\n",
        "   * `from_logits=True`"
      ]
    },
    {
      "cell_type": "code",
      "execution_count": 22,
      "metadata": {
        "colab": {
          "base_uri": "https://localhost:8080/",
          "height": 357
        },
        "id": "iOAinQEQifCe",
        "outputId": "a01df321-7461-4b88-b614-6c49bfaeebf2"
      },
      "outputs": [
        {
          "output_type": "execute_result",
          "data": {
            "text/html": [
              "<img src=\"https://git.io/JL53f\" width=\"800\"/>"
            ],
            "text/plain": [
              "<IPython.core.display.Image object>"
            ]
          },
          "metadata": {},
          "execution_count": 22
        }
      ],
      "source": [
        "Image(url='https://git.io/JL53f', width=800)"
      ]
    },
    {
      "cell_type": "code",
      "execution_count": 23,
      "metadata": {
        "colab": {
          "base_uri": "https://localhost:8080/"
        },
        "id": "B5oj-jDgifCf",
        "outputId": "2f0a8068-8706-4c52-964e-c088c5715872"
      },
      "outputs": [
        {
          "output_type": "stream",
          "name": "stdout",
          "text": [
            "BCE (확률): 0.3711 (로짓): 0.3711\n",
            "CCE (확률): 0.5996 (로짓): 0.5996\n",
            "Sparse CCE (확률): 0.5996 (로짓): 0.5996\n"
          ]
        }
      ],
      "source": [
        "from distutils.version import LooseVersion as Version\n",
        "\n",
        "\n",
        "####### 이진 크로스 엔트로피\n",
        "bce_probas = tf.keras.losses.BinaryCrossentropy(from_logits=False)\n",
        "bce_logits = tf.keras.losses.BinaryCrossentropy(from_logits=True)\n",
        "\n",
        "logits = tf.constant([0.8])\n",
        "probas = tf.keras.activations.sigmoid(logits)\n",
        "\n",
        "tf.print(\n",
        "    'BCE (확률): {:.4f}'.format(\n",
        "    bce_probas(y_true=[1], y_pred=probas)),\n",
        "    '(로짓): {:.4f}'.format(\n",
        "    bce_logits(y_true=[1], y_pred=logits)))\n",
        "\n",
        "\n",
        "####### 범주형 크로스 엔트로피\n",
        "cce_probas = tf.keras.losses.CategoricalCrossentropy(\n",
        "    from_logits=False)\n",
        "cce_logits = tf.keras.losses.CategoricalCrossentropy(\n",
        "    from_logits=True)\n",
        "\n",
        "logits = tf.constant([[1.5, 0.8, 2.1]])\n",
        "probas = tf.keras.activations.softmax(logits)\n",
        "\n",
        "if Version(tf.__version__) >= '2.3.0':\n",
        "    tf.print(\n",
        "        'CCE (확률): {:.4f}'.format(\n",
        "        cce_probas(y_true=[[0, 0, 1]], y_pred=probas)),\n",
        "        '(로짓): {:.4f}'.format(\n",
        "        cce_logits(y_true=[[0, 0, 1]], y_pred=logits)))\n",
        "else:\n",
        "    tf.print(\n",
        "        'CCE (확률): {:.4f}'.format(\n",
        "        cce_probas(y_true=[0, 0, 1], y_pred=probas)),\n",
        "        '(로짓): {:.4f}'.format(\n",
        "        cce_logits(y_true=[0, 0, 1], y_pred=logits)))\n",
        "\n",
        "####### 희소 범주형 크로스 엔트로피\n",
        "sp_cce_probas = tf.keras.losses.SparseCategoricalCrossentropy(\n",
        "    from_logits=False)\n",
        "sp_cce_logits = tf.keras.losses.SparseCategoricalCrossentropy(\n",
        "    from_logits=True)\n",
        "\n",
        "tf.print(\n",
        "    'Sparse CCE (확률): {:.4f}'.format(\n",
        "    sp_cce_probas(y_true=[2], y_pred=probas)),\n",
        "    '(로짓): {:.4f}'.format(\n",
        "    sp_cce_logits(y_true=[2], y_pred=logits)))"
      ]
    },
    {
      "cell_type": "markdown",
      "metadata": {
        "id": "EcQnpguXifCf"
      },
      "source": [
        "## 텐서플로를 사용하여 심층 합성곱 신경망 구현\n",
        "\n",
        "### 다층 CNN 구조"
      ]
    },
    {
      "cell_type": "code",
      "execution_count": 24,
      "metadata": {
        "colab": {
          "base_uri": "https://localhost:8080/",
          "height": 288
        },
        "id": "n893uGaEifCf",
        "outputId": "cc01aac0-bbe4-4172-88c1-4d934822d45e"
      },
      "outputs": [
        {
          "output_type": "execute_result",
          "data": {
            "text/html": [
              "<img src=\"https://git.io/JL53U\" width=\"800\"/>"
            ],
            "text/plain": [
              "<IPython.core.display.Image object>"
            ]
          },
          "metadata": {},
          "execution_count": 24
        }
      ],
      "source": [
        "Image(url='https://git.io/JL53U', width=800)"
      ]
    },
    {
      "cell_type": "markdown",
      "metadata": {
        "id": "klgI_t62ifCf"
      },
      "source": [
        "### 데이터 적재와 전처리"
      ]
    },
    {
      "cell_type": "code",
      "execution_count": 25,
      "metadata": {
        "id": "qGT2_kbKifCf"
      },
      "outputs": [],
      "source": [
        "import tensorflow_datasets as tfds\n",
        "import pandas as pd\n",
        "\n",
        "import matplotlib.pyplot as plt"
      ]
    },
    {
      "cell_type": "code",
      "execution_count": 26,
      "metadata": {
        "colab": {
          "base_uri": "https://localhost:8080/",
          "height": 122,
          "referenced_widgets": [
            "dd103b59c4f1418583bd70d79aaee3be",
            "8266e8e30c7147749e617bacd6a690ec",
            "bd873c8671634585bc6ef43e30479d85",
            "07a5c1d235b4492f8c4a5c6d9d2e51cb",
            "aebc6d42b8ad40e2b427967821a6eef7",
            "07a9f2cbcd3a42aca8c0667d735e50b5",
            "97ece301383647d28303f2d231629681",
            "f628ea57f64a42a294e03bd64f5745ea",
            "f80bedf5549c4bd3be297e2e60cd4265",
            "3e4b27ed989e46cbb5bcba2c27946c8e",
            "c929fec08d614efb958cecc13dc72f52"
          ]
        },
        "id": "csMbYS6PifCf",
        "outputId": "88bf2955-eabd-4c17-f511-646a02657656"
      },
      "outputs": [
        {
          "output_type": "stream",
          "name": "stdout",
          "text": [
            "\u001b[1mDownloading and preparing dataset 11.06 MiB (download: 11.06 MiB, generated: 21.00 MiB, total: 32.06 MiB) to ~/tensorflow_datasets/mnist/3.0.1...\u001b[0m\n"
          ]
        },
        {
          "output_type": "display_data",
          "data": {
            "text/plain": [
              "Dl Completed...:   0%|          | 0/4 [00:00<?, ? file/s]"
            ],
            "application/vnd.jupyter.widget-view+json": {
              "version_major": 2,
              "version_minor": 0,
              "model_id": "dd103b59c4f1418583bd70d79aaee3be"
            }
          },
          "metadata": {}
        },
        {
          "output_type": "stream",
          "name": "stdout",
          "text": [
            "\u001b[1mDataset mnist downloaded and prepared to ~/tensorflow_datasets/mnist/3.0.1. Subsequent calls will reuse this data.\u001b[0m\n",
            "dict_keys(['test', 'train'])\n"
          ]
        }
      ],
      "source": [
        "## MNIST 데이터셋\n",
        "\n",
        "mnist_bldr = tfds.builder('mnist')\n",
        "mnist_bldr.download_and_prepare()\n",
        "datasets = mnist_bldr.as_dataset(shuffle_files=False)\n",
        "print(datasets.keys())\n",
        "mnist_train_orig, mnist_test_orig = datasets['train'], datasets['test']"
      ]
    },
    {
      "cell_type": "code",
      "execution_count": 27,
      "metadata": {
        "id": "B0b0Q15oifCg"
      },
      "outputs": [],
      "source": [
        "BUFFER_SIZE = 10000\n",
        "BATCH_SIZE = 64\n",
        "NUM_EPOCHS = 20"
      ]
    },
    {
      "cell_type": "code",
      "execution_count": 28,
      "metadata": {
        "id": "PnBbEngHifCg"
      },
      "outputs": [],
      "source": [
        "mnist_train = mnist_train_orig.map(\n",
        "    lambda item: (tf.cast(item['image'], tf.float32)/255.0, \n",
        "                  tf.cast(item['label'], tf.int32)))\n",
        "\n",
        "mnist_test = mnist_test_orig.map(\n",
        "    lambda item: (tf.cast(item['image'], tf.float32)/255.0, \n",
        "                  tf.cast(item['label'], tf.int32)))\n",
        "\n",
        "tf.random.set_seed(1)\n",
        "\n",
        "mnist_train = mnist_train.shuffle(buffer_size=BUFFER_SIZE,\n",
        "                                  reshuffle_each_iteration=False)\n",
        "\n",
        "mnist_valid = mnist_train.take(10000).batch(BATCH_SIZE)\n",
        "mnist_train = mnist_train.skip(10000).batch(BATCH_SIZE)"
      ]
    },
    {
      "cell_type": "markdown",
      "metadata": {
        "id": "HIa1GMPZifCg"
      },
      "source": [
        "### 텐서플로 케라스 API를 사용해 CNN 구현하기\n",
        "\n",
        "#### 케라스에서 CNN 층 설정하기\n",
        "\n",
        " * **Conv2D:** `tf.keras.layers.Conv2D`\n",
        "   * `filters`\n",
        "   * `kernel_size`\n",
        "   * `strides`\n",
        "   * `padding`\n",
        "   \n",
        "   \n",
        " * **MaxPool2D:** `tf.keras.layers.MaxPool2D`\n",
        "   * `pool_size`\n",
        "   * `strides`\n",
        "   * `padding`\n",
        "   \n",
        "   \n",
        " * **Dropout** `tf.keras.layers.Dropout2D`\n",
        "   * `rate`"
      ]
    },
    {
      "cell_type": "markdown",
      "metadata": {
        "id": "Dg1drzu5ifCg"
      },
      "source": [
        "#### 케라스로 CNN 구성하기"
      ]
    },
    {
      "cell_type": "code",
      "execution_count": 29,
      "metadata": {
        "id": "oZnaVWxQifCg"
      },
      "outputs": [],
      "source": [
        "model = tf.keras.Sequential()\n",
        "\n",
        "model.add(tf.keras.layers.Conv2D(\n",
        "    filters=32, kernel_size=(5, 5),\n",
        "    strides=(1, 1), padding='same',\n",
        "    data_format='channels_last',\n",
        "    name='conv_1', activation='relu'))\n",
        "\n",
        "model.add(tf.keras.layers.MaxPool2D(\n",
        "    pool_size=(2, 2), name='pool_1'))\n",
        "    \n",
        "model.add(tf.keras.layers.Conv2D(\n",
        "    filters=64, kernel_size=(5, 5),\n",
        "    strides=(1, 1), padding='same',\n",
        "    name='conv_2', activation='relu'))\n",
        "\n",
        "model.add(tf.keras.layers.MaxPool2D(pool_size=(2, 2), name='pool_2'))"
      ]
    },
    {
      "cell_type": "code",
      "execution_count": 30,
      "metadata": {
        "colab": {
          "base_uri": "https://localhost:8080/"
        },
        "id": "v5b9cESoifCg",
        "outputId": "82ed1d79-02e4-42f3-9aa8-15924edb4fb7"
      },
      "outputs": [
        {
          "output_type": "execute_result",
          "data": {
            "text/plain": [
              "TensorShape([16, 7, 7, 64])"
            ]
          },
          "metadata": {},
          "execution_count": 30
        }
      ],
      "source": [
        "model.compute_output_shape(input_shape=(16, 28, 28, 1))"
      ]
    },
    {
      "cell_type": "code",
      "execution_count": 31,
      "metadata": {
        "colab": {
          "base_uri": "https://localhost:8080/"
        },
        "id": "CinCB6uKifCg",
        "outputId": "cdc53eef-fdf4-4b30-cc87-eb7ada7fb490"
      },
      "outputs": [
        {
          "output_type": "execute_result",
          "data": {
            "text/plain": [
              "TensorShape([16, 3136])"
            ]
          },
          "metadata": {},
          "execution_count": 31
        }
      ],
      "source": [
        "model.add(tf.keras.layers.Flatten())\n",
        "    \n",
        "model.compute_output_shape(input_shape=(16, 28, 28, 1))"
      ]
    },
    {
      "cell_type": "code",
      "execution_count": 32,
      "metadata": {
        "id": "9zQEJSKTifCh"
      },
      "outputs": [],
      "source": [
        "model.add(tf.keras.layers.Dense(\n",
        "    units=1024, name='fc_1', \n",
        "    activation='relu'))\n",
        "\n",
        "model.add(tf.keras.layers.Dropout(\n",
        "    rate=0.5))\n",
        "    \n",
        "model.add(tf.keras.layers.Dense(\n",
        "    units=10, name='fc_2',\n",
        "    activation='softmax'))"
      ]
    },
    {
      "cell_type": "code",
      "execution_count": 33,
      "metadata": {
        "colab": {
          "base_uri": "https://localhost:8080/"
        },
        "id": "xd3wAxU2ifCh",
        "outputId": "69dae63b-f4c2-4753-d8ec-562b71497b08"
      },
      "outputs": [
        {
          "output_type": "execute_result",
          "data": {
            "text/plain": [
              "TensorShape([16, 10])"
            ]
          },
          "metadata": {},
          "execution_count": 33
        }
      ],
      "source": [
        "tf.random.set_seed(1)\n",
        "model.build(input_shape=(None, 28, 28, 1))\n",
        "\n",
        "model.compute_output_shape(input_shape=(16, 28, 28, 1))"
      ]
    },
    {
      "cell_type": "code",
      "execution_count": 34,
      "metadata": {
        "colab": {
          "base_uri": "https://localhost:8080/"
        },
        "id": "sKsAwaKtifCh",
        "outputId": "1e6b3019-99c4-448e-c751-7c62cc9d1f14"
      },
      "outputs": [
        {
          "output_type": "stream",
          "name": "stdout",
          "text": [
            "Model: \"sequential\"\n",
            "_________________________________________________________________\n",
            " Layer (type)                Output Shape              Param #   \n",
            "=================================================================\n",
            " conv_1 (Conv2D)             (None, 28, 28, 32)        832       \n",
            "                                                                 \n",
            " pool_1 (MaxPooling2D)       (None, 14, 14, 32)        0         \n",
            "                                                                 \n",
            " conv_2 (Conv2D)             (None, 14, 14, 64)        51264     \n",
            "                                                                 \n",
            " pool_2 (MaxPooling2D)       (None, 7, 7, 64)          0         \n",
            "                                                                 \n",
            " flatten (Flatten)           (None, 3136)              0         \n",
            "                                                                 \n",
            " fc_1 (Dense)                (None, 1024)              3212288   \n",
            "                                                                 \n",
            " dropout (Dropout)           (None, 1024)              0         \n",
            "                                                                 \n",
            " fc_2 (Dense)                (None, 10)                10250     \n",
            "                                                                 \n",
            "=================================================================\n",
            "Total params: 3,274,634\n",
            "Trainable params: 3,274,634\n",
            "Non-trainable params: 0\n",
            "_________________________________________________________________\n"
          ]
        }
      ],
      "source": [
        "model.summary()"
      ]
    },
    {
      "cell_type": "code",
      "execution_count": 35,
      "metadata": {
        "colab": {
          "base_uri": "https://localhost:8080/"
        },
        "id": "9-yPq6g9ifCh",
        "outputId": "79fab631-e23f-44f2-f509-600ebe2937a9"
      },
      "outputs": [
        {
          "output_type": "stream",
          "name": "stdout",
          "text": [
            "Epoch 1/20\n",
            "782/782 [==============================] - 21s 10ms/step - loss: 0.1381 - accuracy: 0.9575 - val_loss: 0.0457 - val_accuracy: 0.9858\n",
            "Epoch 2/20\n",
            "782/782 [==============================] - 7s 8ms/step - loss: 0.0458 - accuracy: 0.9859 - val_loss: 0.0422 - val_accuracy: 0.9870\n",
            "Epoch 3/20\n",
            "782/782 [==============================] - 7s 8ms/step - loss: 0.0294 - accuracy: 0.9906 - val_loss: 0.0361 - val_accuracy: 0.9886\n",
            "Epoch 4/20\n",
            "782/782 [==============================] - 7s 8ms/step - loss: 0.0215 - accuracy: 0.9931 - val_loss: 0.0361 - val_accuracy: 0.9899\n",
            "Epoch 5/20\n",
            "782/782 [==============================] - 7s 9ms/step - loss: 0.0190 - accuracy: 0.9935 - val_loss: 0.0448 - val_accuracy: 0.9885\n",
            "Epoch 6/20\n",
            "782/782 [==============================] - 8s 8ms/step - loss: 0.0153 - accuracy: 0.9949 - val_loss: 0.0483 - val_accuracy: 0.9892\n",
            "Epoch 7/20\n",
            "782/782 [==============================] - 8s 9ms/step - loss: 0.0131 - accuracy: 0.9961 - val_loss: 0.0383 - val_accuracy: 0.9907\n",
            "Epoch 8/20\n",
            "782/782 [==============================] - 7s 8ms/step - loss: 0.0108 - accuracy: 0.9965 - val_loss: 0.0542 - val_accuracy: 0.9888\n",
            "Epoch 9/20\n",
            "782/782 [==============================] - 7s 8ms/step - loss: 0.0107 - accuracy: 0.9963 - val_loss: 0.0442 - val_accuracy: 0.9890\n",
            "Epoch 10/20\n",
            "782/782 [==============================] - 7s 8ms/step - loss: 0.0098 - accuracy: 0.9969 - val_loss: 0.0465 - val_accuracy: 0.9895\n",
            "Epoch 11/20\n",
            "782/782 [==============================] - 7s 8ms/step - loss: 0.0087 - accuracy: 0.9975 - val_loss: 0.0524 - val_accuracy: 0.9889\n",
            "Epoch 12/20\n",
            "782/782 [==============================] - 7s 8ms/step - loss: 0.0081 - accuracy: 0.9974 - val_loss: 0.0611 - val_accuracy: 0.9878\n",
            "Epoch 13/20\n",
            "782/782 [==============================] - 7s 8ms/step - loss: 0.0083 - accuracy: 0.9973 - val_loss: 0.0512 - val_accuracy: 0.9900\n",
            "Epoch 14/20\n",
            "782/782 [==============================] - 7s 8ms/step - loss: 0.0069 - accuracy: 0.9979 - val_loss: 0.0565 - val_accuracy: 0.9903\n",
            "Epoch 15/20\n",
            "782/782 [==============================] - 7s 8ms/step - loss: 0.0070 - accuracy: 0.9978 - val_loss: 0.0524 - val_accuracy: 0.9919\n",
            "Epoch 16/20\n",
            "782/782 [==============================] - 7s 8ms/step - loss: 0.0052 - accuracy: 0.9984 - val_loss: 0.0595 - val_accuracy: 0.9907\n",
            "Epoch 17/20\n",
            "782/782 [==============================] - 7s 8ms/step - loss: 0.0062 - accuracy: 0.9982 - val_loss: 0.0687 - val_accuracy: 0.9900\n",
            "Epoch 18/20\n",
            "782/782 [==============================] - 7s 8ms/step - loss: 0.0065 - accuracy: 0.9980 - val_loss: 0.0722 - val_accuracy: 0.9901\n",
            "Epoch 19/20\n",
            "782/782 [==============================] - 8s 9ms/step - loss: 0.0064 - accuracy: 0.9982 - val_loss: 0.0710 - val_accuracy: 0.9901\n",
            "Epoch 20/20\n",
            "782/782 [==============================] - 7s 8ms/step - loss: 0.0057 - accuracy: 0.9984 - val_loss: 0.0633 - val_accuracy: 0.9898\n"
          ]
        }
      ],
      "source": [
        "model.compile(optimizer=tf.keras.optimizers.Adam(),\n",
        "              loss=tf.keras.losses.SparseCategoricalCrossentropy(),\n",
        "              metrics=['accuracy']) # same as `tf.keras.metrics.SparseCategoricalAccuracy(name='accuracy')`\n",
        "\n",
        "history = model.fit(mnist_train, epochs=NUM_EPOCHS, \n",
        "                    validation_data=mnist_valid, \n",
        "                    shuffle=True)"
      ]
    },
    {
      "cell_type": "code",
      "execution_count": 36,
      "metadata": {
        "colab": {
          "base_uri": "https://localhost:8080/",
          "height": 286
        },
        "id": "a06czk7ZifCh",
        "outputId": "d40ef30b-8124-40c9-af5e-78428feef4cd"
      },
      "outputs": [
        {
          "output_type": "display_data",
          "data": {
            "text/plain": [
              "<Figure size 864x288 with 2 Axes>"
            ],
            "image/png": "[encoded data removed]"
          },
          "metadata": {
            "needs_background": "light"
          }
        }
      ],
      "source": [
        "hist = history.history\n",
        "x_arr = np.arange(len(hist['loss'])) + 1\n",
        "\n",
        "fig = plt.figure(figsize=(12, 4))\n",
        "ax = fig.add_subplot(1, 2, 1)\n",
        "ax.plot(x_arr, hist['loss'], '-o', label='Train loss')\n",
        "ax.plot(x_arr, hist['val_loss'], '--<', label='Validation loss')\n",
        "ax.set_xlabel('Epoch', size=15)\n",
        "ax.set_ylabel('Loss', size=15)\n",
        "ax.legend(fontsize=15)\n",
        "ax = fig.add_subplot(1, 2, 2)\n",
        "ax.plot(x_arr, hist['accuracy'], '-o', label='Train acc.')\n",
        "ax.plot(x_arr, hist['val_accuracy'], '--<', label='Validation acc.')\n",
        "ax.legend(fontsize=15)\n",
        "ax.set_xlabel('Epoch', size=15)\n",
        "ax.set_ylabel('Accuracy', size=15)\n",
        "\n",
        "#plt.savefig('images/15_12.png', dpi=300)\n",
        "plt.show()"
      ]
    },
    {
      "cell_type": "code",
      "execution_count": 37,
      "metadata": {
        "colab": {
          "base_uri": "https://localhost:8080/"
        },
        "id": "d3dx-LhlifCi",
        "outputId": "79b52623-9378-4e5d-fb96-04a062f9186c"
      },
      "outputs": [
        {
          "output_type": "stream",
          "name": "stdout",
          "text": [
            "500/500 [==============================] - 2s 4ms/step - loss: 0.0417 - accuracy: 0.9924\n",
            "\n",
            "테스트 정확도 99.24%\n"
          ]
        }
      ],
      "source": [
        "test_results = model.evaluate(mnist_test.batch(20))\n",
        "print('\\n테스트 정확도 {:.2f}%'.format(test_results[1]*100))"
      ]
    },
    {
      "cell_type": "code",
      "execution_count": 38,
      "metadata": {
        "colab": {
          "base_uri": "https://localhost:8080/",
          "height": 285
        },
        "id": "T7kb_hRaifCi",
        "outputId": "aa495b5f-b032-481f-a2ec-c662a0b070bc",
        "scrolled": true
      },
      "outputs": [
        {
          "output_type": "stream",
          "name": "stdout",
          "text": [
            "TensorShape([12, 10])\n",
            "tf.Tensor([2 0 4 8 7 6 0 6 3 1 8 0], shape=(12,), dtype=int64)\n"
          ]
        },
        {
          "output_type": "display_data",
          "data": {
            "text/plain": [
              "<Figure size 864x288 with 12 Axes>"
            ],
            "image/png": "[encoded data removed]"
          },
          "metadata": {}
        }
      ],
      "source": [
        "batch_test = next(iter(mnist_test.batch(12)))\n",
        "\n",
        "preds = model(batch_test[0])\n",
        "\n",
        "tf.print(preds.shape)\n",
        "preds = tf.argmax(preds, axis=1)\n",
        "print(preds)\n",
        "\n",
        "fig = plt.figure(figsize=(12, 4))\n",
        "for i in range(12):\n",
        "    ax = fig.add_subplot(2, 6, i+1)\n",
        "    ax.set_xticks([]); ax.set_yticks([])\n",
        "    img = batch_test[0][i, :, :, 0]\n",
        "    ax.imshow(img, cmap='gray_r')\n",
        "    ax.text(0.9, 0.1, '{}'.format(preds[i]), \n",
        "            size=15, color='blue',\n",
        "            horizontalalignment='center',\n",
        "            verticalalignment='center', \n",
        "            transform=ax.transAxes)\n",
        "    \n",
        "#plt.savefig('images/15_13.png', dpi=300)\n",
        "plt.show()"
      ]
    },
    {
      "cell_type": "code",
      "execution_count": 39,
      "metadata": {
        "id": "5sLLwpHLifCi"
      },
      "outputs": [],
      "source": [
        "import os\n",
        "\n",
        "if not os.path.exists('models'):\n",
        "    os.mkdir('models')\n",
        "\n",
        "\n",
        "model.save('models/mnist-cnn.h5')"
      ]
    }
  ],
  "metadata": {
    "accelerator": "GPU",
    "colab": {
      "name": "ch15_part1.ipynb",
      "provenance": []
    },
    "kernelspec": {
      "display_name": "Python 3",
      "language": "python",
      "name": "python3"
    },
    "language_info": {
      "codemirror_mode": {
        "name": "ipython",
        "version": 3
      },
      "file_extension": ".py",
      "mimetype": "text/x-python",
      "name": "python",
      "nbconvert_exporter": "python",
      "pygments_lexer": "ipython3",
      "version": "3.7.3"
    },
    "widgets": {
      "application/vnd.jupyter.widget-state+json": {
        "dd103b59c4f1418583bd70d79aaee3be": {
          "model_module": "@jupyter-widgets/controls",
          "model_name": "HBoxModel",
          "model_module_version": "1.5.0",
          "state": {
            "_dom_classes": [],
            "_model_module": "@jupyter-widgets/controls",
            "_model_module_version": "1.5.0",
            "_model_name": "HBoxModel",
            "_view_count": null,
            "_view_module": "@jupyter-widgets/controls",
            "_view_module_version": "1.5.0",
            "_view_name": "HBoxView",
            "box_style": "",
            "children": [
              "IPY_MODEL_8266e8e30c7147749e617bacd6a690ec",
              "IPY_MODEL_bd873c8671634585bc6ef43e30479d85",
              "IPY_MODEL_07a5c1d235b4492f8c4a5c6d9d2e51cb"
            ],
            "layout": "IPY_MODEL_aebc6d42b8ad40e2b427967821a6eef7"
          }
        },
        "8266e8e30c7147749e617bacd6a690ec": {
          "model_module": "@jupyter-widgets/controls",
          "model_name": "HTMLModel",
          "model_module_version": "1.5.0",
          "state": {
            "_dom_classes": [],
            "_model_module": "@jupyter-widgets/controls",
            "_model_module_version": "1.5.0",
            "_model_name": "HTMLModel",
            "_view_count": null,
            "_view_module": "@jupyter-widgets/controls",
            "_view_module_version": "1.5.0",
            "_view_name": "HTMLView",
            "description": "",
            "description_tooltip": null,
            "layout": "IPY_MODEL_07a9f2cbcd3a42aca8c0667d735e50b5",
            "placeholder": "​",
            "style": "IPY_MODEL_97ece301383647d28303f2d231629681",
            "value": "Dl Completed...: 100%"
          }
        },
        "bd873c8671634585bc6ef43e30479d85": {
          "model_module": "@jupyter-widgets/controls",
          "model_name": "FloatProgressModel",
          "model_module_version": "1.5.0",
          "state": {
            "_dom_classes": [],
            "_model_module": "@jupyter-widgets/controls",
            "_model_module_version": "1.5.0",
            "_model_name": "FloatProgressModel",
            "_view_count": null,
            "_view_module": "@jupyter-widgets/controls",
            "_view_module_version": "1.5.0",
            "_view_name": "ProgressView",
            "bar_style": "success",
            "description": "",
            "description_tooltip": null,
            "layout": "IPY_MODEL_f628ea57f64a42a294e03bd64f5745ea",
            "max": 4,
            "min": 0,
            "orientation": "horizontal",
            "style": "IPY_MODEL_f80bedf5549c4bd3be297e2e60cd4265",
            "value": 4
          }
        },
        "07a5c1d235b4492f8c4a5c6d9d2e51cb": {
          "model_module": "@jupyter-widgets/controls",
          "model_name": "HTMLModel",
          "model_module_version": "1.5.0",
          "state": {
            "_dom_classes": [],
            "_model_module": "@jupyter-widgets/controls",
            "_model_module_version": "1.5.0",
            "_model_name": "HTMLModel",
            "_view_count": null,
            "_view_module": "@jupyter-widgets/controls",
            "_view_module_version": "1.5.0",
            "_view_name": "HTMLView",
            "description": "",
            "description_tooltip": null,
            "layout": "IPY_MODEL_3e4b27ed989e46cbb5bcba2c27946c8e",
            "placeholder": "​",
            "style": "IPY_MODEL_c929fec08d614efb958cecc13dc72f52",
            "value": " 4/4 [00:00&lt;00:00, 10.25 file/s]"
          }
        },
        "aebc6d42b8ad40e2b427967821a6eef7": {
          "model_module": "@jupyter-widgets/base",
          "model_name": "LayoutModel",
          "model_module_version": "1.2.0",
          "state": {
            "_model_module": "@jupyter-widgets/base",
            "_model_module_version": "1.2.0",
            "_model_name": "LayoutModel",
            "_view_count": null,
            "_view_module": "@jupyter-widgets/base",
            "_view_module_version": "1.2.0",
            "_view_name": "LayoutView",
            "align_content": null,
            "align_items": null,
            "align_self": null,
            "border": null,
            "bottom": null,
            "display": null,
            "flex": null,
            "flex_flow": null,
            "grid_area": null,
            "grid_auto_columns": null,
            "grid_auto_flow": null,
            "grid_auto_rows": null,
            "grid_column": null,
            "grid_gap": null,
            "grid_row": null,
            "grid_template_areas": null,
            "grid_template_columns": null,
            "grid_template_rows": null,
            "height": null,
            "justify_content": null,
            "justify_items": null,
            "left": null,
            "margin": null,
            "max_height": null,
            "max_width": null,
            "min_height": null,
            "min_width": null,
            "object_fit": null,
            "object_position": null,
            "order": null,
            "overflow": null,
            "overflow_x": null,
            "overflow_y": null,
            "padding": null,
            "right": null,
            "top": null,
            "visibility": null,
            "width": null
          }
        },
        "07a9f2cbcd3a42aca8c0667d735e50b5": {
          "model_module": "@jupyter-widgets/base",
          "model_name": "LayoutModel",
          "model_module_version": "1.2.0",
          "state": {
            "_model_module": "@jupyter-widgets/base",
            "_model_module_version": "1.2.0",
            "_model_name": "LayoutModel",
            "_view_count": null,
            "_view_module": "@jupyter-widgets/base",
            "_view_module_version": "1.2.0",
            "_view_name": "LayoutView",
            "align_content": null,
            "align_items": null,
            "align_self": null,
            "border": null,
            "bottom": null,
            "display": null,
            "flex": null,
            "flex_flow": null,
            "grid_area": null,
            "grid_auto_columns": null,
            "grid_auto_flow": null,
            "grid_auto_rows": null,
            "grid_column": null,
            "grid_gap": null,
            "grid_row": null,
            "grid_template_areas": null,
            "grid_template_columns": null,
            "grid_template_rows": null,
            "height": null,
            "justify_content": null,
            "justify_items": null,
            "left": null,
            "margin": null,
            "max_height": null,
            "max_width": null,
            "min_height": null,
            "min_width": null,
            "object_fit": null,
            "object_position": null,
            "order": null,
            "overflow": null,
            "overflow_x": null,
            "overflow_y": null,
            "padding": null,
            "right": null,
            "top": null,
            "visibility": null,
            "width": null
          }
        },
        "97ece301383647d28303f2d231629681": {
          "model_module": "@jupyter-widgets/controls",
          "model_name": "DescriptionStyleModel",
          "model_module_version": "1.5.0",
          "state": {
            "_model_module": "@jupyter-widgets/controls",
            "_model_module_version": "1.5.0",
            "_model_name": "DescriptionStyleModel",
            "_view_count": null,
            "_view_module": "@jupyter-widgets/base",
            "_view_module_version": "1.2.0",
            "_view_name": "StyleView",
            "description_width": ""
          }
        },
        "f628ea57f64a42a294e03bd64f5745ea": {
          "model_module": "@jupyter-widgets/base",
          "model_name": "LayoutModel",
          "model_module_version": "1.2.0",
          "state": {
            "_model_module": "@jupyter-widgets/base",
            "_model_module_version": "1.2.0",
            "_model_name": "LayoutModel",
            "_view_count": null,
            "_view_module": "@jupyter-widgets/base",
            "_view_module_version": "1.2.0",
            "_view_name": "LayoutView",
            "align_content": null,
            "align_items": null,
            "align_self": null,
            "border": null,
            "bottom": null,
            "display": null,
            "flex": null,
            "flex_flow": null,
            "grid_area": null,
            "grid_auto_columns": null,
            "grid_auto_flow": null,
            "grid_auto_rows": null,
            "grid_column": null,
            "grid_gap": null,
            "grid_row": null,
            "grid_template_areas": null,
            "grid_template_columns": null,
            "grid_template_rows": null,
            "height": null,
            "justify_content": null,
            "justify_items": null,
            "left": null,
            "margin": null,
            "max_height": null,
            "max_width": null,
            "min_height": null,
            "min_width": null,
            "object_fit": null,
            "object_position": null,
            "order": null,
            "overflow": null,
            "overflow_x": null,
            "overflow_y": null,
            "padding": null,
            "right": null,
            "top": null,
            "visibility": null,
            "width": null
          }
        },
        "f80bedf5549c4bd3be297e2e60cd4265": {
          "model_module": "@jupyter-widgets/controls",
          "model_name": "ProgressStyleModel",
          "model_module_version": "1.5.0",
          "state": {
            "_model_module": "@jupyter-widgets/controls",
            "_model_module_version": "1.5.0",
            "_model_name": "ProgressStyleModel",
            "_view_count": null,
            "_view_module": "@jupyter-widgets/base",
            "_view_module_version": "1.2.0",
            "_view_name": "StyleView",
            "bar_color": null,
            "description_width": ""
          }
        },
        "3e4b27ed989e46cbb5bcba2c27946c8e": {
          "model_module": "@jupyter-widgets/base",
          "model_name": "LayoutModel",
          "model_module_version": "1.2.0",
          "state": {
            "_model_module": "@jupyter-widgets/base",
            "_model_module_version": "1.2.0",
            "_model_name": "LayoutModel",
            "_view_count": null,
            "_view_module": "@jupyter-widgets/base",
            "_view_module_version": "1.2.0",
            "_view_name": "LayoutView",
            "align_content": null,
            "align_items": null,
            "align_self": null,
            "border": null,
            "bottom": null,
            "display": null,
            "flex": null,
            "flex_flow": null,
            "grid_area": null,
            "grid_auto_columns": null,
            "grid_auto_flow": null,
            "grid_auto_rows": null,
            "grid_column": null,
            "grid_gap": null,
            "grid_row": null,
            "grid_template_areas": null,
            "grid_template_columns": null,
            "grid_template_rows": null,
            "height": null,
            "justify_content": null,
            "justify_items": null,
            "left": null,
            "margin": null,
            "max_height": null,
            "max_width": null,
            "min_height": null,
            "min_width": null,
            "object_fit": null,
            "object_position": null,
            "order": null,
            "overflow": null,
            "overflow_x": null,
            "overflow_y": null,
            "padding": null,
            "right": null,
            "top": null,
            "visibility": null,
            "width": null
          }
        },
        "c929fec08d614efb958cecc13dc72f52": {
          "model_module": "@jupyter-widgets/controls",
          "model_name": "DescriptionStyleModel",
          "model_module_version": "1.5.0",
          "state": {
            "_model_module": "@jupyter-widgets/controls",
            "_model_module_version": "1.5.0",
            "_model_name": "DescriptionStyleModel",
            "_view_count": null,
            "_view_module": "@jupyter-widgets/base",
            "_view_module_version": "1.2.0",
            "_view_name": "StyleView",
            "description_width": ""
          }
        }
      }
    }
  },
  "nbformat": 4,
  "nbformat_minor": 0
}