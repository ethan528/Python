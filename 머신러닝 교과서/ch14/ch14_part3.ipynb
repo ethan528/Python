{
  "cells": [
    {
      "cell_type": "markdown",
      "metadata": {
        "id": "Vc6_2ntY1bf7"
      },
      "source": [
        "# 머신 러닝 교과서 3판"
      ]
    },
    {
      "cell_type": "markdown",
      "metadata": {
        "id": "zDc0-lf51bgB"
      },
      "source": [
        "# 14장 - 텐서플로의 구조 자세히 알아보기 (3/3)"
      ]
    },
    {
      "cell_type": "markdown",
      "metadata": {
        "id": "5uWGlsyu1bgB"
      },
      "source": [
        "**아래 링크를 통해 이 노트북을 주피터 노트북 뷰어(nbviewer.jupyter.org)로 보거나 구글 코랩(colab.research.google.com)에서 실행할 수 있습니다.**\n",
        "\n",
        "<table class=\"tfo-notebook-buttons\" align=\"left\">\n",
        "  <td>\n",
        "    <a target=\"_blank\" href=\"https://nbviewer.org/github/rickiepark/python-machine-learning-book-3rd-edition/blob/master/ch14/ch14_part3.ipynb\"><img src=\"https://jupyter.org/assets/share.png\" width=\"60\" />주피터 노트북 뷰어로 보기</a>\n",
        "  </td>\n",
        "  <td>\n",
        "    <a target=\"_blank\" href=\"https://colab.research.google.com/github/rickiepark/python-machine-learning-book-3rd-edition/blob/master/ch14/ch14_part3.ipynb\"><img src=\"https://www.tensorflow.org/images/colab_logo_32px.png\" />구글 코랩(Colab)에서 실행하기</a>\n",
        "  </td>\n",
        "</table>"
      ]
    },
    {
      "cell_type": "markdown",
      "metadata": {
        "id": "MNC_qLbl1bgC"
      },
      "source": [
        "### 목차"
      ]
    },
    {
      "cell_type": "markdown",
      "metadata": {
        "id": "hRk4nqAW1bgC"
      },
      "source": [
        "- 텐서플로 추정기\n",
        "  - 추정기를 사용해 MNIST 손글씨 숫자 분류하기\n",
        "  - 케라스 모델에서 추정기 만들기"
      ]
    },
    {
      "cell_type": "code",
      "execution_count": 1,
      "metadata": {
        "id": "UoxDNsX-1bgC"
      },
      "outputs": [],
      "source": [
        "import tensorflow as tf\n",
        "import tensorflow_datasets as tfds\n",
        "import numpy as np"
      ]
    },
    {
      "cell_type": "code",
      "execution_count": 2,
      "metadata": {
        "colab": {
          "base_uri": "https://localhost:8080/",
          "height": 36
        },
        "id": "OE8GOBaS1dzc",
        "outputId": "fe7ace9b-35fc-469f-d030-4a7e5a51e911"
      },
      "outputs": [
        {
          "output_type": "execute_result",
          "data": {
            "text/plain": [
              "'2.9.2'"
            ],
            "application/vnd.google.colaboratory.intrinsic+json": {
              "type": "string"
            }
          },
          "metadata": {},
          "execution_count": 2
        }
      ],
      "source": [
        "tf.__version__"
      ]
    },
    {
      "cell_type": "markdown",
      "metadata": {
        "id": "Ajj9IQD71bgD"
      },
      "source": [
        "### 추정기를 사용해 MNIST 손글씨 숫자 분류하기"
      ]
    },
    {
      "cell_type": "code",
      "execution_count": 3,
      "metadata": {
        "id": "Y6Bayxva1bgD"
      },
      "outputs": [],
      "source": [
        "BUFFER_SIZE = 10000\n",
        "BATCH_SIZE = 64\n",
        "NUM_EPOCHS = 20\n",
        "steps_per_epoch = np.ceil(60000 / BATCH_SIZE)"
      ]
    },
    {
      "cell_type": "code",
      "execution_count": 4,
      "metadata": {
        "id": "WYZ_v7tC1bgD"
      },
      "outputs": [],
      "source": [
        "def preprocess(item):\n",
        "    image = item['image']\n",
        "    label = item['label']\n",
        "    image = tf.image.convert_image_dtype(\n",
        "        image, tf.float32)\n",
        "    image = tf.reshape(image, (-1,))\n",
        "\n",
        "    return {'image-pixels':image}, label[..., tf.newaxis]\n",
        "\n",
        "# 단계 1: 입력 함수 두 개를 정의합니다(하나는 훈련용이고 다른 하나는 평가용입니다).\n",
        "## 훈련용 입력 함수\n",
        "def train_input_fn():\n",
        "    datasets = tfds.load(name='mnist')\n",
        "    mnist_train = datasets['train']\n",
        "\n",
        "    dataset = mnist_train.map(preprocess)\n",
        "    dataset = dataset.shuffle(BUFFER_SIZE)\n",
        "    dataset = dataset.batch(BATCH_SIZE)\n",
        "    return dataset.repeat()\n",
        "\n",
        "## 평가용 입력 함수\n",
        "def eval_input_fn():\n",
        "    datasets = tfds.load(name='mnist')\n",
        "    mnist_test = datasets['test']\n",
        "    dataset = mnist_test.map(preprocess).batch(BATCH_SIZE)\n",
        "    return dataset"
      ]
    },
    {
      "cell_type": "code",
      "execution_count": 5,
      "metadata": {
        "id": "c5NL8mgz1bgD"
      },
      "outputs": [],
      "source": [
        "## 단계 2: 특성 열을 정의합니다.\n",
        "image_feature_column = tf.feature_column.numeric_column(\n",
        "    key='image-pixels', shape=(28*28))"
      ]
    },
    {
      "cell_type": "code",
      "execution_count": 6,
      "metadata": {
        "colab": {
          "base_uri": "https://localhost:8080/",
          "height": 318,
          "referenced_widgets": [
            "33d2e6057e5a4bed91e3ca79f7cd369d",
            "f86fdb162c9c4b5f81d934233ea91ede",
            "ba3ca94e2aaf4332adda4a82e43d42d2",
            "f19cebaed508498cb5720ad2b9975ff7",
            "58860443e66e4c4987c75ea43bab6134",
            "1121e5330b1845f9988cdcb20890ae0a",
            "ed53a8c41bb24a1a818d6ab34752b410",
            "b866246ed9b343afa5f91a5a324b7d2f",
            "aaebcef1586a4b18b05fbca03872ab19",
            "a1d5c73ee44b4944b301fa4168b7d554",
            "db1a395a3cc44516b94d5f43d68f0cdc"
          ]
        },
        "id": "h1mC7Kl71bgE",
        "outputId": "bed8c1c0-b06d-45fe-f2ab-3a38771ef0d0"
      },
      "outputs": [
        {
          "output_type": "stream",
          "name": "stderr",
          "text": [
            "WARNING:tensorflow:From /usr/local/lib/python3.7/dist-packages/tensorflow/python/training/training_util.py:397: Variable.initialized_value (from tensorflow.python.ops.variables) is deprecated and will be removed in a future version.\n",
            "Instructions for updating:\n",
            "Use Variable.read_value. Variables in 2.X are initialized automatically both in eager and graph (inside tf.defun) contexts.\n"
          ]
        },
        {
          "output_type": "stream",
          "name": "stdout",
          "text": [
            "\u001b[1mDownloading and preparing dataset 11.06 MiB (download: 11.06 MiB, generated: 21.00 MiB, total: 32.06 MiB) to ~/tensorflow_datasets/mnist/3.0.1...\u001b[0m\n"
          ]
        },
        {
          "output_type": "display_data",
          "data": {
            "text/plain": [
              "Dl Completed...:   0%|          | 0/4 [00:00<?, ? file/s]"
            ],
            "application/vnd.jupyter.widget-view+json": {
              "version_major": 2,
              "version_minor": 0,
              "model_id": "33d2e6057e5a4bed91e3ca79f7cd369d"
            }
          },
          "metadata": {}
        },
        {
          "output_type": "stream",
          "name": "stdout",
          "text": [
            "\u001b[1mDataset mnist downloaded and prepared to ~/tensorflow_datasets/mnist/3.0.1. Subsequent calls will reuse this data.\u001b[0m\n"
          ]
        },
        {
          "output_type": "stream",
          "name": "stderr",
          "text": [
            "WARNING:tensorflow:From /usr/local/lib/python3.7/dist-packages/keras/optimizers/optimizer_v2/adagrad.py:87: calling Constant.__init__ (from tensorflow.python.ops.init_ops) with dtype is deprecated and will be removed in a future version.\n",
            "Instructions for updating:\n",
            "Call initializer instance with the dtype argument instead of passing it to the constructor\n",
            "WARNING:tensorflow:It seems that global step (tf.train.get_global_step) has not been increased. Current value (could be stable): 1751 vs previous value: 1751. You could increase the global step by passing tf.train.get_global_step() to Optimizer.apply_gradients or Optimizer.minimize.\n",
            "WARNING:tensorflow:It seems that global step (tf.train.get_global_step) has not been increased. Current value (could be stable): 3603 vs previous value: 3603. You could increase the global step by passing tf.train.get_global_step() to Optimizer.apply_gradients or Optimizer.minimize.\n",
            "WARNING:tensorflow:It seems that global step (tf.train.get_global_step) has not been increased. Current value (could be stable): 3685 vs previous value: 3685. You could increase the global step by passing tf.train.get_global_step() to Optimizer.apply_gradients or Optimizer.minimize.\n",
            "WARNING:tensorflow:It seems that global step (tf.train.get_global_step) has not been increased. Current value (could be stable): 3784 vs previous value: 3784. You could increase the global step by passing tf.train.get_global_step() to Optimizer.apply_gradients or Optimizer.minimize.\n",
            "WARNING:tensorflow:It seems that global step (tf.train.get_global_step) has not been increased. Current value (could be stable): 6446 vs previous value: 6446. You could increase the global step by passing tf.train.get_global_step() to Optimizer.apply_gradients or Optimizer.minimize.\n"
          ]
        },
        {
          "output_type": "execute_result",
          "data": {
            "text/plain": [
              "<tensorflow_estimator.python.estimator.canned.dnn.DNNClassifierV2 at 0x7ff4a031be50>"
            ]
          },
          "metadata": {},
          "execution_count": 6
        }
      ],
      "source": [
        "## 단계 3: 추정기 객체를 만듭니다.\n",
        "dnn_classifier = tf.estimator.DNNClassifier(\n",
        "    feature_columns=[image_feature_column],\n",
        "    hidden_units=[32, 16],\n",
        "    n_classes=10,\n",
        "    model_dir='models/mnist-dnn/')\n",
        "\n",
        "\n",
        "## 단계 4: 훈련합니다.\n",
        "dnn_classifier.train(\n",
        "    input_fn=train_input_fn,\n",
        "    steps=NUM_EPOCHS * steps_per_epoch)"
      ]
    },
    {
      "cell_type": "code",
      "execution_count": 7,
      "metadata": {
        "colab": {
          "base_uri": "https://localhost:8080/"
        },
        "id": "aXaMFToY1bgF",
        "outputId": "2c4977a5-0ef0-4b34-e948-bc17b01639bf"
      },
      "outputs": [
        {
          "output_type": "stream",
          "name": "stdout",
          "text": [
            "{'accuracy': 0.8904, 'average_loss': 0.3928588, 'loss': 0.3927311, 'global_step': 18760}\n"
          ]
        }
      ],
      "source": [
        "eval_result = dnn_classifier.evaluate(\n",
        "    input_fn=eval_input_fn)\n",
        "\n",
        "print(eval_result)"
      ]
    },
    {
      "cell_type": "markdown",
      "metadata": {
        "id": "PRBS6RHT1bgG"
      },
      "source": [
        "### 케라스 모델에서 추정기 만들기"
      ]
    },
    {
      "cell_type": "code",
      "execution_count": 8,
      "metadata": {
        "id": "xhBhmPZE1bgG"
      },
      "outputs": [],
      "source": [
        "## 결과 재현을 위한 랜덤 시드\n",
        "tf.random.set_seed(1)\n",
        "np.random.seed(1)\n",
        "\n",
        "## 데이터 생성\n",
        "x = np.random.uniform(low=-1, high=1, size=(200, 2))\n",
        "y = np.ones(len(x))\n",
        "y[x[:, 0] * x[:, 1]<0] = 0\n",
        "\n",
        "x_train = x[:100, :]\n",
        "y_train = y[:100]\n",
        "x_valid = x[100:, :]\n",
        "y_valid = y[100:]"
      ]
    },
    {
      "cell_type": "code",
      "execution_count": 9,
      "metadata": {
        "id": "PRu_s75W1bgG"
      },
      "outputs": [],
      "source": [
        "## 단계 1: 입력 함수를 정의합니다.\n",
        "def train_input_fn(x_train, y_train, batch_size=8):\n",
        "    dataset = tf.data.Dataset.from_tensor_slices(\n",
        "        ({'input-features':x_train}, y_train.reshape(-1, 1)))\n",
        "\n",
        "    # 셔플, 반복, 배치\n",
        "    return dataset.shuffle(100).repeat().batch(batch_size)\n",
        "\n",
        "def eval_input_fn(x_test, y_test=None, batch_size=8):\n",
        "    if y_test is None:\n",
        "        dataset = tf.data.Dataset.from_tensor_slices(\n",
        "            {'input-features':x_test})\n",
        "    else:\n",
        "        dataset = tf.data.Dataset.from_tensor_slices(\n",
        "            ({'input-features':x_test}, y_test.reshape(-1, 1)))\n",
        "\n",
        "\n",
        "    # 셔플, 반복, 배치\n",
        "    return dataset.batch(batch_size)"
      ]
    },
    {
      "cell_type": "code",
      "execution_count": 10,
      "metadata": {
        "colab": {
          "base_uri": "https://localhost:8080/"
        },
        "id": "0HQ9pdHf1bgG",
        "outputId": "f10a1222-bb8f-4483-d37f-dc7037edc985"
      },
      "outputs": [
        {
          "output_type": "execute_result",
          "data": {
            "text/plain": [
              "[NumericColumn(key='input-features:', shape=(2,), default_value=None, dtype=tf.float32, normalizer_fn=None)]"
            ]
          },
          "metadata": {},
          "execution_count": 10
        }
      ],
      "source": [
        "## 단계 2: 특성 열을 정의합니다.\n",
        "features = [\n",
        "    tf.feature_column.numeric_column(\n",
        "        key='input-features:', shape=(2,))\n",
        "]\n",
        "    \n",
        "features"
      ]
    },
    {
      "cell_type": "code",
      "execution_count": 11,
      "metadata": {
        "colab": {
          "base_uri": "https://localhost:8080/"
        },
        "id": "RcrqbWpI1bgH",
        "outputId": "18a596d8-0edd-42b4-8bd1-03fda7b5702c"
      },
      "outputs": [
        {
          "output_type": "stream",
          "name": "stdout",
          "text": [
            "Model: \"sequential\"\n",
            "_________________________________________________________________\n",
            " Layer (type)                Output Shape              Param #   \n",
            "=================================================================\n",
            " dense (Dense)               (None, 4)                 12        \n",
            "                                                                 \n",
            " dense_1 (Dense)             (None, 4)                 20        \n",
            "                                                                 \n",
            " dense_2 (Dense)             (None, 4)                 20        \n",
            "                                                                 \n",
            " dense_3 (Dense)             (None, 1)                 5         \n",
            "                                                                 \n",
            "=================================================================\n",
            "Total params: 57\n",
            "Trainable params: 57\n",
            "Non-trainable params: 0\n",
            "_________________________________________________________________\n"
          ]
        },
        {
          "output_type": "stream",
          "name": "stderr",
          "text": [
            "/usr/local/lib/python3.7/dist-packages/keras/backend.py:450: UserWarning: `tf.keras.backend.set_learning_phase` is deprecated and will be removed after 2020-10-11. To update it, simply pass a True/False value to the `training` argument of the `__call__` method of your layer or model.\n",
            "  warnings.warn('`tf.keras.backend.set_learning_phase` is deprecated and '\n"
          ]
        }
      ],
      "source": [
        "## 단계 3: 케라스 모델을 변환하여 추정기를 만듭니다.\n",
        "model = tf.keras.Sequential([\n",
        "    tf.keras.layers.Input(shape=(2,), name='input-features'),\n",
        "    tf.keras.layers.Dense(units=4, activation='relu'),\n",
        "    tf.keras.layers.Dense(units=4, activation='relu'),\n",
        "    tf.keras.layers.Dense(units=4, activation='relu'),\n",
        "    tf.keras.layers.Dense(1, activation='sigmoid')\n",
        "])\n",
        "\n",
        "model.summary()\n",
        "\n",
        "model.compile(optimizer=tf.keras.optimizers.SGD(),\n",
        "              loss=tf.keras.losses.BinaryCrossentropy(),\n",
        "              metrics=[tf.keras.metrics.BinaryAccuracy()])\n",
        "\n",
        "my_estimator = tf.keras.estimator.model_to_estimator(\n",
        "    keras_model=model,\n",
        "    model_dir='models/estimator-for-XOR/')"
      ]
    },
    {
      "cell_type": "code",
      "execution_count": 12,
      "metadata": {
        "colab": {
          "base_uri": "https://localhost:8080/"
        },
        "id": "ZIj9G3201bgH",
        "outputId": "db4abb2a-dd9e-467a-8f55-5635fa7bfd8c"
      },
      "outputs": [
        {
          "output_type": "execute_result",
          "data": {
            "text/plain": [
              "<tensorflow_estimator.python.estimator.estimator.EstimatorV2 at 0x7ff42547ded0>"
            ]
          },
          "metadata": {},
          "execution_count": 12
        }
      ],
      "source": [
        "## 단계 4: 추정기를 사용합니다: 훈련/평가/예측\n",
        "\n",
        "num_epochs = 200\n",
        "batch_size = 2\n",
        "steps_per_epoch = np.ceil(len(x_train) / batch_size)\n",
        "\n",
        "my_estimator.train(\n",
        "    input_fn=lambda: train_input_fn(x_train, y_train, batch_size),\n",
        "    steps=num_epochs * steps_per_epoch)"
      ]
    },
    {
      "cell_type": "code",
      "execution_count": 13,
      "metadata": {
        "colab": {
          "base_uri": "https://localhost:8080/"
        },
        "id": "YfaQLO_c1bgI",
        "outputId": "42825ee1-396d-40f1-bbc1-df4ce4d9a696"
      },
      "outputs": [
        {
          "output_type": "stream",
          "name": "stderr",
          "text": [
            "/usr/local/lib/python3.7/dist-packages/keras/engine/training_v1.py:2045: UserWarning: `Model.state_updates` will be removed in a future version. This property should not be used in TensorFlow 2.0, as `updates` are applied automatically.\n",
            "  updates = self.state_updates\n"
          ]
        },
        {
          "output_type": "execute_result",
          "data": {
            "text/plain": [
              "{'binary_accuracy': 0.97, 'loss': 0.08443699, 'global_step': 10000}"
            ]
          },
          "metadata": {},
          "execution_count": 13
        }
      ],
      "source": [
        "my_estimator.evaluate(\n",
        "    input_fn=lambda: eval_input_fn(x_valid, y_valid, batch_size))"
      ]
    }
  ],
  "metadata": {
    "accelerator": "GPU",
    "colab": {
      "name": "ch14_part3.ipynb",
      "provenance": []
    },
    "kernelspec": {
      "display_name": "Python 3",
      "language": "python",
      "name": "python3"
    },
    "language_info": {
      "codemirror_mode": {
        "name": "ipython",
        "version": 3
      },
      "file_extension": ".py",
      "mimetype": "text/x-python",
      "name": "python",
      "nbconvert_exporter": "python",
      "pygments_lexer": "ipython3",
      "version": "3.7.3"
    },
    "widgets": {
      "application/vnd.jupyter.widget-state+json": {
        "33d2e6057e5a4bed91e3ca79f7cd369d": {
          "model_module": "@jupyter-widgets/controls",
          "model_name": "HBoxModel",
          "model_module_version": "1.5.0",
          "state": {
            "_dom_classes": [],
            "_model_module": "@jupyter-widgets/controls",
            "_model_module_version": "1.5.0",
            "_model_name": "HBoxModel",
            "_view_count": null,
            "_view_module": "@jupyter-widgets/controls",
            "_view_module_version": "1.5.0",
            "_view_name": "HBoxView",
            "box_style": "",
            "children": [
              "IPY_MODEL_f86fdb162c9c4b5f81d934233ea91ede",
              "IPY_MODEL_ba3ca94e2aaf4332adda4a82e43d42d2",
              "IPY_MODEL_f19cebaed508498cb5720ad2b9975ff7"
            ],
            "layout": "IPY_MODEL_58860443e66e4c4987c75ea43bab6134"
          }
        },
        "f86fdb162c9c4b5f81d934233ea91ede": {
          "model_module": "@jupyter-widgets/controls",
          "model_name": "HTMLModel",
          "model_module_version": "1.5.0",
          "state": {
            "_dom_classes": [],
            "_model_module": "@jupyter-widgets/controls",
            "_model_module_version": "1.5.0",
            "_model_name": "HTMLModel",
            "_view_count": null,
            "_view_module": "@jupyter-widgets/controls",
            "_view_module_version": "1.5.0",
            "_view_name": "HTMLView",
            "description": "",
            "description_tooltip": null,
            "layout": "IPY_MODEL_1121e5330b1845f9988cdcb20890ae0a",
            "placeholder": "​",
            "style": "IPY_MODEL_ed53a8c41bb24a1a818d6ab34752b410",
            "value": "Dl Completed...: 100%"
          }
        },
        "ba3ca94e2aaf4332adda4a82e43d42d2": {
          "model_module": "@jupyter-widgets/controls",
          "model_name": "FloatProgressModel",
          "model_module_version": "1.5.0",
          "state": {
            "_dom_classes": [],
            "_model_module": "@jupyter-widgets/controls",
            "_model_module_version": "1.5.0",
            "_model_name": "FloatProgressModel",
            "_view_count": null,
            "_view_module": "@jupyter-widgets/controls",
            "_view_module_version": "1.5.0",
            "_view_name": "ProgressView",
            "bar_style": "success",
            "description": "",
            "description_tooltip": null,
            "layout": "IPY_MODEL_b866246ed9b343afa5f91a5a324b7d2f",
            "max": 4,
            "min": 0,
            "orientation": "horizontal",
            "style": "IPY_MODEL_aaebcef1586a4b18b05fbca03872ab19",
            "value": 4
          }
        },
        "f19cebaed508498cb5720ad2b9975ff7": {
          "model_module": "@jupyter-widgets/controls",
          "model_name": "HTMLModel",
          "model_module_version": "1.5.0",
          "state": {
            "_dom_classes": [],
            "_model_module": "@jupyter-widgets/controls",
            "_model_module_version": "1.5.0",
            "_model_name": "HTMLModel",
            "_view_count": null,
            "_view_module": "@jupyter-widgets/controls",
            "_view_module_version": "1.5.0",
            "_view_name": "HTMLView",
            "description": "",
            "description_tooltip": null,
            "layout": "IPY_MODEL_a1d5c73ee44b4944b301fa4168b7d554",
            "placeholder": "​",
            "style": "IPY_MODEL_db1a395a3cc44516b94d5f43d68f0cdc",
            "value": " 4/4 [00:00&lt;00:00,  7.85 file/s]"
          }
        },
        "58860443e66e4c4987c75ea43bab6134": {
          "model_module": "@jupyter-widgets/base",
          "model_name": "LayoutModel",
          "model_module_version": "1.2.0",
          "state": {
            "_model_module": "@jupyter-widgets/base",
            "_model_module_version": "1.2.0",
            "_model_name": "LayoutModel",
            "_view_count": null,
            "_view_module": "@jupyter-widgets/base",
            "_view_module_version": "1.2.0",
            "_view_name": "LayoutView",
            "align_content": null,
            "align_items": null,
            "align_self": null,
            "border": null,
            "bottom": null,
            "display": null,
            "flex": null,
            "flex_flow": null,
            "grid_area": null,
            "grid_auto_columns": null,
            "grid_auto_flow": null,
            "grid_auto_rows": null,
            "grid_column": null,
            "grid_gap": null,
            "grid_row": null,
            "grid_template_areas": null,
            "grid_template_columns": null,
            "grid_template_rows": null,
            "height": null,
            "justify_content": null,
            "justify_items": null,
            "left": null,
            "margin": null,
            "max_height": null,
            "max_width": null,
            "min_height": null,
            "min_width": null,
            "object_fit": null,
            "object_position": null,
            "order": null,
            "overflow": null,
            "overflow_x": null,
            "overflow_y": null,
            "padding": null,
            "right": null,
            "top": null,
            "visibility": null,
            "width": null
          }
        },
        "1121e5330b1845f9988cdcb20890ae0a": {
          "model_module": "@jupyter-widgets/base",
          "model_name": "LayoutModel",
          "model_module_version": "1.2.0",
          "state": {
            "_model_module": "@jupyter-widgets/base",
            "_model_module_version": "1.2.0",
            "_model_name": "LayoutModel",
            "_view_count": null,
            "_view_module": "@jupyter-widgets/base",
            "_view_module_version": "1.2.0",
            "_view_name": "LayoutView",
            "align_content": null,
            "align_items": null,
            "align_self": null,
            "border": null,
            "bottom": null,
            "display": null,
            "flex": null,
            "flex_flow": null,
            "grid_area": null,
            "grid_auto_columns": null,
            "grid_auto_flow": null,
            "grid_auto_rows": null,
            "grid_column": null,
            "grid_gap": null,
            "grid_row": null,
            "grid_template_areas": null,
            "grid_template_columns": null,
            "grid_template_rows": null,
            "height": null,
            "justify_content": null,
            "justify_items": null,
            "left": null,
            "margin": null,
            "max_height": null,
            "max_width": null,
            "min_height": null,
            "min_width": null,
            "object_fit": null,
            "object_position": null,
            "order": null,
            "overflow": null,
            "overflow_x": null,
            "overflow_y": null,
            "padding": null,
            "right": null,
            "top": null,
            "visibility": null,
            "width": null
          }
        },
        "ed53a8c41bb24a1a818d6ab34752b410": {
          "model_module": "@jupyter-widgets/controls",
          "model_name": "DescriptionStyleModel",
          "model_module_version": "1.5.0",
          "state": {
            "_model_module": "@jupyter-widgets/controls",
            "_model_module_version": "1.5.0",
            "_model_name": "DescriptionStyleModel",
            "_view_count": null,
            "_view_module": "@jupyter-widgets/base",
            "_view_module_version": "1.2.0",
            "_view_name": "StyleView",
            "description_width": ""
          }
        },
        "b866246ed9b343afa5f91a5a324b7d2f": {
          "model_module": "@jupyter-widgets/base",
          "model_name": "LayoutModel",
          "model_module_version": "1.2.0",
          "state": {
            "_model_module": "@jupyter-widgets/base",
            "_model_module_version": "1.2.0",
            "_model_name": "LayoutModel",
            "_view_count": null,
            "_view_module": "@jupyter-widgets/base",
            "_view_module_version": "1.2.0",
            "_view_name": "LayoutView",
            "align_content": null,
            "align_items": null,
            "align_self": null,
            "border": null,
            "bottom": null,
            "display": null,
            "flex": null,
            "flex_flow": null,
            "grid_area": null,
            "grid_auto_columns": null,
            "grid_auto_flow": null,
            "grid_auto_rows": null,
            "grid_column": null,
            "grid_gap": null,
            "grid_row": null,
            "grid_template_areas": null,
            "grid_template_columns": null,
            "grid_template_rows": null,
            "height": null,
            "justify_content": null,
            "justify_items": null,
            "left": null,
            "margin": null,
            "max_height": null,
            "max_width": null,
            "min_height": null,
            "min_width": null,
            "object_fit": null,
            "object_position": null,
            "order": null,
            "overflow": null,
            "overflow_x": null,
            "overflow_y": null,
            "padding": null,
            "right": null,
            "top": null,
            "visibility": null,
            "width": null
          }
        },
        "aaebcef1586a4b18b05fbca03872ab19": {
          "model_module": "@jupyter-widgets/controls",
          "model_name": "ProgressStyleModel",
          "model_module_version": "1.5.0",
          "state": {
            "_model_module": "@jupyter-widgets/controls",
            "_model_module_version": "1.5.0",
            "_model_name": "ProgressStyleModel",
            "_view_count": null,
            "_view_module": "@jupyter-widgets/base",
            "_view_module_version": "1.2.0",
            "_view_name": "StyleView",
            "bar_color": null,
            "description_width": ""
          }
        },
        "a1d5c73ee44b4944b301fa4168b7d554": {
          "model_module": "@jupyter-widgets/base",
          "model_name": "LayoutModel",
          "model_module_version": "1.2.0",
          "state": {
            "_model_module": "@jupyter-widgets/base",
            "_model_module_version": "1.2.0",
            "_model_name": "LayoutModel",
            "_view_count": null,
            "_view_module": "@jupyter-widgets/base",
            "_view_module_version": "1.2.0",
            "_view_name": "LayoutView",
            "align_content": null,
            "align_items": null,
            "align_self": null,
            "border": null,
            "bottom": null,
            "display": null,
            "flex": null,
            "flex_flow": null,
            "grid_area": null,
            "grid_auto_columns": null,
            "grid_auto_flow": null,
            "grid_auto_rows": null,
            "grid_column": null,
            "grid_gap": null,
            "grid_row": null,
            "grid_template_areas": null,
            "grid_template_columns": null,
            "grid_template_rows": null,
            "height": null,
            "justify_content": null,
            "justify_items": null,
            "left": null,
            "margin": null,
            "max_height": null,
            "max_width": null,
            "min_height": null,
            "min_width": null,
            "object_fit": null,
            "object_position": null,
            "order": null,
            "overflow": null,
            "overflow_x": null,
            "overflow_y": null,
            "padding": null,
            "right": null,
            "top": null,
            "visibility": null,
            "width": null
          }
        },
        "db1a395a3cc44516b94d5f43d68f0cdc": {
          "model_module": "@jupyter-widgets/controls",
          "model_name": "DescriptionStyleModel",
          "model_module_version": "1.5.0",
          "state": {
            "_model_module": "@jupyter-widgets/controls",
            "_model_module_version": "1.5.0",
            "_model_name": "DescriptionStyleModel",
            "_view_count": null,
            "_view_module": "@jupyter-widgets/base",
            "_view_module_version": "1.2.0",
            "_view_name": "StyleView",
            "description_width": ""
          }
        }
      }
    },
    "gpuClass": "standard"
  },
  "nbformat": 4,
  "nbformat_minor": 0
}