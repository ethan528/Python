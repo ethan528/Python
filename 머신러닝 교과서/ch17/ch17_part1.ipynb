{
  "cells": [
    {
      "cell_type": "markdown",
      "metadata": {
        "id": "9y222HgfM-OA"
      },
      "source": [
        "# 머신 러닝 교과서 3판"
      ]
    },
    {
      "cell_type": "markdown",
      "metadata": {
        "id": "-5SXCZX_M-OD"
      },
      "source": [
        "# 17장 - 새로운 데이터 합성을 위한 생성적 적대 신경망 (1/2)"
      ]
    },
    {
      "cell_type": "markdown",
      "metadata": {
        "id": "hx1MAB0FbouH"
      },
      "source": [
        "**아래 링크를 통해 이 노트북을 주피터 노트북 뷰어(nbviewer.jupyter.org)로 보거나 구글 코랩(colab.research.google.com)에서 실행할 수 있습니다.**\n",
        "\n",
        "<table class=\"tfo-notebook-buttons\" align=\"left\">\n",
        "  <td>\n",
        "    <a target=\"_blank\" href=\"https://nbviewer.org/github/rickiepark/python-machine-learning-book-3rd-edition/blob/master/ch17/ch17_part1.ipynb\"><img src=\"https://jupyter.org/assets/share.png\" width=\"60\" />주피터 노트북 뷰어로 보기</a>\n",
        "  </td>\n",
        "  <td>\n",
        "    <a target=\"_blank\" href=\"https://colab.research.google.com/github/rickiepark/python-machine-learning-book-3rd-edition/blob/master/ch17/ch17_part1.ipynb\"><img src=\"https://www.tensorflow.org/images/colab_logo_32px.png\" />구글 코랩(Colab)에서 실행하기</a>\n",
        "  </td>\n",
        "</table>"
      ]
    },
    {
      "cell_type": "markdown",
      "metadata": {
        "id": "4wzfKSEhbouH"
      },
      "source": [
        "### 목차"
      ]
    },
    {
      "cell_type": "markdown",
      "metadata": {
        "id": "1vc8_zr4bouH"
      },
      "source": [
        "- 생성적 적대 신경망 소개\n",
        "    - 오토인코더\n",
        "    - 새로운 데이터 합성을 위한 생성 모델\n",
        "    - GAN으로 새로운 샘플 생성하기\n",
        "    - GAN의 생성자와 판별자 손실 함수 이해하기\n",
        "- 밑바닥부터 GAN 모델 구현하기\n",
        "    - 구글 코랩에서 GAN 모델 훈련하기\n",
        "    - 생성자와 판별자 신경망 구현하기\n",
        "    - 훈련 데이터셋 정의하기\n",
        "    - GAN 모델 훈련하기"
      ]
    },
    {
      "cell_type": "code",
      "execution_count": 1,
      "metadata": {
        "id": "2AfJgihdM-OE"
      },
      "outputs": [],
      "source": [
        "from IPython.display import Image"
      ]
    },
    {
      "cell_type": "markdown",
      "metadata": {
        "id": "41bk3eM5M-OE"
      },
      "source": [
        "# 생성적 적대 신경망 소개\n",
        "\n",
        "## 오토인코더"
      ]
    },
    {
      "cell_type": "code",
      "execution_count": 2,
      "metadata": {
        "colab": {
          "base_uri": "https://localhost:8080/",
          "height": 470
        },
        "id": "phbH6zGQM-OE",
        "outputId": "30208c0a-a662-43f1-a680-09902a06da8d"
      },
      "outputs": [
        {
          "output_type": "execute_result",
          "data": {
            "text/html": [
              "<img src=\"https://git.io/JLAQ2\" width=\"500\"/>"
            ],
            "text/plain": [
              "<IPython.core.display.Image object>"
            ]
          },
          "metadata": {},
          "execution_count": 2
        }
      ],
      "source": [
        "Image(url='https://git.io/JLAQ2', width=500)"
      ]
    },
    {
      "cell_type": "markdown",
      "metadata": {
        "id": "Cuw0DGR2M-OF"
      },
      "source": [
        "## 새로운 데이터 합성을 위한 생성 모델"
      ]
    },
    {
      "cell_type": "code",
      "execution_count": 3,
      "metadata": {
        "colab": {
          "base_uri": "https://localhost:8080/",
          "height": 438
        },
        "id": "ziTpZ3G5M-OF",
        "outputId": "9d9b0a08-5681-450b-8e23-495a90f31f0a"
      },
      "outputs": [
        {
          "output_type": "execute_result",
          "data": {
            "text/html": [
              "<img src=\"https://git.io/JLAQH\" width=\"700\"/>"
            ],
            "text/plain": [
              "<IPython.core.display.Image object>"
            ]
          },
          "metadata": {},
          "execution_count": 3
        }
      ],
      "source": [
        "Image(url='https://git.io/JLAQH', width=700)"
      ]
    },
    {
      "cell_type": "markdown",
      "metadata": {
        "id": "U1DsTJvLM-OF"
      },
      "source": [
        "## GAN으로 새로운 샘플 생성하기"
      ]
    },
    {
      "cell_type": "code",
      "execution_count": 4,
      "metadata": {
        "colab": {
          "base_uri": "https://localhost:8080/",
          "height": 338
        },
        "id": "2DijKimVM-OF",
        "outputId": "57a242e2-cefc-4b0d-e98c-bd3ca4c708cc"
      },
      "outputs": [
        {
          "output_type": "execute_result",
          "data": {
            "text/html": [
              "<img src=\"https://git.io/JLAQ7\" width=\"700\"/>"
            ],
            "text/plain": [
              "<IPython.core.display.Image object>"
            ]
          },
          "metadata": {},
          "execution_count": 4
        }
      ],
      "source": [
        "Image(url='https://git.io/JLAQ7', width=700)"
      ]
    },
    {
      "cell_type": "markdown",
      "metadata": {
        "id": "iamOayQfM-OF"
      },
      "source": [
        "## GAN의 생성자와 판별자 손실 함수 이해하기"
      ]
    },
    {
      "cell_type": "code",
      "execution_count": 5,
      "metadata": {
        "colab": {
          "base_uri": "https://localhost:8080/",
          "height": 516
        },
        "id": "P0SEKNGpM-OG",
        "outputId": "8a4e0a25-cef6-4c10-87ae-93c88a1e907e"
      },
      "outputs": [
        {
          "output_type": "execute_result",
          "data": {
            "text/html": [
              "<img src=\"https://git.io/JLAQF\" width=\"800\"/>"
            ],
            "text/plain": [
              "<IPython.core.display.Image object>"
            ]
          },
          "metadata": {},
          "execution_count": 5
        }
      ],
      "source": [
        "Image(url='https://git.io/JLAQF', width=800)"
      ]
    },
    {
      "cell_type": "markdown",
      "metadata": {
        "id": "mgleEEF1M-OG"
      },
      "source": [
        "# 밑바닥부터 GAN 모델 구현하기"
      ]
    },
    {
      "cell_type": "markdown",
      "metadata": {
        "id": "a1UBoKm_M-OG"
      },
      "source": [
        "## 구글 코랩에서 GAN 모델 훈련하기"
      ]
    },
    {
      "cell_type": "code",
      "execution_count": 6,
      "metadata": {
        "colab": {
          "base_uri": "https://localhost:8080/",
          "height": 508
        },
        "id": "sBdI0g22M-OG",
        "outputId": "5c3d5cdd-c983-42f1-ec54-abf0d9152204"
      },
      "outputs": [
        {
          "output_type": "execute_result",
          "data": {
            "text/html": [
              "<img src=\"https://git.io/JLAQb\" width=\"700\"/>"
            ],
            "text/plain": [
              "<IPython.core.display.Image object>"
            ]
          },
          "metadata": {},
          "execution_count": 6
        }
      ],
      "source": [
        "Image(url='https://git.io/JLAQb', width=700)"
      ]
    },
    {
      "cell_type": "code",
      "execution_count": 7,
      "metadata": {
        "colab": {
          "base_uri": "https://localhost:8080/",
          "height": 526
        },
        "id": "Mf0pXqraM-OH",
        "outputId": "7aaea2c7-bf36-4cdd-8248-200b01aaa115"
      },
      "outputs": [
        {
          "output_type": "execute_result",
          "data": {
            "text/html": [
              "<img src=\"https://git.io/JLAQN\" width=\"600\"/>"
            ],
            "text/plain": [
              "<IPython.core.display.Image object>"
            ]
          },
          "metadata": {},
          "execution_count": 7
        }
      ],
      "source": [
        "Image(url='https://git.io/JLAQN', width=600)"
      ]
    },
    {
      "cell_type": "code",
      "execution_count": 8,
      "metadata": {
        "colab": {
          "base_uri": "https://localhost:8080/",
          "height": 534
        },
        "id": "Nd67sNNIM-OH",
        "outputId": "8f8edf55-fd9e-4f37-ecb2-b122de314383"
      },
      "outputs": [
        {
          "output_type": "execute_result",
          "data": {
            "text/html": [
              "<img src=\"https://git.io/JLAQA\" width=\"600\"/>"
            ],
            "text/plain": [
              "<IPython.core.display.Image object>"
            ]
          },
          "metadata": {},
          "execution_count": 8
        }
      ],
      "source": [
        "Image(url='https://git.io/JLAQA', width=600)"
      ]
    },
    {
      "cell_type": "code",
      "execution_count": 9,
      "metadata": {
        "colab": {
          "base_uri": "https://localhost:8080/"
        },
        "id": "_khN3hi1xxQ-",
        "outputId": "8c30da0b-6d14-4e02-c7bd-790c6ae44443"
      },
      "outputs": [
        {
          "output_type": "stream",
          "name": "stdout",
          "text": [
            "2.9.2\n",
            "GPU 여부: True\n",
            "/device:GPU:0\n"
          ]
        }
      ],
      "source": [
        "import tensorflow as tf\n",
        "print(tf.__version__)\n",
        "\n",
        "print(\"GPU 여부:\", len(tf.config.list_physical_devices('GPU')) > 0)\n",
        "\n",
        "if tf.config.list_physical_devices('GPU'):\n",
        "    device_name = tf.test.gpu_device_name()\n",
        "else:\n",
        "    device_name = 'cpu:0'\n",
        "    \n",
        "print(device_name)"
      ]
    },
    {
      "cell_type": "code",
      "execution_count": 10,
      "metadata": {
        "colab": {
          "base_uri": "https://localhost:8080/"
        },
        "id": "ceNFHOHHNVwz",
        "outputId": "89454ea7-1035-44e3-b6ce-807e3827998d"
      },
      "outputs": [
        {
          "output_type": "stream",
          "name": "stderr",
          "text": [
            "WARNING:tensorflow:From <ipython-input-10-b9c5066405f4>:1: get_memory_usage (from tensorflow.python.framework.config) is deprecated and will be removed in a future version.\n",
            "Instructions for updating:\n",
            "Use tf.config.experimental.get_memory_info(device)['current'] instead.\n"
          ]
        },
        {
          "output_type": "execute_result",
          "data": {
            "text/plain": [
              "0"
            ]
          },
          "metadata": {},
          "execution_count": 10
        }
      ],
      "source": [
        "tf.config.experimental.get_memory_usage('GPU:0')"
      ]
    },
    {
      "cell_type": "code",
      "execution_count": 11,
      "metadata": {
        "colab": {
          "base_uri": "https://localhost:8080/"
        },
        "id": "5sNcfuwHPQMs",
        "outputId": "7bdf8b3f-d326-4ce6-c126-5d91c4de25ce"
      },
      "outputs": [
        {
          "output_type": "stream",
          "name": "stdout",
          "text": [
            "Sun Oct 16 09:41:06 2022       \n",
            "+-----------------------------------------------------------------------------+\n",
            "| NVIDIA-SMI 460.32.03    Driver Version: 460.32.03    CUDA Version: 11.2     |\n",
            "|-------------------------------+----------------------+----------------------+\n",
            "| GPU  Name        Persistence-M| Bus-Id        Disp.A | Volatile Uncorr. ECC |\n",
            "| Fan  Temp  Perf  Pwr:Usage/Cap|         Memory-Usage | GPU-Util  Compute M. |\n",
            "|                               |                      |               MIG M. |\n",
            "|===============================+======================+======================|\n",
            "|   0  Tesla T4            Off  | 00000000:00:04.0 Off |                    0 |\n",
            "| N/A   57C    P0    28W /  70W |    312MiB / 15109MiB |      1%      Default |\n",
            "|                               |                      |                  N/A |\n",
            "+-------------------------------+----------------------+----------------------+\n",
            "                                                                               \n",
            "+-----------------------------------------------------------------------------+\n",
            "| Processes:                                                                  |\n",
            "|  GPU   GI   CI        PID   Type   Process name                  GPU Memory |\n",
            "|        ID   ID                                                   Usage      |\n",
            "|=============================================================================|\n",
            "+-----------------------------------------------------------------------------+\n"
          ]
        }
      ],
      "source": [
        "!nvidia-smi"
      ]
    },
    {
      "cell_type": "code",
      "execution_count": 12,
      "metadata": {
        "colab": {
          "base_uri": "https://localhost:8080/"
        },
        "id": "4_yH3L4wTOLb",
        "outputId": "b8291bad-bb19-4ab0-9d12-269e3bb1736f"
      },
      "outputs": [
        {
          "output_type": "stream",
          "name": "stdout",
          "text": [
            "No LSB modules are available.\n",
            "Distributor ID:\tUbuntu\n",
            "Description:\tUbuntu 18.04.6 LTS\n",
            "Release:\t18.04\n",
            "Codename:\tbionic\n"
          ]
        }
      ],
      "source": [
        "!lsb_release -a"
      ]
    },
    {
      "cell_type": "code",
      "execution_count": 13,
      "metadata": {
        "id": "ehoy80rqwNnl"
      },
      "outputs": [],
      "source": [
        "#from google.colab import drive\n",
        "#drive.mount('/content/drive/')"
      ]
    },
    {
      "cell_type": "markdown",
      "metadata": {
        "id": "jHHcQfM2M-OI"
      },
      "source": [
        "## 생성자와 판별자 신경망 구현하기"
      ]
    },
    {
      "cell_type": "code",
      "execution_count": 14,
      "metadata": {
        "colab": {
          "base_uri": "https://localhost:8080/",
          "height": 474
        },
        "id": "ig_rZtXqM-OI",
        "outputId": "99022682-c6e5-410f-881c-a69b3085969d"
      },
      "outputs": [
        {
          "output_type": "execute_result",
          "data": {
            "text/html": [
              "<img src=\"https://git.io/JLAQp\" width=\"600\"/>"
            ],
            "text/plain": [
              "<IPython.core.display.Image object>"
            ]
          },
          "metadata": {},
          "execution_count": 14
        }
      ],
      "source": [
        "Image(url='https://git.io/JLAQp', width=600)"
      ]
    },
    {
      "cell_type": "code",
      "execution_count": 15,
      "metadata": {
        "colab": {
          "base_uri": "https://localhost:8080/",
          "height": 360
        },
        "id": "uc4FQzczM-OJ",
        "outputId": "35dc359a-b299-49d2-b989-f779b3a110db"
      },
      "outputs": [
        {
          "output_type": "execute_result",
          "data": {
            "text/html": [
              "<img src=\"https://git.io/JLAQh\" width=\"600\"/>"
            ],
            "text/plain": [
              "<IPython.core.display.Image object>"
            ]
          },
          "metadata": {},
          "execution_count": 15
        }
      ],
      "source": [
        "Image(url='https://git.io/JLAQh', width=600)"
      ]
    },
    {
      "cell_type": "code",
      "execution_count": 16,
      "metadata": {
        "id": "FRh8E66HwXRL"
      },
      "outputs": [],
      "source": [
        "import tensorflow as tf\n",
        "import tensorflow_datasets as tfds\n",
        "import numpy as np\n",
        "import matplotlib.pyplot as plt"
      ]
    },
    {
      "cell_type": "code",
      "execution_count": 17,
      "metadata": {
        "id": "tOL56FmXwoL-"
      },
      "outputs": [],
      "source": [
        "## 생성자 함수를 정의합니다:\n",
        "def make_generator_network(\n",
        "        num_hidden_layers=1,\n",
        "        num_hidden_units=100,\n",
        "        num_output_units=784):\n",
        "    model = tf.keras.Sequential()\n",
        "    for i in range(num_hidden_layers):\n",
        "        model.add(\n",
        "            tf.keras.layers.Dense(\n",
        "                units=num_hidden_units, \n",
        "                use_bias=False)\n",
        "            )\n",
        "        model.add(tf.keras.layers.LeakyReLU())\n",
        "        \n",
        "    model.add(tf.keras.layers.Dense(\n",
        "        units=num_output_units, activation='tanh'))\n",
        "    return model\n",
        "\n",
        "## 판별자 함수를 정의합니다:\n",
        "def make_discriminator_network(\n",
        "        num_hidden_layers=1,\n",
        "        num_hidden_units=100,\n",
        "        num_output_units=1):\n",
        "    model = tf.keras.Sequential()\n",
        "    for i in range(num_hidden_layers):\n",
        "        model.add(tf.keras.layers.Dense(units=num_hidden_units))\n",
        "        model.add(tf.keras.layers.LeakyReLU())\n",
        "        model.add(tf.keras.layers.Dropout(rate=0.5))\n",
        "        \n",
        "    model.add(\n",
        "        tf.keras.layers.Dense(\n",
        "            units=num_output_units, \n",
        "            activation=None)\n",
        "        )\n",
        "    return model"
      ]
    },
    {
      "cell_type": "code",
      "execution_count": 18,
      "metadata": {
        "colab": {
          "base_uri": "https://localhost:8080/"
        },
        "id": "9Z4JQb9MxD5p",
        "outputId": "89ab83f1-c589-4dd8-a290-1875e3364a23"
      },
      "outputs": [
        {
          "output_type": "stream",
          "name": "stdout",
          "text": [
            "Model: \"sequential\"\n",
            "_________________________________________________________________\n",
            " Layer (type)                Output Shape              Param #   \n",
            "=================================================================\n",
            " dense (Dense)               (None, 100)               2000      \n",
            "                                                                 \n",
            " leaky_re_lu (LeakyReLU)     (None, 100)               0         \n",
            "                                                                 \n",
            " dense_1 (Dense)             (None, 784)               79184     \n",
            "                                                                 \n",
            "=================================================================\n",
            "Total params: 81,184\n",
            "Trainable params: 81,184\n",
            "Non-trainable params: 0\n",
            "_________________________________________________________________\n"
          ]
        }
      ],
      "source": [
        "image_size = (28, 28)\n",
        "z_size = 20\n",
        "mode_z = 'uniform'  # 'uniform' vs. 'normal'\n",
        "gen_hidden_layers = 1\n",
        "gen_hidden_size = 100\n",
        "disc_hidden_layers = 1\n",
        "disc_hidden_size = 100\n",
        "\n",
        "tf.random.set_seed(1)\n",
        "\n",
        "gen_model = make_generator_network(\n",
        "    num_hidden_layers=gen_hidden_layers, \n",
        "    num_hidden_units=gen_hidden_size,\n",
        "    num_output_units=np.prod(image_size))\n",
        "\n",
        "gen_model.build(input_shape=(None, z_size))\n",
        "gen_model.summary()"
      ]
    },
    {
      "cell_type": "code",
      "execution_count": 19,
      "metadata": {
        "colab": {
          "base_uri": "https://localhost:8080/"
        },
        "id": "QAhbOUZHxN1b",
        "outputId": "ee3d802e-dede-4f5b-973f-5f64fe496c31"
      },
      "outputs": [
        {
          "output_type": "stream",
          "name": "stdout",
          "text": [
            "Model: \"sequential_1\"\n",
            "_________________________________________________________________\n",
            " Layer (type)                Output Shape              Param #   \n",
            "=================================================================\n",
            " dense_2 (Dense)             (None, 100)               78500     \n",
            "                                                                 \n",
            " leaky_re_lu_1 (LeakyReLU)   (None, 100)               0         \n",
            "                                                                 \n",
            " dropout (Dropout)           (None, 100)               0         \n",
            "                                                                 \n",
            " dense_3 (Dense)             (None, 1)                 101       \n",
            "                                                                 \n",
            "=================================================================\n",
            "Total params: 78,601\n",
            "Trainable params: 78,601\n",
            "Non-trainable params: 0\n",
            "_________________________________________________________________\n"
          ]
        }
      ],
      "source": [
        "disc_model = make_discriminator_network(\n",
        "    num_hidden_layers=disc_hidden_layers,\n",
        "    num_hidden_units=disc_hidden_size)\n",
        "\n",
        "disc_model.build(input_shape=(None, np.prod(image_size)))\n",
        "disc_model.summary()"
      ]
    },
    {
      "cell_type": "markdown",
      "metadata": {
        "id": "edHUQPQxM-OK"
      },
      "source": [
        "## 훈련 데이터셋 정의하기"
      ]
    },
    {
      "cell_type": "code",
      "execution_count": 20,
      "metadata": {
        "colab": {
          "base_uri": "https://localhost:8080/",
          "height": 176,
          "referenced_widgets": [
            "6ebb3bf1f3fc47bfb126e5dae0c9ce61",
            "325673f771b740c6a8fe898b14ba9367",
            "9f6690595e394a32a33863e14f11bdf8",
            "24f49c4295774c72a3ab83120ce2dcc3",
            "68f92f27b2da45efa2f43c2a898cb86a",
            "2f0a50fad7a54666a2625897e9541e01",
            "75a8304904a14c59a98cc59a2948462b",
            "4be7caaf46dc487bb72391cfcab2af9f",
            "431fce5d33e44ccf814bd5c2d2aa57c6",
            "f38b9e6562344702a98ac9f6028b80f3",
            "ba0d4f2c5cf1401e95f73d7f248e02fa"
          ]
        },
        "id": "ApQ1ICJixf2w",
        "outputId": "5be09cb1-a263-4f96-d4c0-1aa87a2f6985"
      },
      "outputs": [
        {
          "output_type": "stream",
          "name": "stdout",
          "text": [
            "\u001b[1mDownloading and preparing dataset 11.06 MiB (download: 11.06 MiB, generated: 21.00 MiB, total: 32.06 MiB) to ~/tensorflow_datasets/mnist/3.0.1...\u001b[0m\n"
          ]
        },
        {
          "output_type": "display_data",
          "data": {
            "text/plain": [
              "Dl Completed...:   0%|          | 0/4 [00:00<?, ? file/s]"
            ],
            "application/vnd.jupyter.widget-view+json": {
              "version_major": 2,
              "version_minor": 0,
              "model_id": "6ebb3bf1f3fc47bfb126e5dae0c9ce61"
            }
          },
          "metadata": {}
        },
        {
          "output_type": "stream",
          "name": "stdout",
          "text": [
            "\u001b[1mDataset mnist downloaded and prepared to ~/tensorflow_datasets/mnist/3.0.1. Subsequent calls will reuse this data.\u001b[0m\n",
            "전처리 전:  \n",
            "dtype:  <dtype: 'uint8'>  최소: 0 최대: 255\n",
            "전처리 후:  \n",
            "dtype:  <dtype: 'float32'>  최소: -0.8737728595733643 최대: 0.9460210800170898\n"
          ]
        }
      ],
      "source": [
        "mnist_bldr = tfds.builder('mnist')\n",
        "mnist_bldr.download_and_prepare()\n",
        "mnist = mnist_bldr.as_dataset(shuffle_files=False)\n",
        "\n",
        "def preprocess(ex, mode='uniform'):\n",
        "    image = ex['image']\n",
        "    image = tf.image.convert_image_dtype(image, tf.float32)\n",
        "    image = tf.reshape(image, [-1])\n",
        "    image = image*2 - 1.0\n",
        "    if mode == 'uniform':\n",
        "        input_z = tf.random.uniform(\n",
        "            shape=(z_size,), minval=-1.0, maxval=1.0)\n",
        "    elif mode == 'normal':\n",
        "        input_z = tf.random.normal(shape=(z_size,))\n",
        "    return input_z, image\n",
        "\n",
        "\n",
        "\n",
        "mnist_trainset = mnist['train']\n",
        "\n",
        "print('전처리 전:  ')\n",
        "example = next(iter(mnist_trainset))['image']\n",
        "print('dtype: ', example.dtype, ' 최소: {} 최대: {}'.format(np.min(example), np.max(example)))\n",
        "\n",
        "mnist_trainset = mnist_trainset.map(preprocess)\n",
        "\n",
        "print('전처리 후:  ')\n",
        "example = next(iter(mnist_trainset))[0]\n",
        "print('dtype: ', example.dtype, ' 최소: {} 최대: {}'.format(np.min(example), np.max(example)))"
      ]
    },
    {
      "cell_type": "markdown",
      "metadata": {
        "id": "HT57CGAz0RDr"
      },
      "source": [
        " * **데이터 흐름을 단계별로 밟아보기**"
      ]
    },
    {
      "cell_type": "code",
      "execution_count": 21,
      "metadata": {
        "colab": {
          "base_uri": "https://localhost:8080/"
        },
        "id": "kdAXXUtryFGs",
        "outputId": "1b2d62e6-50f8-4c3c-8488-542240f43947"
      },
      "outputs": [
        {
          "output_type": "stream",
          "name": "stdout",
          "text": [
            "input-z -- 크기: (32, 20)\n",
            "input-real -- 크기: (32, 784)\n",
            "생성자 출력 -- 크기: (32, 784)\n",
            "판별자 (진짜) -- 크기: (32, 1)\n",
            "판별자 (가짜) -- 크기: (32, 1)\n"
          ]
        }
      ],
      "source": [
        "mnist_trainset = mnist_trainset.batch(32, drop_remainder=True)\n",
        "input_z, input_real = next(iter(mnist_trainset))\n",
        "print('input-z -- 크기:', input_z.shape)\n",
        "print('input-real -- 크기:', input_real.shape)\n",
        "\n",
        "g_output = gen_model(input_z)\n",
        "print('생성자 출력 -- 크기:', g_output.shape)\n",
        "\n",
        "d_logits_real = disc_model(input_real)\n",
        "d_logits_fake = disc_model(g_output)\n",
        "print('판별자 (진짜) -- 크기:', d_logits_real.shape)\n",
        "print('판별자 (가짜) -- 크기:', d_logits_fake.shape)"
      ]
    },
    {
      "cell_type": "markdown",
      "metadata": {
        "id": "Nb2H-Ac3M-OK"
      },
      "source": [
        "## GAN 모델 훈련하기"
      ]
    },
    {
      "cell_type": "code",
      "execution_count": 22,
      "metadata": {
        "colab": {
          "base_uri": "https://localhost:8080/"
        },
        "id": "-c9xVvjJySZk",
        "outputId": "6a8ce103-10b6-4d3f-a3c7-2295290af132"
      },
      "outputs": [
        {
          "output_type": "stream",
          "name": "stdout",
          "text": [
            "생성자 손실: 0.7355\n",
            "판별자 손실: 진짜 1.5073 가짜 0.6583\n"
          ]
        }
      ],
      "source": [
        "loss_fn = tf.keras.losses.BinaryCrossentropy(from_logits=True)\n",
        "\n",
        "## 생성자 손실\n",
        "g_labels_real = tf.ones_like(d_logits_fake)\n",
        "g_loss = loss_fn(y_true=g_labels_real, y_pred=d_logits_fake)\n",
        "print('생성자 손실: {:.4f}'.format(g_loss))\n",
        "\n",
        "## 판별자 손실\n",
        "d_labels_real = tf.ones_like(d_logits_real)\n",
        "d_labels_fake = tf.zeros_like(d_logits_fake)\n",
        "\n",
        "d_loss_real = loss_fn(y_true=d_labels_real, y_pred=d_logits_real)\n",
        "d_loss_fake = loss_fn(y_true=d_labels_fake, y_pred=d_logits_fake)\n",
        "print('판별자 손실: 진짜 {:.4f} 가짜 {:.4f}'\n",
        "      .format(d_loss_real.numpy(), d_loss_fake.numpy()))"
      ]
    },
    {
      "cell_type": "markdown",
      "metadata": {
        "id": "jtxdTVyF0KCF"
      },
      "source": [
        " * **최종 훈련**"
      ]
    },
    {
      "cell_type": "code",
      "execution_count": 23,
      "metadata": {
        "colab": {
          "base_uri": "https://localhost:8080/"
        },
        "id": "yeFKLGNfAF5J",
        "outputId": "879d1dfe-18bf-4378-8fc1-f2eda19e9e21"
      },
      "outputs": [
        {
          "output_type": "stream",
          "name": "stdout",
          "text": [
            "에포크 001 | 시간 0.68 min | 평균 손실 >> 생성자/판별자 2.8614/0.2895 [판별자-진짜: 0.0334 판별자-가짜: 0.2561]\n",
            "에포크 002 | 시간 1.17 min | 평균 손실 >> 생성자/판별자 5.1252/0.3408 [판별자-진짜: 0.1107 판별자-가짜: 0.2301]\n",
            "에포크 003 | 시간 1.68 min | 평균 손실 >> 생성자/판별자 3.3947/0.6501 [판별자-진짜: 0.2946 판별자-가짜: 0.3555]\n",
            "에포크 004 | 시간 2.19 min | 평균 손실 >> 생성자/판별자 2.2960/0.7972 [판별자-진짜: 0.4191 판별자-가짜: 0.3781]\n",
            "에포크 005 | 시간 2.68 min | 평균 손실 >> 생성자/판별자 2.2895/0.7642 [판별자-진짜: 0.4129 판별자-가짜: 0.3514]\n",
            "에포크 006 | 시간 3.18 min | 평균 손실 >> 생성자/판별자 1.6885/0.9860 [판별자-진짜: 0.5299 판별자-가짜: 0.4562]\n",
            "에포크 007 | 시간 3.67 min | 평균 손실 >> 생성자/판별자 1.4002/1.0266 [판별자-진짜: 0.5552 판별자-가짜: 0.4714]\n",
            "에포크 008 | 시간 4.16 min | 평균 손실 >> 생성자/판별자 1.5741/0.9728 [판별자-진짜: 0.5305 판별자-가짜: 0.4423]\n",
            "에포크 009 | 시간 4.66 min | 평균 손실 >> 생성자/판별자 1.5849/1.0062 [판별자-진짜: 0.5386 판별자-가짜: 0.4677]\n",
            "에포크 010 | 시간 5.16 min | 평균 손실 >> 생성자/판별자 1.4010/1.0247 [판별자-진짜: 0.5531 판별자-가짜: 0.4716]\n",
            "에포크 011 | 시간 5.65 min | 평균 손실 >> 생성자/판별자 1.3998/1.0407 [판별자-진짜: 0.5591 판별자-가짜: 0.4815]\n",
            "에포크 012 | 시간 6.15 min | 평균 손실 >> 생성자/판별자 1.3410/1.1110 [판별자-진짜: 0.5824 판별자-가짜: 0.5286]\n",
            "에포크 013 | 시간 6.62 min | 평균 손실 >> 생성자/판별자 1.1108/1.1966 [판별자-진짜: 0.6185 판별자-가짜: 0.5780]\n",
            "에포크 014 | 시간 7.09 min | 평균 손실 >> 생성자/판별자 1.2478/1.1701 [판별자-진짜: 0.6030 판별자-가짜: 0.5671]\n",
            "에포크 015 | 시간 7.58 min | 평균 손실 >> 생성자/판별자 1.2220/1.1721 [판별자-진짜: 0.6057 판별자-가짜: 0.5664]\n",
            "에포크 016 | 시간 8.07 min | 평균 손실 >> 생성자/판별자 1.1320/1.1745 [판별자-진짜: 0.6124 판별자-가짜: 0.5621]\n",
            "에포크 017 | 시간 8.56 min | 평균 손실 >> 생성자/판별자 1.1438/1.1765 [판별자-진짜: 0.6068 판별자-가짜: 0.5697]\n",
            "에포크 018 | 시간 9.04 min | 평균 손실 >> 생성자/판별자 1.2084/1.1925 [판별자-진짜: 0.6094 판별자-가짜: 0.5831]\n",
            "에포크 019 | 시간 9.54 min | 평균 손실 >> 생성자/판별자 1.1469/1.2083 [판별자-진짜: 0.6150 판별자-가짜: 0.5933]\n",
            "에포크 020 | 시간 10.03 min | 평균 손실 >> 생성자/판별자 1.0941/1.1937 [판별자-진짜: 0.6156 판별자-가짜: 0.5781]\n",
            "에포크 021 | 시간 10.53 min | 평균 손실 >> 생성자/판별자 1.0725/1.2191 [판별자-진짜: 0.6250 판별자-가짜: 0.5942]\n",
            "에포크 022 | 시간 11.01 min | 평균 손실 >> 생성자/판별자 1.1071/1.2241 [판별자-진짜: 0.6197 판별자-가짜: 0.6044]\n",
            "에포크 023 | 시간 11.49 min | 평균 손실 >> 생성자/판별자 1.0720/1.2228 [판별자-진짜: 0.6267 판별자-가짜: 0.5961]\n",
            "에포크 024 | 시간 11.99 min | 평균 손실 >> 생성자/판별자 1.0332/1.2314 [판별자-진짜: 0.6279 판별자-가짜: 0.6035]\n",
            "에포크 025 | 시간 12.48 min | 평균 손실 >> 생성자/판별자 1.0797/1.2287 [판별자-진짜: 0.6249 판별자-가짜: 0.6038]\n",
            "에포크 026 | 시간 12.96 min | 평균 손실 >> 생성자/판별자 1.0638/1.2299 [판별자-진짜: 0.6238 판별자-가짜: 0.6061]\n",
            "에포크 027 | 시간 13.45 min | 평균 손실 >> 생성자/판별자 1.0195/1.2561 [판별자-진짜: 0.6339 판별자-가짜: 0.6222]\n",
            "에포크 028 | 시간 13.93 min | 평균 손실 >> 생성자/판별자 1.0182/1.2494 [판별자-진짜: 0.6338 판별자-가짜: 0.6156]\n",
            "에포크 029 | 시간 14.43 min | 평균 손실 >> 생성자/판별자 1.0425/1.2299 [판별자-진짜: 0.6255 판별자-가짜: 0.6044]\n",
            "에포크 030 | 시간 14.92 min | 평균 손실 >> 생성자/판별자 1.0137/1.2374 [판별자-진짜: 0.6276 판별자-가짜: 0.6097]\n",
            "에포크 031 | 시간 15.41 min | 평균 손실 >> 생성자/판별자 1.0221/1.2495 [판별자-진짜: 0.6340 판별자-가짜: 0.6155]\n",
            "에포크 032 | 시간 15.89 min | 평균 손실 >> 생성자/판별자 1.0252/1.2419 [판별자-진짜: 0.6283 판별자-가짜: 0.6137]\n",
            "에포크 033 | 시간 16.37 min | 평균 손실 >> 생성자/판별자 1.0180/1.2498 [판별자-진짜: 0.6302 판별자-가짜: 0.6195]\n",
            "에포크 034 | 시간 16.87 min | 평균 손실 >> 생성자/판별자 1.0059/1.2518 [판별자-진짜: 0.6321 판별자-가짜: 0.6198]\n",
            "에포크 035 | 시간 17.35 min | 평균 손실 >> 생성자/판별자 1.0009/1.2664 [판별자-진짜: 0.6380 판별자-가짜: 0.6283]\n",
            "에포크 036 | 시간 17.83 min | 평균 손실 >> 생성자/판별자 1.0125/1.2628 [판별자-진짜: 0.6364 판별자-가짜: 0.6264]\n",
            "에포크 037 | 시간 18.31 min | 평균 손실 >> 생성자/판별자 1.0211/1.2647 [판별자-진짜: 0.6349 판별자-가짜: 0.6297]\n",
            "에포크 038 | 시간 18.79 min | 평균 손실 >> 생성자/판별자 0.9892/1.2594 [판별자-진짜: 0.6365 판별자-가짜: 0.6229]\n",
            "에포크 039 | 시간 19.29 min | 평균 손실 >> 생성자/판별자 0.9514/1.2894 [판별자-진짜: 0.6503 판별자-가짜: 0.6392]\n",
            "에포크 040 | 시간 19.76 min | 평균 손실 >> 생성자/판별자 1.0560/1.2598 [판별자-진짜: 0.6315 판별자-가짜: 0.6283]\n",
            "에포크 041 | 시간 20.25 min | 평균 손실 >> 생성자/판별자 1.0157/1.2659 [판별자-진짜: 0.6366 판별자-가짜: 0.6293]\n",
            "에포크 042 | 시간 20.73 min | 평균 손실 >> 생성자/판별자 0.9301/1.2861 [판별자-진짜: 0.6490 판별자-가짜: 0.6372]\n",
            "에포크 043 | 시간 21.21 min | 평균 손실 >> 생성자/판별자 0.9581/1.2821 [판별자-진짜: 0.6450 판별자-가짜: 0.6371]\n",
            "에포크 044 | 시간 21.70 min | 평균 손실 >> 생성자/판별자 1.0397/1.2752 [판별자-진짜: 0.6373 판별자-가짜: 0.6379]\n",
            "에포크 045 | 시간 22.17 min | 평균 손실 >> 생성자/판별자 0.9864/1.2775 [판별자-진짜: 0.6429 판별자-가짜: 0.6346]\n",
            "에포크 046 | 시간 22.64 min | 평균 손실 >> 생성자/판별자 0.9072/1.3033 [판별자-진짜: 0.6582 판별자-가짜: 0.6451]\n",
            "에포크 047 | 시간 23.08 min | 평균 손실 >> 생성자/판별자 0.9417/1.2952 [판별자-진짜: 0.6533 판별자-가짜: 0.6420]\n",
            "에포크 048 | 시간 23.55 min | 평균 손실 >> 생성자/판별자 0.9644/1.2932 [판별자-진짜: 0.6509 판별자-가짜: 0.6423]\n",
            "에포크 049 | 시간 24.03 min | 평균 손실 >> 생성자/판별자 0.9676/1.2985 [판별자-진짜: 0.6512 판별자-가짜: 0.6473]\n",
            "에포크 050 | 시간 24.52 min | 평균 손실 >> 생성자/판별자 0.9248/1.2988 [판별자-진짜: 0.6522 판별자-가짜: 0.6466]\n",
            "에포크 051 | 시간 25.01 min | 평균 손실 >> 생성자/판별자 0.9287/1.2943 [판별자-진짜: 0.6503 판별자-가짜: 0.6440]\n",
            "에포크 052 | 시간 25.49 min | 평균 손실 >> 생성자/판별자 0.9795/1.2896 [판별자-진짜: 0.6497 판별자-가짜: 0.6399]\n",
            "에포크 053 | 시간 25.97 min | 평균 손실 >> 생성자/판별자 0.9410/1.3068 [판별자-진짜: 0.6547 판별자-가짜: 0.6521]\n",
            "에포크 054 | 시간 26.45 min | 평균 손실 >> 생성자/판별자 0.9223/1.3164 [판별자-진짜: 0.6609 판별자-가짜: 0.6555]\n",
            "에포크 055 | 시간 26.94 min | 평균 손실 >> 생성자/판별자 0.9669/1.2948 [판별자-진짜: 0.6483 판별자-가짜: 0.6465]\n",
            "에포크 056 | 시간 27.43 min | 평균 손실 >> 생성자/판별자 0.9277/1.3068 [판별자-진짜: 0.6568 판별자-가짜: 0.6500]\n",
            "에포크 057 | 시간 27.91 min | 평균 손실 >> 생성자/판별자 0.9456/1.3001 [판별자-진짜: 0.6508 판별자-가짜: 0.6492]\n",
            "에포크 058 | 시간 28.39 min | 평균 손실 >> 생성자/판별자 0.9658/1.2934 [판별자-진짜: 0.6478 판별자-가짜: 0.6456]\n",
            "에포크 059 | 시간 28.87 min | 평균 손실 >> 생성자/판별자 0.9057/1.3047 [판별자-진짜: 0.6573 판별자-가짜: 0.6474]\n",
            "에포크 060 | 시간 29.36 min | 평균 손실 >> 생성자/판별자 0.9314/1.3023 [판별자-진짜: 0.6554 판별자-가짜: 0.6469]\n",
            "에포크 061 | 시간 29.84 min | 평균 손실 >> 생성자/판별자 0.9679/1.2998 [판별자-진짜: 0.6484 판별자-가짜: 0.6515]\n",
            "에포크 062 | 시간 30.32 min | 평균 손실 >> 생성자/판별자 0.9017/1.3048 [판별자-진짜: 0.6547 판별자-가짜: 0.6501]\n",
            "에포크 063 | 시간 30.80 min | 평균 손실 >> 생성자/판별자 0.8971/1.3148 [판별자-진짜: 0.6599 판별자-가짜: 0.6550]\n",
            "에포크 064 | 시간 31.29 min | 평균 손실 >> 생성자/판별자 0.9549/1.3065 [판별자-진짜: 0.6556 판별자-가짜: 0.6508]\n",
            "에포크 065 | 시간 31.78 min | 평균 손실 >> 생성자/판별자 0.9399/1.3010 [판별자-진짜: 0.6519 판별자-가짜: 0.6491]\n",
            "에포크 066 | 시간 32.26 min | 평균 손실 >> 생성자/판별자 0.8973/1.3174 [판별자-진짜: 0.6591 판별자-가짜: 0.6583]\n",
            "에포크 067 | 시간 32.74 min | 평균 손실 >> 생성자/판별자 0.9331/1.2976 [판별자-진짜: 0.6531 판별자-가짜: 0.6445]\n",
            "에포크 068 | 시간 33.22 min | 평균 손실 >> 생성자/판별자 0.9777/1.2892 [판별자-진짜: 0.6472 판별자-가짜: 0.6419]\n",
            "에포크 069 | 시간 33.68 min | 평균 손실 >> 생성자/판별자 0.8995/1.3099 [판별자-진짜: 0.6594 판별자-가짜: 0.6505]\n",
            "에포크 070 | 시간 34.17 min | 평균 손실 >> 생성자/판별자 0.9370/1.3109 [판별자-진짜: 0.6584 판별자-가짜: 0.6525]\n",
            "에포크 071 | 시간 34.65 min | 평균 손실 >> 생성자/판별자 0.9404/1.3045 [판별자-진짜: 0.6541 판별자-가짜: 0.6505]\n",
            "에포크 072 | 시간 35.14 min | 평균 손실 >> 생성자/판별자 0.9047/1.3089 [판별자-진짜: 0.6585 판별자-가짜: 0.6504]\n",
            "에포크 073 | 시간 35.62 min | 평균 손실 >> 생성자/판별자 0.9815/1.2974 [판별자-진짜: 0.6493 판별자-가짜: 0.6482]\n",
            "에포크 074 | 시간 36.10 min | 평균 손실 >> 생성자/판별자 0.8992/1.3044 [판별자-진짜: 0.6558 판별자-가짜: 0.6486]\n",
            "에포크 075 | 시간 36.59 min | 평균 손실 >> 생성자/판별자 0.9198/1.3066 [판별자-진짜: 0.6574 판별자-가짜: 0.6493]\n",
            "에포크 076 | 시간 37.07 min | 평균 손실 >> 생성자/판별자 0.9307/1.3140 [판별자-진짜: 0.6595 판별자-가짜: 0.6545]\n",
            "에포크 077 | 시간 37.55 min | 평균 손실 >> 생성자/판별자 0.9269/1.3176 [판별자-진짜: 0.6597 판별자-가짜: 0.6579]\n",
            "에포크 078 | 시간 38.03 min | 평균 손실 >> 생성자/판별자 0.8933/1.3189 [판별자-진짜: 0.6625 판별자-가짜: 0.6564]\n",
            "에포크 079 | 시간 38.51 min | 평균 손실 >> 생성자/판별자 0.9395/1.3097 [판별자-진짜: 0.6553 판별자-가짜: 0.6544]\n",
            "에포크 080 | 시간 39.00 min | 평균 손실 >> 생성자/판별자 0.8961/1.3164 [판별자-진짜: 0.6601 판별자-가짜: 0.6564]\n",
            "에포크 081 | 시간 39.48 min | 평균 손실 >> 생성자/판별자 0.9025/1.3202 [판별자-진짜: 0.6628 판별자-가짜: 0.6574]\n",
            "에포크 082 | 시간 39.95 min | 평균 손실 >> 생성자/판별자 0.9319/1.3074 [판별자-진짜: 0.6555 판별자-가짜: 0.6519]\n",
            "에포크 083 | 시간 40.40 min | 평균 손실 >> 생성자/판별자 0.8821/1.3154 [판별자-진짜: 0.6611 판별자-가짜: 0.6544]\n",
            "에포크 084 | 시간 40.88 min | 평균 손실 >> 생성자/판별자 0.9425/1.3042 [판별자-진짜: 0.6555 판별자-가짜: 0.6487]\n",
            "에포크 085 | 시간 41.36 min | 평균 손실 >> 생성자/판별자 0.9292/1.3074 [판별자-진짜: 0.6561 판별자-가짜: 0.6513]\n",
            "에포크 086 | 시간 41.85 min | 평균 손실 >> 생성자/판별자 0.8713/1.3200 [판별자-진짜: 0.6634 판별자-가짜: 0.6566]\n",
            "에포크 087 | 시간 42.48 min | 평균 손실 >> 생성자/판별자 0.9557/1.3060 [판별자-진짜: 0.6529 판별자-가짜: 0.6531]\n",
            "에포크 088 | 시간 42.95 min | 평균 손실 >> 생성자/판별자 0.9283/1.3010 [판별자-진짜: 0.6522 판별자-가짜: 0.6488]\n",
            "에포크 089 | 시간 43.46 min | 평균 손실 >> 생성자/판별자 0.8930/1.3193 [판별자-진짜: 0.6613 판별자-가짜: 0.6580]\n",
            "에포크 090 | 시간 43.95 min | 평균 손실 >> 생성자/판별자 0.9424/1.3163 [판별자-진짜: 0.6589 판별자-가짜: 0.6574]\n",
            "에포크 091 | 시간 44.43 min | 평균 손실 >> 생성자/판별자 0.8983/1.3138 [판별자-진짜: 0.6593 판별자-가짜: 0.6545]\n",
            "에포크 092 | 시간 44.90 min | 평균 손실 >> 생성자/판별자 0.9279/1.3112 [판별자-진짜: 0.6574 판별자-가짜: 0.6538]\n",
            "에포크 093 | 시간 45.39 min | 평균 손실 >> 생성자/판별자 0.9370/1.3124 [판별자-진짜: 0.6587 판별자-가짜: 0.6537]\n",
            "에포크 094 | 시간 45.87 min | 평균 손실 >> 생성자/판별자 0.8827/1.3306 [판별자-진짜: 0.6684 판별자-가짜: 0.6622]\n",
            "에포크 095 | 시간 46.36 min | 평균 손실 >> 생성자/판별자 0.9657/1.3086 [판별자-진짜: 0.6579 판별자-가짜: 0.6507]\n",
            "에포크 096 | 시간 46.85 min | 평균 손실 >> 생성자/판별자 0.9562/1.2843 [판별자-진짜: 0.6440 판별자-가짜: 0.6403]\n",
            "에포크 097 | 시간 47.33 min | 평균 손실 >> 생성자/판별자 0.8669/1.3213 [판별자-진짜: 0.6643 판별자-가짜: 0.6570]\n",
            "에포크 098 | 시간 47.81 min | 평균 손실 >> 생성자/판별자 0.9865/1.3006 [판별자-진짜: 0.6478 판별자-가짜: 0.6528]\n",
            "에포크 099 | 시간 48.30 min | 평균 손실 >> 생성자/판별자 0.9230/1.3033 [판별자-진짜: 0.6539 판별자-가짜: 0.6494]\n",
            "에포크 100 | 시간 48.78 min | 평균 손실 >> 생성자/판별자 0.8791/1.3163 [판별자-진짜: 0.6624 판별자-가짜: 0.6539]\n"
          ]
        }
      ],
      "source": [
        "import time\n",
        "\n",
        "\n",
        "num_epochs = 100\n",
        "batch_size = 64\n",
        "image_size = (28, 28)\n",
        "z_size = 20\n",
        "mode_z = 'uniform'\n",
        "gen_hidden_layers = 1\n",
        "gen_hidden_size = 100\n",
        "disc_hidden_layers = 1\n",
        "disc_hidden_size = 100\n",
        "\n",
        "tf.random.set_seed(1)\n",
        "np.random.seed(1)\n",
        "\n",
        "\n",
        "if mode_z == 'uniform':\n",
        "    fixed_z = tf.random.uniform(\n",
        "        shape=(batch_size, z_size),\n",
        "        minval=-1, maxval=1)\n",
        "elif mode_z == 'normal':\n",
        "    fixed_z = tf.random.normal(\n",
        "        shape=(batch_size, z_size))\n",
        "\n",
        "\n",
        "def create_samples(g_model, input_z):\n",
        "    g_output = g_model(input_z, training=False)\n",
        "    images = tf.reshape(g_output, (batch_size, *image_size))    \n",
        "    return (images+1)/2.0\n",
        "\n",
        "## 데이터셋 준비\n",
        "mnist_trainset = mnist['train']\n",
        "mnist_trainset = mnist_trainset.map(\n",
        "    lambda ex: preprocess(ex, mode=mode_z))\n",
        "\n",
        "mnist_trainset = mnist_trainset.shuffle(10000)\n",
        "mnist_trainset = mnist_trainset.batch(\n",
        "    batch_size, drop_remainder=True)\n",
        "\n",
        "## 모델 준비\n",
        "with tf.device(device_name):\n",
        "    gen_model = make_generator_network(\n",
        "        num_hidden_layers=gen_hidden_layers, \n",
        "        num_hidden_units=gen_hidden_size,\n",
        "        num_output_units=np.prod(image_size))\n",
        "    gen_model.build(input_shape=(None, z_size))\n",
        "\n",
        "    disc_model = make_discriminator_network(\n",
        "        num_hidden_layers=disc_hidden_layers,\n",
        "        num_hidden_units=disc_hidden_size)\n",
        "    disc_model.build(input_shape=(None, np.prod(image_size)))\n",
        "\n",
        "## 손실 함수와 옵티마이저:\n",
        "loss_fn = tf.keras.losses.BinaryCrossentropy(from_logits=True)\n",
        "g_optimizer = tf.keras.optimizers.Adam()\n",
        "d_optimizer = tf.keras.optimizers.Adam()\n",
        "\n",
        "all_losses = []\n",
        "all_d_vals = []\n",
        "epoch_samples = []\n",
        "\n",
        "start_time = time.time()\n",
        "for epoch in range(1, num_epochs+1):\n",
        "    epoch_losses, epoch_d_vals = [], []\n",
        "    for i,(input_z,input_real) in enumerate(mnist_trainset):\n",
        "        \n",
        "        ## 생성자 손실을 계산합니다\n",
        "        with tf.GradientTape() as g_tape:\n",
        "            g_output = gen_model(input_z)\n",
        "            d_logits_fake = disc_model(g_output, training=True)\n",
        "            labels_real = tf.ones_like(d_logits_fake)\n",
        "            g_loss = loss_fn(y_true=labels_real, y_pred=d_logits_fake)\n",
        "            \n",
        "        # g_loss의 그래디언트를 계산합니다\n",
        "        g_grads = g_tape.gradient(g_loss, gen_model.trainable_variables)\n",
        "        \n",
        "        # 최적화: 그래디언트를 적용합니다\n",
        "        g_optimizer.apply_gradients(\n",
        "            grads_and_vars=zip(g_grads, gen_model.trainable_variables))\n",
        "\n",
        "        ## 판별자 손실을 계산합니다\n",
        "        with tf.GradientTape() as d_tape:\n",
        "            d_logits_real = disc_model(input_real, training=True)\n",
        "\n",
        "            d_labels_real = tf.ones_like(d_logits_real)\n",
        "            \n",
        "            d_loss_real = loss_fn(\n",
        "                y_true=d_labels_real, y_pred=d_logits_real)\n",
        "\n",
        "            d_logits_fake = disc_model(g_output, training=True)\n",
        "            d_labels_fake = tf.zeros_like(d_logits_fake)\n",
        "\n",
        "            d_loss_fake = loss_fn(\n",
        "                y_true=d_labels_fake, y_pred=d_logits_fake)\n",
        "\n",
        "            d_loss = d_loss_real + d_loss_fake\n",
        "\n",
        "        ## d_loss의 그래디언트를 계산합니다\n",
        "        d_grads = d_tape.gradient(d_loss, disc_model.trainable_variables)\n",
        "        \n",
        "        ## 최적화: 그래디언트를 적용합니다\n",
        "        d_optimizer.apply_gradients(\n",
        "            grads_and_vars=zip(d_grads, disc_model.trainable_variables))\n",
        "                           \n",
        "        epoch_losses.append(\n",
        "            (g_loss.numpy(), d_loss.numpy(), \n",
        "             d_loss_real.numpy(), d_loss_fake.numpy()))\n",
        "        \n",
        "        d_probs_real = tf.reduce_mean(tf.sigmoid(d_logits_real))\n",
        "        d_probs_fake = tf.reduce_mean(tf.sigmoid(d_logits_fake))\n",
        "        epoch_d_vals.append((d_probs_real.numpy(), d_probs_fake.numpy()))        \n",
        "    all_losses.append(epoch_losses)\n",
        "    all_d_vals.append(epoch_d_vals)\n",
        "    print(\n",
        "        '에포크 {:03d} | 시간 {:.2f} min | 평균 손실 >>'\n",
        "        ' 생성자/판별자 {:.4f}/{:.4f} [판별자-진짜: {:.4f} 판별자-가짜: {:.4f}]'\n",
        "        .format(\n",
        "            epoch, (time.time() - start_time)/60, \n",
        "            *list(np.mean(all_losses[-1], axis=0))))\n",
        "    epoch_samples.append(\n",
        "        create_samples(gen_model, fixed_z).numpy())"
      ]
    },
    {
      "cell_type": "code",
      "execution_count": 24,
      "metadata": {
        "colab": {
          "base_uri": "https://localhost:8080/",
          "height": 458
        },
        "id": "TQyQ8deLaHmw",
        "outputId": "093ed474-4963-4472-a76a-0723a7b13b4b"
      },
      "outputs": [
        {
          "output_type": "display_data",
          "data": {
            "text/plain": [
              "<Figure size 1152x432 with 4 Axes>"
            ],
            "image/png": "[encoded data removed]"
          },
          "metadata": {
            "needs_background": "light"
          }
        }
      ],
      "source": [
        "import itertools\n",
        "\n",
        "\n",
        "fig = plt.figure(figsize=(16, 6))\n",
        "\n",
        "## 손실 그래프\n",
        "ax = fig.add_subplot(1, 2, 1)\n",
        "g_losses = [item[0] for item in itertools.chain(*all_losses)]\n",
        "d_losses = [item[1]/2.0 for item in itertools.chain(*all_losses)]\n",
        "plt.plot(g_losses, label='Generator loss', alpha=0.95)\n",
        "plt.plot(d_losses, label='Discriminator loss', alpha=0.95)\n",
        "plt.legend(fontsize=20)\n",
        "ax.set_xlabel('Iteration', size=15)\n",
        "ax.set_ylabel('Loss', size=15)\n",
        "\n",
        "epochs = np.arange(1, 101)\n",
        "epoch2iter = lambda e: e*len(all_losses[-1])\n",
        "epoch_ticks = [1, 20, 40, 60, 80, 100]\n",
        "newpos = [epoch2iter(e) for e in epoch_ticks]\n",
        "ax2 = ax.twiny()\n",
        "ax2.set_xticks(newpos)\n",
        "ax2.set_xticklabels(epoch_ticks)\n",
        "ax2.xaxis.set_ticks_position('bottom')\n",
        "ax2.xaxis.set_label_position('bottom')\n",
        "ax2.spines['bottom'].set_position(('outward', 60))\n",
        "ax2.set_xlabel('Epoch', size=15)\n",
        "ax2.set_xlim(ax.get_xlim())\n",
        "ax.tick_params(axis='both', which='major', labelsize=15)\n",
        "ax2.tick_params(axis='both', which='major', labelsize=15)\n",
        "\n",
        "## 판별자의 출력\n",
        "ax = fig.add_subplot(1, 2, 2)\n",
        "d_vals_real = [item[0] for item in itertools.chain(*all_d_vals)]\n",
        "d_vals_fake = [item[1] for item in itertools.chain(*all_d_vals)]\n",
        "plt.plot(d_vals_real, alpha=0.75, label=r'Real: $D(\\mathbf{x})$')\n",
        "plt.plot(d_vals_fake, alpha=0.75, label=r'Fake: $D(G(\\mathbf{z}))$')\n",
        "plt.legend(fontsize=20)\n",
        "ax.set_xlabel('Iteration', size=15)\n",
        "ax.set_ylabel('Discriminator output', size=15)\n",
        "\n",
        "ax2 = ax.twiny()\n",
        "ax2.set_xticks(newpos)\n",
        "ax2.set_xticklabels(epoch_ticks)\n",
        "ax2.xaxis.set_ticks_position('bottom')\n",
        "ax2.xaxis.set_label_position('bottom')\n",
        "ax2.spines['bottom'].set_position(('outward', 60))\n",
        "ax2.set_xlabel('Epoch', size=15)\n",
        "ax2.set_xlim(ax.get_xlim())\n",
        "ax.tick_params(axis='both', which='major', labelsize=15)\n",
        "ax2.tick_params(axis='both', which='major', labelsize=15)\n",
        "\n",
        "plt.show()"
      ]
    },
    {
      "cell_type": "code",
      "execution_count": 25,
      "metadata": {
        "colab": {
          "base_uri": "https://localhost:8080/",
          "height": 783
        },
        "id": "iENdPX_gPoJ7",
        "outputId": "6f492fb8-af0c-441e-fa2a-7a42bc20acad"
      },
      "outputs": [
        {
          "output_type": "display_data",
          "data": {
            "text/plain": [
              "<Figure size 720x1008 with 30 Axes>"
            ],
            "image/png": "[encoded data removed]"
          },
          "metadata": {}
        }
      ],
      "source": [
        "selected_epochs = [1, 2, 4, 10, 50, 100]\n",
        "fig = plt.figure(figsize=(10, 14))\n",
        "for i,e in enumerate(selected_epochs):\n",
        "    for j in range(5):\n",
        "        ax = fig.add_subplot(6, 5, i*5+j+1)\n",
        "        ax.set_xticks([])\n",
        "        ax.set_yticks([])\n",
        "        if j == 0:\n",
        "            ax.text(\n",
        "                -0.06, 0.5, 'Epoch {}'.format(e),\n",
        "                rotation=90, size=18, color='red',\n",
        "                horizontalalignment='right',\n",
        "                verticalalignment='center', \n",
        "                transform=ax.transAxes)\n",
        "        \n",
        "        image = epoch_samples[e-1][j]\n",
        "        ax.imshow(image, cmap='gray_r')\n",
        "\n",
        "plt.show()"
      ]
    }
  ],
  "metadata": {
    "accelerator": "GPU",
    "colab": {
      "collapsed_sections": [],
      "name": "ch17-basic-GAN.ipynb",
      "provenance": []
    },
    "kernelspec": {
      "display_name": "Python 3",
      "language": "python",
      "name": "python3"
    },
    "language_info": {
      "codemirror_mode": {
        "name": "ipython",
        "version": 3
      },
      "file_extension": ".py",
      "mimetype": "text/x-python",
      "name": "python",
      "nbconvert_exporter": "python",
      "pygments_lexer": "ipython3",
      "version": "3.7.3"
    },
    "widgets": {
      "application/vnd.jupyter.widget-state+json": {
        "6ebb3bf1f3fc47bfb126e5dae0c9ce61": {
          "model_module": "@jupyter-widgets/controls",
          "model_name": "HBoxModel",
          "model_module_version": "1.5.0",
          "state": {
            "_dom_classes": [],
            "_model_module": "@jupyter-widgets/controls",
            "_model_module_version": "1.5.0",
            "_model_name": "HBoxModel",
            "_view_count": null,
            "_view_module": "@jupyter-widgets/controls",
            "_view_module_version": "1.5.0",
            "_view_name": "HBoxView",
            "box_style": "",
            "children": [
              "IPY_MODEL_325673f771b740c6a8fe898b14ba9367",
              "IPY_MODEL_9f6690595e394a32a33863e14f11bdf8",
              "IPY_MODEL_24f49c4295774c72a3ab83120ce2dcc3"
            ],
            "layout": "IPY_MODEL_68f92f27b2da45efa2f43c2a898cb86a"
          }
        },
        "325673f771b740c6a8fe898b14ba9367": {
          "model_module": "@jupyter-widgets/controls",
          "model_name": "HTMLModel",
          "model_module_version": "1.5.0",
          "state": {
            "_dom_classes": [],
            "_model_module": "@jupyter-widgets/controls",
            "_model_module_version": "1.5.0",
            "_model_name": "HTMLModel",
            "_view_count": null,
            "_view_module": "@jupyter-widgets/controls",
            "_view_module_version": "1.5.0",
            "_view_name": "HTMLView",
            "description": "",
            "description_tooltip": null,
            "layout": "IPY_MODEL_2f0a50fad7a54666a2625897e9541e01",
            "placeholder": "​",
            "style": "IPY_MODEL_75a8304904a14c59a98cc59a2948462b",
            "value": "Dl Completed...: 100%"
          }
        },
        "9f6690595e394a32a33863e14f11bdf8": {
          "model_module": "@jupyter-widgets/controls",
          "model_name": "FloatProgressModel",
          "model_module_version": "1.5.0",
          "state": {
            "_dom_classes": [],
            "_model_module": "@jupyter-widgets/controls",
            "_model_module_version": "1.5.0",
            "_model_name": "FloatProgressModel",
            "_view_count": null,
            "_view_module": "@jupyter-widgets/controls",
            "_view_module_version": "1.5.0",
            "_view_name": "ProgressView",
            "bar_style": "success",
            "description": "",
            "description_tooltip": null,
            "layout": "IPY_MODEL_4be7caaf46dc487bb72391cfcab2af9f",
            "max": 4,
            "min": 0,
            "orientation": "horizontal",
            "style": "IPY_MODEL_431fce5d33e44ccf814bd5c2d2aa57c6",
            "value": 4
          }
        },
        "24f49c4295774c72a3ab83120ce2dcc3": {
          "model_module": "@jupyter-widgets/controls",
          "model_name": "HTMLModel",
          "model_module_version": "1.5.0",
          "state": {
            "_dom_classes": [],
            "_model_module": "@jupyter-widgets/controls",
            "_model_module_version": "1.5.0",
            "_model_name": "HTMLModel",
            "_view_count": null,
            "_view_module": "@jupyter-widgets/controls",
            "_view_module_version": "1.5.0",
            "_view_name": "HTMLView",
            "description": "",
            "description_tooltip": null,
            "layout": "IPY_MODEL_f38b9e6562344702a98ac9f6028b80f3",
            "placeholder": "​",
            "style": "IPY_MODEL_ba0d4f2c5cf1401e95f73d7f248e02fa",
            "value": " 4/4 [00:00&lt;00:00,  6.56 file/s]"
          }
        },
        "68f92f27b2da45efa2f43c2a898cb86a": {
          "model_module": "@jupyter-widgets/base",
          "model_name": "LayoutModel",
          "model_module_version": "1.2.0",
          "state": {
            "_model_module": "@jupyter-widgets/base",
            "_model_module_version": "1.2.0",
            "_model_name": "LayoutModel",
            "_view_count": null,
            "_view_module": "@jupyter-widgets/base",
            "_view_module_version": "1.2.0",
            "_view_name": "LayoutView",
            "align_content": null,
            "align_items": null,
            "align_self": null,
            "border": null,
            "bottom": null,
            "display": null,
            "flex": null,
            "flex_flow": null,
            "grid_area": null,
            "grid_auto_columns": null,
            "grid_auto_flow": null,
            "grid_auto_rows": null,
            "grid_column": null,
            "grid_gap": null,
            "grid_row": null,
            "grid_template_areas": null,
            "grid_template_columns": null,
            "grid_template_rows": null,
            "height": null,
            "justify_content": null,
            "justify_items": null,
            "left": null,
            "margin": null,
            "max_height": null,
            "max_width": null,
            "min_height": null,
            "min_width": null,
            "object_fit": null,
            "object_position": null,
            "order": null,
            "overflow": null,
            "overflow_x": null,
            "overflow_y": null,
            "padding": null,
            "right": null,
            "top": null,
            "visibility": null,
            "width": null
          }
        },
        "2f0a50fad7a54666a2625897e9541e01": {
          "model_module": "@jupyter-widgets/base",
          "model_name": "LayoutModel",
          "model_module_version": "1.2.0",
          "state": {
            "_model_module": "@jupyter-widgets/base",
            "_model_module_version": "1.2.0",
            "_model_name": "LayoutModel",
            "_view_count": null,
            "_view_module": "@jupyter-widgets/base",
            "_view_module_version": "1.2.0",
            "_view_name": "LayoutView",
            "align_content": null,
            "align_items": null,
            "align_self": null,
            "border": null,
            "bottom": null,
            "display": null,
            "flex": null,
            "flex_flow": null,
            "grid_area": null,
            "grid_auto_columns": null,
            "grid_auto_flow": null,
            "grid_auto_rows": null,
            "grid_column": null,
            "grid_gap": null,
            "grid_row": null,
            "grid_template_areas": null,
            "grid_template_columns": null,
            "grid_template_rows": null,
            "height": null,
            "justify_content": null,
            "justify_items": null,
            "left": null,
            "margin": null,
            "max_height": null,
            "max_width": null,
            "min_height": null,
            "min_width": null,
            "object_fit": null,
            "object_position": null,
            "order": null,
            "overflow": null,
            "overflow_x": null,
            "overflow_y": null,
            "padding": null,
            "right": null,
            "top": null,
            "visibility": null,
            "width": null
          }
        },
        "75a8304904a14c59a98cc59a2948462b": {
          "model_module": "@jupyter-widgets/controls",
          "model_name": "DescriptionStyleModel",
          "model_module_version": "1.5.0",
          "state": {
            "_model_module": "@jupyter-widgets/controls",
            "_model_module_version": "1.5.0",
            "_model_name": "DescriptionStyleModel",
            "_view_count": null,
            "_view_module": "@jupyter-widgets/base",
            "_view_module_version": "1.2.0",
            "_view_name": "StyleView",
            "description_width": ""
          }
        },
        "4be7caaf46dc487bb72391cfcab2af9f": {
          "model_module": "@jupyter-widgets/base",
          "model_name": "LayoutModel",
          "model_module_version": "1.2.0",
          "state": {
            "_model_module": "@jupyter-widgets/base",
            "_model_module_version": "1.2.0",
            "_model_name": "LayoutModel",
            "_view_count": null,
            "_view_module": "@jupyter-widgets/base",
            "_view_module_version": "1.2.0",
            "_view_name": "LayoutView",
            "align_content": null,
            "align_items": null,
            "align_self": null,
            "border": null,
            "bottom": null,
            "display": null,
            "flex": null,
            "flex_flow": null,
            "grid_area": null,
            "grid_auto_columns": null,
            "grid_auto_flow": null,
            "grid_auto_rows": null,
            "grid_column": null,
            "grid_gap": null,
            "grid_row": null,
            "grid_template_areas": null,
            "grid_template_columns": null,
            "grid_template_rows": null,
            "height": null,
            "justify_content": null,
            "justify_items": null,
            "left": null,
            "margin": null,
            "max_height": null,
            "max_width": null,
            "min_height": null,
            "min_width": null,
            "object_fit": null,
            "object_position": null,
            "order": null,
            "overflow": null,
            "overflow_x": null,
            "overflow_y": null,
            "padding": null,
            "right": null,
            "top": null,
            "visibility": null,
            "width": null
          }
        },
        "431fce5d33e44ccf814bd5c2d2aa57c6": {
          "model_module": "@jupyter-widgets/controls",
          "model_name": "ProgressStyleModel",
          "model_module_version": "1.5.0",
          "state": {
            "_model_module": "@jupyter-widgets/controls",
            "_model_module_version": "1.5.0",
            "_model_name": "ProgressStyleModel",
            "_view_count": null,
            "_view_module": "@jupyter-widgets/base",
            "_view_module_version": "1.2.0",
            "_view_name": "StyleView",
            "bar_color": null,
            "description_width": ""
          }
        },
        "f38b9e6562344702a98ac9f6028b80f3": {
          "model_module": "@jupyter-widgets/base",
          "model_name": "LayoutModel",
          "model_module_version": "1.2.0",
          "state": {
            "_model_module": "@jupyter-widgets/base",
            "_model_module_version": "1.2.0",
            "_model_name": "LayoutModel",
            "_view_count": null,
            "_view_module": "@jupyter-widgets/base",
            "_view_module_version": "1.2.0",
            "_view_name": "LayoutView",
            "align_content": null,
            "align_items": null,
            "align_self": null,
            "border": null,
            "bottom": null,
            "display": null,
            "flex": null,
            "flex_flow": null,
            "grid_area": null,
            "grid_auto_columns": null,
            "grid_auto_flow": null,
            "grid_auto_rows": null,
            "grid_column": null,
            "grid_gap": null,
            "grid_row": null,
            "grid_template_areas": null,
            "grid_template_columns": null,
            "grid_template_rows": null,
            "height": null,
            "justify_content": null,
            "justify_items": null,
            "left": null,
            "margin": null,
            "max_height": null,
            "max_width": null,
            "min_height": null,
            "min_width": null,
            "object_fit": null,
            "object_position": null,
            "order": null,
            "overflow": null,
            "overflow_x": null,
            "overflow_y": null,
            "padding": null,
            "right": null,
            "top": null,
            "visibility": null,
            "width": null
          }
        },
        "ba0d4f2c5cf1401e95f73d7f248e02fa": {
          "model_module": "@jupyter-widgets/controls",
          "model_name": "DescriptionStyleModel",
          "model_module_version": "1.5.0",
          "state": {
            "_model_module": "@jupyter-widgets/controls",
            "_model_module_version": "1.5.0",
            "_model_name": "DescriptionStyleModel",
            "_view_count": null,
            "_view_module": "@jupyter-widgets/base",
            "_view_module_version": "1.2.0",
            "_view_name": "StyleView",
            "description_width": ""
          }
        }
      }
    }
  },
  "nbformat": 4,
  "nbformat_minor": 0
}