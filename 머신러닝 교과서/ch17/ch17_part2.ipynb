{
  "cells": [
    {
      "cell_type": "markdown",
      "metadata": {
        "id": "mhnVRDEso6TM"
      },
      "source": [
        "# 머신 러닝 교과서 3판"
      ]
    },
    {
      "cell_type": "markdown",
      "metadata": {
        "id": "iLYc3wMJo6TQ"
      },
      "source": [
        "# 17장 - 새로운 데이터 합성을 위한 생성적 적대 신경망 (2/2)"
      ]
    },
    {
      "cell_type": "markdown",
      "metadata": {
        "id": "zxnZcUDYo6TQ"
      },
      "source": [
        "**아래 링크를 통해 이 노트북을 주피터 노트북 뷰어(nbviewer.jupyter.org)로 보거나 구글 코랩(colab.research.google.com)에서 실행할 수 있습니다.**\n",
        "\n",
        "<table class=\"tfo-notebook-buttons\" align=\"left\">\n",
        "  <td>\n",
        "    <a target=\"_blank\" href=\"https://nbviewer.org/github/rickiepark/python-machine-learning-book-3rd-edition/blob/master/ch17/ch17_part2.ipynb\"><img src=\"https://jupyter.org/assets/share.png\" width=\"60\" />주피터 노트북 뷰어로 보기</a>\n",
        "  </td>\n",
        "  <td>\n",
        "    <a target=\"_blank\" href=\"https://colab.research.google.com/github/rickiepark/python-machine-learning-book-3rd-edition/blob/master/ch17/ch17_part2.ipynb\"><img src=\"https://www.tensorflow.org/images/colab_logo_32px.png\" />구글 코랩(Colab)에서 실행하기</a>\n",
        "  </td>\n",
        "</table>"
      ]
    },
    {
      "cell_type": "markdown",
      "metadata": {
        "id": "ILMW7pJpo6TR"
      },
      "source": [
        "### 목차"
      ]
    },
    {
      "cell_type": "markdown",
      "metadata": {
        "id": "2XQEMAilo6TR"
      },
      "source": [
        "- 합성곱 GAN과 와서스테인 GAN을 사용하여 합성 이미지의 품질 높이기\n",
        "    - 전치 합성곱\n",
        "    - 배치 정규화\n",
        "    - 생성자와 판별자 구현하기\n",
        "    - 두 분포 사이의 거리 측정하기\n",
        "    - GAN에 EM 거리 사용하기\n",
        "    - 그래디언트 페널티\n",
        "    - WGAN-GP로 DCGAN 모델 훈련하기\n",
        "    - 모드 붕괴\n",
        "- 다른 GAN 애플리케이션\n",
        "- 요약"
      ]
    },
    {
      "cell_type": "code",
      "execution_count": 1,
      "metadata": {
        "id": "fJJx82wno6TR"
      },
      "outputs": [],
      "source": [
        "from IPython.display import Image"
      ]
    },
    {
      "cell_type": "markdown",
      "metadata": {
        "id": "I8VoaURPo6TS"
      },
      "source": [
        "# 합성곱 GAN과 와서스테인 GAN을 사용하여 합성 이미지의 품질 높이기"
      ]
    },
    {
      "cell_type": "markdown",
      "metadata": {
        "id": "0J8TdXgIo6TS"
      },
      "source": [
        "## 전치 합성곱"
      ]
    },
    {
      "cell_type": "code",
      "execution_count": 2,
      "metadata": {
        "colab": {
          "base_uri": "https://localhost:8080/",
          "height": 269
        },
        "id": "doWkKGeMo6TS",
        "outputId": "268081bc-7784-47d2-f6bc-01c517ae4dbc"
      },
      "outputs": [
        {
          "output_type": "execute_result",
          "data": {
            "text/html": [
              "<img src=\"https://git.io/JLjn7\" width=\"700\"/>"
            ],
            "text/plain": [
              "<IPython.core.display.Image object>"
            ]
          },
          "metadata": {},
          "execution_count": 2
        }
      ],
      "source": [
        "Image(url='https://git.io/JLjn7', width=700)"
      ]
    },
    {
      "cell_type": "code",
      "execution_count": 3,
      "metadata": {
        "colab": {
          "base_uri": "https://localhost:8080/",
          "height": 362
        },
        "id": "wXQNEuWJo6TT",
        "outputId": "89ab94b9-a832-4723-a442-60550ada9262"
      },
      "outputs": [
        {
          "output_type": "execute_result",
          "data": {
            "text/html": [
              "<img src=\"https://git.io/JLjnb\" width=\"700\"/>"
            ],
            "text/plain": [
              "<IPython.core.display.Image object>"
            ]
          },
          "metadata": {},
          "execution_count": 3
        }
      ],
      "source": [
        "Image(url='https://git.io/JLjnb', width=700)"
      ]
    },
    {
      "cell_type": "markdown",
      "metadata": {
        "id": "v5OXSjCHo6TT"
      },
      "source": [
        "## 배치 정규화"
      ]
    },
    {
      "cell_type": "code",
      "execution_count": 4,
      "metadata": {
        "colab": {
          "base_uri": "https://localhost:8080/",
          "height": 480
        },
        "id": "T8sfMSHio6TT",
        "outputId": "5e5bc373-6d92-475a-f3fb-11e7e49e272b"
      },
      "outputs": [
        {
          "output_type": "execute_result",
          "data": {
            "text/html": [
              "<img src=\"https://git.io/JLjnA\" width=\"700\"/>"
            ],
            "text/plain": [
              "<IPython.core.display.Image object>"
            ]
          },
          "metadata": {},
          "execution_count": 4
        }
      ],
      "source": [
        "Image(url='https://git.io/JLjnA', width=700)"
      ]
    },
    {
      "cell_type": "markdown",
      "metadata": {
        "id": "7pqd-bBPo6TT"
      },
      "source": [
        "## 생성자와 판별자 구현하기"
      ]
    },
    {
      "cell_type": "code",
      "execution_count": 5,
      "metadata": {
        "colab": {
          "base_uri": "https://localhost:8080/",
          "height": 313
        },
        "id": "Botu3kjko6TT",
        "outputId": "2f852883-b28d-46fd-faa2-0636c791f261"
      },
      "outputs": [
        {
          "output_type": "execute_result",
          "data": {
            "text/html": [
              "<img src=\"https://git.io/JLjnx\" width=\"700\"/>"
            ],
            "text/plain": [
              "<IPython.core.display.Image object>"
            ]
          },
          "metadata": {},
          "execution_count": 5
        }
      ],
      "source": [
        "Image(url='https://git.io/JLjnx', width=700)"
      ]
    },
    {
      "cell_type": "code",
      "execution_count": 6,
      "metadata": {
        "colab": {
          "base_uri": "https://localhost:8080/",
          "height": 387
        },
        "id": "bR-z6gxto6TU",
        "outputId": "c0d1dc13-eafa-4d01-a013-cbdc43d1bb7b"
      },
      "outputs": [
        {
          "output_type": "execute_result",
          "data": {
            "text/html": [
              "<img src=\"https://git.io/JLjnj\" width=\"700\"/>"
            ],
            "text/plain": [
              "<IPython.core.display.Image object>"
            ]
          },
          "metadata": {},
          "execution_count": 6
        }
      ],
      "source": [
        "Image(url='https://git.io/JLjnj', width=700)"
      ]
    },
    {
      "cell_type": "markdown",
      "metadata": {
        "id": "gjndBoHAo6TU"
      },
      "source": [
        " * **구글 코랩 설정**"
      ]
    },
    {
      "cell_type": "code",
      "execution_count": 7,
      "metadata": {
        "id": "XnOWggQN3RbT"
      },
      "outputs": [],
      "source": [
        "#from google.colab import drive\n",
        "#drive.mount('/content/drive/')"
      ]
    },
    {
      "cell_type": "code",
      "execution_count": 8,
      "metadata": {
        "colab": {
          "base_uri": "https://localhost:8080/"
        },
        "id": "O9XN3qSZ6Kbr",
        "outputId": "6b9b1737-c778-4190-8227-6a0f1396d8ce"
      },
      "outputs": [
        {
          "output_type": "stream",
          "name": "stdout",
          "text": [
            "2.9.2\n",
            "GPU 여부: True\n",
            "/device:GPU:0\n"
          ]
        }
      ],
      "source": [
        "import tensorflow as tf\n",
        "\n",
        "\n",
        "print(tf.__version__)\n",
        "\n",
        "print(\"GPU 여부:\", len(tf.config.list_physical_devices('GPU')) > 0)\n",
        "\n",
        "if tf.config.list_physical_devices('GPU'):\n",
        "    device_name = tf.test.gpu_device_name()\n",
        "else:\n",
        "    device_name = 'CPU:0'\n",
        "    \n",
        "print(device_name)"
      ]
    },
    {
      "cell_type": "code",
      "execution_count": 9,
      "metadata": {
        "id": "VXasfQIW3XeR"
      },
      "outputs": [],
      "source": [
        "import tensorflow_datasets as tfds\n",
        "import numpy as np\n",
        "import matplotlib.pyplot as plt\n",
        "%matplotlib inline"
      ]
    },
    {
      "cell_type": "code",
      "execution_count": 10,
      "metadata": {
        "id": "O9QIFmPZ3jjg"
      },
      "outputs": [],
      "source": [
        "def make_dcgan_generator(\n",
        "        z_size=20, \n",
        "        output_size=(28, 28, 1),\n",
        "        n_filters=128, \n",
        "        n_blocks=2):\n",
        "    size_factor = 2**n_blocks\n",
        "    hidden_size = (\n",
        "        output_size[0]//size_factor, \n",
        "        output_size[1]//size_factor\n",
        "    )\n",
        "    \n",
        "    model = tf.keras.Sequential([\n",
        "        tf.keras.layers.Input(shape=(z_size,)),\n",
        "        \n",
        "        tf.keras.layers.Dense(\n",
        "            units=n_filters*np.prod(hidden_size), \n",
        "            use_bias=False),\n",
        "        tf.keras.layers.BatchNormalization(),\n",
        "        tf.keras.layers.LeakyReLU(),\n",
        "        tf.keras.layers.Reshape(\n",
        "            (hidden_size[0], hidden_size[1], n_filters)),\n",
        "    \n",
        "        tf.keras.layers.Conv2DTranspose(\n",
        "            filters=n_filters, kernel_size=(5, 5), strides=(1, 1),\n",
        "            padding='same', use_bias=False),\n",
        "        tf.keras.layers.BatchNormalization(),\n",
        "        tf.keras.layers.LeakyReLU()\n",
        "    ])\n",
        "        \n",
        "    nf = n_filters\n",
        "    for i in range(n_blocks):\n",
        "        nf = nf // 2\n",
        "        model.add(\n",
        "            tf.keras.layers.Conv2DTranspose(\n",
        "                filters=nf, kernel_size=(5, 5), strides=(2, 2),\n",
        "                padding='same', use_bias=False))\n",
        "        model.add(tf.keras.layers.BatchNormalization())\n",
        "        model.add(tf.keras.layers.LeakyReLU())\n",
        "                \n",
        "    model.add(\n",
        "        tf.keras.layers.Conv2DTranspose(\n",
        "            filters=output_size[2], kernel_size=(5, 5), \n",
        "            strides=(1, 1), padding='same', use_bias=False, \n",
        "            activation='tanh'))\n",
        "        \n",
        "    return model\n",
        "\n",
        "def make_dcgan_discriminator(\n",
        "        input_size=(28, 28, 1),\n",
        "        n_filters=64, \n",
        "        n_blocks=2):\n",
        "    model = tf.keras.Sequential([\n",
        "        tf.keras.layers.Input(shape=input_size),\n",
        "        tf.keras.layers.Conv2D(\n",
        "            filters=n_filters, kernel_size=5, \n",
        "            strides=(1, 1), padding='same'),\n",
        "        tf.keras.layers.BatchNormalization(),\n",
        "        tf.keras.layers.LeakyReLU()\n",
        "    ])\n",
        "    \n",
        "    nf = n_filters\n",
        "    for i in range(n_blocks):\n",
        "        nf = nf*2\n",
        "        model.add(\n",
        "            tf.keras.layers.Conv2D(\n",
        "                filters=nf, kernel_size=(5, 5), \n",
        "                strides=(2, 2),padding='same'))\n",
        "        model.add(tf.keras.layers.BatchNormalization())\n",
        "        model.add(tf.keras.layers.LeakyReLU())\n",
        "        model.add(tf.keras.layers.Dropout(0.3))\n",
        "        \n",
        "    model.add(tf.keras.layers.Conv2D(\n",
        "            filters=1, kernel_size=(7, 7), padding='valid'))\n",
        "    \n",
        "    model.add(tf.keras.layers.Reshape((1,)))\n",
        "    \n",
        "    return model"
      ]
    },
    {
      "cell_type": "code",
      "execution_count": 11,
      "metadata": {
        "colab": {
          "base_uri": "https://localhost:8080/"
        },
        "id": "DX4INL735ARw",
        "outputId": "7a67a2ee-753b-4df5-d297-506aeaf7634d"
      },
      "outputs": [
        {
          "output_type": "stream",
          "name": "stdout",
          "text": [
            "Model: \"sequential\"\n",
            "_________________________________________________________________\n",
            " Layer (type)                Output Shape              Param #   \n",
            "=================================================================\n",
            " dense (Dense)               (None, 6272)              125440    \n",
            "                                                                 \n",
            " batch_normalization (BatchN  (None, 6272)             25088     \n",
            " ormalization)                                                   \n",
            "                                                                 \n",
            " leaky_re_lu (LeakyReLU)     (None, 6272)              0         \n",
            "                                                                 \n",
            " reshape (Reshape)           (None, 7, 7, 128)         0         \n",
            "                                                                 \n",
            " conv2d_transpose (Conv2DTra  (None, 7, 7, 128)        409600    \n",
            " nspose)                                                         \n",
            "                                                                 \n",
            " batch_normalization_1 (Batc  (None, 7, 7, 128)        512       \n",
            " hNormalization)                                                 \n",
            "                                                                 \n",
            " leaky_re_lu_1 (LeakyReLU)   (None, 7, 7, 128)         0         \n",
            "                                                                 \n",
            " conv2d_transpose_1 (Conv2DT  (None, 14, 14, 64)       204800    \n",
            " ranspose)                                                       \n",
            "                                                                 \n",
            " batch_normalization_2 (Batc  (None, 14, 14, 64)       256       \n",
            " hNormalization)                                                 \n",
            "                                                                 \n",
            " leaky_re_lu_2 (LeakyReLU)   (None, 14, 14, 64)        0         \n",
            "                                                                 \n",
            " conv2d_transpose_2 (Conv2DT  (None, 28, 28, 32)       51200     \n",
            " ranspose)                                                       \n",
            "                                                                 \n",
            " batch_normalization_3 (Batc  (None, 28, 28, 32)       128       \n",
            " hNormalization)                                                 \n",
            "                                                                 \n",
            " leaky_re_lu_3 (LeakyReLU)   (None, 28, 28, 32)        0         \n",
            "                                                                 \n",
            " conv2d_transpose_3 (Conv2DT  (None, 28, 28, 1)        800       \n",
            " ranspose)                                                       \n",
            "                                                                 \n",
            "=================================================================\n",
            "Total params: 817,824\n",
            "Trainable params: 804,832\n",
            "Non-trainable params: 12,992\n",
            "_________________________________________________________________\n",
            "Model: \"sequential_1\"\n",
            "_________________________________________________________________\n",
            " Layer (type)                Output Shape              Param #   \n",
            "=================================================================\n",
            " conv2d (Conv2D)             (None, 28, 28, 64)        1664      \n",
            "                                                                 \n",
            " batch_normalization_4 (Batc  (None, 28, 28, 64)       256       \n",
            " hNormalization)                                                 \n",
            "                                                                 \n",
            " leaky_re_lu_4 (LeakyReLU)   (None, 28, 28, 64)        0         \n",
            "                                                                 \n",
            " conv2d_1 (Conv2D)           (None, 14, 14, 128)       204928    \n",
            "                                                                 \n",
            " batch_normalization_5 (Batc  (None, 14, 14, 128)      512       \n",
            " hNormalization)                                                 \n",
            "                                                                 \n",
            " leaky_re_lu_5 (LeakyReLU)   (None, 14, 14, 128)       0         \n",
            "                                                                 \n",
            " dropout (Dropout)           (None, 14, 14, 128)       0         \n",
            "                                                                 \n",
            " conv2d_2 (Conv2D)           (None, 7, 7, 256)         819456    \n",
            "                                                                 \n",
            " batch_normalization_6 (Batc  (None, 7, 7, 256)        1024      \n",
            " hNormalization)                                                 \n",
            "                                                                 \n",
            " leaky_re_lu_6 (LeakyReLU)   (None, 7, 7, 256)         0         \n",
            "                                                                 \n",
            " dropout_1 (Dropout)         (None, 7, 7, 256)         0         \n",
            "                                                                 \n",
            " conv2d_3 (Conv2D)           (None, 1, 1, 1)           12545     \n",
            "                                                                 \n",
            " reshape_1 (Reshape)         (None, 1)                 0         \n",
            "                                                                 \n",
            "=================================================================\n",
            "Total params: 1,040,385\n",
            "Trainable params: 1,039,489\n",
            "Non-trainable params: 896\n",
            "_________________________________________________________________\n"
          ]
        }
      ],
      "source": [
        "gen_model = make_dcgan_generator()\n",
        "gen_model.summary()\n",
        "\n",
        "disc_model = make_dcgan_discriminator()\n",
        "disc_model.summary()"
      ]
    },
    {
      "cell_type": "markdown",
      "metadata": {
        "id": "72tpmJjOo6TV"
      },
      "source": [
        "## 두 분포 사이의 거리 측정하기"
      ]
    },
    {
      "cell_type": "code",
      "execution_count": 12,
      "metadata": {
        "colab": {
          "base_uri": "https://localhost:8080/",
          "height": 357
        },
        "id": "-bKtNGBbo6TV",
        "outputId": "1936460b-7770-4cf6-9195-e86db53dc3b3"
      },
      "outputs": [
        {
          "output_type": "execute_result",
          "data": {
            "text/html": [
              "<img src=\"https://git.io/JLjcf\" width=\"700\"/>"
            ],
            "text/plain": [
              "<IPython.core.display.Image object>"
            ]
          },
          "metadata": {},
          "execution_count": 12
        }
      ],
      "source": [
        "Image(url='https://git.io/JLjcf', width=700)"
      ]
    },
    {
      "cell_type": "code",
      "execution_count": 13,
      "metadata": {
        "colab": {
          "base_uri": "https://localhost:8080/",
          "height": 555
        },
        "id": "QGqJNr5so6TW",
        "outputId": "99e0f34a-af00-492d-b709-817ab9bf9067"
      },
      "outputs": [
        {
          "output_type": "execute_result",
          "data": {
            "text/html": [
              "<img src=\"https://git.io/JLjcJ\" width=\"800\"/>"
            ],
            "text/plain": [
              "<IPython.core.display.Image object>"
            ]
          },
          "metadata": {},
          "execution_count": 13
        }
      ],
      "source": [
        "Image(url='https://git.io/JLjcJ', width=800)"
      ]
    },
    {
      "cell_type": "markdown",
      "metadata": {
        "id": "MGNV_luKo6TW"
      },
      "source": [
        "## GAN에 EM 거리 사용하기\n",
        "\n",
        "## 그래디언트 페널티\n",
        "\n",
        "## WGAN-GP로 DCGAN 모델 훈련하기"
      ]
    },
    {
      "cell_type": "code",
      "execution_count": 14,
      "metadata": {
        "id": "-iAGk1Ta6xmQ",
        "outputId": "441e9dc9-7f70-4281-dc07-0e26d60f25c5",
        "colab": {
          "base_uri": "https://localhost:8080/",
          "height": 108,
          "referenced_widgets": [
            "bbc0ca253590442198268f0ab51d5b4b",
            "470d39a940e4416eb30cac1f2734014a",
            "d968d254d72d4ce28cef350dee68d078",
            "d1dcab1e505b49d1b3c54c6960de9aa1",
            "b18465bb66a74cfbb08b48fc13c9bf2f",
            "8ec2f7152d2f49c3a9564f4c4ff02e2b",
            "271465d935b747b79b1e56644e85f22b",
            "95b3ed1a7e2b49d0b4e7fe872758389a",
            "0d9b6d6d449a48b18c74abc627fa5e54",
            "8457caaf519049809c091bf48f3b215c",
            "35239203fbfb425dbca13a3db5ba0d85"
          ]
        }
      },
      "outputs": [
        {
          "output_type": "stream",
          "name": "stdout",
          "text": [
            "\u001b[1mDownloading and preparing dataset 11.06 MiB (download: 11.06 MiB, generated: 21.00 MiB, total: 32.06 MiB) to ~/tensorflow_datasets/mnist/3.0.1...\u001b[0m\n"
          ]
        },
        {
          "output_type": "display_data",
          "data": {
            "text/plain": [
              "Dl Completed...:   0%|          | 0/4 [00:00<?, ? file/s]"
            ],
            "application/vnd.jupyter.widget-view+json": {
              "version_major": 2,
              "version_minor": 0,
              "model_id": "bbc0ca253590442198268f0ab51d5b4b"
            }
          },
          "metadata": {}
        },
        {
          "output_type": "stream",
          "name": "stdout",
          "text": [
            "\u001b[1mDataset mnist downloaded and prepared to ~/tensorflow_datasets/mnist/3.0.1. Subsequent calls will reuse this data.\u001b[0m\n"
          ]
        }
      ],
      "source": [
        "mnist_bldr = tfds.builder('mnist')\n",
        "mnist_bldr.download_and_prepare()\n",
        "mnist = mnist_bldr.as_dataset(shuffle_files=False)\n",
        "\n",
        "def preprocess(ex, mode='uniform'):\n",
        "    image = ex['image']\n",
        "    image = tf.image.convert_image_dtype(image, tf.float32)\n",
        "\n",
        "    image = image*2 - 1.0\n",
        "    if mode == 'uniform':\n",
        "        input_z = tf.random.uniform(\n",
        "            shape=(z_size,), minval=-1.0, maxval=1.0)\n",
        "    elif mode == 'normal':\n",
        "        input_z = tf.random.normal(shape=(z_size,))\n",
        "    return input_z, image"
      ]
    },
    {
      "cell_type": "code",
      "execution_count": 15,
      "metadata": {
        "colab": {
          "base_uri": "https://localhost:8080/"
        },
        "id": "HCX0mOwEo6TW",
        "outputId": "ac212d8d-e660-4353-cd35-555fd94170cf"
      },
      "outputs": [
        {
          "output_type": "stream",
          "name": "stdout",
          "text": [
            "Model: \"sequential_2\"\n",
            "_________________________________________________________________\n",
            " Layer (type)                Output Shape              Param #   \n",
            "=================================================================\n",
            " dense_1 (Dense)             (None, 6272)              125440    \n",
            "                                                                 \n",
            " batch_normalization_7 (Batc  (None, 6272)             25088     \n",
            " hNormalization)                                                 \n",
            "                                                                 \n",
            " leaky_re_lu_7 (LeakyReLU)   (None, 6272)              0         \n",
            "                                                                 \n",
            " reshape_2 (Reshape)         (None, 7, 7, 128)         0         \n",
            "                                                                 \n",
            " conv2d_transpose_4 (Conv2DT  (None, 7, 7, 128)        409600    \n",
            " ranspose)                                                       \n",
            "                                                                 \n",
            " batch_normalization_8 (Batc  (None, 7, 7, 128)        512       \n",
            " hNormalization)                                                 \n",
            "                                                                 \n",
            " leaky_re_lu_8 (LeakyReLU)   (None, 7, 7, 128)         0         \n",
            "                                                                 \n",
            " conv2d_transpose_5 (Conv2DT  (None, 14, 14, 64)       204800    \n",
            " ranspose)                                                       \n",
            "                                                                 \n",
            " batch_normalization_9 (Batc  (None, 14, 14, 64)       256       \n",
            " hNormalization)                                                 \n",
            "                                                                 \n",
            " leaky_re_lu_9 (LeakyReLU)   (None, 14, 14, 64)        0         \n",
            "                                                                 \n",
            " conv2d_transpose_6 (Conv2DT  (None, 28, 28, 32)       51200     \n",
            " ranspose)                                                       \n",
            "                                                                 \n",
            " batch_normalization_10 (Bat  (None, 28, 28, 32)       128       \n",
            " chNormalization)                                                \n",
            "                                                                 \n",
            " leaky_re_lu_10 (LeakyReLU)  (None, 28, 28, 32)        0         \n",
            "                                                                 \n",
            " conv2d_transpose_7 (Conv2DT  (None, 28, 28, 1)        800       \n",
            " ranspose)                                                       \n",
            "                                                                 \n",
            "=================================================================\n",
            "Total params: 817,824\n",
            "Trainable params: 804,832\n",
            "Non-trainable params: 12,992\n",
            "_________________________________________________________________\n",
            "Model: \"sequential_3\"\n",
            "_________________________________________________________________\n",
            " Layer (type)                Output Shape              Param #   \n",
            "=================================================================\n",
            " conv2d_4 (Conv2D)           (None, 28, 28, 64)        1664      \n",
            "                                                                 \n",
            " batch_normalization_11 (Bat  (None, 28, 28, 64)       256       \n",
            " chNormalization)                                                \n",
            "                                                                 \n",
            " leaky_re_lu_11 (LeakyReLU)  (None, 28, 28, 64)        0         \n",
            "                                                                 \n",
            " conv2d_5 (Conv2D)           (None, 14, 14, 128)       204928    \n",
            "                                                                 \n",
            " batch_normalization_12 (Bat  (None, 14, 14, 128)      512       \n",
            " chNormalization)                                                \n",
            "                                                                 \n",
            " leaky_re_lu_12 (LeakyReLU)  (None, 14, 14, 128)       0         \n",
            "                                                                 \n",
            " dropout_2 (Dropout)         (None, 14, 14, 128)       0         \n",
            "                                                                 \n",
            " conv2d_6 (Conv2D)           (None, 7, 7, 256)         819456    \n",
            "                                                                 \n",
            " batch_normalization_13 (Bat  (None, 7, 7, 256)        1024      \n",
            " chNormalization)                                                \n",
            "                                                                 \n",
            " leaky_re_lu_13 (LeakyReLU)  (None, 7, 7, 256)         0         \n",
            "                                                                 \n",
            " dropout_3 (Dropout)         (None, 7, 7, 256)         0         \n",
            "                                                                 \n",
            " conv2d_7 (Conv2D)           (None, 1, 1, 1)           12545     \n",
            "                                                                 \n",
            " reshape_3 (Reshape)         (None, 1)                 0         \n",
            "                                                                 \n",
            "=================================================================\n",
            "Total params: 1,040,385\n",
            "Trainable params: 1,039,489\n",
            "Non-trainable params: 896\n",
            "_________________________________________________________________\n"
          ]
        }
      ],
      "source": [
        "num_epochs = 100\n",
        "batch_size = 128\n",
        "image_size = (28, 28)\n",
        "z_size = 20\n",
        "mode_z = 'uniform'\n",
        "lambda_gp = 10.0\n",
        "\n",
        "tf.random.set_seed(1)\n",
        "np.random.seed(1)\n",
        "\n",
        "## 데이터셋 준비\n",
        "mnist_trainset = mnist['train']\n",
        "mnist_trainset = mnist_trainset.map(preprocess)\n",
        "\n",
        "mnist_trainset = mnist_trainset.shuffle(10000)\n",
        "mnist_trainset = mnist_trainset.batch(\n",
        "    batch_size, drop_remainder=True)\n",
        "\n",
        "## 모델 생성\n",
        "with tf.device(device_name):\n",
        "    gen_model = make_dcgan_generator()\n",
        "    gen_model.build(input_shape=(None, z_size))\n",
        "    gen_model.summary()\n",
        "\n",
        "    disc_model = make_dcgan_discriminator()\n",
        "    disc_model.build(input_shape=(None, np.prod(image_size)))\n",
        "    disc_model.summary()"
      ]
    },
    {
      "cell_type": "code",
      "execution_count": 16,
      "metadata": {
        "colab": {
          "base_uri": "https://localhost:8080/"
        },
        "id": "caAjzvI_o6TW",
        "outputId": "440623d9-a0e1-4c62-f6d1-286710bff8e8"
      },
      "outputs": [
        {
          "output_type": "stream",
          "name": "stdout",
          "text": [
            "에포크   1 | 시간 1.82 min | 평균 손실 >> 생성자/판별자 311.62/-551.27 [판별자-진짜: -328.00 판별자-가짜: -311.62]\n",
            "에포크   2 | 시간 3.41 min | 평균 손실 >> 생성자/판별자 255.27/-201.28 [판별자-진짜: -169.10 판별자-가짜: -255.27]\n",
            "에포크   3 | 시간 5.00 min | 평균 손실 >> 생성자/판별자 185.56/-48.79 [판별자-진짜: -89.12 판별자-가짜: -185.56]\n",
            "에포크   4 | 시간 6.58 min | 평균 손실 >> 생성자/판별자 140.68/ 14.86 [판별자-진짜: -10.57 판별자-가짜: -140.68]\n",
            "에포크   5 | 시간 8.16 min | 평균 손실 >> 생성자/판별자  98.11/ 24.08 [판별자-진짜:   7.40 판별자-가짜: -98.11]\n",
            "에포크   6 | 시간 9.75 min | 평균 손실 >> 생성자/판별자  65.97/-18.58 [판별자-진짜:  -1.06 판별자-가짜: -65.97]\n",
            "에포크   7 | 시간 11.33 min | 평균 손실 >> 생성자/판별자  82.80/-22.51 [판별자-진짜:  33.83 판별자-가짜: -82.80]\n",
            "에포크   8 | 시간 12.92 min | 평균 손실 >> 생성자/판별자  73.58/-29.62 [판별자-진짜:  34.36 판별자-가짜: -73.58]\n",
            "에포크   9 | 시간 14.50 min | 평균 손실 >> 생성자/판별자  86.19/-42.77 [판별자-진짜:  30.48 판별자-가짜: -86.19]\n",
            "에포크  10 | 시간 16.09 min | 평균 손실 >> 생성자/판별자  71.59/-29.43 [판별자-진짜:  26.75 판별자-가짜: -71.59]\n",
            "에포크  11 | 시간 17.67 min | 평균 손실 >> 생성자/판별자  84.85/-22.40 [판별자-진짜:  47.75 판별자-가짜: -84.85]\n",
            "에포크  12 | 시간 19.25 min | 평균 손실 >> 생성자/판별자  91.67/-29.49 [판별자-진짜:  55.55 판별자-가짜: -91.67]\n",
            "에포크  13 | 시간 20.84 min | 평균 손실 >> 생성자/판별자  96.17/-40.93 [판별자-진짜:  47.33 판별자-가짜: -96.17]\n",
            "에포크  14 | 시간 22.42 min | 평균 손실 >> 생성자/판별자 126.52/-46.98 [판별자-진짜:  68.30 판별자-가짜: -126.52]\n",
            "에포크  15 | 시간 24.01 min | 평균 손실 >> 생성자/판별자 153.89/-40.68 [판별자-진짜: 100.99 판별자-가짜: -153.89]\n",
            "에포크  16 | 시간 25.59 min | 평균 손실 >> 생성자/판별자 118.02/-43.62 [판별자-진짜:  60.42 판별자-가짜: -118.02]\n",
            "에포크  17 | 시간 27.18 min | 평균 손실 >> 생성자/판별자 116.98/-45.01 [판별자-진짜:  53.18 판별자-가짜: -116.98]\n",
            "에포크  18 | 시간 28.76 min | 평균 손실 >> 생성자/판별자 150.13/-44.80 [판별자-진짜:  90.60 판별자-가짜: -150.13]\n",
            "에포크  19 | 시간 30.34 min | 평균 손실 >> 생성자/판별자 144.09/-40.88 [판별자-진짜:  88.79 판별자-가짜: -144.09]\n",
            "에포크  20 | 시간 31.93 min | 평균 손실 >> 생성자/판별자 141.30/-32.82 [판별자-진짜:  91.35 판별자-가짜: -141.30]\n",
            "에포크  21 | 시간 33.51 min | 평균 손실 >> 생성자/판별자 159.77/-44.61 [판별자-진짜: 105.93 판별자-가짜: -159.77]\n",
            "에포크  22 | 시간 35.09 min | 평균 손실 >> 생성자/판별자 108.20/ -1.17 [판별자-진짜:  58.03 판별자-가짜: -108.20]\n",
            "에포크  23 | 시간 36.68 min | 평균 손실 >> 생성자/판별자 134.28/-44.48 [판별자-진짜:  81.16 판별자-가짜: -134.28]\n",
            "에포크  24 | 시간 38.26 min | 평균 손실 >> 생성자/판별자 146.29/-58.94 [판별자-진짜:  77.62 판별자-가짜: -146.29]\n",
            "에포크  25 | 시간 39.85 min | 평균 손실 >> 생성자/판별자 140.99/-55.65 [판별자-진짜:  69.91 판별자-가짜: -140.99]\n",
            "에포크  26 | 시간 41.43 min | 평균 손실 >> 생성자/판별자 151.62/-44.47 [판별자-진짜:  92.32 판별자-가짜: -151.62]\n",
            "에포크  27 | 시간 43.01 min | 평균 손실 >> 생성자/판별자 179.80/-53.86 [판별자-진짜: 110.22 판별자-가짜: -179.80]\n",
            "에포크  28 | 시간 44.60 min | 평균 손실 >> 생성자/판별자 177.65/-45.49 [판별자-진짜: 109.88 판별자-가짜: -177.65]\n",
            "에포크  29 | 시간 46.19 min | 평균 손실 >> 생성자/판별자 210.68/-46.93 [판별자-진짜: 141.23 판별자-가짜: -210.68]\n",
            "에포크  30 | 시간 47.77 min | 평균 손실 >> 생성자/판별자 201.47/-44.59 [판별자-진짜: 135.42 판별자-가짜: -201.47]\n",
            "에포크  31 | 시간 49.36 min | 평균 손실 >> 생성자/판별자 190.77/-56.09 [판별자-진짜: 116.51 판별자-가짜: -190.77]\n",
            "에포크  32 | 시간 50.94 min | 평균 손실 >> 생성자/판별자 224.15/-53.33 [판별자-진짜: 152.39 판별자-가짜: -224.15]\n",
            "에포크  33 | 시간 52.52 min | 평균 손실 >> 생성자/판별자 235.62/-56.24 [판별자-진짜: 163.49 판별자-가짜: -235.62]\n",
            "에포크  34 | 시간 54.11 min | 평균 손실 >> 생성자/판별자 200.36/-51.20 [판별자-진짜: 129.56 판별자-가짜: -200.36]\n",
            "에포크  35 | 시간 55.69 min | 평균 손실 >> 생성자/판별자 246.65/-53.29 [판별자-진짜: 171.06 판별자-가짜: -246.65]\n",
            "에포크  36 | 시간 57.27 min | 평균 손실 >> 생성자/판별자 335.80/-27.35 [판별자-진짜: 280.63 판별자-가짜: -335.80]\n",
            "에포크  37 | 시간 58.86 min | 평균 손실 >> 생성자/판별자 279.76/-47.07 [판별자-진짜: 225.67 판별자-가짜: -279.76]\n",
            "에포크  38 | 시간 60.44 min | 평균 손실 >> 생성자/판별자 270.88/-54.94 [판별자-진짜: 199.56 판별자-가짜: -270.88]\n",
            "에포크  39 | 시간 62.03 min | 평균 손실 >> 생성자/판별자 368.23/-49.49 [판별자-진짜: 302.25 판별자-가짜: -368.23]\n",
            "에포크  40 | 시간 63.61 min | 평균 손실 >> 생성자/판별자 329.47/-10.47 [판별자-진짜: 265.31 판별자-가짜: -329.47]\n",
            "에포크  41 | 시간 65.19 min | 평균 손실 >> 생성자/판별자 373.53/-34.52 [판별자-진짜: 329.56 판별자-가짜: -373.53]\n",
            "에포크  42 | 시간 66.78 min | 평균 손실 >> 생성자/판별자 361.62/-59.65 [판별자-진짜: 293.36 판별자-가짜: -361.62]\n",
            "에포크  43 | 시간 68.36 min | 평균 손실 >> 생성자/판별자 359.16/-53.03 [판별자-진짜: 291.14 판별자-가짜: -359.16]\n",
            "에포크  44 | 시간 69.95 min | 평균 손실 >> 생성자/판별자 449.65/-66.69 [판별자-진짜: 372.65 판별자-가짜: -449.65]\n",
            "에포크  45 | 시간 71.54 min | 평균 손실 >> 생성자/판별자 406.72/-52.82 [판별자-진짜: 347.18 판별자-가짜: -406.72]\n",
            "에포크  46 | 시간 73.13 min | 평균 손실 >> 생성자/판별자 463.26/-58.01 [판별자-진짜: 384.06 판별자-가짜: -463.26]\n",
            "에포크  47 | 시간 74.71 min | 평균 손실 >> 생성자/판별자 513.92/-64.02 [판별자-진짜: 437.88 판별자-가짜: -513.92]\n",
            "에포크  48 | 시간 76.29 min | 평균 손실 >> 생성자/판별자 573.55/-71.91 [판별자-진짜: 485.77 판별자-가짜: -573.55]\n",
            "에포크  49 | 시간 77.88 min | 평균 손실 >> 생성자/판별자 601.94/-18.77 [판별자-진짜: 539.46 판별자-가짜: -601.94]\n",
            "에포크  50 | 시간 79.46 min | 평균 손실 >> 생성자/판별자 623.44/-58.02 [판별자-진짜: 555.19 판별자-가짜: -623.44]\n",
            "에포크  51 | 시간 81.04 min | 평균 손실 >> 생성자/판별자 614.57/-68.75 [판별자-진짜: 535.04 판별자-가짜: -614.57]\n",
            "에포크  52 | 시간 82.63 min | 평균 손실 >> 생성자/판별자 620.85/-72.54 [판별자-진짜: 533.58 판별자-가짜: -620.85]\n",
            "에포크  53 | 시간 84.21 min | 평균 손실 >> 생성자/판별자 643.60/-70.28 [판별자-진짜: 552.42 판별자-가짜: -643.60]\n",
            "에포크  54 | 시간 85.79 min | 평균 손실 >> 생성자/판별자 656.45/-65.58 [판별자-진짜: 577.44 판별자-가짜: -656.45]\n",
            "에포크  55 | 시간 87.38 min | 평균 손실 >> 생성자/판별자 750.80/-74.32 [판별자-진짜: 665.63 판별자-가짜: -750.80]\n",
            "에포크  56 | 시간 88.96 min | 평균 손실 >> 생성자/판별자 667.70/-69.94 [판별자-진짜: 580.88 판별자-가짜: -667.70]\n",
            "에포크  57 | 시간 90.54 min | 평균 손실 >> 생성자/판별자 773.95/-93.52 [판별자-진짜: 660.64 판별자-가짜: -773.95]\n",
            "에포크  58 | 시간 92.13 min | 평균 손실 >> 생성자/판별자 771.88/127.66 [판별자-진짜: 686.28 판별자-가짜: -771.88]\n",
            "에포크  59 | 시간 93.71 min | 평균 손실 >> 생성자/판별자 782.42/-71.34 [판별자-진짜: 690.86 판별자-가짜: -782.42]\n",
            "에포크  60 | 시간 95.30 min | 평균 손실 >> 생성자/판별자 590.50/-52.65 [판별자-진짜: 534.65 판별자-가짜: -590.50]\n",
            "에포크  61 | 시간 96.88 min | 평균 손실 >> 생성자/판별자 664.69/-67.28 [판별자-진짜: 592.99 판별자-가짜: -664.69]\n",
            "에포크  62 | 시간 98.47 min | 평균 손실 >> 생성자/판별자 805.92/-78.29 [판별자-진짜: 716.00 판별자-가짜: -805.92]\n",
            "에포크  63 | 시간 100.05 min | 평균 손실 >> 생성자/판별자 824.30/-81.32 [판별자-진짜: 733.55 판별자-가짜: -824.30]\n",
            "에포크  64 | 시간 101.63 min | 평균 손실 >> 생성자/판별자 871.79/-87.04 [판별자-진짜: 778.47 판별자-가짜: -871.79]\n",
            "에포크  65 | 시간 103.22 min | 평균 손실 >> 생성자/판별자 857.60/-92.66 [판별자-진짜: 757.69 판별자-가짜: -857.60]\n",
            "에포크  66 | 시간 104.80 min | 평균 손실 >> 생성자/판별자 1012.38/-106.88 [판별자-진짜: 886.62 판별자-가짜: -1012.38]\n",
            "에포크  67 | 시간 107.16 min | 평균 손실 >> 생성자/판별자 965.46/-113.93 [판별자-진짜: 834.17 판별자-가짜: -965.46]\n",
            "에포크  68 | 시간 108.73 min | 평균 손실 >> 생성자/판별자 929.09/-108.69 [판별자-진짜: 801.60 판별자-가짜: -929.09]\n",
            "에포크  69 | 시간 110.32 min | 평균 손실 >> 생성자/판별자 882.33/-94.45 [판별자-진짜: 779.14 판별자-가짜: -882.33]\n",
            "에포크  70 | 시간 111.90 min | 평균 손실 >> 생성자/판별자 1186.24/-108.78 [판별자-진짜: 1061.28 판별자-가짜: -1186.24]\n",
            "에포크  71 | 시간 113.49 min | 평균 손실 >> 생성자/판별자 1172.23/-105.52 [판별자-진짜: 1027.48 판별자-가짜: -1172.23]\n",
            "에포크  72 | 시간 115.07 min | 평균 손실 >> 생성자/판별자 1250.75/-161.27 [판별자-진짜: 1064.41 판별자-가짜: -1250.75]\n",
            "에포크  73 | 시간 116.66 min | 평균 손실 >> 생성자/판별자 969.57/-89.49 [판별자-진짜: 850.47 판별자-가짜: -969.57]\n",
            "에포크  74 | 시간 118.24 min | 평균 손실 >> 생성자/판별자 1189.79/-101.98 [판별자-진짜: 1050.26 판별자-가짜: -1189.79]\n",
            "에포크  75 | 시간 119.83 min | 평균 손실 >> 생성자/판별자 1331.50/-157.32 [판별자-진짜: 1152.30 판별자-가짜: -1331.50]\n",
            "에포크  76 | 시간 121.41 min | 평균 손실 >> 생성자/판별자 1405.19/-151.72 [판별자-진짜: 1231.70 판별자-가짜: -1405.19]\n",
            "에포크  77 | 시간 122.99 min | 평균 손실 >> 생성자/판별자 1629.71/-175.44 [판별자-진짜: 1431.93 판별자-가짜: -1629.71]\n",
            "에포크  78 | 시간 124.58 min | 평균 손실 >> 생성자/판별자 1445.96/-136.31 [판별자-진짜: 1263.40 판별자-가짜: -1445.96]\n",
            "에포크  79 | 시간 126.16 min | 평균 손실 >> 생성자/판별자 1488.54/-163.61 [판별자-진짜: 1303.30 판별자-가짜: -1488.54]\n",
            "에포크  80 | 시간 127.74 min | 평균 손실 >> 생성자/판별자 1464.63/-153.18 [판별자-진짜: 1283.15 판별자-가짜: -1464.63]\n",
            "에포크  81 | 시간 129.33 min | 평균 손실 >> 생성자/판별자 1857.12/-230.94 [판별자-진짜: 1605.03 판별자-가짜: -1857.12]\n",
            "에포크  82 | 시간 130.91 min | 평균 손실 >> 생성자/판별자 1943.32/-246.94 [판별자-진짜: 1672.39 판별자-가짜: -1943.32]\n",
            "에포크  83 | 시간 132.50 min | 평균 손실 >> 생성자/판별자 2113.90/-243.13 [판별자-진짜: 1810.45 판별자-가짜: -2113.90]\n",
            "에포크  84 | 시간 134.08 min | 평균 손실 >> 생성자/판별자 2030.72/-305.80 [판별자-진짜: 1708.08 판별자-가짜: -2030.72]\n",
            "에포크  85 | 시간 135.67 min | 평균 손실 >> 생성자/판별자 2302.03/-321.52 [판별자-진짜: 1964.85 판별자-가짜: -2302.03]\n",
            "에포크  86 | 시간 137.25 min | 평균 손실 >> 생성자/판별자 2391.27/-279.35 [판별자-진짜: 2031.25 판별자-가짜: -2391.27]\n",
            "에포크  87 | 시간 138.84 min | 평균 손실 >> 생성자/판별자 2541.60/-432.15 [판별자-진짜: 2086.07 판별자-가짜: -2541.60]\n",
            "에포크  88 | 시간 140.42 min | 평균 손실 >> 생성자/판별자 2464.27/-430.55 [판별자-진짜: 2016.78 판별자-가짜: -2464.27]\n",
            "에포크  89 | 시간 142.01 min | 평균 손실 >> 생성자/판별자 2713.69/-148.00 [판별자-진짜: 2350.53 판별자-가짜: -2713.69]\n",
            "에포크  90 | 시간 143.59 min | 평균 손실 >> 생성자/판별자 2828.21/-443.15 [판별자-진짜: 2371.98 판별자-가짜: -2828.21]\n",
            "에포크  91 | 시간 145.17 min | 평균 손실 >> 생성자/판별자 2907.70/-508.64 [판별자-진짜: 2364.77 판별자-가짜: -2907.70]\n",
            "에포크  92 | 시간 146.75 min | 평균 손실 >> 생성자/판별자 3006.65/-548.35 [판별자-진짜: 2424.00 판별자-가짜: -3006.65]\n",
            "에포크  93 | 시간 148.34 min | 평균 손실 >> 생성자/판별자 2774.77/-527.80 [판별자-진짜: 2213.89 판별자-가짜: -2774.77]\n",
            "에포크  94 | 시간 149.92 min | 평균 손실 >> 생성자/판별자 2775.83/-412.98 [판별자-진짜: 2252.21 판별자-가짜: -2775.83]\n",
            "에포크  95 | 시간 152.29 min | 평균 손실 >> 생성자/판별자 2727.74/-502.61 [판별자-진짜: 2202.26 판별자-가짜: -2727.74]\n",
            "에포크  96 | 시간 153.87 min | 평균 손실 >> 생성자/판별자 3332.52/-561.73 [판별자-진짜: 2730.78 판별자-가짜: -3332.52]\n",
            "에포크  97 | 시간 155.45 min | 평균 손실 >> 생성자/판별자 2750.60/-455.44 [판별자-진짜: 2258.68 판별자-가짜: -2750.60]\n",
            "에포크  98 | 시간 157.04 min | 평균 손실 >> 생성자/판별자 3560.56/-614.54 [판별자-진짜: 2908.79 판별자-가짜: -3560.56]\n",
            "에포크  99 | 시간 158.62 min | 평균 손실 >> 생성자/판별자 3605.53/-676.19 [판별자-진짜: 2890.99 판별자-가짜: -3605.53]\n",
            "에포크 100 | 시간 160.20 min | 평균 손실 >> 생성자/판별자 4008.80/-676.90 [판별자-진짜: 3248.59 판별자-가짜: -4008.80]\n"
          ]
        }
      ],
      "source": [
        "import time\n",
        "\n",
        "\n",
        "## 옵티마이저:\n",
        "g_optimizer = tf.keras.optimizers.Adam(0.0002)\n",
        "d_optimizer = tf.keras.optimizers.Adam(0.0002)\n",
        "\n",
        "if mode_z == 'uniform':\n",
        "    fixed_z = tf.random.uniform(\n",
        "        shape=(batch_size, z_size),\n",
        "        minval=-1, maxval=1)\n",
        "elif mode_z == 'normal':\n",
        "    fixed_z = tf.random.normal(\n",
        "        shape=(batch_size, z_size))\n",
        "\n",
        "def create_samples(g_model, input_z):\n",
        "    g_output = g_model(input_z, training=False)\n",
        "    images = tf.reshape(g_output, (batch_size, *image_size))    \n",
        "    return (images+1)/2.0\n",
        "\n",
        "all_losses = []\n",
        "epoch_samples = []\n",
        "\n",
        "start_time = time.time()\n",
        "\n",
        "for epoch in range(1, num_epochs+1):\n",
        "    epoch_losses = []\n",
        "    for i,(input_z,input_real) in enumerate(mnist_trainset):\n",
        "        \n",
        "        with tf.GradientTape() as d_tape, tf.GradientTape() as g_tape:\n",
        "            g_output = gen_model(input_z, training=True)\n",
        "            \n",
        "            d_critics_real = disc_model(input_real, training=True)\n",
        "            d_critics_fake = disc_model(g_output, training=True)\n",
        "\n",
        "            ## 생성자 손실을 계산합니다:\n",
        "            g_loss = -tf.math.reduce_mean(d_critics_fake)\n",
        "\n",
        "            ## 판별자 손실을 계산합니다:\n",
        "            d_loss_real = -tf.math.reduce_mean(d_critics_real)\n",
        "            d_loss_fake =  tf.math.reduce_mean(d_critics_fake)\n",
        "            d_loss = d_loss_real + d_loss_fake\n",
        "\n",
        "            ## 그래디언트 페널티:\n",
        "            with tf.GradientTape() as gp_tape:\n",
        "                alpha = tf.random.uniform(\n",
        "                    shape=[d_critics_real.shape[0], 1, 1, 1], \n",
        "                    minval=0.0, maxval=1.0)\n",
        "                interpolated = (\n",
        "                    alpha*input_real + (1-alpha)*g_output)\n",
        "                gp_tape.watch(interpolated)\n",
        "                d_critics_intp = disc_model(interpolated)\n",
        "            \n",
        "            grads_intp = gp_tape.gradient(\n",
        "                d_critics_intp, [interpolated,])[0]\n",
        "            grads_intp_l2 = tf.sqrt(\n",
        "                tf.reduce_sum(tf.square(grads_intp), axis=[1, 2, 3]))\n",
        "            grad_penalty = tf.reduce_mean(tf.square(grads_intp_l2 - 1.0))\n",
        "        \n",
        "            d_loss = d_loss + lambda_gp*grad_penalty\n",
        "        \n",
        "        ## 최적화: 그래디언트를 계산하고 적용합니다\n",
        "        d_grads = d_tape.gradient(d_loss, disc_model.trainable_variables)\n",
        "        d_optimizer.apply_gradients(\n",
        "            grads_and_vars=zip(d_grads, disc_model.trainable_variables))\n",
        "        \n",
        "        g_grads = g_tape.gradient(g_loss, gen_model.trainable_variables)\n",
        "        g_optimizer.apply_gradients(\n",
        "            grads_and_vars=zip(g_grads, gen_model.trainable_variables))\n",
        "\n",
        "        epoch_losses.append(\n",
        "            (g_loss.numpy(), d_loss.numpy(), \n",
        "             d_loss_real.numpy(), d_loss_fake.numpy()))\n",
        "                    \n",
        "    all_losses.append(epoch_losses)\n",
        "    \n",
        "    print('에포크 {:-3d} | 시간 {:.2f} min | 평균 손실 >>'\n",
        "          ' 생성자/판별자 {:6.2f}/{:6.2f} [판별자-진짜: {:6.2f} 판별자-가짜: {:6.2f}]'\n",
        "          .format(epoch, (time.time() - start_time)/60, \n",
        "                  *list(np.mean(all_losses[-1], axis=0)))\n",
        "    )\n",
        "    \n",
        "    epoch_samples.append(\n",
        "        create_samples(gen_model, fixed_z).numpy()\n",
        "    )"
      ]
    },
    {
      "cell_type": "code",
      "execution_count": 17,
      "metadata": {
        "colab": {
          "base_uri": "https://localhost:8080/",
          "height": 458
        },
        "id": "EhyoIu75o6TX",
        "outputId": "c86bcb88-f7aa-400c-af89-b79575f5159a"
      },
      "outputs": [
        {
          "output_type": "display_data",
          "data": {
            "text/plain": [
              "<Figure size 576x432 with 2 Axes>"
            ],
            "image/png": "[encoded data removed]"
          },
          "metadata": {
            "needs_background": "light"
          }
        }
      ],
      "source": [
        "import itertools\n",
        "\n",
        "\n",
        "fig = plt.figure(figsize=(8, 6))\n",
        "\n",
        "## 손실 그래프\n",
        "ax = fig.add_subplot(1, 1, 1)\n",
        "g_losses = [item[0] for item in itertools.chain(*all_losses)]\n",
        "d_losses = [item[1] for item in itertools.chain(*all_losses)]\n",
        "plt.plot(g_losses, label='Generator loss', alpha=0.95)\n",
        "plt.plot(d_losses, label='Discriminator loss', alpha=0.95)\n",
        "plt.legend(fontsize=20)\n",
        "ax.set_xlabel('Iteration', size=15)\n",
        "ax.set_ylabel('Loss', size=15)\n",
        "\n",
        "epochs = np.arange(1, 101)\n",
        "epoch2iter = lambda e: e*len(all_losses[-1])\n",
        "epoch_ticks = [1, 20, 40, 60, 80, 100]\n",
        "newpos   = [epoch2iter(e) for e in epoch_ticks]\n",
        "ax2 = ax.twiny()\n",
        "ax2.set_xticks(newpos)\n",
        "ax2.set_xticklabels(epoch_ticks)\n",
        "ax2.xaxis.set_ticks_position('bottom')\n",
        "ax2.xaxis.set_label_position('bottom')\n",
        "ax2.spines['bottom'].set_position(('outward', 60))\n",
        "ax2.set_xlabel('Epoch', size=15)\n",
        "ax2.set_xlim(ax.get_xlim())\n",
        "ax.tick_params(axis='both', which='major', labelsize=15)\n",
        "ax2.tick_params(axis='both', which='major', labelsize=15)\n",
        "\n",
        "plt.show()"
      ]
    },
    {
      "cell_type": "code",
      "execution_count": 18,
      "metadata": {
        "colab": {
          "base_uri": "https://localhost:8080/",
          "height": 783
        },
        "id": "FPW5iPQeo6TX",
        "outputId": "ce48fa6f-bdb9-4912-afd6-9d81b16ef0da"
      },
      "outputs": [
        {
          "output_type": "display_data",
          "data": {
            "text/plain": [
              "<Figure size 720x1008 with 30 Axes>"
            ],
            "image/png": "[encoded data removed]"
          },
          "metadata": {}
        }
      ],
      "source": [
        "selected_epochs = [1, 2, 4, 10, 50, 100]\n",
        "fig = plt.figure(figsize=(10, 14))\n",
        "for i,e in enumerate(selected_epochs):\n",
        "    for j in range(5):\n",
        "        ax = fig.add_subplot(6, 5, i*5+j+1)\n",
        "        ax.set_xticks([])\n",
        "        ax.set_yticks([])\n",
        "        if j == 0:\n",
        "            ax.text(\n",
        "                -0.06, 0.5, 'Epoch {}'.format(e),\n",
        "                rotation=90, size=18, color='red',\n",
        "                horizontalalignment='right',\n",
        "                verticalalignment='center', \n",
        "                transform=ax.transAxes)\n",
        "        \n",
        "        image = epoch_samples[e-1][j]\n",
        "        ax.imshow(image, cmap='gray_r')\n",
        "\n",
        "plt.show()"
      ]
    },
    {
      "cell_type": "markdown",
      "metadata": {
        "id": "YBrkP6vWo6TY"
      },
      "source": [
        "## 모드 붕괴"
      ]
    },
    {
      "cell_type": "code",
      "execution_count": 19,
      "metadata": {
        "colab": {
          "base_uri": "https://localhost:8080/",
          "height": 622
        },
        "id": "y0a0y7LEo6TY",
        "outputId": "ea9bea59-4dc6-4414-e1b7-0473edcac8e4"
      },
      "outputs": [
        {
          "output_type": "execute_result",
          "data": {
            "text/html": [
              "<img src=\"https://git.io/JLjcT\" width=\"600\"/>"
            ],
            "text/plain": [
              "<IPython.core.display.Image object>"
            ]
          },
          "metadata": {},
          "execution_count": 19
        }
      ],
      "source": [
        "Image(url='https://git.io/JLjcT', width=600)"
      ]
    }
  ],
  "metadata": {
    "accelerator": "GPU",
    "colab": {
      "collapsed_sections": [],
      "machine_shape": "hm",
      "name": "ch17-DCGAN.ipynb",
      "provenance": []
    },
    "kernelspec": {
      "display_name": "Python 3",
      "language": "python",
      "name": "python3"
    },
    "language_info": {
      "codemirror_mode": {
        "name": "ipython",
        "version": 3
      },
      "file_extension": ".py",
      "mimetype": "text/x-python",
      "name": "python",
      "nbconvert_exporter": "python",
      "pygments_lexer": "ipython3",
      "version": "3.7.3"
    },
    "widgets": {
      "application/vnd.jupyter.widget-state+json": {
        "bbc0ca253590442198268f0ab51d5b4b": {
          "model_module": "@jupyter-widgets/controls",
          "model_name": "HBoxModel",
          "model_module_version": "1.5.0",
          "state": {
            "_dom_classes": [],
            "_model_module": "@jupyter-widgets/controls",
            "_model_module_version": "1.5.0",
            "_model_name": "HBoxModel",
            "_view_count": null,
            "_view_module": "@jupyter-widgets/controls",
            "_view_module_version": "1.5.0",
            "_view_name": "HBoxView",
            "box_style": "",
            "children": [
              "IPY_MODEL_470d39a940e4416eb30cac1f2734014a",
              "IPY_MODEL_d968d254d72d4ce28cef350dee68d078",
              "IPY_MODEL_d1dcab1e505b49d1b3c54c6960de9aa1"
            ],
            "layout": "IPY_MODEL_b18465bb66a74cfbb08b48fc13c9bf2f"
          }
        },
        "470d39a940e4416eb30cac1f2734014a": {
          "model_module": "@jupyter-widgets/controls",
          "model_name": "HTMLModel",
          "model_module_version": "1.5.0",
          "state": {
            "_dom_classes": [],
            "_model_module": "@jupyter-widgets/controls",
            "_model_module_version": "1.5.0",
            "_model_name": "HTMLModel",
            "_view_count": null,
            "_view_module": "@jupyter-widgets/controls",
            "_view_module_version": "1.5.0",
            "_view_name": "HTMLView",
            "description": "",
            "description_tooltip": null,
            "layout": "IPY_MODEL_8ec2f7152d2f49c3a9564f4c4ff02e2b",
            "placeholder": "​",
            "style": "IPY_MODEL_271465d935b747b79b1e56644e85f22b",
            "value": "Dl Completed...: 100%"
          }
        },
        "d968d254d72d4ce28cef350dee68d078": {
          "model_module": "@jupyter-widgets/controls",
          "model_name": "FloatProgressModel",
          "model_module_version": "1.5.0",
          "state": {
            "_dom_classes": [],
            "_model_module": "@jupyter-widgets/controls",
            "_model_module_version": "1.5.0",
            "_model_name": "FloatProgressModel",
            "_view_count": null,
            "_view_module": "@jupyter-widgets/controls",
            "_view_module_version": "1.5.0",
            "_view_name": "ProgressView",
            "bar_style": "success",
            "description": "",
            "description_tooltip": null,
            "layout": "IPY_MODEL_95b3ed1a7e2b49d0b4e7fe872758389a",
            "max": 4,
            "min": 0,
            "orientation": "horizontal",
            "style": "IPY_MODEL_0d9b6d6d449a48b18c74abc627fa5e54",
            "value": 4
          }
        },
        "d1dcab1e505b49d1b3c54c6960de9aa1": {
          "model_module": "@jupyter-widgets/controls",
          "model_name": "HTMLModel",
          "model_module_version": "1.5.0",
          "state": {
            "_dom_classes": [],
            "_model_module": "@jupyter-widgets/controls",
            "_model_module_version": "1.5.0",
            "_model_name": "HTMLModel",
            "_view_count": null,
            "_view_module": "@jupyter-widgets/controls",
            "_view_module_version": "1.5.0",
            "_view_name": "HTMLView",
            "description": "",
            "description_tooltip": null,
            "layout": "IPY_MODEL_8457caaf519049809c091bf48f3b215c",
            "placeholder": "​",
            "style": "IPY_MODEL_35239203fbfb425dbca13a3db5ba0d85",
            "value": " 4/4 [00:00&lt;00:00,  5.76 file/s]"
          }
        },
        "b18465bb66a74cfbb08b48fc13c9bf2f": {
          "model_module": "@jupyter-widgets/base",
          "model_name": "LayoutModel",
          "model_module_version": "1.2.0",
          "state": {
            "_model_module": "@jupyter-widgets/base",
            "_model_module_version": "1.2.0",
            "_model_name": "LayoutModel",
            "_view_count": null,
            "_view_module": "@jupyter-widgets/base",
            "_view_module_version": "1.2.0",
            "_view_name": "LayoutView",
            "align_content": null,
            "align_items": null,
            "align_self": null,
            "border": null,
            "bottom": null,
            "display": null,
            "flex": null,
            "flex_flow": null,
            "grid_area": null,
            "grid_auto_columns": null,
            "grid_auto_flow": null,
            "grid_auto_rows": null,
            "grid_column": null,
            "grid_gap": null,
            "grid_row": null,
            "grid_template_areas": null,
            "grid_template_columns": null,
            "grid_template_rows": null,
            "height": null,
            "justify_content": null,
            "justify_items": null,
            "left": null,
            "margin": null,
            "max_height": null,
            "max_width": null,
            "min_height": null,
            "min_width": null,
            "object_fit": null,
            "object_position": null,
            "order": null,
            "overflow": null,
            "overflow_x": null,
            "overflow_y": null,
            "padding": null,
            "right": null,
            "top": null,
            "visibility": null,
            "width": null
          }
        },
        "8ec2f7152d2f49c3a9564f4c4ff02e2b": {
          "model_module": "@jupyter-widgets/base",
          "model_name": "LayoutModel",
          "model_module_version": "1.2.0",
          "state": {
            "_model_module": "@jupyter-widgets/base",
            "_model_module_version": "1.2.0",
            "_model_name": "LayoutModel",
            "_view_count": null,
            "_view_module": "@jupyter-widgets/base",
            "_view_module_version": "1.2.0",
            "_view_name": "LayoutView",
            "align_content": null,
            "align_items": null,
            "align_self": null,
            "border": null,
            "bottom": null,
            "display": null,
            "flex": null,
            "flex_flow": null,
            "grid_area": null,
            "grid_auto_columns": null,
            "grid_auto_flow": null,
            "grid_auto_rows": null,
            "grid_column": null,
            "grid_gap": null,
            "grid_row": null,
            "grid_template_areas": null,
            "grid_template_columns": null,
            "grid_template_rows": null,
            "height": null,
            "justify_content": null,
            "justify_items": null,
            "left": null,
            "margin": null,
            "max_height": null,
            "max_width": null,
            "min_height": null,
            "min_width": null,
            "object_fit": null,
            "object_position": null,
            "order": null,
            "overflow": null,
            "overflow_x": null,
            "overflow_y": null,
            "padding": null,
            "right": null,
            "top": null,
            "visibility": null,
            "width": null
          }
        },
        "271465d935b747b79b1e56644e85f22b": {
          "model_module": "@jupyter-widgets/controls",
          "model_name": "DescriptionStyleModel",
          "model_module_version": "1.5.0",
          "state": {
            "_model_module": "@jupyter-widgets/controls",
            "_model_module_version": "1.5.0",
            "_model_name": "DescriptionStyleModel",
            "_view_count": null,
            "_view_module": "@jupyter-widgets/base",
            "_view_module_version": "1.2.0",
            "_view_name": "StyleView",
            "description_width": ""
          }
        },
        "95b3ed1a7e2b49d0b4e7fe872758389a": {
          "model_module": "@jupyter-widgets/base",
          "model_name": "LayoutModel",
          "model_module_version": "1.2.0",
          "state": {
            "_model_module": "@jupyter-widgets/base",
            "_model_module_version": "1.2.0",
            "_model_name": "LayoutModel",
            "_view_count": null,
            "_view_module": "@jupyter-widgets/base",
            "_view_module_version": "1.2.0",
            "_view_name": "LayoutView",
            "align_content": null,
            "align_items": null,
            "align_self": null,
            "border": null,
            "bottom": null,
            "display": null,
            "flex": null,
            "flex_flow": null,
            "grid_area": null,
            "grid_auto_columns": null,
            "grid_auto_flow": null,
            "grid_auto_rows": null,
            "grid_column": null,
            "grid_gap": null,
            "grid_row": null,
            "grid_template_areas": null,
            "grid_template_columns": null,
            "grid_template_rows": null,
            "height": null,
            "justify_content": null,
            "justify_items": null,
            "left": null,
            "margin": null,
            "max_height": null,
            "max_width": null,
            "min_height": null,
            "min_width": null,
            "object_fit": null,
            "object_position": null,
            "order": null,
            "overflow": null,
            "overflow_x": null,
            "overflow_y": null,
            "padding": null,
            "right": null,
            "top": null,
            "visibility": null,
            "width": null
          }
        },
        "0d9b6d6d449a48b18c74abc627fa5e54": {
          "model_module": "@jupyter-widgets/controls",
          "model_name": "ProgressStyleModel",
          "model_module_version": "1.5.0",
          "state": {
            "_model_module": "@jupyter-widgets/controls",
            "_model_module_version": "1.5.0",
            "_model_name": "ProgressStyleModel",
            "_view_count": null,
            "_view_module": "@jupyter-widgets/base",
            "_view_module_version": "1.2.0",
            "_view_name": "StyleView",
            "bar_color": null,
            "description_width": ""
          }
        },
        "8457caaf519049809c091bf48f3b215c": {
          "model_module": "@jupyter-widgets/base",
          "model_name": "LayoutModel",
          "model_module_version": "1.2.0",
          "state": {
            "_model_module": "@jupyter-widgets/base",
            "_model_module_version": "1.2.0",
            "_model_name": "LayoutModel",
            "_view_count": null,
            "_view_module": "@jupyter-widgets/base",
            "_view_module_version": "1.2.0",
            "_view_name": "LayoutView",
            "align_content": null,
            "align_items": null,
            "align_self": null,
            "border": null,
            "bottom": null,
            "display": null,
            "flex": null,
            "flex_flow": null,
            "grid_area": null,
            "grid_auto_columns": null,
            "grid_auto_flow": null,
            "grid_auto_rows": null,
            "grid_column": null,
            "grid_gap": null,
            "grid_row": null,
            "grid_template_areas": null,
            "grid_template_columns": null,
            "grid_template_rows": null,
            "height": null,
            "justify_content": null,
            "justify_items": null,
            "left": null,
            "margin": null,
            "max_height": null,
            "max_width": null,
            "min_height": null,
            "min_width": null,
            "object_fit": null,
            "object_position": null,
            "order": null,
            "overflow": null,
            "overflow_x": null,
            "overflow_y": null,
            "padding": null,
            "right": null,
            "top": null,
            "visibility": null,
            "width": null
          }
        },
        "35239203fbfb425dbca13a3db5ba0d85": {
          "model_module": "@jupyter-widgets/controls",
          "model_name": "DescriptionStyleModel",
          "model_module_version": "1.5.0",
          "state": {
            "_model_module": "@jupyter-widgets/controls",
            "_model_module_version": "1.5.0",
            "_model_name": "DescriptionStyleModel",
            "_view_count": null,
            "_view_module": "@jupyter-widgets/base",
            "_view_module_version": "1.2.0",
            "_view_name": "StyleView",
            "description_width": ""
          }
        }
      }
    }
  },
  "nbformat": 4,
  "nbformat_minor": 0
}