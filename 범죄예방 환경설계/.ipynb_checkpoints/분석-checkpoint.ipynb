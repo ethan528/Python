{
 "cells": [
  {
   "cell_type": "code",
   "execution_count": 1,
   "metadata": {},
   "outputs": [
    {
     "name": "stdout",
     "output_type": "stream",
     "text": [
      "SL 24704\n",
      "RC 38\n",
      "CPC 452\n",
      "CC 52172\n",
      "TH 103299\n",
      "CCTV1 4038\n",
      "SEB 203\n",
      "CCTV2 4038\n",
      "P 52\n"
     ]
    }
   ],
   "source": [
    "import pandas as pd\n",
    "import warnings\n",
    "warnings.filterwarnings(action='ignore')\n",
    "\n",
    "def skip_logic(index, skip_num):\n",
    "    if index % skip_num == 0:\n",
    "        return False\n",
    "    return True\n",
    "\n",
    "SL = pd.read_csv('./경기도 수원시_가로등설치현황_20210823.csv', encoding = 'ansi')\n",
    "RC = pd.read_csv('./경찰청_범죄 발생 지역별 통계_20151231.csv', encoding = 'ansi')\n",
    "CPC = pd.read_csv('./방범센터.csv', encoding = 'ansi')\n",
    "CC = pd.read_csv('./상가업소현황.csv', encoding = 'ansi', skiprows = lambda x: skip_logic(x, 10))\n",
    "TH = pd.read_csv('./세대원수별세대수집계현황.csv', encoding = 'ansi')\n",
    "CCTV1 = pd.read_csv('./수원시 CCTV 현황.csv', encoding = 'ansi')\n",
    "SEB = pd.read_excel('./수원시_안전비상벨위치정보.xlsx')\n",
    "CCTV2 = pd.read_excel('./수원시_CCTV정보.xlsx')\n",
    "P = pd.read_csv('./인구.csv', encoding = 'ansi')\n",
    "\n",
    "print('SL', len(SL))\n",
    "print('RC', len(RC))\n",
    "print('CPC', len(CPC))\n",
    "print('CC', len(CC))\n",
    "print('TH', len(TH))\n",
    "print('CCTV1', len(CCTV1))\n",
    "print('SEB', len(SEB))\n",
    "print('CCTV2', len(CCTV2))\n",
    "print('P', len(P))"
   ]
  },
  {
   "cell_type": "code",
   "execution_count": 195,
   "metadata": {},
   "outputs": [
    {
     "ename": "ModuleNotFoundError",
     "evalue": "No module named 'pandas_profiling'",
     "output_type": "error",
     "traceback": [
      "\u001b[1;31m---------------------------------------------------------------------------\u001b[0m",
      "\u001b[1;31mModuleNotFoundError\u001b[0m                       Traceback (most recent call last)",
      "Input \u001b[1;32mIn [195]\u001b[0m, in \u001b[0;36m<cell line: 1>\u001b[1;34m()\u001b[0m\n\u001b[1;32m----> 1\u001b[0m \u001b[38;5;28;01mimport\u001b[39;00m \u001b[38;5;21;01mpandas_profiling\u001b[39;00m\n\u001b[0;32m      3\u001b[0m SL_pp\u001b[38;5;241m.\u001b[39mprofile_report()\n",
      "\u001b[1;31mModuleNotFoundError\u001b[0m: No module named 'pandas_profiling'"
     ]
    }
   ],
   "source": [
    "import pandas_profiling\n",
    "\n",
    "SL_pp.profile_report()"
   ]
  },
  {
   "cell_type": "code",
   "execution_count": 2,
   "metadata": {},
   "outputs": [
    {
     "data": {
      "image/png": "[encoded data removed]",
      "text/plain": [
       "<Figure size 432x288 with 1 Axes>"
      ]
     },
     "metadata": {},
     "output_type": "display_data"
    },
    {
     "data": {
      "text/plain": [
       "<Figure size 1080x1080 with 0 Axes>"
      ]
     },
     "metadata": {},
     "output_type": "display_data"
    }
   ],
   "source": [
    "import matplotlib.pyplot as plt\n",
    "from matplotlib import font_manager, rc\n",
    "font_path = \"C:/Windows/Fonts/NGULIM.TTF\"\n",
    "font = font_manager.FontProperties(fname=font_path).get_name()\n",
    "rc('font', family=font)\n",
    "%matplotlib inline\n",
    "\n",
    "RC = RC.loc[:, ['범죄대분류', '경기 수원']] \n",
    "cl = ['강력범죄','절도범죄','폭력범죄','풍속범죄']\n",
    "RC = RC[RC['범죄대분류'].isin(cl)]\n",
    "RC2 = RC.groupby('범죄대분류').sum()\n",
    "\n",
    "explode = [0.05, 0.05, 0.05, 0.05]\n",
    "wedgeprops={'width': 1, 'edgecolor': 'w'}\n",
    "plt.pie(RC2['경기 수원'], labels=cl, autopct='%.0f%%', counterclock=False, explode=explode, wedgeprops=wedgeprops)\n",
    "plt.figure(figsize=(15,15))\n",
    "plt.show()"
   ]
  },
  {
   "cell_type": "code",
   "execution_count": 3,
   "metadata": {},
   "outputs": [],
   "source": [
    "TH1 = TH.iloc[:, 5:]"
   ]
  },
  {
   "cell_type": "code",
   "execution_count": 4,
   "metadata": {},
   "outputs": [],
   "source": [
    "import folium\n",
    "\n",
    "m = folium.Map(\n",
    "    location=[SL['위도'].mean(), SL['경도'].mean()],\n",
    "    zoom_start=13\n",
    ")\n",
    "\n",
    "for lat, long in zip(SL['위도'], SL['경도']):\n",
    "    folium.Circle([lat, long], color='yellow', radius = 1, tooltip='가로등').add_to(m)\n",
    "\n",
    "#m"
   ]
  },
  {
   "cell_type": "code",
   "execution_count": 5,
   "metadata": {},
   "outputs": [],
   "source": [
    "CPC = CPC.dropna(subset = ['WGS84위도', 'WGS84경도'])\n",
    "\n",
    "for name, lat, long in zip(CPC['시설구분명'], CPC['WGS84위도'], CPC['WGS84경도']):\n",
    "    folium.Circle([lat, long], color='green', radius = 1, tooltip=name).add_to(m)\n",
    "\n",
    "#m"
   ]
  },
  {
   "cell_type": "code",
   "execution_count": 6,
   "metadata": {},
   "outputs": [],
   "source": [
    "for name, lat, long in zip(CC['상호명'], CC['위도'], CC['경도']):\n",
    "    folium.Circle([lat, long], color='orange', radius = 1, tooltip=name).add_to(m)\n",
    "\n",
    "#m"
   ]
  },
  {
   "cell_type": "code",
   "execution_count": 7,
   "metadata": {
    "scrolled": false
   },
   "outputs": [],
   "source": [
    "CCTV1 =  CCTV1.dropna(subset = ['위도', '경도'])\n",
    "\n",
    "for name, lat, long in zip(CCTV1['카메라대수'], CCTV1['위도'], CCTV1['경도']):\n",
    "    folium.Circle([lat, long], color='blue', radius = 1, tooltip='CCTV'+f'{name}'+'대').add_to(m)\n",
    "for lat, long in zip(SEB['WGS84위도'], SEB['WGS84경도']):\n",
    "    folium.Circle([lat, long], color='red', radius = 1, tooltip='안전비상벨').add_to(m)\n",
    "for name, lat, long in zip(CCTV2['카메라대수'], CCTV2['WGS84위도'], CCTV2['WGS84경도']):\n",
    "    folium.Circle([lat, long], color='blue', radius = 1, tooltip='CCTV'+f'{name}'+'대').add_to(m)\n",
    "\n",
    "#m"
   ]
  },
  {
   "cell_type": "code",
   "execution_count": 8,
   "metadata": {},
   "outputs": [],
   "source": [
    "import geopandas as gpd\n",
    "\n"
   ]
  },
  {
   "cell_type": "code",
   "execution_count": 9,
   "metadata": {},
   "outputs": [],
   "source": [
    "ds = pd.DataFrame({'센터명':[\n",
    "    '남해군 고현초','남해군 남명초','남해군 남해초','남해군 도마초','남해군 미조초','남해군 삼동초',\n",
    "    '남해군 상주초','남해군 설천초','남해군 성명초','남해군 이동초','남해군 지족초','남해군 창선초',\n",
    "    '남해군 해양초','남해군 다함께돌봄센터','남해군 남해로뎀 지역아동센터','남해군 물건리지역아동센터',\n",
    "    '남해군 남해성남지역아동센터','남해군 담쟁이지역아동센터','남해군 솔로몬남면지역아동센터',\n",
    "    '남해군 남해지역아동센터','남해군 창선지역아동센터아바의집','남해군 남해여성회'],\n",
    "    '위도':[\n",
    "        34.8973197248,34.7717113911,34.8387451415,34.8691037966,34.7156536533,34.8082455174,34.7238739503,\n",
    "        34.9266303241,34.8089969763,34.8039627402,34.8308635129,34.8581808881,34.8341451102,34.8383966,\n",
    "        34.9321876,34.7955547,34.7800411,34.8968240,34.8435749,34.7716748,34.8578175,34.8363285],\n",
    "        '경도':[\n",
    "            127.8777372946,127.8916463162,127.8919653758,127.8929744542,128.0414666,128.0357653996,\n",
    "            127.9865299,127.9149526153,127.8386693303,127.9520549082,128.0008435390,128.0098495277,127.8951900648,\n",
    "            127.891553,127.875995,128.048938,127.934996,127.872709,127.885713,127.894626,128.013029,127.892099]})\n",
    "\n",
    "m = folium.Map(\n",
    "    location=[ds['위도'].mean(), ds['경도'].mean()],\n",
    "    zoom_start=11\n",
    ")\n",
    "\n",
    "for cn, lat, long in zip(ds['센터명'], ds['위도'], ds['경도']):\n",
    "    #지도에 동그라미로 데이터 찍기    \n",
    "    folium.Circle([lat, long], color='red', radius = 5, tooltip=cn).add_to(m)\n",
    "\n",
    "m.save('돌봄센터시각화.html')"
   ]
  },
  {
   "cell_type": "code",
   "execution_count": 192,
   "metadata": {},
   "outputs": [
    {
     "name": "stdout",
     "output_type": "stream",
     "text": [
      "showing info https://raw.githubusercontent.com/nltk/nltk_data/gh-pages/index.xml\n"
     ]
    },
    {
     "data": {
      "text/plain": [
       "True"
      ]
     },
     "execution_count": 192,
     "metadata": {},
     "output_type": "execute_result"
    }
   ],
   "source": [
    "import nltk\n",
    "nltk.download('treebank')"
   ]
  }
 ],
 "metadata": {
  "kernelspec": {
   "display_name": "Python 3 (ipykernel)",
   "language": "python",
   "name": "python3"
  },
  "language_info": {
   "codemirror_mode": {
    "name": "ipython",
    "version": 3
   },
   "file_extension": ".py",
   "mimetype": "text/x-python",
   "name": "python",
   "nbconvert_exporter": "python",
   "pygments_lexer": "ipython3",
   "version": "3.9.12"
  },
  "vscode": {
   "interpreter": {
    "hash": "ad2bdc8ecc057115af97d19610ffacc2b4e99fae6737bb82f5d7fb13d2f2c186"
   }
  }
 },
 "nbformat": 4,
 "nbformat_minor": 2
}
