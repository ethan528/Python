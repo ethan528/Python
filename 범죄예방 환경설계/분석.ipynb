{
 "cells": [
  {
   "cell_type": "code",
   "execution_count": 21,
   "metadata": {},
   "outputs": [
    {
     "name": "stdout",
     "output_type": "stream",
     "text": [
      "SL 24704\n",
      "RC 38\n",
      "CPC 452\n",
      "CC 52172\n",
      "TH 103299\n",
      "CCTV1 4038\n",
      "SEB 203\n",
      "CCTV2 4038\n",
      "P 52\n"
     ]
    }
   ],
   "source": [
    "import pandas as pd\n",
    "import warnings\n",
    "warnings.filterwarnings(action='ignore')\n",
    "\n",
    "def skip_logic(index, skip_num):\n",
    "    if index % skip_num == 0:\n",
    "        return False\n",
    "    return True\n",
    "\n",
    "SL = pd.read_csv('./경기도 수원시_가로등설치현황_20210823.csv', encoding = 'ansi')\n",
    "RC = pd.read_csv('./경찰청_범죄 발생 지역별 통계_20151231.csv', encoding = 'ansi')\n",
    "CPC = pd.read_csv('./방범센터.csv', encoding = 'ansi')\n",
    "CC = pd.read_csv('./상가업소현황.csv', encoding = 'ansi', skiprows = lambda x: skip_logic(x, 10))\n",
    "TH = pd.read_csv('./세대원수별세대수집계현황.csv', encoding = 'ansi')\n",
    "CCTV1 = pd.read_csv('./수원시 CCTV 현황.csv', encoding = 'ansi')\n",
    "SEB = pd.read_excel('./수원시_안전비상벨위치정보.xlsx')\n",
    "CCTV2 = pd.read_excel('./수원시_CCTV정보.xlsx')\n",
    "P = pd.read_csv('./인구.csv', encoding = 'ansi')\n",
    "\n",
    "print('SL', len(SL))\n",
    "print('RC', len(RC))\n",
    "print('CPC', len(CPC))\n",
    "print('CC', len(CC))\n",
    "print('TH', len(TH))\n",
    "print('CCTV1', len(CCTV1))\n",
    "print('SEB', len(SEB))\n",
    "print('CCTV2', len(CCTV2))\n",
    "print('P', len(P))"
   ]
  },
  {
   "cell_type": "code",
   "execution_count": 3,
   "metadata": {
    "collapsed": true
   },
   "outputs": [
    {
     "name": "stdout",
     "output_type": "stream",
     "text": [
      "<class 'pandas.core.frame.DataFrame'>\n",
      "RangeIndex: 24704 entries, 0 to 24703\n",
      "Data columns (total 10 columns):\n",
      " #   Column    Non-Null Count  Dtype  \n",
      "---  ------    --------------  -----  \n",
      " 0   시군명       24704 non-null  object \n",
      " 1   소재지도로명주소  6893 non-null   object \n",
      " 2   소재지지번주소   24691 non-null  object \n",
      " 3   위도        24704 non-null  float64\n",
      " 4   경도        24704 non-null  float64\n",
      " 5   설치연도      21194 non-null  float64\n",
      " 6   설치형태      24704 non-null  object \n",
      " 7   관리부서명     24704 non-null  object \n",
      " 8   관리기관전화번호  24704 non-null  object \n",
      " 9   데이터기준일자   24704 non-null  object \n",
      "dtypes: float64(3), object(7)\n",
      "memory usage: 1.9+ MB\n"
     ]
    }
   ],
   "source": [
    "SL.info()"
   ]
  },
  {
   "cell_type": "code",
   "execution_count": 4,
   "metadata": {
    "collapsed": true
   },
   "outputs": [
    {
     "name": "stdout",
     "output_type": "stream",
     "text": [
      "<class 'pandas.core.frame.DataFrame'>\n",
      "RangeIndex: 38 entries, 0 to 37\n",
      "Data columns (total 90 columns):\n",
      " #   Column  Non-Null Count  Dtype \n",
      "---  ------  --------------  ----- \n",
      " 0   범죄대분류   38 non-null     object\n",
      " 1   범죄중분류   38 non-null     object\n",
      " 2   서울      38 non-null     int64 \n",
      " 3   부산      38 non-null     int64 \n",
      " 4   대구      38 non-null     int64 \n",
      " 5   인천      38 non-null     int64 \n",
      " 6   광주      38 non-null     int64 \n",
      " 7   대전      38 non-null     int64 \n",
      " 8   울산      38 non-null     int64 \n",
      " 9   세종      38 non-null     int64 \n",
      " 10  경기 고양   38 non-null     int64 \n",
      " 11  경기 과천   38 non-null     int64 \n",
      " 12  경기 광명   38 non-null     int64 \n",
      " 13  경기 광주   38 non-null     int64 \n",
      " 14  경기 구리   38 non-null     int64 \n",
      " 15  경기 군포   38 non-null     int64 \n",
      " 16  경기 김포   38 non-null     int64 \n",
      " 17  경기 남양주  38 non-null     int64 \n",
      " 18  경기 동두천  38 non-null     int64 \n",
      " 19  경기 부천   38 non-null     int64 \n",
      " 20  경기 성남   38 non-null     int64 \n",
      " 21  경기 수원   38 non-null     int64 \n",
      " 22  경기 시흥   38 non-null     int64 \n",
      " 23  경기 안산   38 non-null     int64 \n",
      " 24  경기 안성   38 non-null     int64 \n",
      " 25  경기 안양   38 non-null     int64 \n",
      " 26  경기 양주   38 non-null     int64 \n",
      " 27  경기 여주   38 non-null     int64 \n",
      " 28  경기 오산   38 non-null     int64 \n",
      " 29  경기 용인   38 non-null     int64 \n",
      " 30  경기 의왕   38 non-null     int64 \n",
      " 31  경기 의정부  38 non-null     int64 \n",
      " 32  경기 이천   38 non-null     int64 \n",
      " 33  경기 파주   38 non-null     int64 \n",
      " 34  경기 평택   38 non-null     int64 \n",
      " 35  경기 포천   38 non-null     int64 \n",
      " 36  경기 하남   38 non-null     int64 \n",
      " 37  경기 화성   38 non-null     int64 \n",
      " 38  강원 강릉   38 non-null     int64 \n",
      " 39  강원 동해   38 non-null     int64 \n",
      " 40  강원 삼척   38 non-null     int64 \n",
      " 41  강원 속초   38 non-null     int64 \n",
      " 42  강원 원주   38 non-null     int64 \n",
      " 43  강원 춘천   38 non-null     int64 \n",
      " 44  강원 태백   38 non-null     int64 \n",
      " 45  충북 제천   38 non-null     int64 \n",
      " 46  충북 청주   38 non-null     int64 \n",
      " 47  충북 충주   38 non-null     int64 \n",
      " 48  충남 계룡   38 non-null     int64 \n",
      " 49  충남 공주   38 non-null     int64 \n",
      " 50  충남 논산   38 non-null     int64 \n",
      " 51  충남 당진   38 non-null     int64 \n",
      " 52  충남 보령   38 non-null     int64 \n",
      " 53  충남 서산   38 non-null     int64 \n",
      " 54  충남 아산   38 non-null     int64 \n",
      " 55  충남 천안   38 non-null     int64 \n",
      " 56  전북 군산   38 non-null     int64 \n",
      " 57  전북 김제   38 non-null     int64 \n",
      " 58  전북 남원   38 non-null     int64 \n",
      " 59  전북 익산   38 non-null     int64 \n",
      " 60  전북 전주   38 non-null     int64 \n",
      " 61  전북 정읍   38 non-null     int64 \n",
      " 62  전남 광양   38 non-null     int64 \n",
      " 63  전남 나주   38 non-null     int64 \n",
      " 64  전남 목포   38 non-null     int64 \n",
      " 65  전남 순천   38 non-null     int64 \n",
      " 66  전남 여수   38 non-null     int64 \n",
      " 67  경북 경산   38 non-null     int64 \n",
      " 68  경북 경주   38 non-null     int64 \n",
      " 69  경북 구미   38 non-null     int64 \n",
      " 70  경북 김천   38 non-null     int64 \n",
      " 71  경북 문경   38 non-null     int64 \n",
      " 72  경북 상주   38 non-null     int64 \n",
      " 73  경북 안동   38 non-null     int64 \n",
      " 74  경북 영주   38 non-null     int64 \n",
      " 75  경북 영천   38 non-null     int64 \n",
      " 76  경북 포항   38 non-null     int64 \n",
      " 77  경남 거제   38 non-null     int64 \n",
      " 78  경남 김해   38 non-null     int64 \n",
      " 79  경남 마산   38 non-null     int64 \n",
      " 80  경남 밀양   38 non-null     int64 \n",
      " 81  경남 사천   38 non-null     int64 \n",
      " 82  경남 양산   38 non-null     int64 \n",
      " 83  경남 진주   38 non-null     int64 \n",
      " 84  경남 창원   38 non-null     int64 \n",
      " 85  경남 통영   38 non-null     int64 \n",
      " 86  제주 서귀포  38 non-null     int64 \n",
      " 87  제주 제주   38 non-null     int64 \n",
      " 88  기타도시    38 non-null     int64 \n",
      " 89  도시이외    38 non-null     int64 \n",
      "dtypes: int64(88), object(2)\n",
      "memory usage: 26.8+ KB\n"
     ]
    }
   ],
   "source": [
    "RC.info()"
   ]
  },
  {
   "cell_type": "code",
   "execution_count": 5,
   "metadata": {
    "collapsed": true
   },
   "outputs": [
    {
     "name": "stdout",
     "output_type": "stream",
     "text": [
      "<class 'pandas.core.frame.DataFrame'>\n",
      "RangeIndex: 452 entries, 0 to 451\n",
      "Data columns (total 8 columns):\n",
      " #   Column    Non-Null Count  Dtype  \n",
      "---  ------    --------------  -----  \n",
      " 0   시군명       452 non-null    object \n",
      " 1   시설구분명     452 non-null    object \n",
      " 2   기관명       452 non-null    object \n",
      " 3   소재지지번주소   452 non-null    object \n",
      " 4   소재지도로명주소  446 non-null    object \n",
      " 5   소재지우편번호   450 non-null    float64\n",
      " 6   WGS84위도   448 non-null    float64\n",
      " 7   WGS84경도   448 non-null    float64\n",
      "dtypes: float64(3), object(5)\n",
      "memory usage: 28.4+ KB\n"
     ]
    }
   ],
   "source": [
    "CPC.info()"
   ]
  },
  {
   "cell_type": "code",
   "execution_count": 6,
   "metadata": {
    "collapsed": true
   },
   "outputs": [
    {
     "name": "stdout",
     "output_type": "stream",
     "text": [
      "<class 'pandas.core.frame.DataFrame'>\n",
      "RangeIndex: 52172 entries, 0 to 52171\n",
      "Data columns (total 39 columns):\n",
      " #   Column     Non-Null Count  Dtype  \n",
      "---  ------     --------------  -----  \n",
      " 0   상가업소번호     52172 non-null  int64  \n",
      " 1   상호명        52172 non-null  object \n",
      " 2   지점명        8945 non-null   object \n",
      " 3   상권업종대분류코드  52172 non-null  object \n",
      " 4   상권업종대분류명   52172 non-null  object \n",
      " 5   상권업종중분류코드  52172 non-null  object \n",
      " 6   상권업종중분류명   52172 non-null  object \n",
      " 7   상권업종소분류코드  52172 non-null  object \n",
      " 8   상권업종소분류명   52172 non-null  object \n",
      " 9   표준산업분류코드   48743 non-null  object \n",
      " 10  표준산업분류명    48743 non-null  object \n",
      " 11  시도코드       52172 non-null  int64  \n",
      " 12  시도명        52172 non-null  object \n",
      " 13  시군구코드      52172 non-null  int64  \n",
      " 14  시군구명       52172 non-null  object \n",
      " 15  행정동코드      52172 non-null  int64  \n",
      " 16  행정동명       52123 non-null  object \n",
      " 17  법정동코드      52083 non-null  float64\n",
      " 18  법정동명       52083 non-null  object \n",
      " 19  지번코드       52172 non-null  int64  \n",
      " 20  대지구분코드     52172 non-null  int64  \n",
      " 21  대지구분명      52172 non-null  object \n",
      " 22  지번본번지      52172 non-null  int64  \n",
      " 23  지번부번지      37629 non-null  float64\n",
      " 24  지번주소       52172 non-null  object \n",
      " 25  도로명코드      52172 non-null  int64  \n",
      " 26  도로명        52172 non-null  object \n",
      " 27  건물본번지      52172 non-null  int64  \n",
      " 28  건물부번지      10316 non-null  float64\n",
      " 29  건물관리번호     52172 non-null  object \n",
      " 30  건물명        23116 non-null  object \n",
      " 31  도로명주소      52172 non-null  object \n",
      " 32  구우편번호      51739 non-null  float64\n",
      " 33  신우편번호      52164 non-null  float64\n",
      " 34  동정보        7202 non-null   object \n",
      " 35  층정보        24057 non-null  object \n",
      " 36  호정보        0 non-null      float64\n",
      " 37  경도         52172 non-null  float64\n",
      " 38  위도         52172 non-null  float64\n",
      "dtypes: float64(8), int64(9), object(22)\n",
      "memory usage: 15.5+ MB\n"
     ]
    }
   ],
   "source": [
    "CC.info()"
   ]
  },
  {
   "cell_type": "code",
   "execution_count": 7,
   "metadata": {
    "collapsed": true
   },
   "outputs": [
    {
     "name": "stdout",
     "output_type": "stream",
     "text": [
      "<class 'pandas.core.frame.DataFrame'>\n",
      "RangeIndex: 103299 entries, 0 to 103298\n",
      "Data columns (total 15 columns):\n",
      " #   Column     Non-Null Count   Dtype \n",
      "---  ------     --------------   ----- \n",
      " 0   연도         103299 non-null  int64 \n",
      " 1   월          103299 non-null  int64 \n",
      " 2   행정구역구분명    103299 non-null  object\n",
      " 3   행정구역명      103299 non-null  object\n",
      " 4   전체 세대수     103299 non-null  int64 \n",
      " 5   1인 세대수     103299 non-null  int64 \n",
      " 6   2인 세대수     103299 non-null  int64 \n",
      " 7   3인 세대수     103299 non-null  int64 \n",
      " 8   4인 세대수     103299 non-null  int64 \n",
      " 9   5인 세대수     103299 non-null  int64 \n",
      " 10  6인 세대수     103299 non-null  int64 \n",
      " 11  7인 세대수     103299 non-null  int64 \n",
      " 12  8인 세대수     103299 non-null  int64 \n",
      " 13  9인 세대수     103299 non-null  int64 \n",
      " 14  10인이상 세대수  103299 non-null  int64 \n",
      "dtypes: int64(13), object(2)\n",
      "memory usage: 11.8+ MB\n"
     ]
    }
   ],
   "source": [
    "TH.info()"
   ]
  },
  {
   "cell_type": "code",
   "execution_count": 8,
   "metadata": {
    "collapsed": true
   },
   "outputs": [
    {
     "name": "stdout",
     "output_type": "stream",
     "text": [
      "<class 'pandas.core.frame.DataFrame'>\n",
      "RangeIndex: 4038 entries, 0 to 4037\n",
      "Data columns (total 13 columns):\n",
      " #   Column    Non-Null Count  Dtype  \n",
      "---  ------    --------------  -----  \n",
      " 0   관리기관명     4038 non-null   object \n",
      " 1   소재지도로명주소  3782 non-null   object \n",
      " 2   소재지지번주소   4026 non-null   object \n",
      " 3   설치목적구분    4038 non-null   object \n",
      " 4   카메라대수     4038 non-null   int64  \n",
      " 5   카메라화소수    0 non-null      float64\n",
      " 6   촬영방면정보    0 non-null      float64\n",
      " 7   보관일수      0 non-null      float64\n",
      " 8   설치연월      0 non-null      float64\n",
      " 9   관리기관전화번호  4038 non-null   object \n",
      " 10  위도        4003 non-null   float64\n",
      " 11  경도        4003 non-null   float64\n",
      " 12  데이터기준일자   4038 non-null   object \n",
      "dtypes: float64(6), int64(1), object(6)\n",
      "memory usage: 410.2+ KB\n"
     ]
    }
   ],
   "source": [
    "CCTV1.info()"
   ]
  },
  {
   "cell_type": "code",
   "execution_count": 9,
   "metadata": {
    "collapsed": true
   },
   "outputs": [
    {
     "name": "stdout",
     "output_type": "stream",
     "text": [
      "<class 'pandas.core.frame.DataFrame'>\n",
      "RangeIndex: 203 entries, 0 to 202\n",
      "Data columns (total 20 columns):\n",
      " #   Column     Non-Null Count  Dtype  \n",
      "---  ------     --------------  -----  \n",
      " 0   번호         203 non-null    int64  \n",
      " 1   안전비상벨관리번호  203 non-null    object \n",
      " 2   설치목적       203 non-null    object \n",
      " 3   설치장소유형     203 non-null    object \n",
      " 4   설치위치       203 non-null    object \n",
      " 5   소재지도로명주소   0 non-null      float64\n",
      " 6   소재지지번주소    203 non-null    object \n",
      " 7   WGS84위도    203 non-null    float64\n",
      " 8   WGS84경도    203 non-null    float64\n",
      " 9   연계방식       203 non-null    object \n",
      " 10  경찰연계유무     203 non-null    object \n",
      " 11  경비업체연계유무   203 non-null    object \n",
      " 12  관리사무소연계유무  203 non-null    object \n",
      " 13  부가기능       203 non-null    object \n",
      " 14  안전비상벨설치연도  203 non-null    int64  \n",
      " 15  최종점검일자     203 non-null    object \n",
      " 16  최종점검결과구분   203 non-null    object \n",
      " 17  관리기관명      203 non-null    object \n",
      " 18  관리기관전화번호   203 non-null    object \n",
      " 19  데이터기준일자    203 non-null    object \n",
      "dtypes: float64(3), int64(2), object(15)\n",
      "memory usage: 31.8+ KB\n"
     ]
    }
   ],
   "source": [
    "SEB.info()"
   ]
  },
  {
   "cell_type": "code",
   "execution_count": 10,
   "metadata": {
    "collapsed": true
   },
   "outputs": [
    {
     "name": "stdout",
     "output_type": "stream",
     "text": [
      "<class 'pandas.core.frame.DataFrame'>\n",
      "RangeIndex: 4038 entries, 0 to 4037\n",
      "Data columns (total 14 columns):\n",
      " #   Column    Non-Null Count  Dtype  \n",
      "---  ------    --------------  -----  \n",
      " 0   번호        4038 non-null   int64  \n",
      " 1   관리기관명     4038 non-null   object \n",
      " 2   소재지도로명주소  3508 non-null   object \n",
      " 3   소재지지번주소   4036 non-null   object \n",
      " 4   설치목적구분    4038 non-null   object \n",
      " 5   카메라대수     4038 non-null   int64  \n",
      " 6   카메라화소수    4038 non-null   int64  \n",
      " 7   촬영방면정보    0 non-null      float64\n",
      " 8   보관일수      4038 non-null   int64  \n",
      " 9   설치연월      0 non-null      float64\n",
      " 10  관리기관전화번호  4038 non-null   object \n",
      " 11  WGS84위도   4038 non-null   float64\n",
      " 12  WGS84경도   4038 non-null   float64\n",
      " 13  데이터기준일자   4038 non-null   object \n",
      "dtypes: float64(4), int64(4), object(6)\n",
      "memory usage: 441.8+ KB\n"
     ]
    }
   ],
   "source": [
    "CCTV2.info()"
   ]
  },
  {
   "cell_type": "code",
   "execution_count": 11,
   "metadata": {
    "collapsed": true
   },
   "outputs": [
    {
     "name": "stdout",
     "output_type": "stream",
     "text": [
      "<class 'pandas.core.frame.DataFrame'>\n",
      "RangeIndex: 52 entries, 0 to 51\n",
      "Data columns (total 13 columns):\n",
      " #   Column   Non-Null Count  Dtype \n",
      "---  ------   --------------  ----- \n",
      " 0   읍면동별(1)  4 non-null      object\n",
      " 1   읍면동별(2)  8 non-null      object\n",
      " 2   읍면동별(3)  52 non-null     object\n",
      " 3   2020     52 non-null     object\n",
      " 4   2020.1   52 non-null     object\n",
      " 5   2020.2   52 non-null     object\n",
      " 6   2020.3   52 non-null     object\n",
      " 7   2020.4   52 non-null     object\n",
      " 8   2020.5   52 non-null     object\n",
      " 9   2020.6   52 non-null     object\n",
      " 10  2020.7   52 non-null     object\n",
      " 11  2020.8   52 non-null     object\n",
      " 12  2020.9   52 non-null     object\n",
      "dtypes: object(13)\n",
      "memory usage: 5.4+ KB\n"
     ]
    }
   ],
   "source": [
    "P.info()"
   ]
  },
  {
   "cell_type": "code",
   "execution_count": 12,
   "metadata": {},
   "outputs": [
    {
     "data": {
      "image/png": "[encoded data removed]",
      "text/plain": [
       "<Figure size 432x288 with 1 Axes>"
      ]
     },
     "metadata": {},
     "output_type": "display_data"
    },
    {
     "data": {
      "text/plain": [
       "<Figure size 1080x1080 with 0 Axes>"
      ]
     },
     "metadata": {},
     "output_type": "display_data"
    }
   ],
   "source": [
    "import matplotlib.pyplot as plt\n",
    "from matplotlib import font_manager, rc\n",
    "font_path = \"C:/Windows/Fonts/NGULIM.TTF\"\n",
    "font = font_manager.FontProperties(fname=font_path).get_name()\n",
    "rc('font', family=font)\n",
    "%matplotlib inline\n",
    "\n",
    "RC = RC.loc[:, ['범죄대분류', '경기 수원']] \n",
    "cl = ['강력범죄','절도범죄','폭력범죄','풍속범죄']\n",
    "RC = RC[RC['범죄대분류'].isin(cl)]\n",
    "RC2 = RC.groupby('범죄대분류').sum()\n",
    "\n",
    "explode = [0.05, 0.05, 0.05, 0.05]\n",
    "wedgeprops={'width': 1, 'edgecolor': 'w'}\n",
    "plt.pie(RC2['경기 수원'], labels=cl, autopct='%.0f%%', counterclock=False, explode=explode, wedgeprops=wedgeprops)\n",
    "plt.figure(figsize=(15,15))\n",
    "plt.show()"
   ]
  },
  {
   "cell_type": "code",
   "execution_count": 13,
   "metadata": {},
   "outputs": [
    {
     "data": {
      "image/png": "[encoded data removed]",
      "text/plain": [
       "<Figure size 360x360 with 1 Axes>"
      ]
     },
     "metadata": {
      "needs_background": "light"
     },
     "output_type": "display_data"
    },
    {
     "data": {
      "image/png": "[encoded data removed]",
      "text/plain": [
       "<Figure size 360x360 with 1 Axes>"
      ]
     },
     "metadata": {
      "needs_background": "light"
     },
     "output_type": "display_data"
    },
    {
     "data": {
      "image/png": "[encoded data removed]",
      "text/plain": [
       "<Figure size 360x360 with 1 Axes>"
      ]
     },
     "metadata": {
      "needs_background": "light"
     },
     "output_type": "display_data"
    },
    {
     "data": {
      "image/png": "[encoded data removed]",
      "text/plain": [
       "<Figure size 360x360 with 1 Axes>"
      ]
     },
     "metadata": {
      "needs_background": "light"
     },
     "output_type": "display_data"
    },
    {
     "data": {
      "image/png": "[encoded data removed]",
      "text/plain": [
       "<Figure size 360x360 with 1 Axes>"
      ]
     },
     "metadata": {
      "needs_background": "light"
     },
     "output_type": "display_data"
    }
   ],
   "source": [
    "import seaborn as sns\n",
    "\n",
    "TH = TH[TH['행정구역명'] == '경기도 수원시']\n",
    "\n",
    "sns.lmplot(x = \"전체 세대수\", y = \"1인 세대수\", height = 5, data = TH)\n",
    "sns.lmplot(x = \"전체 세대수\", y = \"2인 세대수\", height = 5, data = TH)\n",
    "sns.lmplot(x = \"전체 세대수\", y = \"3인 세대수\", height = 5, data = TH)\n",
    "sns.lmplot(x = \"전체 세대수\", y = \"4인 세대수\", height = 5, data = TH)\n",
    "sns.lmplot(x = \"전체 세대수\", y = \"5인 세대수\", height = 5, data = TH)\n",
    "plt.show()"
   ]
  },
  {
   "cell_type": "code",
   "execution_count": 25,
   "metadata": {},
   "outputs": [],
   "source": [
    "import folium\n",
    "\n",
    "m = folium.Map(\n",
    "    location=[SL['위도'].mean(), SL['경도'].mean()],\n",
    "    zoom_start=13\n",
    ")\n",
    "\n",
    "for lat, long in zip(SL['위도'], SL['경도']):\n",
    "    folium.Circle([lat, long], color='yellow', radius = 1, tooltip='가로등').add_to(m)\n",
    "\n",
    "#m"
   ]
  },
  {
   "cell_type": "code",
   "execution_count": 26,
   "metadata": {},
   "outputs": [],
   "source": [
    "CPC = CPC.dropna(subset = ['WGS84위도', 'WGS84경도'])\n",
    "\n",
    "for name, lat, long in zip(CPC['시설구분명'], CPC['WGS84위도'], CPC['WGS84경도']):\n",
    "    folium.Circle([lat, long], color='green', radius = 1, tooltip=name).add_to(m)\n",
    "\n",
    "#m"
   ]
  },
  {
   "cell_type": "code",
   "execution_count": 27,
   "metadata": {},
   "outputs": [],
   "source": [
    "for name, lat, long in zip(CC['상호명'], CC['위도'], CC['경도']):\n",
    "    folium.Circle([lat, long], color='orange', radius = 1, tooltip=name).add_to(m)\n",
    "\n",
    "#m"
   ]
  },
  {
   "cell_type": "code",
   "execution_count": 20,
   "metadata": {
    "scrolled": false
   },
   "outputs": [],
   "source": [
    "CCTV1 =  CCTV1.dropna(subset = ['위도', '경도'])\n",
    "\n",
    "for name, lat, long in zip(CCTV1['카메라대수'], CCTV1['위도'], CCTV1['경도']):\n",
    "    folium.Circle([lat, long], color='blue', radius = 1, tooltip='CCTV'+f'{name}'+'대').add_to(m)\n",
    "for lat, long in zip(SEB['WGS84위도'], SEB['WGS84경도']):\n",
    "    folium.Circle([lat, long], color='red', radius = 1, tooltip='안전비상벨').add_to(m)\n",
    "for name, lat, long in zip(CCTV2['카메라대수'], CCTV2['WGS84위도'], CCTV2['WGS84경도']):\n",
    "    folium.Circle([lat, long], color='blue', radius = 1, tooltip='CCTV'+f'{name}'+'대').add_to(m)\n",
    "\n",
    "#m"
   ]
  },
  {
   "cell_type": "code",
   "execution_count": 1,
   "metadata": {},
   "outputs": [
    {
     "ename": "ModuleNotFoundError",
     "evalue": "No module named 'mclp'",
     "output_type": "error",
     "traceback": [
      "\u001b[1;31m---------------------------------------------------------------------------\u001b[0m",
      "\u001b[1;31mModuleNotFoundError\u001b[0m                       Traceback (most recent call last)",
      "Input \u001b[1;32mIn [1]\u001b[0m, in \u001b[0;36m<cell line: 1>\u001b[1;34m()\u001b[0m\n\u001b[1;32m----> 1\u001b[0m \u001b[38;5;28;01mfrom\u001b[39;00m \u001b[38;5;21;01mmclp\u001b[39;00m \u001b[38;5;28;01mimport\u001b[39;00m \u001b[38;5;241m*\u001b[39m\n\u001b[0;32m      2\u001b[0m get_ipython()\u001b[38;5;241m.\u001b[39mrun_line_magic(\u001b[38;5;124m'\u001b[39m\u001b[38;5;124mmatplotlib\u001b[39m\u001b[38;5;124m'\u001b[39m, \u001b[38;5;124m'\u001b[39m\u001b[38;5;124minline\u001b[39m\u001b[38;5;124m'\u001b[39m)\n\u001b[0;32m      4\u001b[0m \u001b[38;5;66;03m#input data 생성\u001b[39;00m\n",
      "\u001b[1;31mModuleNotFoundError\u001b[0m: No module named 'mclp'"
     ]
    }
   ],
   "source": [
    "from mclp import *\n",
    "%matplotlib inline\n",
    "\n",
    "#input data 생성\n",
    "\n",
    "import numpy as np\n",
    "Npoints = 300\n",
    "# Generate points in uniform distribution \n",
    "# points = np.random.rand(Npoints,2)\n",
    "\n",
    "# Generate points in moon distribution\n",
    "from sklearn.datasets import make_moons\n",
    "points,_ = make_moons(Npoints,noise=0.15)"
   ]
  },
  {
   "cell_type": "code",
   "execution_count": null,
   "metadata": {},
   "outputs": [],
   "source": [
    "ds = pd.DataFrame({'센터명':[\n",
    "    '남해군 고현초','남해군 남명초','남해군 남해초','남해군 도마초','남해군 미조초','남해군 삼동초',\n",
    "    '남해군 상주초','남해군 설천초','남해군 성명초','남해군 이동초','남해군 지족초','남해군 창선초',\n",
    "    '남해군 해양초','남해군 다함께돌봄센터','남해군 남해로뎀 지역아동센터','남해군 물건리지역아동센터',\n",
    "    '남해군 남해성남지역아동센터','남해군 담쟁이지역아동센터','남해군 솔로몬남면지역아동센터',\n",
    "    '남해군 남해지역아동센터','남해군 창선지역아동센터아바의집','남해군 남해여성회'],\n",
    "    '위도':[\n",
    "        34.8973197248,34.7717113911,34.8387451415,34.8691037966,34.7156536533,34.8082455174,34.7238739503,\n",
    "        34.9266303241,34.8089969763,34.8039627402,34.8308635129,34.8581808881,34.8341451102,34.8383966,\n",
    "        34.9321876,34.7955547,34.7800411,34.8968240,34.8435749,34.7716748,34.8578175,34.8363285],\n",
    "        '경도':[\n",
    "            127.8777372946,127.8916463162,127.8919653758,127.8929744542,128.0414666,128.0357653996,\n",
    "            127.9865299,127.9149526153,127.8386693303,127.9520549082,128.0008435390,128.0098495277,127.8951900648,\n",
    "            127.891553,127.875995,128.048938,127.934996,127.872709,127.885713,127.894626,128.013029,127.892099]})\n",
    "\n",
    "m = folium.Map(\n",
    "    location=[ds['위도'].mean(), ds['경도'].mean()],\n",
    "    zoom_start=11\n",
    ")\n",
    "\n",
    "for cn, lat, long in zip(ds['센터명'], ds['위도'], ds['경도']):\n",
    "    #지도에 동그라미로 데이터 찍기    \n",
    "    folium.Circle([lat, long], color='red', radius = 5, tooltip=cn).add_to(m)\n",
    "\n",
    "m.save('돌봄센터시각화.html')"
   ]
  }
 ],
 "metadata": {
  "kernelspec": {
   "display_name": "Python 3 (ipykernel)",
   "language": "python",
   "name": "python3"
  },
  "language_info": {
   "codemirror_mode": {
    "name": "ipython",
    "version": 3
   },
   "file_extension": ".py",
   "mimetype": "text/x-python",
   "name": "python",
   "nbconvert_exporter": "python",
   "pygments_lexer": "ipython3",
   "version": "3.9.12"
  },
  "vscode": {
   "interpreter": {
    "hash": "ad2bdc8ecc057115af97d19610ffacc2b4e99fae6737bb82f5d7fb13d2f2c186"
   }
  }
 },
 "nbformat": 4,
 "nbformat_minor": 2
}
