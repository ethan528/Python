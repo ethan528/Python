{
 "cells": [
  {
   "cell_type": "markdown",
   "metadata": {},
   "source": [
    "# Skin lesion classification of dermoscopic images using machine learning and convolutional neural network\n",
    "\n",
    "19 December 2022\n",
    "\n",
    "https://www.nature.com/articles/s41598-022-22644-9#Tab7"
   ]
  },
  {
   "cell_type": "code",
   "execution_count": 6,
   "metadata": {},
   "outputs": [],
   "source": [
    "import os\n",
    "\n",
    "data_dir = 'New_Sample/라벨링데이터/TL01/반려묘/피부/일반카메라/유증상/A2_비듬_각질_상피성잔고리/'\n",
    "\n",
    "# 이미지 파일 리스트 가져오기\n",
    "image_files = os.listdir(data_dir)\n",
    "image_files.sort()\n",
    "\n",
    "# json 파일 리스트 가져오기\n",
    "json_files = os.listdir(data_dir)\n",
    "json_files.sort()"
   ]
  },
  {
   "cell_type": "code",
   "execution_count": 26,
   "metadata": {},
   "outputs": [],
   "source": [
    "def check_encoding(filepath):\n",
    "    with open(filepath, 'rb') as f:\n",
    "        raw = f.read(8192)\n",
    "    if raw.startswith(codecs.BOM_UTF8):\n",
    "        return 'utf-8-sig'\n",
    "    else:\n",
    "        return chardet.detect(raw)['encoding']"
   ]
  },
  {
   "cell_type": "code",
   "execution_count": 24,
   "metadata": {},
   "outputs": [
    {
     "ename": "NameError",
     "evalue": "name 'chardet' is not defined",
     "output_type": "error",
     "traceback": [
      "\u001b[1;31m---------------------------------------------------------------------------\u001b[0m",
      "\u001b[1;31mNameError\u001b[0m                                 Traceback (most recent call last)",
      "Cell \u001b[1;32mIn[24], line 10\u001b[0m\n\u001b[0;32m      7\u001b[0m     \u001b[39mexcept\u001b[39;00m \u001b[39mUnicodeDecodeError\u001b[39;00m:\n\u001b[0;32m      8\u001b[0m         \u001b[39mreturn\u001b[39;00m \u001b[39mFalse\u001b[39;00m\n\u001b[1;32m---> 10\u001b[0m find_encoding(\u001b[39m'\u001b[39;49m\u001b[39mNew_Sample/라벨링데이터/TL01/반려묘/피부/일반카메라/유증상/A2_비듬_각질_상피성잔고리/IMG_C_A2_201354.json\u001b[39;49m\u001b[39m'\u001b[39;49m)\n",
      "Cell \u001b[1;32mIn[23], line 6\u001b[0m, in \u001b[0;36mfind_encoding\u001b[1;34m(filename)\u001b[0m\n\u001b[0;32m      4\u001b[0m \u001b[39mwith\u001b[39;00m codecs\u001b[39m.\u001b[39mopen(filename, \u001b[39m'\u001b[39m\u001b[39mrb\u001b[39m\u001b[39m'\u001b[39m) \u001b[39mas\u001b[39;00m f:\n\u001b[0;32m      5\u001b[0m     raw \u001b[39m=\u001b[39m f\u001b[39m.\u001b[39mread()\n\u001b[1;32m----> 6\u001b[0m     \u001b[39mreturn\u001b[39;00m chardet\u001b[39m.\u001b[39mdetect(raw)[\u001b[39m'\u001b[39m\u001b[39mencoding\u001b[39m\u001b[39m'\u001b[39m]\n",
      "\u001b[1;31mNameError\u001b[0m: name 'chardet' is not defined"
     ]
    }
   ],
   "source": [
    "def is_utf8(filename):\n",
    "    with open(filename, 'rb') as f:\n",
    "        raw = f.read()\n",
    "    try:\n",
    "        raw.decode('utf-8')\n",
    "        return True\n",
    "    except UnicodeDecodeError:\n",
    "        return False\n",
    "    \n",
    "find_encoding('New_Sample/라벨링데이터/TL01/반려묘/피부/일반카메라/유증상/A2_비듬_각질_상피성잔고리/IMG_C_A2_201354.json')"
   ]
  },
  {
   "cell_type": "code",
   "execution_count": 20,
   "metadata": {},
   "outputs": [
    {
     "ename": "UnicodeDecodeError",
     "evalue": "'euc_kr' codec can't decode byte 0xff in position 0: illegal multibyte sequence",
     "output_type": "error",
     "traceback": [
      "\u001b[1;31m---------------------------------------------------------------------------\u001b[0m",
      "\u001b[1;31mUnicodeDecodeError\u001b[0m                        Traceback (most recent call last)",
      "Cell \u001b[1;32mIn[20], line 10\u001b[0m\n\u001b[0;32m      8\u001b[0m img \u001b[39m=\u001b[39m cv2\u001b[39m.\u001b[39mimread(data_dir\u001b[39m+\u001b[39mimage_files[i])\n\u001b[0;32m      9\u001b[0m \u001b[39mwith\u001b[39;00m \u001b[39mopen\u001b[39m(data_dir\u001b[39m+\u001b[39mjson_files[i], \u001b[39m'\u001b[39m\u001b[39mr\u001b[39m\u001b[39m'\u001b[39m, encoding\u001b[39m=\u001b[39m\u001b[39m'\u001b[39m\u001b[39meuc-kr\u001b[39m\u001b[39m'\u001b[39m) \u001b[39mas\u001b[39;00m f:\n\u001b[1;32m---> 10\u001b[0m     json_data \u001b[39m=\u001b[39m json\u001b[39m.\u001b[39;49mload(f)\n\u001b[0;32m     11\u001b[0m     info \u001b[39m=\u001b[39m json_data[\u001b[39m'\u001b[39m\u001b[39minformation\u001b[39m\u001b[39m'\u001b[39m]\n\u001b[0;32m     12\u001b[0m data\u001b[39m.\u001b[39mappend([img, info])\n",
      "File \u001b[1;32mc:\\Users\\lbw\\anaconda3\\envs\\skin_disease\\lib\\json\\__init__.py:293\u001b[0m, in \u001b[0;36mload\u001b[1;34m(fp, cls, object_hook, parse_float, parse_int, parse_constant, object_pairs_hook, **kw)\u001b[0m\n\u001b[0;32m    274\u001b[0m \u001b[39mdef\u001b[39;00m \u001b[39mload\u001b[39m(fp, \u001b[39m*\u001b[39m, \u001b[39mcls\u001b[39m\u001b[39m=\u001b[39m\u001b[39mNone\u001b[39;00m, object_hook\u001b[39m=\u001b[39m\u001b[39mNone\u001b[39;00m, parse_float\u001b[39m=\u001b[39m\u001b[39mNone\u001b[39;00m,\n\u001b[0;32m    275\u001b[0m         parse_int\u001b[39m=\u001b[39m\u001b[39mNone\u001b[39;00m, parse_constant\u001b[39m=\u001b[39m\u001b[39mNone\u001b[39;00m, object_pairs_hook\u001b[39m=\u001b[39m\u001b[39mNone\u001b[39;00m, \u001b[39m*\u001b[39m\u001b[39m*\u001b[39mkw):\n\u001b[0;32m    276\u001b[0m \u001b[39m    \u001b[39m\u001b[39m\"\"\"Deserialize ``fp`` (a ``.read()``-supporting file-like object containing\u001b[39;00m\n\u001b[0;32m    277\u001b[0m \u001b[39m    a JSON document) to a Python object.\u001b[39;00m\n\u001b[0;32m    278\u001b[0m \n\u001b[1;32m   (...)\u001b[0m\n\u001b[0;32m    291\u001b[0m \u001b[39m    kwarg; otherwise ``JSONDecoder`` is used.\u001b[39;00m\n\u001b[0;32m    292\u001b[0m \u001b[39m    \"\"\"\u001b[39;00m\n\u001b[1;32m--> 293\u001b[0m     \u001b[39mreturn\u001b[39;00m loads(fp\u001b[39m.\u001b[39;49mread(),\n\u001b[0;32m    294\u001b[0m         \u001b[39mcls\u001b[39m\u001b[39m=\u001b[39m\u001b[39mcls\u001b[39m, object_hook\u001b[39m=\u001b[39mobject_hook,\n\u001b[0;32m    295\u001b[0m         parse_float\u001b[39m=\u001b[39mparse_float, parse_int\u001b[39m=\u001b[39mparse_int,\n\u001b[0;32m    296\u001b[0m         parse_constant\u001b[39m=\u001b[39mparse_constant, object_pairs_hook\u001b[39m=\u001b[39mobject_pairs_hook, \u001b[39m*\u001b[39m\u001b[39m*\u001b[39mkw)\n",
      "\u001b[1;31mUnicodeDecodeError\u001b[0m: 'euc_kr' codec can't decode byte 0xff in position 0: illegal multibyte sequence"
     ]
    }
   ],
   "source": [
    "import cv2\n",
    "import json\n",
    "import codecs\n",
    "\n",
    "data = []\n",
    "\n",
    "for i, file in enumerate(image_files):\n",
    "    img = cv2.imread(data_dir+image_files[i])\n",
    "    with open(data_dir+json_files[i], 'r', encoding='euc-kr') as f:\n",
    "        json_data = json.load(f)\n",
    "        info = json_data['information']\n",
    "    data.append([img, info])"
   ]
  },
  {
   "cell_type": "code",
   "execution_count": null,
   "metadata": {},
   "outputs": [],
   "source": [
    "from sklearn.model_selection import train_test_split\n",
    "\n",
    "train_data, test_data = train_test_split(data, test_size=0.1, random_state=42)\n",
    "train_data, val_data = train_test_split(train_data, test_size=0.1, random_state=42)"
   ]
  },
  {
   "cell_type": "code",
   "execution_count": null,
   "metadata": {},
   "outputs": [],
   "source": [
    "# 분류 모델을 import합니다\n",
    "from sklearn.linear_model import LogisticRegression\n",
    "from sklearn.discriminant_analysis import LinearDiscriminantAnalysis\n",
    "from sklearn.neighbors import KNeighborsClassifier\n",
    "from sklearn.tree import DecisionTreeClassifier\n",
    "from sklearn.ensemble import RandomForestClassifier\n",
    "from sklearn.naive_bayes import GaussianNB\n",
    "from sklearn.svm import SVC\n",
    "\n",
    "# 분류 모델과 하이퍼파라미터를 설정합니다\n",
    "model_LR = LogisticRegression(random_state=9)\n",
    "model_LDA = LinearDiscriminantAnalysis(solver='svd')\n",
    "model_KNN = KNeighborsClassifier(n_neighbors=5)\n",
    "model_DT = DecisionTreeClassifier(n_estimators=100)\n",
    "model_RF = RandomForestClassifier(n_estimators=200, random_state=0)\n",
    "model_GaussianNB = GaussianNB(var_smoothing=1e-09)\n",
    "model_SVM = SVC(kernel='linear', C=1, random_state=0)\n",
    "\n",
    "# 분류 모델들을 리스트에 담습니다\n",
    "models = [model_LR, model_LDA, model_KNN, model_DT, model_RF, model_GaussianNB, model_SVM]\n",
    "\n",
    "# 각 분류 모델을 학습시키고 예측 결과를 출력합니다\n",
    "for model in models:\n",
    "    model.fit(X_train, y_train)\n",
    "    y_pred = model.predict(X_test)\n",
    "    score = accuracy_score(y_test, y_pred)\n",
    "    print(f\"{model.__class__.__name__}: {score}\")"
   ]
  },
  {
   "cell_type": "code",
   "execution_count": null,
   "metadata": {},
   "outputs": [],
   "source": [
    "from tensorflow.keras import models\n",
    "from tensorflow.keras.layers import Conv2D, MaxPooling2D, Dropout, Flatten, Dense, BatchNormalization\n",
    "from tensorflow.keras.optimizers import Adam\n",
    "\n",
    "# Sequential 모델 생성\n",
    "model = models.Sequential()\n",
    "\n",
    "# 첫번째 Conv2D 레이어\n",
    "model.add(Conv2D(filters=32, kernel_size=(3, 3), activation='relu', padding='same', input_shape=(96,96,3)))\n",
    "model.add(BatchNormalization())\n",
    "model.add(MaxPooling2D(pool_size=(3, 3)))\n",
    "\n",
    "# 첫번째 Dropout 레이어\n",
    "model.add(Dropout(0.25))\n",
    "\n",
    "# 두번째 Conv2D 레이어\n",
    "model.add(Conv2D(filters=64, kernel_size=(3, 3), activation='relu', padding='same'))\n",
    "model.add(BatchNormalization())\n",
    "model.add(Conv2D(filters=64, kernel_size=(3, 3), activation='relu', padding='same'))\n",
    "model.add(BatchNormalization())\n",
    "model.add(MaxPooling2D(pool_size=(2, 2)))\n",
    "\n",
    "# 두번째 Dropout 레이어\n",
    "model.add(Dropout(0.25))\n",
    "\n",
    "# 세번째 Conv2D 레이어\n",
    "model.add(Conv2D(filters=128, kernel_size=(3, 3), activation='relu', padding='same'))\n",
    "model.add(BatchNormalization())\n",
    "model.add(Conv2D(filters=128, kernel_size=(3, 3), activation='relu', padding='same'))\n",
    "model.add(BatchNormalization())\n",
    "model.add(MaxPooling2D(pool_size=(2, 2)))\n",
    "\n",
    "# 세번째 Dropout 레이어\n",
    "model.add(Dropout(0.25))\n",
    "\n",
    "# Flatten 레이어\n",
    "model.add(Flatten())\n",
    "\n",
    "# 첫번째 Dense 레이어\n",
    "model.add(Dense(units=1024, activation='relu'))\n",
    "model.add(BatchNormalization())\n",
    "\n",
    "# 두번째 Dropout 레이어\n",
    "model.add(Dropout(0.5))\n",
    "\n",
    "# 두번째 Dense 레이어: 최종 출력 레이어\n",
    "model.add(Dense(units=7, activation='softmax'))\n",
    "\n",
    "# 모델 컴파일\n",
    "opt = Adam(lr=0.001, decay=0.00001)\n",
    "model.compile(loss='categorical_crossentropy', \n",
    "              optimizer=opt, \n",
    "              metrics=['accuracy'])\n",
    "\n",
    "# 모델 구조 요약\n",
    "model.summary()\n",
    "\n",
    "# 모델 학습\n",
    "epochs = 150\n",
    "batch_size = 32\n",
    "\n",
    "history = model.fit(train_data, epochs=epochs, batch_size=batch_size, validation_data=val_data)\n",
    "\n",
    "# 모델 평가\n",
    "test_loss, test_acc = model.evaluate(test_data)\n",
    "print(\"Test Loss:\", test_loss)\n",
    "print(\"Test Accuracy:\", test_acc)"
   ]
  }
 ],
 "metadata": {
  "kernelspec": {
   "display_name": "skin_disease",
   "language": "python",
   "name": "python3"
  },
  "language_info": {
   "codemirror_mode": {
    "name": "ipython",
    "version": 3
   },
   "file_extension": ".py",
   "mimetype": "text/x-python",
   "name": "python",
   "nbconvert_exporter": "python",
   "pygments_lexer": "ipython3",
   "version": "3.10.12"
  },
  "orig_nbformat": 4
 },
 "nbformat": 4,
 "nbformat_minor": 2
}
